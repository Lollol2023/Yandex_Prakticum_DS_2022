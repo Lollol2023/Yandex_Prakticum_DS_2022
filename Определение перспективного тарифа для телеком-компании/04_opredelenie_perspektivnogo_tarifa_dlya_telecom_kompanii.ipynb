{
 "cells": [
  {
   "cell_type": "markdown",
   "id": "fa84c332",
   "metadata": {},
   "source": [
    "# Описание проекта"
   ]
  },
  {
   "cell_type": "markdown",
   "id": "4e00e18f",
   "metadata": {},
   "source": [
    "\n",
    "Вы аналитик компании «Мегалайн» — федерального оператора сотовой связи. Клиентам предлагают два тарифных плана: «Смарт» и «Ультра». Чтобы скорректировать рекламный бюджет, коммерческий департамент хочет понять, какой тариф приносит больше денег.\n",
    "Вам предстоит сделать предварительный анализ тарифов на небольшой выборке клиентов. В вашем распоряжении данные 500 пользователей «Мегалайна»: кто они, откуда, каким тарифом пользуются, сколько звонков и сообщений каждый отправил за 2018 год. Нужно проанализировать поведение клиентов и сделать вывод — какой тариф лучше.\n"
   ]
  },
  {
   "cell_type": "markdown",
   "id": "036e4453",
   "metadata": {},
   "source": [
    "### Описание тарифов"
   ]
  },
  {
   "cell_type": "markdown",
   "id": "3ac91628",
   "metadata": {},
   "source": [
    "**Тариф «Смарт»**\n",
    "* Ежемесячная плата: 550 рублей\n",
    "* Включено 500 минут разговора, 50 сообщений и 15 Гб интернет-трафика\n",
    "* Стоимость услуг сверх тарифного пакета:\n",
    "* минута разговора: 3 рубля\n",
    "* сообщение: 3 рубля\n",
    "* 1 Гб интернет-трафика: 200 рублей\n",
    "\n",
    "**Тариф «Ультра»**\n",
    "* Ежемесячная плата: 1950 рублей\n",
    "* Включено 3000 минут разговора, 1000 сообщений и 30 Гб интернет-трафика\n",
    "* Стоимость услуг сверх тарифного пакета:\n",
    "* минута разговора: 1 рубль\n",
    "* сообщение: 1 рубль\n",
    "* 1 Гб интернет-трафика: 150 рублей\n",
    "\n",
    "**Примечание:**\n",
    "«Мегалайн» всегда округляет секунды до минут, а мегабайты — до гигабайт. \n",
    "\n",
    "Каждый звонок округляется отдельно: даже если он длился всего 1 секунду, будет засчитан как 1 минута.\n",
    "\n",
    "Для веб-трафика отдельные сессии не считаются. Вместо этого общая сумма за месяц округляется в бо́льшую сторону. \n",
    "\n",
    "Если абонент использует 1025 мегабайт в этом месяце, с него возьмут плату за 2 гигабайта.\n",
    "\n",
    "\n",
    "#### Инструкция по выполнению проекта ####\n",
    "\n",
    "\n",
    "**Подготовьте данные**\n",
    "Приведите данные к нужным типам;\n",
    "Найдите и исправьте ошибки в данных, если они есть.\n",
    "Поясните, какие ошибки вы нашли и как их исправили. В данных вы найдёте звонки с нулевой продолжительностью. Это не ошибка: нулями обозначены пропущенные звонки, поэтому их не нужно удалять.\n",
    "Посчитайте для каждого пользователя:\n",
    "количество сделанных звонков и израсходованных минут разговора по месяцам;\n",
    "количество отправленных сообщений по месяцам;\n",
    "объем израсходованного интернет-трафика по месяцам;\n",
    "помесячную выручку с каждого пользователя (вычтите бесплатный лимит из суммарного количества звонков, сообщений и интернет-трафика; остаток умножьте на значение из тарифного плана; прибавьте абонентскую плату, соответствующую тарифному плану).\n",
    "\n",
    "**Проанализируйте данные**\n",
    "Опишите поведение клиентов оператора, исходя из выборки. Сколько минут разговора, сколько сообщений и какой объём интернет-трафика требуется пользователям каждого тарифа в месяц? Посчитайте среднее количество, дисперсию и стандартное отклонение. Постройте гистограммы. Опишите распределения.\n",
    "\n",
    "**Проверьте гипотезы**\n",
    "средняя выручка пользователей тарифов «Ультра» и «Смарт» различаются;\n",
    "средняя выручка пользователей из Москвы отличается от выручки пользователей из других регионов.\n",
    "Пороговое значение alpha задайте самостоятельно.\n",
    "Поясните:\n",
    "как вы формулировали нулевую и альтернативную гипотезы;\n",
    "какой критерий использовали для проверки гипотез и почему.\n",
    "\n",
    "**Напишите общий вывод**\n",
    "Оформление: Задание выполните в Jupyter Notebook. Программный код заполните в ячейках типа code, текстовые пояснения — в ячейках типа markdown. Примените форматирование и заголовки.\n",
    "\n",
    "\n",
    "**Описание данных**\n",
    "Таблица users (информация о пользователях):\n",
    "* user_id — уникальный идентификатор пользователя\n",
    "* first_name — имя пользователя\n",
    "* last_name — фамилия пользователя\n",
    "* age — возраст пользователя (годы)\n",
    "* reg_date — дата подключения тарифа (день, месяц, год)\n",
    "* churn_date — дата прекращения пользования тарифом (если значение пропущено, то тариф ещё действовал на момент выгрузки данных)\n",
    "* city — город проживания пользователя\n",
    "* tariff — название тарифного плана\n",
    "* Таблица calls (информация о звонках):\n",
    "* id — уникальный номер звонка\n",
    "* call_date — дата звонка\n",
    "* duration — длительность звонка в минутах\n",
    "* user_id — идентификатор пользователя, сделавшего звонок\n",
    "* Таблица messages (информация о сообщениях):\n",
    "* id — уникальный номер сообщения\n",
    "* message_date — дата сообщения\n",
    "* user_id — идентификатор пользователя, отправившего сообщение\n",
    "* Таблица internet (информация об интернет-сессиях):\n",
    "* id — уникальный номер сессии\n",
    "* mb_used — объём потраченного за сессию интернет-трафика (в мегабайтах)\n",
    "* session_date — дата интернет-сессии\n",
    "* user_id — идентификатор пользователя\n",
    "* Таблица tariffs (информация о тарифах):\n",
    "* tariff_name — название тарифа\n",
    "* rub_monthly_fee — ежемесячная абонентская плата в рублях\n",
    "* minutes_included — количество минут разговора в месяц, включённых в абонентскую плату\n",
    "* messages_included — количество сообщений в месяц, включённых в абонентскую плату\n",
    "* mb_per_month_included — объём интернет-трафика, включённого в абонентскую плату (в мегабайтах)\n",
    "* rub_per_minute — стоимость минуты разговора сверх тарифного пакета (например, если в тарифе 100 минут разговора в месяц, то со 101 минуты будет взиматься плата)\n",
    "* rub_per_message — стоимость отправки сообщения сверх тарифного пакета\n",
    "* rub_per_gb — стоимость дополнительного гигабайта интернет-трафика сверх тарифного пакета (1 гигабайт = 1024 мегабайта)\n"
   ]
  },
  {
   "cell_type": "markdown",
   "id": "9c5a2ff9",
   "metadata": {},
   "source": [
    "<div class=\"alert alert-warning\", style=\"border:solid coral 3px; padding: 20px\">\n",
    "<font size=\"4\", color = \"DimGrey\"><b>⚠️ Комментарий ревьюера</b></font>\n",
    "    <br /> \n",
    "    <font size=\"3\", color = \"black\">\n",
    "<br />\n",
    "Краткое вступление в работу и главная задача зафиксированы. \n",
    "        \n",
    "Название, четкий план работ и перечень основных задач позволит коллегам быстрее вникнуть в суть проекта, и будет легче  идти к главной цели проекта"
   ]
  },
  {
   "cell_type": "markdown",
   "id": "ebfa7a35",
   "metadata": {},
   "source": [
    "<div class=\"alert alert-info\"> \n",
    "    Привет, Ринат! Спасибо за столь подробные советы и рекомендации! Надеюсь, смогу все применить на практике!\n",
    "    Добавила описание задания целиком :) </div>"
   ]
  },
  {
   "cell_type": "markdown",
   "id": "a64d3e41",
   "metadata": {},
   "source": [
    "<div class=\"alert alert-success\">\n",
    "<font size=\"4\"><b>Комментарий ревьюера в2</b></font>\n",
    "    <br /> \n",
    "    <font size=\"3\", color = \"black\">\n",
    "<br />\n",
    "    Привет :) все нормально, вместе сможем :)"
   ]
  },
  {
   "cell_type": "markdown",
   "id": "641ff3b6",
   "metadata": {},
   "source": [
    "## Этап 1 Изучение данных"
   ]
  },
  {
   "cell_type": "markdown",
   "id": "d8479568",
   "metadata": {},
   "source": [
    "### Шаг 1. Откройте файл с данными и изучите общую информацию"
   ]
  },
  {
   "cell_type": "code",
   "execution_count": 1,
   "id": "b15cd0c4",
   "metadata": {},
   "outputs": [],
   "source": [
    "import pandas as pd\n",
    "import matplotlib.pyplot as plt\n",
    "import numpy as np\n",
    "from datetime import datetime\n",
    "from scipy import stats as st\n",
    "\n",
    "users = pd.read_csv('/datasets/users.csv')\n",
    "calls = pd.read_csv('/datasets/calls.csv')\n",
    "messages = pd.read_csv('/datasets/messages.csv')\n",
    "internet = pd.read_csv('/datasets/internet.csv', index_col=[0])\n",
    "tariffs = pd.read_csv('/datasets/tariffs.csv')\n"
   ]
  },
  {
   "cell_type": "code",
   "execution_count": 2,
   "id": "d9544148",
   "metadata": {},
   "outputs": [
    {
     "data": {
      "text/html": [
       "<div>\n",
       "<style scoped>\n",
       "    .dataframe tbody tr th:only-of-type {\n",
       "        vertical-align: middle;\n",
       "    }\n",
       "\n",
       "    .dataframe tbody tr th {\n",
       "        vertical-align: top;\n",
       "    }\n",
       "\n",
       "    .dataframe thead th {\n",
       "        text-align: right;\n",
       "    }\n",
       "</style>\n",
       "<table border=\"1\" class=\"dataframe\">\n",
       "  <thead>\n",
       "    <tr style=\"text-align: right;\">\n",
       "      <th></th>\n",
       "      <th>user_id</th>\n",
       "      <th>age</th>\n",
       "      <th>churn_date</th>\n",
       "      <th>city</th>\n",
       "      <th>first_name</th>\n",
       "      <th>last_name</th>\n",
       "      <th>reg_date</th>\n",
       "      <th>tariff</th>\n",
       "    </tr>\n",
       "  </thead>\n",
       "  <tbody>\n",
       "    <tr>\n",
       "      <th>0</th>\n",
       "      <td>1000</td>\n",
       "      <td>52</td>\n",
       "      <td>NaN</td>\n",
       "      <td>Краснодар</td>\n",
       "      <td>Рафаил</td>\n",
       "      <td>Верещагин</td>\n",
       "      <td>2018-05-25</td>\n",
       "      <td>ultra</td>\n",
       "    </tr>\n",
       "    <tr>\n",
       "      <th>1</th>\n",
       "      <td>1001</td>\n",
       "      <td>41</td>\n",
       "      <td>NaN</td>\n",
       "      <td>Москва</td>\n",
       "      <td>Иван</td>\n",
       "      <td>Ежов</td>\n",
       "      <td>2018-11-01</td>\n",
       "      <td>smart</td>\n",
       "    </tr>\n",
       "    <tr>\n",
       "      <th>2</th>\n",
       "      <td>1002</td>\n",
       "      <td>59</td>\n",
       "      <td>NaN</td>\n",
       "      <td>Стерлитамак</td>\n",
       "      <td>Евгений</td>\n",
       "      <td>Абрамович</td>\n",
       "      <td>2018-06-17</td>\n",
       "      <td>smart</td>\n",
       "    </tr>\n",
       "    <tr>\n",
       "      <th>3</th>\n",
       "      <td>1003</td>\n",
       "      <td>23</td>\n",
       "      <td>NaN</td>\n",
       "      <td>Москва</td>\n",
       "      <td>Белла</td>\n",
       "      <td>Белякова</td>\n",
       "      <td>2018-08-17</td>\n",
       "      <td>ultra</td>\n",
       "    </tr>\n",
       "    <tr>\n",
       "      <th>4</th>\n",
       "      <td>1004</td>\n",
       "      <td>68</td>\n",
       "      <td>NaN</td>\n",
       "      <td>Новокузнецк</td>\n",
       "      <td>Татьяна</td>\n",
       "      <td>Авдеенко</td>\n",
       "      <td>2018-05-14</td>\n",
       "      <td>ultra</td>\n",
       "    </tr>\n",
       "  </tbody>\n",
       "</table>\n",
       "</div>"
      ],
      "text/plain": [
       "   user_id  age churn_date         city first_name  last_name    reg_date  \\\n",
       "0     1000   52        NaN    Краснодар     Рафаил  Верещагин  2018-05-25   \n",
       "1     1001   41        NaN       Москва       Иван       Ежов  2018-11-01   \n",
       "2     1002   59        NaN  Стерлитамак    Евгений  Абрамович  2018-06-17   \n",
       "3     1003   23        NaN       Москва      Белла   Белякова  2018-08-17   \n",
       "4     1004   68        NaN  Новокузнецк    Татьяна   Авдеенко  2018-05-14   \n",
       "\n",
       "  tariff  \n",
       "0  ultra  \n",
       "1  smart  \n",
       "2  smart  \n",
       "3  ultra  \n",
       "4  ultra  "
      ]
     },
     "metadata": {},
     "output_type": "display_data"
    }
   ],
   "source": [
    "#Изучим общую инфу относительно таблицы users\n",
    "display(users.head())"
   ]
  },
  {
   "cell_type": "code",
   "execution_count": 3,
   "id": "56a64e83",
   "metadata": {},
   "outputs": [
    {
     "data": {
      "text/html": [
       "<div>\n",
       "<style scoped>\n",
       "    .dataframe tbody tr th:only-of-type {\n",
       "        vertical-align: middle;\n",
       "    }\n",
       "\n",
       "    .dataframe tbody tr th {\n",
       "        vertical-align: top;\n",
       "    }\n",
       "\n",
       "    .dataframe thead th {\n",
       "        text-align: right;\n",
       "    }\n",
       "</style>\n",
       "<table border=\"1\" class=\"dataframe\">\n",
       "  <thead>\n",
       "    <tr style=\"text-align: right;\">\n",
       "      <th></th>\n",
       "      <th>user_id</th>\n",
       "      <th>age</th>\n",
       "    </tr>\n",
       "  </thead>\n",
       "  <tbody>\n",
       "    <tr>\n",
       "      <th>count</th>\n",
       "      <td>500.000000</td>\n",
       "      <td>500.00000</td>\n",
       "    </tr>\n",
       "    <tr>\n",
       "      <th>mean</th>\n",
       "      <td>1249.500000</td>\n",
       "      <td>46.58800</td>\n",
       "    </tr>\n",
       "    <tr>\n",
       "      <th>std</th>\n",
       "      <td>144.481833</td>\n",
       "      <td>16.66763</td>\n",
       "    </tr>\n",
       "    <tr>\n",
       "      <th>min</th>\n",
       "      <td>1000.000000</td>\n",
       "      <td>18.00000</td>\n",
       "    </tr>\n",
       "    <tr>\n",
       "      <th>25%</th>\n",
       "      <td>1124.750000</td>\n",
       "      <td>32.00000</td>\n",
       "    </tr>\n",
       "    <tr>\n",
       "      <th>50%</th>\n",
       "      <td>1249.500000</td>\n",
       "      <td>46.00000</td>\n",
       "    </tr>\n",
       "    <tr>\n",
       "      <th>75%</th>\n",
       "      <td>1374.250000</td>\n",
       "      <td>62.00000</td>\n",
       "    </tr>\n",
       "    <tr>\n",
       "      <th>max</th>\n",
       "      <td>1499.000000</td>\n",
       "      <td>75.00000</td>\n",
       "    </tr>\n",
       "  </tbody>\n",
       "</table>\n",
       "</div>"
      ],
      "text/plain": [
       "           user_id        age\n",
       "count   500.000000  500.00000\n",
       "mean   1249.500000   46.58800\n",
       "std     144.481833   16.66763\n",
       "min    1000.000000   18.00000\n",
       "25%    1124.750000   32.00000\n",
       "50%    1249.500000   46.00000\n",
       "75%    1374.250000   62.00000\n",
       "max    1499.000000   75.00000"
      ]
     },
     "metadata": {},
     "output_type": "display_data"
    }
   ],
   "source": [
    "display(users.describe())"
   ]
  },
  {
   "cell_type": "code",
   "execution_count": 4,
   "id": "fc476727",
   "metadata": {
    "scrolled": true
   },
   "outputs": [
    {
     "name": "stdout",
     "output_type": "stream",
     "text": [
      "<class 'pandas.core.frame.DataFrame'>\n",
      "RangeIndex: 500 entries, 0 to 499\n",
      "Data columns (total 8 columns):\n",
      " #   Column      Non-Null Count  Dtype \n",
      "---  ------      --------------  ----- \n",
      " 0   user_id     500 non-null    int64 \n",
      " 1   age         500 non-null    int64 \n",
      " 2   churn_date  38 non-null     object\n",
      " 3   city        500 non-null    object\n",
      " 4   first_name  500 non-null    object\n",
      " 5   last_name   500 non-null    object\n",
      " 6   reg_date    500 non-null    object\n",
      " 7   tariff      500 non-null    object\n",
      "dtypes: int64(2), object(6)\n",
      "memory usage: 31.4+ KB\n"
     ]
    },
    {
     "data": {
      "text/plain": [
       "None"
      ]
     },
     "metadata": {},
     "output_type": "display_data"
    }
   ],
   "source": [
    "display(users.info())"
   ]
  },
  {
   "cell_type": "code",
   "execution_count": 5,
   "id": "59ee199d",
   "metadata": {},
   "outputs": [
    {
     "data": {
      "text/html": [
       "<div>\n",
       "<style scoped>\n",
       "    .dataframe tbody tr th:only-of-type {\n",
       "        vertical-align: middle;\n",
       "    }\n",
       "\n",
       "    .dataframe tbody tr th {\n",
       "        vertical-align: top;\n",
       "    }\n",
       "\n",
       "    .dataframe thead th {\n",
       "        text-align: right;\n",
       "    }\n",
       "</style>\n",
       "<table border=\"1\" class=\"dataframe\">\n",
       "  <thead>\n",
       "    <tr style=\"text-align: right;\">\n",
       "      <th></th>\n",
       "      <th>id</th>\n",
       "      <th>call_date</th>\n",
       "      <th>duration</th>\n",
       "      <th>user_id</th>\n",
       "    </tr>\n",
       "  </thead>\n",
       "  <tbody>\n",
       "    <tr>\n",
       "      <th>0</th>\n",
       "      <td>1000_0</td>\n",
       "      <td>2018-07-25</td>\n",
       "      <td>0.00</td>\n",
       "      <td>1000</td>\n",
       "    </tr>\n",
       "    <tr>\n",
       "      <th>1</th>\n",
       "      <td>1000_1</td>\n",
       "      <td>2018-08-17</td>\n",
       "      <td>0.00</td>\n",
       "      <td>1000</td>\n",
       "    </tr>\n",
       "    <tr>\n",
       "      <th>2</th>\n",
       "      <td>1000_2</td>\n",
       "      <td>2018-06-11</td>\n",
       "      <td>2.85</td>\n",
       "      <td>1000</td>\n",
       "    </tr>\n",
       "    <tr>\n",
       "      <th>3</th>\n",
       "      <td>1000_3</td>\n",
       "      <td>2018-09-21</td>\n",
       "      <td>13.80</td>\n",
       "      <td>1000</td>\n",
       "    </tr>\n",
       "    <tr>\n",
       "      <th>4</th>\n",
       "      <td>1000_4</td>\n",
       "      <td>2018-12-15</td>\n",
       "      <td>5.18</td>\n",
       "      <td>1000</td>\n",
       "    </tr>\n",
       "  </tbody>\n",
       "</table>\n",
       "</div>"
      ],
      "text/plain": [
       "       id   call_date  duration  user_id\n",
       "0  1000_0  2018-07-25      0.00     1000\n",
       "1  1000_1  2018-08-17      0.00     1000\n",
       "2  1000_2  2018-06-11      2.85     1000\n",
       "3  1000_3  2018-09-21     13.80     1000\n",
       "4  1000_4  2018-12-15      5.18     1000"
      ]
     },
     "metadata": {},
     "output_type": "display_data"
    }
   ],
   "source": [
    "#Изучим общую инфу относительно таблицы calls\n",
    "display(calls.head())"
   ]
  },
  {
   "cell_type": "code",
   "execution_count": 6,
   "id": "899028de",
   "metadata": {},
   "outputs": [
    {
     "data": {
      "text/html": [
       "<div>\n",
       "<style scoped>\n",
       "    .dataframe tbody tr th:only-of-type {\n",
       "        vertical-align: middle;\n",
       "    }\n",
       "\n",
       "    .dataframe tbody tr th {\n",
       "        vertical-align: top;\n",
       "    }\n",
       "\n",
       "    .dataframe thead th {\n",
       "        text-align: right;\n",
       "    }\n",
       "</style>\n",
       "<table border=\"1\" class=\"dataframe\">\n",
       "  <thead>\n",
       "    <tr style=\"text-align: right;\">\n",
       "      <th></th>\n",
       "      <th>duration</th>\n",
       "      <th>user_id</th>\n",
       "    </tr>\n",
       "  </thead>\n",
       "  <tbody>\n",
       "    <tr>\n",
       "      <th>count</th>\n",
       "      <td>202607.000000</td>\n",
       "      <td>202607.000000</td>\n",
       "    </tr>\n",
       "    <tr>\n",
       "      <th>mean</th>\n",
       "      <td>6.755887</td>\n",
       "      <td>1253.940619</td>\n",
       "    </tr>\n",
       "    <tr>\n",
       "      <th>std</th>\n",
       "      <td>5.843365</td>\n",
       "      <td>144.722751</td>\n",
       "    </tr>\n",
       "    <tr>\n",
       "      <th>min</th>\n",
       "      <td>0.000000</td>\n",
       "      <td>1000.000000</td>\n",
       "    </tr>\n",
       "    <tr>\n",
       "      <th>25%</th>\n",
       "      <td>1.300000</td>\n",
       "      <td>1126.000000</td>\n",
       "    </tr>\n",
       "    <tr>\n",
       "      <th>50%</th>\n",
       "      <td>6.000000</td>\n",
       "      <td>1260.000000</td>\n",
       "    </tr>\n",
       "    <tr>\n",
       "      <th>75%</th>\n",
       "      <td>10.700000</td>\n",
       "      <td>1379.000000</td>\n",
       "    </tr>\n",
       "    <tr>\n",
       "      <th>max</th>\n",
       "      <td>38.000000</td>\n",
       "      <td>1499.000000</td>\n",
       "    </tr>\n",
       "  </tbody>\n",
       "</table>\n",
       "</div>"
      ],
      "text/plain": [
       "            duration        user_id\n",
       "count  202607.000000  202607.000000\n",
       "mean        6.755887    1253.940619\n",
       "std         5.843365     144.722751\n",
       "min         0.000000    1000.000000\n",
       "25%         1.300000    1126.000000\n",
       "50%         6.000000    1260.000000\n",
       "75%        10.700000    1379.000000\n",
       "max        38.000000    1499.000000"
      ]
     },
     "metadata": {},
     "output_type": "display_data"
    }
   ],
   "source": [
    "display(calls.describe())"
   ]
  },
  {
   "cell_type": "code",
   "execution_count": 7,
   "id": "643740c3",
   "metadata": {
    "scrolled": false
   },
   "outputs": [
    {
     "name": "stdout",
     "output_type": "stream",
     "text": [
      "<class 'pandas.core.frame.DataFrame'>\n",
      "RangeIndex: 202607 entries, 0 to 202606\n",
      "Data columns (total 4 columns):\n",
      " #   Column     Non-Null Count   Dtype  \n",
      "---  ------     --------------   -----  \n",
      " 0   id         202607 non-null  object \n",
      " 1   call_date  202607 non-null  object \n",
      " 2   duration   202607 non-null  float64\n",
      " 3   user_id    202607 non-null  int64  \n",
      "dtypes: float64(1), int64(1), object(2)\n",
      "memory usage: 6.2+ MB\n"
     ]
    },
    {
     "data": {
      "text/plain": [
       "None"
      ]
     },
     "metadata": {},
     "output_type": "display_data"
    }
   ],
   "source": [
    "display(calls.info())"
   ]
  },
  {
   "cell_type": "code",
   "execution_count": 8,
   "id": "2225f2b0",
   "metadata": {},
   "outputs": [
    {
     "data": {
      "text/plain": [
       "2018-12-31    1435\n",
       "2018-12-29    1202\n",
       "2018-12-30    1192\n",
       "2018-12-22    1158\n",
       "2018-12-26    1149\n",
       "              ... \n",
       "2018-01-05      20\n",
       "2018-01-07      18\n",
       "2018-01-02       9\n",
       "2018-01-03       7\n",
       "2018-01-01       5\n",
       "Name: call_date, Length: 365, dtype: int64"
      ]
     },
     "metadata": {},
     "output_type": "display_data"
    }
   ],
   "source": [
    "display(calls['call_date'].value_counts())"
   ]
  },
  {
   "cell_type": "code",
   "execution_count": 9,
   "id": "134aae4a",
   "metadata": {},
   "outputs": [
    {
     "data": {
      "text/html": [
       "<div>\n",
       "<style scoped>\n",
       "    .dataframe tbody tr th:only-of-type {\n",
       "        vertical-align: middle;\n",
       "    }\n",
       "\n",
       "    .dataframe tbody tr th {\n",
       "        vertical-align: top;\n",
       "    }\n",
       "\n",
       "    .dataframe thead th {\n",
       "        text-align: right;\n",
       "    }\n",
       "</style>\n",
       "<table border=\"1\" class=\"dataframe\">\n",
       "  <thead>\n",
       "    <tr style=\"text-align: right;\">\n",
       "      <th></th>\n",
       "      <th>id</th>\n",
       "      <th>message_date</th>\n",
       "      <th>user_id</th>\n",
       "    </tr>\n",
       "  </thead>\n",
       "  <tbody>\n",
       "    <tr>\n",
       "      <th>0</th>\n",
       "      <td>1000_0</td>\n",
       "      <td>2018-06-27</td>\n",
       "      <td>1000</td>\n",
       "    </tr>\n",
       "    <tr>\n",
       "      <th>1</th>\n",
       "      <td>1000_1</td>\n",
       "      <td>2018-10-08</td>\n",
       "      <td>1000</td>\n",
       "    </tr>\n",
       "    <tr>\n",
       "      <th>2</th>\n",
       "      <td>1000_2</td>\n",
       "      <td>2018-08-04</td>\n",
       "      <td>1000</td>\n",
       "    </tr>\n",
       "    <tr>\n",
       "      <th>3</th>\n",
       "      <td>1000_3</td>\n",
       "      <td>2018-06-16</td>\n",
       "      <td>1000</td>\n",
       "    </tr>\n",
       "    <tr>\n",
       "      <th>4</th>\n",
       "      <td>1000_4</td>\n",
       "      <td>2018-12-05</td>\n",
       "      <td>1000</td>\n",
       "    </tr>\n",
       "  </tbody>\n",
       "</table>\n",
       "</div>"
      ],
      "text/plain": [
       "       id message_date  user_id\n",
       "0  1000_0   2018-06-27     1000\n",
       "1  1000_1   2018-10-08     1000\n",
       "2  1000_2   2018-08-04     1000\n",
       "3  1000_3   2018-06-16     1000\n",
       "4  1000_4   2018-12-05     1000"
      ]
     },
     "metadata": {},
     "output_type": "display_data"
    }
   ],
   "source": [
    "#Изучим общую инфу относительно таблицы messages\n",
    "display(messages.head())"
   ]
  },
  {
   "cell_type": "code",
   "execution_count": 10,
   "id": "78b1ba60",
   "metadata": {},
   "outputs": [
    {
     "name": "stdout",
     "output_type": "stream",
     "text": [
      "<class 'pandas.core.frame.DataFrame'>\n",
      "RangeIndex: 123036 entries, 0 to 123035\n",
      "Data columns (total 3 columns):\n",
      " #   Column        Non-Null Count   Dtype \n",
      "---  ------        --------------   ----- \n",
      " 0   id            123036 non-null  object\n",
      " 1   message_date  123036 non-null  object\n",
      " 2   user_id       123036 non-null  int64 \n",
      "dtypes: int64(1), object(2)\n",
      "memory usage: 2.8+ MB\n"
     ]
    },
    {
     "data": {
      "text/plain": [
       "None"
      ]
     },
     "metadata": {},
     "output_type": "display_data"
    }
   ],
   "source": [
    "display(messages.info())"
   ]
  },
  {
   "cell_type": "code",
   "execution_count": 11,
   "id": "fd76e959",
   "metadata": {},
   "outputs": [
    {
     "data": {
      "text/html": [
       "<div>\n",
       "<style scoped>\n",
       "    .dataframe tbody tr th:only-of-type {\n",
       "        vertical-align: middle;\n",
       "    }\n",
       "\n",
       "    .dataframe tbody tr th {\n",
       "        vertical-align: top;\n",
       "    }\n",
       "\n",
       "    .dataframe thead th {\n",
       "        text-align: right;\n",
       "    }\n",
       "</style>\n",
       "<table border=\"1\" class=\"dataframe\">\n",
       "  <thead>\n",
       "    <tr style=\"text-align: right;\">\n",
       "      <th></th>\n",
       "      <th>id</th>\n",
       "      <th>mb_used</th>\n",
       "      <th>session_date</th>\n",
       "      <th>user_id</th>\n",
       "    </tr>\n",
       "  </thead>\n",
       "  <tbody>\n",
       "    <tr>\n",
       "      <th>0</th>\n",
       "      <td>1000_0</td>\n",
       "      <td>112.95</td>\n",
       "      <td>2018-11-25</td>\n",
       "      <td>1000</td>\n",
       "    </tr>\n",
       "    <tr>\n",
       "      <th>1</th>\n",
       "      <td>1000_1</td>\n",
       "      <td>1052.81</td>\n",
       "      <td>2018-09-07</td>\n",
       "      <td>1000</td>\n",
       "    </tr>\n",
       "    <tr>\n",
       "      <th>2</th>\n",
       "      <td>1000_2</td>\n",
       "      <td>1197.26</td>\n",
       "      <td>2018-06-25</td>\n",
       "      <td>1000</td>\n",
       "    </tr>\n",
       "    <tr>\n",
       "      <th>3</th>\n",
       "      <td>1000_3</td>\n",
       "      <td>550.27</td>\n",
       "      <td>2018-08-22</td>\n",
       "      <td>1000</td>\n",
       "    </tr>\n",
       "    <tr>\n",
       "      <th>4</th>\n",
       "      <td>1000_4</td>\n",
       "      <td>302.56</td>\n",
       "      <td>2018-09-24</td>\n",
       "      <td>1000</td>\n",
       "    </tr>\n",
       "  </tbody>\n",
       "</table>\n",
       "</div>"
      ],
      "text/plain": [
       "       id  mb_used session_date  user_id\n",
       "0  1000_0   112.95   2018-11-25     1000\n",
       "1  1000_1  1052.81   2018-09-07     1000\n",
       "2  1000_2  1197.26   2018-06-25     1000\n",
       "3  1000_3   550.27   2018-08-22     1000\n",
       "4  1000_4   302.56   2018-09-24     1000"
      ]
     },
     "metadata": {},
     "output_type": "display_data"
    }
   ],
   "source": [
    "#Изучим общую инфу относительно таблицы internet\n",
    "display(internet.head())"
   ]
  },
  {
   "cell_type": "code",
   "execution_count": 12,
   "id": "0340dc79",
   "metadata": {},
   "outputs": [
    {
     "data": {
      "text/html": [
       "<div>\n",
       "<style scoped>\n",
       "    .dataframe tbody tr th:only-of-type {\n",
       "        vertical-align: middle;\n",
       "    }\n",
       "\n",
       "    .dataframe tbody tr th {\n",
       "        vertical-align: top;\n",
       "    }\n",
       "\n",
       "    .dataframe thead th {\n",
       "        text-align: right;\n",
       "    }\n",
       "</style>\n",
       "<table border=\"1\" class=\"dataframe\">\n",
       "  <thead>\n",
       "    <tr style=\"text-align: right;\">\n",
       "      <th></th>\n",
       "      <th>mb_used</th>\n",
       "      <th>user_id</th>\n",
       "    </tr>\n",
       "  </thead>\n",
       "  <tbody>\n",
       "    <tr>\n",
       "      <th>count</th>\n",
       "      <td>149396.000000</td>\n",
       "      <td>149396.000000</td>\n",
       "    </tr>\n",
       "    <tr>\n",
       "      <th>mean</th>\n",
       "      <td>370.192426</td>\n",
       "      <td>1252.099842</td>\n",
       "    </tr>\n",
       "    <tr>\n",
       "      <th>std</th>\n",
       "      <td>278.300951</td>\n",
       "      <td>144.050823</td>\n",
       "    </tr>\n",
       "    <tr>\n",
       "      <th>min</th>\n",
       "      <td>0.000000</td>\n",
       "      <td>1000.000000</td>\n",
       "    </tr>\n",
       "    <tr>\n",
       "      <th>25%</th>\n",
       "      <td>138.187500</td>\n",
       "      <td>1130.000000</td>\n",
       "    </tr>\n",
       "    <tr>\n",
       "      <th>50%</th>\n",
       "      <td>348.015000</td>\n",
       "      <td>1251.000000</td>\n",
       "    </tr>\n",
       "    <tr>\n",
       "      <th>75%</th>\n",
       "      <td>559.552500</td>\n",
       "      <td>1380.000000</td>\n",
       "    </tr>\n",
       "    <tr>\n",
       "      <th>max</th>\n",
       "      <td>1724.830000</td>\n",
       "      <td>1499.000000</td>\n",
       "    </tr>\n",
       "  </tbody>\n",
       "</table>\n",
       "</div>"
      ],
      "text/plain": [
       "             mb_used        user_id\n",
       "count  149396.000000  149396.000000\n",
       "mean      370.192426    1252.099842\n",
       "std       278.300951     144.050823\n",
       "min         0.000000    1000.000000\n",
       "25%       138.187500    1130.000000\n",
       "50%       348.015000    1251.000000\n",
       "75%       559.552500    1380.000000\n",
       "max      1724.830000    1499.000000"
      ]
     },
     "metadata": {},
     "output_type": "display_data"
    }
   ],
   "source": [
    "display(internet.describe())"
   ]
  },
  {
   "cell_type": "code",
   "execution_count": 13,
   "id": "6d0569ab",
   "metadata": {},
   "outputs": [
    {
     "name": "stdout",
     "output_type": "stream",
     "text": [
      "<class 'pandas.core.frame.DataFrame'>\n",
      "Int64Index: 149396 entries, 0 to 149395\n",
      "Data columns (total 4 columns):\n",
      " #   Column        Non-Null Count   Dtype  \n",
      "---  ------        --------------   -----  \n",
      " 0   id            149396 non-null  object \n",
      " 1   mb_used       149396 non-null  float64\n",
      " 2   session_date  149396 non-null  object \n",
      " 3   user_id       149396 non-null  int64  \n",
      "dtypes: float64(1), int64(1), object(2)\n",
      "memory usage: 5.7+ MB\n"
     ]
    },
    {
     "data": {
      "text/plain": [
       "None"
      ]
     },
     "metadata": {},
     "output_type": "display_data"
    }
   ],
   "source": [
    "display(internet.info())"
   ]
  },
  {
   "cell_type": "code",
   "execution_count": 14,
   "id": "71670697",
   "metadata": {},
   "outputs": [
    {
     "data": {
      "text/html": [
       "<div>\n",
       "<style scoped>\n",
       "    .dataframe tbody tr th:only-of-type {\n",
       "        vertical-align: middle;\n",
       "    }\n",
       "\n",
       "    .dataframe tbody tr th {\n",
       "        vertical-align: top;\n",
       "    }\n",
       "\n",
       "    .dataframe thead th {\n",
       "        text-align: right;\n",
       "    }\n",
       "</style>\n",
       "<table border=\"1\" class=\"dataframe\">\n",
       "  <thead>\n",
       "    <tr style=\"text-align: right;\">\n",
       "      <th></th>\n",
       "      <th>messages_included</th>\n",
       "      <th>mb_per_month_included</th>\n",
       "      <th>minutes_included</th>\n",
       "      <th>rub_monthly_fee</th>\n",
       "      <th>rub_per_gb</th>\n",
       "      <th>rub_per_message</th>\n",
       "      <th>rub_per_minute</th>\n",
       "      <th>tariff_name</th>\n",
       "    </tr>\n",
       "  </thead>\n",
       "  <tbody>\n",
       "    <tr>\n",
       "      <th>0</th>\n",
       "      <td>50</td>\n",
       "      <td>15360</td>\n",
       "      <td>500</td>\n",
       "      <td>550</td>\n",
       "      <td>200</td>\n",
       "      <td>3</td>\n",
       "      <td>3</td>\n",
       "      <td>smart</td>\n",
       "    </tr>\n",
       "    <tr>\n",
       "      <th>1</th>\n",
       "      <td>1000</td>\n",
       "      <td>30720</td>\n",
       "      <td>3000</td>\n",
       "      <td>1950</td>\n",
       "      <td>150</td>\n",
       "      <td>1</td>\n",
       "      <td>1</td>\n",
       "      <td>ultra</td>\n",
       "    </tr>\n",
       "  </tbody>\n",
       "</table>\n",
       "</div>"
      ],
      "text/plain": [
       "   messages_included  mb_per_month_included  minutes_included  \\\n",
       "0                 50                  15360               500   \n",
       "1               1000                  30720              3000   \n",
       "\n",
       "   rub_monthly_fee  rub_per_gb  rub_per_message  rub_per_minute tariff_name  \n",
       "0              550         200                3               3       smart  \n",
       "1             1950         150                1               1       ultra  "
      ]
     },
     "metadata": {},
     "output_type": "display_data"
    }
   ],
   "source": [
    "#Изучим общую инфу относительно таблицы tariffs\n",
    "display(tariffs.head())"
   ]
  },
  {
   "cell_type": "code",
   "execution_count": 15,
   "id": "ab5a9a0e",
   "metadata": {},
   "outputs": [
    {
     "data": {
      "text/html": [
       "<div>\n",
       "<style scoped>\n",
       "    .dataframe tbody tr th:only-of-type {\n",
       "        vertical-align: middle;\n",
       "    }\n",
       "\n",
       "    .dataframe tbody tr th {\n",
       "        vertical-align: top;\n",
       "    }\n",
       "\n",
       "    .dataframe thead th {\n",
       "        text-align: right;\n",
       "    }\n",
       "</style>\n",
       "<table border=\"1\" class=\"dataframe\">\n",
       "  <thead>\n",
       "    <tr style=\"text-align: right;\">\n",
       "      <th></th>\n",
       "      <th>messages_included</th>\n",
       "      <th>mb_per_month_included</th>\n",
       "      <th>minutes_included</th>\n",
       "      <th>rub_monthly_fee</th>\n",
       "      <th>rub_per_gb</th>\n",
       "      <th>rub_per_message</th>\n",
       "      <th>rub_per_minute</th>\n",
       "    </tr>\n",
       "  </thead>\n",
       "  <tbody>\n",
       "    <tr>\n",
       "      <th>count</th>\n",
       "      <td>2.000000</td>\n",
       "      <td>2.000000</td>\n",
       "      <td>2.000000</td>\n",
       "      <td>2.000000</td>\n",
       "      <td>2.000000</td>\n",
       "      <td>2.000000</td>\n",
       "      <td>2.000000</td>\n",
       "    </tr>\n",
       "    <tr>\n",
       "      <th>mean</th>\n",
       "      <td>525.000000</td>\n",
       "      <td>23040.000000</td>\n",
       "      <td>1750.000000</td>\n",
       "      <td>1250.000000</td>\n",
       "      <td>175.000000</td>\n",
       "      <td>2.000000</td>\n",
       "      <td>2.000000</td>\n",
       "    </tr>\n",
       "    <tr>\n",
       "      <th>std</th>\n",
       "      <td>671.751442</td>\n",
       "      <td>10861.160159</td>\n",
       "      <td>1767.766953</td>\n",
       "      <td>989.949494</td>\n",
       "      <td>35.355339</td>\n",
       "      <td>1.414214</td>\n",
       "      <td>1.414214</td>\n",
       "    </tr>\n",
       "    <tr>\n",
       "      <th>min</th>\n",
       "      <td>50.000000</td>\n",
       "      <td>15360.000000</td>\n",
       "      <td>500.000000</td>\n",
       "      <td>550.000000</td>\n",
       "      <td>150.000000</td>\n",
       "      <td>1.000000</td>\n",
       "      <td>1.000000</td>\n",
       "    </tr>\n",
       "    <tr>\n",
       "      <th>25%</th>\n",
       "      <td>287.500000</td>\n",
       "      <td>19200.000000</td>\n",
       "      <td>1125.000000</td>\n",
       "      <td>900.000000</td>\n",
       "      <td>162.500000</td>\n",
       "      <td>1.500000</td>\n",
       "      <td>1.500000</td>\n",
       "    </tr>\n",
       "    <tr>\n",
       "      <th>50%</th>\n",
       "      <td>525.000000</td>\n",
       "      <td>23040.000000</td>\n",
       "      <td>1750.000000</td>\n",
       "      <td>1250.000000</td>\n",
       "      <td>175.000000</td>\n",
       "      <td>2.000000</td>\n",
       "      <td>2.000000</td>\n",
       "    </tr>\n",
       "    <tr>\n",
       "      <th>75%</th>\n",
       "      <td>762.500000</td>\n",
       "      <td>26880.000000</td>\n",
       "      <td>2375.000000</td>\n",
       "      <td>1600.000000</td>\n",
       "      <td>187.500000</td>\n",
       "      <td>2.500000</td>\n",
       "      <td>2.500000</td>\n",
       "    </tr>\n",
       "    <tr>\n",
       "      <th>max</th>\n",
       "      <td>1000.000000</td>\n",
       "      <td>30720.000000</td>\n",
       "      <td>3000.000000</td>\n",
       "      <td>1950.000000</td>\n",
       "      <td>200.000000</td>\n",
       "      <td>3.000000</td>\n",
       "      <td>3.000000</td>\n",
       "    </tr>\n",
       "  </tbody>\n",
       "</table>\n",
       "</div>"
      ],
      "text/plain": [
       "       messages_included  mb_per_month_included  minutes_included  \\\n",
       "count           2.000000               2.000000          2.000000   \n",
       "mean          525.000000           23040.000000       1750.000000   \n",
       "std           671.751442           10861.160159       1767.766953   \n",
       "min            50.000000           15360.000000        500.000000   \n",
       "25%           287.500000           19200.000000       1125.000000   \n",
       "50%           525.000000           23040.000000       1750.000000   \n",
       "75%           762.500000           26880.000000       2375.000000   \n",
       "max          1000.000000           30720.000000       3000.000000   \n",
       "\n",
       "       rub_monthly_fee  rub_per_gb  rub_per_message  rub_per_minute  \n",
       "count         2.000000    2.000000         2.000000        2.000000  \n",
       "mean       1250.000000  175.000000         2.000000        2.000000  \n",
       "std         989.949494   35.355339         1.414214        1.414214  \n",
       "min         550.000000  150.000000         1.000000        1.000000  \n",
       "25%         900.000000  162.500000         1.500000        1.500000  \n",
       "50%        1250.000000  175.000000         2.000000        2.000000  \n",
       "75%        1600.000000  187.500000         2.500000        2.500000  \n",
       "max        1950.000000  200.000000         3.000000        3.000000  "
      ]
     },
     "metadata": {},
     "output_type": "display_data"
    }
   ],
   "source": [
    "display(tariffs.describe())"
   ]
  },
  {
   "cell_type": "code",
   "execution_count": 16,
   "id": "eb2375f4",
   "metadata": {},
   "outputs": [
    {
     "name": "stdout",
     "output_type": "stream",
     "text": [
      "<class 'pandas.core.frame.DataFrame'>\n",
      "RangeIndex: 2 entries, 0 to 1\n",
      "Data columns (total 8 columns):\n",
      " #   Column                 Non-Null Count  Dtype \n",
      "---  ------                 --------------  ----- \n",
      " 0   messages_included      2 non-null      int64 \n",
      " 1   mb_per_month_included  2 non-null      int64 \n",
      " 2   minutes_included       2 non-null      int64 \n",
      " 3   rub_monthly_fee        2 non-null      int64 \n",
      " 4   rub_per_gb             2 non-null      int64 \n",
      " 5   rub_per_message        2 non-null      int64 \n",
      " 6   rub_per_minute         2 non-null      int64 \n",
      " 7   tariff_name            2 non-null      object\n",
      "dtypes: int64(7), object(1)\n",
      "memory usage: 256.0+ bytes\n"
     ]
    },
    {
     "data": {
      "text/plain": [
       "None"
      ]
     },
     "metadata": {},
     "output_type": "display_data"
    }
   ],
   "source": [
    "display(tariffs.info())"
   ]
  },
  {
   "cell_type": "code",
   "execution_count": 17,
   "id": "ebabb7d2",
   "metadata": {
    "scrolled": true
   },
   "outputs": [
    {
     "data": {
      "text/plain": [
       "<AxesSubplot:>"
      ]
     },
     "metadata": {},
     "output_type": "display_data"
    },
    {
     "data": {
      "image/png": "[encoded data removed]",
      "text/plain": [
       "<Figure size 576x432 with 1 Axes>"
      ]
     },
     "metadata": {
      "needs_background": "light"
     },
     "output_type": "display_data"
    },
    {
     "data": {
      "text/plain": [
       "<AxesSubplot:>"
      ]
     },
     "metadata": {},
     "output_type": "display_data"
    },
    {
     "data": {
      "image/png": "[encoded data removed]",
      "text/plain": [
       "<Figure size 432x288 with 1 Axes>"
      ]
     },
     "metadata": {
      "needs_background": "light"
     },
     "output_type": "display_data"
    }
   ],
   "source": [
    "#посмотрим на гистограмму распределения объема интернет-сессий\n",
    "import matplotlib.pyplot as plt \n",
    "\n",
    "display(internet['mb_used'].hist(bins=60, figsize=(8, 6)))\n",
    "plt.xlabel('Использовано Мб'), \n",
    "plt.ylabel('Количество интернет-сессий')\n",
    "plt.title('Объем интеренет-сессий')\n",
    "plt.show()\n",
    "\n",
    "display(internet.boxplot('mb_used'))\n",
    "plt.ylabel('Количество интернет-сессий')\n",
    "plt.title('Распределение по использованным Мб за сессию')\n",
    "plt.show()\n"
   ]
  },
  {
   "cell_type": "markdown",
   "id": "a5d4855b",
   "metadata": {},
   "source": [
    "Мы построили гистограммы распределения количеств пользователей по объему использованного интернет-трафика. Как видно, из 149 тыс.сессий более 27 тысяч сессий (то есть, примерно 14-15%) - ограничились менее чем 1 Мегабайтом использованного трафика. Люди подключааются, только чтобы проверить почту или зайти в мобильный банкинг?"
   ]
  },
  {
   "cell_type": "markdown",
   "id": "871eae2a",
   "metadata": {},
   "source": [
    "### Выводы"
   ]
  },
  {
   "cell_type": "markdown",
   "id": "0952e265",
   "metadata": {},
   "source": [
    "Мы импортировали данные и создали общее описание к датасетам. Можно отметить неверный тип данных в столбцах с датами. "
   ]
  },
  {
   "cell_type": "markdown",
   "id": "51ef2267",
   "metadata": {},
   "source": [
    "## Этап 2 Подготовка данных"
   ]
  },
  {
   "cell_type": "markdown",
   "id": "834699a5",
   "metadata": {},
   "source": [
    "### Часть 1."
   ]
  },
  {
   "cell_type": "markdown",
   "id": "8cc5c2fe",
   "metadata": {},
   "source": [
    "Приведите данные к нужным типам;\n",
    "\n",
    "Найдите и исправьте ошибки в данных, если они есть.\n",
    "Поясните, какие ошибки вы нашли и как их исправили. \n",
    "\n",
    "В данных вы найдёте звонки с нулевой продолжительностью. Это не ошибка: нулями обозначены пропущенные звонки, поэтому их не нужно удалять."
   ]
  },
  {
   "cell_type": "markdown",
   "id": "b7c2c03e",
   "metadata": {},
   "source": [
    "В Таблице users 38 ненулевых значений оттока, даты не в том виде. Приведем столбцы с датами к нужному формату."
   ]
  },
  {
   "cell_type": "code",
   "execution_count": 18,
   "id": "c1bb48f7",
   "metadata": {},
   "outputs": [
    {
     "name": "stdout",
     "output_type": "stream",
     "text": [
      "<class 'pandas.core.frame.DataFrame'>\n",
      "RangeIndex: 500 entries, 0 to 499\n",
      "Data columns (total 8 columns):\n",
      " #   Column      Non-Null Count  Dtype         \n",
      "---  ------      --------------  -----         \n",
      " 0   user_id     500 non-null    int64         \n",
      " 1   age         500 non-null    int64         \n",
      " 2   churn_date  38 non-null     datetime64[ns]\n",
      " 3   city        500 non-null    object        \n",
      " 4   first_name  500 non-null    object        \n",
      " 5   last_name   500 non-null    object        \n",
      " 6   reg_date    500 non-null    datetime64[ns]\n",
      " 7   tariff      500 non-null    object        \n",
      "dtypes: datetime64[ns](2), int64(2), object(4)\n",
      "memory usage: 31.4+ KB\n"
     ]
    },
    {
     "data": {
      "text/plain": [
       "None"
      ]
     },
     "metadata": {},
     "output_type": "display_data"
    }
   ],
   "source": [
    "users['churn_date'] = pd.to_datetime(users['churn_date'], format=\"%Y-%m-%d\")\n",
    "users['reg_date'] = pd.to_datetime(users['reg_date'], format=\"%Y-%m-%d\")\n",
    "\n",
    "display(users.info())"
   ]
  },
  {
   "cell_type": "markdown",
   "id": "16ca99c5",
   "metadata": {},
   "source": [
    "В таблице calls также поправим формат дат, а также сменим тип данных на целочисленный в столбцах 'id', 'duration'"
   ]
  },
  {
   "cell_type": "code",
   "execution_count": 19,
   "id": "833bfd37",
   "metadata": {},
   "outputs": [
    {
     "data": {
      "text/html": [
       "<div>\n",
       "<style scoped>\n",
       "    .dataframe tbody tr th:only-of-type {\n",
       "        vertical-align: middle;\n",
       "    }\n",
       "\n",
       "    .dataframe tbody tr th {\n",
       "        vertical-align: top;\n",
       "    }\n",
       "\n",
       "    .dataframe thead th {\n",
       "        text-align: right;\n",
       "    }\n",
       "</style>\n",
       "<table border=\"1\" class=\"dataframe\">\n",
       "  <thead>\n",
       "    <tr style=\"text-align: right;\">\n",
       "      <th></th>\n",
       "      <th>id</th>\n",
       "      <th>call_date</th>\n",
       "      <th>duration</th>\n",
       "      <th>user_id</th>\n",
       "    </tr>\n",
       "  </thead>\n",
       "  <tbody>\n",
       "    <tr>\n",
       "      <th>0</th>\n",
       "      <td>10000</td>\n",
       "      <td>2018-07-25</td>\n",
       "      <td>0.0</td>\n",
       "      <td>1000</td>\n",
       "    </tr>\n",
       "    <tr>\n",
       "      <th>1</th>\n",
       "      <td>10001</td>\n",
       "      <td>2018-08-17</td>\n",
       "      <td>0.0</td>\n",
       "      <td>1000</td>\n",
       "    </tr>\n",
       "    <tr>\n",
       "      <th>2</th>\n",
       "      <td>10002</td>\n",
       "      <td>2018-06-11</td>\n",
       "      <td>3.0</td>\n",
       "      <td>1000</td>\n",
       "    </tr>\n",
       "    <tr>\n",
       "      <th>3</th>\n",
       "      <td>10003</td>\n",
       "      <td>2018-09-21</td>\n",
       "      <td>14.0</td>\n",
       "      <td>1000</td>\n",
       "    </tr>\n",
       "    <tr>\n",
       "      <th>4</th>\n",
       "      <td>10004</td>\n",
       "      <td>2018-12-15</td>\n",
       "      <td>6.0</td>\n",
       "      <td>1000</td>\n",
       "    </tr>\n",
       "  </tbody>\n",
       "</table>\n",
       "</div>"
      ],
      "text/plain": [
       "      id  call_date  duration  user_id\n",
       "0  10000 2018-07-25       0.0     1000\n",
       "1  10001 2018-08-17       0.0     1000\n",
       "2  10002 2018-06-11       3.0     1000\n",
       "3  10003 2018-09-21      14.0     1000\n",
       "4  10004 2018-12-15       6.0     1000"
      ]
     },
     "metadata": {},
     "output_type": "display_data"
    }
   ],
   "source": [
    "calls['call_date'] = pd.to_datetime(calls['call_date'], format=\"%Y-%m-%d\")\n",
    "#округлим значения.\n",
    "calls['id'] = calls['id'].astype('int')\n",
    "#calls['duration'] = calls['duration'].apply(np.ceil).astype('int')\n",
    "calls['duration'] = np.ceil(calls['duration'])\n",
    "display(calls.head())"
   ]
  },
  {
   "cell_type": "code",
   "execution_count": 20,
   "id": "4631ea35",
   "metadata": {},
   "outputs": [
    {
     "data": {
      "text/html": [
       "<div>\n",
       "<style scoped>\n",
       "    .dataframe tbody tr th:only-of-type {\n",
       "        vertical-align: middle;\n",
       "    }\n",
       "\n",
       "    .dataframe tbody tr th {\n",
       "        vertical-align: top;\n",
       "    }\n",
       "\n",
       "    .dataframe thead th {\n",
       "        text-align: right;\n",
       "    }\n",
       "</style>\n",
       "<table border=\"1\" class=\"dataframe\">\n",
       "  <thead>\n",
       "    <tr style=\"text-align: right;\">\n",
       "      <th></th>\n",
       "      <th>id</th>\n",
       "      <th>call_date</th>\n",
       "      <th>duration</th>\n",
       "      <th>user_id</th>\n",
       "    </tr>\n",
       "  </thead>\n",
       "  <tbody>\n",
       "    <tr>\n",
       "      <th>0</th>\n",
       "      <td>10000</td>\n",
       "      <td>2018-07-25</td>\n",
       "      <td>0.0</td>\n",
       "      <td>1000</td>\n",
       "    </tr>\n",
       "    <tr>\n",
       "      <th>1</th>\n",
       "      <td>10001</td>\n",
       "      <td>2018-08-17</td>\n",
       "      <td>0.0</td>\n",
       "      <td>1000</td>\n",
       "    </tr>\n",
       "    <tr>\n",
       "      <th>2</th>\n",
       "      <td>10002</td>\n",
       "      <td>2018-06-11</td>\n",
       "      <td>3.0</td>\n",
       "      <td>1000</td>\n",
       "    </tr>\n",
       "    <tr>\n",
       "      <th>3</th>\n",
       "      <td>10003</td>\n",
       "      <td>2018-09-21</td>\n",
       "      <td>14.0</td>\n",
       "      <td>1000</td>\n",
       "    </tr>\n",
       "    <tr>\n",
       "      <th>4</th>\n",
       "      <td>10004</td>\n",
       "      <td>2018-12-15</td>\n",
       "      <td>6.0</td>\n",
       "      <td>1000</td>\n",
       "    </tr>\n",
       "    <tr>\n",
       "      <th>...</th>\n",
       "      <td>...</td>\n",
       "      <td>...</td>\n",
       "      <td>...</td>\n",
       "      <td>...</td>\n",
       "    </tr>\n",
       "    <tr>\n",
       "      <th>202602</th>\n",
       "      <td>1499215</td>\n",
       "      <td>2018-12-26</td>\n",
       "      <td>1.0</td>\n",
       "      <td>1499</td>\n",
       "    </tr>\n",
       "    <tr>\n",
       "      <th>202603</th>\n",
       "      <td>1499216</td>\n",
       "      <td>2018-10-18</td>\n",
       "      <td>19.0</td>\n",
       "      <td>1499</td>\n",
       "    </tr>\n",
       "    <tr>\n",
       "      <th>202604</th>\n",
       "      <td>1499217</td>\n",
       "      <td>2018-11-10</td>\n",
       "      <td>11.0</td>\n",
       "      <td>1499</td>\n",
       "    </tr>\n",
       "    <tr>\n",
       "      <th>202605</th>\n",
       "      <td>1499218</td>\n",
       "      <td>2018-10-06</td>\n",
       "      <td>5.0</td>\n",
       "      <td>1499</td>\n",
       "    </tr>\n",
       "    <tr>\n",
       "      <th>202606</th>\n",
       "      <td>1499219</td>\n",
       "      <td>2018-12-14</td>\n",
       "      <td>20.0</td>\n",
       "      <td>1499</td>\n",
       "    </tr>\n",
       "  </tbody>\n",
       "</table>\n",
       "<p>202607 rows × 4 columns</p>\n",
       "</div>"
      ],
      "text/plain": [
       "             id  call_date  duration  user_id\n",
       "0         10000 2018-07-25       0.0     1000\n",
       "1         10001 2018-08-17       0.0     1000\n",
       "2         10002 2018-06-11       3.0     1000\n",
       "3         10003 2018-09-21      14.0     1000\n",
       "4         10004 2018-12-15       6.0     1000\n",
       "...         ...        ...       ...      ...\n",
       "202602  1499215 2018-12-26       1.0     1499\n",
       "202603  1499216 2018-10-18      19.0     1499\n",
       "202604  1499217 2018-11-10      11.0     1499\n",
       "202605  1499218 2018-10-06       5.0     1499\n",
       "202606  1499219 2018-12-14      20.0     1499\n",
       "\n",
       "[202607 rows x 4 columns]"
      ]
     },
     "execution_count": 20,
     "metadata": {},
     "output_type": "execute_result"
    }
   ],
   "source": [
    "# check\n",
    "calls"
   ]
  },
  {
   "cell_type": "markdown",
   "id": "63933df8",
   "metadata": {},
   "source": [
    "В таблице есть нулевые звонки (пропущенные). Согласно условиям задания, не удаляем их."
   ]
  },
  {
   "cell_type": "code",
   "execution_count": 21,
   "id": "310cac95",
   "metadata": {},
   "outputs": [
    {
     "data": {
      "text/html": [
       "<div>\n",
       "<style scoped>\n",
       "    .dataframe tbody tr th:only-of-type {\n",
       "        vertical-align: middle;\n",
       "    }\n",
       "\n",
       "    .dataframe tbody tr th {\n",
       "        vertical-align: top;\n",
       "    }\n",
       "\n",
       "    .dataframe thead th {\n",
       "        text-align: right;\n",
       "    }\n",
       "</style>\n",
       "<table border=\"1\" class=\"dataframe\">\n",
       "  <thead>\n",
       "    <tr style=\"text-align: right;\">\n",
       "      <th></th>\n",
       "      <th>id</th>\n",
       "      <th>duration</th>\n",
       "      <th>user_id</th>\n",
       "    </tr>\n",
       "  </thead>\n",
       "  <tbody>\n",
       "    <tr>\n",
       "      <th>count</th>\n",
       "      <td>2.026070e+05</td>\n",
       "      <td>202607.000000</td>\n",
       "      <td>202607.000000</td>\n",
       "    </tr>\n",
       "    <tr>\n",
       "      <th>mean</th>\n",
       "      <td>1.212254e+06</td>\n",
       "      <td>7.158198</td>\n",
       "      <td>1253.940619</td>\n",
       "    </tr>\n",
       "    <tr>\n",
       "      <th>std</th>\n",
       "      <td>1.725756e+06</td>\n",
       "      <td>5.959173</td>\n",
       "      <td>144.722751</td>\n",
       "    </tr>\n",
       "    <tr>\n",
       "      <th>min</th>\n",
       "      <td>1.000000e+04</td>\n",
       "      <td>0.000000</td>\n",
       "      <td>1000.000000</td>\n",
       "    </tr>\n",
       "    <tr>\n",
       "      <th>25%</th>\n",
       "      <td>1.012286e+06</td>\n",
       "      <td>2.000000</td>\n",
       "      <td>1126.000000</td>\n",
       "    </tr>\n",
       "    <tr>\n",
       "      <th>50%</th>\n",
       "      <td>1.179376e+06</td>\n",
       "      <td>6.000000</td>\n",
       "      <td>1260.000000</td>\n",
       "    </tr>\n",
       "    <tr>\n",
       "      <th>75%</th>\n",
       "      <td>1.358126e+06</td>\n",
       "      <td>11.000000</td>\n",
       "      <td>1379.000000</td>\n",
       "    </tr>\n",
       "    <tr>\n",
       "      <th>max</th>\n",
       "      <td>1.458115e+07</td>\n",
       "      <td>38.000000</td>\n",
       "      <td>1499.000000</td>\n",
       "    </tr>\n",
       "  </tbody>\n",
       "</table>\n",
       "</div>"
      ],
      "text/plain": [
       "                 id       duration        user_id\n",
       "count  2.026070e+05  202607.000000  202607.000000\n",
       "mean   1.212254e+06       7.158198    1253.940619\n",
       "std    1.725756e+06       5.959173     144.722751\n",
       "min    1.000000e+04       0.000000    1000.000000\n",
       "25%    1.012286e+06       2.000000    1126.000000\n",
       "50%    1.179376e+06       6.000000    1260.000000\n",
       "75%    1.358126e+06      11.000000    1379.000000\n",
       "max    1.458115e+07      38.000000    1499.000000"
      ]
     },
     "metadata": {},
     "output_type": "display_data"
    }
   ],
   "source": [
    "display(calls.describe())"
   ]
  },
  {
   "cell_type": "code",
   "execution_count": 22,
   "id": "55109049",
   "metadata": {
    "scrolled": true
   },
   "outputs": [
    {
     "name": "stdout",
     "output_type": "stream",
     "text": [
      "<class 'pandas.core.frame.DataFrame'>\n",
      "RangeIndex: 202607 entries, 0 to 202606\n",
      "Data columns (total 4 columns):\n",
      " #   Column     Non-Null Count   Dtype         \n",
      "---  ------     --------------   -----         \n",
      " 0   id         202607 non-null  int64         \n",
      " 1   call_date  202607 non-null  datetime64[ns]\n",
      " 2   duration   202607 non-null  float64       \n",
      " 3   user_id    202607 non-null  int64         \n",
      "dtypes: datetime64[ns](1), float64(1), int64(2)\n",
      "memory usage: 6.2 MB\n"
     ]
    },
    {
     "data": {
      "text/plain": [
       "None"
      ]
     },
     "metadata": {},
     "output_type": "display_data"
    }
   ],
   "source": [
    "display(calls.info())"
   ]
  },
  {
   "cell_type": "markdown",
   "id": "583b8dd5",
   "metadata": {},
   "source": [
    "В таблице messages также изменим формат даты и сменим тип данных на целочисленный в столбце 'id'."
   ]
  },
  {
   "cell_type": "code",
   "execution_count": 23,
   "id": "a5833096",
   "metadata": {},
   "outputs": [],
   "source": [
    "messages['id'] = messages['id'].astype('int')"
   ]
  },
  {
   "cell_type": "code",
   "execution_count": 24,
   "id": "065a05aa",
   "metadata": {},
   "outputs": [
    {
     "name": "stdout",
     "output_type": "stream",
     "text": [
      "<class 'pandas.core.frame.DataFrame'>\n",
      "RangeIndex: 123036 entries, 0 to 123035\n",
      "Data columns (total 3 columns):\n",
      " #   Column        Non-Null Count   Dtype         \n",
      "---  ------        --------------   -----         \n",
      " 0   id            123036 non-null  int64         \n",
      " 1   message_date  123036 non-null  datetime64[ns]\n",
      " 2   user_id       123036 non-null  int64         \n",
      "dtypes: datetime64[ns](1), int64(2)\n",
      "memory usage: 2.8 MB\n"
     ]
    },
    {
     "data": {
      "text/plain": [
       "None"
      ]
     },
     "metadata": {},
     "output_type": "display_data"
    }
   ],
   "source": [
    "messages['message_date'] = pd.to_datetime(messages['message_date'], format=\"%Y-%m-%d\")\n",
    "display(messages.info())"
   ]
  },
  {
   "cell_type": "markdown",
   "id": "9fc72a2b",
   "metadata": {},
   "source": [
    "В таблице internet также изменим формат даты и сменим тип данных на целочисленный в столбце 'id'."
   ]
  },
  {
   "cell_type": "code",
   "execution_count": 25,
   "id": "5ff36109",
   "metadata": {},
   "outputs": [
    {
     "name": "stdout",
     "output_type": "stream",
     "text": [
      "<class 'pandas.core.frame.DataFrame'>\n",
      "Int64Index: 149396 entries, 0 to 149395\n",
      "Data columns (total 4 columns):\n",
      " #   Column        Non-Null Count   Dtype         \n",
      "---  ------        --------------   -----         \n",
      " 0   id            149396 non-null  int64         \n",
      " 1   mb_used       149396 non-null  float64       \n",
      " 2   session_date  149396 non-null  datetime64[ns]\n",
      " 3   user_id       149396 non-null  int64         \n",
      "dtypes: datetime64[ns](1), float64(1), int64(2)\n",
      "memory usage: 5.7 MB\n"
     ]
    },
    {
     "data": {
      "text/plain": [
       "None"
      ]
     },
     "metadata": {},
     "output_type": "display_data"
    }
   ],
   "source": [
    "internet['id'] = internet['id'].astype('int')\n",
    "internet['session_date'] = pd.to_datetime(internet['session_date'], format=\"%Y-%m-%d\")\n",
    "display(internet.info())"
   ]
  },
  {
   "cell_type": "markdown",
   "id": "c6527c30",
   "metadata": {},
   "source": [
    "В таблице tariffs мы поменяли название одного из столбцов, чтобы оно не отличалось от других датасетов. "
   ]
  },
  {
   "cell_type": "code",
   "execution_count": 26,
   "id": "3ef3e67c",
   "metadata": {},
   "outputs": [
    {
     "name": "stdout",
     "output_type": "stream",
     "text": [
      "<class 'pandas.core.frame.DataFrame'>\n",
      "RangeIndex: 2 entries, 0 to 1\n",
      "Data columns (total 8 columns):\n",
      " #   Column                 Non-Null Count  Dtype \n",
      "---  ------                 --------------  ----- \n",
      " 0   messages_included      2 non-null      int64 \n",
      " 1   mb_per_month_included  2 non-null      int64 \n",
      " 2   minutes_included       2 non-null      int64 \n",
      " 3   rub_monthly_fee        2 non-null      int64 \n",
      " 4   rub_per_gb             2 non-null      int64 \n",
      " 5   rub_per_message        2 non-null      int64 \n",
      " 6   rub_per_minute         2 non-null      int64 \n",
      " 7   tariff                 2 non-null      object\n",
      "dtypes: int64(7), object(1)\n",
      "memory usage: 256.0+ bytes\n"
     ]
    },
    {
     "data": {
      "text/plain": [
       "None"
      ]
     },
     "metadata": {},
     "output_type": "display_data"
    }
   ],
   "source": [
    "tariffs.rename(columns={'tariff_name':'tariff'}, inplace = True)\n",
    "display(tariffs.info())"
   ]
  },
  {
   "cell_type": "markdown",
   "id": "e66c68b4",
   "metadata": {},
   "source": [
    "### Часть 2."
   ]
  },
  {
   "cell_type": "markdown",
   "id": "44cdb126",
   "metadata": {},
   "source": [
    "Посчитайте для каждого пользователя:\n",
    "\n",
    "* количество сделанных звонков и израсходованных минут разговора по месяцам\n",
    "* количество отправленных сообщений по месяцам\n",
    "* объем израсходованного интернет-трафика по месяцам\n",
    "* помесячную выручку с каждого пользователя\n",
    "(вычтите бесплатный лимит из суммарного количества звонков, сообщений и интернет-трафика, остаток умножьте на значение из тарифного плана; прибавьте абонентскую плату, соответствующую тарифному плану)."
   ]
  },
  {
   "cell_type": "markdown",
   "id": "1060b39a",
   "metadata": {},
   "source": [
    "### Количество сделанных звонков и израсходованных минут разговора по месяцам"
   ]
  },
  {
   "cell_type": "code",
   "execution_count": 27,
   "id": "59fdccf0",
   "metadata": {
    "scrolled": true
   },
   "outputs": [
    {
     "data": {
      "text/html": [
       "<div>\n",
       "<style scoped>\n",
       "    .dataframe tbody tr th:only-of-type {\n",
       "        vertical-align: middle;\n",
       "    }\n",
       "\n",
       "    .dataframe tbody tr th {\n",
       "        vertical-align: top;\n",
       "    }\n",
       "\n",
       "    .dataframe thead th {\n",
       "        text-align: right;\n",
       "    }\n",
       "</style>\n",
       "<table border=\"1\" class=\"dataframe\">\n",
       "  <thead>\n",
       "    <tr style=\"text-align: right;\">\n",
       "      <th></th>\n",
       "      <th>id</th>\n",
       "      <th>call_date</th>\n",
       "      <th>duration</th>\n",
       "      <th>user_id</th>\n",
       "      <th>month</th>\n",
       "    </tr>\n",
       "  </thead>\n",
       "  <tbody>\n",
       "    <tr>\n",
       "      <th>0</th>\n",
       "      <td>10000</td>\n",
       "      <td>2018-07-25</td>\n",
       "      <td>0.0</td>\n",
       "      <td>1000</td>\n",
       "      <td>July</td>\n",
       "    </tr>\n",
       "    <tr>\n",
       "      <th>1</th>\n",
       "      <td>10001</td>\n",
       "      <td>2018-08-17</td>\n",
       "      <td>0.0</td>\n",
       "      <td>1000</td>\n",
       "      <td>August</td>\n",
       "    </tr>\n",
       "    <tr>\n",
       "      <th>2</th>\n",
       "      <td>10002</td>\n",
       "      <td>2018-06-11</td>\n",
       "      <td>3.0</td>\n",
       "      <td>1000</td>\n",
       "      <td>June</td>\n",
       "    </tr>\n",
       "    <tr>\n",
       "      <th>3</th>\n",
       "      <td>10003</td>\n",
       "      <td>2018-09-21</td>\n",
       "      <td>14.0</td>\n",
       "      <td>1000</td>\n",
       "      <td>September</td>\n",
       "    </tr>\n",
       "    <tr>\n",
       "      <th>4</th>\n",
       "      <td>10004</td>\n",
       "      <td>2018-12-15</td>\n",
       "      <td>6.0</td>\n",
       "      <td>1000</td>\n",
       "      <td>December</td>\n",
       "    </tr>\n",
       "  </tbody>\n",
       "</table>\n",
       "</div>"
      ],
      "text/plain": [
       "      id  call_date  duration  user_id      month\n",
       "0  10000 2018-07-25       0.0     1000       July\n",
       "1  10001 2018-08-17       0.0     1000     August\n",
       "2  10002 2018-06-11       3.0     1000       June\n",
       "3  10003 2018-09-21      14.0     1000  September\n",
       "4  10004 2018-12-15       6.0     1000   December"
      ]
     },
     "metadata": {},
     "output_type": "display_data"
    }
   ],
   "source": [
    "#добавим столбец с названием месяца, в котором совершен звонок\n",
    "calls['month'] = calls['call_date'].dt.month_name()\n",
    "display(calls.head())"
   ]
  },
  {
   "cell_type": "code",
   "execution_count": 28,
   "id": "96e801fc",
   "metadata": {},
   "outputs": [
    {
     "data": {
      "text/html": [
       "<div>\n",
       "<style scoped>\n",
       "    .dataframe tbody tr th:only-of-type {\n",
       "        vertical-align: middle;\n",
       "    }\n",
       "\n",
       "    .dataframe tbody tr th {\n",
       "        vertical-align: top;\n",
       "    }\n",
       "\n",
       "    .dataframe thead th {\n",
       "        text-align: right;\n",
       "    }\n",
       "</style>\n",
       "<table border=\"1\" class=\"dataframe\">\n",
       "  <thead>\n",
       "    <tr style=\"text-align: right;\">\n",
       "      <th></th>\n",
       "      <th>user_id</th>\n",
       "      <th>month</th>\n",
       "      <th>month_calls_duration</th>\n",
       "      <th>calls_total_in_month</th>\n",
       "    </tr>\n",
       "  </thead>\n",
       "  <tbody>\n",
       "    <tr>\n",
       "      <th>0</th>\n",
       "      <td>1000</td>\n",
       "      <td>August</td>\n",
       "      <td>408.0</td>\n",
       "      <td>52</td>\n",
       "    </tr>\n",
       "    <tr>\n",
       "      <th>1</th>\n",
       "      <td>1000</td>\n",
       "      <td>December</td>\n",
       "      <td>333.0</td>\n",
       "      <td>46</td>\n",
       "    </tr>\n",
       "    <tr>\n",
       "      <th>2</th>\n",
       "      <td>1000</td>\n",
       "      <td>July</td>\n",
       "      <td>340.0</td>\n",
       "      <td>47</td>\n",
       "    </tr>\n",
       "    <tr>\n",
       "      <th>3</th>\n",
       "      <td>1000</td>\n",
       "      <td>June</td>\n",
       "      <td>172.0</td>\n",
       "      <td>43</td>\n",
       "    </tr>\n",
       "    <tr>\n",
       "      <th>4</th>\n",
       "      <td>1000</td>\n",
       "      <td>May</td>\n",
       "      <td>159.0</td>\n",
       "      <td>22</td>\n",
       "    </tr>\n",
       "  </tbody>\n",
       "</table>\n",
       "</div>"
      ],
      "text/plain": [
       "   user_id     month  month_calls_duration  calls_total_in_month\n",
       "0     1000    August                 408.0                    52\n",
       "1     1000  December                 333.0                    46\n",
       "2     1000      July                 340.0                    47\n",
       "3     1000      June                 172.0                    43\n",
       "4     1000       May                 159.0                    22"
      ]
     },
     "metadata": {},
     "output_type": "display_data"
    },
    {
     "data": {
      "text/plain": [
       "(3174, 4)"
      ]
     },
     "metadata": {},
     "output_type": "display_data"
    },
    {
     "data": {
      "text/html": [
       "<div>\n",
       "<style scoped>\n",
       "    .dataframe tbody tr th:only-of-type {\n",
       "        vertical-align: middle;\n",
       "    }\n",
       "\n",
       "    .dataframe tbody tr th {\n",
       "        vertical-align: top;\n",
       "    }\n",
       "\n",
       "    .dataframe thead th {\n",
       "        text-align: right;\n",
       "    }\n",
       "</style>\n",
       "<table border=\"1\" class=\"dataframe\">\n",
       "  <thead>\n",
       "    <tr style=\"text-align: right;\">\n",
       "      <th></th>\n",
       "      <th>user_id</th>\n",
       "      <th>month</th>\n",
       "      <th>month_calls_duration</th>\n",
       "      <th>calls_total_in_month</th>\n",
       "    </tr>\n",
       "  </thead>\n",
       "  <tbody>\n",
       "    <tr>\n",
       "      <th>3169</th>\n",
       "      <td>1498</td>\n",
       "      <td>September</td>\n",
       "      <td>471.0</td>\n",
       "      <td>59</td>\n",
       "    </tr>\n",
       "    <tr>\n",
       "      <th>3170</th>\n",
       "      <td>1499</td>\n",
       "      <td>December</td>\n",
       "      <td>492.0</td>\n",
       "      <td>69</td>\n",
       "    </tr>\n",
       "    <tr>\n",
       "      <th>3171</th>\n",
       "      <td>1499</td>\n",
       "      <td>November</td>\n",
       "      <td>612.0</td>\n",
       "      <td>74</td>\n",
       "    </tr>\n",
       "    <tr>\n",
       "      <th>3172</th>\n",
       "      <td>1499</td>\n",
       "      <td>October</td>\n",
       "      <td>449.0</td>\n",
       "      <td>68</td>\n",
       "    </tr>\n",
       "    <tr>\n",
       "      <th>3173</th>\n",
       "      <td>1499</td>\n",
       "      <td>September</td>\n",
       "      <td>70.0</td>\n",
       "      <td>9</td>\n",
       "    </tr>\n",
       "  </tbody>\n",
       "</table>\n",
       "</div>"
      ],
      "text/plain": [
       "      user_id      month  month_calls_duration  calls_total_in_month\n",
       "3169     1498  September                 471.0                    59\n",
       "3170     1499   December                 492.0                    69\n",
       "3171     1499   November                 612.0                    74\n",
       "3172     1499    October                 449.0                    68\n",
       "3173     1499  September                  70.0                     9"
      ]
     },
     "metadata": {},
     "output_type": "display_data"
    }
   ],
   "source": [
    "#соберем данные по количеству и продолжительности звонков по месяцам в отдельную таблицу\n",
    "user_calls = calls.groupby(['user_id', 'month'])\\\n",
    "                  .agg({'duration':'sum', 'id':'count'})\\\n",
    "                  .reset_index()\\\n",
    "                  .rename(columns={'duration':'month_calls_duration','id':'calls_total_in_month'})\\\n",
    "\n",
    "display(user_calls.head())\n",
    "display(user_calls.shape)\n",
    "display(user_calls.tail())"
   ]
  },
  {
   "cell_type": "markdown",
   "id": "a4e7a0bf",
   "metadata": {},
   "source": [
    "### Количество отправленных сообщений по месяцам"
   ]
  },
  {
   "cell_type": "code",
   "execution_count": 29,
   "id": "1971f93a",
   "metadata": {},
   "outputs": [
    {
     "data": {
      "text/html": [
       "<div>\n",
       "<style scoped>\n",
       "    .dataframe tbody tr th:only-of-type {\n",
       "        vertical-align: middle;\n",
       "    }\n",
       "\n",
       "    .dataframe tbody tr th {\n",
       "        vertical-align: top;\n",
       "    }\n",
       "\n",
       "    .dataframe thead th {\n",
       "        text-align: right;\n",
       "    }\n",
       "</style>\n",
       "<table border=\"1\" class=\"dataframe\">\n",
       "  <thead>\n",
       "    <tr style=\"text-align: right;\">\n",
       "      <th></th>\n",
       "      <th>id</th>\n",
       "      <th>message_date</th>\n",
       "      <th>user_id</th>\n",
       "      <th>month</th>\n",
       "    </tr>\n",
       "  </thead>\n",
       "  <tbody>\n",
       "    <tr>\n",
       "      <th>0</th>\n",
       "      <td>10000</td>\n",
       "      <td>2018-06-27</td>\n",
       "      <td>1000</td>\n",
       "      <td>June</td>\n",
       "    </tr>\n",
       "    <tr>\n",
       "      <th>1</th>\n",
       "      <td>10001</td>\n",
       "      <td>2018-10-08</td>\n",
       "      <td>1000</td>\n",
       "      <td>October</td>\n",
       "    </tr>\n",
       "    <tr>\n",
       "      <th>2</th>\n",
       "      <td>10002</td>\n",
       "      <td>2018-08-04</td>\n",
       "      <td>1000</td>\n",
       "      <td>August</td>\n",
       "    </tr>\n",
       "    <tr>\n",
       "      <th>3</th>\n",
       "      <td>10003</td>\n",
       "      <td>2018-06-16</td>\n",
       "      <td>1000</td>\n",
       "      <td>June</td>\n",
       "    </tr>\n",
       "    <tr>\n",
       "      <th>4</th>\n",
       "      <td>10004</td>\n",
       "      <td>2018-12-05</td>\n",
       "      <td>1000</td>\n",
       "      <td>December</td>\n",
       "    </tr>\n",
       "  </tbody>\n",
       "</table>\n",
       "</div>"
      ],
      "text/plain": [
       "      id message_date  user_id     month\n",
       "0  10000   2018-06-27     1000      June\n",
       "1  10001   2018-10-08     1000   October\n",
       "2  10002   2018-08-04     1000    August\n",
       "3  10003   2018-06-16     1000      June\n",
       "4  10004   2018-12-05     1000  December"
      ]
     },
     "metadata": {},
     "output_type": "display_data"
    }
   ],
   "source": [
    "#добавляем столбец с названием месяца отправки сообщения\n",
    "messages['month'] = messages['message_date'].dt.month_name()\n",
    "display(messages.head())\n"
   ]
  },
  {
   "cell_type": "code",
   "execution_count": 30,
   "id": "d46259ff",
   "metadata": {},
   "outputs": [
    {
     "data": {
      "text/html": [
       "<div>\n",
       "<style scoped>\n",
       "    .dataframe tbody tr th:only-of-type {\n",
       "        vertical-align: middle;\n",
       "    }\n",
       "\n",
       "    .dataframe tbody tr th {\n",
       "        vertical-align: top;\n",
       "    }\n",
       "\n",
       "    .dataframe thead th {\n",
       "        text-align: right;\n",
       "    }\n",
       "</style>\n",
       "<table border=\"1\" class=\"dataframe\">\n",
       "  <thead>\n",
       "    <tr style=\"text-align: right;\">\n",
       "      <th></th>\n",
       "      <th>user_id</th>\n",
       "      <th>month</th>\n",
       "      <th>sms_total_in_month</th>\n",
       "    </tr>\n",
       "  </thead>\n",
       "  <tbody>\n",
       "    <tr>\n",
       "      <th>0</th>\n",
       "      <td>1000</td>\n",
       "      <td>August</td>\n",
       "      <td>81</td>\n",
       "    </tr>\n",
       "    <tr>\n",
       "      <th>1</th>\n",
       "      <td>1000</td>\n",
       "      <td>December</td>\n",
       "      <td>70</td>\n",
       "    </tr>\n",
       "    <tr>\n",
       "      <th>2</th>\n",
       "      <td>1000</td>\n",
       "      <td>July</td>\n",
       "      <td>75</td>\n",
       "    </tr>\n",
       "    <tr>\n",
       "      <th>3</th>\n",
       "      <td>1000</td>\n",
       "      <td>June</td>\n",
       "      <td>60</td>\n",
       "    </tr>\n",
       "    <tr>\n",
       "      <th>4</th>\n",
       "      <td>1000</td>\n",
       "      <td>May</td>\n",
       "      <td>22</td>\n",
       "    </tr>\n",
       "  </tbody>\n",
       "</table>\n",
       "</div>"
      ],
      "text/plain": [
       "   user_id     month  sms_total_in_month\n",
       "0     1000    August                  81\n",
       "1     1000  December                  70\n",
       "2     1000      July                  75\n",
       "3     1000      June                  60\n",
       "4     1000       May                  22"
      ]
     },
     "metadata": {},
     "output_type": "display_data"
    },
    {
     "data": {
      "text/plain": [
       "(2717, 3)"
      ]
     },
     "metadata": {},
     "output_type": "display_data"
    }
   ],
   "source": [
    "#Также собраем статистику по кол-ву сообщений по месяцам в отдельную таблицу\n",
    "user_messages = messages.groupby(['user_id', 'month'])\\\n",
    "                        .agg({'id':'count'})\\\n",
    "                        .reset_index()\\\n",
    "                        .rename(columns={'id':'sms_total_in_month'})\n",
    "display(user_messages.head())\n",
    "display(user_messages.shape)"
   ]
  },
  {
   "cell_type": "markdown",
   "id": "52321325",
   "metadata": {},
   "source": [
    "### Объем израсходованного интернет-трафика по месяцам"
   ]
  },
  {
   "cell_type": "code",
   "execution_count": 31,
   "id": "a231a940",
   "metadata": {},
   "outputs": [],
   "source": [
    "#выделили месяц, в котором расходовался трафик\n",
    "internet['month'] = internet['session_date'].dt.month_name()"
   ]
  },
  {
   "cell_type": "code",
   "execution_count": 32,
   "id": "d516f706",
   "metadata": {},
   "outputs": [
    {
     "data": {
      "text/html": [
       "<div>\n",
       "<style scoped>\n",
       "    .dataframe tbody tr th:only-of-type {\n",
       "        vertical-align: middle;\n",
       "    }\n",
       "\n",
       "    .dataframe tbody tr th {\n",
       "        vertical-align: top;\n",
       "    }\n",
       "\n",
       "    .dataframe thead th {\n",
       "        text-align: right;\n",
       "    }\n",
       "</style>\n",
       "<table border=\"1\" class=\"dataframe\">\n",
       "  <thead>\n",
       "    <tr style=\"text-align: right;\">\n",
       "      <th></th>\n",
       "      <th>user_id</th>\n",
       "      <th>month</th>\n",
       "      <th>mb_total_in_month</th>\n",
       "    </tr>\n",
       "  </thead>\n",
       "  <tbody>\n",
       "    <tr>\n",
       "      <th>0</th>\n",
       "      <td>1000</td>\n",
       "      <td>August</td>\n",
       "      <td>14055.93</td>\n",
       "    </tr>\n",
       "    <tr>\n",
       "      <th>1</th>\n",
       "      <td>1000</td>\n",
       "      <td>December</td>\n",
       "      <td>9817.61</td>\n",
       "    </tr>\n",
       "    <tr>\n",
       "      <th>2</th>\n",
       "      <td>1000</td>\n",
       "      <td>July</td>\n",
       "      <td>14003.64</td>\n",
       "    </tr>\n",
       "    <tr>\n",
       "      <th>3</th>\n",
       "      <td>1000</td>\n",
       "      <td>June</td>\n",
       "      <td>23233.77</td>\n",
       "    </tr>\n",
       "    <tr>\n",
       "      <th>4</th>\n",
       "      <td>1000</td>\n",
       "      <td>May</td>\n",
       "      <td>2253.49</td>\n",
       "    </tr>\n",
       "  </tbody>\n",
       "</table>\n",
       "</div>"
      ],
      "text/plain": [
       "   user_id     month  mb_total_in_month\n",
       "0     1000    August           14055.93\n",
       "1     1000  December            9817.61\n",
       "2     1000      July           14003.64\n",
       "3     1000      June           23233.77\n",
       "4     1000       May            2253.49"
      ]
     },
     "metadata": {},
     "output_type": "display_data"
    },
    {
     "data": {
      "text/plain": [
       "(3203, 3)"
      ]
     },
     "metadata": {},
     "output_type": "display_data"
    }
   ],
   "source": [
    "#собрали объем трафика в отдельную таблицу\n",
    "user_internet = internet.groupby(['user_id', 'month'])\\\n",
    "                        .agg({'mb_used':'sum'})\\\n",
    "                        .reset_index()\\\n",
    "                        .rename(columns={'mb_used':'mb_total_in_month'})\n",
    "display(user_internet.head())\n",
    "display(user_internet.shape)"
   ]
  },
  {
   "cell_type": "markdown",
   "id": "0e703508",
   "metadata": {},
   "source": [
    "### Месячная выручка с каждого пользователя"
   ]
  },
  {
   "cell_type": "code",
   "execution_count": 33,
   "id": "35915147",
   "metadata": {},
   "outputs": [
    {
     "data": {
      "text/html": [
       "<div>\n",
       "<style scoped>\n",
       "    .dataframe tbody tr th:only-of-type {\n",
       "        vertical-align: middle;\n",
       "    }\n",
       "\n",
       "    .dataframe tbody tr th {\n",
       "        vertical-align: top;\n",
       "    }\n",
       "\n",
       "    .dataframe thead th {\n",
       "        text-align: right;\n",
       "    }\n",
       "</style>\n",
       "<table border=\"1\" class=\"dataframe\">\n",
       "  <thead>\n",
       "    <tr style=\"text-align: right;\">\n",
       "      <th></th>\n",
       "      <th>user_id</th>\n",
       "      <th>month</th>\n",
       "      <th>month_calls_duration</th>\n",
       "      <th>calls_total_in_month</th>\n",
       "      <th>sms_total_in_month</th>\n",
       "    </tr>\n",
       "  </thead>\n",
       "  <tbody>\n",
       "    <tr>\n",
       "      <th>0</th>\n",
       "      <td>1000</td>\n",
       "      <td>August</td>\n",
       "      <td>408.0</td>\n",
       "      <td>52.0</td>\n",
       "      <td>81.0</td>\n",
       "    </tr>\n",
       "    <tr>\n",
       "      <th>1</th>\n",
       "      <td>1000</td>\n",
       "      <td>December</td>\n",
       "      <td>333.0</td>\n",
       "      <td>46.0</td>\n",
       "      <td>70.0</td>\n",
       "    </tr>\n",
       "    <tr>\n",
       "      <th>2</th>\n",
       "      <td>1000</td>\n",
       "      <td>July</td>\n",
       "      <td>340.0</td>\n",
       "      <td>47.0</td>\n",
       "      <td>75.0</td>\n",
       "    </tr>\n",
       "    <tr>\n",
       "      <th>3</th>\n",
       "      <td>1000</td>\n",
       "      <td>June</td>\n",
       "      <td>172.0</td>\n",
       "      <td>43.0</td>\n",
       "      <td>60.0</td>\n",
       "    </tr>\n",
       "    <tr>\n",
       "      <th>4</th>\n",
       "      <td>1000</td>\n",
       "      <td>May</td>\n",
       "      <td>159.0</td>\n",
       "      <td>22.0</td>\n",
       "      <td>22.0</td>\n",
       "    </tr>\n",
       "  </tbody>\n",
       "</table>\n",
       "</div>"
      ],
      "text/plain": [
       "   user_id     month  month_calls_duration  calls_total_in_month  \\\n",
       "0     1000    August                 408.0                  52.0   \n",
       "1     1000  December                 333.0                  46.0   \n",
       "2     1000      July                 340.0                  47.0   \n",
       "3     1000      June                 172.0                  43.0   \n",
       "4     1000       May                 159.0                  22.0   \n",
       "\n",
       "   sms_total_in_month  \n",
       "0                81.0  \n",
       "1                70.0  \n",
       "2                75.0  \n",
       "3                60.0  \n",
       "4                22.0  "
      ]
     },
     "metadata": {},
     "output_type": "display_data"
    },
    {
     "data": {
      "text/html": [
       "<div>\n",
       "<style scoped>\n",
       "    .dataframe tbody tr th:only-of-type {\n",
       "        vertical-align: middle;\n",
       "    }\n",
       "\n",
       "    .dataframe tbody tr th {\n",
       "        vertical-align: top;\n",
       "    }\n",
       "\n",
       "    .dataframe thead th {\n",
       "        text-align: right;\n",
       "    }\n",
       "</style>\n",
       "<table border=\"1\" class=\"dataframe\">\n",
       "  <thead>\n",
       "    <tr style=\"text-align: right;\">\n",
       "      <th></th>\n",
       "      <th>user_id</th>\n",
       "      <th>month</th>\n",
       "      <th>month_calls_duration</th>\n",
       "      <th>calls_total_in_month</th>\n",
       "      <th>sms_total_in_month</th>\n",
       "      <th>mb_total_in_month</th>\n",
       "    </tr>\n",
       "  </thead>\n",
       "  <tbody>\n",
       "    <tr>\n",
       "      <th>3209</th>\n",
       "      <td>1489</td>\n",
       "      <td>December</td>\n",
       "      <td>NaN</td>\n",
       "      <td>NaN</td>\n",
       "      <td>35.0</td>\n",
       "      <td>17322.51</td>\n",
       "    </tr>\n",
       "    <tr>\n",
       "      <th>3210</th>\n",
       "      <td>1489</td>\n",
       "      <td>November</td>\n",
       "      <td>NaN</td>\n",
       "      <td>NaN</td>\n",
       "      <td>20.0</td>\n",
       "      <td>17491.56</td>\n",
       "    </tr>\n",
       "    <tr>\n",
       "      <th>3211</th>\n",
       "      <td>1489</td>\n",
       "      <td>October</td>\n",
       "      <td>NaN</td>\n",
       "      <td>NaN</td>\n",
       "      <td>21.0</td>\n",
       "      <td>19559.44</td>\n",
       "    </tr>\n",
       "    <tr>\n",
       "      <th>3212</th>\n",
       "      <td>1489</td>\n",
       "      <td>September</td>\n",
       "      <td>NaN</td>\n",
       "      <td>NaN</td>\n",
       "      <td>32.0</td>\n",
       "      <td>17206.30</td>\n",
       "    </tr>\n",
       "    <tr>\n",
       "      <th>3213</th>\n",
       "      <td>1476</td>\n",
       "      <td>April</td>\n",
       "      <td>NaN</td>\n",
       "      <td>NaN</td>\n",
       "      <td>NaN</td>\n",
       "      <td>530.78</td>\n",
       "    </tr>\n",
       "  </tbody>\n",
       "</table>\n",
       "</div>"
      ],
      "text/plain": [
       "      user_id      month  month_calls_duration  calls_total_in_month  \\\n",
       "3209     1489   December                   NaN                   NaN   \n",
       "3210     1489   November                   NaN                   NaN   \n",
       "3211     1489    October                   NaN                   NaN   \n",
       "3212     1489  September                   NaN                   NaN   \n",
       "3213     1476      April                   NaN                   NaN   \n",
       "\n",
       "      sms_total_in_month  mb_total_in_month  \n",
       "3209                35.0           17322.51  \n",
       "3210                20.0           17491.56  \n",
       "3211                21.0           19559.44  \n",
       "3212                32.0           17206.30  \n",
       "3213                 NaN             530.78  "
      ]
     },
     "metadata": {},
     "output_type": "display_data"
    }
   ],
   "source": [
    "# Склеим новые датафреймы в один\n",
    "df = user_calls.merge(user_messages, on=['user_id','month'], how='outer')\n",
    "display(df.head())\n",
    "\n",
    "df = df.merge(user_internet, on=['user_id','month'], how = 'outer')\n",
    "\n",
    "display(df.tail())"
   ]
  },
  {
   "cell_type": "code",
   "execution_count": 34,
   "id": "ea2a2b2e",
   "metadata": {},
   "outputs": [
    {
     "name": "stdout",
     "output_type": "stream",
     "text": [
      "<class 'pandas.core.frame.DataFrame'>\n",
      "Int64Index: 3214 entries, 0 to 3213\n",
      "Data columns (total 6 columns):\n",
      " #   Column                Non-Null Count  Dtype  \n",
      "---  ------                --------------  -----  \n",
      " 0   user_id               3214 non-null   int64  \n",
      " 1   month                 3214 non-null   object \n",
      " 2   month_calls_duration  3174 non-null   float64\n",
      " 3   calls_total_in_month  3174 non-null   float64\n",
      " 4   sms_total_in_month    2717 non-null   float64\n",
      " 5   mb_total_in_month     3203 non-null   float64\n",
      "dtypes: float64(4), int64(1), object(1)\n",
      "memory usage: 175.8+ KB\n"
     ]
    }
   ],
   "source": [
    "# check\n",
    "df.info()"
   ]
  },
  {
   "cell_type": "code",
   "execution_count": 35,
   "id": "b21c9c86",
   "metadata": {},
   "outputs": [
    {
     "data": {
      "text/html": [
       "<div>\n",
       "<style scoped>\n",
       "    .dataframe tbody tr th:only-of-type {\n",
       "        vertical-align: middle;\n",
       "    }\n",
       "\n",
       "    .dataframe tbody tr th {\n",
       "        vertical-align: top;\n",
       "    }\n",
       "\n",
       "    .dataframe thead th {\n",
       "        text-align: right;\n",
       "    }\n",
       "</style>\n",
       "<table border=\"1\" class=\"dataframe\">\n",
       "  <thead>\n",
       "    <tr style=\"text-align: right;\">\n",
       "      <th></th>\n",
       "      <th>user_id</th>\n",
       "      <th>month</th>\n",
       "      <th>month_calls_duration</th>\n",
       "      <th>calls_total_in_month</th>\n",
       "      <th>sms_total_in_month</th>\n",
       "      <th>mb_total_in_month</th>\n",
       "    </tr>\n",
       "  </thead>\n",
       "  <tbody>\n",
       "    <tr>\n",
       "      <th>0</th>\n",
       "      <td>1000</td>\n",
       "      <td>August</td>\n",
       "      <td>408.0</td>\n",
       "      <td>52.0</td>\n",
       "      <td>81.0</td>\n",
       "      <td>14055.93</td>\n",
       "    </tr>\n",
       "    <tr>\n",
       "      <th>1</th>\n",
       "      <td>1000</td>\n",
       "      <td>December</td>\n",
       "      <td>333.0</td>\n",
       "      <td>46.0</td>\n",
       "      <td>70.0</td>\n",
       "      <td>9817.61</td>\n",
       "    </tr>\n",
       "    <tr>\n",
       "      <th>2</th>\n",
       "      <td>1000</td>\n",
       "      <td>July</td>\n",
       "      <td>340.0</td>\n",
       "      <td>47.0</td>\n",
       "      <td>75.0</td>\n",
       "      <td>14003.64</td>\n",
       "    </tr>\n",
       "    <tr>\n",
       "      <th>3</th>\n",
       "      <td>1000</td>\n",
       "      <td>June</td>\n",
       "      <td>172.0</td>\n",
       "      <td>43.0</td>\n",
       "      <td>60.0</td>\n",
       "      <td>23233.77</td>\n",
       "    </tr>\n",
       "    <tr>\n",
       "      <th>4</th>\n",
       "      <td>1000</td>\n",
       "      <td>May</td>\n",
       "      <td>159.0</td>\n",
       "      <td>22.0</td>\n",
       "      <td>22.0</td>\n",
       "      <td>2253.49</td>\n",
       "    </tr>\n",
       "  </tbody>\n",
       "</table>\n",
       "</div>"
      ],
      "text/plain": [
       "   user_id     month  month_calls_duration  calls_total_in_month  \\\n",
       "0     1000    August                 408.0                  52.0   \n",
       "1     1000  December                 333.0                  46.0   \n",
       "2     1000      July                 340.0                  47.0   \n",
       "3     1000      June                 172.0                  43.0   \n",
       "4     1000       May                 159.0                  22.0   \n",
       "\n",
       "   sms_total_in_month  mb_total_in_month  \n",
       "0                81.0           14055.93  \n",
       "1                70.0            9817.61  \n",
       "2                75.0           14003.64  \n",
       "3                60.0           23233.77  \n",
       "4                22.0            2253.49  "
      ]
     },
     "metadata": {},
     "output_type": "display_data"
    },
    {
     "data": {
      "text/plain": [
       "(3214, 6)"
      ]
     },
     "metadata": {},
     "output_type": "display_data"
    }
   ],
   "source": [
    "display(df.head())\n",
    "display(df.shape)"
   ]
  },
  {
   "cell_type": "markdown",
   "id": "12613e50",
   "metadata": {},
   "source": [
    "Объединим полученный датафрейм с нашими исходными предобработанными таблицами"
   ]
  },
  {
   "cell_type": "code",
   "execution_count": 36,
   "id": "0b1e9a49",
   "metadata": {
    "scrolled": true
   },
   "outputs": [
    {
     "data": {
      "text/html": [
       "<div>\n",
       "<style scoped>\n",
       "    .dataframe tbody tr th:only-of-type {\n",
       "        vertical-align: middle;\n",
       "    }\n",
       "\n",
       "    .dataframe tbody tr th {\n",
       "        vertical-align: top;\n",
       "    }\n",
       "\n",
       "    .dataframe thead th {\n",
       "        text-align: right;\n",
       "    }\n",
       "</style>\n",
       "<table border=\"1\" class=\"dataframe\">\n",
       "  <thead>\n",
       "    <tr style=\"text-align: right;\">\n",
       "      <th></th>\n",
       "      <th>user_id</th>\n",
       "      <th>age</th>\n",
       "      <th>churn_date</th>\n",
       "      <th>city</th>\n",
       "      <th>first_name</th>\n",
       "      <th>last_name</th>\n",
       "      <th>reg_date</th>\n",
       "      <th>tariff</th>\n",
       "    </tr>\n",
       "  </thead>\n",
       "  <tbody>\n",
       "    <tr>\n",
       "      <th>0</th>\n",
       "      <td>1000</td>\n",
       "      <td>52</td>\n",
       "      <td>NaT</td>\n",
       "      <td>Краснодар</td>\n",
       "      <td>Рафаил</td>\n",
       "      <td>Верещагин</td>\n",
       "      <td>2018-05-25</td>\n",
       "      <td>ultra</td>\n",
       "    </tr>\n",
       "    <tr>\n",
       "      <th>1</th>\n",
       "      <td>1001</td>\n",
       "      <td>41</td>\n",
       "      <td>NaT</td>\n",
       "      <td>Москва</td>\n",
       "      <td>Иван</td>\n",
       "      <td>Ежов</td>\n",
       "      <td>2018-11-01</td>\n",
       "      <td>smart</td>\n",
       "    </tr>\n",
       "    <tr>\n",
       "      <th>2</th>\n",
       "      <td>1002</td>\n",
       "      <td>59</td>\n",
       "      <td>NaT</td>\n",
       "      <td>Стерлитамак</td>\n",
       "      <td>Евгений</td>\n",
       "      <td>Абрамович</td>\n",
       "      <td>2018-06-17</td>\n",
       "      <td>smart</td>\n",
       "    </tr>\n",
       "    <tr>\n",
       "      <th>3</th>\n",
       "      <td>1003</td>\n",
       "      <td>23</td>\n",
       "      <td>NaT</td>\n",
       "      <td>Москва</td>\n",
       "      <td>Белла</td>\n",
       "      <td>Белякова</td>\n",
       "      <td>2018-08-17</td>\n",
       "      <td>ultra</td>\n",
       "    </tr>\n",
       "    <tr>\n",
       "      <th>4</th>\n",
       "      <td>1004</td>\n",
       "      <td>68</td>\n",
       "      <td>NaT</td>\n",
       "      <td>Новокузнецк</td>\n",
       "      <td>Татьяна</td>\n",
       "      <td>Авдеенко</td>\n",
       "      <td>2018-05-14</td>\n",
       "      <td>ultra</td>\n",
       "    </tr>\n",
       "  </tbody>\n",
       "</table>\n",
       "</div>"
      ],
      "text/plain": [
       "   user_id  age churn_date         city first_name  last_name   reg_date  \\\n",
       "0     1000   52        NaT    Краснодар     Рафаил  Верещагин 2018-05-25   \n",
       "1     1001   41        NaT       Москва       Иван       Ежов 2018-11-01   \n",
       "2     1002   59        NaT  Стерлитамак    Евгений  Абрамович 2018-06-17   \n",
       "3     1003   23        NaT       Москва      Белла   Белякова 2018-08-17   \n",
       "4     1004   68        NaT  Новокузнецк    Татьяна   Авдеенко 2018-05-14   \n",
       "\n",
       "  tariff  \n",
       "0  ultra  \n",
       "1  smart  \n",
       "2  smart  \n",
       "3  ultra  \n",
       "4  ultra  "
      ]
     },
     "metadata": {},
     "output_type": "display_data"
    },
    {
     "data": {
      "text/plain": [
       "(500, 8)"
      ]
     },
     "metadata": {},
     "output_type": "display_data"
    }
   ],
   "source": [
    "display(users.head())\n",
    "display(users.shape)"
   ]
  },
  {
   "cell_type": "code",
   "execution_count": 37,
   "id": "7a56cf1b",
   "metadata": {
    "scrolled": true
   },
   "outputs": [
    {
     "data": {
      "text/html": [
       "<div>\n",
       "<style scoped>\n",
       "    .dataframe tbody tr th:only-of-type {\n",
       "        vertical-align: middle;\n",
       "    }\n",
       "\n",
       "    .dataframe tbody tr th {\n",
       "        vertical-align: top;\n",
       "    }\n",
       "\n",
       "    .dataframe thead th {\n",
       "        text-align: right;\n",
       "    }\n",
       "</style>\n",
       "<table border=\"1\" class=\"dataframe\">\n",
       "  <thead>\n",
       "    <tr style=\"text-align: right;\">\n",
       "      <th></th>\n",
       "      <th>messages_included</th>\n",
       "      <th>mb_per_month_included</th>\n",
       "      <th>minutes_included</th>\n",
       "      <th>rub_monthly_fee</th>\n",
       "      <th>rub_per_gb</th>\n",
       "      <th>rub_per_message</th>\n",
       "      <th>rub_per_minute</th>\n",
       "      <th>tariff</th>\n",
       "    </tr>\n",
       "  </thead>\n",
       "  <tbody>\n",
       "    <tr>\n",
       "      <th>0</th>\n",
       "      <td>50</td>\n",
       "      <td>15360</td>\n",
       "      <td>500</td>\n",
       "      <td>550</td>\n",
       "      <td>200</td>\n",
       "      <td>3</td>\n",
       "      <td>3</td>\n",
       "      <td>smart</td>\n",
       "    </tr>\n",
       "    <tr>\n",
       "      <th>1</th>\n",
       "      <td>1000</td>\n",
       "      <td>30720</td>\n",
       "      <td>3000</td>\n",
       "      <td>1950</td>\n",
       "      <td>150</td>\n",
       "      <td>1</td>\n",
       "      <td>1</td>\n",
       "      <td>ultra</td>\n",
       "    </tr>\n",
       "  </tbody>\n",
       "</table>\n",
       "</div>"
      ],
      "text/plain": [
       "   messages_included  mb_per_month_included  minutes_included  \\\n",
       "0                 50                  15360               500   \n",
       "1               1000                  30720              3000   \n",
       "\n",
       "   rub_monthly_fee  rub_per_gb  rub_per_message  rub_per_minute tariff  \n",
       "0              550         200                3               3  smart  \n",
       "1             1950         150                1               1  ultra  "
      ]
     },
     "metadata": {},
     "output_type": "display_data"
    },
    {
     "data": {
      "text/plain": [
       "(2, 8)"
      ]
     },
     "metadata": {},
     "output_type": "display_data"
    }
   ],
   "source": [
    "display(tariffs.head())\n",
    "display(tariffs.shape)"
   ]
  },
  {
   "cell_type": "code",
   "execution_count": 38,
   "id": "b8cbc570",
   "metadata": {},
   "outputs": [
    {
     "data": {
      "text/html": [
       "<div>\n",
       "<style scoped>\n",
       "    .dataframe tbody tr th:only-of-type {\n",
       "        vertical-align: middle;\n",
       "    }\n",
       "\n",
       "    .dataframe tbody tr th {\n",
       "        vertical-align: top;\n",
       "    }\n",
       "\n",
       "    .dataframe thead th {\n",
       "        text-align: right;\n",
       "    }\n",
       "</style>\n",
       "<table border=\"1\" class=\"dataframe\">\n",
       "  <thead>\n",
       "    <tr style=\"text-align: right;\">\n",
       "      <th></th>\n",
       "      <th>user_id</th>\n",
       "      <th>month</th>\n",
       "      <th>month_calls_duration</th>\n",
       "      <th>calls_total_in_month</th>\n",
       "      <th>sms_total_in_month</th>\n",
       "      <th>mb_total_in_month</th>\n",
       "      <th>age</th>\n",
       "      <th>churn_date</th>\n",
       "      <th>city</th>\n",
       "      <th>first_name</th>\n",
       "      <th>last_name</th>\n",
       "      <th>reg_date</th>\n",
       "      <th>tariff</th>\n",
       "    </tr>\n",
       "  </thead>\n",
       "  <tbody>\n",
       "    <tr>\n",
       "      <th>0</th>\n",
       "      <td>1000</td>\n",
       "      <td>August</td>\n",
       "      <td>408.0</td>\n",
       "      <td>52.0</td>\n",
       "      <td>81.0</td>\n",
       "      <td>14055.93</td>\n",
       "      <td>52</td>\n",
       "      <td>NaT</td>\n",
       "      <td>Краснодар</td>\n",
       "      <td>Рафаил</td>\n",
       "      <td>Верещагин</td>\n",
       "      <td>2018-05-25</td>\n",
       "      <td>ultra</td>\n",
       "    </tr>\n",
       "    <tr>\n",
       "      <th>1</th>\n",
       "      <td>1000</td>\n",
       "      <td>December</td>\n",
       "      <td>333.0</td>\n",
       "      <td>46.0</td>\n",
       "      <td>70.0</td>\n",
       "      <td>9817.61</td>\n",
       "      <td>52</td>\n",
       "      <td>NaT</td>\n",
       "      <td>Краснодар</td>\n",
       "      <td>Рафаил</td>\n",
       "      <td>Верещагин</td>\n",
       "      <td>2018-05-25</td>\n",
       "      <td>ultra</td>\n",
       "    </tr>\n",
       "    <tr>\n",
       "      <th>2</th>\n",
       "      <td>1000</td>\n",
       "      <td>July</td>\n",
       "      <td>340.0</td>\n",
       "      <td>47.0</td>\n",
       "      <td>75.0</td>\n",
       "      <td>14003.64</td>\n",
       "      <td>52</td>\n",
       "      <td>NaT</td>\n",
       "      <td>Краснодар</td>\n",
       "      <td>Рафаил</td>\n",
       "      <td>Верещагин</td>\n",
       "      <td>2018-05-25</td>\n",
       "      <td>ultra</td>\n",
       "    </tr>\n",
       "    <tr>\n",
       "      <th>3</th>\n",
       "      <td>1000</td>\n",
       "      <td>June</td>\n",
       "      <td>172.0</td>\n",
       "      <td>43.0</td>\n",
       "      <td>60.0</td>\n",
       "      <td>23233.77</td>\n",
       "      <td>52</td>\n",
       "      <td>NaT</td>\n",
       "      <td>Краснодар</td>\n",
       "      <td>Рафаил</td>\n",
       "      <td>Верещагин</td>\n",
       "      <td>2018-05-25</td>\n",
       "      <td>ultra</td>\n",
       "    </tr>\n",
       "    <tr>\n",
       "      <th>4</th>\n",
       "      <td>1000</td>\n",
       "      <td>May</td>\n",
       "      <td>159.0</td>\n",
       "      <td>22.0</td>\n",
       "      <td>22.0</td>\n",
       "      <td>2253.49</td>\n",
       "      <td>52</td>\n",
       "      <td>NaT</td>\n",
       "      <td>Краснодар</td>\n",
       "      <td>Рафаил</td>\n",
       "      <td>Верещагин</td>\n",
       "      <td>2018-05-25</td>\n",
       "      <td>ultra</td>\n",
       "    </tr>\n",
       "  </tbody>\n",
       "</table>\n",
       "</div>"
      ],
      "text/plain": [
       "   user_id     month  month_calls_duration  calls_total_in_month  \\\n",
       "0     1000    August                 408.0                  52.0   \n",
       "1     1000  December                 333.0                  46.0   \n",
       "2     1000      July                 340.0                  47.0   \n",
       "3     1000      June                 172.0                  43.0   \n",
       "4     1000       May                 159.0                  22.0   \n",
       "\n",
       "   sms_total_in_month  mb_total_in_month  age churn_date       city  \\\n",
       "0                81.0           14055.93   52        NaT  Краснодар   \n",
       "1                70.0            9817.61   52        NaT  Краснодар   \n",
       "2                75.0           14003.64   52        NaT  Краснодар   \n",
       "3                60.0           23233.77   52        NaT  Краснодар   \n",
       "4                22.0            2253.49   52        NaT  Краснодар   \n",
       "\n",
       "  first_name  last_name   reg_date tariff  \n",
       "0     Рафаил  Верещагин 2018-05-25  ultra  \n",
       "1     Рафаил  Верещагин 2018-05-25  ultra  \n",
       "2     Рафаил  Верещагин 2018-05-25  ultra  \n",
       "3     Рафаил  Верещагин 2018-05-25  ultra  \n",
       "4     Рафаил  Верещагин 2018-05-25  ultra  "
      ]
     },
     "metadata": {},
     "output_type": "display_data"
    },
    {
     "data": {
      "text/plain": [
       "(3216, 13)"
      ]
     },
     "metadata": {},
     "output_type": "display_data"
    }
   ],
   "source": [
    "df = df.merge(users, on='user_id', how='outer')\n",
    "display(df.head())\n",
    "display(df.shape)"
   ]
  },
  {
   "cell_type": "code",
   "execution_count": 39,
   "id": "40fa4713",
   "metadata": {},
   "outputs": [
    {
     "data": {
      "text/html": [
       "<div>\n",
       "<style scoped>\n",
       "    .dataframe tbody tr th:only-of-type {\n",
       "        vertical-align: middle;\n",
       "    }\n",
       "\n",
       "    .dataframe tbody tr th {\n",
       "        vertical-align: top;\n",
       "    }\n",
       "\n",
       "    .dataframe thead th {\n",
       "        text-align: right;\n",
       "    }\n",
       "</style>\n",
       "<table border=\"1\" class=\"dataframe\">\n",
       "  <thead>\n",
       "    <tr style=\"text-align: right;\">\n",
       "      <th></th>\n",
       "      <th>user_id</th>\n",
       "      <th>month</th>\n",
       "      <th>month_calls_duration</th>\n",
       "      <th>calls_total_in_month</th>\n",
       "      <th>sms_total_in_month</th>\n",
       "      <th>mb_total_in_month</th>\n",
       "      <th>age</th>\n",
       "      <th>churn_date</th>\n",
       "      <th>city</th>\n",
       "      <th>first_name</th>\n",
       "      <th>last_name</th>\n",
       "      <th>reg_date</th>\n",
       "      <th>tariff</th>\n",
       "      <th>messages_included</th>\n",
       "      <th>mb_per_month_included</th>\n",
       "      <th>minutes_included</th>\n",
       "      <th>rub_monthly_fee</th>\n",
       "      <th>rub_per_gb</th>\n",
       "      <th>rub_per_message</th>\n",
       "      <th>rub_per_minute</th>\n",
       "    </tr>\n",
       "  </thead>\n",
       "  <tbody>\n",
       "    <tr>\n",
       "      <th>0</th>\n",
       "      <td>1000</td>\n",
       "      <td>August</td>\n",
       "      <td>408.0</td>\n",
       "      <td>52.0</td>\n",
       "      <td>81.0</td>\n",
       "      <td>14055.93</td>\n",
       "      <td>52</td>\n",
       "      <td>NaT</td>\n",
       "      <td>Краснодар</td>\n",
       "      <td>Рафаил</td>\n",
       "      <td>Верещагин</td>\n",
       "      <td>2018-05-25</td>\n",
       "      <td>ultra</td>\n",
       "      <td>1000</td>\n",
       "      <td>30720</td>\n",
       "      <td>3000</td>\n",
       "      <td>1950</td>\n",
       "      <td>150</td>\n",
       "      <td>1</td>\n",
       "      <td>1</td>\n",
       "    </tr>\n",
       "    <tr>\n",
       "      <th>1</th>\n",
       "      <td>1000</td>\n",
       "      <td>December</td>\n",
       "      <td>333.0</td>\n",
       "      <td>46.0</td>\n",
       "      <td>70.0</td>\n",
       "      <td>9817.61</td>\n",
       "      <td>52</td>\n",
       "      <td>NaT</td>\n",
       "      <td>Краснодар</td>\n",
       "      <td>Рафаил</td>\n",
       "      <td>Верещагин</td>\n",
       "      <td>2018-05-25</td>\n",
       "      <td>ultra</td>\n",
       "      <td>1000</td>\n",
       "      <td>30720</td>\n",
       "      <td>3000</td>\n",
       "      <td>1950</td>\n",
       "      <td>150</td>\n",
       "      <td>1</td>\n",
       "      <td>1</td>\n",
       "    </tr>\n",
       "    <tr>\n",
       "      <th>2</th>\n",
       "      <td>1000</td>\n",
       "      <td>July</td>\n",
       "      <td>340.0</td>\n",
       "      <td>47.0</td>\n",
       "      <td>75.0</td>\n",
       "      <td>14003.64</td>\n",
       "      <td>52</td>\n",
       "      <td>NaT</td>\n",
       "      <td>Краснодар</td>\n",
       "      <td>Рафаил</td>\n",
       "      <td>Верещагин</td>\n",
       "      <td>2018-05-25</td>\n",
       "      <td>ultra</td>\n",
       "      <td>1000</td>\n",
       "      <td>30720</td>\n",
       "      <td>3000</td>\n",
       "      <td>1950</td>\n",
       "      <td>150</td>\n",
       "      <td>1</td>\n",
       "      <td>1</td>\n",
       "    </tr>\n",
       "    <tr>\n",
       "      <th>3</th>\n",
       "      <td>1000</td>\n",
       "      <td>June</td>\n",
       "      <td>172.0</td>\n",
       "      <td>43.0</td>\n",
       "      <td>60.0</td>\n",
       "      <td>23233.77</td>\n",
       "      <td>52</td>\n",
       "      <td>NaT</td>\n",
       "      <td>Краснодар</td>\n",
       "      <td>Рафаил</td>\n",
       "      <td>Верещагин</td>\n",
       "      <td>2018-05-25</td>\n",
       "      <td>ultra</td>\n",
       "      <td>1000</td>\n",
       "      <td>30720</td>\n",
       "      <td>3000</td>\n",
       "      <td>1950</td>\n",
       "      <td>150</td>\n",
       "      <td>1</td>\n",
       "      <td>1</td>\n",
       "    </tr>\n",
       "    <tr>\n",
       "      <th>4</th>\n",
       "      <td>1000</td>\n",
       "      <td>May</td>\n",
       "      <td>159.0</td>\n",
       "      <td>22.0</td>\n",
       "      <td>22.0</td>\n",
       "      <td>2253.49</td>\n",
       "      <td>52</td>\n",
       "      <td>NaT</td>\n",
       "      <td>Краснодар</td>\n",
       "      <td>Рафаил</td>\n",
       "      <td>Верещагин</td>\n",
       "      <td>2018-05-25</td>\n",
       "      <td>ultra</td>\n",
       "      <td>1000</td>\n",
       "      <td>30720</td>\n",
       "      <td>3000</td>\n",
       "      <td>1950</td>\n",
       "      <td>150</td>\n",
       "      <td>1</td>\n",
       "      <td>1</td>\n",
       "    </tr>\n",
       "  </tbody>\n",
       "</table>\n",
       "</div>"
      ],
      "text/plain": [
       "   user_id     month  month_calls_duration  calls_total_in_month  \\\n",
       "0     1000    August                 408.0                  52.0   \n",
       "1     1000  December                 333.0                  46.0   \n",
       "2     1000      July                 340.0                  47.0   \n",
       "3     1000      June                 172.0                  43.0   \n",
       "4     1000       May                 159.0                  22.0   \n",
       "\n",
       "   sms_total_in_month  mb_total_in_month  age churn_date       city  \\\n",
       "0                81.0           14055.93   52        NaT  Краснодар   \n",
       "1                70.0            9817.61   52        NaT  Краснодар   \n",
       "2                75.0           14003.64   52        NaT  Краснодар   \n",
       "3                60.0           23233.77   52        NaT  Краснодар   \n",
       "4                22.0            2253.49   52        NaT  Краснодар   \n",
       "\n",
       "  first_name  last_name   reg_date tariff  messages_included  \\\n",
       "0     Рафаил  Верещагин 2018-05-25  ultra               1000   \n",
       "1     Рафаил  Верещагин 2018-05-25  ultra               1000   \n",
       "2     Рафаил  Верещагин 2018-05-25  ultra               1000   \n",
       "3     Рафаил  Верещагин 2018-05-25  ultra               1000   \n",
       "4     Рафаил  Верещагин 2018-05-25  ultra               1000   \n",
       "\n",
       "   mb_per_month_included  minutes_included  rub_monthly_fee  rub_per_gb  \\\n",
       "0                  30720              3000             1950         150   \n",
       "1                  30720              3000             1950         150   \n",
       "2                  30720              3000             1950         150   \n",
       "3                  30720              3000             1950         150   \n",
       "4                  30720              3000             1950         150   \n",
       "\n",
       "   rub_per_message  rub_per_minute  \n",
       "0                1               1  \n",
       "1                1               1  \n",
       "2                1               1  \n",
       "3                1               1  \n",
       "4                1               1  "
      ]
     },
     "metadata": {},
     "output_type": "display_data"
    }
   ],
   "source": [
    "df = df.merge(tariffs, on='tariff', how='outer')\n",
    "display(df.head())"
   ]
  },
  {
   "cell_type": "code",
   "execution_count": 40,
   "id": "84d23277",
   "metadata": {},
   "outputs": [
    {
     "data": {
      "text/plain": [
       "(3216, 20)"
      ]
     },
     "execution_count": 40,
     "metadata": {},
     "output_type": "execute_result"
    }
   ],
   "source": [
    "# check\n",
    "df.shape\n"
   ]
  },
  {
   "cell_type": "code",
   "execution_count": 41,
   "id": "d8c44006",
   "metadata": {},
   "outputs": [
    {
     "data": {
      "text/plain": [
       "user_id                     0\n",
       "month                       2\n",
       "month_calls_duration       42\n",
       "calls_total_in_month       42\n",
       "sms_total_in_month        499\n",
       "mb_total_in_month          13\n",
       "age                         0\n",
       "churn_date               3027\n",
       "city                        0\n",
       "first_name                  0\n",
       "last_name                   0\n",
       "reg_date                    0\n",
       "tariff                      0\n",
       "messages_included           0\n",
       "mb_per_month_included       0\n",
       "minutes_included            0\n",
       "rub_monthly_fee             0\n",
       "rub_per_gb                  0\n",
       "rub_per_message             0\n",
       "rub_per_minute              0\n",
       "dtype: int64"
      ]
     },
     "metadata": {},
     "output_type": "display_data"
    }
   ],
   "source": [
    "# Посмотрим, сколько пропусков в данных\n",
    "display(df.isna().sum())"
   ]
  },
  {
   "cell_type": "code",
   "execution_count": 42,
   "id": "a8354beb",
   "metadata": {},
   "outputs": [
    {
     "data": {
      "text/plain": [
       "user_id                     0\n",
       "month                       2\n",
       "month_calls_duration        0\n",
       "calls_total_in_month        0\n",
       "sms_total_in_month          0\n",
       "mb_total_in_month           0\n",
       "age                         0\n",
       "churn_date               3027\n",
       "city                        0\n",
       "first_name                  0\n",
       "last_name                   0\n",
       "reg_date                    0\n",
       "tariff                      0\n",
       "messages_included           0\n",
       "mb_per_month_included       0\n",
       "minutes_included            0\n",
       "rub_monthly_fee             0\n",
       "rub_per_gb                  0\n",
       "rub_per_message             0\n",
       "rub_per_minute              0\n",
       "dtype: int64"
      ]
     },
     "metadata": {},
     "output_type": "display_data"
    }
   ],
   "source": [
    "# Заменим пропущенные значения нулями\n",
    "df['sms_total_in_month'] = df['sms_total_in_month'].fillna(0)\n",
    "df['mb_total_in_month'] = df['mb_total_in_month'].fillna(0)\n",
    "df['month_calls_duration'] = df['month_calls_duration'].fillna(0)\n",
    "df['calls_total_in_month'] = df['calls_total_in_month'].fillna(0)\n",
    "display(df.isna().sum())"
   ]
  },
  {
   "cell_type": "code",
   "execution_count": 43,
   "id": "350d7af8",
   "metadata": {},
   "outputs": [
    {
     "data": {
      "text/plain": [
       "0"
      ]
     },
     "metadata": {},
     "output_type": "display_data"
    }
   ],
   "source": [
    "display(df.duplicated().sum()) #проверим на наличие дублей"
   ]
  },
  {
   "cell_type": "markdown",
   "id": "692be860",
   "metadata": {},
   "source": [
    "Посчитаем выручку на одного пользователя"
   ]
  },
  {
   "cell_type": "code",
   "execution_count": 44,
   "id": "9cbe5213",
   "metadata": {},
   "outputs": [],
   "source": [
    "def above_the_tariff(row):\n",
    "    sms = (row['sms_total_in_month'] - row['messages_included']) * row['rub_per_message']\n",
    "    mins = np.ceil(row['month_calls_duration'] - row['minutes_included']) * row['rub_per_minute']\n",
    "    mbs = np.ceil((row['mb_total_in_month'] - row['mb_per_month_included'])  / 1024 )* row['rub_per_gb']\n",
    "    total = 0\n",
    "    for i in [sms, mins, mbs]:\n",
    "        if i > 0:\n",
    "            total += i\n",
    "    return total"
   ]
  },
  {
   "cell_type": "code",
   "execution_count": 45,
   "id": "3b2fd866",
   "metadata": {},
   "outputs": [
    {
     "data": {
      "text/plain": [
       "(4.0, 4.0, 4.0)"
      ]
     },
     "execution_count": 45,
     "metadata": {},
     "output_type": "execute_result"
    }
   ],
   "source": [
    "# check\n",
    "np.floor(4.5), np.floor(4.1), np.floor(4.9999)"
   ]
  },
  {
   "cell_type": "code",
   "execution_count": 46,
   "id": "a27a05fc",
   "metadata": {},
   "outputs": [
    {
     "data": {
      "text/html": [
       "<div>\n",
       "<style scoped>\n",
       "    .dataframe tbody tr th:only-of-type {\n",
       "        vertical-align: middle;\n",
       "    }\n",
       "\n",
       "    .dataframe tbody tr th {\n",
       "        vertical-align: top;\n",
       "    }\n",
       "\n",
       "    .dataframe thead th {\n",
       "        text-align: right;\n",
       "    }\n",
       "</style>\n",
       "<table border=\"1\" class=\"dataframe\">\n",
       "  <thead>\n",
       "    <tr style=\"text-align: right;\">\n",
       "      <th></th>\n",
       "      <th>user_id</th>\n",
       "      <th>month</th>\n",
       "      <th>month_calls_duration</th>\n",
       "      <th>calls_total_in_month</th>\n",
       "      <th>sms_total_in_month</th>\n",
       "      <th>mb_total_in_month</th>\n",
       "      <th>age</th>\n",
       "      <th>churn_date</th>\n",
       "      <th>city</th>\n",
       "      <th>first_name</th>\n",
       "      <th>last_name</th>\n",
       "      <th>reg_date</th>\n",
       "      <th>tariff</th>\n",
       "      <th>messages_included</th>\n",
       "      <th>mb_per_month_included</th>\n",
       "      <th>minutes_included</th>\n",
       "      <th>rub_monthly_fee</th>\n",
       "      <th>rub_per_gb</th>\n",
       "      <th>rub_per_message</th>\n",
       "      <th>rub_per_minute</th>\n",
       "    </tr>\n",
       "  </thead>\n",
       "  <tbody>\n",
       "    <tr>\n",
       "      <th>0</th>\n",
       "      <td>1000</td>\n",
       "      <td>August</td>\n",
       "      <td>408.0</td>\n",
       "      <td>52.0</td>\n",
       "      <td>81.0</td>\n",
       "      <td>14055.93</td>\n",
       "      <td>52</td>\n",
       "      <td>NaT</td>\n",
       "      <td>Краснодар</td>\n",
       "      <td>Рафаил</td>\n",
       "      <td>Верещагин</td>\n",
       "      <td>2018-05-25</td>\n",
       "      <td>ultra</td>\n",
       "      <td>1000</td>\n",
       "      <td>30720</td>\n",
       "      <td>3000</td>\n",
       "      <td>1950</td>\n",
       "      <td>150</td>\n",
       "      <td>1</td>\n",
       "      <td>1</td>\n",
       "    </tr>\n",
       "    <tr>\n",
       "      <th>1</th>\n",
       "      <td>1000</td>\n",
       "      <td>December</td>\n",
       "      <td>333.0</td>\n",
       "      <td>46.0</td>\n",
       "      <td>70.0</td>\n",
       "      <td>9817.61</td>\n",
       "      <td>52</td>\n",
       "      <td>NaT</td>\n",
       "      <td>Краснодар</td>\n",
       "      <td>Рафаил</td>\n",
       "      <td>Верещагин</td>\n",
       "      <td>2018-05-25</td>\n",
       "      <td>ultra</td>\n",
       "      <td>1000</td>\n",
       "      <td>30720</td>\n",
       "      <td>3000</td>\n",
       "      <td>1950</td>\n",
       "      <td>150</td>\n",
       "      <td>1</td>\n",
       "      <td>1</td>\n",
       "    </tr>\n",
       "    <tr>\n",
       "      <th>2</th>\n",
       "      <td>1000</td>\n",
       "      <td>July</td>\n",
       "      <td>340.0</td>\n",
       "      <td>47.0</td>\n",
       "      <td>75.0</td>\n",
       "      <td>14003.64</td>\n",
       "      <td>52</td>\n",
       "      <td>NaT</td>\n",
       "      <td>Краснодар</td>\n",
       "      <td>Рафаил</td>\n",
       "      <td>Верещагин</td>\n",
       "      <td>2018-05-25</td>\n",
       "      <td>ultra</td>\n",
       "      <td>1000</td>\n",
       "      <td>30720</td>\n",
       "      <td>3000</td>\n",
       "      <td>1950</td>\n",
       "      <td>150</td>\n",
       "      <td>1</td>\n",
       "      <td>1</td>\n",
       "    </tr>\n",
       "    <tr>\n",
       "      <th>3</th>\n",
       "      <td>1000</td>\n",
       "      <td>June</td>\n",
       "      <td>172.0</td>\n",
       "      <td>43.0</td>\n",
       "      <td>60.0</td>\n",
       "      <td>23233.77</td>\n",
       "      <td>52</td>\n",
       "      <td>NaT</td>\n",
       "      <td>Краснодар</td>\n",
       "      <td>Рафаил</td>\n",
       "      <td>Верещагин</td>\n",
       "      <td>2018-05-25</td>\n",
       "      <td>ultra</td>\n",
       "      <td>1000</td>\n",
       "      <td>30720</td>\n",
       "      <td>3000</td>\n",
       "      <td>1950</td>\n",
       "      <td>150</td>\n",
       "      <td>1</td>\n",
       "      <td>1</td>\n",
       "    </tr>\n",
       "    <tr>\n",
       "      <th>4</th>\n",
       "      <td>1000</td>\n",
       "      <td>May</td>\n",
       "      <td>159.0</td>\n",
       "      <td>22.0</td>\n",
       "      <td>22.0</td>\n",
       "      <td>2253.49</td>\n",
       "      <td>52</td>\n",
       "      <td>NaT</td>\n",
       "      <td>Краснодар</td>\n",
       "      <td>Рафаил</td>\n",
       "      <td>Верещагин</td>\n",
       "      <td>2018-05-25</td>\n",
       "      <td>ultra</td>\n",
       "      <td>1000</td>\n",
       "      <td>30720</td>\n",
       "      <td>3000</td>\n",
       "      <td>1950</td>\n",
       "      <td>150</td>\n",
       "      <td>1</td>\n",
       "      <td>1</td>\n",
       "    </tr>\n",
       "  </tbody>\n",
       "</table>\n",
       "</div>"
      ],
      "text/plain": [
       "   user_id     month  month_calls_duration  calls_total_in_month  \\\n",
       "0     1000    August                 408.0                  52.0   \n",
       "1     1000  December                 333.0                  46.0   \n",
       "2     1000      July                 340.0                  47.0   \n",
       "3     1000      June                 172.0                  43.0   \n",
       "4     1000       May                 159.0                  22.0   \n",
       "\n",
       "   sms_total_in_month  mb_total_in_month  age churn_date       city  \\\n",
       "0                81.0           14055.93   52        NaT  Краснодар   \n",
       "1                70.0            9817.61   52        NaT  Краснодар   \n",
       "2                75.0           14003.64   52        NaT  Краснодар   \n",
       "3                60.0           23233.77   52        NaT  Краснодар   \n",
       "4                22.0            2253.49   52        NaT  Краснодар   \n",
       "\n",
       "  first_name  last_name   reg_date tariff  messages_included  \\\n",
       "0     Рафаил  Верещагин 2018-05-25  ultra               1000   \n",
       "1     Рафаил  Верещагин 2018-05-25  ultra               1000   \n",
       "2     Рафаил  Верещагин 2018-05-25  ultra               1000   \n",
       "3     Рафаил  Верещагин 2018-05-25  ultra               1000   \n",
       "4     Рафаил  Верещагин 2018-05-25  ultra               1000   \n",
       "\n",
       "   mb_per_month_included  minutes_included  rub_monthly_fee  rub_per_gb  \\\n",
       "0                  30720              3000             1950         150   \n",
       "1                  30720              3000             1950         150   \n",
       "2                  30720              3000             1950         150   \n",
       "3                  30720              3000             1950         150   \n",
       "4                  30720              3000             1950         150   \n",
       "\n",
       "   rub_per_message  rub_per_minute  \n",
       "0                1               1  \n",
       "1                1               1  \n",
       "2                1               1  \n",
       "3                1               1  \n",
       "4                1               1  "
      ]
     },
     "metadata": {},
     "output_type": "display_data"
    }
   ],
   "source": [
    "display(df.head())"
   ]
  },
  {
   "cell_type": "code",
   "execution_count": 47,
   "id": "7c8c4a9b",
   "metadata": {},
   "outputs": [],
   "source": [
    "df['above_the_tariff'] = df.apply(lambda x: above_the_tariff(x), axis=1)\n"
   ]
  },
  {
   "cell_type": "code",
   "execution_count": 48,
   "id": "cdd6fe7a",
   "metadata": {},
   "outputs": [],
   "source": [
    "df['total_paid'] = df['rub_monthly_fee'] + df['above_the_tariff']\n"
   ]
  },
  {
   "cell_type": "code",
   "execution_count": 49,
   "id": "4fcfa5ef",
   "metadata": {
    "scrolled": false
   },
   "outputs": [
    {
     "data": {
      "text/html": [
       "<div>\n",
       "<style scoped>\n",
       "    .dataframe tbody tr th:only-of-type {\n",
       "        vertical-align: middle;\n",
       "    }\n",
       "\n",
       "    .dataframe tbody tr th {\n",
       "        vertical-align: top;\n",
       "    }\n",
       "\n",
       "    .dataframe thead th {\n",
       "        text-align: right;\n",
       "    }\n",
       "</style>\n",
       "<table border=\"1\" class=\"dataframe\">\n",
       "  <thead>\n",
       "    <tr style=\"text-align: right;\">\n",
       "      <th></th>\n",
       "      <th>user_id</th>\n",
       "      <th>month</th>\n",
       "      <th>month_calls_duration</th>\n",
       "      <th>calls_total_in_month</th>\n",
       "      <th>sms_total_in_month</th>\n",
       "      <th>mb_total_in_month</th>\n",
       "      <th>age</th>\n",
       "      <th>churn_date</th>\n",
       "      <th>city</th>\n",
       "      <th>first_name</th>\n",
       "      <th>...</th>\n",
       "      <th>tariff</th>\n",
       "      <th>messages_included</th>\n",
       "      <th>mb_per_month_included</th>\n",
       "      <th>minutes_included</th>\n",
       "      <th>rub_monthly_fee</th>\n",
       "      <th>rub_per_gb</th>\n",
       "      <th>rub_per_message</th>\n",
       "      <th>rub_per_minute</th>\n",
       "      <th>above_the_tariff</th>\n",
       "      <th>total_paid</th>\n",
       "    </tr>\n",
       "  </thead>\n",
       "  <tbody>\n",
       "    <tr>\n",
       "      <th>2298</th>\n",
       "      <td>1286</td>\n",
       "      <td>December</td>\n",
       "      <td>739.0</td>\n",
       "      <td>95.0</td>\n",
       "      <td>68.0</td>\n",
       "      <td>35108.07</td>\n",
       "      <td>19</td>\n",
       "      <td>NaT</td>\n",
       "      <td>Москва</td>\n",
       "      <td>Рашид</td>\n",
       "      <td>...</td>\n",
       "      <td>smart</td>\n",
       "      <td>50</td>\n",
       "      <td>15360</td>\n",
       "      <td>500</td>\n",
       "      <td>550</td>\n",
       "      <td>200</td>\n",
       "      <td>3</td>\n",
       "      <td>3</td>\n",
       "      <td>4771.0</td>\n",
       "      <td>5321.0</td>\n",
       "    </tr>\n",
       "    <tr>\n",
       "      <th>2176</th>\n",
       "      <td>1261</td>\n",
       "      <td>December</td>\n",
       "      <td>1074.0</td>\n",
       "      <td>141.0</td>\n",
       "      <td>22.0</td>\n",
       "      <td>32650.91</td>\n",
       "      <td>46</td>\n",
       "      <td>NaT</td>\n",
       "      <td>Казань</td>\n",
       "      <td>Мадина</td>\n",
       "      <td>...</td>\n",
       "      <td>smart</td>\n",
       "      <td>50</td>\n",
       "      <td>15360</td>\n",
       "      <td>500</td>\n",
       "      <td>550</td>\n",
       "      <td>200</td>\n",
       "      <td>3</td>\n",
       "      <td>3</td>\n",
       "      <td>5122.0</td>\n",
       "      <td>5672.0</td>\n",
       "    </tr>\n",
       "    <tr>\n",
       "      <th>3157</th>\n",
       "      <td>1486</td>\n",
       "      <td>November</td>\n",
       "      <td>764.0</td>\n",
       "      <td>108.0</td>\n",
       "      <td>96.0</td>\n",
       "      <td>36266.11</td>\n",
       "      <td>35</td>\n",
       "      <td>NaT</td>\n",
       "      <td>Нижний Новгород</td>\n",
       "      <td>Матвей</td>\n",
       "      <td>...</td>\n",
       "      <td>smart</td>\n",
       "      <td>50</td>\n",
       "      <td>15360</td>\n",
       "      <td>500</td>\n",
       "      <td>550</td>\n",
       "      <td>200</td>\n",
       "      <td>3</td>\n",
       "      <td>3</td>\n",
       "      <td>5130.0</td>\n",
       "      <td>5680.0</td>\n",
       "    </tr>\n",
       "    <tr>\n",
       "      <th>1183</th>\n",
       "      <td>1042</td>\n",
       "      <td>December</td>\n",
       "      <td>728.0</td>\n",
       "      <td>121.0</td>\n",
       "      <td>75.0</td>\n",
       "      <td>37165.69</td>\n",
       "      <td>42</td>\n",
       "      <td>NaT</td>\n",
       "      <td>Хабаровск</td>\n",
       "      <td>Константин</td>\n",
       "      <td>...</td>\n",
       "      <td>smart</td>\n",
       "      <td>50</td>\n",
       "      <td>15360</td>\n",
       "      <td>500</td>\n",
       "      <td>550</td>\n",
       "      <td>200</td>\n",
       "      <td>3</td>\n",
       "      <td>3</td>\n",
       "      <td>5159.0</td>\n",
       "      <td>5709.0</td>\n",
       "    </tr>\n",
       "    <tr>\n",
       "      <th>3156</th>\n",
       "      <td>1486</td>\n",
       "      <td>December</td>\n",
       "      <td>1007.0</td>\n",
       "      <td>133.0</td>\n",
       "      <td>83.0</td>\n",
       "      <td>38552.45</td>\n",
       "      <td>35</td>\n",
       "      <td>NaT</td>\n",
       "      <td>Нижний Новгород</td>\n",
       "      <td>Матвей</td>\n",
       "      <td>...</td>\n",
       "      <td>smart</td>\n",
       "      <td>50</td>\n",
       "      <td>15360</td>\n",
       "      <td>500</td>\n",
       "      <td>550</td>\n",
       "      <td>200</td>\n",
       "      <td>3</td>\n",
       "      <td>3</td>\n",
       "      <td>6220.0</td>\n",
       "      <td>6770.0</td>\n",
       "    </tr>\n",
       "  </tbody>\n",
       "</table>\n",
       "<p>5 rows × 22 columns</p>\n",
       "</div>"
      ],
      "text/plain": [
       "      user_id     month  month_calls_duration  calls_total_in_month  \\\n",
       "2298     1286  December                 739.0                  95.0   \n",
       "2176     1261  December                1074.0                 141.0   \n",
       "3157     1486  November                 764.0                 108.0   \n",
       "1183     1042  December                 728.0                 121.0   \n",
       "3156     1486  December                1007.0                 133.0   \n",
       "\n",
       "      sms_total_in_month  mb_total_in_month  age churn_date             city  \\\n",
       "2298                68.0           35108.07   19        NaT           Москва   \n",
       "2176                22.0           32650.91   46        NaT           Казань   \n",
       "3157                96.0           36266.11   35        NaT  Нижний Новгород   \n",
       "1183                75.0           37165.69   42        NaT        Хабаровск   \n",
       "3156                83.0           38552.45   35        NaT  Нижний Новгород   \n",
       "\n",
       "      first_name  ... tariff messages_included mb_per_month_included  \\\n",
       "2298       Рашид  ...  smart                50                 15360   \n",
       "2176      Мадина  ...  smart                50                 15360   \n",
       "3157      Матвей  ...  smart                50                 15360   \n",
       "1183  Константин  ...  smart                50                 15360   \n",
       "3156      Матвей  ...  smart                50                 15360   \n",
       "\n",
       "      minutes_included  rub_monthly_fee  rub_per_gb  rub_per_message  \\\n",
       "2298               500              550         200                3   \n",
       "2176               500              550         200                3   \n",
       "3157               500              550         200                3   \n",
       "1183               500              550         200                3   \n",
       "3156               500              550         200                3   \n",
       "\n",
       "      rub_per_minute  above_the_tariff  total_paid  \n",
       "2298               3            4771.0      5321.0  \n",
       "2176               3            5122.0      5672.0  \n",
       "3157               3            5130.0      5680.0  \n",
       "1183               3            5159.0      5709.0  \n",
       "3156               3            6220.0      6770.0  \n",
       "\n",
       "[5 rows x 22 columns]"
      ]
     },
     "metadata": {},
     "output_type": "display_data"
    }
   ],
   "source": [
    "display(df.sort_values(by='total_paid').tail())"
   ]
  },
  {
   "cell_type": "markdown",
   "id": "b038a446",
   "metadata": {},
   "source": [
    "Мы получили данные по выручке на каждого пользователя. "
   ]
  },
  {
   "cell_type": "code",
   "execution_count": 50,
   "id": "6dd616c6",
   "metadata": {
    "scrolled": true
   },
   "outputs": [
    {
     "data": {
      "text/html": [
       "<style  type=\"text/css\" >\n",
       "</style><table id=\"T_0e024_\" ><thead>    <tr>        <th class=\"blank level0\" ></th>        <th class=\"col_heading level0 col0\" colspan=\"4\">total_paid</th>    </tr>    <tr>        <th class=\"blank level1\" ></th>        <th class=\"col_heading level1 col0\" >median</th>        <th class=\"col_heading level1 col1\" >mean</th>        <th class=\"col_heading level1 col2\" >var</th>        <th class=\"col_heading level1 col3\" >std</th>    </tr>    <tr>        <th class=\"index_name level0\" >tariff</th>        <th class=\"blank\" ></th>        <th class=\"blank\" ></th>        <th class=\"blank\" ></th>        <th class=\"blank\" ></th>    </tr></thead><tbody>\n",
       "                <tr>\n",
       "                        <th id=\"T_0e024_level0_row0\" class=\"row_heading level0 row0\" >smart</th>\n",
       "                        <td id=\"T_0e024_row0_col0\" class=\"data row0 col0\" >1021</td>\n",
       "                        <td id=\"T_0e024_row0_col1\" class=\"data row0 col1\" >1290</td>\n",
       "                        <td id=\"T_0e024_row0_col2\" class=\"data row0 col2\" >669731</td>\n",
       "                        <td id=\"T_0e024_row0_col3\" class=\"data row0 col3\" >818</td>\n",
       "            </tr>\n",
       "            <tr>\n",
       "                        <th id=\"T_0e024_level0_row1\" class=\"row_heading level0 row1\" >ultra</th>\n",
       "                        <td id=\"T_0e024_row1_col0\" class=\"data row1 col0\" >1950</td>\n",
       "                        <td id=\"T_0e024_row1_col1\" class=\"data row1 col1\" >2070</td>\n",
       "                        <td id=\"T_0e024_row1_col2\" class=\"data row1 col2\" >141388</td>\n",
       "                        <td id=\"T_0e024_row1_col3\" class=\"data row1 col3\" >376</td>\n",
       "            </tr>\n",
       "    </tbody></table>"
      ],
      "text/plain": [
       "<pandas.io.formats.style.Styler at 0x7ff2669b13a0>"
      ]
     },
     "execution_count": 50,
     "metadata": {},
     "output_type": "execute_result"
    }
   ],
   "source": [
    "df.groupby('tariff')\\\n",
    "  .agg({'total_paid':['median','mean','var','std']})\\\n",
    "  .style.format(\"{:.0f}\")"
   ]
  },
  {
   "cell_type": "code",
   "execution_count": 51,
   "id": "e69b5a31",
   "metadata": {},
   "outputs": [
    {
     "data": {
      "text/plain": [
       "4916951.0"
      ]
     },
     "execution_count": 51,
     "metadata": {},
     "output_type": "execute_result"
    }
   ],
   "source": [
    "df['total_paid'].sum()"
   ]
  },
  {
   "cell_type": "markdown",
   "id": "aaec2407",
   "metadata": {},
   "source": [
    "### Вывод"
   ]
  },
  {
   "cell_type": "markdown",
   "id": "1d2818da",
   "metadata": {},
   "source": [
    "Мы выполнили предобработку данных: привели названия столбцов к общему наименованию, изменили формат отображения даты, изменили тип данных на целочисленный в некоторых столбцах.\n",
    "\n",
    "Также были рассчитаны показатели для дальнейшего анализа, отражающие параметры ежемесячной выручки с каждого абонента, его статистики расходов минут, смс, Мб."
   ]
  },
  {
   "cell_type": "markdown",
   "id": "4b679d65",
   "metadata": {},
   "source": [
    "## 3. Анализ данных"
   ]
  },
  {
   "cell_type": "markdown",
   "id": "c940aab6",
   "metadata": {},
   "source": [
    "- Опишите поведение клиентов оператора, исходя из выборки\n",
    "- Сколько минут разговора, сколько сообщений и какой объём интернет-трафика требуется пользователям каждого тарифа\n",
    "в месяц? \n",
    "- Посчитайте среднее количество, дисперсию и стандартное отклонение\n",
    "- Постройте гистограммы. Опишите распределения"
   ]
  },
  {
   "cell_type": "markdown",
   "id": "86e8927c",
   "metadata": {},
   "source": [
    "Посмотрим на описательную статистику по общей выручке и по выручке, полученной сверх абонплаты."
   ]
  },
  {
   "cell_type": "code",
   "execution_count": 52,
   "id": "f598c73e",
   "metadata": {
    "scrolled": false
   },
   "outputs": [
    {
     "data": {
      "text/html": [
       "<style  type=\"text/css\" >\n",
       "</style><table id=\"T_8a7b5_\" ><thead>    <tr>        <th class=\"blank level0\" ></th>        <th class=\"col_heading level0 col0\" colspan=\"8\">total_paid</th>    </tr>    <tr>        <th class=\"blank level1\" ></th>        <th class=\"col_heading level1 col0\" >median</th>        <th class=\"col_heading level1 col1\" >mean</th>        <th class=\"col_heading level1 col2\" >var</th>        <th class=\"col_heading level1 col3\" >std</th>        <th class=\"col_heading level1 col4\" >sum</th>        <th class=\"col_heading level1 col5\" >min</th>        <th class=\"col_heading level1 col6\" >max</th>        <th class=\"col_heading level1 col7\" >count</th>    </tr>    <tr>        <th class=\"index_name level0\" >tariff</th>        <th class=\"blank\" ></th>        <th class=\"blank\" ></th>        <th class=\"blank\" ></th>        <th class=\"blank\" ></th>        <th class=\"blank\" ></th>        <th class=\"blank\" ></th>        <th class=\"blank\" ></th>        <th class=\"blank\" ></th>    </tr></thead><tbody>\n",
       "                <tr>\n",
       "                        <th id=\"T_8a7b5_level0_row0\" class=\"row_heading level0 row0\" >smart</th>\n",
       "                        <td id=\"T_8a7b5_row0_col0\" class=\"data row0 col0\" >1021</td>\n",
       "                        <td id=\"T_8a7b5_row0_col1\" class=\"data row0 col1\" >1290</td>\n",
       "                        <td id=\"T_8a7b5_row0_col2\" class=\"data row0 col2\" >669731</td>\n",
       "                        <td id=\"T_8a7b5_row0_col3\" class=\"data row0 col3\" >818</td>\n",
       "                        <td id=\"T_8a7b5_row0_col4\" class=\"data row0 col4\" >2875901</td>\n",
       "                        <td id=\"T_8a7b5_row0_col5\" class=\"data row0 col5\" >550</td>\n",
       "                        <td id=\"T_8a7b5_row0_col6\" class=\"data row0 col6\" >6770</td>\n",
       "                        <td id=\"T_8a7b5_row0_col7\" class=\"data row0 col7\" >2230</td>\n",
       "            </tr>\n",
       "            <tr>\n",
       "                        <th id=\"T_8a7b5_level0_row1\" class=\"row_heading level0 row1\" >ultra</th>\n",
       "                        <td id=\"T_8a7b5_row1_col0\" class=\"data row1 col0\" >1950</td>\n",
       "                        <td id=\"T_8a7b5_row1_col1\" class=\"data row1 col1\" >2070</td>\n",
       "                        <td id=\"T_8a7b5_row1_col2\" class=\"data row1 col2\" >141388</td>\n",
       "                        <td id=\"T_8a7b5_row1_col3\" class=\"data row1 col3\" >376</td>\n",
       "                        <td id=\"T_8a7b5_row1_col4\" class=\"data row1 col4\" >2041050</td>\n",
       "                        <td id=\"T_8a7b5_row1_col5\" class=\"data row1 col5\" >1950</td>\n",
       "                        <td id=\"T_8a7b5_row1_col6\" class=\"data row1 col6\" >4800</td>\n",
       "                        <td id=\"T_8a7b5_row1_col7\" class=\"data row1 col7\" >986</td>\n",
       "            </tr>\n",
       "    </tbody></table>"
      ],
      "text/plain": [
       "<pandas.io.formats.style.Styler at 0x7ff2669b11c0>"
      ]
     },
     "metadata": {},
     "output_type": "display_data"
    }
   ],
   "source": [
    "display(df.groupby('tariff')\\\n",
    "  .agg({'total_paid':['median','mean','var','std', 'sum', 'min', 'max', 'count']})\\\n",
    "  .style.format(\"{:.0f}\"))"
   ]
  },
  {
   "cell_type": "markdown",
   "id": "8dbd945a",
   "metadata": {},
   "source": [
    "Медианный показатель общей выручки на человека по тарифу Смарт - 1021 руб/мес., средний - 1290 руб. Максимум - 6670 руб.\n",
    "\n",
    "Медианный показатель общей выручки на человека по Ультре - 1950 руб., средний - 2070 руб. Максимум - 4800 руб./мес"
   ]
  },
  {
   "cell_type": "code",
   "execution_count": 53,
   "id": "04819938",
   "metadata": {
    "scrolled": true
   },
   "outputs": [
    {
     "data": {
      "text/html": [
       "<style  type=\"text/css\" >\n",
       "</style><table id=\"T_60440_\" ><thead>    <tr>        <th class=\"blank level0\" ></th>        <th class=\"col_heading level0 col0\" colspan=\"8\">above_the_tariff</th>    </tr>    <tr>        <th class=\"blank level1\" ></th>        <th class=\"col_heading level1 col0\" >median</th>        <th class=\"col_heading level1 col1\" >mean</th>        <th class=\"col_heading level1 col2\" >var</th>        <th class=\"col_heading level1 col3\" >std</th>        <th class=\"col_heading level1 col4\" >sum</th>        <th class=\"col_heading level1 col5\" >min</th>        <th class=\"col_heading level1 col6\" >max</th>        <th class=\"col_heading level1 col7\" >count</th>    </tr>    <tr>        <th class=\"index_name level0\" >tariff</th>        <th class=\"blank\" ></th>        <th class=\"blank\" ></th>        <th class=\"blank\" ></th>        <th class=\"blank\" ></th>        <th class=\"blank\" ></th>        <th class=\"blank\" ></th>        <th class=\"blank\" ></th>        <th class=\"blank\" ></th>    </tr></thead><tbody>\n",
       "                <tr>\n",
       "                        <th id=\"T_60440_level0_row0\" class=\"row_heading level0 row0\" >smart</th>\n",
       "                        <td id=\"T_60440_row0_col0\" class=\"data row0 col0\" >471</td>\n",
       "                        <td id=\"T_60440_row0_col1\" class=\"data row0 col1\" >740</td>\n",
       "                        <td id=\"T_60440_row0_col2\" class=\"data row0 col2\" >669731</td>\n",
       "                        <td id=\"T_60440_row0_col3\" class=\"data row0 col3\" >818</td>\n",
       "                        <td id=\"T_60440_row0_col4\" class=\"data row0 col4\" >1649401</td>\n",
       "                        <td id=\"T_60440_row0_col5\" class=\"data row0 col5\" >0</td>\n",
       "                        <td id=\"T_60440_row0_col6\" class=\"data row0 col6\" >6220</td>\n",
       "                        <td id=\"T_60440_row0_col7\" class=\"data row0 col7\" >2230</td>\n",
       "            </tr>\n",
       "            <tr>\n",
       "                        <th id=\"T_60440_level0_row1\" class=\"row_heading level0 row1\" >ultra</th>\n",
       "                        <td id=\"T_60440_row1_col0\" class=\"data row1 col0\" >0</td>\n",
       "                        <td id=\"T_60440_row1_col1\" class=\"data row1 col1\" >120</td>\n",
       "                        <td id=\"T_60440_row1_col2\" class=\"data row1 col2\" >141388</td>\n",
       "                        <td id=\"T_60440_row1_col3\" class=\"data row1 col3\" >376</td>\n",
       "                        <td id=\"T_60440_row1_col4\" class=\"data row1 col4\" >118350</td>\n",
       "                        <td id=\"T_60440_row1_col5\" class=\"data row1 col5\" >0</td>\n",
       "                        <td id=\"T_60440_row1_col6\" class=\"data row1 col6\" >2850</td>\n",
       "                        <td id=\"T_60440_row1_col7\" class=\"data row1 col7\" >986</td>\n",
       "            </tr>\n",
       "    </tbody></table>"
      ],
      "text/plain": [
       "<pandas.io.formats.style.Styler at 0x7ff2669542b0>"
      ]
     },
     "metadata": {},
     "output_type": "display_data"
    }
   ],
   "source": [
    "display(df.groupby('tariff')\\\n",
    "  .agg({'above_the_tariff':['median','mean','var','std', 'sum', 'min', 'max', 'count']})\\\n",
    "  .style.format(\"{:.0f}\"))"
   ]
  },
  {
   "cell_type": "markdown",
   "id": "f1d3b664",
   "metadata": {},
   "source": [
    "Можно отметить, что в тарифе Ультра немало клиентов, не выходящих за рамки тарифного плана: средняя выручка на человека сверх абонплаты составляет 120 руб., а медианная и вовсе близка к 0.\n",
    "\n",
    "В сумме на всех пользователей тарифа Ультра выручка составила чуть более 2 млн руб., из которых только 118,4 тыс.руб. (5%) - за счет превышения лимита.\n",
    "\n",
    "При этом в Смарте превышение лимитов приносит компании в среднем 740 руб./чел, медианное значение равно 471 руб./чел.\n",
    "\n",
    "В сумме на всех пользователей тариф принес компании более 2,8 млн руб., в том числе за счет превышения лимитов - почти 1,65 млн руб. (59%)."
   ]
  },
  {
   "cell_type": "markdown",
   "id": "b5f3756c",
   "metadata": {},
   "source": [
    "Построим гистограммы отдельно по исследуемым параметрам."
   ]
  },
  {
   "cell_type": "code",
   "execution_count": 54,
   "id": "23f78cef",
   "metadata": {},
   "outputs": [
    {
     "data": {
      "image/png": "[encoded data removed]",
      "text/plain": [
       "<Figure size 432x288 with 1 Axes>"
      ]
     },
     "metadata": {
      "needs_background": "light"
     },
     "output_type": "display_data"
    }
   ],
   "source": [
    "df[df['tariff'] == 'ultra']['total_paid'].plot(kind='hist', bins=10)\n",
    "plt.title('Ультра - выручка на человека в месяц');"
   ]
  },
  {
   "cell_type": "code",
   "execution_count": 55,
   "id": "087fc1af",
   "metadata": {},
   "outputs": [
    {
     "data": {
      "image/png": "[encoded data removed]",
      "text/plain": [
       "<Figure size 432x288 with 1 Axes>"
      ]
     },
     "metadata": {
      "needs_background": "light"
     },
     "output_type": "display_data"
    }
   ],
   "source": [
    "df[df['tariff'] == 'smart']['total_paid'].plot(kind='hist', bins=100) # изменил кол-во корзин\n",
    "plt.title('Смарт - выручка на человека в месяц');"
   ]
  },
  {
   "cell_type": "markdown",
   "id": "140a5eeb",
   "metadata": {},
   "source": [
    "На гистограммах видно наглядно, что пользователи тарифа Смарт чаще превышают лимиты, включенные в абонплату.\n",
    "\n",
    "Перейдем к метрикам звонков, смс и интернета."
   ]
  },
  {
   "cell_type": "code",
   "execution_count": 56,
   "id": "845d81fe",
   "metadata": {},
   "outputs": [
    {
     "data": {
      "text/html": [
       "<style  type=\"text/css\" >\n",
       "</style><table id=\"T_55654_\" ><thead>    <tr>        <th class=\"blank level0\" ></th>        <th class=\"col_heading level0 col0\" colspan=\"4\">month_calls_duration</th>    </tr>    <tr>        <th class=\"blank level1\" ></th>        <th class=\"col_heading level1 col0\" >median</th>        <th class=\"col_heading level1 col1\" >mean</th>        <th class=\"col_heading level1 col2\" >var</th>        <th class=\"col_heading level1 col3\" >std</th>    </tr>    <tr>        <th class=\"index_name level0\" >tariff</th>        <th class=\"blank\" ></th>        <th class=\"blank\" ></th>        <th class=\"blank\" ></th>        <th class=\"blank\" ></th>    </tr></thead><tbody>\n",
       "                <tr>\n",
       "                        <th id=\"T_55654_level0_row0\" class=\"row_heading level0 row0\" >smart</th>\n",
       "                        <td id=\"T_55654_row0_col0\" class=\"data row0 col0\" >422</td>\n",
       "                        <td id=\"T_55654_row0_col1\" class=\"data row0 col1\" >418</td>\n",
       "                        <td id=\"T_55654_row0_col2\" class=\"data row0 col2\" >36281</td>\n",
       "                        <td id=\"T_55654_row0_col3\" class=\"data row0 col3\" >190</td>\n",
       "            </tr>\n",
       "            <tr>\n",
       "                        <th id=\"T_55654_level0_row1\" class=\"row_heading level0 row1\" >ultra</th>\n",
       "                        <td id=\"T_55654_row1_col0\" class=\"data row1 col0\" >518</td>\n",
       "                        <td id=\"T_55654_row1_col1\" class=\"data row1 col1\" >526</td>\n",
       "                        <td id=\"T_55654_row1_col2\" class=\"data row1 col2\" >101052</td>\n",
       "                        <td id=\"T_55654_row1_col3\" class=\"data row1 col3\" >318</td>\n",
       "            </tr>\n",
       "    </tbody></table>"
      ],
      "text/plain": [
       "<pandas.io.formats.style.Styler at 0x7ff2665ff130>"
      ]
     },
     "execution_count": 56,
     "metadata": {},
     "output_type": "execute_result"
    }
   ],
   "source": [
    "df.groupby('tariff')\\\n",
    "  .agg({'month_calls_duration':['median','mean','var','std']})\\\n",
    "  .style.format(\"{:.0f}\")"
   ]
  },
  {
   "cell_type": "code",
   "execution_count": 57,
   "id": "ccd75a2a",
   "metadata": {},
   "outputs": [
    {
     "data": {
      "image/png": "[encoded data removed]",
      "text/plain": [
       "<Figure size 720x360 with 1 Axes>"
      ]
     },
     "metadata": {
      "needs_background": "light"
     },
     "output_type": "display_data"
    }
   ],
   "source": [
    "df[df['tariff'] == 'smart']['month_calls_duration'].plot(kind='hist', bins=10, range = (0, 1800), figsize = (10,5), grid = True )\n",
    "plt.title('Смарт — Звонки в минутах в месяц');"
   ]
  },
  {
   "cell_type": "code",
   "execution_count": 58,
   "id": "53efe799",
   "metadata": {},
   "outputs": [
    {
     "data": {
      "image/png": "[encoded data removed]",
      "text/plain": [
       "<Figure size 720x360 with 1 Axes>"
      ]
     },
     "metadata": {
      "needs_background": "light"
     },
     "output_type": "display_data"
    }
   ],
   "source": [
    "df[df['tariff'] == 'ultra']['month_calls_duration'].plot(kind='hist', bins=10, range = (0, 3000), figsize = (10,5), grid = True)\n",
    "plt.title('Ультра — Звонки в минутах в месяц');"
   ]
  },
  {
   "cell_type": "markdown",
   "id": "d927f2ab",
   "metadata": {},
   "source": [
    " На Смарте люди в месяц в среднем говорят около 418 минут, на Ультре - 526 минут, и лишь небольшая часть пользователей переходит планку в 900 минут. То есть на Смарте люди подходят к краю своего тарифа, а на Ультре у них остается запас 2000 - 2500 минут. Среднее и медиана лежат рядом и там и там.\n",
    "\n",
    "На гистограмме видно, что примерно треть пользователей Смарта выходят за границы лимита по минутам звонков. На Ультре таковых нет, примерно в 95% случаев в месяц \"выговаривают\" не более чем 1200 минут в месяц."
   ]
  },
  {
   "cell_type": "code",
   "execution_count": 59,
   "id": "677c8c3c",
   "metadata": {
    "scrolled": true
   },
   "outputs": [
    {
     "data": {
      "text/html": [
       "<style  type=\"text/css\" >\n",
       "</style><table id=\"T_87869_\" ><thead>    <tr>        <th class=\"blank level0\" ></th>        <th class=\"col_heading level0 col0\" colspan=\"4\">mb_total_in_month</th>    </tr>    <tr>        <th class=\"blank level1\" ></th>        <th class=\"col_heading level1 col0\" >median</th>        <th class=\"col_heading level1 col1\" >mean</th>        <th class=\"col_heading level1 col2\" >var</th>        <th class=\"col_heading level1 col3\" >std</th>    </tr>    <tr>        <th class=\"index_name level0\" >tariff</th>        <th class=\"blank\" ></th>        <th class=\"blank\" ></th>        <th class=\"blank\" ></th>        <th class=\"blank\" ></th>    </tr></thead><tbody>\n",
       "                <tr>\n",
       "                        <th id=\"T_87869_level0_row0\" class=\"row_heading level0 row0\" >smart</th>\n",
       "                        <td id=\"T_87869_row0_col0\" class=\"data row0 col0\" >16505.47</td>\n",
       "                        <td id=\"T_87869_row0_col1\" class=\"data row0 col1\" >16201.12</td>\n",
       "                        <td id=\"T_87869_row0_col2\" class=\"data row0 col2\" >34564843.48</td>\n",
       "                        <td id=\"T_87869_row0_col3\" class=\"data row0 col3\" >5879.19</td>\n",
       "            </tr>\n",
       "            <tr>\n",
       "                        <th id=\"T_87869_level0_row1\" class=\"row_heading level0 row1\" >ultra</th>\n",
       "                        <td id=\"T_87869_row1_col0\" class=\"data row1 col0\" >19304.02</td>\n",
       "                        <td id=\"T_87869_row1_col1\" class=\"data row1 col1\" >19449.06</td>\n",
       "                        <td id=\"T_87869_row1_col2\" class=\"data row1 col2\" >102032129.46</td>\n",
       "                        <td id=\"T_87869_row1_col3\" class=\"data row1 col3\" >10101.10</td>\n",
       "            </tr>\n",
       "    </tbody></table>"
      ],
      "text/plain": [
       "<pandas.io.formats.style.Styler at 0x7ff2664c8070>"
      ]
     },
     "execution_count": 59,
     "metadata": {},
     "output_type": "execute_result"
    }
   ],
   "source": [
    "df.groupby('tariff')\\\n",
    "  .agg({'mb_total_in_month':['median','mean','var','std']})\\\n",
    "  .style.format(\"{:.2f}\")"
   ]
  },
  {
   "cell_type": "markdown",
   "id": "63c95e4d",
   "metadata": {},
   "source": [
    "Переведем Мб в Гигабайты и округлим в большую сторону для удобства анализа."
   ]
  },
  {
   "cell_type": "code",
   "execution_count": 60,
   "id": "e04f290b",
   "metadata": {},
   "outputs": [
    {
     "data": {
      "text/html": [
       "<div>\n",
       "<style scoped>\n",
       "    .dataframe tbody tr th:only-of-type {\n",
       "        vertical-align: middle;\n",
       "    }\n",
       "\n",
       "    .dataframe tbody tr th {\n",
       "        vertical-align: top;\n",
       "    }\n",
       "\n",
       "    .dataframe thead th {\n",
       "        text-align: right;\n",
       "    }\n",
       "</style>\n",
       "<table border=\"1\" class=\"dataframe\">\n",
       "  <thead>\n",
       "    <tr style=\"text-align: right;\">\n",
       "      <th></th>\n",
       "      <th>user_id</th>\n",
       "      <th>month</th>\n",
       "      <th>month_calls_duration</th>\n",
       "      <th>calls_total_in_month</th>\n",
       "      <th>sms_total_in_month</th>\n",
       "      <th>mb_total_in_month</th>\n",
       "      <th>age</th>\n",
       "      <th>churn_date</th>\n",
       "      <th>city</th>\n",
       "      <th>first_name</th>\n",
       "      <th>...</th>\n",
       "      <th>messages_included</th>\n",
       "      <th>mb_per_month_included</th>\n",
       "      <th>minutes_included</th>\n",
       "      <th>rub_monthly_fee</th>\n",
       "      <th>rub_per_gb</th>\n",
       "      <th>rub_per_message</th>\n",
       "      <th>rub_per_minute</th>\n",
       "      <th>above_the_tariff</th>\n",
       "      <th>total_paid</th>\n",
       "      <th>gb_month</th>\n",
       "    </tr>\n",
       "  </thead>\n",
       "  <tbody>\n",
       "    <tr>\n",
       "      <th>0</th>\n",
       "      <td>1000</td>\n",
       "      <td>August</td>\n",
       "      <td>408.0</td>\n",
       "      <td>52.0</td>\n",
       "      <td>81.0</td>\n",
       "      <td>14055.93</td>\n",
       "      <td>52</td>\n",
       "      <td>NaT</td>\n",
       "      <td>Краснодар</td>\n",
       "      <td>Рафаил</td>\n",
       "      <td>...</td>\n",
       "      <td>1000</td>\n",
       "      <td>30720</td>\n",
       "      <td>3000</td>\n",
       "      <td>1950</td>\n",
       "      <td>150</td>\n",
       "      <td>1</td>\n",
       "      <td>1</td>\n",
       "      <td>0.0</td>\n",
       "      <td>1950.0</td>\n",
       "      <td>14.0</td>\n",
       "    </tr>\n",
       "    <tr>\n",
       "      <th>1</th>\n",
       "      <td>1000</td>\n",
       "      <td>December</td>\n",
       "      <td>333.0</td>\n",
       "      <td>46.0</td>\n",
       "      <td>70.0</td>\n",
       "      <td>9817.61</td>\n",
       "      <td>52</td>\n",
       "      <td>NaT</td>\n",
       "      <td>Краснодар</td>\n",
       "      <td>Рафаил</td>\n",
       "      <td>...</td>\n",
       "      <td>1000</td>\n",
       "      <td>30720</td>\n",
       "      <td>3000</td>\n",
       "      <td>1950</td>\n",
       "      <td>150</td>\n",
       "      <td>1</td>\n",
       "      <td>1</td>\n",
       "      <td>0.0</td>\n",
       "      <td>1950.0</td>\n",
       "      <td>10.0</td>\n",
       "    </tr>\n",
       "    <tr>\n",
       "      <th>2</th>\n",
       "      <td>1000</td>\n",
       "      <td>July</td>\n",
       "      <td>340.0</td>\n",
       "      <td>47.0</td>\n",
       "      <td>75.0</td>\n",
       "      <td>14003.64</td>\n",
       "      <td>52</td>\n",
       "      <td>NaT</td>\n",
       "      <td>Краснодар</td>\n",
       "      <td>Рафаил</td>\n",
       "      <td>...</td>\n",
       "      <td>1000</td>\n",
       "      <td>30720</td>\n",
       "      <td>3000</td>\n",
       "      <td>1950</td>\n",
       "      <td>150</td>\n",
       "      <td>1</td>\n",
       "      <td>1</td>\n",
       "      <td>0.0</td>\n",
       "      <td>1950.0</td>\n",
       "      <td>14.0</td>\n",
       "    </tr>\n",
       "    <tr>\n",
       "      <th>3</th>\n",
       "      <td>1000</td>\n",
       "      <td>June</td>\n",
       "      <td>172.0</td>\n",
       "      <td>43.0</td>\n",
       "      <td>60.0</td>\n",
       "      <td>23233.77</td>\n",
       "      <td>52</td>\n",
       "      <td>NaT</td>\n",
       "      <td>Краснодар</td>\n",
       "      <td>Рафаил</td>\n",
       "      <td>...</td>\n",
       "      <td>1000</td>\n",
       "      <td>30720</td>\n",
       "      <td>3000</td>\n",
       "      <td>1950</td>\n",
       "      <td>150</td>\n",
       "      <td>1</td>\n",
       "      <td>1</td>\n",
       "      <td>0.0</td>\n",
       "      <td>1950.0</td>\n",
       "      <td>23.0</td>\n",
       "    </tr>\n",
       "    <tr>\n",
       "      <th>4</th>\n",
       "      <td>1000</td>\n",
       "      <td>May</td>\n",
       "      <td>159.0</td>\n",
       "      <td>22.0</td>\n",
       "      <td>22.0</td>\n",
       "      <td>2253.49</td>\n",
       "      <td>52</td>\n",
       "      <td>NaT</td>\n",
       "      <td>Краснодар</td>\n",
       "      <td>Рафаил</td>\n",
       "      <td>...</td>\n",
       "      <td>1000</td>\n",
       "      <td>30720</td>\n",
       "      <td>3000</td>\n",
       "      <td>1950</td>\n",
       "      <td>150</td>\n",
       "      <td>1</td>\n",
       "      <td>1</td>\n",
       "      <td>0.0</td>\n",
       "      <td>1950.0</td>\n",
       "      <td>3.0</td>\n",
       "    </tr>\n",
       "  </tbody>\n",
       "</table>\n",
       "<p>5 rows × 23 columns</p>\n",
       "</div>"
      ],
      "text/plain": [
       "   user_id     month  month_calls_duration  calls_total_in_month  \\\n",
       "0     1000    August                 408.0                  52.0   \n",
       "1     1000  December                 333.0                  46.0   \n",
       "2     1000      July                 340.0                  47.0   \n",
       "3     1000      June                 172.0                  43.0   \n",
       "4     1000       May                 159.0                  22.0   \n",
       "\n",
       "   sms_total_in_month  mb_total_in_month  age churn_date       city  \\\n",
       "0                81.0           14055.93   52        NaT  Краснодар   \n",
       "1                70.0            9817.61   52        NaT  Краснодар   \n",
       "2                75.0           14003.64   52        NaT  Краснодар   \n",
       "3                60.0           23233.77   52        NaT  Краснодар   \n",
       "4                22.0            2253.49   52        NaT  Краснодар   \n",
       "\n",
       "  first_name  ... messages_included mb_per_month_included minutes_included  \\\n",
       "0     Рафаил  ...              1000                 30720             3000   \n",
       "1     Рафаил  ...              1000                 30720             3000   \n",
       "2     Рафаил  ...              1000                 30720             3000   \n",
       "3     Рафаил  ...              1000                 30720             3000   \n",
       "4     Рафаил  ...              1000                 30720             3000   \n",
       "\n",
       "   rub_monthly_fee  rub_per_gb  rub_per_message  rub_per_minute  \\\n",
       "0             1950         150                1               1   \n",
       "1             1950         150                1               1   \n",
       "2             1950         150                1               1   \n",
       "3             1950         150                1               1   \n",
       "4             1950         150                1               1   \n",
       "\n",
       "   above_the_tariff  total_paid  gb_month  \n",
       "0               0.0      1950.0      14.0  \n",
       "1               0.0      1950.0      10.0  \n",
       "2               0.0      1950.0      14.0  \n",
       "3               0.0      1950.0      23.0  \n",
       "4               0.0      1950.0       3.0  \n",
       "\n",
       "[5 rows x 23 columns]"
      ]
     },
     "metadata": {},
     "output_type": "display_data"
    }
   ],
   "source": [
    "df['gb_month'] = np.ceil(df['mb_total_in_month']/1024)\n",
    "display(df.head())"
   ]
  },
  {
   "cell_type": "code",
   "execution_count": 61,
   "id": "04e4cc5c",
   "metadata": {},
   "outputs": [
    {
     "data": {
      "image/png": "[encoded data removed]",
      "text/plain": [
       "<Figure size 720x360 with 1 Axes>"
      ]
     },
     "metadata": {
      "needs_background": "light"
     },
     "output_type": "display_data"
    }
   ],
   "source": [
    "df[df['tariff'] == 'smart']['gb_month'].plot(kind='hist', bins=10, figsize = (10,5), grid = True)\n",
    "plt.title('Смарт — Интернет в Гб в месяц');"
   ]
  },
  {
   "cell_type": "code",
   "execution_count": 62,
   "id": "1471e849",
   "metadata": {
    "scrolled": true
   },
   "outputs": [
    {
     "data": {
      "image/png": "[encoded data removed]",
      "text/plain": [
       "<Figure size 720x360 with 1 Axes>"
      ]
     },
     "metadata": {
      "needs_background": "light"
     },
     "output_type": "display_data"
    }
   ],
   "source": [
    "df[df['tariff'] == 'ultra']['gb_month'].plot(kind='hist', bins=10, figsize = (10,5), grid = True)\n",
    "plt.title('Ультра — Интернет в Гб в месяц');"
   ]
  },
  {
   "cell_type": "code",
   "execution_count": 63,
   "id": "a484e211",
   "metadata": {},
   "outputs": [
    {
     "data": {
      "text/html": [
       "<style  type=\"text/css\" >\n",
       "</style><table id=\"T_935d5_\" ><thead>    <tr>        <th class=\"blank level0\" ></th>        <th class=\"col_heading level0 col0\" colspan=\"4\">gb_month</th>    </tr>    <tr>        <th class=\"blank level1\" ></th>        <th class=\"col_heading level1 col0\" >median</th>        <th class=\"col_heading level1 col1\" >mean</th>        <th class=\"col_heading level1 col2\" >var</th>        <th class=\"col_heading level1 col3\" >std</th>    </tr>    <tr>        <th class=\"index_name level0\" >tariff</th>        <th class=\"blank\" ></th>        <th class=\"blank\" ></th>        <th class=\"blank\" ></th>        <th class=\"blank\" ></th>    </tr></thead><tbody>\n",
       "                <tr>\n",
       "                        <th id=\"T_935d5_level0_row0\" class=\"row_heading level0 row0\" >smart</th>\n",
       "                        <td id=\"T_935d5_row0_col0\" class=\"data row0 col0\" >17</td>\n",
       "                        <td id=\"T_935d5_row0_col1\" class=\"data row0 col1\" >16</td>\n",
       "                        <td id=\"T_935d5_row0_col2\" class=\"data row0 col2\" >33</td>\n",
       "                        <td id=\"T_935d5_row0_col3\" class=\"data row0 col3\" >6</td>\n",
       "            </tr>\n",
       "            <tr>\n",
       "                        <th id=\"T_935d5_level0_row1\" class=\"row_heading level0 row1\" >ultra</th>\n",
       "                        <td id=\"T_935d5_row1_col0\" class=\"data row1 col0\" >19</td>\n",
       "                        <td id=\"T_935d5_row1_col1\" class=\"data row1 col1\" >19</td>\n",
       "                        <td id=\"T_935d5_row1_col2\" class=\"data row1 col2\" >97</td>\n",
       "                        <td id=\"T_935d5_row1_col3\" class=\"data row1 col3\" >10</td>\n",
       "            </tr>\n",
       "    </tbody></table>"
      ],
      "text/plain": [
       "<pandas.io.formats.style.Styler at 0x7ff26661d550>"
      ]
     },
     "execution_count": 63,
     "metadata": {},
     "output_type": "execute_result"
    }
   ],
   "source": [
    "df.groupby('tariff')\\\n",
    "  .agg({'gb_month':['median','mean','var','std']})\\\n",
    "  .style.format(\"{:.0f}\")"
   ]
  },
  {
   "cell_type": "markdown",
   "id": "7aaf4d56",
   "metadata": {},
   "source": [
    "Среднее и медиана лежат рядом и там и там и тут тоже. \n",
    "\n",
    "На Смарте люди чаще выходят за пределы тарифа, чем остаются в рамках лимита (в среднем - 1 Гб). В 50% из всех изученных периодов(месяцев) пользователи тарифа Смарт превысили лимит по Гб.\n",
    "\n",
    "У пользователей Ультры - остается больший запас по Мб. Причем среднее использование - 19 Гб в мес. В 15% из всех изученных периодов(месяцев) пользователи тарифа Смарт превысили лимит по Гб."
   ]
  },
  {
   "cell_type": "code",
   "execution_count": 64,
   "id": "a41f1a6b",
   "metadata": {},
   "outputs": [
    {
     "data": {
      "text/html": [
       "<style  type=\"text/css\" >\n",
       "</style><table id=\"T_944f8_\" ><thead>    <tr>        <th class=\"blank level0\" ></th>        <th class=\"col_heading level0 col0\" colspan=\"4\">sms_total_in_month</th>    </tr>    <tr>        <th class=\"blank level1\" ></th>        <th class=\"col_heading level1 col0\" >median</th>        <th class=\"col_heading level1 col1\" >mean</th>        <th class=\"col_heading level1 col2\" >var</th>        <th class=\"col_heading level1 col3\" >std</th>    </tr>    <tr>        <th class=\"index_name level0\" >tariff</th>        <th class=\"blank\" ></th>        <th class=\"blank\" ></th>        <th class=\"blank\" ></th>        <th class=\"blank\" ></th>    </tr></thead><tbody>\n",
       "                <tr>\n",
       "                        <th id=\"T_944f8_level0_row0\" class=\"row_heading level0 row0\" >smart</th>\n",
       "                        <td id=\"T_944f8_row0_col0\" class=\"data row0 col0\" >28</td>\n",
       "                        <td id=\"T_944f8_row0_col1\" class=\"data row0 col1\" >33</td>\n",
       "                        <td id=\"T_944f8_row0_col2\" class=\"data row0 col2\" >797</td>\n",
       "                        <td id=\"T_944f8_row0_col3\" class=\"data row0 col3\" >28</td>\n",
       "            </tr>\n",
       "            <tr>\n",
       "                        <th id=\"T_944f8_level0_row1\" class=\"row_heading level0 row1\" >ultra</th>\n",
       "                        <td id=\"T_944f8_row1_col0\" class=\"data row1 col0\" >38</td>\n",
       "                        <td id=\"T_944f8_row1_col1\" class=\"data row1 col1\" >49</td>\n",
       "                        <td id=\"T_944f8_row1_col2\" class=\"data row1 col2\" >2285</td>\n",
       "                        <td id=\"T_944f8_row1_col3\" class=\"data row1 col3\" >48</td>\n",
       "            </tr>\n",
       "    </tbody></table>"
      ],
      "text/plain": [
       "<pandas.io.formats.style.Styler at 0x7ff2666dad90>"
      ]
     },
     "execution_count": 64,
     "metadata": {},
     "output_type": "execute_result"
    }
   ],
   "source": [
    "df.groupby('tariff')\\\n",
    "  .agg({'sms_total_in_month':['median','mean','var','std']})\\\n",
    "  .style.format(\"{:.0f}\")"
   ]
  },
  {
   "cell_type": "code",
   "execution_count": 65,
   "id": "75a88097",
   "metadata": {},
   "outputs": [
    {
     "data": {
      "image/png": "[encoded data removed]",
      "text/plain": [
       "<Figure size 720x360 with 1 Axes>"
      ]
     },
     "metadata": {
      "needs_background": "light"
     },
     "output_type": "display_data"
    }
   ],
   "source": [
    "df[df['tariff'] == 'smart']['sms_total_in_month'].plot(kind='hist', bins=10, figsize = (10,5), grid = True)\n",
    "plt.title('Смарт — СМС в месяц');"
   ]
  },
  {
   "cell_type": "code",
   "execution_count": 66,
   "id": "dc9d4227",
   "metadata": {},
   "outputs": [
    {
     "data": {
      "image/png": "[encoded data removed]",
      "text/plain": [
       "<Figure size 720x360 with 1 Axes>"
      ]
     },
     "metadata": {
      "needs_background": "light"
     },
     "output_type": "display_data"
    }
   ],
   "source": [
    "df[df['tariff'] == 'ultra']['sms_total_in_month'].plot(kind='hist', bins=20, figsize = (10,5), grid = True)\n",
    "plt.title('Ультра — СМС в месяц');"
   ]
  },
  {
   "cell_type": "markdown",
   "id": "4856d272",
   "metadata": {},
   "source": [
    "Поведение пользователей выглядит похожим. На обоих тарифах значимая часть пользователей не успевает использовать полностью пакет сообщений. А на Ультре предложенный лимит в 1000 сообщений вовсе выглядит неоправданно завышенным."
   ]
  },
  {
   "cell_type": "markdown",
   "id": "8fa2bd43",
   "metadata": {},
   "source": [
    "### Вывод"
   ]
  },
  {
   "cell_type": "markdown",
   "id": "202fc5f1",
   "metadata": {},
   "source": [
    "Медианная выручка на человека по тарифу Смарт - 1021 руб/мес., средняя - 1290 руб. Максимум - 6670 руб.\n",
    "\n",
    "Медианный показатель общей выручки на человека по Ультре - 1950 руб., средний - 2070 руб. Максимум - 4800 руб./мес\n",
    "\n",
    "В тарифе Ультра немало клиентов, не выходящих за рамки тарифного плана: средняя выручка на человека сверх абонплаты составляет 120 руб., а медианная и вовсе близка к 0.\n",
    "\n",
    "В сумме на всех пользователей тарифа Ультра выручка составила чуть более 2 млн руб., из которых только 118 тыс.руб. (6%) - за счет превышения лимита.\n",
    "\n",
    "При этом в Смарте превышение лимитов приносит компании в среднем 740 руб./чел, медианное значение равно 471 руб./чел. На Смарте люди чаще выходят за пределы тарифа, чем остаются в рамках лимита.\n",
    "\n",
    "В сумме на всех пользователей тариф принес компании более 2,8 млн руб., в том числе за счет превышения лимитов - 1,65 млн руб. (59%).\n",
    "\n",
    "На Смарте люди в месяц в среднем говорят около 418 минут (422 - медианное значение), на Ультре - 526 минут (518 - медианное значение), и лишь небольшая часть пользователей переходит планку в 900 минут. \n",
    "\n",
    "Примерно треть пользователей Смарта выходят за границы лимита по минутам звонков. На Ультре таковых нет, примерно в 95% случаев пользователи выговариают не более чем 1200 минут в месяц.\n",
    "\n",
    "На Смарте люди часто выходят за пределы тарифа по Гигабайтам, Средний объем использования - 16 Гб/мес. в 50% из всех изученных периодов(месяцев) пользователи тарифа Смарт превысили лимит по Гб.\n",
    "\n",
    "У пользователей Ультры - остается больший запас по Гб. Причем среднее использование - 19 Гб в мес. в 15% из всех изученных периодов(месяцев) пользователи тарифа Смарт превысили лимит по Гб.\n",
    "\n",
    "На Смарте значимая часть пользователей не успевает использовать полностью пакет сообщений. А на Ультре предложенный лимит в 1000 сообщений вовсе никто не превышает.\n"
   ]
  },
  {
   "cell_type": "markdown",
   "id": "2413f0dc",
   "metadata": {},
   "source": [
    "## 4. Проверка гипотез"
   ]
  },
  {
   "cell_type": "markdown",
   "id": "5b283f77",
   "metadata": {},
   "source": [
    "- средняя выручка пользователей тарифов «Ультра» и «Смарт» различаются\n",
    "- средняя выручка пользователей из Москвы отличается от выручки пользователей из других регионов\n",
    "\n",
    "\n",
    "Пороговое значение alpha задайте самостоятельно.\n",
    "\n",
    "Поясните:\n",
    "\n",
    "- как вы формулировали нулевую и альтернативную гипотезы\n",
    "- какой критерий использовали для проверки гипотез и почему"
   ]
  },
  {
   "cell_type": "code",
   "execution_count": 67,
   "id": "4421d04d",
   "metadata": {},
   "outputs": [],
   "source": [
    "# Напишем функцию для удаления выбросов\n",
    "\n",
    "#def delete_outliers(df, column, graphic=0, x = 10, y = 10):\n",
    "#    q1 = df[column].quantile(0.25)                 \n",
    "#    q3 = df[column].quantile(0.75)\n",
    "#    iqr = q3 - q1\n",
    "#    iqr_test = (df[column] >= (q1 - 1.5 * iqr)) & (df[column] <= (q3 + 1.5 * iqr))\n",
    "#    if graphic == 1:\n",
    "#        return df.loc[iqr_test].boxplot([column], figsize=(x,y))\n",
    "#    else:\n",
    "#        return df.loc[iqr_test]"
   ]
  },
  {
   "cell_type": "markdown",
   "id": "11ae1aa0",
   "metadata": {},
   "source": [
    "Будем использовать t-критерий Стьюдента, так как сравниваемые выборки независимы между собой.\n",
    "\n",
    "**Гипотеза о равенстве средних двух генеральных совокупностей №1**\n",
    "\n",
    "Сформулируем гипотезы:\n",
    "\n",
    "* H0: выручка пользователей тарифов «Ультра» и «Смарт» не различается\n",
    "* H1: выручка пользователей тарифов «Ультра» и «Смарт» различается"
   ]
  },
  {
   "cell_type": "code",
   "execution_count": 68,
   "id": "456677e8",
   "metadata": {},
   "outputs": [
    {
     "data": {
      "text/html": [
       "<div>\n",
       "<style scoped>\n",
       "    .dataframe tbody tr th:only-of-type {\n",
       "        vertical-align: middle;\n",
       "    }\n",
       "\n",
       "    .dataframe tbody tr th {\n",
       "        vertical-align: top;\n",
       "    }\n",
       "\n",
       "    .dataframe thead th {\n",
       "        text-align: right;\n",
       "    }\n",
       "</style>\n",
       "<table border=\"1\" class=\"dataframe\">\n",
       "  <thead>\n",
       "    <tr style=\"text-align: right;\">\n",
       "      <th></th>\n",
       "      <th>user_id</th>\n",
       "      <th>month</th>\n",
       "      <th>month_calls_duration</th>\n",
       "      <th>calls_total_in_month</th>\n",
       "      <th>sms_total_in_month</th>\n",
       "      <th>mb_total_in_month</th>\n",
       "      <th>age</th>\n",
       "      <th>churn_date</th>\n",
       "      <th>city</th>\n",
       "      <th>first_name</th>\n",
       "      <th>...</th>\n",
       "      <th>messages_included</th>\n",
       "      <th>mb_per_month_included</th>\n",
       "      <th>minutes_included</th>\n",
       "      <th>rub_monthly_fee</th>\n",
       "      <th>rub_per_gb</th>\n",
       "      <th>rub_per_message</th>\n",
       "      <th>rub_per_minute</th>\n",
       "      <th>above_the_tariff</th>\n",
       "      <th>total_paid</th>\n",
       "      <th>gb_month</th>\n",
       "    </tr>\n",
       "  </thead>\n",
       "  <tbody>\n",
       "    <tr>\n",
       "      <th>0</th>\n",
       "      <td>1000</td>\n",
       "      <td>August</td>\n",
       "      <td>408.0</td>\n",
       "      <td>52.0</td>\n",
       "      <td>81.0</td>\n",
       "      <td>14055.93</td>\n",
       "      <td>52</td>\n",
       "      <td>NaT</td>\n",
       "      <td>Краснодар</td>\n",
       "      <td>Рафаил</td>\n",
       "      <td>...</td>\n",
       "      <td>1000</td>\n",
       "      <td>30720</td>\n",
       "      <td>3000</td>\n",
       "      <td>1950</td>\n",
       "      <td>150</td>\n",
       "      <td>1</td>\n",
       "      <td>1</td>\n",
       "      <td>0.0</td>\n",
       "      <td>1950.0</td>\n",
       "      <td>14.0</td>\n",
       "    </tr>\n",
       "    <tr>\n",
       "      <th>1</th>\n",
       "      <td>1000</td>\n",
       "      <td>December</td>\n",
       "      <td>333.0</td>\n",
       "      <td>46.0</td>\n",
       "      <td>70.0</td>\n",
       "      <td>9817.61</td>\n",
       "      <td>52</td>\n",
       "      <td>NaT</td>\n",
       "      <td>Краснодар</td>\n",
       "      <td>Рафаил</td>\n",
       "      <td>...</td>\n",
       "      <td>1000</td>\n",
       "      <td>30720</td>\n",
       "      <td>3000</td>\n",
       "      <td>1950</td>\n",
       "      <td>150</td>\n",
       "      <td>1</td>\n",
       "      <td>1</td>\n",
       "      <td>0.0</td>\n",
       "      <td>1950.0</td>\n",
       "      <td>10.0</td>\n",
       "    </tr>\n",
       "    <tr>\n",
       "      <th>2</th>\n",
       "      <td>1000</td>\n",
       "      <td>July</td>\n",
       "      <td>340.0</td>\n",
       "      <td>47.0</td>\n",
       "      <td>75.0</td>\n",
       "      <td>14003.64</td>\n",
       "      <td>52</td>\n",
       "      <td>NaT</td>\n",
       "      <td>Краснодар</td>\n",
       "      <td>Рафаил</td>\n",
       "      <td>...</td>\n",
       "      <td>1000</td>\n",
       "      <td>30720</td>\n",
       "      <td>3000</td>\n",
       "      <td>1950</td>\n",
       "      <td>150</td>\n",
       "      <td>1</td>\n",
       "      <td>1</td>\n",
       "      <td>0.0</td>\n",
       "      <td>1950.0</td>\n",
       "      <td>14.0</td>\n",
       "    </tr>\n",
       "    <tr>\n",
       "      <th>3</th>\n",
       "      <td>1000</td>\n",
       "      <td>June</td>\n",
       "      <td>172.0</td>\n",
       "      <td>43.0</td>\n",
       "      <td>60.0</td>\n",
       "      <td>23233.77</td>\n",
       "      <td>52</td>\n",
       "      <td>NaT</td>\n",
       "      <td>Краснодар</td>\n",
       "      <td>Рафаил</td>\n",
       "      <td>...</td>\n",
       "      <td>1000</td>\n",
       "      <td>30720</td>\n",
       "      <td>3000</td>\n",
       "      <td>1950</td>\n",
       "      <td>150</td>\n",
       "      <td>1</td>\n",
       "      <td>1</td>\n",
       "      <td>0.0</td>\n",
       "      <td>1950.0</td>\n",
       "      <td>23.0</td>\n",
       "    </tr>\n",
       "    <tr>\n",
       "      <th>4</th>\n",
       "      <td>1000</td>\n",
       "      <td>May</td>\n",
       "      <td>159.0</td>\n",
       "      <td>22.0</td>\n",
       "      <td>22.0</td>\n",
       "      <td>2253.49</td>\n",
       "      <td>52</td>\n",
       "      <td>NaT</td>\n",
       "      <td>Краснодар</td>\n",
       "      <td>Рафаил</td>\n",
       "      <td>...</td>\n",
       "      <td>1000</td>\n",
       "      <td>30720</td>\n",
       "      <td>3000</td>\n",
       "      <td>1950</td>\n",
       "      <td>150</td>\n",
       "      <td>1</td>\n",
       "      <td>1</td>\n",
       "      <td>0.0</td>\n",
       "      <td>1950.0</td>\n",
       "      <td>3.0</td>\n",
       "    </tr>\n",
       "  </tbody>\n",
       "</table>\n",
       "<p>5 rows × 23 columns</p>\n",
       "</div>"
      ],
      "text/plain": [
       "   user_id     month  month_calls_duration  calls_total_in_month  \\\n",
       "0     1000    August                 408.0                  52.0   \n",
       "1     1000  December                 333.0                  46.0   \n",
       "2     1000      July                 340.0                  47.0   \n",
       "3     1000      June                 172.0                  43.0   \n",
       "4     1000       May                 159.0                  22.0   \n",
       "\n",
       "   sms_total_in_month  mb_total_in_month  age churn_date       city  \\\n",
       "0                81.0           14055.93   52        NaT  Краснодар   \n",
       "1                70.0            9817.61   52        NaT  Краснодар   \n",
       "2                75.0           14003.64   52        NaT  Краснодар   \n",
       "3                60.0           23233.77   52        NaT  Краснодар   \n",
       "4                22.0            2253.49   52        NaT  Краснодар   \n",
       "\n",
       "  first_name  ... messages_included mb_per_month_included minutes_included  \\\n",
       "0     Рафаил  ...              1000                 30720             3000   \n",
       "1     Рафаил  ...              1000                 30720             3000   \n",
       "2     Рафаил  ...              1000                 30720             3000   \n",
       "3     Рафаил  ...              1000                 30720             3000   \n",
       "4     Рафаил  ...              1000                 30720             3000   \n",
       "\n",
       "   rub_monthly_fee  rub_per_gb  rub_per_message  rub_per_minute  \\\n",
       "0             1950         150                1               1   \n",
       "1             1950         150                1               1   \n",
       "2             1950         150                1               1   \n",
       "3             1950         150                1               1   \n",
       "4             1950         150                1               1   \n",
       "\n",
       "   above_the_tariff  total_paid  gb_month  \n",
       "0               0.0      1950.0      14.0  \n",
       "1               0.0      1950.0      10.0  \n",
       "2               0.0      1950.0      14.0  \n",
       "3               0.0      1950.0      23.0  \n",
       "4               0.0      1950.0       3.0  \n",
       "\n",
       "[5 rows x 23 columns]"
      ]
     },
     "metadata": {},
     "output_type": "display_data"
    }
   ],
   "source": [
    "display(df.head())"
   ]
  },
  {
   "cell_type": "code",
   "execution_count": 69,
   "id": "06c87d89",
   "metadata": {},
   "outputs": [],
   "source": [
    "ultra = df[df['tariff'] == 'ultra']\n",
    "smart = df[df['tariff'] == 'smart']"
   ]
  },
  {
   "cell_type": "code",
   "execution_count": 70,
   "id": "eb26332a",
   "metadata": {},
   "outputs": [],
   "source": [
    "#ultra = delete_outliers(ultra, 'total_paid', 0)\n",
    "ultra = ultra['total_paid']"
   ]
  },
  {
   "cell_type": "code",
   "execution_count": 71,
   "id": "1b41d325",
   "metadata": {},
   "outputs": [],
   "source": [
    "#smart = delete_outliers(smart, 'total_paid', 0)\n",
    "smart = smart['total_paid']"
   ]
  },
  {
   "cell_type": "code",
   "execution_count": 72,
   "id": "c20b849b",
   "metadata": {},
   "outputs": [],
   "source": [
    "alpha = 0.05"
   ]
  },
  {
   "cell_type": "code",
   "execution_count": 73,
   "id": "eb523809",
   "metadata": {},
   "outputs": [],
   "source": [
    "results = st.ttest_ind(ultra, smart)\n",
    "# equal_var = False"
   ]
  },
  {
   "cell_type": "code",
   "execution_count": 74,
   "id": "5a797bee",
   "metadata": {},
   "outputs": [
    {
     "data": {
      "text/plain": [
       "'p-значение:'"
      ]
     },
     "metadata": {},
     "output_type": "display_data"
    },
    {
     "data": {
      "text/plain": [
       "8.08190955548901e-161"
      ]
     },
     "metadata": {},
     "output_type": "display_data"
    },
    {
     "name": "stdout",
     "output_type": "stream",
     "text": [
      "Отвергаем нулевую гипотезу\n"
     ]
    }
   ],
   "source": [
    "display('p-значение:', results.pvalue)\n",
    "\n",
    "if (results.pvalue < alpha):\n",
    "    print(\"Отвергаем нулевую гипотезу\")\n",
    "else:\n",
    "    print(\"Не получилось отвергнуть нулевую гипотезу\")"
   ]
  },
  {
   "cell_type": "markdown",
   "id": "269a1453",
   "metadata": {},
   "source": [
    "Разница не случайна, есть значимые различия между выборками"
   ]
  },
  {
   "cell_type": "markdown",
   "id": "ee2d271c",
   "metadata": {},
   "source": [
    "\n",
    "**Гипотеза о равенстве средних двух генеральных совокупностей №2**\n",
    "\n",
    "Сформулируем гипотезы:\n",
    "\n",
    "* H0: средняя выручка пользователей из Москвы не отличается от выручки пользователей из других регионов\n",
    "* H1: средняя выручка пользователей из Москвы отличается от выручки пользователей из других регионов"
   ]
  },
  {
   "cell_type": "code",
   "execution_count": 75,
   "id": "285991a5",
   "metadata": {},
   "outputs": [
    {
     "data": {
      "text/plain": [
       "array(['Краснодар', 'Москва', 'Новокузнецк', 'Иваново', 'Омск', 'Уфа',\n",
       "       'Томск', 'Санкт-Петербург', 'Тверь', 'Ярославль', 'Тюмень',\n",
       "       'Ростов-на-Дону', 'Калуга', 'Тула', 'Волгоград', 'Саранск',\n",
       "       'Иркутск', 'Череповец', 'Новосибирск', 'Брянск', 'Тольятти',\n",
       "       'Нижний Тагил', 'Воронеж', 'Махачкала', 'Пермь', 'Сургут', 'Пенза',\n",
       "       'Мурманск', 'Набережные Челны', 'Самара', 'Нижний Новгород',\n",
       "       'Кемерово', 'Кострома', 'Оренбург', 'Магнитогорск', 'Астрахань',\n",
       "       'Нижневартовск', 'Челябинск', 'Курган', 'Красноярск',\n",
       "       'Владивосток', 'Смоленск', 'Владимир', 'Казань', 'Саратов',\n",
       "       'Севастополь', 'Рязань', 'Екатеринбург', 'Стерлитамак',\n",
       "       'Ульяновск', 'Балашиха', 'Барнаул', 'Киров', 'Сочи', 'Вологда',\n",
       "       'Чебоксары', 'Волжский', 'Чита', 'Петрозаводск', 'Хабаровск',\n",
       "       'Ставрополь', 'Улан-Удэ', 'Курск', 'Якутск', 'Химки',\n",
       "       'Владикавказ', 'Ижевск', 'Орёл', 'Белгород', 'Архангельск',\n",
       "       'Липецк', 'Тамбов', 'Калининград', 'Новороссийск', 'Грозный',\n",
       "       'Подольск'], dtype=object)"
      ]
     },
     "metadata": {},
     "output_type": "display_data"
    }
   ],
   "source": [
    "display(df['city'].unique())"
   ]
  },
  {
   "cell_type": "code",
   "execution_count": 76,
   "id": "8f9c1884",
   "metadata": {},
   "outputs": [],
   "source": [
    "df['region'] = np.where(df['city'] == 'Москва', 'Москва', 'Провинция')"
   ]
  },
  {
   "cell_type": "code",
   "execution_count": 77,
   "id": "fd3c25db",
   "metadata": {},
   "outputs": [],
   "source": [
    "moscow = df[df['region'] == 'Москва']\n",
    "province = df[df['region'] == 'Провинция']"
   ]
  },
  {
   "cell_type": "code",
   "execution_count": 78,
   "id": "42b76cd6",
   "metadata": {},
   "outputs": [],
   "source": [
    "#moscow = delete_outliers(moscow, 'total_paid', 0)\n",
    "moscow = moscow['total_paid']"
   ]
  },
  {
   "cell_type": "code",
   "execution_count": 79,
   "id": "bcb200f3",
   "metadata": {},
   "outputs": [],
   "source": [
    "#province = delete_outliers(province, 'total_paid', 0)\n",
    "province = province['total_paid']"
   ]
  },
  {
   "cell_type": "code",
   "execution_count": 80,
   "id": "22becc1a",
   "metadata": {},
   "outputs": [],
   "source": [
    "results = st.ttest_ind(moscow, province)\n",
    "# equal_var = False"
   ]
  },
  {
   "cell_type": "code",
   "execution_count": 81,
   "id": "1f39e6bf",
   "metadata": {},
   "outputs": [
    {
     "data": {
      "text/plain": [
       "'p-значение:'"
      ]
     },
     "metadata": {},
     "output_type": "display_data"
    },
    {
     "data": {
      "text/plain": [
       "0.5400751614511182"
      ]
     },
     "metadata": {},
     "output_type": "display_data"
    },
    {
     "name": "stdout",
     "output_type": "stream",
     "text": [
      "Не получилось отвергнуть нулевую гипотезу\n"
     ]
    }
   ],
   "source": [
    "display('p-значение:', results.pvalue)\n",
    "\n",
    "if (results.pvalue < alpha):\n",
    "    print(\"Отвергаем нулевую гипотезу\")\n",
    "else:\n",
    "    print(\"Не получилось отвергнуть нулевую гипотезу\")"
   ]
  },
  {
   "cell_type": "markdown",
   "id": "830584cd",
   "metadata": {},
   "source": [
    "С вероятностью в 54% такой результат может быть получен случайно. Значимых различий нет: средняя выручка абонентов из МСК равна средней выручке абонентов из других регионов."
   ]
  },
  {
   "cell_type": "code",
   "execution_count": 82,
   "id": "661e0aca",
   "metadata": {},
   "outputs": [
    {
     "name": "stdout",
     "output_type": "stream",
     "text": [
      "p-значение: 0.1912450522572209\n",
      "Не получилось отвергнуть нулевую гипотезу\n"
     ]
    }
   ],
   "source": [
    "# Приведены два датасета: сумма покупок, совершённых за месяц посетителями ...\n",
    "\n",
    "sample_1 = [3071, 3636, 3454, 3151, 2185, 3259, 1727, 2263, 2015,\n",
    "2582, 4815, 633, 3186, 887, 2028, 3589, 2564, 1422, 1785,\n",
    "3180, 1770, 2716, 2546, 1848, 4644, 3134, 475, 2686,\n",
    "1838, 3352]\n",
    "sample_2 = [1211, 1228, 2157, 3699, 600, 1898, 1688, 1420, 5048, 3007,\n",
    "509, 3777, 5583, 3949, 121, 1674, 4300, 1338, 3066,\n",
    "3562, 1010, 2311, 462, 863, 2021, 528, 1849, 255,\n",
    "1740, 2596]\n",
    "alpha = .05 # критический уровень статистической значимости\n",
    "# если p-value окажется меньше него - отвергнем гипотезу\n",
    "results = st.ttest_ind(\n",
    "sample_1,\n",
    "sample_2)\n",
    "print('p-значение:', results.pvalue)\n",
    "if (results.pvalue < alpha):\n",
    "    print(\"Отвергаем нулевую гипотезу\")\n",
    "else:\n",
    "\n",
    "    print(\"Не получилось отвергнуть нулевую гипотезу\")"
   ]
  },
  {
   "cell_type": "markdown",
   "id": "d017e0b2",
   "metadata": {},
   "source": [
    "#### Вывод"
   ]
  },
  {
   "cell_type": "markdown",
   "id": "14b390d4",
   "metadata": {},
   "source": [
    " Путем проверки гипотез, мы пришли к следующим выводам:\n",
    " * Выручка пользователей тарифов «Ультра» и «Смарт» различается \n",
    " * Средняя выручка абонентов из МСК равна средней выручке абонентов из других регионов."
   ]
  },
  {
   "cell_type": "markdown",
   "id": "ea881ea9",
   "metadata": {},
   "source": [
    "## 5. Общий вывод"
   ]
  },
  {
   "cell_type": "markdown",
   "id": "1cfee30a",
   "metadata": {},
   "source": [
    "Тариф Ультра приносит компании больше денег в пересчете на одного пользователя, за счет большой абонплаты. Причем потребляемые услуги в двух тарифах отличаются не столь существенно, сколько размер абонплаты.\n",
    "\n",
    "Сравним:\n",
    "* Минуты - на Смарте среднее количество 418 в мес, на Ультре - 526 минут.\n",
    "* Гигабайты 16 Гб на Смарте, 19 Гб на Ультре\n",
    "* СМС - 33 на Смарте, 49 - на Ультре.\n",
    "\n",
    "Другими словами, пользователи плана Ультра переплачивают гораздо больше пользователей Смарта, при сопоставимых показателях потребления. Абонплата Ультры превышает Смарт почти в 4 раза.\n",
    "\n",
    "Для компании, конечно, выгоднее продвигать план Ультра."
   ]
  }
 ],
 "metadata": {
  "ExecuteTimeLog": [
   {
    "duration": 160,
    "start_time": "2022-04-22T14:56:08.167Z"
   },
   {
    "duration": 42,
    "start_time": "2022-04-22T14:56:46.687Z"
   },
   {
    "duration": 144,
    "start_time": "2022-04-22T14:58:09.409Z"
   },
   {
    "duration": 1766,
    "start_time": "2022-04-22T15:01:59.984Z"
   },
   {
    "duration": 17,
    "start_time": "2022-04-22T15:02:01.753Z"
   },
   {
    "duration": 53,
    "start_time": "2022-04-22T15:02:01.771Z"
   },
   {
    "duration": 89,
    "start_time": "2022-04-22T15:02:01.827Z"
   },
   {
    "duration": 97,
    "start_time": "2022-04-22T15:02:01.919Z"
   },
   {
    "duration": 111,
    "start_time": "2022-04-22T15:02:02.018Z"
   },
   {
    "duration": 32,
    "start_time": "2022-04-22T15:02:02.130Z"
   },
   {
    "duration": 9,
    "start_time": "2022-04-22T15:02:02.164Z"
   },
   {
    "duration": 119,
    "start_time": "2022-04-22T15:02:02.175Z"
   },
   {
    "duration": 38,
    "start_time": "2022-04-22T15:02:02.297Z"
   },
   {
    "duration": 57,
    "start_time": "2022-04-22T15:02:02.337Z"
   },
   {
    "duration": 27,
    "start_time": "2022-04-22T15:02:02.396Z"
   },
   {
    "duration": 19,
    "start_time": "2022-04-22T15:02:02.424Z"
   },
   {
    "duration": 52,
    "start_time": "2022-04-22T15:02:02.445Z"
   },
   {
    "duration": 11,
    "start_time": "2022-04-22T15:02:02.498Z"
   },
   {
    "duration": 26,
    "start_time": "2022-04-22T15:02:02.510Z"
   },
   {
    "duration": 73,
    "start_time": "2022-04-22T15:02:02.538Z"
   },
   {
    "duration": 45,
    "start_time": "2022-04-22T15:02:02.613Z"
   },
   {
    "duration": 16,
    "start_time": "2022-04-22T15:02:02.660Z"
   },
   {
    "duration": 29,
    "start_time": "2022-04-22T15:02:02.678Z"
   },
   {
    "duration": 29,
    "start_time": "2022-04-22T15:02:02.709Z"
   },
   {
    "duration": 62,
    "start_time": "2022-04-22T15:02:02.740Z"
   },
   {
    "duration": 12,
    "start_time": "2022-04-22T15:02:02.804Z"
   },
   {
    "duration": 90,
    "start_time": "2022-04-22T15:02:02.817Z"
   },
   {
    "duration": 48,
    "start_time": "2022-04-22T15:02:02.909Z"
   },
   {
    "duration": 46,
    "start_time": "2022-04-22T15:02:02.958Z"
   },
   {
    "duration": 27,
    "start_time": "2022-04-22T15:02:03.006Z"
   },
   {
    "duration": 51,
    "start_time": "2022-04-22T15:02:03.055Z"
   },
   {
    "duration": 37,
    "start_time": "2022-04-22T15:02:03.108Z"
   },
   {
    "duration": 30,
    "start_time": "2022-04-22T15:02:03.155Z"
   },
   {
    "duration": 10,
    "start_time": "2022-04-22T15:02:03.186Z"
   },
   {
    "duration": 17,
    "start_time": "2022-04-22T15:02:03.198Z"
   },
   {
    "duration": 18,
    "start_time": "2022-04-22T15:02:03.217Z"
   },
   {
    "duration": 37,
    "start_time": "2022-04-22T15:02:03.237Z"
   },
   {
    "duration": 28,
    "start_time": "2022-04-22T15:02:03.275Z"
   },
   {
    "duration": 19,
    "start_time": "2022-04-22T15:02:03.305Z"
   },
   {
    "duration": 8,
    "start_time": "2022-04-22T15:02:03.326Z"
   },
   {
    "duration": 13,
    "start_time": "2022-04-22T15:02:03.336Z"
   },
   {
    "duration": 12,
    "start_time": "2022-04-22T15:02:03.358Z"
   },
   {
    "duration": 13,
    "start_time": "2022-04-22T15:02:03.371Z"
   },
   {
    "duration": 22,
    "start_time": "2022-04-22T15:02:03.385Z"
   },
   {
    "duration": 123,
    "start_time": "2022-04-22T15:02:03.409Z"
   },
   {
    "duration": 7,
    "start_time": "2022-04-22T15:02:03.534Z"
   },
   {
    "duration": 31,
    "start_time": "2022-04-22T15:02:03.543Z"
   },
   {
    "duration": 45,
    "start_time": "2022-04-22T15:02:03.575Z"
   },
   {
    "duration": 12,
    "start_time": "2022-04-22T15:02:03.621Z"
   },
   {
    "duration": 36,
    "start_time": "2022-04-22T15:02:03.635Z"
   },
   {
    "duration": 135,
    "start_time": "2022-04-22T15:02:03.674Z"
   },
   {
    "duration": 130,
    "start_time": "2022-04-22T15:02:03.811Z"
   },
   {
    "duration": 27,
    "start_time": "2022-04-22T15:02:03.943Z"
   },
   {
    "duration": 156,
    "start_time": "2022-04-22T15:02:03.972Z"
   },
   {
    "duration": 161,
    "start_time": "2022-04-22T15:02:04.129Z"
   },
   {
    "duration": 10,
    "start_time": "2022-04-22T15:02:04.291Z"
   },
   {
    "duration": 172,
    "start_time": "2022-04-22T15:02:04.303Z"
   },
   {
    "duration": 166,
    "start_time": "2022-04-22T15:02:04.478Z"
   },
   {
    "duration": 20,
    "start_time": "2022-04-22T15:02:04.646Z"
   },
   {
    "duration": 153,
    "start_time": "2022-04-22T15:02:04.668Z"
   },
   {
    "duration": 152,
    "start_time": "2022-04-22T15:02:04.823Z"
   },
   {
    "duration": 5,
    "start_time": "2022-04-22T15:02:04.976Z"
   },
   {
    "duration": 22,
    "start_time": "2022-04-22T15:02:04.982Z"
   },
   {
    "duration": 9,
    "start_time": "2022-04-22T15:02:05.006Z"
   },
   {
    "duration": 11,
    "start_time": "2022-04-22T15:02:05.017Z"
   },
   {
    "duration": 33,
    "start_time": "2022-04-22T15:02:05.030Z"
   },
   {
    "duration": 14,
    "start_time": "2022-04-22T15:02:05.065Z"
   },
   {
    "duration": 10,
    "start_time": "2022-04-22T15:02:05.081Z"
   },
   {
    "duration": 7,
    "start_time": "2022-04-22T15:02:05.170Z"
   },
   {
    "duration": 7,
    "start_time": "2022-04-22T15:02:05.179Z"
   },
   {
    "duration": 6,
    "start_time": "2022-04-22T15:02:05.187Z"
   },
   {
    "duration": 12,
    "start_time": "2022-04-22T15:02:05.195Z"
   },
   {
    "duration": 6,
    "start_time": "2022-04-22T15:02:05.208Z"
   },
   {
    "duration": 7,
    "start_time": "2022-04-22T15:02:05.216Z"
   },
   {
    "duration": 4,
    "start_time": "2022-04-22T15:02:05.224Z"
   },
   {
    "duration": 28,
    "start_time": "2022-04-22T15:02:05.230Z"
   },
   {
    "duration": 5,
    "start_time": "2022-04-22T15:02:43.582Z"
   },
   {
    "duration": 9,
    "start_time": "2022-04-22T15:02:50.058Z"
   },
   {
    "duration": 150,
    "start_time": "2022-04-22T15:03:05.296Z"
   },
   {
    "duration": 8,
    "start_time": "2022-04-22T15:04:02.258Z"
   },
   {
    "duration": 164,
    "start_time": "2022-04-22T15:04:46.172Z"
   },
   {
    "duration": 4,
    "start_time": "2022-04-22T15:05:10.669Z"
   },
   {
    "duration": 4,
    "start_time": "2022-04-22T15:05:25.724Z"
   },
   {
    "duration": 4,
    "start_time": "2022-04-22T15:05:32.493Z"
   },
   {
    "duration": 5,
    "start_time": "2022-04-22T15:07:25.499Z"
   },
   {
    "duration": 5,
    "start_time": "2022-04-22T15:07:29.152Z"
   },
   {
    "duration": 4,
    "start_time": "2022-04-22T15:07:29.616Z"
   },
   {
    "duration": 27,
    "start_time": "2022-04-22T15:07:31.242Z"
   },
   {
    "duration": 112,
    "start_time": "2022-04-22T15:07:31.690Z"
   },
   {
    "duration": 4,
    "start_time": "2022-04-22T15:07:32.683Z"
   },
   {
    "duration": 29,
    "start_time": "2022-04-22T15:07:33.579Z"
   },
   {
    "duration": 11,
    "start_time": "2022-04-22T15:07:34.810Z"
   },
   {
    "duration": 1895,
    "start_time": "2022-04-22T15:07:40.103Z"
   },
   {
    "duration": 13,
    "start_time": "2022-04-22T15:07:42.000Z"
   },
   {
    "duration": 29,
    "start_time": "2022-04-22T15:07:42.014Z"
   },
   {
    "duration": 32,
    "start_time": "2022-04-22T15:07:42.044Z"
   },
   {
    "duration": 18,
    "start_time": "2022-04-22T15:07:42.078Z"
   },
   {
    "duration": 49,
    "start_time": "2022-04-22T15:07:42.098Z"
   },
   {
    "duration": 45,
    "start_time": "2022-04-22T15:07:42.149Z"
   },
   {
    "duration": 28,
    "start_time": "2022-04-22T15:07:42.195Z"
   },
   {
    "duration": 46,
    "start_time": "2022-04-22T15:07:42.225Z"
   },
   {
    "duration": 34,
    "start_time": "2022-04-22T15:07:42.272Z"
   },
   {
    "duration": 53,
    "start_time": "2022-04-22T15:07:42.307Z"
   },
   {
    "duration": 33,
    "start_time": "2022-04-22T15:07:42.362Z"
   },
   {
    "duration": 9,
    "start_time": "2022-04-22T15:07:42.397Z"
   },
   {
    "duration": 40,
    "start_time": "2022-04-22T15:07:42.410Z"
   },
   {
    "duration": 42,
    "start_time": "2022-04-22T15:07:42.452Z"
   },
   {
    "duration": 38,
    "start_time": "2022-04-22T15:07:42.496Z"
   },
   {
    "duration": 89,
    "start_time": "2022-04-22T15:07:42.536Z"
   },
   {
    "duration": 39,
    "start_time": "2022-04-22T15:07:42.627Z"
   },
   {
    "duration": 11,
    "start_time": "2022-04-22T15:07:42.668Z"
   },
   {
    "duration": 21,
    "start_time": "2022-04-22T15:07:42.681Z"
   },
   {
    "duration": 36,
    "start_time": "2022-04-22T15:07:42.704Z"
   },
   {
    "duration": 55,
    "start_time": "2022-04-22T15:07:42.742Z"
   },
   {
    "duration": 13,
    "start_time": "2022-04-22T15:07:42.799Z"
   },
   {
    "duration": 114,
    "start_time": "2022-04-22T15:07:42.814Z"
   },
   {
    "duration": 56,
    "start_time": "2022-04-22T15:07:42.931Z"
   },
   {
    "duration": 50,
    "start_time": "2022-04-22T15:07:42.989Z"
   },
   {
    "duration": 60,
    "start_time": "2022-04-22T15:07:43.041Z"
   },
   {
    "duration": 46,
    "start_time": "2022-04-22T15:07:43.103Z"
   },
   {
    "duration": 38,
    "start_time": "2022-04-22T15:07:43.153Z"
   },
   {
    "duration": 27,
    "start_time": "2022-04-22T15:07:43.193Z"
   },
   {
    "duration": 12,
    "start_time": "2022-04-22T15:07:43.221Z"
   },
   {
    "duration": 13,
    "start_time": "2022-04-22T15:07:43.261Z"
   },
   {
    "duration": 11,
    "start_time": "2022-04-22T15:07:43.276Z"
   },
   {
    "duration": 9,
    "start_time": "2022-04-22T15:07:43.289Z"
   },
   {
    "duration": 19,
    "start_time": "2022-04-22T15:07:43.300Z"
   },
   {
    "duration": 52,
    "start_time": "2022-04-22T15:07:43.321Z"
   },
   {
    "duration": 4,
    "start_time": "2022-04-22T15:07:43.375Z"
   },
   {
    "duration": 9,
    "start_time": "2022-04-22T15:07:43.381Z"
   },
   {
    "duration": 9,
    "start_time": "2022-04-22T15:07:43.392Z"
   },
   {
    "duration": 10,
    "start_time": "2022-04-22T15:07:43.403Z"
   },
   {
    "duration": 3,
    "start_time": "2022-04-22T15:07:43.417Z"
   },
   {
    "duration": 11,
    "start_time": "2022-04-22T15:07:43.454Z"
   },
   {
    "duration": 24,
    "start_time": "2022-04-22T15:07:43.467Z"
   },
   {
    "duration": 178,
    "start_time": "2022-04-22T15:07:43.492Z"
   },
   {
    "duration": 10,
    "start_time": "2022-04-22T15:07:43.672Z"
   },
   {
    "duration": 22,
    "start_time": "2022-04-22T15:07:43.683Z"
   },
   {
    "duration": 158,
    "start_time": "2022-04-22T15:07:43.706Z"
   },
   {
    "duration": 5,
    "start_time": "2022-04-22T15:07:43.866Z"
   },
   {
    "duration": 28,
    "start_time": "2022-04-22T15:07:43.873Z"
   },
   {
    "duration": 67,
    "start_time": "2022-04-22T15:07:43.903Z"
   },
   {
    "duration": 320,
    "start_time": "2022-04-22T15:07:43.974Z"
   },
   {
    "duration": 305,
    "start_time": "2022-04-22T15:07:44.296Z"
   },
   {
    "duration": 12,
    "start_time": "2022-04-22T15:07:44.655Z"
   },
   {
    "duration": 394,
    "start_time": "2022-04-22T15:07:44.669Z"
   },
   {
    "duration": 316,
    "start_time": "2022-04-22T15:07:45.065Z"
   },
   {
    "duration": 12,
    "start_time": "2022-04-22T15:07:45.383Z"
   },
   {
    "duration": 368,
    "start_time": "2022-04-22T15:07:45.396Z"
   },
   {
    "duration": 493,
    "start_time": "2022-04-22T15:07:45.767Z"
   },
   {
    "duration": 16,
    "start_time": "2022-04-22T15:07:46.265Z"
   },
   {
    "duration": 171,
    "start_time": "2022-04-22T15:07:46.283Z"
   },
   {
    "duration": 149,
    "start_time": "2022-04-22T15:07:46.456Z"
   },
   {
    "duration": 4,
    "start_time": "2022-04-22T15:07:46.607Z"
   },
   {
    "duration": 22,
    "start_time": "2022-04-22T15:07:46.613Z"
   },
   {
    "duration": 24,
    "start_time": "2022-04-22T15:07:46.636Z"
   },
   {
    "duration": 13,
    "start_time": "2022-04-22T15:07:46.662Z"
   },
   {
    "duration": 9,
    "start_time": "2022-04-22T15:07:46.676Z"
   },
   {
    "duration": 3,
    "start_time": "2022-04-22T15:07:46.686Z"
   },
   {
    "duration": 7,
    "start_time": "2022-04-22T15:07:46.691Z"
   },
   {
    "duration": 82,
    "start_time": "2022-04-22T15:07:46.700Z"
   },
   {
    "duration": 9,
    "start_time": "2022-04-22T15:07:46.783Z"
   },
   {
    "duration": 6,
    "start_time": "2022-04-22T15:07:46.793Z"
   },
   {
    "duration": 7,
    "start_time": "2022-04-22T15:07:46.800Z"
   },
   {
    "duration": 6,
    "start_time": "2022-04-22T15:07:46.809Z"
   },
   {
    "duration": 5,
    "start_time": "2022-04-22T15:07:46.817Z"
   },
   {
    "duration": 32,
    "start_time": "2022-04-22T15:07:46.823Z"
   },
   {
    "duration": 11,
    "start_time": "2022-04-22T15:07:46.857Z"
   },
   {
    "duration": 224,
    "start_time": "2022-04-22T15:09:12.436Z"
   },
   {
    "duration": 154,
    "start_time": "2022-04-22T15:11:27.594Z"
   },
   {
    "duration": 158,
    "start_time": "2022-04-22T15:12:11.171Z"
   },
   {
    "duration": 241,
    "start_time": "2022-04-22T15:13:02.236Z"
   },
   {
    "duration": 359,
    "start_time": "2022-04-22T15:13:19.290Z"
   },
   {
    "duration": 30,
    "start_time": "2022-04-22T15:14:57.060Z"
   },
   {
    "duration": 185,
    "start_time": "2022-04-22T15:15:48.875Z"
   },
   {
    "duration": 308,
    "start_time": "2022-04-22T15:20:34.423Z"
   },
   {
    "duration": 200,
    "start_time": "2022-04-22T15:22:19.042Z"
   },
   {
    "duration": 5,
    "start_time": "2022-04-22T15:23:18.968Z"
   },
   {
    "duration": 203,
    "start_time": "2022-04-22T15:23:34.596Z"
   },
   {
    "duration": 166,
    "start_time": "2022-04-22T15:24:38.572Z"
   },
   {
    "duration": 55,
    "start_time": "2022-04-22T15:25:26.688Z"
   },
   {
    "duration": 104,
    "start_time": "2022-04-22T15:25:31.892Z"
   },
   {
    "duration": 5,
    "start_time": "2022-04-22T15:25:42.024Z"
   },
   {
    "duration": 1330,
    "start_time": "2022-04-22T15:26:07.770Z"
   },
   {
    "duration": 1596,
    "start_time": "2022-04-22T15:26:12.811Z"
   },
   {
    "duration": 32,
    "start_time": "2022-04-22T15:26:23.299Z"
   },
   {
    "duration": 40,
    "start_time": "2022-04-22T15:26:24.444Z"
   },
   {
    "duration": 3,
    "start_time": "2022-04-22T15:26:56.123Z"
   },
   {
    "duration": 155,
    "start_time": "2022-04-22T15:27:36.568Z"
   },
   {
    "duration": 156,
    "start_time": "2022-04-22T15:28:10.871Z"
   },
   {
    "duration": 170,
    "start_time": "2022-04-22T15:28:11.950Z"
   },
   {
    "duration": 1553,
    "start_time": "2022-04-22T15:28:53.446Z"
   },
   {
    "duration": 13,
    "start_time": "2022-04-22T15:28:55.001Z"
   },
   {
    "duration": 14,
    "start_time": "2022-04-22T15:28:55.016Z"
   },
   {
    "duration": 33,
    "start_time": "2022-04-22T15:28:55.032Z"
   },
   {
    "duration": 7,
    "start_time": "2022-04-22T15:28:55.069Z"
   },
   {
    "duration": 28,
    "start_time": "2022-04-22T15:28:55.078Z"
   },
   {
    "duration": 26,
    "start_time": "2022-04-22T15:28:55.108Z"
   },
   {
    "duration": 8,
    "start_time": "2022-04-22T15:28:55.166Z"
   },
   {
    "duration": 23,
    "start_time": "2022-04-22T15:28:55.176Z"
   },
   {
    "duration": 9,
    "start_time": "2022-04-22T15:28:55.200Z"
   },
   {
    "duration": 25,
    "start_time": "2022-04-22T15:28:55.210Z"
   },
   {
    "duration": 44,
    "start_time": "2022-04-22T15:28:55.237Z"
   },
   {
    "duration": 8,
    "start_time": "2022-04-22T15:28:55.282Z"
   },
   {
    "duration": 24,
    "start_time": "2022-04-22T15:28:55.295Z"
   },
   {
    "duration": 41,
    "start_time": "2022-04-22T15:28:55.321Z"
   },
   {
    "duration": 23,
    "start_time": "2022-04-22T15:28:55.364Z"
   },
   {
    "duration": 79,
    "start_time": "2022-04-22T15:28:55.389Z"
   },
   {
    "duration": 33,
    "start_time": "2022-04-22T15:28:55.469Z"
   },
   {
    "duration": 12,
    "start_time": "2022-04-22T15:28:55.503Z"
   },
   {
    "duration": 16,
    "start_time": "2022-04-22T15:28:55.516Z"
   },
   {
    "duration": 53,
    "start_time": "2022-04-22T15:28:55.533Z"
   },
   {
    "duration": 46,
    "start_time": "2022-04-22T15:28:55.588Z"
   },
   {
    "duration": 35,
    "start_time": "2022-04-22T15:28:55.635Z"
   },
   {
    "duration": 80,
    "start_time": "2022-04-22T15:28:55.672Z"
   },
   {
    "duration": 42,
    "start_time": "2022-04-22T15:28:55.753Z"
   },
   {
    "duration": 43,
    "start_time": "2022-04-22T15:28:55.797Z"
   },
   {
    "duration": 39,
    "start_time": "2022-04-22T15:28:55.857Z"
   },
   {
    "duration": 101,
    "start_time": "2022-04-22T15:28:55.898Z"
   },
   {
    "duration": 30,
    "start_time": "2022-04-22T15:28:56.001Z"
   },
   {
    "duration": 40,
    "start_time": "2022-04-22T15:28:56.033Z"
   },
   {
    "duration": 11,
    "start_time": "2022-04-22T15:28:56.075Z"
   },
   {
    "duration": 12,
    "start_time": "2022-04-22T15:28:56.088Z"
   },
   {
    "duration": 17,
    "start_time": "2022-04-22T15:28:56.102Z"
   },
   {
    "duration": 10,
    "start_time": "2022-04-22T15:28:56.120Z"
   },
   {
    "duration": 43,
    "start_time": "2022-04-22T15:28:56.131Z"
   },
   {
    "duration": 19,
    "start_time": "2022-04-22T15:28:56.175Z"
   },
   {
    "duration": 4,
    "start_time": "2022-04-22T15:28:56.195Z"
   },
   {
    "duration": 9,
    "start_time": "2022-04-22T15:28:56.201Z"
   },
   {
    "duration": 11,
    "start_time": "2022-04-22T15:28:56.211Z"
   },
   {
    "duration": 39,
    "start_time": "2022-04-22T15:28:56.223Z"
   },
   {
    "duration": 3,
    "start_time": "2022-04-22T15:28:56.271Z"
   },
   {
    "duration": 10,
    "start_time": "2022-04-22T15:28:56.276Z"
   },
   {
    "duration": 18,
    "start_time": "2022-04-22T15:28:56.287Z"
   },
   {
    "duration": 130,
    "start_time": "2022-04-22T15:28:56.307Z"
   },
   {
    "duration": 8,
    "start_time": "2022-04-22T15:28:56.439Z"
   },
   {
    "duration": 23,
    "start_time": "2022-04-22T15:28:56.458Z"
   },
   {
    "duration": 43,
    "start_time": "2022-04-22T15:28:56.483Z"
   },
   {
    "duration": 4,
    "start_time": "2022-04-22T15:28:56.528Z"
   },
   {
    "duration": 38,
    "start_time": "2022-04-22T15:28:56.533Z"
   },
   {
    "duration": 20,
    "start_time": "2022-04-22T15:28:56.572Z"
   },
   {
    "duration": 140,
    "start_time": "2022-04-22T15:28:56.594Z"
   },
   {
    "duration": 239,
    "start_time": "2022-04-22T15:28:56.736Z"
   },
   {
    "duration": 10,
    "start_time": "2022-04-22T15:28:56.977Z"
   },
   {
    "duration": 176,
    "start_time": "2022-04-22T15:28:56.989Z"
   },
   {
    "duration": 170,
    "start_time": "2022-04-22T15:28:57.167Z"
   },
   {
    "duration": 26,
    "start_time": "2022-04-22T15:28:57.340Z"
   },
   {
    "duration": 158,
    "start_time": "2022-04-22T15:28:57.368Z"
   },
   {
    "duration": 158,
    "start_time": "2022-04-22T15:28:57.527Z"
   },
   {
    "duration": 10,
    "start_time": "2022-04-22T15:28:57.687Z"
   },
   {
    "duration": 162,
    "start_time": "2022-04-22T15:28:57.699Z"
   },
   {
    "duration": 239,
    "start_time": "2022-04-22T15:28:57.863Z"
   },
   {
    "duration": 4,
    "start_time": "2022-04-22T15:28:58.104Z"
   },
   {
    "duration": 22,
    "start_time": "2022-04-22T15:28:58.109Z"
   },
   {
    "duration": 5,
    "start_time": "2022-04-22T15:28:58.133Z"
   },
   {
    "duration": 26,
    "start_time": "2022-04-22T15:28:58.139Z"
   },
   {
    "duration": 21,
    "start_time": "2022-04-22T15:28:58.168Z"
   },
   {
    "duration": 2,
    "start_time": "2022-04-22T15:28:58.191Z"
   },
   {
    "duration": 13,
    "start_time": "2022-04-22T15:28:58.194Z"
   },
   {
    "duration": 9,
    "start_time": "2022-04-22T15:28:58.209Z"
   },
   {
    "duration": 17,
    "start_time": "2022-04-22T15:28:58.219Z"
   },
   {
    "duration": 21,
    "start_time": "2022-04-22T15:28:58.237Z"
   },
   {
    "duration": 16,
    "start_time": "2022-04-22T15:28:58.259Z"
   },
   {
    "duration": 8,
    "start_time": "2022-04-22T15:28:58.276Z"
   },
   {
    "duration": 7,
    "start_time": "2022-04-22T15:28:58.285Z"
   },
   {
    "duration": 8,
    "start_time": "2022-04-22T15:28:58.294Z"
   },
   {
    "duration": 9,
    "start_time": "2022-04-22T15:28:58.304Z"
   },
   {
    "duration": 69,
    "start_time": "2022-04-22T15:28:58.315Z"
   },
   {
    "duration": 1448,
    "start_time": "2022-04-22T15:28:58.386Z"
   },
   {
    "duration": 4,
    "start_time": "2022-04-22T15:28:59.836Z"
   },
   {
    "duration": 188,
    "start_time": "2022-04-22T15:28:59.842Z"
   },
   {
    "duration": 173,
    "start_time": "2022-04-22T15:29:00.032Z"
   },
   {
    "duration": 176,
    "start_time": "2022-04-22T15:29:00.207Z"
   },
   {
    "duration": 32,
    "start_time": "2022-04-22T15:29:00.385Z"
   },
   {
    "duration": 152,
    "start_time": "2022-04-22T15:40:43.900Z"
   },
   {
    "duration": 717,
    "start_time": "2022-04-23T22:06:00.375Z"
   },
   {
    "duration": 1816,
    "start_time": "2022-04-23T22:06:06.797Z"
   },
   {
    "duration": 18,
    "start_time": "2022-04-23T22:06:08.616Z"
   },
   {
    "duration": 19,
    "start_time": "2022-04-23T22:06:08.638Z"
   },
   {
    "duration": 15,
    "start_time": "2022-04-23T22:06:08.660Z"
   },
   {
    "duration": 11,
    "start_time": "2022-04-23T22:06:08.677Z"
   },
   {
    "duration": 60,
    "start_time": "2022-04-23T22:06:08.690Z"
   },
   {
    "duration": 46,
    "start_time": "2022-04-23T22:06:08.753Z"
   },
   {
    "duration": 29,
    "start_time": "2022-04-23T22:06:08.800Z"
   },
   {
    "duration": 25,
    "start_time": "2022-04-23T22:06:08.831Z"
   },
   {
    "duration": 9,
    "start_time": "2022-04-23T22:06:08.859Z"
   },
   {
    "duration": 25,
    "start_time": "2022-04-23T22:06:08.870Z"
   },
   {
    "duration": 36,
    "start_time": "2022-04-23T22:06:08.923Z"
   },
   {
    "duration": 12,
    "start_time": "2022-04-23T22:06:08.961Z"
   },
   {
    "duration": 65,
    "start_time": "2022-04-23T22:06:08.975Z"
   },
   {
    "duration": 12,
    "start_time": "2022-04-23T22:06:09.042Z"
   },
   {
    "duration": 267,
    "start_time": "2022-04-23T22:06:09.056Z"
   },
   {
    "duration": 25,
    "start_time": "2022-04-23T22:06:09.327Z"
   },
   {
    "duration": 110,
    "start_time": "2022-04-23T22:06:09.354Z"
   },
   {
    "duration": 59,
    "start_time": "2022-04-23T22:06:09.466Z"
   },
   {
    "duration": 16,
    "start_time": "2022-04-23T22:06:09.527Z"
   },
   {
    "duration": 25,
    "start_time": "2022-04-23T22:06:09.545Z"
   },
   {
    "duration": 67,
    "start_time": "2022-04-23T22:06:09.572Z"
   },
   {
    "duration": 46,
    "start_time": "2022-04-23T22:06:09.641Z"
   },
   {
    "duration": 12,
    "start_time": "2022-04-23T22:06:09.688Z"
   },
   {
    "duration": 92,
    "start_time": "2022-04-23T22:06:09.702Z"
   },
   {
    "duration": 64,
    "start_time": "2022-04-23T22:06:09.796Z"
   },
   {
    "duration": 45,
    "start_time": "2022-04-23T22:06:09.861Z"
   },
   {
    "duration": 30,
    "start_time": "2022-04-23T22:06:09.929Z"
   },
   {
    "duration": 64,
    "start_time": "2022-04-23T22:06:09.960Z"
   },
   {
    "duration": 30,
    "start_time": "2022-04-23T22:06:10.026Z"
   },
   {
    "duration": 27,
    "start_time": "2022-04-23T22:06:10.058Z"
   },
   {
    "duration": 12,
    "start_time": "2022-04-23T22:06:10.087Z"
   },
   {
    "duration": 19,
    "start_time": "2022-04-23T22:06:10.124Z"
   },
   {
    "duration": 11,
    "start_time": "2022-04-23T22:06:10.146Z"
   },
   {
    "duration": 12,
    "start_time": "2022-04-23T22:06:10.159Z"
   },
   {
    "duration": 59,
    "start_time": "2022-04-23T22:06:10.173Z"
   },
   {
    "duration": 24,
    "start_time": "2022-04-23T22:06:10.235Z"
   },
   {
    "duration": 4,
    "start_time": "2022-04-23T22:06:10.261Z"
   },
   {
    "duration": 9,
    "start_time": "2022-04-23T22:06:10.267Z"
   },
   {
    "duration": 11,
    "start_time": "2022-04-23T22:06:10.278Z"
   },
   {
    "duration": 20,
    "start_time": "2022-04-23T22:06:10.324Z"
   },
   {
    "duration": 5,
    "start_time": "2022-04-23T22:06:10.346Z"
   },
   {
    "duration": 5,
    "start_time": "2022-04-23T22:06:10.353Z"
   },
   {
    "duration": 20,
    "start_time": "2022-04-23T22:06:10.360Z"
   },
   {
    "duration": 134,
    "start_time": "2022-04-23T22:06:10.383Z"
   },
   {
    "duration": 8,
    "start_time": "2022-04-23T22:06:10.519Z"
   },
   {
    "duration": 26,
    "start_time": "2022-04-23T22:06:10.529Z"
   },
   {
    "duration": 44,
    "start_time": "2022-04-23T22:06:10.556Z"
   },
   {
    "duration": 31,
    "start_time": "2022-04-23T22:06:10.602Z"
   },
   {
    "duration": 13,
    "start_time": "2022-04-23T22:06:10.635Z"
   },
   {
    "duration": 12,
    "start_time": "2022-04-23T22:06:10.650Z"
   },
   {
    "duration": 149,
    "start_time": "2022-04-23T22:06:10.664Z"
   },
   {
    "duration": 252,
    "start_time": "2022-04-23T22:06:10.815Z"
   },
   {
    "duration": 11,
    "start_time": "2022-04-23T22:06:11.070Z"
   },
   {
    "duration": 177,
    "start_time": "2022-04-23T22:06:11.083Z"
   },
   {
    "duration": 175,
    "start_time": "2022-04-23T22:06:11.262Z"
   },
   {
    "duration": 10,
    "start_time": "2022-04-23T22:06:11.441Z"
   },
   {
    "duration": 176,
    "start_time": "2022-04-23T22:06:11.453Z"
   },
   {
    "duration": 246,
    "start_time": "2022-04-23T22:06:11.631Z"
   },
   {
    "duration": 13,
    "start_time": "2022-04-23T22:06:11.879Z"
   },
   {
    "duration": 206,
    "start_time": "2022-04-23T22:06:11.894Z"
   },
   {
    "duration": 169,
    "start_time": "2022-04-23T22:06:12.102Z"
   },
   {
    "duration": 5,
    "start_time": "2022-04-23T22:06:12.273Z"
   },
   {
    "duration": 38,
    "start_time": "2022-04-23T22:06:12.280Z"
   },
   {
    "duration": 16,
    "start_time": "2022-04-23T22:06:12.320Z"
   },
   {
    "duration": 27,
    "start_time": "2022-04-23T22:06:12.338Z"
   },
   {
    "duration": 29,
    "start_time": "2022-04-23T22:06:12.367Z"
   },
   {
    "duration": 21,
    "start_time": "2022-04-23T22:06:12.398Z"
   },
   {
    "duration": 25,
    "start_time": "2022-04-23T22:06:12.421Z"
   },
   {
    "duration": 31,
    "start_time": "2022-04-23T22:06:12.448Z"
   },
   {
    "duration": 22,
    "start_time": "2022-04-23T22:06:12.481Z"
   },
   {
    "duration": 30,
    "start_time": "2022-04-23T22:06:12.504Z"
   },
   {
    "duration": 33,
    "start_time": "2022-04-23T22:06:12.536Z"
   },
   {
    "duration": 23,
    "start_time": "2022-04-23T22:06:12.571Z"
   },
   {
    "duration": 17,
    "start_time": "2022-04-23T22:06:12.595Z"
   },
   {
    "duration": 27,
    "start_time": "2022-04-23T22:06:12.613Z"
   },
   {
    "duration": 19,
    "start_time": "2022-04-23T22:06:12.642Z"
   },
   {
    "duration": 85,
    "start_time": "2022-04-23T22:06:12.664Z"
   },
   {
    "duration": 1577,
    "start_time": "2022-04-23T22:06:12.751Z"
   },
   {
    "duration": 6,
    "start_time": "2022-04-23T22:06:14.330Z"
   },
   {
    "duration": 427,
    "start_time": "2022-04-23T22:06:14.338Z"
   },
   {
    "duration": 489,
    "start_time": "2022-04-23T22:06:14.772Z"
   },
   {
    "duration": 493,
    "start_time": "2022-04-23T22:06:15.263Z"
   },
   {
    "duration": 86,
    "start_time": "2022-04-23T22:06:15.757Z"
   },
   {
    "duration": 199,
    "start_time": "2022-04-23T22:06:33.893Z"
   },
   {
    "duration": 192,
    "start_time": "2022-04-23T22:07:36.902Z"
   },
   {
    "duration": 210,
    "start_time": "2022-04-23T22:08:08.051Z"
   },
   {
    "duration": 202,
    "start_time": "2022-04-23T22:09:39.791Z"
   },
   {
    "duration": 690,
    "start_time": "2022-04-23T22:10:27.824Z"
   },
   {
    "duration": 445,
    "start_time": "2022-04-23T22:10:57.593Z"
   },
   {
    "duration": 457,
    "start_time": "2022-04-23T22:11:10.695Z"
   },
   {
    "duration": 454,
    "start_time": "2022-04-23T22:13:21.435Z"
   },
   {
    "duration": 514,
    "start_time": "2022-04-23T22:13:31.934Z"
   },
   {
    "duration": 20,
    "start_time": "2022-04-23T22:40:41.575Z"
   },
   {
    "duration": 29,
    "start_time": "2022-04-23T22:41:03.267Z"
   },
   {
    "duration": 21,
    "start_time": "2022-04-23T22:41:07.397Z"
   },
   {
    "duration": 228,
    "start_time": "2022-04-23T22:45:42.267Z"
   },
   {
    "duration": 166,
    "start_time": "2022-04-23T22:45:48.753Z"
   },
   {
    "duration": 216,
    "start_time": "2022-04-23T22:45:56.349Z"
   },
   {
    "duration": 144,
    "start_time": "2022-04-23T22:46:01.040Z"
   },
   {
    "duration": 144,
    "start_time": "2022-04-23T22:46:06.840Z"
   },
   {
    "duration": 150,
    "start_time": "2022-04-23T22:46:10.051Z"
   },
   {
    "duration": 151,
    "start_time": "2022-04-23T22:46:27.270Z"
   },
   {
    "duration": 136,
    "start_time": "2022-04-23T22:46:31.437Z"
   },
   {
    "duration": 27,
    "start_time": "2022-04-23T23:17:19.247Z"
   },
   {
    "duration": 129,
    "start_time": "2022-04-23T23:17:36.015Z"
   },
   {
    "duration": 2020,
    "start_time": "2022-04-23T23:17:46.394Z"
   },
   {
    "duration": 17,
    "start_time": "2022-04-23T23:17:48.416Z"
   },
   {
    "duration": 16,
    "start_time": "2022-04-23T23:17:48.436Z"
   },
   {
    "duration": 11,
    "start_time": "2022-04-23T23:17:48.454Z"
   },
   {
    "duration": 9,
    "start_time": "2022-04-23T23:17:48.466Z"
   },
   {
    "duration": 55,
    "start_time": "2022-04-23T23:17:48.476Z"
   },
   {
    "duration": 42,
    "start_time": "2022-04-23T23:17:48.533Z"
   },
   {
    "duration": 9,
    "start_time": "2022-04-23T23:17:48.577Z"
   },
   {
    "duration": 53,
    "start_time": "2022-04-23T23:17:48.588Z"
   },
   {
    "duration": 8,
    "start_time": "2022-04-23T23:17:48.644Z"
   },
   {
    "duration": 21,
    "start_time": "2022-04-23T23:17:48.655Z"
   },
   {
    "duration": 52,
    "start_time": "2022-04-23T23:17:48.678Z"
   },
   {
    "duration": 12,
    "start_time": "2022-04-23T23:17:48.732Z"
   },
   {
    "duration": 26,
    "start_time": "2022-04-23T23:17:48.745Z"
   },
   {
    "duration": 11,
    "start_time": "2022-04-23T23:17:48.773Z"
   },
   {
    "duration": 711,
    "start_time": "2022-04-23T23:17:48.786Z"
   },
   {
    "duration": 29,
    "start_time": "2022-04-23T23:17:49.498Z"
   },
   {
    "duration": 63,
    "start_time": "2022-04-23T23:17:49.529Z"
   },
   {
    "duration": 54,
    "start_time": "2022-04-23T23:17:49.594Z"
   },
   {
    "duration": 11,
    "start_time": "2022-04-23T23:17:49.650Z"
   },
   {
    "duration": 15,
    "start_time": "2022-04-23T23:17:49.662Z"
   },
   {
    "duration": 25,
    "start_time": "2022-04-23T23:17:49.679Z"
   },
   {
    "duration": 53,
    "start_time": "2022-04-23T23:17:49.723Z"
   },
   {
    "duration": 10,
    "start_time": "2022-04-23T23:17:49.777Z"
   },
   {
    "duration": 8,
    "start_time": "2022-04-23T23:17:49.789Z"
   },
   {
    "duration": 115,
    "start_time": "2022-04-23T23:17:49.824Z"
   },
   {
    "duration": 0,
    "start_time": "2022-04-23T23:17:49.943Z"
   },
   {
    "duration": 1,
    "start_time": "2022-04-23T23:17:49.944Z"
   },
   {
    "duration": 0,
    "start_time": "2022-04-23T23:17:49.946Z"
   },
   {
    "duration": 0,
    "start_time": "2022-04-23T23:17:49.946Z"
   },
   {
    "duration": 0,
    "start_time": "2022-04-23T23:17:49.947Z"
   },
   {
    "duration": 0,
    "start_time": "2022-04-23T23:17:49.948Z"
   },
   {
    "duration": 0,
    "start_time": "2022-04-23T23:17:49.949Z"
   },
   {
    "duration": 0,
    "start_time": "2022-04-23T23:17:49.950Z"
   },
   {
    "duration": 0,
    "start_time": "2022-04-23T23:17:49.951Z"
   },
   {
    "duration": 0,
    "start_time": "2022-04-23T23:17:49.952Z"
   },
   {
    "duration": 0,
    "start_time": "2022-04-23T23:17:49.953Z"
   },
   {
    "duration": 0,
    "start_time": "2022-04-23T23:17:49.953Z"
   },
   {
    "duration": 0,
    "start_time": "2022-04-23T23:17:49.954Z"
   },
   {
    "duration": 0,
    "start_time": "2022-04-23T23:17:49.955Z"
   },
   {
    "duration": 0,
    "start_time": "2022-04-23T23:17:49.956Z"
   },
   {
    "duration": 0,
    "start_time": "2022-04-23T23:17:49.957Z"
   },
   {
    "duration": 0,
    "start_time": "2022-04-23T23:17:49.958Z"
   },
   {
    "duration": 0,
    "start_time": "2022-04-23T23:17:49.959Z"
   },
   {
    "duration": 0,
    "start_time": "2022-04-23T23:17:49.960Z"
   },
   {
    "duration": 0,
    "start_time": "2022-04-23T23:17:49.961Z"
   },
   {
    "duration": 0,
    "start_time": "2022-04-23T23:17:49.962Z"
   },
   {
    "duration": 0,
    "start_time": "2022-04-23T23:17:49.963Z"
   },
   {
    "duration": 0,
    "start_time": "2022-04-23T23:17:49.964Z"
   },
   {
    "duration": 0,
    "start_time": "2022-04-23T23:17:49.965Z"
   },
   {
    "duration": 0,
    "start_time": "2022-04-23T23:17:49.965Z"
   },
   {
    "duration": 0,
    "start_time": "2022-04-23T23:17:49.966Z"
   },
   {
    "duration": 0,
    "start_time": "2022-04-23T23:17:49.967Z"
   },
   {
    "duration": 0,
    "start_time": "2022-04-23T23:17:49.968Z"
   },
   {
    "duration": 0,
    "start_time": "2022-04-23T23:17:49.969Z"
   },
   {
    "duration": 0,
    "start_time": "2022-04-23T23:17:49.970Z"
   },
   {
    "duration": 0,
    "start_time": "2022-04-23T23:17:49.971Z"
   },
   {
    "duration": 0,
    "start_time": "2022-04-23T23:17:49.972Z"
   },
   {
    "duration": 0,
    "start_time": "2022-04-23T23:17:49.973Z"
   },
   {
    "duration": 0,
    "start_time": "2022-04-23T23:17:50.026Z"
   },
   {
    "duration": 0,
    "start_time": "2022-04-23T23:17:50.027Z"
   },
   {
    "duration": 0,
    "start_time": "2022-04-23T23:17:50.034Z"
   },
   {
    "duration": 0,
    "start_time": "2022-04-23T23:17:50.035Z"
   },
   {
    "duration": 0,
    "start_time": "2022-04-23T23:17:50.036Z"
   },
   {
    "duration": 1,
    "start_time": "2022-04-23T23:17:50.036Z"
   },
   {
    "duration": 0,
    "start_time": "2022-04-23T23:17:50.037Z"
   },
   {
    "duration": 0,
    "start_time": "2022-04-23T23:17:50.038Z"
   },
   {
    "duration": 0,
    "start_time": "2022-04-23T23:17:50.042Z"
   },
   {
    "duration": 0,
    "start_time": "2022-04-23T23:17:50.043Z"
   },
   {
    "duration": 0,
    "start_time": "2022-04-23T23:17:50.044Z"
   },
   {
    "duration": 0,
    "start_time": "2022-04-23T23:17:50.045Z"
   },
   {
    "duration": 0,
    "start_time": "2022-04-23T23:17:50.046Z"
   },
   {
    "duration": 0,
    "start_time": "2022-04-23T23:17:50.047Z"
   },
   {
    "duration": 0,
    "start_time": "2022-04-23T23:17:50.048Z"
   },
   {
    "duration": 0,
    "start_time": "2022-04-23T23:17:50.049Z"
   },
   {
    "duration": 0,
    "start_time": "2022-04-23T23:17:50.050Z"
   },
   {
    "duration": 0,
    "start_time": "2022-04-23T23:17:50.051Z"
   },
   {
    "duration": 0,
    "start_time": "2022-04-23T23:17:50.052Z"
   },
   {
    "duration": 0,
    "start_time": "2022-04-23T23:17:50.053Z"
   },
   {
    "duration": 0,
    "start_time": "2022-04-23T23:17:50.054Z"
   },
   {
    "duration": 1,
    "start_time": "2022-04-23T23:17:50.054Z"
   },
   {
    "duration": 0,
    "start_time": "2022-04-23T23:17:50.056Z"
   },
   {
    "duration": 0,
    "start_time": "2022-04-23T23:17:50.057Z"
   },
   {
    "duration": 0,
    "start_time": "2022-04-23T23:17:50.058Z"
   },
   {
    "duration": 92,
    "start_time": "2022-04-23T23:23:18.597Z"
   },
   {
    "duration": 38,
    "start_time": "2022-04-23T23:23:22.840Z"
   },
   {
    "duration": 2070,
    "start_time": "2022-04-23T23:23:31.845Z"
   },
   {
    "duration": 18,
    "start_time": "2022-04-23T23:23:33.918Z"
   },
   {
    "duration": 19,
    "start_time": "2022-04-23T23:23:33.939Z"
   },
   {
    "duration": 14,
    "start_time": "2022-04-23T23:23:33.961Z"
   },
   {
    "duration": 11,
    "start_time": "2022-04-23T23:23:33.976Z"
   },
   {
    "duration": 54,
    "start_time": "2022-04-23T23:23:33.989Z"
   },
   {
    "duration": 43,
    "start_time": "2022-04-23T23:23:34.045Z"
   },
   {
    "duration": 9,
    "start_time": "2022-04-23T23:23:34.090Z"
   },
   {
    "duration": 46,
    "start_time": "2022-04-23T23:23:34.101Z"
   },
   {
    "duration": 8,
    "start_time": "2022-04-23T23:23:34.150Z"
   },
   {
    "duration": 27,
    "start_time": "2022-04-23T23:23:34.160Z"
   },
   {
    "duration": 51,
    "start_time": "2022-04-23T23:23:34.189Z"
   },
   {
    "duration": 9,
    "start_time": "2022-04-23T23:23:34.242Z"
   },
   {
    "duration": 36,
    "start_time": "2022-04-23T23:23:34.253Z"
   },
   {
    "duration": 42,
    "start_time": "2022-04-23T23:23:34.291Z"
   },
   {
    "duration": 454,
    "start_time": "2022-04-23T23:23:34.336Z"
   },
   {
    "duration": 37,
    "start_time": "2022-04-23T23:23:34.792Z"
   },
   {
    "duration": 104,
    "start_time": "2022-04-23T23:23:34.831Z"
   },
   {
    "duration": 45,
    "start_time": "2022-04-23T23:23:34.937Z"
   },
   {
    "duration": 11,
    "start_time": "2022-04-23T23:23:34.984Z"
   },
   {
    "duration": 42,
    "start_time": "2022-04-23T23:23:34.996Z"
   },
   {
    "duration": 28,
    "start_time": "2022-04-23T23:23:35.040Z"
   },
   {
    "duration": 66,
    "start_time": "2022-04-23T23:23:35.070Z"
   },
   {
    "duration": 14,
    "start_time": "2022-04-23T23:23:35.138Z"
   },
   {
    "duration": 95,
    "start_time": "2022-04-23T23:23:35.154Z"
   },
   {
    "duration": 41,
    "start_time": "2022-04-23T23:23:35.251Z"
   },
   {
    "duration": 83,
    "start_time": "2022-04-23T23:23:35.294Z"
   },
   {
    "duration": 47,
    "start_time": "2022-04-23T23:23:35.384Z"
   },
   {
    "duration": 69,
    "start_time": "2022-04-23T23:23:35.433Z"
   },
   {
    "duration": 49,
    "start_time": "2022-04-23T23:23:35.504Z"
   },
   {
    "duration": 254,
    "start_time": "2022-04-23T23:23:35.554Z"
   },
   {
    "duration": 0,
    "start_time": "2022-04-23T23:23:35.816Z"
   },
   {
    "duration": 0,
    "start_time": "2022-04-23T23:23:35.817Z"
   },
   {
    "duration": 0,
    "start_time": "2022-04-23T23:23:35.819Z"
   },
   {
    "duration": 0,
    "start_time": "2022-04-23T23:23:35.820Z"
   },
   {
    "duration": 0,
    "start_time": "2022-04-23T23:23:35.824Z"
   },
   {
    "duration": 0,
    "start_time": "2022-04-23T23:23:35.825Z"
   },
   {
    "duration": 0,
    "start_time": "2022-04-23T23:23:35.826Z"
   },
   {
    "duration": 0,
    "start_time": "2022-04-23T23:23:35.827Z"
   },
   {
    "duration": 0,
    "start_time": "2022-04-23T23:23:35.829Z"
   },
   {
    "duration": 0,
    "start_time": "2022-04-23T23:23:35.830Z"
   },
   {
    "duration": 0,
    "start_time": "2022-04-23T23:23:35.831Z"
   },
   {
    "duration": 0,
    "start_time": "2022-04-23T23:23:35.832Z"
   },
   {
    "duration": 0,
    "start_time": "2022-04-23T23:23:35.833Z"
   },
   {
    "duration": 0,
    "start_time": "2022-04-23T23:23:35.835Z"
   },
   {
    "duration": 0,
    "start_time": "2022-04-23T23:23:35.836Z"
   },
   {
    "duration": 0,
    "start_time": "2022-04-23T23:23:35.837Z"
   },
   {
    "duration": 0,
    "start_time": "2022-04-23T23:23:35.839Z"
   },
   {
    "duration": 0,
    "start_time": "2022-04-23T23:23:35.840Z"
   },
   {
    "duration": 0,
    "start_time": "2022-04-23T23:23:35.841Z"
   },
   {
    "duration": 0,
    "start_time": "2022-04-23T23:23:35.843Z"
   },
   {
    "duration": 0,
    "start_time": "2022-04-23T23:23:35.844Z"
   },
   {
    "duration": 0,
    "start_time": "2022-04-23T23:23:35.845Z"
   },
   {
    "duration": 0,
    "start_time": "2022-04-23T23:23:35.847Z"
   },
   {
    "duration": 0,
    "start_time": "2022-04-23T23:23:35.848Z"
   },
   {
    "duration": 0,
    "start_time": "2022-04-23T23:23:35.849Z"
   },
   {
    "duration": 0,
    "start_time": "2022-04-23T23:23:35.851Z"
   },
   {
    "duration": 0,
    "start_time": "2022-04-23T23:23:35.852Z"
   },
   {
    "duration": 0,
    "start_time": "2022-04-23T23:23:35.854Z"
   },
   {
    "duration": 0,
    "start_time": "2022-04-23T23:23:35.855Z"
   },
   {
    "duration": 0,
    "start_time": "2022-04-23T23:23:35.856Z"
   },
   {
    "duration": 0,
    "start_time": "2022-04-23T23:23:35.858Z"
   },
   {
    "duration": 0,
    "start_time": "2022-04-23T23:23:35.859Z"
   },
   {
    "duration": 0,
    "start_time": "2022-04-23T23:23:35.860Z"
   },
   {
    "duration": 0,
    "start_time": "2022-04-23T23:23:35.862Z"
   },
   {
    "duration": 0,
    "start_time": "2022-04-23T23:23:35.863Z"
   },
   {
    "duration": 0,
    "start_time": "2022-04-23T23:23:35.865Z"
   },
   {
    "duration": 0,
    "start_time": "2022-04-23T23:23:35.866Z"
   },
   {
    "duration": 0,
    "start_time": "2022-04-23T23:23:35.930Z"
   },
   {
    "duration": 0,
    "start_time": "2022-04-23T23:23:35.931Z"
   },
   {
    "duration": 0,
    "start_time": "2022-04-23T23:23:35.934Z"
   },
   {
    "duration": 0,
    "start_time": "2022-04-23T23:23:35.935Z"
   },
   {
    "duration": 0,
    "start_time": "2022-04-23T23:23:35.941Z"
   },
   {
    "duration": 0,
    "start_time": "2022-04-23T23:23:35.942Z"
   },
   {
    "duration": 0,
    "start_time": "2022-04-23T23:23:35.943Z"
   },
   {
    "duration": 0,
    "start_time": "2022-04-23T23:23:35.945Z"
   },
   {
    "duration": 0,
    "start_time": "2022-04-23T23:23:35.946Z"
   },
   {
    "duration": 0,
    "start_time": "2022-04-23T23:23:35.947Z"
   },
   {
    "duration": 0,
    "start_time": "2022-04-23T23:23:35.948Z"
   },
   {
    "duration": 0,
    "start_time": "2022-04-23T23:23:35.949Z"
   },
   {
    "duration": 0,
    "start_time": "2022-04-23T23:23:35.951Z"
   },
   {
    "duration": 0,
    "start_time": "2022-04-23T23:23:35.952Z"
   },
   {
    "duration": 0,
    "start_time": "2022-04-23T23:23:35.954Z"
   },
   {
    "duration": 0,
    "start_time": "2022-04-23T23:23:35.955Z"
   },
   {
    "duration": 34,
    "start_time": "2022-04-23T23:23:49.639Z"
   },
   {
    "duration": 11,
    "start_time": "2022-04-23T23:23:59.703Z"
   },
   {
    "duration": 41,
    "start_time": "2022-04-23T23:25:36.710Z"
   },
   {
    "duration": 27,
    "start_time": "2022-04-23T23:25:41.846Z"
   },
   {
    "duration": 29,
    "start_time": "2022-04-23T23:26:09.865Z"
   },
   {
    "duration": 25,
    "start_time": "2022-04-23T23:26:18.691Z"
   },
   {
    "duration": 1656,
    "start_time": "2022-04-23T23:26:24.655Z"
   },
   {
    "duration": 16,
    "start_time": "2022-04-23T23:26:26.314Z"
   },
   {
    "duration": 17,
    "start_time": "2022-04-23T23:26:26.332Z"
   },
   {
    "duration": 13,
    "start_time": "2022-04-23T23:26:26.351Z"
   },
   {
    "duration": 9,
    "start_time": "2022-04-23T23:26:26.366Z"
   },
   {
    "duration": 71,
    "start_time": "2022-04-23T23:26:26.376Z"
   },
   {
    "duration": 24,
    "start_time": "2022-04-23T23:26:26.448Z"
   },
   {
    "duration": 6,
    "start_time": "2022-04-23T23:26:26.474Z"
   },
   {
    "duration": 20,
    "start_time": "2022-04-23T23:26:26.483Z"
   },
   {
    "duration": 20,
    "start_time": "2022-04-23T23:26:26.521Z"
   },
   {
    "duration": 22,
    "start_time": "2022-04-23T23:26:26.543Z"
   },
   {
    "duration": 20,
    "start_time": "2022-04-23T23:26:26.567Z"
   },
   {
    "duration": 7,
    "start_time": "2022-04-23T23:26:26.589Z"
   },
   {
    "duration": 49,
    "start_time": "2022-04-23T23:26:26.597Z"
   },
   {
    "duration": 11,
    "start_time": "2022-04-23T23:26:26.648Z"
   },
   {
    "duration": 445,
    "start_time": "2022-04-23T23:26:26.661Z"
   },
   {
    "duration": 20,
    "start_time": "2022-04-23T23:26:27.107Z"
   },
   {
    "duration": 67,
    "start_time": "2022-04-23T23:26:27.128Z"
   },
   {
    "duration": 52,
    "start_time": "2022-04-23T23:26:27.197Z"
   },
   {
    "duration": 11,
    "start_time": "2022-04-23T23:26:27.251Z"
   },
   {
    "duration": 16,
    "start_time": "2022-04-23T23:26:27.264Z"
   },
   {
    "duration": 53,
    "start_time": "2022-04-23T23:26:27.282Z"
   },
   {
    "duration": 50,
    "start_time": "2022-04-23T23:26:27.338Z"
   },
   {
    "duration": 12,
    "start_time": "2022-04-23T23:26:27.389Z"
   },
   {
    "duration": 87,
    "start_time": "2022-04-23T23:26:27.402Z"
   },
   {
    "duration": 54,
    "start_time": "2022-04-23T23:26:27.491Z"
   },
   {
    "duration": 42,
    "start_time": "2022-04-23T23:26:27.547Z"
   },
   {
    "duration": 50,
    "start_time": "2022-04-23T23:26:27.594Z"
   },
   {
    "duration": 44,
    "start_time": "2022-04-23T23:26:27.645Z"
   },
   {
    "duration": 44,
    "start_time": "2022-04-23T23:26:27.691Z"
   },
   {
    "duration": 26,
    "start_time": "2022-04-23T23:26:27.740Z"
   },
   {
    "duration": 10,
    "start_time": "2022-04-23T23:26:27.767Z"
   },
   {
    "duration": 11,
    "start_time": "2022-04-23T23:26:27.779Z"
   },
   {
    "duration": 36,
    "start_time": "2022-04-23T23:26:27.791Z"
   },
   {
    "duration": 9,
    "start_time": "2022-04-23T23:26:27.830Z"
   },
   {
    "duration": 19,
    "start_time": "2022-04-23T23:26:27.840Z"
   },
   {
    "duration": 20,
    "start_time": "2022-04-23T23:26:27.860Z"
   },
   {
    "duration": 4,
    "start_time": "2022-04-23T23:26:27.882Z"
   },
   {
    "duration": 39,
    "start_time": "2022-04-23T23:26:27.887Z"
   },
   {
    "duration": 13,
    "start_time": "2022-04-23T23:26:27.929Z"
   },
   {
    "duration": 10,
    "start_time": "2022-04-23T23:26:27.943Z"
   },
   {
    "duration": 4,
    "start_time": "2022-04-23T23:26:27.955Z"
   },
   {
    "duration": 6,
    "start_time": "2022-04-23T23:26:27.960Z"
   },
   {
    "duration": 23,
    "start_time": "2022-04-23T23:26:27.968Z"
   },
   {
    "duration": 137,
    "start_time": "2022-04-23T23:26:27.992Z"
   },
   {
    "duration": 11,
    "start_time": "2022-04-23T23:26:28.132Z"
   },
   {
    "duration": 23,
    "start_time": "2022-04-23T23:26:28.145Z"
   },
   {
    "duration": 73,
    "start_time": "2022-04-23T23:26:28.170Z"
   },
   {
    "duration": 4,
    "start_time": "2022-04-23T23:26:28.245Z"
   },
   {
    "duration": 12,
    "start_time": "2022-04-23T23:26:28.252Z"
   },
   {
    "duration": 11,
    "start_time": "2022-04-23T23:26:28.266Z"
   },
   {
    "duration": 138,
    "start_time": "2022-04-23T23:26:28.278Z"
   },
   {
    "duration": 234,
    "start_time": "2022-04-23T23:26:28.422Z"
   },
   {
    "duration": 10,
    "start_time": "2022-04-23T23:26:28.658Z"
   },
   {
    "duration": 170,
    "start_time": "2022-04-23T23:26:28.670Z"
   },
   {
    "duration": 180,
    "start_time": "2022-04-23T23:26:28.842Z"
   },
   {
    "duration": 15,
    "start_time": "2022-04-23T23:26:29.024Z"
   },
   {
    "duration": 349,
    "start_time": "2022-04-23T23:26:29.041Z"
   },
   {
    "duration": 218,
    "start_time": "2022-04-23T23:26:29.393Z"
   },
   {
    "duration": 18,
    "start_time": "2022-04-23T23:26:29.613Z"
   },
   {
    "duration": 224,
    "start_time": "2022-04-23T23:26:29.633Z"
   },
   {
    "duration": 146,
    "start_time": "2022-04-23T23:26:29.859Z"
   },
   {
    "duration": 5,
    "start_time": "2022-04-23T23:26:30.006Z"
   },
   {
    "duration": 47,
    "start_time": "2022-04-23T23:26:30.012Z"
   },
   {
    "duration": 13,
    "start_time": "2022-04-23T23:26:30.061Z"
   },
   {
    "duration": 22,
    "start_time": "2022-04-23T23:26:30.075Z"
   },
   {
    "duration": 15,
    "start_time": "2022-04-23T23:26:30.098Z"
   },
   {
    "duration": 6,
    "start_time": "2022-04-23T23:26:30.114Z"
   },
   {
    "duration": 15,
    "start_time": "2022-04-23T23:26:30.121Z"
   },
   {
    "duration": 16,
    "start_time": "2022-04-23T23:26:30.138Z"
   },
   {
    "duration": 9,
    "start_time": "2022-04-23T23:26:30.156Z"
   },
   {
    "duration": 10,
    "start_time": "2022-04-23T23:26:30.166Z"
   },
   {
    "duration": 18,
    "start_time": "2022-04-23T23:26:30.177Z"
   },
   {
    "duration": 16,
    "start_time": "2022-04-23T23:26:30.196Z"
   },
   {
    "duration": 13,
    "start_time": "2022-04-23T23:26:30.214Z"
   },
   {
    "duration": 17,
    "start_time": "2022-04-23T23:26:30.229Z"
   },
   {
    "duration": 16,
    "start_time": "2022-04-23T23:26:30.248Z"
   },
   {
    "duration": 64,
    "start_time": "2022-04-23T23:26:30.265Z"
   },
   {
    "duration": 1352,
    "start_time": "2022-04-23T23:26:30.330Z"
   },
   {
    "duration": 40,
    "start_time": "2022-04-23T23:26:31.684Z"
   },
   {
    "duration": 338,
    "start_time": "2022-04-23T23:26:31.726Z"
   },
   {
    "duration": 587,
    "start_time": "2022-04-23T23:26:32.070Z"
   },
   {
    "duration": 390,
    "start_time": "2022-04-23T23:26:32.659Z"
   },
   {
    "duration": 96,
    "start_time": "2022-04-23T23:26:33.051Z"
   },
   {
    "duration": 16,
    "start_time": "2022-04-23T23:30:28.435Z"
   },
   {
    "duration": 13,
    "start_time": "2022-04-23T23:32:40.042Z"
   },
   {
    "duration": 9,
    "start_time": "2022-04-23T23:32:52.966Z"
   },
   {
    "duration": 52,
    "start_time": "2022-04-23T23:33:10.766Z"
   },
   {
    "duration": 4,
    "start_time": "2022-04-23T23:33:26.047Z"
   },
   {
    "duration": 1651,
    "start_time": "2022-04-23T23:33:44.245Z"
   },
   {
    "duration": 13,
    "start_time": "2022-04-23T23:33:45.898Z"
   },
   {
    "duration": 14,
    "start_time": "2022-04-23T23:33:45.912Z"
   },
   {
    "duration": 20,
    "start_time": "2022-04-23T23:33:45.928Z"
   },
   {
    "duration": 9,
    "start_time": "2022-04-23T23:33:45.950Z"
   },
   {
    "duration": 25,
    "start_time": "2022-04-23T23:33:45.960Z"
   },
   {
    "duration": 49,
    "start_time": "2022-04-23T23:33:45.986Z"
   },
   {
    "duration": 10,
    "start_time": "2022-04-23T23:33:46.040Z"
   },
   {
    "duration": 32,
    "start_time": "2022-04-23T23:33:46.051Z"
   },
   {
    "duration": 11,
    "start_time": "2022-04-23T23:33:46.086Z"
   },
   {
    "duration": 50,
    "start_time": "2022-04-23T23:33:46.098Z"
   },
   {
    "duration": 38,
    "start_time": "2022-04-23T23:33:46.150Z"
   },
   {
    "duration": 33,
    "start_time": "2022-04-23T23:33:46.190Z"
   },
   {
    "duration": 29,
    "start_time": "2022-04-23T23:33:46.227Z"
   },
   {
    "duration": 10,
    "start_time": "2022-04-23T23:33:46.257Z"
   },
   {
    "duration": 466,
    "start_time": "2022-04-23T23:33:46.269Z"
   },
   {
    "duration": 19,
    "start_time": "2022-04-23T23:33:46.737Z"
   },
   {
    "duration": 78,
    "start_time": "2022-04-23T23:33:46.757Z"
   },
   {
    "duration": 35,
    "start_time": "2022-04-23T23:33:46.838Z"
   },
   {
    "duration": 12,
    "start_time": "2022-04-23T23:33:46.874Z"
   },
   {
    "duration": 48,
    "start_time": "2022-04-23T23:33:46.888Z"
   },
   {
    "duration": 26,
    "start_time": "2022-04-23T23:33:46.938Z"
   },
   {
    "duration": 72,
    "start_time": "2022-04-23T23:33:46.966Z"
   },
   {
    "duration": 11,
    "start_time": "2022-04-23T23:33:47.040Z"
   },
   {
    "duration": 70,
    "start_time": "2022-04-23T23:33:47.052Z"
   },
   {
    "duration": 46,
    "start_time": "2022-04-23T23:33:47.124Z"
   },
   {
    "duration": 65,
    "start_time": "2022-04-23T23:33:47.171Z"
   },
   {
    "duration": 34,
    "start_time": "2022-04-23T23:33:47.243Z"
   },
   {
    "duration": 79,
    "start_time": "2022-04-23T23:33:47.279Z"
   },
   {
    "duration": 36,
    "start_time": "2022-04-23T23:33:47.360Z"
   },
   {
    "duration": 53,
    "start_time": "2022-04-23T23:33:47.398Z"
   },
   {
    "duration": 13,
    "start_time": "2022-04-23T23:33:47.453Z"
   },
   {
    "duration": 12,
    "start_time": "2022-04-23T23:33:47.468Z"
   },
   {
    "duration": 14,
    "start_time": "2022-04-23T23:33:47.482Z"
   },
   {
    "duration": 15,
    "start_time": "2022-04-23T23:33:47.524Z"
   },
   {
    "duration": 19,
    "start_time": "2022-04-23T23:33:47.541Z"
   },
   {
    "duration": 18,
    "start_time": "2022-04-23T23:33:47.562Z"
   },
   {
    "duration": 3,
    "start_time": "2022-04-23T23:33:47.582Z"
   },
   {
    "duration": 44,
    "start_time": "2022-04-23T23:33:47.587Z"
   },
   {
    "duration": 10,
    "start_time": "2022-04-23T23:33:47.633Z"
   },
   {
    "duration": 9,
    "start_time": "2022-04-23T23:33:47.644Z"
   },
   {
    "duration": 3,
    "start_time": "2022-04-23T23:33:47.655Z"
   },
   {
    "duration": 6,
    "start_time": "2022-04-23T23:33:47.659Z"
   },
   {
    "duration": 20,
    "start_time": "2022-04-23T23:33:47.666Z"
   },
   {
    "duration": 130,
    "start_time": "2022-04-23T23:33:47.687Z"
   },
   {
    "duration": 10,
    "start_time": "2022-04-23T23:33:47.819Z"
   },
   {
    "duration": 25,
    "start_time": "2022-04-23T23:33:47.831Z"
   },
   {
    "duration": 43,
    "start_time": "2022-04-23T23:33:47.857Z"
   },
   {
    "duration": 24,
    "start_time": "2022-04-23T23:33:47.901Z"
   },
   {
    "duration": 25,
    "start_time": "2022-04-23T23:33:47.926Z"
   },
   {
    "duration": 19,
    "start_time": "2022-04-23T23:33:47.952Z"
   },
   {
    "duration": 120,
    "start_time": "2022-04-23T23:33:47.972Z"
   },
   {
    "duration": 238,
    "start_time": "2022-04-23T23:33:48.094Z"
   },
   {
    "duration": 13,
    "start_time": "2022-04-23T23:33:48.334Z"
   },
   {
    "duration": 226,
    "start_time": "2022-04-23T23:33:48.349Z"
   },
   {
    "duration": 217,
    "start_time": "2022-04-23T23:33:48.577Z"
   },
   {
    "duration": 13,
    "start_time": "2022-04-23T23:33:48.796Z"
   },
   {
    "duration": 231,
    "start_time": "2022-04-23T23:33:48.823Z"
   },
   {
    "duration": 146,
    "start_time": "2022-04-23T23:33:49.056Z"
   },
   {
    "duration": 20,
    "start_time": "2022-04-23T23:33:49.203Z"
   },
   {
    "duration": 166,
    "start_time": "2022-04-23T23:33:49.227Z"
   },
   {
    "duration": 132,
    "start_time": "2022-04-23T23:33:49.394Z"
   },
   {
    "duration": 7,
    "start_time": "2022-04-23T23:33:49.529Z"
   },
   {
    "duration": 21,
    "start_time": "2022-04-23T23:33:49.538Z"
   },
   {
    "duration": 5,
    "start_time": "2022-04-23T23:33:49.561Z"
   },
   {
    "duration": 6,
    "start_time": "2022-04-23T23:33:49.567Z"
   },
   {
    "duration": 5,
    "start_time": "2022-04-23T23:33:49.575Z"
   },
   {
    "duration": 3,
    "start_time": "2022-04-23T23:33:49.581Z"
   },
   {
    "duration": 6,
    "start_time": "2022-04-23T23:33:49.585Z"
   },
   {
    "duration": 42,
    "start_time": "2022-04-23T23:33:49.593Z"
   },
   {
    "duration": 6,
    "start_time": "2022-04-23T23:33:49.637Z"
   },
   {
    "duration": 6,
    "start_time": "2022-04-23T23:33:49.645Z"
   },
   {
    "duration": 11,
    "start_time": "2022-04-23T23:33:49.652Z"
   },
   {
    "duration": 9,
    "start_time": "2022-04-23T23:33:49.665Z"
   },
   {
    "duration": 9,
    "start_time": "2022-04-23T23:33:49.676Z"
   },
   {
    "duration": 6,
    "start_time": "2022-04-23T23:33:49.687Z"
   },
   {
    "duration": 12,
    "start_time": "2022-04-23T23:33:49.694Z"
   },
   {
    "duration": 64,
    "start_time": "2022-04-23T23:33:49.722Z"
   },
   {
    "duration": 2402,
    "start_time": "2022-04-23T23:33:49.787Z"
   },
   {
    "duration": 4,
    "start_time": "2022-04-23T23:33:52.191Z"
   },
   {
    "duration": 186,
    "start_time": "2022-04-23T23:33:52.197Z"
   },
   {
    "duration": 344,
    "start_time": "2022-04-23T23:33:52.388Z"
   },
   {
    "duration": 195,
    "start_time": "2022-04-23T23:33:52.734Z"
   },
   {
    "duration": 42,
    "start_time": "2022-04-23T23:33:52.931Z"
   },
   {
    "duration": 41,
    "start_time": "2022-04-23T23:37:27.649Z"
   },
   {
    "duration": 53,
    "start_time": "2022-04-23T23:37:40.633Z"
   },
   {
    "duration": 27,
    "start_time": "2022-04-23T23:37:57.641Z"
   },
   {
    "duration": 49,
    "start_time": "2022-04-23T23:38:06.247Z"
   },
   {
    "duration": 26,
    "start_time": "2022-04-23T23:38:08.478Z"
   },
   {
    "duration": 32,
    "start_time": "2022-04-23T23:38:27.612Z"
   },
   {
    "duration": 4,
    "start_time": "2022-04-23T23:45:18.452Z"
   },
   {
    "duration": 5,
    "start_time": "2022-04-23T23:45:23.135Z"
   },
   {
    "duration": 4,
    "start_time": "2022-04-23T23:47:46.094Z"
   },
   {
    "duration": 1618,
    "start_time": "2022-04-23T23:48:38.426Z"
   },
   {
    "duration": 13,
    "start_time": "2022-04-23T23:48:40.046Z"
   },
   {
    "duration": 14,
    "start_time": "2022-04-23T23:48:40.061Z"
   },
   {
    "duration": 13,
    "start_time": "2022-04-23T23:48:40.077Z"
   },
   {
    "duration": 8,
    "start_time": "2022-04-23T23:48:40.091Z"
   },
   {
    "duration": 34,
    "start_time": "2022-04-23T23:48:40.123Z"
   },
   {
    "duration": 27,
    "start_time": "2022-04-23T23:48:40.158Z"
   },
   {
    "duration": 7,
    "start_time": "2022-04-23T23:48:40.186Z"
   },
   {
    "duration": 53,
    "start_time": "2022-04-23T23:48:40.195Z"
   },
   {
    "duration": 8,
    "start_time": "2022-04-23T23:48:40.251Z"
   },
   {
    "duration": 25,
    "start_time": "2022-04-23T23:48:40.261Z"
   },
   {
    "duration": 48,
    "start_time": "2022-04-23T23:48:40.287Z"
   },
   {
    "duration": 9,
    "start_time": "2022-04-23T23:48:40.340Z"
   },
   {
    "duration": 24,
    "start_time": "2022-04-23T23:48:40.350Z"
   },
   {
    "duration": 12,
    "start_time": "2022-04-23T23:48:40.376Z"
   },
   {
    "duration": 471,
    "start_time": "2022-04-23T23:48:40.390Z"
   },
   {
    "duration": 15,
    "start_time": "2022-04-23T23:48:40.863Z"
   },
   {
    "duration": 81,
    "start_time": "2022-04-23T23:48:40.879Z"
   },
   {
    "duration": 32,
    "start_time": "2022-04-23T23:48:40.962Z"
   },
   {
    "duration": 34,
    "start_time": "2022-04-23T23:48:40.996Z"
   },
   {
    "duration": 22,
    "start_time": "2022-04-23T23:48:41.031Z"
   },
   {
    "duration": 41,
    "start_time": "2022-04-23T23:48:41.055Z"
   },
   {
    "duration": 66,
    "start_time": "2022-04-23T23:48:41.098Z"
   },
   {
    "duration": 13,
    "start_time": "2022-04-23T23:48:41.166Z"
   },
   {
    "duration": 92,
    "start_time": "2022-04-23T23:48:41.180Z"
   },
   {
    "duration": 53,
    "start_time": "2022-04-23T23:48:41.274Z"
   },
   {
    "duration": 48,
    "start_time": "2022-04-23T23:48:41.328Z"
   },
   {
    "duration": 24,
    "start_time": "2022-04-23T23:48:41.380Z"
   },
   {
    "duration": 68,
    "start_time": "2022-04-23T23:48:41.406Z"
   },
   {
    "duration": 49,
    "start_time": "2022-04-23T23:48:41.476Z"
   },
   {
    "duration": 33,
    "start_time": "2022-04-23T23:48:41.526Z"
   },
   {
    "duration": 10,
    "start_time": "2022-04-23T23:48:41.560Z"
   },
   {
    "duration": 9,
    "start_time": "2022-04-23T23:48:41.572Z"
   },
   {
    "duration": 11,
    "start_time": "2022-04-23T23:48:41.582Z"
   },
   {
    "duration": 12,
    "start_time": "2022-04-23T23:48:41.629Z"
   },
   {
    "duration": 26,
    "start_time": "2022-04-23T23:48:41.643Z"
   },
   {
    "duration": 30,
    "start_time": "2022-04-23T23:48:41.671Z"
   },
   {
    "duration": 21,
    "start_time": "2022-04-23T23:48:41.703Z"
   },
   {
    "duration": 11,
    "start_time": "2022-04-23T23:48:41.730Z"
   },
   {
    "duration": 13,
    "start_time": "2022-04-23T23:48:41.743Z"
   },
   {
    "duration": 14,
    "start_time": "2022-04-23T23:48:41.757Z"
   },
   {
    "duration": 5,
    "start_time": "2022-04-23T23:48:41.772Z"
   },
   {
    "duration": 8,
    "start_time": "2022-04-23T23:48:41.779Z"
   },
   {
    "duration": 55,
    "start_time": "2022-04-23T23:48:41.789Z"
   },
   {
    "duration": 167,
    "start_time": "2022-04-23T23:48:41.846Z"
   },
   {
    "duration": 12,
    "start_time": "2022-04-23T23:48:42.016Z"
   },
   {
    "duration": 31,
    "start_time": "2022-04-23T23:48:42.029Z"
   },
   {
    "duration": 65,
    "start_time": "2022-04-23T23:48:42.062Z"
   },
   {
    "duration": 7,
    "start_time": "2022-04-23T23:48:42.128Z"
   },
   {
    "duration": 15,
    "start_time": "2022-04-23T23:48:42.137Z"
   },
   {
    "duration": 16,
    "start_time": "2022-04-23T23:48:42.154Z"
   },
   {
    "duration": 195,
    "start_time": "2022-04-23T23:48:42.172Z"
   },
   {
    "duration": 365,
    "start_time": "2022-04-23T23:48:42.369Z"
   },
   {
    "duration": 14,
    "start_time": "2022-04-23T23:48:42.736Z"
   },
   {
    "duration": 246,
    "start_time": "2022-04-23T23:48:42.752Z"
   },
   {
    "duration": 224,
    "start_time": "2022-04-23T23:48:43.000Z"
   },
   {
    "duration": 15,
    "start_time": "2022-04-23T23:48:43.226Z"
   },
   {
    "duration": 230,
    "start_time": "2022-04-23T23:48:43.245Z"
   },
   {
    "duration": 167,
    "start_time": "2022-04-23T23:48:43.477Z"
   },
   {
    "duration": 10,
    "start_time": "2022-04-23T23:48:43.646Z"
   },
   {
    "duration": 167,
    "start_time": "2022-04-23T23:48:43.657Z"
   },
   {
    "duration": 169,
    "start_time": "2022-04-23T23:48:43.826Z"
   },
   {
    "duration": 6,
    "start_time": "2022-04-23T23:48:43.996Z"
   },
   {
    "duration": 38,
    "start_time": "2022-04-23T23:48:44.004Z"
   },
   {
    "duration": 7,
    "start_time": "2022-04-23T23:48:44.044Z"
   },
   {
    "duration": 9,
    "start_time": "2022-04-23T23:48:44.053Z"
   },
   {
    "duration": 8,
    "start_time": "2022-04-23T23:48:44.064Z"
   },
   {
    "duration": 3,
    "start_time": "2022-04-23T23:48:44.074Z"
   },
   {
    "duration": 4,
    "start_time": "2022-04-23T23:48:44.079Z"
   },
   {
    "duration": 43,
    "start_time": "2022-04-23T23:48:44.086Z"
   },
   {
    "duration": 8,
    "start_time": "2022-04-23T23:48:44.131Z"
   },
   {
    "duration": 5,
    "start_time": "2022-04-23T23:48:44.142Z"
   },
   {
    "duration": 13,
    "start_time": "2022-04-23T23:48:44.149Z"
   },
   {
    "duration": 8,
    "start_time": "2022-04-23T23:48:44.163Z"
   },
   {
    "duration": 9,
    "start_time": "2022-04-23T23:48:44.172Z"
   },
   {
    "duration": 6,
    "start_time": "2022-04-23T23:48:44.183Z"
   },
   {
    "duration": 12,
    "start_time": "2022-04-23T23:48:44.190Z"
   },
   {
    "duration": 60,
    "start_time": "2022-04-23T23:48:44.222Z"
   },
   {
    "duration": 1656,
    "start_time": "2022-04-23T23:48:44.283Z"
   },
   {
    "duration": 5,
    "start_time": "2022-04-23T23:48:45.941Z"
   },
   {
    "duration": 394,
    "start_time": "2022-04-23T23:48:45.948Z"
   },
   {
    "duration": 712,
    "start_time": "2022-04-23T23:48:46.349Z"
   },
   {
    "duration": 493,
    "start_time": "2022-04-23T23:48:47.063Z"
   },
   {
    "duration": 43,
    "start_time": "2022-04-23T23:48:47.558Z"
   },
   {
    "duration": 1892,
    "start_time": "2022-04-24T20:54:22.407Z"
   },
   {
    "duration": 16,
    "start_time": "2022-04-24T20:54:24.302Z"
   },
   {
    "duration": 17,
    "start_time": "2022-04-24T20:54:24.320Z"
   },
   {
    "duration": 13,
    "start_time": "2022-04-24T20:54:24.340Z"
   },
   {
    "duration": 42,
    "start_time": "2022-04-24T20:54:24.356Z"
   },
   {
    "duration": 32,
    "start_time": "2022-04-24T20:54:24.400Z"
   },
   {
    "duration": 31,
    "start_time": "2022-04-24T20:54:24.434Z"
   },
   {
    "duration": 31,
    "start_time": "2022-04-24T20:54:24.468Z"
   },
   {
    "duration": 23,
    "start_time": "2022-04-24T20:54:24.502Z"
   },
   {
    "duration": 9,
    "start_time": "2022-04-24T20:54:24.529Z"
   },
   {
    "duration": 60,
    "start_time": "2022-04-24T20:54:24.539Z"
   },
   {
    "duration": 25,
    "start_time": "2022-04-24T20:54:24.601Z"
   },
   {
    "duration": 8,
    "start_time": "2022-04-24T20:54:24.628Z"
   },
   {
    "duration": 55,
    "start_time": "2022-04-24T20:54:24.638Z"
   },
   {
    "duration": 12,
    "start_time": "2022-04-24T20:54:24.695Z"
   },
   {
    "duration": 489,
    "start_time": "2022-04-24T20:54:24.709Z"
   },
   {
    "duration": 17,
    "start_time": "2022-04-24T20:54:25.199Z"
   },
   {
    "duration": 91,
    "start_time": "2022-04-24T20:54:25.218Z"
   },
   {
    "duration": 40,
    "start_time": "2022-04-24T20:54:25.310Z"
   },
   {
    "duration": 14,
    "start_time": "2022-04-24T20:54:25.352Z"
   },
   {
    "duration": 39,
    "start_time": "2022-04-24T20:54:25.368Z"
   },
   {
    "duration": 35,
    "start_time": "2022-04-24T20:54:25.408Z"
   },
   {
    "duration": 75,
    "start_time": "2022-04-24T20:54:25.445Z"
   },
   {
    "duration": 14,
    "start_time": "2022-04-24T20:54:25.522Z"
   },
   {
    "duration": 93,
    "start_time": "2022-04-24T20:54:25.537Z"
   },
   {
    "duration": 60,
    "start_time": "2022-04-24T20:54:25.633Z"
   },
   {
    "duration": 51,
    "start_time": "2022-04-24T20:54:25.695Z"
   },
   {
    "duration": 50,
    "start_time": "2022-04-24T20:54:25.750Z"
   },
   {
    "duration": 54,
    "start_time": "2022-04-24T20:54:25.802Z"
   },
   {
    "duration": 52,
    "start_time": "2022-04-24T20:54:25.858Z"
   },
   {
    "duration": 30,
    "start_time": "2022-04-24T20:54:25.912Z"
   },
   {
    "duration": 12,
    "start_time": "2022-04-24T20:54:25.944Z"
   },
   {
    "duration": 36,
    "start_time": "2022-04-24T20:54:25.959Z"
   },
   {
    "duration": 14,
    "start_time": "2022-04-24T20:54:25.997Z"
   },
   {
    "duration": 10,
    "start_time": "2022-04-24T20:54:26.013Z"
   },
   {
    "duration": 22,
    "start_time": "2022-04-24T20:54:26.024Z"
   },
   {
    "duration": 60,
    "start_time": "2022-04-24T20:54:26.048Z"
   },
   {
    "duration": 4,
    "start_time": "2022-04-24T20:54:26.110Z"
   },
   {
    "duration": 13,
    "start_time": "2022-04-24T20:54:26.116Z"
   },
   {
    "duration": 11,
    "start_time": "2022-04-24T20:54:26.131Z"
   },
   {
    "duration": 13,
    "start_time": "2022-04-24T20:54:26.145Z"
   },
   {
    "duration": 33,
    "start_time": "2022-04-24T20:54:26.160Z"
   },
   {
    "duration": 5,
    "start_time": "2022-04-24T20:54:26.195Z"
   },
   {
    "duration": 21,
    "start_time": "2022-04-24T20:54:26.202Z"
   },
   {
    "duration": 150,
    "start_time": "2022-04-24T20:54:26.224Z"
   },
   {
    "duration": 8,
    "start_time": "2022-04-24T20:54:26.376Z"
   },
   {
    "duration": 27,
    "start_time": "2022-04-24T20:54:26.385Z"
   },
   {
    "duration": 49,
    "start_time": "2022-04-24T20:54:26.414Z"
   },
   {
    "duration": 5,
    "start_time": "2022-04-24T20:54:26.464Z"
   },
   {
    "duration": 33,
    "start_time": "2022-04-24T20:54:26.470Z"
   },
   {
    "duration": 13,
    "start_time": "2022-04-24T20:54:26.505Z"
   },
   {
    "duration": 153,
    "start_time": "2022-04-24T20:54:26.520Z"
   },
   {
    "duration": 257,
    "start_time": "2022-04-24T20:54:26.675Z"
   },
   {
    "duration": 11,
    "start_time": "2022-04-24T20:54:26.934Z"
   },
   {
    "duration": 181,
    "start_time": "2022-04-24T20:54:26.947Z"
   },
   {
    "duration": 170,
    "start_time": "2022-04-24T20:54:27.130Z"
   },
   {
    "duration": 11,
    "start_time": "2022-04-24T20:54:27.302Z"
   },
   {
    "duration": 255,
    "start_time": "2022-04-24T20:54:27.315Z"
   },
   {
    "duration": 165,
    "start_time": "2022-04-24T20:54:27.572Z"
   },
   {
    "duration": 13,
    "start_time": "2022-04-24T20:54:27.739Z"
   },
   {
    "duration": 184,
    "start_time": "2022-04-24T20:54:27.754Z"
   },
   {
    "duration": 198,
    "start_time": "2022-04-24T20:54:27.940Z"
   },
   {
    "duration": 5,
    "start_time": "2022-04-24T20:54:28.140Z"
   },
   {
    "duration": 33,
    "start_time": "2022-04-24T20:54:28.147Z"
   },
   {
    "duration": 9,
    "start_time": "2022-04-24T20:54:28.182Z"
   },
   {
    "duration": 9,
    "start_time": "2022-04-24T20:54:28.193Z"
   },
   {
    "duration": 7,
    "start_time": "2022-04-24T20:54:28.204Z"
   },
   {
    "duration": 2,
    "start_time": "2022-04-24T20:54:28.213Z"
   },
   {
    "duration": 7,
    "start_time": "2022-04-24T20:54:28.217Z"
   },
   {
    "duration": 8,
    "start_time": "2022-04-24T20:54:28.226Z"
   },
   {
    "duration": 6,
    "start_time": "2022-04-24T20:54:28.236Z"
   },
   {
    "duration": 16,
    "start_time": "2022-04-24T20:54:28.244Z"
   },
   {
    "duration": 14,
    "start_time": "2022-04-24T20:54:28.262Z"
   },
   {
    "duration": 12,
    "start_time": "2022-04-24T20:54:28.278Z"
   },
   {
    "duration": 8,
    "start_time": "2022-04-24T20:54:28.292Z"
   },
   {
    "duration": 8,
    "start_time": "2022-04-24T20:54:28.302Z"
   },
   {
    "duration": 10,
    "start_time": "2022-04-24T20:54:28.312Z"
   },
   {
    "duration": 69,
    "start_time": "2022-04-24T20:54:28.324Z"
   },
   {
    "duration": 1765,
    "start_time": "2022-04-24T20:54:28.395Z"
   },
   {
    "duration": 5,
    "start_time": "2022-04-24T20:54:30.162Z"
   },
   {
    "duration": 199,
    "start_time": "2022-04-24T20:54:30.168Z"
   },
   {
    "duration": 274,
    "start_time": "2022-04-24T20:54:30.373Z"
   },
   {
    "duration": 187,
    "start_time": "2022-04-24T20:54:30.649Z"
   },
   {
    "duration": 35,
    "start_time": "2022-04-24T20:54:30.839Z"
   },
   {
    "duration": 1678,
    "start_time": "2022-04-24T21:08:44.442Z"
   },
   {
    "duration": 15,
    "start_time": "2022-04-24T21:08:46.123Z"
   },
   {
    "duration": 18,
    "start_time": "2022-04-24T21:08:46.140Z"
   },
   {
    "duration": 15,
    "start_time": "2022-04-24T21:08:46.161Z"
   },
   {
    "duration": 10,
    "start_time": "2022-04-24T21:08:46.193Z"
   },
   {
    "duration": 34,
    "start_time": "2022-04-24T21:08:46.205Z"
   },
   {
    "duration": 59,
    "start_time": "2022-04-24T21:08:46.241Z"
   },
   {
    "duration": 8,
    "start_time": "2022-04-24T21:08:46.302Z"
   },
   {
    "duration": 33,
    "start_time": "2022-04-24T21:08:46.313Z"
   },
   {
    "duration": 9,
    "start_time": "2022-04-24T21:08:46.349Z"
   },
   {
    "duration": 55,
    "start_time": "2022-04-24T21:08:46.359Z"
   },
   {
    "duration": 32,
    "start_time": "2022-04-24T21:08:46.416Z"
   },
   {
    "duration": 13,
    "start_time": "2022-04-24T21:08:46.450Z"
   },
   {
    "duration": 31,
    "start_time": "2022-04-24T21:08:46.493Z"
   },
   {
    "duration": 14,
    "start_time": "2022-04-24T21:08:46.526Z"
   },
   {
    "duration": 561,
    "start_time": "2022-04-24T21:08:46.541Z"
   },
   {
    "duration": 22,
    "start_time": "2022-04-24T21:08:47.103Z"
   },
   {
    "duration": 102,
    "start_time": "2022-04-24T21:08:47.126Z"
   },
   {
    "duration": 46,
    "start_time": "2022-04-24T21:08:47.230Z"
   },
   {
    "duration": 25,
    "start_time": "2022-04-24T21:08:47.278Z"
   },
   {
    "duration": 19,
    "start_time": "2022-04-24T21:08:47.305Z"
   },
   {
    "duration": 38,
    "start_time": "2022-04-24T21:08:47.326Z"
   },
   {
    "duration": 56,
    "start_time": "2022-04-24T21:08:47.394Z"
   },
   {
    "duration": 13,
    "start_time": "2022-04-24T21:08:47.452Z"
   },
   {
    "duration": 103,
    "start_time": "2022-04-24T21:08:47.467Z"
   },
   {
    "duration": 64,
    "start_time": "2022-04-24T21:08:47.573Z"
   },
   {
    "duration": 69,
    "start_time": "2022-04-24T21:08:47.639Z"
   },
   {
    "duration": 31,
    "start_time": "2022-04-24T21:08:47.713Z"
   },
   {
    "duration": 66,
    "start_time": "2022-04-24T21:08:47.746Z"
   },
   {
    "duration": 35,
    "start_time": "2022-04-24T21:08:47.814Z"
   },
   {
    "duration": 59,
    "start_time": "2022-04-24T21:08:47.851Z"
   },
   {
    "duration": 13,
    "start_time": "2022-04-24T21:08:47.912Z"
   },
   {
    "duration": 15,
    "start_time": "2022-04-24T21:08:47.927Z"
   },
   {
    "duration": 27,
    "start_time": "2022-04-24T21:08:47.944Z"
   },
   {
    "duration": 33,
    "start_time": "2022-04-24T21:08:47.973Z"
   },
   {
    "duration": 24,
    "start_time": "2022-04-24T21:08:48.008Z"
   },
   {
    "duration": 29,
    "start_time": "2022-04-24T21:08:48.035Z"
   },
   {
    "duration": 5,
    "start_time": "2022-04-24T21:08:48.066Z"
   },
   {
    "duration": 10,
    "start_time": "2022-04-24T21:08:48.094Z"
   },
   {
    "duration": 18,
    "start_time": "2022-04-24T21:08:48.106Z"
   },
   {
    "duration": 19,
    "start_time": "2022-04-24T21:08:48.127Z"
   },
   {
    "duration": 15,
    "start_time": "2022-04-24T21:08:48.148Z"
   },
   {
    "duration": 14,
    "start_time": "2022-04-24T21:08:48.165Z"
   },
   {
    "duration": 26,
    "start_time": "2022-04-24T21:08:48.182Z"
   },
   {
    "duration": 147,
    "start_time": "2022-04-24T21:08:48.210Z"
   },
   {
    "duration": 8,
    "start_time": "2022-04-24T21:08:48.359Z"
   },
   {
    "duration": 32,
    "start_time": "2022-04-24T21:08:48.369Z"
   },
   {
    "duration": 51,
    "start_time": "2022-04-24T21:08:48.403Z"
   },
   {
    "duration": 5,
    "start_time": "2022-04-24T21:08:48.455Z"
   },
   {
    "duration": 39,
    "start_time": "2022-04-24T21:08:48.462Z"
   },
   {
    "duration": 14,
    "start_time": "2022-04-24T21:08:48.503Z"
   },
   {
    "duration": 153,
    "start_time": "2022-04-24T21:08:48.519Z"
   },
   {
    "duration": 257,
    "start_time": "2022-04-24T21:08:48.674Z"
   },
   {
    "duration": 12,
    "start_time": "2022-04-24T21:08:48.933Z"
   },
   {
    "duration": 185,
    "start_time": "2022-04-24T21:08:48.946Z"
   },
   {
    "duration": 180,
    "start_time": "2022-04-24T21:08:49.133Z"
   },
   {
    "duration": 12,
    "start_time": "2022-04-24T21:08:49.315Z"
   },
   {
    "duration": 274,
    "start_time": "2022-04-24T21:08:49.329Z"
   },
   {
    "duration": 164,
    "start_time": "2022-04-24T21:08:49.605Z"
   },
   {
    "duration": 22,
    "start_time": "2022-04-24T21:08:49.771Z"
   },
   {
    "duration": 167,
    "start_time": "2022-04-24T21:08:49.795Z"
   },
   {
    "duration": 165,
    "start_time": "2022-04-24T21:08:49.964Z"
   },
   {
    "duration": 5,
    "start_time": "2022-04-24T21:08:50.131Z"
   },
   {
    "duration": 27,
    "start_time": "2022-04-24T21:08:50.137Z"
   },
   {
    "duration": 26,
    "start_time": "2022-04-24T21:08:50.167Z"
   },
   {
    "duration": 9,
    "start_time": "2022-04-24T21:08:50.196Z"
   },
   {
    "duration": 10,
    "start_time": "2022-04-24T21:08:50.207Z"
   },
   {
    "duration": 3,
    "start_time": "2022-04-24T21:08:50.220Z"
   },
   {
    "duration": 4,
    "start_time": "2022-04-24T21:08:50.225Z"
   },
   {
    "duration": 12,
    "start_time": "2022-04-24T21:08:50.232Z"
   },
   {
    "duration": 5,
    "start_time": "2022-04-24T21:08:50.246Z"
   },
   {
    "duration": 42,
    "start_time": "2022-04-24T21:08:50.253Z"
   },
   {
    "duration": 8,
    "start_time": "2022-04-24T21:08:50.297Z"
   },
   {
    "duration": 7,
    "start_time": "2022-04-24T21:08:50.306Z"
   },
   {
    "duration": 15,
    "start_time": "2022-04-24T21:08:50.315Z"
   },
   {
    "duration": 7,
    "start_time": "2022-04-24T21:08:50.331Z"
   },
   {
    "duration": 11,
    "start_time": "2022-04-24T21:08:50.339Z"
   },
   {
    "duration": 82,
    "start_time": "2022-04-24T21:08:50.352Z"
   },
   {
    "duration": 1438,
    "start_time": "2022-04-24T21:08:50.436Z"
   },
   {
    "duration": 4,
    "start_time": "2022-04-24T21:08:51.876Z"
   },
   {
    "duration": 191,
    "start_time": "2022-04-24T21:08:51.893Z"
   },
   {
    "duration": 419,
    "start_time": "2022-04-24T21:08:52.092Z"
   },
   {
    "duration": 290,
    "start_time": "2022-04-24T21:08:52.513Z"
   },
   {
    "duration": 44,
    "start_time": "2022-04-24T21:08:52.805Z"
   },
   {
    "duration": 25,
    "start_time": "2022-04-24T21:18:01.824Z"
   },
   {
    "duration": 25,
    "start_time": "2022-04-24T21:18:22.106Z"
   },
   {
    "duration": 143,
    "start_time": "2022-04-24T21:20:03.410Z"
   },
   {
    "duration": 153,
    "start_time": "2022-04-24T21:20:30.277Z"
   },
   {
    "duration": 11,
    "start_time": "2022-04-24T21:21:28.867Z"
   },
   {
    "duration": 11,
    "start_time": "2022-04-24T21:24:53.458Z"
   },
   {
    "duration": 10,
    "start_time": "2022-04-24T21:25:45.693Z"
   },
   {
    "duration": 11,
    "start_time": "2022-04-24T21:31:15.825Z"
   },
   {
    "duration": 3,
    "start_time": "2022-04-24T21:55:01.911Z"
   },
   {
    "duration": 23,
    "start_time": "2022-04-24T21:55:07.020Z"
   },
   {
    "duration": 6,
    "start_time": "2022-04-24T21:55:08.441Z"
   },
   {
    "duration": 7,
    "start_time": "2022-04-24T21:55:09.923Z"
   },
   {
    "duration": 7,
    "start_time": "2022-04-24T21:55:15.952Z"
   },
   {
    "duration": 3,
    "start_time": "2022-04-24T21:55:17.415Z"
   },
   {
    "duration": 3,
    "start_time": "2022-04-24T21:55:18.767Z"
   },
   {
    "duration": 6,
    "start_time": "2022-04-24T21:55:23.039Z"
   },
   {
    "duration": 6,
    "start_time": "2022-04-24T21:55:32.060Z"
   },
   {
    "duration": 6,
    "start_time": "2022-04-24T21:55:34.078Z"
   },
   {
    "duration": 7,
    "start_time": "2022-04-24T21:55:34.881Z"
   },
   {
    "duration": 6,
    "start_time": "2022-04-24T21:55:35.658Z"
   },
   {
    "duration": 7,
    "start_time": "2022-04-24T21:55:37.375Z"
   },
   {
    "duration": 4,
    "start_time": "2022-04-24T21:55:41.354Z"
   },
   {
    "duration": 6,
    "start_time": "2022-04-24T21:55:43.060Z"
   },
   {
    "duration": 1584,
    "start_time": "2022-04-24T21:55:53.799Z"
   },
   {
    "duration": 14,
    "start_time": "2022-04-24T21:55:55.386Z"
   },
   {
    "duration": 15,
    "start_time": "2022-04-24T21:55:55.402Z"
   },
   {
    "duration": 12,
    "start_time": "2022-04-24T21:55:55.419Z"
   },
   {
    "duration": 8,
    "start_time": "2022-04-24T21:55:55.433Z"
   },
   {
    "duration": 59,
    "start_time": "2022-04-24T21:55:55.443Z"
   },
   {
    "duration": 28,
    "start_time": "2022-04-24T21:55:55.504Z"
   },
   {
    "duration": 8,
    "start_time": "2022-04-24T21:55:55.533Z"
   },
   {
    "duration": 21,
    "start_time": "2022-04-24T21:55:55.543Z"
   },
   {
    "duration": 9,
    "start_time": "2022-04-24T21:55:55.592Z"
   },
   {
    "duration": 25,
    "start_time": "2022-04-24T21:55:55.603Z"
   },
   {
    "duration": 24,
    "start_time": "2022-04-24T21:55:55.630Z"
   },
   {
    "duration": 8,
    "start_time": "2022-04-24T21:55:55.656Z"
   },
   {
    "duration": 51,
    "start_time": "2022-04-24T21:55:55.666Z"
   },
   {
    "duration": 12,
    "start_time": "2022-04-24T21:55:55.719Z"
   },
   {
    "duration": 488,
    "start_time": "2022-04-24T21:55:55.732Z"
   },
   {
    "duration": 17,
    "start_time": "2022-04-24T21:55:56.221Z"
   },
   {
    "duration": 82,
    "start_time": "2022-04-24T21:55:56.240Z"
   },
   {
    "duration": 39,
    "start_time": "2022-04-24T21:55:56.323Z"
   },
   {
    "duration": 31,
    "start_time": "2022-04-24T21:55:56.363Z"
   },
   {
    "duration": 21,
    "start_time": "2022-04-24T21:55:56.396Z"
   },
   {
    "duration": 33,
    "start_time": "2022-04-24T21:55:56.418Z"
   },
   {
    "duration": 78,
    "start_time": "2022-04-24T21:55:56.453Z"
   },
   {
    "duration": 13,
    "start_time": "2022-04-24T21:55:56.534Z"
   },
   {
    "duration": 99,
    "start_time": "2022-04-24T21:55:56.548Z"
   },
   {
    "duration": 53,
    "start_time": "2022-04-24T21:55:56.649Z"
   },
   {
    "duration": 50,
    "start_time": "2022-04-24T21:55:56.704Z"
   },
   {
    "duration": 52,
    "start_time": "2022-04-24T21:55:56.760Z"
   },
   {
    "duration": 54,
    "start_time": "2022-04-24T21:55:56.814Z"
   },
   {
    "duration": 49,
    "start_time": "2022-04-24T21:55:56.870Z"
   },
   {
    "duration": 29,
    "start_time": "2022-04-24T21:55:56.921Z"
   },
   {
    "duration": 11,
    "start_time": "2022-04-24T21:55:56.952Z"
   },
   {
    "duration": 38,
    "start_time": "2022-04-24T21:55:56.965Z"
   },
   {
    "duration": 12,
    "start_time": "2022-04-24T21:55:57.005Z"
   },
   {
    "duration": 10,
    "start_time": "2022-04-24T21:55:57.019Z"
   },
   {
    "duration": 27,
    "start_time": "2022-04-24T21:55:57.030Z"
   },
   {
    "duration": 52,
    "start_time": "2022-04-24T21:55:57.059Z"
   },
   {
    "duration": 4,
    "start_time": "2022-04-24T21:55:57.113Z"
   },
   {
    "duration": 10,
    "start_time": "2022-04-24T21:55:57.119Z"
   },
   {
    "duration": 13,
    "start_time": "2022-04-24T21:55:57.131Z"
   },
   {
    "duration": 48,
    "start_time": "2022-04-24T21:55:57.146Z"
   },
   {
    "duration": 5,
    "start_time": "2022-04-24T21:55:57.196Z"
   },
   {
    "duration": 10,
    "start_time": "2022-04-24T21:55:57.203Z"
   },
   {
    "duration": 20,
    "start_time": "2022-04-24T21:55:57.215Z"
   },
   {
    "duration": 148,
    "start_time": "2022-04-24T21:55:57.238Z"
   },
   {
    "duration": 9,
    "start_time": "2022-04-24T21:55:57.388Z"
   },
   {
    "duration": 25,
    "start_time": "2022-04-24T21:55:57.398Z"
   },
   {
    "duration": 69,
    "start_time": "2022-04-24T21:55:57.425Z"
   },
   {
    "duration": 5,
    "start_time": "2022-04-24T21:55:57.496Z"
   },
   {
    "duration": 16,
    "start_time": "2022-04-24T21:55:57.504Z"
   },
   {
    "duration": 15,
    "start_time": "2022-04-24T21:55:57.522Z"
   },
   {
    "duration": 160,
    "start_time": "2022-04-24T21:55:57.539Z"
   },
   {
    "duration": 247,
    "start_time": "2022-04-24T21:55:57.702Z"
   },
   {
    "duration": 12,
    "start_time": "2022-04-24T21:55:57.952Z"
   },
   {
    "duration": 184,
    "start_time": "2022-04-24T21:55:57.966Z"
   },
   {
    "duration": 168,
    "start_time": "2022-04-24T21:55:58.153Z"
   },
   {
    "duration": 13,
    "start_time": "2022-04-24T21:55:58.324Z"
   },
   {
    "duration": 24,
    "start_time": "2022-04-24T21:55:58.339Z"
   },
   {
    "duration": 262,
    "start_time": "2022-04-24T21:55:58.365Z"
   },
   {
    "duration": 165,
    "start_time": "2022-04-24T21:55:58.630Z"
   },
   {
    "duration": 13,
    "start_time": "2022-04-24T21:55:58.797Z"
   },
   {
    "duration": 11,
    "start_time": "2022-04-24T21:55:58.812Z"
   },
   {
    "duration": 185,
    "start_time": "2022-04-24T21:55:58.825Z"
   },
   {
    "duration": 158,
    "start_time": "2022-04-24T21:55:59.013Z"
   },
   {
    "duration": 3,
    "start_time": "2022-04-24T21:55:59.173Z"
   },
   {
    "duration": 33,
    "start_time": "2022-04-24T21:55:59.178Z"
   },
   {
    "duration": 6,
    "start_time": "2022-04-24T21:55:59.213Z"
   },
   {
    "duration": 121,
    "start_time": "2022-04-24T21:55:59.221Z"
   },
   {
    "duration": 0,
    "start_time": "2022-04-24T21:55:59.344Z"
   },
   {
    "duration": 0,
    "start_time": "2022-04-24T21:55:59.345Z"
   },
   {
    "duration": 0,
    "start_time": "2022-04-24T21:55:59.346Z"
   },
   {
    "duration": 0,
    "start_time": "2022-04-24T21:55:59.347Z"
   },
   {
    "duration": 0,
    "start_time": "2022-04-24T21:55:59.348Z"
   },
   {
    "duration": 0,
    "start_time": "2022-04-24T21:55:59.349Z"
   },
   {
    "duration": 0,
    "start_time": "2022-04-24T21:55:59.350Z"
   },
   {
    "duration": 0,
    "start_time": "2022-04-24T21:55:59.352Z"
   },
   {
    "duration": 0,
    "start_time": "2022-04-24T21:55:59.353Z"
   },
   {
    "duration": 0,
    "start_time": "2022-04-24T21:55:59.354Z"
   },
   {
    "duration": 0,
    "start_time": "2022-04-24T21:55:59.355Z"
   },
   {
    "duration": 0,
    "start_time": "2022-04-24T21:55:59.356Z"
   },
   {
    "duration": 0,
    "start_time": "2022-04-24T21:55:59.357Z"
   },
   {
    "duration": 0,
    "start_time": "2022-04-24T21:55:59.358Z"
   },
   {
    "duration": 0,
    "start_time": "2022-04-24T21:55:59.360Z"
   },
   {
    "duration": 0,
    "start_time": "2022-04-24T21:55:59.361Z"
   },
   {
    "duration": 0,
    "start_time": "2022-04-24T21:55:59.392Z"
   },
   {
    "duration": 0,
    "start_time": "2022-04-24T21:55:59.394Z"
   },
   {
    "duration": 3,
    "start_time": "2022-04-24T22:07:41.225Z"
   },
   {
    "duration": 3,
    "start_time": "2022-04-24T22:07:48.283Z"
   },
   {
    "duration": 2,
    "start_time": "2022-04-24T22:08:01.472Z"
   },
   {
    "duration": 4,
    "start_time": "2022-04-24T22:08:02.759Z"
   },
   {
    "duration": 6,
    "start_time": "2022-04-24T22:08:07.264Z"
   },
   {
    "duration": 5,
    "start_time": "2022-04-24T22:08:18.263Z"
   },
   {
    "duration": 5,
    "start_time": "2022-04-24T22:08:23.238Z"
   },
   {
    "duration": 5,
    "start_time": "2022-04-24T22:08:25.337Z"
   },
   {
    "duration": 7,
    "start_time": "2022-04-24T22:08:26.264Z"
   },
   {
    "duration": 3,
    "start_time": "2022-04-24T22:08:30.744Z"
   },
   {
    "duration": 3,
    "start_time": "2022-04-24T22:08:35.045Z"
   },
   {
    "duration": 4,
    "start_time": "2022-04-24T22:08:36.428Z"
   },
   {
    "duration": 6,
    "start_time": "2022-04-24T22:08:40.264Z"
   },
   {
    "duration": 1628,
    "start_time": "2022-04-24T22:10:54.552Z"
   },
   {
    "duration": 16,
    "start_time": "2022-04-24T22:10:56.182Z"
   },
   {
    "duration": 16,
    "start_time": "2022-04-24T22:10:56.200Z"
   },
   {
    "duration": 11,
    "start_time": "2022-04-24T22:10:56.218Z"
   },
   {
    "duration": 9,
    "start_time": "2022-04-24T22:10:56.231Z"
   },
   {
    "duration": 58,
    "start_time": "2022-04-24T22:10:56.242Z"
   },
   {
    "duration": 29,
    "start_time": "2022-04-24T22:10:56.302Z"
   },
   {
    "duration": 7,
    "start_time": "2022-04-24T22:10:56.333Z"
   },
   {
    "duration": 25,
    "start_time": "2022-04-24T22:10:56.342Z"
   },
   {
    "duration": 9,
    "start_time": "2022-04-24T22:10:56.392Z"
   },
   {
    "duration": 27,
    "start_time": "2022-04-24T22:10:56.402Z"
   },
   {
    "duration": 24,
    "start_time": "2022-04-24T22:10:56.430Z"
   },
   {
    "duration": 8,
    "start_time": "2022-04-24T22:10:56.456Z"
   },
   {
    "duration": 26,
    "start_time": "2022-04-24T22:10:56.493Z"
   },
   {
    "duration": 12,
    "start_time": "2022-04-24T22:10:56.521Z"
   },
   {
    "duration": 493,
    "start_time": "2022-04-24T22:10:56.534Z"
   },
   {
    "duration": 17,
    "start_time": "2022-04-24T22:10:57.029Z"
   },
   {
    "duration": 83,
    "start_time": "2022-04-24T22:10:57.047Z"
   },
   {
    "duration": 37,
    "start_time": "2022-04-24T22:10:57.131Z"
   },
   {
    "duration": 30,
    "start_time": "2022-04-24T22:10:57.170Z"
   },
   {
    "duration": 19,
    "start_time": "2022-04-24T22:10:57.201Z"
   },
   {
    "duration": 30,
    "start_time": "2022-04-24T22:10:57.221Z"
   },
   {
    "duration": 76,
    "start_time": "2022-04-24T22:10:57.252Z"
   },
   {
    "duration": 13,
    "start_time": "2022-04-24T22:10:57.330Z"
   },
   {
    "duration": 95,
    "start_time": "2022-04-24T22:10:57.345Z"
   },
   {
    "duration": 59,
    "start_time": "2022-04-24T22:10:57.442Z"
   },
   {
    "duration": 50,
    "start_time": "2022-04-24T22:10:57.504Z"
   },
   {
    "duration": 55,
    "start_time": "2022-04-24T22:10:57.560Z"
   },
   {
    "duration": 53,
    "start_time": "2022-04-24T22:10:57.617Z"
   },
   {
    "duration": 54,
    "start_time": "2022-04-24T22:10:57.672Z"
   },
   {
    "duration": 30,
    "start_time": "2022-04-24T22:10:57.728Z"
   },
   {
    "duration": 37,
    "start_time": "2022-04-24T22:10:57.760Z"
   },
   {
    "duration": 11,
    "start_time": "2022-04-24T22:10:57.798Z"
   },
   {
    "duration": 17,
    "start_time": "2022-04-24T22:10:57.811Z"
   },
   {
    "duration": 11,
    "start_time": "2022-04-24T22:10:57.830Z"
   },
   {
    "duration": 52,
    "start_time": "2022-04-24T22:10:57.843Z"
   },
   {
    "duration": 24,
    "start_time": "2022-04-24T22:10:57.898Z"
   },
   {
    "duration": 5,
    "start_time": "2022-04-24T22:10:57.925Z"
   },
   {
    "duration": 11,
    "start_time": "2022-04-24T22:10:57.931Z"
   },
   {
    "duration": 12,
    "start_time": "2022-04-24T22:10:57.944Z"
   },
   {
    "duration": 14,
    "start_time": "2022-04-24T22:10:57.993Z"
   },
   {
    "duration": 5,
    "start_time": "2022-04-24T22:10:58.009Z"
   },
   {
    "duration": 6,
    "start_time": "2022-04-24T22:10:58.016Z"
   },
   {
    "duration": 19,
    "start_time": "2022-04-24T22:10:58.024Z"
   },
   {
    "duration": 163,
    "start_time": "2022-04-24T22:10:58.045Z"
   },
   {
    "duration": 8,
    "start_time": "2022-04-24T22:10:58.210Z"
   },
   {
    "duration": 24,
    "start_time": "2022-04-24T22:10:58.220Z"
   },
   {
    "duration": 72,
    "start_time": "2022-04-24T22:10:58.246Z"
   },
   {
    "duration": 5,
    "start_time": "2022-04-24T22:10:58.321Z"
   },
   {
    "duration": 15,
    "start_time": "2022-04-24T22:10:58.328Z"
   },
   {
    "duration": 14,
    "start_time": "2022-04-24T22:10:58.345Z"
   },
   {
    "duration": 176,
    "start_time": "2022-04-24T22:10:58.361Z"
   },
   {
    "duration": 248,
    "start_time": "2022-04-24T22:10:58.539Z"
   },
   {
    "duration": 12,
    "start_time": "2022-04-24T22:10:58.793Z"
   },
   {
    "duration": 192,
    "start_time": "2022-04-24T22:10:58.807Z"
   },
   {
    "duration": 170,
    "start_time": "2022-04-24T22:10:59.001Z"
   },
   {
    "duration": 21,
    "start_time": "2022-04-24T22:10:59.173Z"
   },
   {
    "duration": 26,
    "start_time": "2022-04-24T22:10:59.197Z"
   },
   {
    "duration": 252,
    "start_time": "2022-04-24T22:10:59.225Z"
   },
   {
    "duration": 170,
    "start_time": "2022-04-24T22:10:59.479Z"
   },
   {
    "duration": 13,
    "start_time": "2022-04-24T22:10:59.651Z"
   },
   {
    "duration": 28,
    "start_time": "2022-04-24T22:10:59.666Z"
   },
   {
    "duration": 169,
    "start_time": "2022-04-24T22:10:59.696Z"
   },
   {
    "duration": 157,
    "start_time": "2022-04-24T22:10:59.867Z"
   },
   {
    "duration": 3,
    "start_time": "2022-04-24T22:11:00.026Z"
   },
   {
    "duration": 29,
    "start_time": "2022-04-24T22:11:00.030Z"
   },
   {
    "duration": 10,
    "start_time": "2022-04-24T22:11:00.061Z"
   },
   {
    "duration": 20,
    "start_time": "2022-04-24T22:11:00.073Z"
   },
   {
    "duration": 15,
    "start_time": "2022-04-24T22:11:00.095Z"
   },
   {
    "duration": 13,
    "start_time": "2022-04-24T22:11:00.112Z"
   },
   {
    "duration": 6,
    "start_time": "2022-04-24T22:11:00.127Z"
   },
   {
    "duration": 12,
    "start_time": "2022-04-24T22:11:00.135Z"
   },
   {
    "duration": 10,
    "start_time": "2022-04-24T22:11:00.149Z"
   },
   {
    "duration": 14,
    "start_time": "2022-04-24T22:11:00.161Z"
   },
   {
    "duration": 13,
    "start_time": "2022-04-24T22:11:00.176Z"
   },
   {
    "duration": 12,
    "start_time": "2022-04-24T22:11:00.191Z"
   },
   {
    "duration": 15,
    "start_time": "2022-04-24T22:11:00.205Z"
   },
   {
    "duration": 9,
    "start_time": "2022-04-24T22:11:00.222Z"
   },
   {
    "duration": 15,
    "start_time": "2022-04-24T22:11:00.232Z"
   },
   {
    "duration": 69,
    "start_time": "2022-04-24T22:11:00.248Z"
   },
   {
    "duration": 1351,
    "start_time": "2022-04-24T22:11:00.320Z"
   },
   {
    "duration": 17,
    "start_time": "2022-04-24T22:11:01.677Z"
   },
   {
    "duration": 186,
    "start_time": "2022-04-24T22:11:01.696Z"
   },
   {
    "duration": 279,
    "start_time": "2022-04-24T22:11:01.884Z"
   },
   {
    "duration": 180,
    "start_time": "2022-04-24T22:11:02.165Z"
   },
   {
    "duration": 33,
    "start_time": "2022-04-24T22:11:02.346Z"
   },
   {
    "duration": 7,
    "start_time": "2022-04-24T22:17:24.981Z"
   },
   {
    "duration": 176,
    "start_time": "2022-04-24T22:28:20.287Z"
   },
   {
    "duration": 13,
    "start_time": "2022-04-24T22:33:32.298Z"
   },
   {
    "duration": 16,
    "start_time": "2022-04-24T22:35:45.017Z"
   },
   {
    "duration": 14,
    "start_time": "2022-04-24T22:36:50.356Z"
   },
   {
    "duration": 9,
    "start_time": "2022-04-24T22:40:13.009Z"
   },
   {
    "duration": 2272,
    "start_time": "2022-04-24T22:41:40.469Z"
   },
   {
    "duration": 2436,
    "start_time": "2022-04-24T22:42:03.430Z"
   },
   {
    "duration": 11,
    "start_time": "2022-04-24T22:43:40.963Z"
   },
   {
    "duration": 12,
    "start_time": "2022-04-24T22:43:49.707Z"
   },
   {
    "duration": 1531,
    "start_time": "2022-04-24T22:43:58.223Z"
   },
   {
    "duration": 13,
    "start_time": "2022-04-24T22:43:59.756Z"
   },
   {
    "duration": 15,
    "start_time": "2022-04-24T22:43:59.771Z"
   },
   {
    "duration": 13,
    "start_time": "2022-04-24T22:43:59.788Z"
   },
   {
    "duration": 8,
    "start_time": "2022-04-24T22:43:59.803Z"
   },
   {
    "duration": 28,
    "start_time": "2022-04-24T22:43:59.813Z"
   },
   {
    "duration": 56,
    "start_time": "2022-04-24T22:43:59.843Z"
   },
   {
    "duration": 22,
    "start_time": "2022-04-24T22:43:59.900Z"
   },
   {
    "duration": 11,
    "start_time": "2022-04-24T22:43:59.924Z"
   },
   {
    "duration": 20,
    "start_time": "2022-04-24T22:43:59.938Z"
   },
   {
    "duration": 33,
    "start_time": "2022-04-24T22:43:59.960Z"
   },
   {
    "duration": 26,
    "start_time": "2022-04-24T22:43:59.994Z"
   },
   {
    "duration": 24,
    "start_time": "2022-04-24T22:44:00.021Z"
   },
   {
    "duration": 8,
    "start_time": "2022-04-24T22:44:00.046Z"
   },
   {
    "duration": 57,
    "start_time": "2022-04-24T22:44:00.056Z"
   },
   {
    "duration": 11,
    "start_time": "2022-04-24T22:44:00.115Z"
   },
   {
    "duration": 485,
    "start_time": "2022-04-24T22:44:00.128Z"
   },
   {
    "duration": 17,
    "start_time": "2022-04-24T22:44:00.615Z"
   },
   {
    "duration": 79,
    "start_time": "2022-04-24T22:44:00.633Z"
   },
   {
    "duration": 36,
    "start_time": "2022-04-24T22:44:00.713Z"
   },
   {
    "duration": 14,
    "start_time": "2022-04-24T22:44:00.751Z"
   },
   {
    "duration": 34,
    "start_time": "2022-04-24T22:44:00.767Z"
   },
   {
    "duration": 40,
    "start_time": "2022-04-24T22:44:00.803Z"
   },
   {
    "duration": 62,
    "start_time": "2022-04-24T22:44:00.845Z"
   },
   {
    "duration": 12,
    "start_time": "2022-04-24T22:44:00.908Z"
   },
   {
    "duration": 87,
    "start_time": "2022-04-24T22:44:00.922Z"
   },
   {
    "duration": 145,
    "start_time": "2022-04-24T22:44:01.011Z"
   },
   {
    "duration": 0,
    "start_time": "2022-04-24T22:44:01.160Z"
   },
   {
    "duration": 0,
    "start_time": "2022-04-24T22:44:01.161Z"
   },
   {
    "duration": 0,
    "start_time": "2022-04-24T22:44:01.163Z"
   },
   {
    "duration": 0,
    "start_time": "2022-04-24T22:44:01.164Z"
   },
   {
    "duration": 0,
    "start_time": "2022-04-24T22:44:01.165Z"
   },
   {
    "duration": 0,
    "start_time": "2022-04-24T22:44:01.167Z"
   },
   {
    "duration": 0,
    "start_time": "2022-04-24T22:44:01.167Z"
   },
   {
    "duration": 0,
    "start_time": "2022-04-24T22:44:01.169Z"
   },
   {
    "duration": 0,
    "start_time": "2022-04-24T22:44:01.170Z"
   },
   {
    "duration": 0,
    "start_time": "2022-04-24T22:44:01.171Z"
   },
   {
    "duration": 0,
    "start_time": "2022-04-24T22:44:01.172Z"
   },
   {
    "duration": 0,
    "start_time": "2022-04-24T22:44:01.173Z"
   },
   {
    "duration": 0,
    "start_time": "2022-04-24T22:44:01.174Z"
   },
   {
    "duration": 0,
    "start_time": "2022-04-24T22:44:01.175Z"
   },
   {
    "duration": 0,
    "start_time": "2022-04-24T22:44:01.176Z"
   },
   {
    "duration": 0,
    "start_time": "2022-04-24T22:44:01.178Z"
   },
   {
    "duration": 0,
    "start_time": "2022-04-24T22:44:01.179Z"
   },
   {
    "duration": 0,
    "start_time": "2022-04-24T22:44:01.180Z"
   },
   {
    "duration": 0,
    "start_time": "2022-04-24T22:44:01.181Z"
   },
   {
    "duration": 0,
    "start_time": "2022-04-24T22:44:01.182Z"
   },
   {
    "duration": 0,
    "start_time": "2022-04-24T22:44:01.183Z"
   },
   {
    "duration": 0,
    "start_time": "2022-04-24T22:44:01.184Z"
   },
   {
    "duration": 0,
    "start_time": "2022-04-24T22:44:01.186Z"
   },
   {
    "duration": 0,
    "start_time": "2022-04-24T22:44:01.187Z"
   },
   {
    "duration": 0,
    "start_time": "2022-04-24T22:44:01.188Z"
   },
   {
    "duration": 0,
    "start_time": "2022-04-24T22:44:01.189Z"
   },
   {
    "duration": 0,
    "start_time": "2022-04-24T22:44:01.190Z"
   },
   {
    "duration": 0,
    "start_time": "2022-04-24T22:44:01.191Z"
   },
   {
    "duration": 0,
    "start_time": "2022-04-24T22:44:01.193Z"
   },
   {
    "duration": 0,
    "start_time": "2022-04-24T22:44:01.194Z"
   },
   {
    "duration": 0,
    "start_time": "2022-04-24T22:44:01.195Z"
   },
   {
    "duration": 0,
    "start_time": "2022-04-24T22:44:01.196Z"
   },
   {
    "duration": 0,
    "start_time": "2022-04-24T22:44:01.197Z"
   },
   {
    "duration": 0,
    "start_time": "2022-04-24T22:44:01.198Z"
   },
   {
    "duration": 0,
    "start_time": "2022-04-24T22:44:01.199Z"
   },
   {
    "duration": 1,
    "start_time": "2022-04-24T22:44:01.200Z"
   },
   {
    "duration": 0,
    "start_time": "2022-04-24T22:44:01.201Z"
   },
   {
    "duration": 0,
    "start_time": "2022-04-24T22:44:01.202Z"
   },
   {
    "duration": 0,
    "start_time": "2022-04-24T22:44:01.203Z"
   },
   {
    "duration": 0,
    "start_time": "2022-04-24T22:44:01.204Z"
   },
   {
    "duration": 0,
    "start_time": "2022-04-24T22:44:01.206Z"
   },
   {
    "duration": 0,
    "start_time": "2022-04-24T22:44:01.207Z"
   },
   {
    "duration": 0,
    "start_time": "2022-04-24T22:44:01.208Z"
   },
   {
    "duration": 0,
    "start_time": "2022-04-24T22:44:01.209Z"
   },
   {
    "duration": 0,
    "start_time": "2022-04-24T22:44:01.210Z"
   },
   {
    "duration": 0,
    "start_time": "2022-04-24T22:44:01.211Z"
   },
   {
    "duration": 0,
    "start_time": "2022-04-24T22:44:01.213Z"
   },
   {
    "duration": 0,
    "start_time": "2022-04-24T22:44:01.214Z"
   },
   {
    "duration": 0,
    "start_time": "2022-04-24T22:44:01.215Z"
   },
   {
    "duration": 0,
    "start_time": "2022-04-24T22:44:01.216Z"
   },
   {
    "duration": 0,
    "start_time": "2022-04-24T22:44:01.217Z"
   },
   {
    "duration": 0,
    "start_time": "2022-04-24T22:44:01.218Z"
   },
   {
    "duration": 0,
    "start_time": "2022-04-24T22:44:01.219Z"
   },
   {
    "duration": 0,
    "start_time": "2022-04-24T22:44:01.220Z"
   },
   {
    "duration": 0,
    "start_time": "2022-04-24T22:44:01.221Z"
   },
   {
    "duration": 0,
    "start_time": "2022-04-24T22:44:01.222Z"
   },
   {
    "duration": 0,
    "start_time": "2022-04-24T22:44:01.223Z"
   },
   {
    "duration": 0,
    "start_time": "2022-04-24T22:44:01.224Z"
   },
   {
    "duration": 0,
    "start_time": "2022-04-24T22:44:01.225Z"
   },
   {
    "duration": 0,
    "start_time": "2022-04-24T22:44:01.226Z"
   },
   {
    "duration": 0,
    "start_time": "2022-04-24T22:44:01.227Z"
   },
   {
    "duration": 81,
    "start_time": "2022-04-24T22:48:45.762Z"
   },
   {
    "duration": 793,
    "start_time": "2022-04-24T22:50:04.411Z"
   },
   {
    "duration": 1661,
    "start_time": "2022-04-24T22:50:55.492Z"
   },
   {
    "duration": 14,
    "start_time": "2022-04-24T22:50:57.155Z"
   },
   {
    "duration": 15,
    "start_time": "2022-04-24T22:50:57.171Z"
   },
   {
    "duration": 13,
    "start_time": "2022-04-24T22:50:57.188Z"
   },
   {
    "duration": 11,
    "start_time": "2022-04-24T22:50:57.203Z"
   },
   {
    "duration": 30,
    "start_time": "2022-04-24T22:50:57.216Z"
   },
   {
    "duration": 54,
    "start_time": "2022-04-24T22:50:57.249Z"
   },
   {
    "duration": 22,
    "start_time": "2022-04-24T22:50:57.305Z"
   },
   {
    "duration": 8,
    "start_time": "2022-04-24T22:50:57.329Z"
   },
   {
    "duration": 21,
    "start_time": "2022-04-24T22:50:57.340Z"
   },
   {
    "duration": 9,
    "start_time": "2022-04-24T22:50:57.392Z"
   },
   {
    "duration": 26,
    "start_time": "2022-04-24T22:50:57.403Z"
   },
   {
    "duration": 23,
    "start_time": "2022-04-24T22:50:57.431Z"
   },
   {
    "duration": 36,
    "start_time": "2022-04-24T22:50:57.456Z"
   },
   {
    "duration": 26,
    "start_time": "2022-04-24T22:50:57.494Z"
   },
   {
    "duration": 12,
    "start_time": "2022-04-24T22:50:57.522Z"
   },
   {
    "duration": 503,
    "start_time": "2022-04-24T22:50:57.535Z"
   },
   {
    "duration": 17,
    "start_time": "2022-04-24T22:50:58.040Z"
   },
   {
    "duration": 89,
    "start_time": "2022-04-24T22:50:58.059Z"
   },
   {
    "duration": 50,
    "start_time": "2022-04-24T22:50:58.150Z"
   },
   {
    "duration": 13,
    "start_time": "2022-04-24T22:50:58.202Z"
   },
   {
    "duration": 18,
    "start_time": "2022-04-24T22:50:58.217Z"
   },
   {
    "duration": 30,
    "start_time": "2022-04-24T22:50:58.237Z"
   },
   {
    "duration": 53,
    "start_time": "2022-04-24T22:50:58.292Z"
   },
   {
    "duration": 13,
    "start_time": "2022-04-24T22:50:58.346Z"
   },
   {
    "duration": 99,
    "start_time": "2022-04-24T22:50:58.361Z"
   },
   {
    "duration": 54,
    "start_time": "2022-04-24T22:50:58.461Z"
   },
   {
    "duration": 53,
    "start_time": "2022-04-24T22:50:58.520Z"
   },
   {
    "duration": 46,
    "start_time": "2022-04-24T22:50:58.575Z"
   },
   {
    "duration": 75,
    "start_time": "2022-04-24T22:50:58.623Z"
   },
   {
    "duration": 32,
    "start_time": "2022-04-24T22:50:58.700Z"
   },
   {
    "duration": 30,
    "start_time": "2022-04-24T22:50:58.735Z"
   },
   {
    "duration": 38,
    "start_time": "2022-04-24T22:50:58.767Z"
   },
   {
    "duration": 12,
    "start_time": "2022-04-24T22:50:58.806Z"
   },
   {
    "duration": 13,
    "start_time": "2022-04-24T22:50:58.820Z"
   },
   {
    "duration": 10,
    "start_time": "2022-04-24T22:50:58.835Z"
   },
   {
    "duration": 63,
    "start_time": "2022-04-24T22:50:58.846Z"
   },
   {
    "duration": 22,
    "start_time": "2022-04-24T22:50:58.911Z"
   },
   {
    "duration": 5,
    "start_time": "2022-04-24T22:50:58.935Z"
   },
   {
    "duration": 10,
    "start_time": "2022-04-24T22:50:58.942Z"
   },
   {
    "duration": 11,
    "start_time": "2022-04-24T22:50:58.954Z"
   },
   {
    "duration": 12,
    "start_time": "2022-04-24T22:50:58.994Z"
   },
   {
    "duration": 5,
    "start_time": "2022-04-24T22:50:59.007Z"
   },
   {
    "duration": 5,
    "start_time": "2022-04-24T22:50:59.014Z"
   },
   {
    "duration": 19,
    "start_time": "2022-04-24T22:50:59.021Z"
   },
   {
    "duration": 158,
    "start_time": "2022-04-24T22:50:59.042Z"
   },
   {
    "duration": 9,
    "start_time": "2022-04-24T22:50:59.202Z"
   },
   {
    "duration": 23,
    "start_time": "2022-04-24T22:50:59.213Z"
   },
   {
    "duration": 70,
    "start_time": "2022-04-24T22:50:59.238Z"
   },
   {
    "duration": 4,
    "start_time": "2022-04-24T22:50:59.310Z"
   },
   {
    "duration": 17,
    "start_time": "2022-04-24T22:50:59.316Z"
   },
   {
    "duration": 15,
    "start_time": "2022-04-24T22:50:59.335Z"
   },
   {
    "duration": 144,
    "start_time": "2022-04-24T22:50:59.351Z"
   },
   {
    "duration": 248,
    "start_time": "2022-04-24T22:50:59.497Z"
   },
   {
    "duration": 11,
    "start_time": "2022-04-24T22:50:59.747Z"
   },
   {
    "duration": 178,
    "start_time": "2022-04-24T22:50:59.760Z"
   },
   {
    "duration": 167,
    "start_time": "2022-04-24T22:50:59.940Z"
   },
   {
    "duration": 11,
    "start_time": "2022-04-24T22:51:00.109Z"
   },
   {
    "duration": 23,
    "start_time": "2022-04-24T22:51:00.122Z"
   },
   {
    "duration": 259,
    "start_time": "2022-04-24T22:51:00.147Z"
   },
   {
    "duration": 163,
    "start_time": "2022-04-24T22:51:00.408Z"
   },
   {
    "duration": 20,
    "start_time": "2022-04-24T22:51:00.573Z"
   },
   {
    "duration": 10,
    "start_time": "2022-04-24T22:51:00.595Z"
   },
   {
    "duration": 169,
    "start_time": "2022-04-24T22:51:00.607Z"
   },
   {
    "duration": 159,
    "start_time": "2022-04-24T22:51:00.778Z"
   },
   {
    "duration": 3,
    "start_time": "2022-04-24T22:51:00.938Z"
   },
   {
    "duration": 37,
    "start_time": "2022-04-24T22:51:00.943Z"
   },
   {
    "duration": 12,
    "start_time": "2022-04-24T22:51:00.982Z"
   },
   {
    "duration": 4,
    "start_time": "2022-04-24T22:51:00.996Z"
   },
   {
    "duration": 9,
    "start_time": "2022-04-24T22:51:01.002Z"
   },
   {
    "duration": 7,
    "start_time": "2022-04-24T22:51:01.013Z"
   },
   {
    "duration": 8,
    "start_time": "2022-04-24T22:51:01.022Z"
   },
   {
    "duration": 27,
    "start_time": "2022-04-24T22:51:01.032Z"
   },
   {
    "duration": 10,
    "start_time": "2022-04-24T22:51:01.061Z"
   },
   {
    "duration": 11,
    "start_time": "2022-04-24T22:51:01.073Z"
   },
   {
    "duration": 13,
    "start_time": "2022-04-24T22:51:01.086Z"
   },
   {
    "duration": 11,
    "start_time": "2022-04-24T22:51:01.101Z"
   },
   {
    "duration": 13,
    "start_time": "2022-04-24T22:51:01.113Z"
   },
   {
    "duration": 21,
    "start_time": "2022-04-24T22:51:01.128Z"
   },
   {
    "duration": 18,
    "start_time": "2022-04-24T22:51:01.151Z"
   },
   {
    "duration": 67,
    "start_time": "2022-04-24T22:51:01.171Z"
   },
   {
    "duration": 1421,
    "start_time": "2022-04-24T22:51:01.244Z"
   },
   {
    "duration": 4,
    "start_time": "2022-04-24T22:51:02.667Z"
   },
   {
    "duration": 187,
    "start_time": "2022-04-24T22:51:02.672Z"
   },
   {
    "duration": 267,
    "start_time": "2022-04-24T22:51:02.860Z"
   },
   {
    "duration": 177,
    "start_time": "2022-04-24T22:51:03.128Z"
   },
   {
    "duration": 33,
    "start_time": "2022-04-24T22:51:03.307Z"
   },
   {
    "duration": 142,
    "start_time": "2022-04-25T09:05:22.302Z"
   },
   {
    "duration": 1507,
    "start_time": "2022-04-25T09:06:58.839Z"
   },
   {
    "duration": 12,
    "start_time": "2022-04-25T09:07:00.349Z"
   },
   {
    "duration": 26,
    "start_time": "2022-04-25T09:07:00.362Z"
   },
   {
    "duration": 11,
    "start_time": "2022-04-25T09:07:00.390Z"
   },
   {
    "duration": 14,
    "start_time": "2022-04-25T09:07:00.403Z"
   },
   {
    "duration": 40,
    "start_time": "2022-04-25T09:07:00.419Z"
   },
   {
    "duration": 26,
    "start_time": "2022-04-25T09:07:00.461Z"
   },
   {
    "duration": 20,
    "start_time": "2022-04-25T09:07:00.489Z"
   },
   {
    "duration": 15,
    "start_time": "2022-04-25T09:07:00.511Z"
   },
   {
    "duration": 39,
    "start_time": "2022-04-25T09:07:00.529Z"
   },
   {
    "duration": 11,
    "start_time": "2022-04-25T09:07:00.569Z"
   },
   {
    "duration": 28,
    "start_time": "2022-04-25T09:07:00.581Z"
   },
   {
    "duration": 22,
    "start_time": "2022-04-25T09:07:00.611Z"
   },
   {
    "duration": 8,
    "start_time": "2022-04-25T09:07:00.655Z"
   },
   {
    "duration": 28,
    "start_time": "2022-04-25T09:07:00.665Z"
   },
   {
    "duration": 24,
    "start_time": "2022-04-25T09:07:00.695Z"
   },
   {
    "duration": 406,
    "start_time": "2022-04-25T09:07:00.721Z"
   },
   {
    "duration": 29,
    "start_time": "2022-04-25T09:07:01.129Z"
   },
   {
    "duration": 82,
    "start_time": "2022-04-25T09:07:01.160Z"
   },
   {
    "duration": 12,
    "start_time": "2022-04-25T09:07:01.244Z"
   },
   {
    "duration": 59,
    "start_time": "2022-04-25T09:07:01.258Z"
   },
   {
    "duration": 12,
    "start_time": "2022-04-25T09:07:01.319Z"
   },
   {
    "duration": 35,
    "start_time": "2022-04-25T09:07:01.332Z"
   },
   {
    "duration": 46,
    "start_time": "2022-04-25T09:07:01.369Z"
   },
   {
    "duration": 61,
    "start_time": "2022-04-25T09:07:01.416Z"
   },
   {
    "duration": 11,
    "start_time": "2022-04-25T09:07:01.479Z"
   },
   {
    "duration": 84,
    "start_time": "2022-04-25T09:07:01.492Z"
   },
   {
    "duration": 37,
    "start_time": "2022-04-25T09:07:01.580Z"
   },
   {
    "duration": 53,
    "start_time": "2022-04-25T09:07:01.619Z"
   },
   {
    "duration": 76,
    "start_time": "2022-04-25T09:07:01.674Z"
   },
   {
    "duration": 44,
    "start_time": "2022-04-25T09:07:01.751Z"
   },
   {
    "duration": 52,
    "start_time": "2022-04-25T09:07:01.796Z"
   },
   {
    "duration": 37,
    "start_time": "2022-04-25T09:07:01.849Z"
   },
   {
    "duration": 18,
    "start_time": "2022-04-25T09:07:01.887Z"
   },
   {
    "duration": 31,
    "start_time": "2022-04-25T09:07:01.907Z"
   },
   {
    "duration": 56,
    "start_time": "2022-04-25T09:07:01.940Z"
   },
   {
    "duration": 31,
    "start_time": "2022-04-25T09:07:01.998Z"
   },
   {
    "duration": 36,
    "start_time": "2022-04-25T09:07:02.031Z"
   },
   {
    "duration": 25,
    "start_time": "2022-04-25T09:07:02.069Z"
   },
   {
    "duration": 3,
    "start_time": "2022-04-25T09:07:02.096Z"
   },
   {
    "duration": 55,
    "start_time": "2022-04-25T09:07:02.101Z"
   },
   {
    "duration": 11,
    "start_time": "2022-04-25T09:07:02.157Z"
   },
   {
    "duration": 21,
    "start_time": "2022-04-25T09:07:02.170Z"
   },
   {
    "duration": 9,
    "start_time": "2022-04-25T09:07:02.193Z"
   },
   {
    "duration": 10,
    "start_time": "2022-04-25T09:07:02.204Z"
   },
   {
    "duration": 31,
    "start_time": "2022-04-25T09:07:02.216Z"
   },
   {
    "duration": 117,
    "start_time": "2022-04-25T09:07:02.248Z"
   },
   {
    "duration": 7,
    "start_time": "2022-04-25T09:07:02.367Z"
   },
   {
    "duration": 45,
    "start_time": "2022-04-25T09:07:02.375Z"
   },
   {
    "duration": 41,
    "start_time": "2022-04-25T09:07:02.422Z"
   },
   {
    "duration": 4,
    "start_time": "2022-04-25T09:07:02.465Z"
   },
   {
    "duration": 12,
    "start_time": "2022-04-25T09:07:02.470Z"
   },
   {
    "duration": 17,
    "start_time": "2022-04-25T09:07:02.484Z"
   },
   {
    "duration": 121,
    "start_time": "2022-04-25T09:07:02.502Z"
   },
   {
    "duration": 214,
    "start_time": "2022-04-25T09:07:02.624Z"
   },
   {
    "duration": 18,
    "start_time": "2022-04-25T09:07:02.840Z"
   },
   {
    "duration": 148,
    "start_time": "2022-04-25T09:07:02.860Z"
   },
   {
    "duration": 140,
    "start_time": "2022-04-25T09:07:03.010Z"
   },
   {
    "duration": 9,
    "start_time": "2022-04-25T09:07:03.154Z"
   },
   {
    "duration": 20,
    "start_time": "2022-04-25T09:07:03.165Z"
   },
   {
    "duration": 225,
    "start_time": "2022-04-25T09:07:03.186Z"
   },
   {
    "duration": 145,
    "start_time": "2022-04-25T09:07:03.412Z"
   },
   {
    "duration": 10,
    "start_time": "2022-04-25T09:07:03.559Z"
   },
   {
    "duration": 29,
    "start_time": "2022-04-25T09:07:03.571Z"
   },
   {
    "duration": 146,
    "start_time": "2022-04-25T09:07:03.602Z"
   },
   {
    "duration": 150,
    "start_time": "2022-04-25T09:07:03.750Z"
   },
   {
    "duration": 2,
    "start_time": "2022-04-25T09:07:03.902Z"
   },
   {
    "duration": 45,
    "start_time": "2022-04-25T09:07:03.906Z"
   },
   {
    "duration": 21,
    "start_time": "2022-04-25T09:07:03.953Z"
   },
   {
    "duration": 22,
    "start_time": "2022-04-25T09:07:03.976Z"
   },
   {
    "duration": 35,
    "start_time": "2022-04-25T09:07:04.000Z"
   },
   {
    "duration": 19,
    "start_time": "2022-04-25T09:07:04.036Z"
   },
   {
    "duration": 22,
    "start_time": "2022-04-25T09:07:04.057Z"
   },
   {
    "duration": 16,
    "start_time": "2022-04-25T09:07:04.081Z"
   },
   {
    "duration": 22,
    "start_time": "2022-04-25T09:07:04.099Z"
   },
   {
    "duration": 19,
    "start_time": "2022-04-25T09:07:04.122Z"
   },
   {
    "duration": 26,
    "start_time": "2022-04-25T09:07:04.142Z"
   },
   {
    "duration": 12,
    "start_time": "2022-04-25T09:07:04.169Z"
   },
   {
    "duration": 16,
    "start_time": "2022-04-25T09:07:04.184Z"
   },
   {
    "duration": 27,
    "start_time": "2022-04-25T09:07:04.202Z"
   },
   {
    "duration": 17,
    "start_time": "2022-04-25T09:07:04.231Z"
   },
   {
    "duration": 64,
    "start_time": "2022-04-25T09:07:04.254Z"
   },
   {
    "duration": 1369,
    "start_time": "2022-04-25T09:07:04.320Z"
   },
   {
    "duration": 4,
    "start_time": "2022-04-25T09:07:05.691Z"
   },
   {
    "duration": 171,
    "start_time": "2022-04-25T09:07:05.696Z"
   },
   {
    "duration": 254,
    "start_time": "2022-04-25T09:07:05.868Z"
   },
   {
    "duration": 165,
    "start_time": "2022-04-25T09:07:06.123Z"
   },
   {
    "duration": 36,
    "start_time": "2022-04-25T09:07:06.290Z"
   },
   {
    "duration": 140,
    "start_time": "2022-04-25T09:08:46.995Z"
   },
   {
    "duration": 1785,
    "start_time": "2022-04-25T09:10:40.793Z"
   },
   {
    "duration": 13,
    "start_time": "2022-04-25T09:10:42.580Z"
   },
   {
    "duration": 62,
    "start_time": "2022-04-25T09:10:42.594Z"
   },
   {
    "duration": 12,
    "start_time": "2022-04-25T09:10:42.658Z"
   },
   {
    "duration": 33,
    "start_time": "2022-04-25T09:10:42.672Z"
   },
   {
    "duration": 70,
    "start_time": "2022-04-25T09:10:42.707Z"
   },
   {
    "duration": 77,
    "start_time": "2022-04-25T09:10:42.779Z"
   },
   {
    "duration": 22,
    "start_time": "2022-04-25T09:10:42.857Z"
   },
   {
    "duration": 75,
    "start_time": "2022-04-25T09:10:42.880Z"
   },
   {
    "duration": 19,
    "start_time": "2022-04-25T09:10:42.958Z"
   },
   {
    "duration": 8,
    "start_time": "2022-04-25T09:10:42.979Z"
   },
   {
    "duration": 75,
    "start_time": "2022-04-25T09:10:42.988Z"
   },
   {
    "duration": 22,
    "start_time": "2022-04-25T09:10:43.065Z"
   },
   {
    "duration": 7,
    "start_time": "2022-04-25T09:10:43.089Z"
   },
   {
    "duration": 85,
    "start_time": "2022-04-25T09:10:43.097Z"
   },
   {
    "duration": 11,
    "start_time": "2022-04-25T09:10:43.183Z"
   },
   {
    "duration": 916,
    "start_time": "2022-04-25T09:10:43.196Z"
   },
   {
    "duration": 16,
    "start_time": "2022-04-25T09:10:44.114Z"
   },
   {
    "duration": 84,
    "start_time": "2022-04-25T09:10:44.132Z"
   },
   {
    "duration": 13,
    "start_time": "2022-04-25T09:10:44.218Z"
   },
   {
    "duration": 55,
    "start_time": "2022-04-25T09:10:44.233Z"
   },
   {
    "duration": 12,
    "start_time": "2022-04-25T09:10:44.290Z"
   },
   {
    "duration": 18,
    "start_time": "2022-04-25T09:10:44.304Z"
   },
   {
    "duration": 50,
    "start_time": "2022-04-25T09:10:44.324Z"
   },
   {
    "duration": 46,
    "start_time": "2022-04-25T09:10:44.376Z"
   },
   {
    "duration": 31,
    "start_time": "2022-04-25T09:10:44.424Z"
   },
   {
    "duration": 64,
    "start_time": "2022-04-25T09:10:44.457Z"
   },
   {
    "duration": 58,
    "start_time": "2022-04-25T09:10:44.526Z"
   },
   {
    "duration": 44,
    "start_time": "2022-04-25T09:10:44.585Z"
   },
   {
    "duration": 41,
    "start_time": "2022-04-25T09:10:44.631Z"
   },
   {
    "duration": 46,
    "start_time": "2022-04-25T09:10:44.674Z"
   },
   {
    "duration": 49,
    "start_time": "2022-04-25T09:10:44.722Z"
   },
   {
    "duration": 27,
    "start_time": "2022-04-25T09:10:44.772Z"
   },
   {
    "duration": 10,
    "start_time": "2022-04-25T09:10:44.801Z"
   },
   {
    "duration": 9,
    "start_time": "2022-04-25T09:10:44.813Z"
   },
   {
    "duration": 39,
    "start_time": "2022-04-25T09:10:44.824Z"
   },
   {
    "duration": 14,
    "start_time": "2022-04-25T09:10:44.864Z"
   },
   {
    "duration": 23,
    "start_time": "2022-04-25T09:10:44.880Z"
   },
   {
    "duration": 20,
    "start_time": "2022-04-25T09:10:44.904Z"
   },
   {
    "duration": 30,
    "start_time": "2022-04-25T09:10:44.926Z"
   },
   {
    "duration": 9,
    "start_time": "2022-04-25T09:10:44.957Z"
   },
   {
    "duration": 10,
    "start_time": "2022-04-25T09:10:44.967Z"
   },
   {
    "duration": 11,
    "start_time": "2022-04-25T09:10:44.978Z"
   },
   {
    "duration": 4,
    "start_time": "2022-04-25T09:10:44.990Z"
   },
   {
    "duration": 19,
    "start_time": "2022-04-25T09:10:44.995Z"
   },
   {
    "duration": 41,
    "start_time": "2022-04-25T09:10:45.016Z"
   },
   {
    "duration": 122,
    "start_time": "2022-04-25T09:10:45.059Z"
   },
   {
    "duration": 8,
    "start_time": "2022-04-25T09:10:45.183Z"
   },
   {
    "duration": 21,
    "start_time": "2022-04-25T09:10:45.193Z"
   },
   {
    "duration": 61,
    "start_time": "2022-04-25T09:10:45.216Z"
   },
   {
    "duration": 4,
    "start_time": "2022-04-25T09:10:45.279Z"
   },
   {
    "duration": 12,
    "start_time": "2022-04-25T09:10:45.285Z"
   },
   {
    "duration": 12,
    "start_time": "2022-04-25T09:10:45.298Z"
   },
   {
    "duration": 146,
    "start_time": "2022-04-25T09:10:45.312Z"
   },
   {
    "duration": 220,
    "start_time": "2022-04-25T09:10:45.460Z"
   },
   {
    "duration": 10,
    "start_time": "2022-04-25T09:10:45.682Z"
   },
   {
    "duration": 161,
    "start_time": "2022-04-25T09:10:45.693Z"
   },
   {
    "duration": 137,
    "start_time": "2022-04-25T09:10:45.856Z"
   },
   {
    "duration": 9,
    "start_time": "2022-04-25T09:10:45.994Z"
   },
   {
    "duration": 21,
    "start_time": "2022-04-25T09:10:46.005Z"
   },
   {
    "duration": 242,
    "start_time": "2022-04-25T09:10:46.028Z"
   },
   {
    "duration": 149,
    "start_time": "2022-04-25T09:10:46.272Z"
   },
   {
    "duration": 11,
    "start_time": "2022-04-25T09:10:46.423Z"
   },
   {
    "duration": 27,
    "start_time": "2022-04-25T09:10:46.436Z"
   },
   {
    "duration": 152,
    "start_time": "2022-04-25T09:10:46.465Z"
   },
   {
    "duration": 139,
    "start_time": "2022-04-25T09:10:46.619Z"
   },
   {
    "duration": 3,
    "start_time": "2022-04-25T09:10:46.760Z"
   },
   {
    "duration": 29,
    "start_time": "2022-04-25T09:10:46.765Z"
   },
   {
    "duration": 8,
    "start_time": "2022-04-25T09:10:46.796Z"
   },
   {
    "duration": 12,
    "start_time": "2022-04-25T09:10:46.806Z"
   },
   {
    "duration": 21,
    "start_time": "2022-04-25T09:10:46.820Z"
   },
   {
    "duration": 10,
    "start_time": "2022-04-25T09:10:46.843Z"
   },
   {
    "duration": 22,
    "start_time": "2022-04-25T09:10:46.855Z"
   },
   {
    "duration": 42,
    "start_time": "2022-04-25T09:10:46.879Z"
   },
   {
    "duration": 36,
    "start_time": "2022-04-25T09:10:46.923Z"
   },
   {
    "duration": 23,
    "start_time": "2022-04-25T09:10:46.961Z"
   },
   {
    "duration": 23,
    "start_time": "2022-04-25T09:10:46.986Z"
   },
   {
    "duration": 23,
    "start_time": "2022-04-25T09:10:47.010Z"
   },
   {
    "duration": 23,
    "start_time": "2022-04-25T09:10:47.034Z"
   },
   {
    "duration": 21,
    "start_time": "2022-04-25T09:10:47.058Z"
   },
   {
    "duration": 18,
    "start_time": "2022-04-25T09:10:47.081Z"
   },
   {
    "duration": 66,
    "start_time": "2022-04-25T09:10:47.104Z"
   },
   {
    "duration": 1324,
    "start_time": "2022-04-25T09:10:47.172Z"
   },
   {
    "duration": 5,
    "start_time": "2022-04-25T09:10:48.497Z"
   },
   {
    "duration": 177,
    "start_time": "2022-04-25T09:10:48.503Z"
   },
   {
    "duration": 241,
    "start_time": "2022-04-25T09:10:48.682Z"
   },
   {
    "duration": 159,
    "start_time": "2022-04-25T09:10:48.924Z"
   },
   {
    "duration": 29,
    "start_time": "2022-04-25T09:10:49.084Z"
   },
   {
    "duration": 137,
    "start_time": "2022-04-25T09:24:33.057Z"
   },
   {
    "duration": 1638,
    "start_time": "2022-04-25T09:25:33.520Z"
   },
   {
    "duration": 13,
    "start_time": "2022-04-25T09:25:35.160Z"
   },
   {
    "duration": 17,
    "start_time": "2022-04-25T09:25:35.177Z"
   },
   {
    "duration": 13,
    "start_time": "2022-04-25T09:25:35.196Z"
   },
   {
    "duration": 10,
    "start_time": "2022-04-25T09:25:35.211Z"
   },
   {
    "duration": 59,
    "start_time": "2022-04-25T09:25:35.222Z"
   },
   {
    "duration": 28,
    "start_time": "2022-04-25T09:25:35.283Z"
   },
   {
    "duration": 46,
    "start_time": "2022-04-25T09:25:35.313Z"
   },
   {
    "duration": 10,
    "start_time": "2022-04-25T09:25:35.360Z"
   },
   {
    "duration": 22,
    "start_time": "2022-04-25T09:25:35.371Z"
   },
   {
    "duration": 8,
    "start_time": "2022-04-25T09:25:35.395Z"
   },
   {
    "duration": 23,
    "start_time": "2022-04-25T09:25:35.405Z"
   },
   {
    "duration": 23,
    "start_time": "2022-04-25T09:25:35.457Z"
   },
   {
    "duration": 8,
    "start_time": "2022-04-25T09:25:35.482Z"
   },
   {
    "duration": 28,
    "start_time": "2022-04-25T09:25:35.491Z"
   },
   {
    "duration": 39,
    "start_time": "2022-04-25T09:25:35.520Z"
   },
   {
    "duration": 442,
    "start_time": "2022-04-25T09:25:35.561Z"
   },
   {
    "duration": 16,
    "start_time": "2022-04-25T09:25:36.005Z"
   },
   {
    "duration": 80,
    "start_time": "2022-04-25T09:25:36.023Z"
   },
   {
    "duration": 13,
    "start_time": "2022-04-25T09:25:36.105Z"
   },
   {
    "duration": 55,
    "start_time": "2022-04-25T09:25:36.120Z"
   },
   {
    "duration": 12,
    "start_time": "2022-04-25T09:25:36.176Z"
   },
   {
    "duration": 15,
    "start_time": "2022-04-25T09:25:36.190Z"
   },
   {
    "duration": 49,
    "start_time": "2022-04-25T09:25:36.207Z"
   },
   {
    "duration": 51,
    "start_time": "2022-04-25T09:25:36.257Z"
   },
   {
    "duration": 12,
    "start_time": "2022-04-25T09:25:36.310Z"
   },
   {
    "duration": 141,
    "start_time": "2022-04-25T09:25:36.323Z"
   },
   {
    "duration": 59,
    "start_time": "2022-04-25T09:25:36.466Z"
   },
   {
    "duration": 56,
    "start_time": "2022-04-25T09:25:36.527Z"
   },
   {
    "duration": 25,
    "start_time": "2022-04-25T09:25:36.585Z"
   },
   {
    "duration": 61,
    "start_time": "2022-04-25T09:25:36.612Z"
   },
   {
    "duration": 29,
    "start_time": "2022-04-25T09:25:36.675Z"
   },
   {
    "duration": 49,
    "start_time": "2022-04-25T09:25:36.706Z"
   },
   {
    "duration": 10,
    "start_time": "2022-04-25T09:25:36.758Z"
   },
   {
    "duration": 18,
    "start_time": "2022-04-25T09:25:36.770Z"
   },
   {
    "duration": 13,
    "start_time": "2022-04-25T09:25:36.790Z"
   },
   {
    "duration": 12,
    "start_time": "2022-04-25T09:25:36.805Z"
   },
   {
    "duration": 42,
    "start_time": "2022-04-25T09:25:36.819Z"
   },
   {
    "duration": 21,
    "start_time": "2022-04-25T09:25:36.863Z"
   },
   {
    "duration": 4,
    "start_time": "2022-04-25T09:25:36.890Z"
   },
   {
    "duration": 9,
    "start_time": "2022-04-25T09:25:36.896Z"
   },
   {
    "duration": 49,
    "start_time": "2022-04-25T09:25:36.907Z"
   },
   {
    "duration": 12,
    "start_time": "2022-04-25T09:25:36.958Z"
   },
   {
    "duration": 9,
    "start_time": "2022-04-25T09:25:36.972Z"
   },
   {
    "duration": 6,
    "start_time": "2022-04-25T09:25:36.982Z"
   },
   {
    "duration": 17,
    "start_time": "2022-04-25T09:25:36.990Z"
   },
   {
    "duration": 139,
    "start_time": "2022-04-25T09:25:37.009Z"
   },
   {
    "duration": 9,
    "start_time": "2022-04-25T09:25:37.150Z"
   },
   {
    "duration": 22,
    "start_time": "2022-04-25T09:25:37.160Z"
   },
   {
    "duration": 45,
    "start_time": "2022-04-25T09:25:37.184Z"
   },
   {
    "duration": 5,
    "start_time": "2022-04-25T09:25:37.254Z"
   },
   {
    "duration": 20,
    "start_time": "2022-04-25T09:25:37.261Z"
   },
   {
    "duration": 20,
    "start_time": "2022-04-25T09:25:37.283Z"
   },
   {
    "duration": 127,
    "start_time": "2022-04-25T09:25:37.305Z"
   },
   {
    "duration": 229,
    "start_time": "2022-04-25T09:25:37.434Z"
   },
   {
    "duration": 10,
    "start_time": "2022-04-25T09:25:37.665Z"
   },
   {
    "duration": 172,
    "start_time": "2022-04-25T09:25:37.677Z"
   },
   {
    "duration": 144,
    "start_time": "2022-04-25T09:25:37.854Z"
   },
   {
    "duration": 11,
    "start_time": "2022-04-25T09:25:37.999Z"
   },
   {
    "duration": 44,
    "start_time": "2022-04-25T09:25:38.011Z"
   },
   {
    "duration": 215,
    "start_time": "2022-04-25T09:25:38.057Z"
   },
   {
    "duration": 162,
    "start_time": "2022-04-25T09:25:38.274Z"
   },
   {
    "duration": 19,
    "start_time": "2022-04-25T09:25:38.437Z"
   },
   {
    "duration": 11,
    "start_time": "2022-04-25T09:25:38.458Z"
   },
   {
    "duration": 165,
    "start_time": "2022-04-25T09:25:38.471Z"
   },
   {
    "duration": 153,
    "start_time": "2022-04-25T09:25:38.638Z"
   },
   {
    "duration": 3,
    "start_time": "2022-04-25T09:25:38.793Z"
   },
   {
    "duration": 32,
    "start_time": "2022-04-25T09:25:38.798Z"
   },
   {
    "duration": 14,
    "start_time": "2022-04-25T09:25:38.832Z"
   },
   {
    "duration": 32,
    "start_time": "2022-04-25T09:25:38.848Z"
   },
   {
    "duration": 16,
    "start_time": "2022-04-25T09:25:38.882Z"
   },
   {
    "duration": 22,
    "start_time": "2022-04-25T09:25:38.899Z"
   },
   {
    "duration": 25,
    "start_time": "2022-04-25T09:25:38.923Z"
   },
   {
    "duration": 13,
    "start_time": "2022-04-25T09:25:38.950Z"
   },
   {
    "duration": 23,
    "start_time": "2022-04-25T09:25:38.964Z"
   },
   {
    "duration": 11,
    "start_time": "2022-04-25T09:25:38.989Z"
   },
   {
    "duration": 23,
    "start_time": "2022-04-25T09:25:39.002Z"
   },
   {
    "duration": 19,
    "start_time": "2022-04-25T09:25:39.027Z"
   },
   {
    "duration": 17,
    "start_time": "2022-04-25T09:25:39.048Z"
   },
   {
    "duration": 26,
    "start_time": "2022-04-25T09:25:39.066Z"
   },
   {
    "duration": 21,
    "start_time": "2022-04-25T09:25:39.094Z"
   },
   {
    "duration": 68,
    "start_time": "2022-04-25T09:25:39.116Z"
   },
   {
    "duration": 1311,
    "start_time": "2022-04-25T09:25:39.186Z"
   },
   {
    "duration": 4,
    "start_time": "2022-04-25T09:25:40.500Z"
   },
   {
    "duration": 176,
    "start_time": "2022-04-25T09:25:40.506Z"
   },
   {
    "duration": 260,
    "start_time": "2022-04-25T09:25:40.684Z"
   },
   {
    "duration": 170,
    "start_time": "2022-04-25T09:25:40.946Z"
   },
   {
    "duration": 29,
    "start_time": "2022-04-25T09:25:41.118Z"
   },
   {
    "duration": 7,
    "start_time": "2022-04-25T09:26:46.180Z"
   },
   {
    "duration": 50,
    "start_time": "2022-04-25T12:47:34.726Z"
   },
   {
    "duration": 1764,
    "start_time": "2022-04-25T12:47:41.560Z"
   },
   {
    "duration": 14,
    "start_time": "2022-04-25T12:47:43.325Z"
   },
   {
    "duration": 15,
    "start_time": "2022-04-25T12:47:43.340Z"
   },
   {
    "duration": 13,
    "start_time": "2022-04-25T12:47:43.357Z"
   },
   {
    "duration": 26,
    "start_time": "2022-04-25T12:47:43.372Z"
   },
   {
    "duration": 38,
    "start_time": "2022-04-25T12:47:43.400Z"
   },
   {
    "duration": 28,
    "start_time": "2022-04-25T12:47:43.440Z"
   },
   {
    "duration": 36,
    "start_time": "2022-04-25T12:47:43.469Z"
   },
   {
    "duration": 35,
    "start_time": "2022-04-25T12:47:43.507Z"
   },
   {
    "duration": 29,
    "start_time": "2022-04-25T12:47:43.545Z"
   },
   {
    "duration": 16,
    "start_time": "2022-04-25T12:47:43.576Z"
   },
   {
    "duration": 24,
    "start_time": "2022-04-25T12:47:43.593Z"
   },
   {
    "duration": 22,
    "start_time": "2022-04-25T12:47:43.619Z"
   },
   {
    "duration": 8,
    "start_time": "2022-04-25T12:47:43.643Z"
   },
   {
    "duration": 51,
    "start_time": "2022-04-25T12:47:43.653Z"
   },
   {
    "duration": 12,
    "start_time": "2022-04-25T12:47:43.706Z"
   },
   {
    "duration": 464,
    "start_time": "2022-04-25T12:47:43.720Z"
   },
   {
    "duration": 17,
    "start_time": "2022-04-25T12:47:44.193Z"
   },
   {
    "duration": 90,
    "start_time": "2022-04-25T12:47:44.212Z"
   },
   {
    "duration": 14,
    "start_time": "2022-04-25T12:47:44.304Z"
   },
   {
    "duration": 52,
    "start_time": "2022-04-25T12:47:44.320Z"
   },
   {
    "duration": 19,
    "start_time": "2022-04-25T12:47:44.373Z"
   },
   {
    "duration": 33,
    "start_time": "2022-04-25T12:47:44.394Z"
   },
   {
    "duration": 38,
    "start_time": "2022-04-25T12:47:44.429Z"
   },
   {
    "duration": 51,
    "start_time": "2022-04-25T12:47:44.468Z"
   },
   {
    "duration": 12,
    "start_time": "2022-04-25T12:47:44.520Z"
   },
   {
    "duration": 84,
    "start_time": "2022-04-25T12:47:44.534Z"
   },
   {
    "duration": 41,
    "start_time": "2022-04-25T12:47:44.622Z"
   },
   {
    "duration": 63,
    "start_time": "2022-04-25T12:47:44.664Z"
   },
   {
    "duration": 48,
    "start_time": "2022-04-25T12:47:44.728Z"
   },
   {
    "duration": 51,
    "start_time": "2022-04-25T12:47:44.778Z"
   },
   {
    "duration": 30,
    "start_time": "2022-04-25T12:47:44.830Z"
   },
   {
    "duration": 41,
    "start_time": "2022-04-25T12:47:44.862Z"
   },
   {
    "duration": 11,
    "start_time": "2022-04-25T12:47:44.905Z"
   },
   {
    "duration": 26,
    "start_time": "2022-04-25T12:47:44.918Z"
   },
   {
    "duration": 24,
    "start_time": "2022-04-25T12:47:44.946Z"
   },
   {
    "duration": 11,
    "start_time": "2022-04-25T12:47:44.972Z"
   },
   {
    "duration": 23,
    "start_time": "2022-04-25T12:47:44.993Z"
   },
   {
    "duration": 61,
    "start_time": "2022-04-25T12:47:45.018Z"
   },
   {
    "duration": 20,
    "start_time": "2022-04-25T12:47:45.081Z"
   },
   {
    "duration": 20,
    "start_time": "2022-04-25T12:47:45.103Z"
   },
   {
    "duration": 16,
    "start_time": "2022-04-25T12:47:45.124Z"
   },
   {
    "duration": 19,
    "start_time": "2022-04-25T12:47:45.142Z"
   },
   {
    "duration": 5,
    "start_time": "2022-04-25T12:47:45.162Z"
   },
   {
    "duration": 34,
    "start_time": "2022-04-25T12:47:45.169Z"
   },
   {
    "duration": 41,
    "start_time": "2022-04-25T12:47:45.205Z"
   },
   {
    "duration": 138,
    "start_time": "2022-04-25T12:47:45.248Z"
   },
   {
    "duration": 11,
    "start_time": "2022-04-25T12:47:45.388Z"
   },
   {
    "duration": 35,
    "start_time": "2022-04-25T12:47:45.400Z"
   },
   {
    "duration": 50,
    "start_time": "2022-04-25T12:47:45.437Z"
   },
   {
    "duration": 4,
    "start_time": "2022-04-25T12:47:45.492Z"
   },
   {
    "duration": 24,
    "start_time": "2022-04-25T12:47:45.498Z"
   },
   {
    "duration": 29,
    "start_time": "2022-04-25T12:47:45.524Z"
   },
   {
    "duration": 126,
    "start_time": "2022-04-25T12:47:45.555Z"
   },
   {
    "duration": 248,
    "start_time": "2022-04-25T12:47:45.682Z"
   },
   {
    "duration": 10,
    "start_time": "2022-04-25T12:47:45.933Z"
   },
   {
    "duration": 182,
    "start_time": "2022-04-25T12:47:45.945Z"
   },
   {
    "duration": 158,
    "start_time": "2022-04-25T12:47:46.129Z"
   },
   {
    "duration": 10,
    "start_time": "2022-04-25T12:47:46.292Z"
   },
   {
    "duration": 29,
    "start_time": "2022-04-25T12:47:46.304Z"
   },
   {
    "duration": 218,
    "start_time": "2022-04-25T12:47:46.335Z"
   },
   {
    "duration": 160,
    "start_time": "2022-04-25T12:47:46.555Z"
   },
   {
    "duration": 10,
    "start_time": "2022-04-25T12:47:46.717Z"
   },
   {
    "duration": 28,
    "start_time": "2022-04-25T12:47:46.728Z"
   },
   {
    "duration": 157,
    "start_time": "2022-04-25T12:47:46.757Z"
   },
   {
    "duration": 152,
    "start_time": "2022-04-25T12:47:46.916Z"
   },
   {
    "duration": 3,
    "start_time": "2022-04-25T12:47:47.069Z"
   },
   {
    "duration": 30,
    "start_time": "2022-04-25T12:47:47.073Z"
   },
   {
    "duration": 6,
    "start_time": "2022-04-25T12:47:47.106Z"
   },
   {
    "duration": 4,
    "start_time": "2022-04-25T12:47:47.113Z"
   },
   {
    "duration": 6,
    "start_time": "2022-04-25T12:47:47.119Z"
   },
   {
    "duration": 8,
    "start_time": "2022-04-25T12:47:47.126Z"
   },
   {
    "duration": 4,
    "start_time": "2022-04-25T12:47:47.136Z"
   },
   {
    "duration": 10,
    "start_time": "2022-04-25T12:47:47.142Z"
   },
   {
    "duration": 12,
    "start_time": "2022-04-25T12:47:47.154Z"
   },
   {
    "duration": 26,
    "start_time": "2022-04-25T12:47:47.168Z"
   },
   {
    "duration": 8,
    "start_time": "2022-04-25T12:47:47.196Z"
   },
   {
    "duration": 6,
    "start_time": "2022-04-25T12:47:47.206Z"
   },
   {
    "duration": 9,
    "start_time": "2022-04-25T12:47:47.214Z"
   },
   {
    "duration": 9,
    "start_time": "2022-04-25T12:47:47.225Z"
   },
   {
    "duration": 12,
    "start_time": "2022-04-25T12:47:47.236Z"
   },
   {
    "duration": 7,
    "start_time": "2022-04-25T12:47:47.254Z"
   },
   {
    "duration": 77,
    "start_time": "2022-04-25T12:47:47.262Z"
   },
   {
    "duration": 1518,
    "start_time": "2022-04-25T12:47:47.341Z"
   },
   {
    "duration": 5,
    "start_time": "2022-04-25T12:47:48.861Z"
   },
   {
    "duration": 182,
    "start_time": "2022-04-25T12:47:48.868Z"
   },
   {
    "duration": 262,
    "start_time": "2022-04-25T12:47:49.052Z"
   },
   {
    "duration": 174,
    "start_time": "2022-04-25T12:47:49.315Z"
   },
   {
    "duration": 30,
    "start_time": "2022-04-25T12:47:49.493Z"
   },
   {
    "duration": 127,
    "start_time": "2022-04-25T12:51:58.713Z"
   },
   {
    "duration": 23,
    "start_time": "2022-04-25T12:52:08.911Z"
   },
   {
    "duration": 1599,
    "start_time": "2022-04-25T12:52:45.153Z"
   },
   {
    "duration": 13,
    "start_time": "2022-04-25T12:52:46.754Z"
   },
   {
    "duration": 14,
    "start_time": "2022-04-25T12:52:46.769Z"
   },
   {
    "duration": 13,
    "start_time": "2022-04-25T12:52:46.785Z"
   },
   {
    "duration": 9,
    "start_time": "2022-04-25T12:52:46.800Z"
   },
   {
    "duration": 30,
    "start_time": "2022-04-25T12:52:46.811Z"
   },
   {
    "duration": 51,
    "start_time": "2022-04-25T12:52:46.842Z"
   },
   {
    "duration": 23,
    "start_time": "2022-04-25T12:52:46.894Z"
   },
   {
    "duration": 10,
    "start_time": "2022-04-25T12:52:46.919Z"
   },
   {
    "duration": 33,
    "start_time": "2022-04-25T12:52:46.930Z"
   },
   {
    "duration": 8,
    "start_time": "2022-04-25T12:52:46.965Z"
   },
   {
    "duration": 22,
    "start_time": "2022-04-25T12:52:46.993Z"
   },
   {
    "duration": 22,
    "start_time": "2022-04-25T12:52:47.018Z"
   },
   {
    "duration": 8,
    "start_time": "2022-04-25T12:52:47.044Z"
   },
   {
    "duration": 56,
    "start_time": "2022-04-25T12:52:47.054Z"
   },
   {
    "duration": 11,
    "start_time": "2022-04-25T12:52:47.112Z"
   },
   {
    "duration": 490,
    "start_time": "2022-04-25T12:52:47.125Z"
   },
   {
    "duration": 16,
    "start_time": "2022-04-25T12:52:47.617Z"
   },
   {
    "duration": 86,
    "start_time": "2022-04-25T12:52:47.634Z"
   },
   {
    "duration": 15,
    "start_time": "2022-04-25T12:52:47.721Z"
   },
   {
    "duration": 55,
    "start_time": "2022-04-25T12:52:47.738Z"
   },
   {
    "duration": 14,
    "start_time": "2022-04-25T12:52:47.795Z"
   },
   {
    "duration": 18,
    "start_time": "2022-04-25T12:52:47.811Z"
   },
   {
    "duration": 30,
    "start_time": "2022-04-25T12:52:47.832Z"
   },
   {
    "duration": 76,
    "start_time": "2022-04-25T12:52:47.864Z"
   },
   {
    "duration": 13,
    "start_time": "2022-04-25T12:52:47.941Z"
   },
   {
    "duration": 93,
    "start_time": "2022-04-25T12:52:47.956Z"
   },
   {
    "duration": 55,
    "start_time": "2022-04-25T12:52:48.051Z"
   },
   {
    "duration": 47,
    "start_time": "2022-04-25T12:52:48.107Z"
   },
   {
    "duration": 41,
    "start_time": "2022-04-25T12:52:48.156Z"
   },
   {
    "duration": 49,
    "start_time": "2022-04-25T12:52:48.199Z"
   },
   {
    "duration": 57,
    "start_time": "2022-04-25T12:52:48.249Z"
   },
   {
    "duration": 33,
    "start_time": "2022-04-25T12:52:48.308Z"
   },
   {
    "duration": 11,
    "start_time": "2022-04-25T12:52:48.343Z"
   },
   {
    "duration": 39,
    "start_time": "2022-04-25T12:52:48.356Z"
   },
   {
    "duration": 12,
    "start_time": "2022-04-25T12:52:48.397Z"
   },
   {
    "duration": 11,
    "start_time": "2022-04-25T12:52:48.410Z"
   },
   {
    "duration": 21,
    "start_time": "2022-04-25T12:52:48.423Z"
   },
   {
    "duration": 49,
    "start_time": "2022-04-25T12:52:48.446Z"
   },
   {
    "duration": 4,
    "start_time": "2022-04-25T12:52:48.497Z"
   },
   {
    "duration": 8,
    "start_time": "2022-04-25T12:52:48.506Z"
   },
   {
    "duration": 11,
    "start_time": "2022-04-25T12:52:48.516Z"
   },
   {
    "duration": 11,
    "start_time": "2022-04-25T12:52:48.528Z"
   },
   {
    "duration": 4,
    "start_time": "2022-04-25T12:52:48.541Z"
   },
   {
    "duration": 7,
    "start_time": "2022-04-25T12:52:48.546Z"
   },
   {
    "duration": 54,
    "start_time": "2022-04-25T12:52:48.554Z"
   },
   {
    "duration": 136,
    "start_time": "2022-04-25T12:52:48.609Z"
   },
   {
    "duration": 8,
    "start_time": "2022-04-25T12:52:48.747Z"
   },
   {
    "duration": 22,
    "start_time": "2022-04-25T12:52:48.756Z"
   },
   {
    "duration": 57,
    "start_time": "2022-04-25T12:52:48.779Z"
   },
   {
    "duration": 4,
    "start_time": "2022-04-25T12:52:48.838Z"
   },
   {
    "duration": 13,
    "start_time": "2022-04-25T12:52:48.843Z"
   },
   {
    "duration": 38,
    "start_time": "2022-04-25T12:52:48.858Z"
   },
   {
    "duration": 132,
    "start_time": "2022-04-25T12:52:48.897Z"
   },
   {
    "duration": 261,
    "start_time": "2022-04-25T12:52:49.031Z"
   },
   {
    "duration": 11,
    "start_time": "2022-04-25T12:52:49.294Z"
   },
   {
    "duration": 179,
    "start_time": "2022-04-25T12:52:49.307Z"
   },
   {
    "duration": 169,
    "start_time": "2022-04-25T12:52:49.488Z"
   },
   {
    "duration": 11,
    "start_time": "2022-04-25T12:52:49.659Z"
   },
   {
    "duration": 37,
    "start_time": "2022-04-25T12:52:49.672Z"
   },
   {
    "duration": 233,
    "start_time": "2022-04-25T12:52:49.711Z"
   },
   {
    "duration": 167,
    "start_time": "2022-04-25T12:52:49.946Z"
   },
   {
    "duration": 10,
    "start_time": "2022-04-25T12:52:50.115Z"
   },
   {
    "duration": 10,
    "start_time": "2022-04-25T12:52:50.127Z"
   },
   {
    "duration": 177,
    "start_time": "2022-04-25T12:52:50.138Z"
   },
   {
    "duration": 150,
    "start_time": "2022-04-25T12:52:50.317Z"
   },
   {
    "duration": 3,
    "start_time": "2022-04-25T12:52:50.469Z"
   },
   {
    "duration": 33,
    "start_time": "2022-04-25T12:52:50.473Z"
   },
   {
    "duration": 6,
    "start_time": "2022-04-25T12:52:50.508Z"
   },
   {
    "duration": 4,
    "start_time": "2022-04-25T12:52:50.516Z"
   },
   {
    "duration": 5,
    "start_time": "2022-04-25T12:52:50.522Z"
   },
   {
    "duration": 5,
    "start_time": "2022-04-25T12:52:50.528Z"
   },
   {
    "duration": 5,
    "start_time": "2022-04-25T12:52:50.534Z"
   },
   {
    "duration": 10,
    "start_time": "2022-04-25T12:52:50.541Z"
   },
   {
    "duration": 41,
    "start_time": "2022-04-25T12:52:50.553Z"
   },
   {
    "duration": 5,
    "start_time": "2022-04-25T12:52:50.596Z"
   },
   {
    "duration": 8,
    "start_time": "2022-04-25T12:52:50.603Z"
   },
   {
    "duration": 5,
    "start_time": "2022-04-25T12:52:50.613Z"
   },
   {
    "duration": 9,
    "start_time": "2022-04-25T12:52:50.620Z"
   },
   {
    "duration": 7,
    "start_time": "2022-04-25T12:52:50.631Z"
   },
   {
    "duration": 19,
    "start_time": "2022-04-25T12:52:50.640Z"
   },
   {
    "duration": 9,
    "start_time": "2022-04-25T12:52:50.660Z"
   },
   {
    "duration": 67,
    "start_time": "2022-04-25T12:52:50.670Z"
   },
   {
    "duration": 1437,
    "start_time": "2022-04-25T12:52:50.739Z"
   },
   {
    "duration": 6,
    "start_time": "2022-04-25T12:52:52.178Z"
   },
   {
    "duration": 247,
    "start_time": "2022-04-25T12:52:52.185Z"
   },
   {
    "duration": 438,
    "start_time": "2022-04-25T12:52:52.434Z"
   },
   {
    "duration": 184,
    "start_time": "2022-04-25T12:52:52.874Z"
   },
   {
    "duration": 34,
    "start_time": "2022-04-25T12:52:53.060Z"
   },
   {
    "duration": 1607,
    "start_time": "2022-04-25T12:57:35.430Z"
   },
   {
    "duration": 14,
    "start_time": "2022-04-25T12:57:37.039Z"
   },
   {
    "duration": 15,
    "start_time": "2022-04-25T12:57:37.055Z"
   },
   {
    "duration": 28,
    "start_time": "2022-04-25T12:57:37.072Z"
   },
   {
    "duration": 9,
    "start_time": "2022-04-25T12:57:37.102Z"
   },
   {
    "duration": 32,
    "start_time": "2022-04-25T12:57:37.112Z"
   },
   {
    "duration": 50,
    "start_time": "2022-04-25T12:57:37.145Z"
   },
   {
    "duration": 23,
    "start_time": "2022-04-25T12:57:37.197Z"
   },
   {
    "duration": 11,
    "start_time": "2022-04-25T12:57:37.222Z"
   },
   {
    "duration": 22,
    "start_time": "2022-04-25T12:57:37.236Z"
   },
   {
    "duration": 35,
    "start_time": "2022-04-25T12:57:37.259Z"
   },
   {
    "duration": 29,
    "start_time": "2022-04-25T12:57:37.297Z"
   },
   {
    "duration": 22,
    "start_time": "2022-04-25T12:57:37.328Z"
   },
   {
    "duration": 8,
    "start_time": "2022-04-25T12:57:37.352Z"
   },
   {
    "duration": 48,
    "start_time": "2022-04-25T12:57:37.362Z"
   },
   {
    "duration": 11,
    "start_time": "2022-04-25T12:57:37.411Z"
   },
   {
    "duration": 470,
    "start_time": "2022-04-25T12:57:37.424Z"
   },
   {
    "duration": 15,
    "start_time": "2022-04-25T12:57:37.896Z"
   },
   {
    "duration": 63,
    "start_time": "2022-04-25T12:57:37.912Z"
   },
   {
    "duration": 14,
    "start_time": "2022-04-25T12:57:37.992Z"
   },
   {
    "duration": 40,
    "start_time": "2022-04-25T12:57:38.008Z"
   },
   {
    "duration": 13,
    "start_time": "2022-04-25T12:57:38.049Z"
   },
   {
    "duration": 42,
    "start_time": "2022-04-25T12:57:38.064Z"
   },
   {
    "duration": 32,
    "start_time": "2022-04-25T12:57:38.108Z"
   },
   {
    "duration": 63,
    "start_time": "2022-04-25T12:57:38.141Z"
   },
   {
    "duration": 12,
    "start_time": "2022-04-25T12:57:38.206Z"
   },
   {
    "duration": 89,
    "start_time": "2022-04-25T12:57:38.220Z"
   },
   {
    "duration": 42,
    "start_time": "2022-04-25T12:57:38.313Z"
   },
   {
    "duration": 60,
    "start_time": "2022-04-25T12:57:38.356Z"
   },
   {
    "duration": 26,
    "start_time": "2022-04-25T12:57:38.417Z"
   },
   {
    "duration": 70,
    "start_time": "2022-04-25T12:57:38.445Z"
   },
   {
    "duration": 30,
    "start_time": "2022-04-25T12:57:38.517Z"
   },
   {
    "duration": 55,
    "start_time": "2022-04-25T12:57:38.549Z"
   },
   {
    "duration": 12,
    "start_time": "2022-04-25T12:57:38.607Z"
   },
   {
    "duration": 14,
    "start_time": "2022-04-25T12:57:38.621Z"
   },
   {
    "duration": 15,
    "start_time": "2022-04-25T12:57:38.637Z"
   },
   {
    "duration": 40,
    "start_time": "2022-04-25T12:57:38.654Z"
   },
   {
    "duration": 25,
    "start_time": "2022-04-25T12:57:38.696Z"
   },
   {
    "duration": 22,
    "start_time": "2022-04-25T12:57:38.722Z"
   },
   {
    "duration": 4,
    "start_time": "2022-04-25T12:57:38.746Z"
   },
   {
    "duration": 14,
    "start_time": "2022-04-25T12:57:38.751Z"
   },
   {
    "duration": 34,
    "start_time": "2022-04-25T12:57:38.766Z"
   },
   {
    "duration": 12,
    "start_time": "2022-04-25T12:57:38.801Z"
   },
   {
    "duration": 4,
    "start_time": "2022-04-25T12:57:38.814Z"
   },
   {
    "duration": 5,
    "start_time": "2022-04-25T12:57:38.820Z"
   },
   {
    "duration": 18,
    "start_time": "2022-04-25T12:57:38.827Z"
   },
   {
    "duration": 151,
    "start_time": "2022-04-25T12:57:38.847Z"
   },
   {
    "duration": 8,
    "start_time": "2022-04-25T12:57:38.999Z"
   },
   {
    "duration": 26,
    "start_time": "2022-04-25T12:57:39.009Z"
   },
   {
    "duration": 62,
    "start_time": "2022-04-25T12:57:39.037Z"
   },
   {
    "duration": 4,
    "start_time": "2022-04-25T12:57:39.101Z"
   },
   {
    "duration": 14,
    "start_time": "2022-04-25T12:57:39.107Z"
   },
   {
    "duration": 12,
    "start_time": "2022-04-25T12:57:39.123Z"
   },
   {
    "duration": 150,
    "start_time": "2022-04-25T12:57:39.137Z"
   },
   {
    "duration": 240,
    "start_time": "2022-04-25T12:57:39.289Z"
   },
   {
    "duration": 12,
    "start_time": "2022-04-25T12:57:39.530Z"
   },
   {
    "duration": 175,
    "start_time": "2022-04-25T12:57:39.543Z"
   },
   {
    "duration": 164,
    "start_time": "2022-04-25T12:57:39.720Z"
   },
   {
    "duration": 13,
    "start_time": "2022-04-25T12:57:39.886Z"
   },
   {
    "duration": 22,
    "start_time": "2022-04-25T12:57:39.901Z"
   },
   {
    "duration": 257,
    "start_time": "2022-04-25T12:57:39.925Z"
   },
   {
    "duration": 156,
    "start_time": "2022-04-25T12:57:40.184Z"
   },
   {
    "duration": 12,
    "start_time": "2022-04-25T12:57:40.342Z"
   },
   {
    "duration": 11,
    "start_time": "2022-04-25T12:57:40.356Z"
   },
   {
    "duration": 159,
    "start_time": "2022-04-25T12:57:40.393Z"
   },
   {
    "duration": 163,
    "start_time": "2022-04-25T12:57:40.554Z"
   },
   {
    "duration": 3,
    "start_time": "2022-04-25T12:57:40.719Z"
   },
   {
    "duration": 24,
    "start_time": "2022-04-25T12:57:40.724Z"
   },
   {
    "duration": 6,
    "start_time": "2022-04-25T12:57:40.750Z"
   },
   {
    "duration": 5,
    "start_time": "2022-04-25T12:57:40.758Z"
   },
   {
    "duration": 29,
    "start_time": "2022-04-25T12:57:40.765Z"
   },
   {
    "duration": 6,
    "start_time": "2022-04-25T12:57:40.797Z"
   },
   {
    "duration": 6,
    "start_time": "2022-04-25T12:57:40.805Z"
   },
   {
    "duration": 7,
    "start_time": "2022-04-25T12:57:40.813Z"
   },
   {
    "duration": 8,
    "start_time": "2022-04-25T12:57:40.822Z"
   },
   {
    "duration": 11,
    "start_time": "2022-04-25T12:57:40.832Z"
   },
   {
    "duration": 15,
    "start_time": "2022-04-25T12:57:40.844Z"
   },
   {
    "duration": 11,
    "start_time": "2022-04-25T12:57:40.861Z"
   },
   {
    "duration": 11,
    "start_time": "2022-04-25T12:57:40.873Z"
   },
   {
    "duration": 11,
    "start_time": "2022-04-25T12:57:40.885Z"
   },
   {
    "duration": 11,
    "start_time": "2022-04-25T12:57:40.897Z"
   },
   {
    "duration": 6,
    "start_time": "2022-04-25T12:57:40.914Z"
   },
   {
    "duration": 76,
    "start_time": "2022-04-25T12:57:40.922Z"
   },
   {
    "duration": 1363,
    "start_time": "2022-04-25T12:57:41.000Z"
   },
   {
    "duration": 5,
    "start_time": "2022-04-25T12:57:42.364Z"
   },
   {
    "duration": 183,
    "start_time": "2022-04-25T12:57:42.370Z"
   },
   {
    "duration": 260,
    "start_time": "2022-04-25T12:57:42.554Z"
   },
   {
    "duration": 171,
    "start_time": "2022-04-25T12:57:42.816Z"
   },
   {
    "duration": 31,
    "start_time": "2022-04-25T12:57:42.992Z"
   },
   {
    "duration": 1650,
    "start_time": "2022-04-25T12:59:20.863Z"
   },
   {
    "duration": 14,
    "start_time": "2022-04-25T12:59:22.515Z"
   },
   {
    "duration": 15,
    "start_time": "2022-04-25T12:59:22.530Z"
   },
   {
    "duration": 17,
    "start_time": "2022-04-25T12:59:22.547Z"
   },
   {
    "duration": 15,
    "start_time": "2022-04-25T12:59:22.565Z"
   },
   {
    "duration": 36,
    "start_time": "2022-04-25T12:59:22.582Z"
   },
   {
    "duration": 27,
    "start_time": "2022-04-25T12:59:22.620Z"
   },
   {
    "duration": 31,
    "start_time": "2022-04-25T12:59:22.649Z"
   },
   {
    "duration": 21,
    "start_time": "2022-04-25T12:59:22.682Z"
   },
   {
    "duration": 29,
    "start_time": "2022-04-25T12:59:22.707Z"
   },
   {
    "duration": 10,
    "start_time": "2022-04-25T12:59:22.737Z"
   },
   {
    "duration": 31,
    "start_time": "2022-04-25T12:59:22.749Z"
   },
   {
    "duration": 38,
    "start_time": "2022-04-25T12:59:22.782Z"
   },
   {
    "duration": 7,
    "start_time": "2022-04-25T12:59:22.823Z"
   },
   {
    "duration": 26,
    "start_time": "2022-04-25T12:59:22.832Z"
   },
   {
    "duration": 41,
    "start_time": "2022-04-25T12:59:22.860Z"
   },
   {
    "duration": 467,
    "start_time": "2022-04-25T12:59:22.905Z"
   },
   {
    "duration": 29,
    "start_time": "2022-04-25T12:59:23.374Z"
   },
   {
    "duration": 71,
    "start_time": "2022-04-25T12:59:23.405Z"
   },
   {
    "duration": 26,
    "start_time": "2022-04-25T12:59:23.477Z"
   },
   {
    "duration": 35,
    "start_time": "2022-04-25T12:59:23.505Z"
   },
   {
    "duration": 13,
    "start_time": "2022-04-25T12:59:23.541Z"
   },
   {
    "duration": 45,
    "start_time": "2022-04-25T12:59:23.555Z"
   },
   {
    "duration": 31,
    "start_time": "2022-04-25T12:59:23.602Z"
   },
   {
    "duration": 69,
    "start_time": "2022-04-25T12:59:23.635Z"
   },
   {
    "duration": 12,
    "start_time": "2022-04-25T12:59:23.707Z"
   },
   {
    "duration": 89,
    "start_time": "2022-04-25T12:59:23.721Z"
   },
   {
    "duration": 43,
    "start_time": "2022-04-25T12:59:23.814Z"
   },
   {
    "duration": 66,
    "start_time": "2022-04-25T12:59:23.858Z"
   },
   {
    "duration": 28,
    "start_time": "2022-04-25T12:59:23.926Z"
   },
   {
    "duration": 67,
    "start_time": "2022-04-25T12:59:23.956Z"
   },
   {
    "duration": 34,
    "start_time": "2022-04-25T12:59:24.025Z"
   },
   {
    "duration": 51,
    "start_time": "2022-04-25T12:59:24.060Z"
   },
   {
    "duration": 11,
    "start_time": "2022-04-25T12:59:24.112Z"
   },
   {
    "duration": 17,
    "start_time": "2022-04-25T12:59:24.125Z"
   },
   {
    "duration": 15,
    "start_time": "2022-04-25T12:59:24.144Z"
   },
   {
    "duration": 39,
    "start_time": "2022-04-25T12:59:24.161Z"
   },
   {
    "duration": 28,
    "start_time": "2022-04-25T12:59:24.202Z"
   },
   {
    "duration": 21,
    "start_time": "2022-04-25T12:59:24.232Z"
   },
   {
    "duration": 4,
    "start_time": "2022-04-25T12:59:24.255Z"
   },
   {
    "duration": 9,
    "start_time": "2022-04-25T12:59:24.260Z"
   },
   {
    "duration": 34,
    "start_time": "2022-04-25T12:59:24.271Z"
   },
   {
    "duration": 13,
    "start_time": "2022-04-25T12:59:24.306Z"
   },
   {
    "duration": 4,
    "start_time": "2022-04-25T12:59:24.321Z"
   },
   {
    "duration": 7,
    "start_time": "2022-04-25T12:59:24.327Z"
   },
   {
    "duration": 17,
    "start_time": "2022-04-25T12:59:24.336Z"
   },
   {
    "duration": 163,
    "start_time": "2022-04-25T12:59:24.355Z"
   },
   {
    "duration": 8,
    "start_time": "2022-04-25T12:59:24.520Z"
   },
   {
    "duration": 22,
    "start_time": "2022-04-25T12:59:24.529Z"
   },
   {
    "duration": 74,
    "start_time": "2022-04-25T12:59:24.553Z"
   },
   {
    "duration": 4,
    "start_time": "2022-04-25T12:59:24.629Z"
   },
   {
    "duration": 14,
    "start_time": "2022-04-25T12:59:24.635Z"
   },
   {
    "duration": 13,
    "start_time": "2022-04-25T12:59:24.650Z"
   },
   {
    "duration": 161,
    "start_time": "2022-04-25T12:59:24.665Z"
   },
   {
    "duration": 253,
    "start_time": "2022-04-25T12:59:24.828Z"
   },
   {
    "duration": 18,
    "start_time": "2022-04-25T12:59:25.082Z"
   },
   {
    "duration": 180,
    "start_time": "2022-04-25T12:59:25.102Z"
   },
   {
    "duration": 158,
    "start_time": "2022-04-25T12:59:25.285Z"
   },
   {
    "duration": 10,
    "start_time": "2022-04-25T12:59:25.445Z"
   },
   {
    "duration": 42,
    "start_time": "2022-04-25T12:59:25.457Z"
   },
   {
    "duration": 240,
    "start_time": "2022-04-25T12:59:25.501Z"
   },
   {
    "duration": 170,
    "start_time": "2022-04-25T12:59:25.743Z"
   },
   {
    "duration": 13,
    "start_time": "2022-04-25T12:59:25.915Z"
   },
   {
    "duration": 11,
    "start_time": "2022-04-25T12:59:25.930Z"
   },
   {
    "duration": 192,
    "start_time": "2022-04-25T12:59:25.943Z"
   },
   {
    "duration": 149,
    "start_time": "2022-04-25T12:59:26.137Z"
   },
   {
    "duration": 8,
    "start_time": "2022-04-25T12:59:26.292Z"
   },
   {
    "duration": 44,
    "start_time": "2022-04-25T12:59:26.302Z"
   },
   {
    "duration": 11,
    "start_time": "2022-04-25T12:59:26.348Z"
   },
   {
    "duration": 5,
    "start_time": "2022-04-25T12:59:26.361Z"
   },
   {
    "duration": 7,
    "start_time": "2022-04-25T12:59:26.368Z"
   },
   {
    "duration": 13,
    "start_time": "2022-04-25T12:59:26.377Z"
   },
   {
    "duration": 17,
    "start_time": "2022-04-25T12:59:26.392Z"
   },
   {
    "duration": 9,
    "start_time": "2022-04-25T12:59:26.411Z"
   },
   {
    "duration": 8,
    "start_time": "2022-04-25T12:59:26.422Z"
   },
   {
    "duration": 11,
    "start_time": "2022-04-25T12:59:26.432Z"
   },
   {
    "duration": 14,
    "start_time": "2022-04-25T12:59:26.445Z"
   },
   {
    "duration": 5,
    "start_time": "2022-04-25T12:59:26.461Z"
   },
   {
    "duration": 11,
    "start_time": "2022-04-25T12:59:26.469Z"
   },
   {
    "duration": 12,
    "start_time": "2022-04-25T12:59:26.481Z"
   },
   {
    "duration": 24,
    "start_time": "2022-04-25T12:59:26.495Z"
   },
   {
    "duration": 11,
    "start_time": "2022-04-25T12:59:26.525Z"
   },
   {
    "duration": 74,
    "start_time": "2022-04-25T12:59:26.537Z"
   },
   {
    "duration": 1496,
    "start_time": "2022-04-25T12:59:26.613Z"
   },
   {
    "duration": 4,
    "start_time": "2022-04-25T12:59:28.111Z"
   },
   {
    "duration": 196,
    "start_time": "2022-04-25T12:59:28.117Z"
   },
   {
    "duration": 267,
    "start_time": "2022-04-25T12:59:28.315Z"
   },
   {
    "duration": 184,
    "start_time": "2022-04-25T12:59:28.584Z"
   },
   {
    "duration": 36,
    "start_time": "2022-04-25T12:59:28.770Z"
   },
   {
    "duration": 45,
    "start_time": "2022-04-25T13:00:32.436Z"
   },
   {
    "duration": 137,
    "start_time": "2022-04-25T13:00:50.329Z"
   },
   {
    "duration": 45,
    "start_time": "2022-04-25T13:00:57.743Z"
   },
   {
    "duration": 56,
    "start_time": "2022-04-25T13:01:15.786Z"
   },
   {
    "duration": 46,
    "start_time": "2022-04-25T13:01:33.912Z"
   },
   {
    "duration": 23,
    "start_time": "2022-04-25T13:02:35.405Z"
   },
   {
    "duration": 14,
    "start_time": "2022-04-25T13:02:44.807Z"
   },
   {
    "duration": 13,
    "start_time": "2022-04-25T13:03:00.990Z"
   },
   {
    "duration": 1637,
    "start_time": "2022-04-25T13:03:10.719Z"
   },
   {
    "duration": 14,
    "start_time": "2022-04-25T13:03:12.359Z"
   },
   {
    "duration": 25,
    "start_time": "2022-04-25T13:03:12.375Z"
   },
   {
    "duration": 20,
    "start_time": "2022-04-25T13:03:12.402Z"
   },
   {
    "duration": 12,
    "start_time": "2022-04-25T13:03:12.424Z"
   },
   {
    "duration": 36,
    "start_time": "2022-04-25T13:03:12.438Z"
   },
   {
    "duration": 41,
    "start_time": "2022-04-25T13:03:12.476Z"
   },
   {
    "duration": 23,
    "start_time": "2022-04-25T13:03:12.518Z"
   },
   {
    "duration": 27,
    "start_time": "2022-04-25T13:03:12.542Z"
   },
   {
    "duration": 30,
    "start_time": "2022-04-25T13:03:12.571Z"
   },
   {
    "duration": 10,
    "start_time": "2022-04-25T13:03:12.603Z"
   },
   {
    "duration": 34,
    "start_time": "2022-04-25T13:03:12.615Z"
   },
   {
    "duration": 25,
    "start_time": "2022-04-25T13:03:12.651Z"
   },
   {
    "duration": 9,
    "start_time": "2022-04-25T13:03:12.697Z"
   },
   {
    "duration": 28,
    "start_time": "2022-04-25T13:03:12.708Z"
   },
   {
    "duration": 12,
    "start_time": "2022-04-25T13:03:12.738Z"
   },
   {
    "duration": 488,
    "start_time": "2022-04-25T13:03:12.751Z"
   },
   {
    "duration": 16,
    "start_time": "2022-04-25T13:03:13.241Z"
   },
   {
    "duration": 83,
    "start_time": "2022-04-25T13:03:13.259Z"
   },
   {
    "duration": 13,
    "start_time": "2022-04-25T13:03:13.344Z"
   },
   {
    "duration": 53,
    "start_time": "2022-04-25T13:03:13.358Z"
   },
   {
    "duration": 12,
    "start_time": "2022-04-25T13:03:13.413Z"
   },
   {
    "duration": 21,
    "start_time": "2022-04-25T13:03:13.426Z"
   },
   {
    "duration": 49,
    "start_time": "2022-04-25T13:03:13.449Z"
   },
   {
    "duration": 55,
    "start_time": "2022-04-25T13:03:13.500Z"
   },
   {
    "duration": 16,
    "start_time": "2022-04-25T13:03:13.557Z"
   },
   {
    "duration": 82,
    "start_time": "2022-04-25T13:03:13.594Z"
   },
   {
    "duration": 55,
    "start_time": "2022-04-25T13:03:13.678Z"
   },
   {
    "duration": 60,
    "start_time": "2022-04-25T13:03:13.734Z"
   },
   {
    "duration": 29,
    "start_time": "2022-04-25T13:03:13.795Z"
   },
   {
    "duration": 48,
    "start_time": "2022-04-25T13:03:13.826Z"
   },
   {
    "duration": 52,
    "start_time": "2022-04-25T13:03:13.876Z"
   },
   {
    "duration": 103,
    "start_time": "2022-04-25T13:03:13.929Z"
   },
   {
    "duration": 0,
    "start_time": "2022-04-25T13:03:14.035Z"
   },
   {
    "duration": 0,
    "start_time": "2022-04-25T13:03:14.036Z"
   },
   {
    "duration": 0,
    "start_time": "2022-04-25T13:03:14.037Z"
   },
   {
    "duration": 0,
    "start_time": "2022-04-25T13:03:14.038Z"
   },
   {
    "duration": 0,
    "start_time": "2022-04-25T13:03:14.039Z"
   },
   {
    "duration": 0,
    "start_time": "2022-04-25T13:03:14.040Z"
   },
   {
    "duration": 0,
    "start_time": "2022-04-25T13:03:14.042Z"
   },
   {
    "duration": 0,
    "start_time": "2022-04-25T13:03:14.043Z"
   },
   {
    "duration": 0,
    "start_time": "2022-04-25T13:03:14.044Z"
   },
   {
    "duration": 0,
    "start_time": "2022-04-25T13:03:14.045Z"
   },
   {
    "duration": 0,
    "start_time": "2022-04-25T13:03:14.046Z"
   },
   {
    "duration": 0,
    "start_time": "2022-04-25T13:03:14.047Z"
   },
   {
    "duration": 0,
    "start_time": "2022-04-25T13:03:14.048Z"
   },
   {
    "duration": 0,
    "start_time": "2022-04-25T13:03:14.049Z"
   },
   {
    "duration": 0,
    "start_time": "2022-04-25T13:03:14.050Z"
   },
   {
    "duration": 0,
    "start_time": "2022-04-25T13:03:14.052Z"
   },
   {
    "duration": 0,
    "start_time": "2022-04-25T13:03:14.053Z"
   },
   {
    "duration": 0,
    "start_time": "2022-04-25T13:03:14.054Z"
   },
   {
    "duration": 0,
    "start_time": "2022-04-25T13:03:14.055Z"
   },
   {
    "duration": 0,
    "start_time": "2022-04-25T13:03:14.056Z"
   },
   {
    "duration": 0,
    "start_time": "2022-04-25T13:03:14.093Z"
   },
   {
    "duration": 0,
    "start_time": "2022-04-25T13:03:14.094Z"
   },
   {
    "duration": 0,
    "start_time": "2022-04-25T13:03:14.095Z"
   },
   {
    "duration": 0,
    "start_time": "2022-04-25T13:03:14.096Z"
   },
   {
    "duration": 0,
    "start_time": "2022-04-25T13:03:14.097Z"
   },
   {
    "duration": 0,
    "start_time": "2022-04-25T13:03:14.099Z"
   },
   {
    "duration": 0,
    "start_time": "2022-04-25T13:03:14.100Z"
   },
   {
    "duration": 0,
    "start_time": "2022-04-25T13:03:14.101Z"
   },
   {
    "duration": 0,
    "start_time": "2022-04-25T13:03:14.102Z"
   },
   {
    "duration": 0,
    "start_time": "2022-04-25T13:03:14.103Z"
   },
   {
    "duration": 0,
    "start_time": "2022-04-25T13:03:14.104Z"
   },
   {
    "duration": 0,
    "start_time": "2022-04-25T13:03:14.106Z"
   },
   {
    "duration": 0,
    "start_time": "2022-04-25T13:03:14.107Z"
   },
   {
    "duration": 0,
    "start_time": "2022-04-25T13:03:14.108Z"
   },
   {
    "duration": 0,
    "start_time": "2022-04-25T13:03:14.109Z"
   },
   {
    "duration": 0,
    "start_time": "2022-04-25T13:03:14.110Z"
   },
   {
    "duration": 0,
    "start_time": "2022-04-25T13:03:14.111Z"
   },
   {
    "duration": 0,
    "start_time": "2022-04-25T13:03:14.112Z"
   },
   {
    "duration": 0,
    "start_time": "2022-04-25T13:03:14.113Z"
   },
   {
    "duration": 0,
    "start_time": "2022-04-25T13:03:14.114Z"
   },
   {
    "duration": 0,
    "start_time": "2022-04-25T13:03:14.116Z"
   },
   {
    "duration": 0,
    "start_time": "2022-04-25T13:03:14.117Z"
   },
   {
    "duration": 0,
    "start_time": "2022-04-25T13:03:14.118Z"
   },
   {
    "duration": 0,
    "start_time": "2022-04-25T13:03:14.118Z"
   },
   {
    "duration": 0,
    "start_time": "2022-04-25T13:03:14.120Z"
   },
   {
    "duration": 0,
    "start_time": "2022-04-25T13:03:14.121Z"
   },
   {
    "duration": 0,
    "start_time": "2022-04-25T13:03:14.122Z"
   },
   {
    "duration": 0,
    "start_time": "2022-04-25T13:03:14.123Z"
   },
   {
    "duration": 0,
    "start_time": "2022-04-25T13:03:14.124Z"
   },
   {
    "duration": 0,
    "start_time": "2022-04-25T13:03:14.125Z"
   },
   {
    "duration": 0,
    "start_time": "2022-04-25T13:03:14.126Z"
   },
   {
    "duration": 0,
    "start_time": "2022-04-25T13:03:14.127Z"
   },
   {
    "duration": 0,
    "start_time": "2022-04-25T13:03:14.128Z"
   },
   {
    "duration": 0,
    "start_time": "2022-04-25T13:03:14.129Z"
   },
   {
    "duration": 0,
    "start_time": "2022-04-25T13:03:14.130Z"
   },
   {
    "duration": 0,
    "start_time": "2022-04-25T13:03:14.131Z"
   },
   {
    "duration": 0,
    "start_time": "2022-04-25T13:03:14.194Z"
   },
   {
    "duration": 8,
    "start_time": "2022-04-25T13:04:18.951Z"
   },
   {
    "duration": 30,
    "start_time": "2022-04-25T13:04:23.687Z"
   },
   {
    "duration": 12,
    "start_time": "2022-04-25T13:04:31.988Z"
   },
   {
    "duration": 11,
    "start_time": "2022-04-25T13:04:51.904Z"
   },
   {
    "duration": 12,
    "start_time": "2022-04-25T13:04:53.460Z"
   },
   {
    "duration": 10,
    "start_time": "2022-04-25T13:04:58.136Z"
   },
   {
    "duration": 22,
    "start_time": "2022-04-25T13:04:59.675Z"
   },
   {
    "duration": 24,
    "start_time": "2022-04-25T13:05:03.841Z"
   },
   {
    "duration": 3,
    "start_time": "2022-04-25T13:05:06.565Z"
   },
   {
    "duration": 1508,
    "start_time": "2022-04-25T13:05:15.531Z"
   },
   {
    "duration": 14,
    "start_time": "2022-04-25T13:05:17.041Z"
   },
   {
    "duration": 19,
    "start_time": "2022-04-25T13:05:17.056Z"
   },
   {
    "duration": 24,
    "start_time": "2022-04-25T13:05:17.078Z"
   },
   {
    "duration": 13,
    "start_time": "2022-04-25T13:05:17.103Z"
   },
   {
    "duration": 43,
    "start_time": "2022-04-25T13:05:17.117Z"
   },
   {
    "duration": 34,
    "start_time": "2022-04-25T13:05:17.162Z"
   },
   {
    "duration": 23,
    "start_time": "2022-04-25T13:05:17.199Z"
   },
   {
    "duration": 28,
    "start_time": "2022-04-25T13:05:17.224Z"
   },
   {
    "duration": 22,
    "start_time": "2022-04-25T13:05:17.256Z"
   },
   {
    "duration": 23,
    "start_time": "2022-04-25T13:05:17.280Z"
   },
   {
    "duration": 33,
    "start_time": "2022-04-25T13:05:17.304Z"
   },
   {
    "duration": 23,
    "start_time": "2022-04-25T13:05:17.339Z"
   },
   {
    "duration": 8,
    "start_time": "2022-04-25T13:05:17.364Z"
   },
   {
    "duration": 24,
    "start_time": "2022-04-25T13:05:17.393Z"
   },
   {
    "duration": 11,
    "start_time": "2022-04-25T13:05:17.419Z"
   },
   {
    "duration": 463,
    "start_time": "2022-04-25T13:05:17.432Z"
   },
   {
    "duration": 15,
    "start_time": "2022-04-25T13:05:17.897Z"
   },
   {
    "duration": 84,
    "start_time": "2022-04-25T13:05:17.915Z"
   },
   {
    "duration": 13,
    "start_time": "2022-04-25T13:05:18.001Z"
   },
   {
    "duration": 35,
    "start_time": "2022-04-25T13:05:18.016Z"
   },
   {
    "duration": 12,
    "start_time": "2022-04-25T13:05:18.052Z"
   },
   {
    "duration": 17,
    "start_time": "2022-04-25T13:05:18.092Z"
   },
   {
    "duration": 28,
    "start_time": "2022-04-25T13:05:18.111Z"
   },
   {
    "duration": 75,
    "start_time": "2022-04-25T13:05:18.140Z"
   },
   {
    "duration": 11,
    "start_time": "2022-04-25T13:05:18.217Z"
   },
   {
    "duration": 86,
    "start_time": "2022-04-25T13:05:18.230Z"
   },
   {
    "duration": 46,
    "start_time": "2022-04-25T13:05:18.321Z"
   },
   {
    "duration": 64,
    "start_time": "2022-04-25T13:05:18.368Z"
   },
   {
    "duration": 26,
    "start_time": "2022-04-25T13:05:18.433Z"
   },
   {
    "duration": 65,
    "start_time": "2022-04-25T13:05:18.460Z"
   },
   {
    "duration": 30,
    "start_time": "2022-04-25T13:05:18.527Z"
   },
   {
    "duration": 50,
    "start_time": "2022-04-25T13:05:18.559Z"
   },
   {
    "duration": 11,
    "start_time": "2022-04-25T13:05:18.610Z"
   },
   {
    "duration": 11,
    "start_time": "2022-04-25T13:05:18.623Z"
   },
   {
    "duration": 12,
    "start_time": "2022-04-25T13:05:18.636Z"
   },
   {
    "duration": 9,
    "start_time": "2022-04-25T13:05:18.650Z"
   },
   {
    "duration": 52,
    "start_time": "2022-04-25T13:05:18.661Z"
   },
   {
    "duration": 22,
    "start_time": "2022-04-25T13:05:18.714Z"
   },
   {
    "duration": 4,
    "start_time": "2022-04-25T13:05:18.738Z"
   },
   {
    "duration": 9,
    "start_time": "2022-04-25T13:05:18.744Z"
   },
   {
    "duration": 45,
    "start_time": "2022-04-25T13:05:18.755Z"
   },
   {
    "duration": 11,
    "start_time": "2022-04-25T13:05:18.802Z"
   },
   {
    "duration": 4,
    "start_time": "2022-04-25T13:05:18.815Z"
   },
   {
    "duration": 15,
    "start_time": "2022-04-25T13:05:18.821Z"
   },
   {
    "duration": 18,
    "start_time": "2022-04-25T13:05:18.838Z"
   },
   {
    "duration": 149,
    "start_time": "2022-04-25T13:05:18.858Z"
   },
   {
    "duration": 7,
    "start_time": "2022-04-25T13:05:19.009Z"
   },
   {
    "duration": 23,
    "start_time": "2022-04-25T13:05:19.018Z"
   },
   {
    "duration": 60,
    "start_time": "2022-04-25T13:05:19.042Z"
   },
   {
    "duration": 4,
    "start_time": "2022-04-25T13:05:19.104Z"
   },
   {
    "duration": 13,
    "start_time": "2022-04-25T13:05:19.110Z"
   },
   {
    "duration": 12,
    "start_time": "2022-04-25T13:05:19.125Z"
   },
   {
    "duration": 167,
    "start_time": "2022-04-25T13:05:19.139Z"
   },
   {
    "duration": 245,
    "start_time": "2022-04-25T13:05:19.308Z"
   },
   {
    "duration": 10,
    "start_time": "2022-04-25T13:05:19.555Z"
   },
   {
    "duration": 171,
    "start_time": "2022-04-25T13:05:19.567Z"
   },
   {
    "duration": 156,
    "start_time": "2022-04-25T13:05:19.740Z"
   },
   {
    "duration": 11,
    "start_time": "2022-04-25T13:05:19.898Z"
   },
   {
    "duration": 23,
    "start_time": "2022-04-25T13:05:19.911Z"
   },
   {
    "duration": 243,
    "start_time": "2022-04-25T13:05:19.936Z"
   },
   {
    "duration": 163,
    "start_time": "2022-04-25T13:05:20.181Z"
   },
   {
    "duration": 11,
    "start_time": "2022-04-25T13:05:20.346Z"
   },
   {
    "duration": 10,
    "start_time": "2022-04-25T13:05:20.359Z"
   },
   {
    "duration": 174,
    "start_time": "2022-04-25T13:05:20.370Z"
   },
   {
    "duration": 152,
    "start_time": "2022-04-25T13:05:20.546Z"
   },
   {
    "duration": 3,
    "start_time": "2022-04-25T13:05:20.699Z"
   },
   {
    "duration": 27,
    "start_time": "2022-04-25T13:05:20.704Z"
   },
   {
    "duration": 5,
    "start_time": "2022-04-25T13:05:20.733Z"
   },
   {
    "duration": 3,
    "start_time": "2022-04-25T13:05:20.740Z"
   },
   {
    "duration": 9,
    "start_time": "2022-04-25T13:05:20.745Z"
   },
   {
    "duration": 8,
    "start_time": "2022-04-25T13:05:20.756Z"
   },
   {
    "duration": 18,
    "start_time": "2022-04-25T13:05:20.765Z"
   },
   {
    "duration": 6,
    "start_time": "2022-04-25T13:05:20.792Z"
   },
   {
    "duration": 14,
    "start_time": "2022-04-25T13:05:20.800Z"
   },
   {
    "duration": 14,
    "start_time": "2022-04-25T13:05:20.815Z"
   },
   {
    "duration": 11,
    "start_time": "2022-04-25T13:05:20.831Z"
   },
   {
    "duration": 6,
    "start_time": "2022-04-25T13:05:20.843Z"
   },
   {
    "duration": 8,
    "start_time": "2022-04-25T13:05:20.850Z"
   },
   {
    "duration": 9,
    "start_time": "2022-04-25T13:05:20.859Z"
   },
   {
    "duration": 16,
    "start_time": "2022-04-25T13:05:20.869Z"
   },
   {
    "duration": 6,
    "start_time": "2022-04-25T13:05:20.892Z"
   },
   {
    "duration": 71,
    "start_time": "2022-04-25T13:05:20.900Z"
   },
   {
    "duration": 1389,
    "start_time": "2022-04-25T13:05:20.973Z"
   },
   {
    "duration": 4,
    "start_time": "2022-04-25T13:05:22.364Z"
   },
   {
    "duration": 185,
    "start_time": "2022-04-25T13:05:22.370Z"
   },
   {
    "duration": 262,
    "start_time": "2022-04-25T13:05:22.557Z"
   },
   {
    "duration": 175,
    "start_time": "2022-04-25T13:05:22.820Z"
   },
   {
    "duration": 31,
    "start_time": "2022-04-25T13:05:22.997Z"
   },
   {
    "duration": 1574,
    "start_time": "2022-04-25T13:11:57.190Z"
   },
   {
    "duration": 14,
    "start_time": "2022-04-25T13:11:58.766Z"
   },
   {
    "duration": 18,
    "start_time": "2022-04-25T13:11:58.782Z"
   },
   {
    "duration": 21,
    "start_time": "2022-04-25T13:11:58.802Z"
   },
   {
    "duration": 13,
    "start_time": "2022-04-25T13:11:58.825Z"
   },
   {
    "duration": 33,
    "start_time": "2022-04-25T13:11:58.840Z"
   },
   {
    "duration": 41,
    "start_time": "2022-04-25T13:11:58.875Z"
   },
   {
    "duration": 23,
    "start_time": "2022-04-25T13:11:58.917Z"
   },
   {
    "duration": 7,
    "start_time": "2022-04-25T13:11:58.941Z"
   },
   {
    "duration": 47,
    "start_time": "2022-04-25T13:11:58.951Z"
   },
   {
    "duration": 9,
    "start_time": "2022-04-25T13:11:58.999Z"
   },
   {
    "duration": 32,
    "start_time": "2022-04-25T13:11:59.009Z"
   },
   {
    "duration": 24,
    "start_time": "2022-04-25T13:11:59.043Z"
   },
   {
    "duration": 25,
    "start_time": "2022-04-25T13:11:59.069Z"
   },
   {
    "duration": 31,
    "start_time": "2022-04-25T13:11:59.096Z"
   },
   {
    "duration": 12,
    "start_time": "2022-04-25T13:11:59.129Z"
   },
   {
    "duration": 477,
    "start_time": "2022-04-25T13:11:59.143Z"
   },
   {
    "duration": 17,
    "start_time": "2022-04-25T13:11:59.622Z"
   },
   {
    "duration": 82,
    "start_time": "2022-04-25T13:11:59.641Z"
   },
   {
    "duration": 14,
    "start_time": "2022-04-25T13:11:59.725Z"
   },
   {
    "duration": 58,
    "start_time": "2022-04-25T13:11:59.741Z"
   },
   {
    "duration": 12,
    "start_time": "2022-04-25T13:11:59.801Z"
   },
   {
    "duration": 17,
    "start_time": "2022-04-25T13:11:59.815Z"
   },
   {
    "duration": 29,
    "start_time": "2022-04-25T13:11:59.833Z"
   },
   {
    "duration": 73,
    "start_time": "2022-04-25T13:11:59.864Z"
   },
   {
    "duration": 11,
    "start_time": "2022-04-25T13:11:59.939Z"
   },
   {
    "duration": 89,
    "start_time": "2022-04-25T13:11:59.952Z"
   },
   {
    "duration": 56,
    "start_time": "2022-04-25T13:12:00.045Z"
   },
   {
    "duration": 47,
    "start_time": "2022-04-25T13:12:00.102Z"
   },
   {
    "duration": 47,
    "start_time": "2022-04-25T13:12:00.151Z"
   },
   {
    "duration": 51,
    "start_time": "2022-04-25T13:12:00.200Z"
   },
   {
    "duration": 48,
    "start_time": "2022-04-25T13:12:00.253Z"
   },
   {
    "duration": 29,
    "start_time": "2022-04-25T13:12:00.303Z"
   },
   {
    "duration": 38,
    "start_time": "2022-04-25T13:12:00.334Z"
   },
   {
    "duration": 14,
    "start_time": "2022-04-25T13:12:00.374Z"
   },
   {
    "duration": 16,
    "start_time": "2022-04-25T13:12:00.393Z"
   },
   {
    "duration": 25,
    "start_time": "2022-04-25T13:12:00.411Z"
   },
   {
    "duration": 34,
    "start_time": "2022-04-25T13:12:00.438Z"
   },
   {
    "duration": 27,
    "start_time": "2022-04-25T13:12:00.474Z"
   },
   {
    "duration": 4,
    "start_time": "2022-04-25T13:12:00.503Z"
   },
   {
    "duration": 11,
    "start_time": "2022-04-25T13:12:00.509Z"
   },
   {
    "duration": 14,
    "start_time": "2022-04-25T13:12:00.522Z"
   },
   {
    "duration": 11,
    "start_time": "2022-04-25T13:12:00.539Z"
   },
   {
    "duration": 4,
    "start_time": "2022-04-25T13:12:00.552Z"
   },
   {
    "duration": 38,
    "start_time": "2022-04-25T13:12:00.558Z"
   },
   {
    "duration": 28,
    "start_time": "2022-04-25T13:12:00.598Z"
   },
   {
    "duration": 120,
    "start_time": "2022-04-25T13:12:00.627Z"
   },
   {
    "duration": 7,
    "start_time": "2022-04-25T13:12:00.749Z"
   },
   {
    "duration": 54,
    "start_time": "2022-04-25T13:12:00.758Z"
   },
   {
    "duration": 52,
    "start_time": "2022-04-25T13:12:00.813Z"
   },
   {
    "duration": 5,
    "start_time": "2022-04-25T13:12:00.867Z"
   },
   {
    "duration": 28,
    "start_time": "2022-04-25T13:12:00.874Z"
   },
   {
    "duration": 33,
    "start_time": "2022-04-25T13:12:00.903Z"
   },
   {
    "duration": 126,
    "start_time": "2022-04-25T13:12:00.938Z"
   },
   {
    "duration": 248,
    "start_time": "2022-04-25T13:12:01.066Z"
   },
   {
    "duration": 11,
    "start_time": "2022-04-25T13:12:01.315Z"
   },
   {
    "duration": 180,
    "start_time": "2022-04-25T13:12:01.328Z"
   },
   {
    "duration": 173,
    "start_time": "2022-04-25T13:12:01.510Z"
   },
   {
    "duration": 16,
    "start_time": "2022-04-25T13:12:01.685Z"
   },
   {
    "duration": 30,
    "start_time": "2022-04-25T13:12:01.702Z"
   },
   {
    "duration": 240,
    "start_time": "2022-04-25T13:12:01.734Z"
   },
   {
    "duration": 169,
    "start_time": "2022-04-25T13:12:01.976Z"
   },
   {
    "duration": 12,
    "start_time": "2022-04-25T13:12:02.147Z"
   },
   {
    "duration": 12,
    "start_time": "2022-04-25T13:12:02.161Z"
   },
   {
    "duration": 165,
    "start_time": "2022-04-25T13:12:02.194Z"
   },
   {
    "duration": 159,
    "start_time": "2022-04-25T13:12:02.361Z"
   },
   {
    "duration": 3,
    "start_time": "2022-04-25T13:12:02.522Z"
   },
   {
    "duration": 35,
    "start_time": "2022-04-25T13:12:02.526Z"
   },
   {
    "duration": 20,
    "start_time": "2022-04-25T13:12:02.563Z"
   },
   {
    "duration": 27,
    "start_time": "2022-04-25T13:12:02.585Z"
   },
   {
    "duration": 51,
    "start_time": "2022-04-25T13:12:02.614Z"
   },
   {
    "duration": 35,
    "start_time": "2022-04-25T13:12:02.667Z"
   },
   {
    "duration": 34,
    "start_time": "2022-04-25T13:12:02.704Z"
   },
   {
    "duration": 62,
    "start_time": "2022-04-25T13:12:02.740Z"
   },
   {
    "duration": 86,
    "start_time": "2022-04-25T13:12:02.804Z"
   },
   {
    "duration": 57,
    "start_time": "2022-04-25T13:12:02.891Z"
   },
   {
    "duration": 10,
    "start_time": "2022-04-25T13:12:02.950Z"
   },
   {
    "duration": 5,
    "start_time": "2022-04-25T13:12:02.961Z"
   },
   {
    "duration": 7,
    "start_time": "2022-04-25T13:12:02.967Z"
   },
   {
    "duration": 5,
    "start_time": "2022-04-25T13:12:02.976Z"
   },
   {
    "duration": 17,
    "start_time": "2022-04-25T13:12:02.983Z"
   },
   {
    "duration": 13,
    "start_time": "2022-04-25T13:12:03.006Z"
   },
   {
    "duration": 67,
    "start_time": "2022-04-25T13:12:03.021Z"
   },
   {
    "duration": 1389,
    "start_time": "2022-04-25T13:12:03.090Z"
   },
   {
    "duration": 12,
    "start_time": "2022-04-25T13:12:04.480Z"
   },
   {
    "duration": 195,
    "start_time": "2022-04-25T13:12:04.494Z"
   },
   {
    "duration": 276,
    "start_time": "2022-04-25T13:12:04.692Z"
   },
   {
    "duration": 181,
    "start_time": "2022-04-25T13:12:04.970Z"
   },
   {
    "duration": 33,
    "start_time": "2022-04-25T13:12:05.153Z"
   },
   {
    "duration": 1627,
    "start_time": "2022-04-25T13:18:12.955Z"
   },
   {
    "duration": 19,
    "start_time": "2022-04-25T13:18:14.585Z"
   },
   {
    "duration": 39,
    "start_time": "2022-04-25T13:18:14.607Z"
   },
   {
    "duration": 30,
    "start_time": "2022-04-25T13:18:14.648Z"
   },
   {
    "duration": 38,
    "start_time": "2022-04-25T13:18:14.681Z"
   },
   {
    "duration": 37,
    "start_time": "2022-04-25T13:18:14.721Z"
   },
   {
    "duration": 27,
    "start_time": "2022-04-25T13:18:14.760Z"
   },
   {
    "duration": 33,
    "start_time": "2022-04-25T13:18:14.789Z"
   },
   {
    "duration": 7,
    "start_time": "2022-04-25T13:18:14.824Z"
   },
   {
    "duration": 40,
    "start_time": "2022-04-25T13:18:14.833Z"
   },
   {
    "duration": 37,
    "start_time": "2022-04-25T13:18:14.875Z"
   },
   {
    "duration": 27,
    "start_time": "2022-04-25T13:18:14.914Z"
   },
   {
    "duration": 24,
    "start_time": "2022-04-25T13:18:14.942Z"
   },
   {
    "duration": 8,
    "start_time": "2022-04-25T13:18:14.970Z"
   },
   {
    "duration": 41,
    "start_time": "2022-04-25T13:18:14.980Z"
   },
   {
    "duration": 18,
    "start_time": "2022-04-25T13:18:15.023Z"
   },
   {
    "duration": 496,
    "start_time": "2022-04-25T13:18:15.043Z"
   },
   {
    "duration": 18,
    "start_time": "2022-04-25T13:18:15.541Z"
   },
   {
    "duration": 89,
    "start_time": "2022-04-25T13:18:15.562Z"
   },
   {
    "duration": 13,
    "start_time": "2022-04-25T13:18:15.652Z"
   },
   {
    "duration": 52,
    "start_time": "2022-04-25T13:18:15.667Z"
   },
   {
    "duration": 13,
    "start_time": "2022-04-25T13:18:15.720Z"
   },
   {
    "duration": 23,
    "start_time": "2022-04-25T13:18:15.735Z"
   },
   {
    "duration": 52,
    "start_time": "2022-04-25T13:18:15.760Z"
   },
   {
    "duration": 79,
    "start_time": "2022-04-25T13:18:15.814Z"
   },
   {
    "duration": 15,
    "start_time": "2022-04-25T13:18:15.896Z"
   },
   {
    "duration": 98,
    "start_time": "2022-04-25T13:18:15.912Z"
   },
   {
    "duration": 46,
    "start_time": "2022-04-25T13:18:16.012Z"
   },
   {
    "duration": 64,
    "start_time": "2022-04-25T13:18:16.059Z"
   },
   {
    "duration": 29,
    "start_time": "2022-04-25T13:18:16.125Z"
   },
   {
    "duration": 69,
    "start_time": "2022-04-25T13:18:16.155Z"
   },
   {
    "duration": 40,
    "start_time": "2022-04-25T13:18:16.225Z"
   },
   {
    "duration": 51,
    "start_time": "2022-04-25T13:18:16.267Z"
   },
   {
    "duration": 11,
    "start_time": "2022-04-25T13:18:16.320Z"
   },
   {
    "duration": 33,
    "start_time": "2022-04-25T13:18:16.333Z"
   },
   {
    "duration": 17,
    "start_time": "2022-04-25T13:18:16.368Z"
   },
   {
    "duration": 40,
    "start_time": "2022-04-25T13:18:16.391Z"
   },
   {
    "duration": 38,
    "start_time": "2022-04-25T13:18:16.433Z"
   },
   {
    "duration": 24,
    "start_time": "2022-04-25T13:18:16.472Z"
   },
   {
    "duration": 13,
    "start_time": "2022-04-25T13:18:16.498Z"
   },
   {
    "duration": 13,
    "start_time": "2022-04-25T13:18:16.516Z"
   },
   {
    "duration": 11,
    "start_time": "2022-04-25T13:18:16.531Z"
   },
   {
    "duration": 21,
    "start_time": "2022-04-25T13:18:16.543Z"
   },
   {
    "duration": 4,
    "start_time": "2022-04-25T13:18:16.566Z"
   },
   {
    "duration": 36,
    "start_time": "2022-04-25T13:18:16.572Z"
   },
   {
    "duration": 38,
    "start_time": "2022-04-25T13:18:16.610Z"
   },
   {
    "duration": 163,
    "start_time": "2022-04-25T13:18:16.650Z"
   },
   {
    "duration": 8,
    "start_time": "2022-04-25T13:18:16.815Z"
   },
   {
    "duration": 34,
    "start_time": "2022-04-25T13:18:16.825Z"
   },
   {
    "duration": 70,
    "start_time": "2022-04-25T13:18:16.861Z"
   },
   {
    "duration": 6,
    "start_time": "2022-04-25T13:18:16.933Z"
   },
   {
    "duration": 29,
    "start_time": "2022-04-25T13:18:16.940Z"
   },
   {
    "duration": 41,
    "start_time": "2022-04-25T13:18:16.971Z"
   },
   {
    "duration": 142,
    "start_time": "2022-04-25T13:18:17.014Z"
   },
   {
    "duration": 266,
    "start_time": "2022-04-25T13:18:17.158Z"
   },
   {
    "duration": 11,
    "start_time": "2022-04-25T13:18:17.426Z"
   },
   {
    "duration": 185,
    "start_time": "2022-04-25T13:18:17.438Z"
   },
   {
    "duration": 183,
    "start_time": "2022-04-25T13:18:17.625Z"
   },
   {
    "duration": 11,
    "start_time": "2022-04-25T13:18:17.810Z"
   },
   {
    "duration": 35,
    "start_time": "2022-04-25T13:18:17.823Z"
   },
   {
    "duration": 240,
    "start_time": "2022-04-25T13:18:17.860Z"
   },
   {
    "duration": 159,
    "start_time": "2022-04-25T13:18:18.102Z"
   },
   {
    "duration": 12,
    "start_time": "2022-04-25T13:18:18.262Z"
   },
   {
    "duration": 30,
    "start_time": "2022-04-25T13:18:18.276Z"
   },
   {
    "duration": 168,
    "start_time": "2022-04-25T13:18:18.308Z"
   },
   {
    "duration": 157,
    "start_time": "2022-04-25T13:18:18.477Z"
   },
   {
    "duration": 3,
    "start_time": "2022-04-25T13:18:18.636Z"
   },
   {
    "duration": 32,
    "start_time": "2022-04-25T13:18:18.641Z"
   },
   {
    "duration": 23,
    "start_time": "2022-04-25T13:18:18.675Z"
   },
   {
    "duration": 17,
    "start_time": "2022-04-25T13:18:18.699Z"
   },
   {
    "duration": 7,
    "start_time": "2022-04-25T13:18:18.719Z"
   },
   {
    "duration": 7,
    "start_time": "2022-04-25T13:18:18.728Z"
   },
   {
    "duration": 6,
    "start_time": "2022-04-25T13:18:18.737Z"
   },
   {
    "duration": 8,
    "start_time": "2022-04-25T13:18:18.745Z"
   },
   {
    "duration": 10,
    "start_time": "2022-04-25T13:18:18.754Z"
   },
   {
    "duration": 9,
    "start_time": "2022-04-25T13:18:18.766Z"
   },
   {
    "duration": 24,
    "start_time": "2022-04-25T13:18:18.777Z"
   },
   {
    "duration": 5,
    "start_time": "2022-04-25T13:18:18.809Z"
   },
   {
    "duration": 13,
    "start_time": "2022-04-25T13:18:18.816Z"
   },
   {
    "duration": 10,
    "start_time": "2022-04-25T13:18:18.831Z"
   },
   {
    "duration": 12,
    "start_time": "2022-04-25T13:18:18.842Z"
   },
   {
    "duration": 7,
    "start_time": "2022-04-25T13:18:18.855Z"
   },
   {
    "duration": 99,
    "start_time": "2022-04-25T13:18:18.865Z"
   },
   {
    "duration": 1807,
    "start_time": "2022-04-25T13:18:18.966Z"
   },
   {
    "duration": 5,
    "start_time": "2022-04-25T13:18:20.775Z"
   },
   {
    "duration": 192,
    "start_time": "2022-04-25T13:18:20.793Z"
   },
   {
    "duration": 277,
    "start_time": "2022-04-25T13:18:20.987Z"
   },
   {
    "duration": 182,
    "start_time": "2022-04-25T13:18:21.266Z"
   },
   {
    "duration": 32,
    "start_time": "2022-04-25T13:18:21.449Z"
   },
   {
    "duration": 166,
    "start_time": "2022-04-26T06:26:13.852Z"
   },
   {
    "duration": 2603,
    "start_time": "2023-05-15T21:35:08.527Z"
   },
   {
    "duration": 14,
    "start_time": "2023-05-15T21:35:11.131Z"
   },
   {
    "duration": 13,
    "start_time": "2023-05-15T21:35:11.146Z"
   },
   {
    "duration": 16,
    "start_time": "2023-05-15T21:35:11.161Z"
   },
   {
    "duration": 9,
    "start_time": "2023-05-15T21:35:11.179Z"
   },
   {
    "duration": 26,
    "start_time": "2023-05-15T21:35:11.189Z"
   },
   {
    "duration": 26,
    "start_time": "2023-05-15T21:35:11.217Z"
   },
   {
    "duration": 42,
    "start_time": "2023-05-15T21:35:11.244Z"
   },
   {
    "duration": 7,
    "start_time": "2023-05-15T21:35:11.287Z"
   },
   {
    "duration": 18,
    "start_time": "2023-05-15T21:35:11.297Z"
   },
   {
    "duration": 8,
    "start_time": "2023-05-15T21:35:11.317Z"
   },
   {
    "duration": 53,
    "start_time": "2023-05-15T21:35:11.327Z"
   },
   {
    "duration": 28,
    "start_time": "2023-05-15T21:35:11.382Z"
   },
   {
    "duration": 9,
    "start_time": "2023-05-15T21:35:11.411Z"
   },
   {
    "duration": 33,
    "start_time": "2023-05-15T21:35:11.421Z"
   },
   {
    "duration": 28,
    "start_time": "2023-05-15T21:35:11.455Z"
   },
   {
    "duration": 450,
    "start_time": "2023-05-15T21:35:11.484Z"
   },
   {
    "duration": 14,
    "start_time": "2023-05-15T21:35:11.936Z"
   },
   {
    "duration": 80,
    "start_time": "2023-05-15T21:35:11.952Z"
   },
   {
    "duration": 13,
    "start_time": "2023-05-15T21:35:12.035Z"
   },
   {
    "duration": 52,
    "start_time": "2023-05-15T21:35:12.050Z"
   },
   {
    "duration": 12,
    "start_time": "2023-05-15T21:35:12.103Z"
   },
   {
    "duration": 16,
    "start_time": "2023-05-15T21:35:12.117Z"
   },
   {
    "duration": 53,
    "start_time": "2023-05-15T21:35:12.135Z"
   },
   {
    "duration": 57,
    "start_time": "2023-05-15T21:35:12.190Z"
   },
   {
    "duration": 27,
    "start_time": "2023-05-15T21:35:12.249Z"
   },
   {
    "duration": 62,
    "start_time": "2023-05-15T21:35:12.278Z"
   },
   {
    "duration": 66,
    "start_time": "2023-05-15T21:35:12.345Z"
   },
   {
    "duration": 41,
    "start_time": "2023-05-15T21:35:12.412Z"
   },
   {
    "duration": 35,
    "start_time": "2023-05-15T21:35:12.454Z"
   },
   {
    "duration": 41,
    "start_time": "2023-05-15T21:35:12.491Z"
   },
   {
    "duration": 48,
    "start_time": "2023-05-15T21:35:12.534Z"
   },
   {
    "duration": 25,
    "start_time": "2023-05-15T21:35:12.584Z"
   },
   {
    "duration": 11,
    "start_time": "2023-05-15T21:35:12.610Z"
   },
   {
    "duration": 11,
    "start_time": "2023-05-15T21:35:12.622Z"
   },
   {
    "duration": 43,
    "start_time": "2023-05-15T21:35:12.634Z"
   },
   {
    "duration": 8,
    "start_time": "2023-05-15T21:35:12.679Z"
   },
   {
    "duration": 20,
    "start_time": "2023-05-15T21:35:12.688Z"
   },
   {
    "duration": 19,
    "start_time": "2023-05-15T21:35:12.709Z"
   },
   {
    "duration": 3,
    "start_time": "2023-05-15T21:35:12.730Z"
   },
   {
    "duration": 46,
    "start_time": "2023-05-15T21:35:12.735Z"
   },
   {
    "duration": 9,
    "start_time": "2023-05-15T21:35:12.783Z"
   },
   {
    "duration": 9,
    "start_time": "2023-05-15T21:35:12.794Z"
   },
   {
    "duration": 3,
    "start_time": "2023-05-15T21:35:12.805Z"
   },
   {
    "duration": 5,
    "start_time": "2023-05-15T21:35:12.809Z"
   },
   {
    "duration": 15,
    "start_time": "2023-05-15T21:35:12.816Z"
   },
   {
    "duration": 164,
    "start_time": "2023-05-15T21:35:12.832Z"
   },
   {
    "duration": 5,
    "start_time": "2023-05-15T21:35:12.997Z"
   },
   {
    "duration": 19,
    "start_time": "2023-05-15T21:35:13.004Z"
   },
   {
    "duration": 58,
    "start_time": "2023-05-15T21:35:13.025Z"
   },
   {
    "duration": 4,
    "start_time": "2023-05-15T21:35:13.085Z"
   },
   {
    "duration": 14,
    "start_time": "2023-05-15T21:35:13.090Z"
   },
   {
    "duration": 9,
    "start_time": "2023-05-15T21:35:13.105Z"
   },
   {
    "duration": 142,
    "start_time": "2023-05-15T21:35:13.116Z"
   },
   {
    "duration": 267,
    "start_time": "2023-05-15T21:35:13.260Z"
   },
   {
    "duration": 11,
    "start_time": "2023-05-15T21:35:13.528Z"
   },
   {
    "duration": 192,
    "start_time": "2023-05-15T21:35:13.541Z"
   },
   {
    "duration": 172,
    "start_time": "2023-05-15T21:35:13.735Z"
   },
   {
    "duration": 10,
    "start_time": "2023-05-15T21:35:13.909Z"
   },
   {
    "duration": 32,
    "start_time": "2023-05-15T21:35:13.920Z"
   },
   {
    "duration": 285,
    "start_time": "2023-05-15T21:35:13.954Z"
   },
   {
    "duration": 148,
    "start_time": "2023-05-15T21:35:14.241Z"
   },
   {
    "duration": 9,
    "start_time": "2023-05-15T21:35:14.391Z"
   },
   {
    "duration": 9,
    "start_time": "2023-05-15T21:35:14.401Z"
   },
   {
    "duration": 164,
    "start_time": "2023-05-15T21:35:14.411Z"
   },
   {
    "duration": 145,
    "start_time": "2023-05-15T21:35:14.576Z"
   },
   {
    "duration": 3,
    "start_time": "2023-05-15T21:35:14.722Z"
   },
   {
    "duration": 31,
    "start_time": "2023-05-15T21:35:14.726Z"
   },
   {
    "duration": 6,
    "start_time": "2023-05-15T21:35:14.759Z"
   },
   {
    "duration": 10,
    "start_time": "2023-05-15T21:35:14.766Z"
   },
   {
    "duration": 5,
    "start_time": "2023-05-15T21:35:14.778Z"
   },
   {
    "duration": 6,
    "start_time": "2023-05-15T21:35:14.784Z"
   },
   {
    "duration": 5,
    "start_time": "2023-05-15T21:35:14.791Z"
   },
   {
    "duration": 6,
    "start_time": "2023-05-15T21:35:14.797Z"
   },
   {
    "duration": 5,
    "start_time": "2023-05-15T21:35:14.804Z"
   },
   {
    "duration": 4,
    "start_time": "2023-05-15T21:35:14.810Z"
   },
   {
    "duration": 6,
    "start_time": "2023-05-15T21:35:14.815Z"
   },
   {
    "duration": 2,
    "start_time": "2023-05-15T21:35:14.823Z"
   },
   {
    "duration": 4,
    "start_time": "2023-05-15T21:35:14.826Z"
   },
   {
    "duration": 44,
    "start_time": "2023-05-15T21:35:14.831Z"
   },
   {
    "duration": 6,
    "start_time": "2023-05-15T21:35:14.877Z"
   },
   {
    "duration": 5,
    "start_time": "2023-05-15T21:35:14.888Z"
   }
  ],
  "kernelspec": {
   "display_name": "Python 3 (ipykernel)",
   "language": "python",
   "name": "python3"
  },
  "language_info": {
   "codemirror_mode": {
    "name": "ipython",
    "version": 3
   },
   "file_extension": ".py",
   "mimetype": "text/x-python",
   "name": "python",
   "nbconvert_exporter": "python",
   "pygments_lexer": "ipython3",
   "version": "3.9.5"
  },
  "toc": {
   "base_numbering": 1,
   "nav_menu": {},
   "number_sections": true,
   "sideBar": true,
   "skip_h1_title": true,
   "title_cell": "Table of Contents",
   "title_sidebar": "Contents",
   "toc_cell": false,
   "toc_position": {
    "height": "calc(100% - 180px)",
    "left": "10px",
    "top": "150px",
    "width": "280px"
   },
   "toc_section_display": true,
   "toc_window_display": true
  }
 },
 "nbformat": 4,
 "nbformat_minor": 5
}
