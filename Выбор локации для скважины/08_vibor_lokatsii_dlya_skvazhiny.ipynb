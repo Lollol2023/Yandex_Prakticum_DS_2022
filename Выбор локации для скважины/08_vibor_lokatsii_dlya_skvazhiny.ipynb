{
 "cells": [
  {
   "cell_type": "markdown",
   "id": "098016c2",
   "metadata": {},
   "source": [
    "<h1 id=\"tocheading\">Оглавление</h1>\n",
    "<div id=\"toc\"></div>"
   ]
  },
  {
   "cell_type": "code",
   "execution_count": 1,
   "id": "d1a2998b",
   "metadata": {},
   "outputs": [
    {
     "data": {
      "application/javascript": [
       "$.getScript('https://kmahelona.github.io/ipython_notebook_goodies/ipython_notebook_toc.js')\n"
      ],
      "text/plain": [
       "<IPython.core.display.Javascript object>"
      ]
     },
     "metadata": {},
     "output_type": "display_data"
    }
   ],
   "source": [
    "%%javascript\n",
    "$.getScript('https://kmahelona.github.io/ipython_notebook_goodies/ipython_notebook_toc.js')"
   ]
  },
  {
   "cell_type": "markdown",
   "id": "64eeda77",
   "metadata": {},
   "source": [
    "# Описание проекта"
   ]
  },
  {
   "cell_type": "markdown",
   "id": "e6574d5f",
   "metadata": {},
   "source": [
    "Вы работаете в добывающей компании «ГлавРосГосНефть». Нужно решить, где бурить новую скважину.\n",
    "\n",
    "Шаги для выбора локации обычно такие:\n",
    "* В избранном регионе собирают характеристики для скважин: качество нефти и объём её запасов;\n",
    "* Строят модель для предсказания объёма запасов в новых скважинах;\n",
    "* Выбирают скважины с самыми высокими оценками значений;\n",
    "* Определяют регион с максимальной суммарной прибылью отобранных скважин.\n",
    "\n",
    "Вам предоставлены пробы нефти в трёх регионах. Характеристики для каждой скважины в регионе уже известны. Постройте модель для определения региона, где добыча принесёт наибольшую прибыль. Проанализируйте возможную прибыль и риски техникой Bootstrap.\n",
    "\n",
    "\n",
    "**Инструкция по выполнению проекта**\n",
    "\n",
    "1. Загрузите и подготовьте данные. Поясните порядок действий.\n",
    "\n",
    "\n",
    "2. Обучите и проверьте модель для каждого региона:\n",
    "\n",
    "2.1. Разбейте данные на обучающую и валидационную выборки в соотношении 75:25.\n",
    "\n",
    "2.2. Обучите модель и сделайте предсказания на валидационной выборке.\n",
    "\n",
    "2.3. Сохраните предсказания и правильные ответы на валидационной выборке.\n",
    "\n",
    "2.4. Напечатайте на экране средний запас предсказанного сырья и RMSE модели.\n",
    "\n",
    "2.5. Проанализируйте результаты.\n",
    "\n",
    "\n",
    "3. Подготовьтесь к расчёту прибыли:\n",
    "\n",
    "3.1. Все ключевые значения для расчётов сохраните в отдельных переменных.\n",
    "\n",
    "3.2. Рассчитайте достаточный объём сырья для безубыточной разработки новой скважины. Сравните полученный объём сырья со средним запасом в каждом регионе.\n",
    "\n",
    "3.3. Напишите выводы по этапу подготовки расчёта прибыли.\n",
    "\n",
    "\n",
    "4. Напишите функцию для расчёта прибыли по выбранным скважинам и предсказаниям модели:\n",
    "\n",
    "4.1. Выберите скважины с максимальными значениями предсказаний.\n",
    "\n",
    "4.2. Просуммируйте целевое значение объёма сырья, соответствующее этим предсказаниям.\n",
    "\n",
    "4.3. Рассчитайте прибыль для полученного объёма сырья.\n",
    "\n",
    "\n",
    "5. Посчитайте риски и прибыль для каждого региона:\n",
    "\n",
    "5.1. Примените технику Bootstrap с 1000 выборок, чтобы найти распределение прибыли.\n",
    "\n",
    "5.2. Найдите среднюю прибыль, 95%-й доверительный интервал и риск убытков. Убыток — это отрицательная прибыль.\n",
    "\n",
    "5.3. Напишите выводы: предложите регион для разработки скважин и обоснуйте выбор.\n",
    "\n",
    "\n",
    "**Описание данных**\n",
    "\n",
    "Данные геологоразведки трёх регионов находятся в 3 файлах.\n",
    "\n",
    "* id — уникальный идентификатор скважины;\n",
    "* f0, f1, f2 — три признака точек (неважно, что они означают, но сами признаки значимы);\n",
    "* product — объём запасов в скважине (тыс. баррелей).\n",
    "\n",
    "\n",
    "**Условия задачи:**\n",
    "\n",
    "Для обучения модели подходит только линейная регрессия (остальные — недостаточно предсказуемые).\n",
    "\n",
    "При разведке региона исследуют 500 точек, из которых с помощью машинного обучения выбирают 200 лучших для разработки.\n",
    "\n",
    "Бюджет на разработку скважин в регионе — 10 млрд рублей.\n",
    "\n",
    "При нынешних ценах один баррель сырья приносит 450 рублей дохода. \n",
    "\n",
    "Доход с каждой единицы продукта составляет 450 тыс. рублей, поскольку объём указан в тысячах баррелей.\n",
    "\n",
    "После оценки рисков нужно оставить лишь те регионы, в которых вероятность убытков меньше 2.5%. \n",
    "\n",
    "Среди них выбирают регион с наибольшей средней прибылью.\n",
    "\n",
    "Данные синтетические: детали контрактов и характеристики месторождений не разглашаются."
   ]
  },
  {
   "cell_type": "markdown",
   "id": "5b71ddf3",
   "metadata": {},
   "source": [
    "# Изучение данных"
   ]
  },
  {
   "cell_type": "code",
   "execution_count": 2,
   "id": "f5988c18",
   "metadata": {},
   "outputs": [],
   "source": [
    "import pandas as pd\n",
    "import numpy as np\n",
    "import matplotlib.pyplot as plt\n",
    "import seaborn as sns\n",
    "from tqdm.notebook import trange\n",
    "from sklearn.model_selection import train_test_split\n",
    "from sklearn.metrics import mean_squared_error\n",
    "from sklearn.preprocessing import StandardScaler\n",
    "from sklearn.linear_model import LinearRegression"
   ]
  },
  {
   "cell_type": "code",
   "execution_count": 3,
   "id": "87dc154f",
   "metadata": {},
   "outputs": [],
   "source": [
    "geo_data_0 = pd.read_csv('/filename_0.csv')\n",
    "geo_data_1 = pd.read_csv('/filename_1.csv')\n",
    "geo_data_2 = pd.read_csv('/filename_2.csv')\n",
    "\n",
    "datasets = [geo_data_0, geo_data_1, geo_data_2]"
   ]
  },
  {
   "cell_type": "code",
   "execution_count": 4,
   "id": "8b5ad84d",
   "metadata": {},
   "outputs": [
    {
     "data": {
      "text/html": [
       "<div>\n",
       "<style scoped>\n",
       "    .dataframe tbody tr th:only-of-type {\n",
       "        vertical-align: middle;\n",
       "    }\n",
       "\n",
       "    .dataframe tbody tr th {\n",
       "        vertical-align: top;\n",
       "    }\n",
       "\n",
       "    .dataframe thead th {\n",
       "        text-align: right;\n",
       "    }\n",
       "</style>\n",
       "<table border=\"1\" class=\"dataframe\">\n",
       "  <thead>\n",
       "    <tr style=\"text-align: right;\">\n",
       "      <th></th>\n",
       "      <th>id</th>\n",
       "      <th>f0</th>\n",
       "      <th>f1</th>\n",
       "      <th>f2</th>\n",
       "      <th>product</th>\n",
       "    </tr>\n",
       "  </thead>\n",
       "  <tbody>\n",
       "    <tr>\n",
       "      <th>0</th>\n",
       "      <td>txEyH</td>\n",
       "      <td>0.705745</td>\n",
       "      <td>-0.497823</td>\n",
       "      <td>1.221170</td>\n",
       "      <td>105.280062</td>\n",
       "    </tr>\n",
       "    <tr>\n",
       "      <th>1</th>\n",
       "      <td>2acmU</td>\n",
       "      <td>1.334711</td>\n",
       "      <td>-0.340164</td>\n",
       "      <td>4.365080</td>\n",
       "      <td>73.037750</td>\n",
       "    </tr>\n",
       "    <tr>\n",
       "      <th>2</th>\n",
       "      <td>409Wp</td>\n",
       "      <td>1.022732</td>\n",
       "      <td>0.151990</td>\n",
       "      <td>1.419926</td>\n",
       "      <td>85.265647</td>\n",
       "    </tr>\n",
       "    <tr>\n",
       "      <th>3</th>\n",
       "      <td>iJLyR</td>\n",
       "      <td>-0.032172</td>\n",
       "      <td>0.139033</td>\n",
       "      <td>2.978566</td>\n",
       "      <td>168.620776</td>\n",
       "    </tr>\n",
       "    <tr>\n",
       "      <th>4</th>\n",
       "      <td>Xdl7t</td>\n",
       "      <td>1.988431</td>\n",
       "      <td>0.155413</td>\n",
       "      <td>4.751769</td>\n",
       "      <td>154.036647</td>\n",
       "    </tr>\n",
       "  </tbody>\n",
       "</table>\n",
       "</div>"
      ],
      "text/plain": [
       "      id        f0        f1        f2     product\n",
       "0  txEyH  0.705745 -0.497823  1.221170  105.280062\n",
       "1  2acmU  1.334711 -0.340164  4.365080   73.037750\n",
       "2  409Wp  1.022732  0.151990  1.419926   85.265647\n",
       "3  iJLyR -0.032172  0.139033  2.978566  168.620776\n",
       "4  Xdl7t  1.988431  0.155413  4.751769  154.036647"
      ]
     },
     "metadata": {},
     "output_type": "display_data"
    },
    {
     "data": {
      "text/html": [
       "<div>\n",
       "<style scoped>\n",
       "    .dataframe tbody tr th:only-of-type {\n",
       "        vertical-align: middle;\n",
       "    }\n",
       "\n",
       "    .dataframe tbody tr th {\n",
       "        vertical-align: top;\n",
       "    }\n",
       "\n",
       "    .dataframe thead th {\n",
       "        text-align: right;\n",
       "    }\n",
       "</style>\n",
       "<table border=\"1\" class=\"dataframe\">\n",
       "  <thead>\n",
       "    <tr style=\"text-align: right;\">\n",
       "      <th></th>\n",
       "      <th>id</th>\n",
       "      <th>f0</th>\n",
       "      <th>f1</th>\n",
       "      <th>f2</th>\n",
       "      <th>product</th>\n",
       "    </tr>\n",
       "  </thead>\n",
       "  <tbody>\n",
       "    <tr>\n",
       "      <th>0</th>\n",
       "      <td>kBEdx</td>\n",
       "      <td>-15.001348</td>\n",
       "      <td>-8.276000</td>\n",
       "      <td>-0.005876</td>\n",
       "      <td>3.179103</td>\n",
       "    </tr>\n",
       "    <tr>\n",
       "      <th>1</th>\n",
       "      <td>62mP7</td>\n",
       "      <td>14.272088</td>\n",
       "      <td>-3.475083</td>\n",
       "      <td>0.999183</td>\n",
       "      <td>26.953261</td>\n",
       "    </tr>\n",
       "    <tr>\n",
       "      <th>2</th>\n",
       "      <td>vyE1P</td>\n",
       "      <td>6.263187</td>\n",
       "      <td>-5.948386</td>\n",
       "      <td>5.001160</td>\n",
       "      <td>134.766305</td>\n",
       "    </tr>\n",
       "    <tr>\n",
       "      <th>3</th>\n",
       "      <td>KcrkZ</td>\n",
       "      <td>-13.081196</td>\n",
       "      <td>-11.506057</td>\n",
       "      <td>4.999415</td>\n",
       "      <td>137.945408</td>\n",
       "    </tr>\n",
       "    <tr>\n",
       "      <th>4</th>\n",
       "      <td>AHL4O</td>\n",
       "      <td>12.702195</td>\n",
       "      <td>-8.147433</td>\n",
       "      <td>5.004363</td>\n",
       "      <td>134.766305</td>\n",
       "    </tr>\n",
       "  </tbody>\n",
       "</table>\n",
       "</div>"
      ],
      "text/plain": [
       "      id         f0         f1        f2     product\n",
       "0  kBEdx -15.001348  -8.276000 -0.005876    3.179103\n",
       "1  62mP7  14.272088  -3.475083  0.999183   26.953261\n",
       "2  vyE1P   6.263187  -5.948386  5.001160  134.766305\n",
       "3  KcrkZ -13.081196 -11.506057  4.999415  137.945408\n",
       "4  AHL4O  12.702195  -8.147433  5.004363  134.766305"
      ]
     },
     "metadata": {},
     "output_type": "display_data"
    },
    {
     "data": {
      "text/html": [
       "<div>\n",
       "<style scoped>\n",
       "    .dataframe tbody tr th:only-of-type {\n",
       "        vertical-align: middle;\n",
       "    }\n",
       "\n",
       "    .dataframe tbody tr th {\n",
       "        vertical-align: top;\n",
       "    }\n",
       "\n",
       "    .dataframe thead th {\n",
       "        text-align: right;\n",
       "    }\n",
       "</style>\n",
       "<table border=\"1\" class=\"dataframe\">\n",
       "  <thead>\n",
       "    <tr style=\"text-align: right;\">\n",
       "      <th></th>\n",
       "      <th>id</th>\n",
       "      <th>f0</th>\n",
       "      <th>f1</th>\n",
       "      <th>f2</th>\n",
       "      <th>product</th>\n",
       "    </tr>\n",
       "  </thead>\n",
       "  <tbody>\n",
       "    <tr>\n",
       "      <th>0</th>\n",
       "      <td>fwXo0</td>\n",
       "      <td>-1.146987</td>\n",
       "      <td>0.963328</td>\n",
       "      <td>-0.828965</td>\n",
       "      <td>27.758673</td>\n",
       "    </tr>\n",
       "    <tr>\n",
       "      <th>1</th>\n",
       "      <td>WJtFt</td>\n",
       "      <td>0.262778</td>\n",
       "      <td>0.269839</td>\n",
       "      <td>-2.530187</td>\n",
       "      <td>56.069697</td>\n",
       "    </tr>\n",
       "    <tr>\n",
       "      <th>2</th>\n",
       "      <td>ovLUW</td>\n",
       "      <td>0.194587</td>\n",
       "      <td>0.289035</td>\n",
       "      <td>-5.586433</td>\n",
       "      <td>62.871910</td>\n",
       "    </tr>\n",
       "    <tr>\n",
       "      <th>3</th>\n",
       "      <td>q6cA6</td>\n",
       "      <td>2.236060</td>\n",
       "      <td>-0.553760</td>\n",
       "      <td>0.930038</td>\n",
       "      <td>114.572842</td>\n",
       "    </tr>\n",
       "    <tr>\n",
       "      <th>4</th>\n",
       "      <td>WPMUX</td>\n",
       "      <td>-0.515993</td>\n",
       "      <td>1.716266</td>\n",
       "      <td>5.899011</td>\n",
       "      <td>149.600746</td>\n",
       "    </tr>\n",
       "  </tbody>\n",
       "</table>\n",
       "</div>"
      ],
      "text/plain": [
       "      id        f0        f1        f2     product\n",
       "0  fwXo0 -1.146987  0.963328 -0.828965   27.758673\n",
       "1  WJtFt  0.262778  0.269839 -2.530187   56.069697\n",
       "2  ovLUW  0.194587  0.289035 -5.586433   62.871910\n",
       "3  q6cA6  2.236060 -0.553760  0.930038  114.572842\n",
       "4  WPMUX -0.515993  1.716266  5.899011  149.600746"
      ]
     },
     "metadata": {},
     "output_type": "display_data"
    }
   ],
   "source": [
    "display(geo_data_0.head())\n",
    "display(geo_data_1.head())\n",
    "display(geo_data_2.head())"
   ]
  },
  {
   "cell_type": "code",
   "execution_count": 5,
   "id": "23f7a22e",
   "metadata": {},
   "outputs": [
    {
     "name": "stdout",
     "output_type": "stream",
     "text": [
      "<class 'pandas.core.frame.DataFrame'>\n",
      "RangeIndex: 100000 entries, 0 to 99999\n",
      "Data columns (total 5 columns):\n",
      " #   Column   Non-Null Count   Dtype  \n",
      "---  ------   --------------   -----  \n",
      " 0   id       100000 non-null  object \n",
      " 1   f0       100000 non-null  float64\n",
      " 2   f1       100000 non-null  float64\n",
      " 3   f2       100000 non-null  float64\n",
      " 4   product  100000 non-null  float64\n",
      "dtypes: float64(4), object(1)\n",
      "memory usage: 3.8+ MB\n"
     ]
    },
    {
     "data": {
      "text/plain": [
       "None"
      ]
     },
     "metadata": {},
     "output_type": "display_data"
    },
    {
     "name": "stdout",
     "output_type": "stream",
     "text": [
      "<class 'pandas.core.frame.DataFrame'>\n",
      "RangeIndex: 100000 entries, 0 to 99999\n",
      "Data columns (total 5 columns):\n",
      " #   Column   Non-Null Count   Dtype  \n",
      "---  ------   --------------   -----  \n",
      " 0   id       100000 non-null  object \n",
      " 1   f0       100000 non-null  float64\n",
      " 2   f1       100000 non-null  float64\n",
      " 3   f2       100000 non-null  float64\n",
      " 4   product  100000 non-null  float64\n",
      "dtypes: float64(4), object(1)\n",
      "memory usage: 3.8+ MB\n"
     ]
    },
    {
     "data": {
      "text/plain": [
       "None"
      ]
     },
     "metadata": {},
     "output_type": "display_data"
    },
    {
     "name": "stdout",
     "output_type": "stream",
     "text": [
      "<class 'pandas.core.frame.DataFrame'>\n",
      "RangeIndex: 100000 entries, 0 to 99999\n",
      "Data columns (total 5 columns):\n",
      " #   Column   Non-Null Count   Dtype  \n",
      "---  ------   --------------   -----  \n",
      " 0   id       100000 non-null  object \n",
      " 1   f0       100000 non-null  float64\n",
      " 2   f1       100000 non-null  float64\n",
      " 3   f2       100000 non-null  float64\n",
      " 4   product  100000 non-null  float64\n",
      "dtypes: float64(4), object(1)\n",
      "memory usage: 3.8+ MB\n"
     ]
    },
    {
     "data": {
      "text/plain": [
       "None"
      ]
     },
     "metadata": {},
     "output_type": "display_data"
    }
   ],
   "source": [
    "display(geo_data_0.info())\n",
    "display(geo_data_1.info())\n",
    "display(geo_data_2.info())"
   ]
  },
  {
   "cell_type": "code",
   "execution_count": 6,
   "id": "7e374e47",
   "metadata": {},
   "outputs": [
    {
     "data": {
      "text/html": [
       "<div>\n",
       "<style scoped>\n",
       "    .dataframe tbody tr th:only-of-type {\n",
       "        vertical-align: middle;\n",
       "    }\n",
       "\n",
       "    .dataframe tbody tr th {\n",
       "        vertical-align: top;\n",
       "    }\n",
       "\n",
       "    .dataframe thead th {\n",
       "        text-align: right;\n",
       "    }\n",
       "</style>\n",
       "<table border=\"1\" class=\"dataframe\">\n",
       "  <thead>\n",
       "    <tr style=\"text-align: right;\">\n",
       "      <th></th>\n",
       "      <th>f0</th>\n",
       "      <th>f1</th>\n",
       "      <th>f2</th>\n",
       "      <th>product</th>\n",
       "    </tr>\n",
       "  </thead>\n",
       "  <tbody>\n",
       "    <tr>\n",
       "      <th>count</th>\n",
       "      <td>100000.000000</td>\n",
       "      <td>100000.000000</td>\n",
       "      <td>100000.000000</td>\n",
       "      <td>100000.000000</td>\n",
       "    </tr>\n",
       "    <tr>\n",
       "      <th>mean</th>\n",
       "      <td>0.500419</td>\n",
       "      <td>0.250143</td>\n",
       "      <td>2.502647</td>\n",
       "      <td>92.500000</td>\n",
       "    </tr>\n",
       "    <tr>\n",
       "      <th>std</th>\n",
       "      <td>0.871832</td>\n",
       "      <td>0.504433</td>\n",
       "      <td>3.248248</td>\n",
       "      <td>44.288691</td>\n",
       "    </tr>\n",
       "    <tr>\n",
       "      <th>min</th>\n",
       "      <td>-1.408605</td>\n",
       "      <td>-0.848218</td>\n",
       "      <td>-12.088328</td>\n",
       "      <td>0.000000</td>\n",
       "    </tr>\n",
       "    <tr>\n",
       "      <th>25%</th>\n",
       "      <td>-0.072580</td>\n",
       "      <td>-0.200881</td>\n",
       "      <td>0.287748</td>\n",
       "      <td>56.497507</td>\n",
       "    </tr>\n",
       "    <tr>\n",
       "      <th>50%</th>\n",
       "      <td>0.502360</td>\n",
       "      <td>0.250252</td>\n",
       "      <td>2.515969</td>\n",
       "      <td>91.849972</td>\n",
       "    </tr>\n",
       "    <tr>\n",
       "      <th>75%</th>\n",
       "      <td>1.073581</td>\n",
       "      <td>0.700646</td>\n",
       "      <td>4.715088</td>\n",
       "      <td>128.564089</td>\n",
       "    </tr>\n",
       "    <tr>\n",
       "      <th>max</th>\n",
       "      <td>2.362331</td>\n",
       "      <td>1.343769</td>\n",
       "      <td>16.003790</td>\n",
       "      <td>185.364347</td>\n",
       "    </tr>\n",
       "  </tbody>\n",
       "</table>\n",
       "</div>"
      ],
      "text/plain": [
       "                  f0             f1             f2        product\n",
       "count  100000.000000  100000.000000  100000.000000  100000.000000\n",
       "mean        0.500419       0.250143       2.502647      92.500000\n",
       "std         0.871832       0.504433       3.248248      44.288691\n",
       "min        -1.408605      -0.848218     -12.088328       0.000000\n",
       "25%        -0.072580      -0.200881       0.287748      56.497507\n",
       "50%         0.502360       0.250252       2.515969      91.849972\n",
       "75%         1.073581       0.700646       4.715088     128.564089\n",
       "max         2.362331       1.343769      16.003790     185.364347"
      ]
     },
     "metadata": {},
     "output_type": "display_data"
    },
    {
     "data": {
      "text/html": [
       "<div>\n",
       "<style scoped>\n",
       "    .dataframe tbody tr th:only-of-type {\n",
       "        vertical-align: middle;\n",
       "    }\n",
       "\n",
       "    .dataframe tbody tr th {\n",
       "        vertical-align: top;\n",
       "    }\n",
       "\n",
       "    .dataframe thead th {\n",
       "        text-align: right;\n",
       "    }\n",
       "</style>\n",
       "<table border=\"1\" class=\"dataframe\">\n",
       "  <thead>\n",
       "    <tr style=\"text-align: right;\">\n",
       "      <th></th>\n",
       "      <th>f0</th>\n",
       "      <th>f1</th>\n",
       "      <th>f2</th>\n",
       "      <th>product</th>\n",
       "    </tr>\n",
       "  </thead>\n",
       "  <tbody>\n",
       "    <tr>\n",
       "      <th>count</th>\n",
       "      <td>100000.000000</td>\n",
       "      <td>100000.000000</td>\n",
       "      <td>100000.000000</td>\n",
       "      <td>100000.000000</td>\n",
       "    </tr>\n",
       "    <tr>\n",
       "      <th>mean</th>\n",
       "      <td>1.141296</td>\n",
       "      <td>-4.796579</td>\n",
       "      <td>2.494541</td>\n",
       "      <td>68.825000</td>\n",
       "    </tr>\n",
       "    <tr>\n",
       "      <th>std</th>\n",
       "      <td>8.965932</td>\n",
       "      <td>5.119872</td>\n",
       "      <td>1.703572</td>\n",
       "      <td>45.944423</td>\n",
       "    </tr>\n",
       "    <tr>\n",
       "      <th>min</th>\n",
       "      <td>-31.609576</td>\n",
       "      <td>-26.358598</td>\n",
       "      <td>-0.018144</td>\n",
       "      <td>0.000000</td>\n",
       "    </tr>\n",
       "    <tr>\n",
       "      <th>25%</th>\n",
       "      <td>-6.298551</td>\n",
       "      <td>-8.267985</td>\n",
       "      <td>1.000021</td>\n",
       "      <td>26.953261</td>\n",
       "    </tr>\n",
       "    <tr>\n",
       "      <th>50%</th>\n",
       "      <td>1.153055</td>\n",
       "      <td>-4.813172</td>\n",
       "      <td>2.011479</td>\n",
       "      <td>57.085625</td>\n",
       "    </tr>\n",
       "    <tr>\n",
       "      <th>75%</th>\n",
       "      <td>8.621015</td>\n",
       "      <td>-1.332816</td>\n",
       "      <td>3.999904</td>\n",
       "      <td>107.813044</td>\n",
       "    </tr>\n",
       "    <tr>\n",
       "      <th>max</th>\n",
       "      <td>29.421755</td>\n",
       "      <td>18.734063</td>\n",
       "      <td>5.019721</td>\n",
       "      <td>137.945408</td>\n",
       "    </tr>\n",
       "  </tbody>\n",
       "</table>\n",
       "</div>"
      ],
      "text/plain": [
       "                  f0             f1             f2        product\n",
       "count  100000.000000  100000.000000  100000.000000  100000.000000\n",
       "mean        1.141296      -4.796579       2.494541      68.825000\n",
       "std         8.965932       5.119872       1.703572      45.944423\n",
       "min       -31.609576     -26.358598      -0.018144       0.000000\n",
       "25%        -6.298551      -8.267985       1.000021      26.953261\n",
       "50%         1.153055      -4.813172       2.011479      57.085625\n",
       "75%         8.621015      -1.332816       3.999904     107.813044\n",
       "max        29.421755      18.734063       5.019721     137.945408"
      ]
     },
     "metadata": {},
     "output_type": "display_data"
    },
    {
     "data": {
      "text/html": [
       "<div>\n",
       "<style scoped>\n",
       "    .dataframe tbody tr th:only-of-type {\n",
       "        vertical-align: middle;\n",
       "    }\n",
       "\n",
       "    .dataframe tbody tr th {\n",
       "        vertical-align: top;\n",
       "    }\n",
       "\n",
       "    .dataframe thead th {\n",
       "        text-align: right;\n",
       "    }\n",
       "</style>\n",
       "<table border=\"1\" class=\"dataframe\">\n",
       "  <thead>\n",
       "    <tr style=\"text-align: right;\">\n",
       "      <th></th>\n",
       "      <th>f0</th>\n",
       "      <th>f1</th>\n",
       "      <th>f2</th>\n",
       "      <th>product</th>\n",
       "    </tr>\n",
       "  </thead>\n",
       "  <tbody>\n",
       "    <tr>\n",
       "      <th>count</th>\n",
       "      <td>100000.000000</td>\n",
       "      <td>100000.000000</td>\n",
       "      <td>100000.000000</td>\n",
       "      <td>100000.000000</td>\n",
       "    </tr>\n",
       "    <tr>\n",
       "      <th>mean</th>\n",
       "      <td>0.002023</td>\n",
       "      <td>-0.002081</td>\n",
       "      <td>2.495128</td>\n",
       "      <td>95.000000</td>\n",
       "    </tr>\n",
       "    <tr>\n",
       "      <th>std</th>\n",
       "      <td>1.732045</td>\n",
       "      <td>1.730417</td>\n",
       "      <td>3.473445</td>\n",
       "      <td>44.749921</td>\n",
       "    </tr>\n",
       "    <tr>\n",
       "      <th>min</th>\n",
       "      <td>-8.760004</td>\n",
       "      <td>-7.084020</td>\n",
       "      <td>-11.970335</td>\n",
       "      <td>0.000000</td>\n",
       "    </tr>\n",
       "    <tr>\n",
       "      <th>25%</th>\n",
       "      <td>-1.162288</td>\n",
       "      <td>-1.174820</td>\n",
       "      <td>0.130359</td>\n",
       "      <td>59.450441</td>\n",
       "    </tr>\n",
       "    <tr>\n",
       "      <th>50%</th>\n",
       "      <td>0.009424</td>\n",
       "      <td>-0.009482</td>\n",
       "      <td>2.484236</td>\n",
       "      <td>94.925613</td>\n",
       "    </tr>\n",
       "    <tr>\n",
       "      <th>75%</th>\n",
       "      <td>1.158535</td>\n",
       "      <td>1.163678</td>\n",
       "      <td>4.858794</td>\n",
       "      <td>130.595027</td>\n",
       "    </tr>\n",
       "    <tr>\n",
       "      <th>max</th>\n",
       "      <td>7.238262</td>\n",
       "      <td>7.844801</td>\n",
       "      <td>16.739402</td>\n",
       "      <td>190.029838</td>\n",
       "    </tr>\n",
       "  </tbody>\n",
       "</table>\n",
       "</div>"
      ],
      "text/plain": [
       "                  f0             f1             f2        product\n",
       "count  100000.000000  100000.000000  100000.000000  100000.000000\n",
       "mean        0.002023      -0.002081       2.495128      95.000000\n",
       "std         1.732045       1.730417       3.473445      44.749921\n",
       "min        -8.760004      -7.084020     -11.970335       0.000000\n",
       "25%        -1.162288      -1.174820       0.130359      59.450441\n",
       "50%         0.009424      -0.009482       2.484236      94.925613\n",
       "75%         1.158535       1.163678       4.858794     130.595027\n",
       "max         7.238262       7.844801      16.739402     190.029838"
      ]
     },
     "metadata": {},
     "output_type": "display_data"
    }
   ],
   "source": [
    "display(geo_data_0.describe())\n",
    "display(geo_data_1.describe())\n",
    "display(geo_data_2.describe())"
   ]
  },
  {
   "cell_type": "code",
   "execution_count": 7,
   "id": "74255c8e",
   "metadata": {},
   "outputs": [
    {
     "data": {
      "text/plain": [
       "\"geo_data_0 id ['006OJ' '009eY' '00AfQ' ... 'zztWK' 'zzyhQ' 'zzzLH']\""
      ]
     },
     "metadata": {},
     "output_type": "display_data"
    },
    {
     "data": {
      "text/plain": [
       "'geo_data_0 f0 [-1.40860531 -1.35177299 -1.30222711 ...  2.33375269  2.33707957\\n  2.36233081]'"
      ]
     },
     "metadata": {},
     "output_type": "display_data"
    },
    {
     "data": {
      "text/plain": [
       "'geo_data_0 f1 [-0.8482185  -0.84490792 -0.8205609  ...  1.33334561  1.33482762\\n  1.34376933]'"
      ]
     },
     "metadata": {},
     "output_type": "display_data"
    },
    {
     "data": {
      "text/plain": [
       "'geo_data_0 f2 [-12.08832812 -10.13834135 -10.13817115 ...  15.23032159  15.42837187\\n  16.00379001]'"
      ]
     },
     "metadata": {},
     "output_type": "display_data"
    },
    {
     "data": {
      "text/plain": [
       "'geo_data_0 product [0.00000000e+00 4.02152316e-03 6.11363631e-03 ... 1.85355615e+02\\n 1.85362690e+02 1.85364347e+02]'"
      ]
     },
     "metadata": {},
     "output_type": "display_data"
    },
    {
     "data": {
      "text/plain": [
       "\"geo_data_1 id ['006OJ' '009eY' '00AfQ' ... 'zztWK' 'zzyhQ' 'zzzLH']\""
      ]
     },
     "metadata": {},
     "output_type": "display_data"
    },
    {
     "data": {
      "text/plain": [
       "'geo_data_1 f0 [-1.40860531 -1.35177299 -1.30222711 ...  2.33375269  2.33707957\\n  2.36233081]'"
      ]
     },
     "metadata": {},
     "output_type": "display_data"
    },
    {
     "data": {
      "text/plain": [
       "'geo_data_1 f1 [-0.8482185  -0.84490792 -0.8205609  ...  1.33334561  1.33482762\\n  1.34376933]'"
      ]
     },
     "metadata": {},
     "output_type": "display_data"
    },
    {
     "data": {
      "text/plain": [
       "'geo_data_1 f2 [-12.08832812 -10.13834135 -10.13817115 ...  15.23032159  15.42837187\\n  16.00379001]'"
      ]
     },
     "metadata": {},
     "output_type": "display_data"
    },
    {
     "data": {
      "text/plain": [
       "'geo_data_1 product [0.00000000e+00 4.02152316e-03 6.11363631e-03 ... 1.85355615e+02\\n 1.85362690e+02 1.85364347e+02]'"
      ]
     },
     "metadata": {},
     "output_type": "display_data"
    },
    {
     "data": {
      "text/plain": [
       "\"geo_data_2 id ['006OJ' '009eY' '00AfQ' ... 'zztWK' 'zzyhQ' 'zzzLH']\""
      ]
     },
     "metadata": {},
     "output_type": "display_data"
    },
    {
     "data": {
      "text/plain": [
       "'geo_data_2 f0 [-1.40860531 -1.35177299 -1.30222711 ...  2.33375269  2.33707957\\n  2.36233081]'"
      ]
     },
     "metadata": {},
     "output_type": "display_data"
    },
    {
     "data": {
      "text/plain": [
       "'geo_data_2 f1 [-0.8482185  -0.84490792 -0.8205609  ...  1.33334561  1.33482762\\n  1.34376933]'"
      ]
     },
     "metadata": {},
     "output_type": "display_data"
    },
    {
     "data": {
      "text/plain": [
       "'geo_data_2 f2 [-12.08832812 -10.13834135 -10.13817115 ...  15.23032159  15.42837187\\n  16.00379001]'"
      ]
     },
     "metadata": {},
     "output_type": "display_data"
    },
    {
     "data": {
      "text/plain": [
       "'geo_data_2 product [0.00000000e+00 4.02152316e-03 6.11363631e-03 ... 1.85355615e+02\\n 1.85362690e+02 1.85364347e+02]'"
      ]
     },
     "metadata": {},
     "output_type": "display_data"
    }
   ],
   "source": [
    "#Посмотрим на уникальные значения в каждом столбце\n",
    "columns = list(geo_data_0)\n",
    "\n",
    "for i in columns:\n",
    "    display('geo_data_0 {} {}'.format(i, geo_data_0[i].sort_values().unique()))\n",
    "    \n",
    "\n",
    "columns = list(geo_data_1)\n",
    "\n",
    "for i in columns:\n",
    "    display('geo_data_1 {} {}'.format(i, geo_data_0[i].sort_values().unique()))\n",
    "    \n",
    "columns = list(geo_data_2)\n",
    "\n",
    "for i in columns:\n",
    "    display('geo_data_2 {} {}'.format(i, geo_data_0[i].sort_values().unique()))"
   ]
  },
  {
   "cell_type": "markdown",
   "id": "66aa84ff",
   "metadata": {},
   "source": [
    "Решено удалить столбец 'id' из всех датасетов, т.к. для модели он бесполезен."
   ]
  },
  {
   "cell_type": "code",
   "execution_count": 8,
   "id": "0b08b754",
   "metadata": {},
   "outputs": [],
   "source": [
    "geo_data_0 = geo_data_0.drop('id', 1)\n",
    "geo_data_1 = geo_data_1.drop('id', 1)\n",
    "geo_data_2 = geo_data_2.drop('id', 1)"
   ]
  },
  {
   "cell_type": "code",
   "execution_count": 9,
   "id": "a3b7a92f",
   "metadata": {
    "scrolled": true
   },
   "outputs": [
    {
     "data": {
      "text/plain": [
       "Index(['f0', 'f1', 'f2', 'product'], dtype='object')"
      ]
     },
     "metadata": {},
     "output_type": "display_data"
    },
    {
     "data": {
      "text/plain": [
       "Index(['f0', 'f1', 'f2', 'product'], dtype='object')"
      ]
     },
     "metadata": {},
     "output_type": "display_data"
    },
    {
     "data": {
      "text/plain": [
       "Index(['f0', 'f1', 'f2', 'product'], dtype='object')"
      ]
     },
     "metadata": {},
     "output_type": "display_data"
    }
   ],
   "source": [
    "#проверка\n",
    "display(geo_data_0.columns)\n",
    "display(geo_data_1.columns)\n",
    "display(geo_data_2.columns)"
   ]
  },
  {
   "cell_type": "code",
   "execution_count": 10,
   "id": "c0611d3a",
   "metadata": {
    "scrolled": true
   },
   "outputs": [
    {
     "data": {
      "text/html": [
       "<div>\n",
       "<style scoped>\n",
       "    .dataframe tbody tr th:only-of-type {\n",
       "        vertical-align: middle;\n",
       "    }\n",
       "\n",
       "    .dataframe tbody tr th {\n",
       "        vertical-align: top;\n",
       "    }\n",
       "\n",
       "    .dataframe thead th {\n",
       "        text-align: right;\n",
       "    }\n",
       "</style>\n",
       "<table border=\"1\" class=\"dataframe\">\n",
       "  <thead>\n",
       "    <tr style=\"text-align: right;\">\n",
       "      <th></th>\n",
       "      <th>f0</th>\n",
       "      <th>f1</th>\n",
       "      <th>f2</th>\n",
       "      <th>product</th>\n",
       "    </tr>\n",
       "  </thead>\n",
       "  <tbody>\n",
       "    <tr>\n",
       "      <th>f0</th>\n",
       "      <td>1.000000</td>\n",
       "      <td>-0.440723</td>\n",
       "      <td>-0.003153</td>\n",
       "      <td>0.143536</td>\n",
       "    </tr>\n",
       "    <tr>\n",
       "      <th>f1</th>\n",
       "      <td>-0.440723</td>\n",
       "      <td>1.000000</td>\n",
       "      <td>0.001724</td>\n",
       "      <td>-0.192356</td>\n",
       "    </tr>\n",
       "    <tr>\n",
       "      <th>f2</th>\n",
       "      <td>-0.003153</td>\n",
       "      <td>0.001724</td>\n",
       "      <td>1.000000</td>\n",
       "      <td>0.483663</td>\n",
       "    </tr>\n",
       "    <tr>\n",
       "      <th>product</th>\n",
       "      <td>0.143536</td>\n",
       "      <td>-0.192356</td>\n",
       "      <td>0.483663</td>\n",
       "      <td>1.000000</td>\n",
       "    </tr>\n",
       "  </tbody>\n",
       "</table>\n",
       "</div>"
      ],
      "text/plain": [
       "               f0        f1        f2   product\n",
       "f0       1.000000 -0.440723 -0.003153  0.143536\n",
       "f1      -0.440723  1.000000  0.001724 -0.192356\n",
       "f2      -0.003153  0.001724  1.000000  0.483663\n",
       "product  0.143536 -0.192356  0.483663  1.000000"
      ]
     },
     "metadata": {},
     "output_type": "display_data"
    },
    {
     "data": {
      "text/plain": [
       "'\\n'"
      ]
     },
     "metadata": {},
     "output_type": "display_data"
    },
    {
     "data": {
      "text/html": [
       "<div>\n",
       "<style scoped>\n",
       "    .dataframe tbody tr th:only-of-type {\n",
       "        vertical-align: middle;\n",
       "    }\n",
       "\n",
       "    .dataframe tbody tr th {\n",
       "        vertical-align: top;\n",
       "    }\n",
       "\n",
       "    .dataframe thead th {\n",
       "        text-align: right;\n",
       "    }\n",
       "</style>\n",
       "<table border=\"1\" class=\"dataframe\">\n",
       "  <thead>\n",
       "    <tr style=\"text-align: right;\">\n",
       "      <th></th>\n",
       "      <th>f0</th>\n",
       "      <th>f1</th>\n",
       "      <th>f2</th>\n",
       "      <th>product</th>\n",
       "    </tr>\n",
       "  </thead>\n",
       "  <tbody>\n",
       "    <tr>\n",
       "      <th>f0</th>\n",
       "      <td>1.000000</td>\n",
       "      <td>0.182287</td>\n",
       "      <td>-0.001777</td>\n",
       "      <td>-0.030491</td>\n",
       "    </tr>\n",
       "    <tr>\n",
       "      <th>f1</th>\n",
       "      <td>0.182287</td>\n",
       "      <td>1.000000</td>\n",
       "      <td>-0.002595</td>\n",
       "      <td>-0.010155</td>\n",
       "    </tr>\n",
       "    <tr>\n",
       "      <th>f2</th>\n",
       "      <td>-0.001777</td>\n",
       "      <td>-0.002595</td>\n",
       "      <td>1.000000</td>\n",
       "      <td>0.999397</td>\n",
       "    </tr>\n",
       "    <tr>\n",
       "      <th>product</th>\n",
       "      <td>-0.030491</td>\n",
       "      <td>-0.010155</td>\n",
       "      <td>0.999397</td>\n",
       "      <td>1.000000</td>\n",
       "    </tr>\n",
       "  </tbody>\n",
       "</table>\n",
       "</div>"
      ],
      "text/plain": [
       "               f0        f1        f2   product\n",
       "f0       1.000000  0.182287 -0.001777 -0.030491\n",
       "f1       0.182287  1.000000 -0.002595 -0.010155\n",
       "f2      -0.001777 -0.002595  1.000000  0.999397\n",
       "product -0.030491 -0.010155  0.999397  1.000000"
      ]
     },
     "metadata": {},
     "output_type": "display_data"
    },
    {
     "data": {
      "text/plain": [
       "'\\n'"
      ]
     },
     "metadata": {},
     "output_type": "display_data"
    },
    {
     "data": {
      "text/html": [
       "<div>\n",
       "<style scoped>\n",
       "    .dataframe tbody tr th:only-of-type {\n",
       "        vertical-align: middle;\n",
       "    }\n",
       "\n",
       "    .dataframe tbody tr th {\n",
       "        vertical-align: top;\n",
       "    }\n",
       "\n",
       "    .dataframe thead th {\n",
       "        text-align: right;\n",
       "    }\n",
       "</style>\n",
       "<table border=\"1\" class=\"dataframe\">\n",
       "  <thead>\n",
       "    <tr style=\"text-align: right;\">\n",
       "      <th></th>\n",
       "      <th>f0</th>\n",
       "      <th>f1</th>\n",
       "      <th>f2</th>\n",
       "      <th>product</th>\n",
       "    </tr>\n",
       "  </thead>\n",
       "  <tbody>\n",
       "    <tr>\n",
       "      <th>f0</th>\n",
       "      <td>1.000000</td>\n",
       "      <td>0.000528</td>\n",
       "      <td>-0.000448</td>\n",
       "      <td>-0.001987</td>\n",
       "    </tr>\n",
       "    <tr>\n",
       "      <th>f1</th>\n",
       "      <td>0.000528</td>\n",
       "      <td>1.000000</td>\n",
       "      <td>0.000779</td>\n",
       "      <td>-0.001012</td>\n",
       "    </tr>\n",
       "    <tr>\n",
       "      <th>f2</th>\n",
       "      <td>-0.000448</td>\n",
       "      <td>0.000779</td>\n",
       "      <td>1.000000</td>\n",
       "      <td>0.445871</td>\n",
       "    </tr>\n",
       "    <tr>\n",
       "      <th>product</th>\n",
       "      <td>-0.001987</td>\n",
       "      <td>-0.001012</td>\n",
       "      <td>0.445871</td>\n",
       "      <td>1.000000</td>\n",
       "    </tr>\n",
       "  </tbody>\n",
       "</table>\n",
       "</div>"
      ],
      "text/plain": [
       "               f0        f1        f2   product\n",
       "f0       1.000000  0.000528 -0.000448 -0.001987\n",
       "f1       0.000528  1.000000  0.000779 -0.001012\n",
       "f2      -0.000448  0.000779  1.000000  0.445871\n",
       "product -0.001987 -0.001012  0.445871  1.000000"
      ]
     },
     "metadata": {},
     "output_type": "display_data"
    },
    {
     "data": {
      "text/plain": [
       "'\\n'"
      ]
     },
     "metadata": {},
     "output_type": "display_data"
    }
   ],
   "source": [
    "#посмотрим на корреляцию значений признаков в датасетах\n",
    "for data in datasets:\n",
    "    display(data.corr(), '\\n')"
   ]
  },
  {
   "cell_type": "markdown",
   "id": "0ed03854",
   "metadata": {},
   "source": [
    "Во втором датасете (geo_data_1) установлена линейная зависимость между параметром объема запасов скважины и признаком f2."
   ]
  },
  {
   "cell_type": "code",
   "execution_count": 11,
   "id": "2c28da65",
   "metadata": {},
   "outputs": [
    {
     "data": {
      "image/png": "[encoded data removed]",
      "text/plain": [
       "<Figure size 360x360 with 16 Axes>"
      ]
     },
     "metadata": {
      "needs_background": "light"
     },
     "output_type": "display_data"
    },
    {
     "data": {
      "image/png": "[encoded data removed]",
      "text/plain": [
       "<Figure size 360x360 with 16 Axes>"
      ]
     },
     "metadata": {
      "needs_background": "light"
     },
     "output_type": "display_data"
    },
    {
     "data": {
      "image/png": "[encoded data removed]",
      "text/plain": [
       "<Figure size 360x360 with 16 Axes>"
      ]
     },
     "metadata": {
      "needs_background": "light"
     },
     "output_type": "display_data"
    }
   ],
   "source": [
    "for data in datasets:\n",
    "    pd.plotting.scatter_matrix(data, figsize=(5, 5)) "
   ]
  },
  {
   "cell_type": "markdown",
   "id": "555b377d",
   "metadata": {},
   "source": [
    "### Вывод"
   ]
  },
  {
   "cell_type": "markdown",
   "id": "57dbf87f",
   "metadata": {},
   "source": [
    "Загрузили и проверили данные. Критических ошибок при первичном изучении не выявлено. пропущенных значений, прописных букв в названии столбцов нет.\n",
    "\n",
    "Удалили столбец id, т.к. для обучения модели он не представляет значимости.\n",
    "\n",
    "Обнаружили сильную корреляцию между признаком f2 и параметром объема запасов скважины в датасете geo_data_1."
   ]
  },
  {
   "cell_type": "markdown",
   "id": "65e84b95",
   "metadata": {},
   "source": [
    "## Обучение и проверка модели для каждого региона"
   ]
  },
  {
   "cell_type": "markdown",
   "id": "b40d12bf",
   "metadata": {},
   "source": [
    "Обучите и проверьте модель для каждого региона:\n",
    "\n",
    "2.1. Разбейте данные на обучающую и валидационную выборки в соотношении 75:25.\n",
    "\n",
    "2.2. Обучите модель и сделайте предсказания на валидационной выборке.\n",
    "\n",
    "2.3. Сохраните предсказания и правильные ответы на валидационной выборке.\n",
    "\n",
    "2.4. Напечатайте на экране средний запас предсказанного сырья и RMSE модели.\n",
    "\n",
    "2.5. Проанализируйте результаты."
   ]
  },
  {
   "cell_type": "markdown",
   "id": "5b8c5420",
   "metadata": {},
   "source": [
    "Разобьем датасеты на обучающую и валидационную выборки и проведем масштабирование признаков"
   ]
  },
  {
   "cell_type": "code",
   "execution_count": 12,
   "id": "0b9d989a",
   "metadata": {},
   "outputs": [],
   "source": [
    "state = np.random.RandomState(12345)\n",
    "\n",
    "def splitting(region_number): # функция разбивает на тренировочные и валидационные выборки и отделяет целевой признак\n",
    "    train, valid = train_test_split(region_number, test_size=0.25, random_state=state)\n",
    "    features_train = train.drop(columns=['product'], axis=0)\n",
    "    target_train = train['product']\n",
    "    features_valid = valid.drop(columns=['product'], axis=0)\n",
    "    target_valid= valid['product']\n",
    "    return features_train, target_train, features_valid, target_valid"
   ]
  },
  {
   "cell_type": "code",
   "execution_count": 13,
   "id": "f4eb8435",
   "metadata": {},
   "outputs": [],
   "source": [
    "#разделили на обучающую и валидационную выборки\n",
    "features_train_0, target_train_0, features_valid_0, target_valid_0 = splitting(geo_data_0)\n",
    "features_train_1, target_train_1, features_valid_1, target_valid_1 = splitting(geo_data_1)\n",
    "features_train_2, target_train_2, features_valid_2, target_valid_2 = splitting(geo_data_2)"
   ]
  },
  {
   "cell_type": "code",
   "execution_count": 14,
   "id": "7ef19a81",
   "metadata": {},
   "outputs": [],
   "source": [
    "#масштабируем признаки\n",
    "scaler = StandardScaler()\n",
    "scaler.fit(features_train_0)\n",
    "features_train_0 = scaler.transform(features_train_0)\n",
    "features_valid_0 = scaler.transform(features_valid_0)\n",
    "\n",
    "scaler.fit(features_train_1)\n",
    "features_train_1 = scaler.transform(features_train_1)\n",
    "features_valid_1 = scaler.transform(features_valid_1)\n",
    "\n",
    "scaler.fit(features_train_2)\n",
    "features_train_2 = scaler.transform(features_train_2)\n",
    "features_valid_2 = scaler.transform(features_valid_2)\n"
   ]
  },
  {
   "cell_type": "markdown",
   "id": "6c8421aa",
   "metadata": {},
   "source": [
    "Обучим модель на тренировочной выборке"
   ]
  },
  {
   "cell_type": "code",
   "execution_count": 15,
   "id": "405e3235",
   "metadata": {},
   "outputs": [],
   "source": [
    "model = LinearRegression()\n",
    "def learning_and_predicted(features_train, target_train, features_valid, target_valid):# Функция для обучения и прогнозирования\n",
    "    model.fit(features_train, target_train)\n",
    "    predict = pd.Series(model.predict(features_valid), target_valid.index)\n",
    "    return predict"
   ]
  },
  {
   "cell_type": "code",
   "execution_count": 16,
   "id": "8ba05265",
   "metadata": {},
   "outputs": [],
   "source": [
    "#предскажем целевой признак по валидационным выборкам\n",
    "predict_0 = learning_and_predicted(features_train_0, target_train_0, features_valid_0, target_valid_0)\n",
    "predict_1 = learning_and_predicted(features_train_1, target_train_1, features_valid_1, target_valid_1)\n",
    "predict_2 = learning_and_predicted(features_train_2, target_train_2, features_valid_2, target_valid_2)\n"
   ]
  },
  {
   "cell_type": "code",
   "execution_count": 17,
   "id": "5a1490b4",
   "metadata": {
    "scrolled": true
   },
   "outputs": [
    {
     "name": "stdout",
     "output_type": "stream",
     "text": [
      "Регион 0\n",
      "Предсказанный средний запас: 92.59\n",
      "RMSE: 37.58 \n",
      "\n",
      "Регион 1\n",
      "Предсказанный средний запас: 68.77\n",
      "RMSE: 0.89 \n",
      "\n",
      "Регион 2\n",
      "Предсказанный средний запас: 95.09\n",
      "RMSE: 39.96 \n",
      "\n"
     ]
    }
   ],
   "source": [
    "predictions = [predict_0, predict_1, predict_2]\n",
    "targets_valid = [target_valid_0, target_valid_1, target_valid_2]\n",
    "for i in range(len(predictions)):\n",
    "    print('Регион', i)\n",
    "    mse = mean_squared_error(predictions[i], targets_valid[i])\n",
    "    print('Предсказанный средний запас: {:,.2f}'.format(predictions[i].mean()))\n",
    "    print('RMSE: {:,.2f}'.format(mse ** 0.5), '\\n')"
   ]
  },
  {
   "cell_type": "markdown",
   "id": "afe01fef",
   "metadata": {},
   "source": [
    "В нулевом и втором регионе модель достаточно сильно ошибается, зато в регионе 1 (регионе с индексом 1), благодаря сильной зависимости целевого признака от одного из признаков, мы имеем достаточно точные предсказания."
   ]
  },
  {
   "cell_type": "markdown",
   "id": "7dcbc6b6",
   "metadata": {},
   "source": [
    "## Подготовка к расчету прибыли"
   ]
  },
  {
   "cell_type": "markdown",
   "id": "4aecacfc",
   "metadata": {},
   "source": [
    "3.1. Все ключевые значения для расчётов сохраните в отдельных переменных.\n",
    "\n",
    "3.2. Рассчитайте достаточный объём сырья для безубыточной разработки новой скважины. Сравните полученный объём сырья со средним запасом в каждом регионе.\n",
    "\n",
    "3.3. Напишите выводы по этапу подготовки расчёта прибыли."
   ]
  },
  {
   "cell_type": "code",
   "execution_count": 18,
   "id": "c8ee1969",
   "metadata": {},
   "outputs": [
    {
     "name": "stdout",
     "output_type": "stream",
     "text": [
      "Цена одной скважины: 50.00 млн руб.\n",
      "Минимальный объем в скважине, для окупаемости: 111.11 тыс.барр.\n"
     ]
    }
   ],
   "source": [
    "TOTAL_BUDGET = 10e9 # бюджет всего в экспоненциальном формате\n",
    "TOTAL_WELLS = 200 # скважин всего\n",
    "COST_THOUSAND_BARREL = 450e3 # цена за 1000 баррелей в экспоненциальном формате\n",
    "RISK = 0.025 # допустимый риск\n",
    "well_cost = (TOTAL_BUDGET / TOTAL_WELLS) # цена за скважину\n",
    "min_bulk = well_cost/ COST_THOUSAND_BARREL # минимальный объем для окупаемости скважины\n",
    "\n",
    "print('Цена одной скважины: {:.2f} млн руб.'.format(well_cost/1000000))\n",
    "print('Минимальный объем в скважине, для окупаемости: {:.2f} тыс.барр.'.format(min_bulk))"
   ]
  },
  {
   "cell_type": "markdown",
   "id": "2e6aefd6",
   "metadata": {},
   "source": [
    "### Выводы"
   ]
  },
  {
   "cell_type": "markdown",
   "id": "ae0d3dc8",
   "metadata": {},
   "source": [
    "Была подготовлена средняя оценка прибыли за скважину и средний объем на скважину. И создана функция по расчету прибыли.\n",
    "\n",
    "Минимальный объем для окупаемости скважины - 111.11 тыс.бар. \n",
    "\n",
    "Из трех регионов средний объем сырья сопоставим с данным значением в регионе 0 и в регионе 2.\n",
    "\n",
    "Однако максимальные показатели объема запасов из таблиц с описательной статистикой позволяют сделать вывод о наличии в каждом регионе потенциально богатых скважин, способных окупить проект.\n",
    "\n",
    "Инвестиции в 1 скважину == 50 млн руб.\n"
   ]
  },
  {
   "cell_type": "markdown",
   "id": "7610876c",
   "metadata": {},
   "source": [
    "## Напишите функцию для расчёта прибыли по выбранным скважинам и предсказаниям модели"
   ]
  },
  {
   "cell_type": "markdown",
   "id": "e9c3fb76",
   "metadata": {},
   "source": [
    "1. Выберите скважины с максимальными значениями предсказаний.\n",
    "\n",
    "2. Просуммируйте целевое значение объёма сырья, соответствующее этим предсказаниям.\n",
    "\n",
    "3. Рассчитайте прибыль для полученного объёма сырья."
   ]
  },
  {
   "cell_type": "code",
   "execution_count": 19,
   "id": "535bd58d",
   "metadata": {
    "scrolled": true
   },
   "outputs": [
    {
     "name": "stdout",
     "output_type": "stream",
     "text": [
      "Расчетная прибыль для топ-200 скважин региона 0: 3321 млн руб.\n",
      "Расчетная прибыль для топ-200 скважин региона 1: 2415 млн руб.\n",
      "Расчетная прибыль для топ-200 скважин региона 2: 2540 млн руб.\n"
     ]
    }
   ],
   "source": [
    "def get_profit(target, predictions):\n",
    "    preds_sorted = predictions.sort_values(ascending=False)\n",
    "    selected = target[preds_sorted.index][:TOTAL_WELLS]\n",
    "    #print(selected.shape) #проверка\n",
    "    return selected.sum() * COST_THOUSAND_BARREL - TOTAL_BUDGET\n",
    "\n",
    "print ('Расчетная прибыль для топ-200 скважин региона 0: {:.0f} млн руб.'.format(get_profit(target_valid_0, predict_0)/1000000))\n",
    "print ('Расчетная прибыль для топ-200 скважин региона 1: {:.0f} млн руб.'.format(get_profit(target_valid_1, predict_1)/1000000))\n",
    "print ('Расчетная прибыль для топ-200 скважин региона 2: {:.0f} млн руб.'.format(get_profit(target_valid_2, predict_2)/1000000))"
   ]
  },
  {
   "cell_type": "markdown",
   "id": "f5ab6613",
   "metadata": {},
   "source": [
    "## Выводы"
   ]
  },
  {
   "cell_type": "markdown",
   "id": "c486ff12",
   "metadata": {},
   "source": [
    "Мы написали функцию, позволяющую оценить расчетный объем добычи в каждом регионе и соответствующую ему прибыль. Функция работает на основе предсказаний созданной нами модели, считая прибыль по топ-200 из всех возможных скважин региона.\n",
    "\n",
    "Согласно этим предсказаниям, максимальная расчетная прибыль - в регионе 0 == 3,4 млрд руб., минимальная - в регионе 1 == 2,4 млрд руб."
   ]
  },
  {
   "cell_type": "markdown",
   "id": "4f59e343",
   "metadata": {},
   "source": [
    "# Посчитайте риски и прибыль для каждого региона"
   ]
  },
  {
   "cell_type": "markdown",
   "id": "0279363c",
   "metadata": {},
   "source": [
    "1. Примените технику Bootstrap с 1000 выборок, чтобы найти распределение прибыли.\n",
    "\n",
    "2. Найдите среднюю прибыль, 95%-й доверительный интервал и риск убытков. Убыток — это отрицательная прибыль.\n",
    "\n",
    "3. Напишите выводы: предложите регион для разработки скважин и обоснуйте выбор."
   ]
  },
  {
   "cell_type": "code",
   "execution_count": 20,
   "id": "9613e404",
   "metadata": {},
   "outputs": [
    {
     "name": "stdout",
     "output_type": "stream",
     "text": [
      "регион №0\n",
      "Средняя прибыль: 423.89723791690534 млн руб.\n",
      "95% доверительный интервал: от -76.18781389036272 млн руб. до  957.8465319517829 млн руб.\n",
      "Риск убытков: 0.048\n",
      "\n",
      "\n",
      "регион №1\n",
      "Средняя прибыль: 513.2566989172609 млн руб.\n",
      "95% доверительный интервал: от 108.06689523396211 млн руб. до  928.5744392324963 млн руб.\n",
      "Риск убытков: 0.006\n",
      "\n",
      "\n",
      "регион №2\n",
      "Средняя прибыль: 381.12035957590143 млн руб.\n",
      "95% доверительный интервал: от -142.80063008786877 млн руб. до  893.3805657504003 млн руб.\n",
      "Риск убытков: 0.074\n",
      "\n",
      "\n"
     ]
    }
   ],
   "source": [
    "for i in range(len(targets_valid)):\n",
    "    values = []\n",
    "    for _ in range(1000):\n",
    "        target_subsample = targets_valid[i].sample(n=500, replace=True, random_state=state)\n",
    "        pred_subsample = predictions[i][target_subsample.index]\n",
    "        prof=get_profit(target_subsample, pred_subsample)\n",
    "        values.append(prof)\n",
    "                \n",
    "    name = 'регион №' + str(i)    \n",
    "    values=pd.Series(values)\n",
    "    lower=values.quantile(RISK)\n",
    "    upper=values.quantile(0.975)\n",
    "    mean=values.mean()\n",
    "    loss=(values < 0).mean()\n",
    "    print(name)\n",
    "    print('Средняя прибыль:', mean/1000000, 'млн руб.')\n",
    "    print ('95% доверительный интервал: от', lower/1000000, 'млн руб. до ', upper/1000000, 'млн руб.'.format(lower/1000000, ))\n",
    "    print('Риск убытков:', loss )\n",
    "    print('\\n')\n",
    "    "
   ]
  },
  {
   "cell_type": "markdown",
   "id": "c1655156",
   "metadata": {},
   "source": [
    "### Выводы"
   ]
  },
  {
   "cell_type": "markdown",
   "id": "7c3d6140",
   "metadata": {},
   "source": [
    "С помощью техники BOOTSTRAP мы оценили среднюю прибыль от проекта в каждом регионе, на основе 200 лучших скважин из 500 случайно выбранных.\n",
    "\n",
    "Получается, что минимальный риск получить убыток (0,6%) и максимальная средняя прибыль (513 млн руб.) характерны для региона  с индексом 1.\n",
    "\n",
    "С вероятностью 95% прибыль от рееализации проекта будет не ниже 108 млн руб."
   ]
  },
  {
   "cell_type": "markdown",
   "id": "3fdad10b",
   "metadata": {},
   "source": [
    "# Общий вывод"
   ]
  },
  {
   "cell_type": "markdown",
   "id": "7000a4f4",
   "metadata": {},
   "source": [
    "Условиям заказчика отвечает регион под индексом 1.\n",
    "* риск убытков 0.6%.\n",
    "* с вероятностью 95% прибыль от проекта будет не менее 108 млн руб.\n",
    "* средняя предполагаемая прибыль составляет 513 млн руб.\n",
    "* в этом районе есть очень хороший признак, позволяющий нам считать модель предсказания эффективной (RMSE = 0.89)"
   ]
  }
 ],
 "metadata": {
  "ExecuteTimeLog": [
   {
    "duration": 114,
    "start_time": "2022-05-10T14:33:53.503Z"
   },
   {
    "duration": 1938,
    "start_time": "2022-05-10T14:33:53.619Z"
   },
   {
    "duration": 392,
    "start_time": "2022-05-10T14:33:55.560Z"
   },
   {
    "duration": 25,
    "start_time": "2022-05-10T14:33:55.955Z"
   },
   {
    "duration": 76,
    "start_time": "2022-05-10T14:33:55.983Z"
   },
   {
    "duration": 150,
    "start_time": "2022-05-10T14:33:56.061Z"
   },
   {
    "duration": 756,
    "start_time": "2022-05-10T14:33:56.221Z"
   },
   {
    "duration": 10,
    "start_time": "2022-05-10T14:33:56.979Z"
   },
   {
    "duration": 37,
    "start_time": "2022-05-10T14:33:56.991Z"
   },
   {
    "duration": 56,
    "start_time": "2022-05-10T14:33:57.032Z"
   },
   {
    "duration": 16717,
    "start_time": "2022-05-10T14:33:57.090Z"
   },
   {
    "duration": 5,
    "start_time": "2022-05-10T14:34:13.809Z"
   },
   {
    "duration": 58,
    "start_time": "2022-05-10T14:34:13.816Z"
   },
   {
    "duration": 29,
    "start_time": "2022-05-10T14:34:13.876Z"
   },
   {
    "duration": 3,
    "start_time": "2022-05-10T14:34:13.907Z"
   },
   {
    "duration": 234,
    "start_time": "2022-05-10T14:34:13.912Z"
   },
   {
    "duration": 23,
    "start_time": "2022-05-10T14:34:14.229Z"
   },
   {
    "duration": 5,
    "start_time": "2022-05-10T14:34:14.254Z"
   },
   {
    "duration": 23,
    "start_time": "2022-05-10T14:34:14.261Z"
   },
   {
    "duration": 1852,
    "start_time": "2022-05-10T14:34:14.286Z"
   },
   {
    "duration": 110,
    "start_time": "2022-05-10T14:34:58.234Z"
   },
   {
    "duration": 1894,
    "start_time": "2022-05-10T14:34:58.346Z"
   },
   {
    "duration": 405,
    "start_time": "2022-05-10T14:35:00.243Z"
   },
   {
    "duration": 25,
    "start_time": "2022-05-10T14:35:00.650Z"
   },
   {
    "duration": 74,
    "start_time": "2022-05-10T14:35:00.677Z"
   },
   {
    "duration": 158,
    "start_time": "2022-05-10T14:35:00.753Z"
   },
   {
    "duration": 767,
    "start_time": "2022-05-10T14:35:00.913Z"
   },
   {
    "duration": 10,
    "start_time": "2022-05-10T14:35:01.682Z"
   },
   {
    "duration": 43,
    "start_time": "2022-05-10T14:35:01.694Z"
   },
   {
    "duration": 54,
    "start_time": "2022-05-10T14:35:01.741Z"
   },
   {
    "duration": 15946,
    "start_time": "2022-05-10T14:35:01.797Z"
   },
   {
    "duration": 4,
    "start_time": "2022-05-10T14:35:17.746Z"
   },
   {
    "duration": 44,
    "start_time": "2022-05-10T14:35:17.751Z"
   },
   {
    "duration": 174,
    "start_time": "2022-05-10T14:35:17.797Z"
   },
   {
    "duration": 4,
    "start_time": "2022-05-10T14:35:17.973Z"
   },
   {
    "duration": 59,
    "start_time": "2022-05-10T14:35:17.978Z"
   },
   {
    "duration": 93,
    "start_time": "2022-05-10T14:35:18.041Z"
   },
   {
    "duration": 7,
    "start_time": "2022-05-10T14:35:18.137Z"
   },
   {
    "duration": 124,
    "start_time": "2022-05-10T14:35:18.147Z"
   },
   {
    "duration": 8178,
    "start_time": "2022-05-10T14:35:18.273Z"
   },
   {
    "duration": 141,
    "start_time": "2022-05-10T14:41:39.698Z"
   },
   {
    "duration": 1987,
    "start_time": "2022-05-10T14:41:39.841Z"
   },
   {
    "duration": 564,
    "start_time": "2022-05-10T14:41:41.831Z"
   },
   {
    "duration": 45,
    "start_time": "2022-05-10T14:41:42.398Z"
   },
   {
    "duration": 81,
    "start_time": "2022-05-10T14:41:42.447Z"
   },
   {
    "duration": 153,
    "start_time": "2022-05-10T14:41:42.532Z"
   },
   {
    "duration": 770,
    "start_time": "2022-05-10T14:41:42.688Z"
   },
   {
    "duration": 11,
    "start_time": "2022-05-10T14:41:43.460Z"
   },
   {
    "duration": 12,
    "start_time": "2022-05-10T14:41:43.473Z"
   },
   {
    "duration": 87,
    "start_time": "2022-05-10T14:41:43.488Z"
   },
   {
    "duration": 17370,
    "start_time": "2022-05-10T14:41:43.577Z"
   },
   {
    "duration": 4,
    "start_time": "2022-05-10T14:42:00.950Z"
   },
   {
    "duration": 103,
    "start_time": "2022-05-10T14:42:00.956Z"
   },
   {
    "duration": 200,
    "start_time": "2022-05-10T14:42:01.061Z"
   },
   {
    "duration": 5,
    "start_time": "2022-05-10T14:42:01.264Z"
   },
   {
    "duration": 154,
    "start_time": "2022-05-10T14:42:01.271Z"
   },
   {
    "duration": 21,
    "start_time": "2022-05-10T14:42:01.432Z"
   },
   {
    "duration": 8,
    "start_time": "2022-05-10T14:42:01.524Z"
   },
   {
    "duration": 133,
    "start_time": "2022-05-10T14:42:01.536Z"
   },
   {
    "duration": 0,
    "start_time": "2022-05-10T14:42:01.672Z"
   },
   {
    "duration": 33,
    "start_time": "2022-05-10T14:42:47.243Z"
   },
   {
    "duration": 8859,
    "start_time": "2022-05-10T14:44:10.583Z"
   },
   {
    "duration": 87,
    "start_time": "2022-05-10T14:53:04.052Z"
   },
   {
    "duration": 26,
    "start_time": "2022-05-10T14:53:29.696Z"
   },
   {
    "duration": 43,
    "start_time": "2022-05-10T14:54:05.317Z"
   },
   {
    "duration": 32,
    "start_time": "2022-05-10T14:55:51.958Z"
   },
   {
    "duration": 24,
    "start_time": "2022-05-10T14:56:48.880Z"
   },
   {
    "duration": 4,
    "start_time": "2022-05-10T14:57:04.912Z"
   },
   {
    "duration": 11,
    "start_time": "2022-05-10T14:57:20.790Z"
   },
   {
    "duration": 4,
    "start_time": "2022-05-10T14:57:27.679Z"
   },
   {
    "duration": 44,
    "start_time": "2022-05-10T15:04:30.397Z"
   },
   {
    "duration": 6,
    "start_time": "2022-05-10T15:05:17.544Z"
   },
   {
    "duration": 105,
    "start_time": "2022-05-10T15:07:01.099Z"
   },
   {
    "duration": 2389,
    "start_time": "2022-05-10T15:07:01.206Z"
   },
   {
    "duration": 6084,
    "start_time": "2022-05-10T15:07:03.597Z"
   },
   {
    "duration": 27,
    "start_time": "2022-05-10T15:07:09.682Z"
   },
   {
    "duration": 47,
    "start_time": "2022-05-10T15:07:09.724Z"
   },
   {
    "duration": 129,
    "start_time": "2022-05-10T15:07:09.773Z"
   },
   {
    "duration": 979,
    "start_time": "2022-05-10T15:07:09.904Z"
   },
   {
    "duration": 12,
    "start_time": "2022-05-10T15:07:10.885Z"
   },
   {
    "duration": 33,
    "start_time": "2022-05-10T15:07:10.899Z"
   },
   {
    "duration": 46,
    "start_time": "2022-05-10T15:07:10.935Z"
   },
   {
    "duration": 15048,
    "start_time": "2022-05-10T15:07:10.983Z"
   },
   {
    "duration": 5,
    "start_time": "2022-05-10T15:07:26.033Z"
   },
   {
    "duration": 39,
    "start_time": "2022-05-10T15:07:26.040Z"
   },
   {
    "duration": 41,
    "start_time": "2022-05-10T15:07:26.082Z"
   },
   {
    "duration": 4,
    "start_time": "2022-05-10T15:07:26.127Z"
   },
   {
    "duration": 113,
    "start_time": "2022-05-10T15:07:26.133Z"
   },
   {
    "duration": 325,
    "start_time": "2022-05-10T15:07:26.249Z"
   },
   {
    "duration": 13,
    "start_time": "2022-05-10T15:07:26.576Z"
   },
   {
    "duration": 155,
    "start_time": "2022-05-10T15:07:26.590Z"
   },
   {
    "duration": 0,
    "start_time": "2022-05-10T15:07:26.748Z"
   },
   {
    "duration": 110,
    "start_time": "2022-05-10T15:10:29.351Z"
   },
   {
    "duration": 4,
    "start_time": "2022-05-10T15:10:43.955Z"
   },
   {
    "duration": 37,
    "start_time": "2022-05-10T15:24:04.367Z"
   },
   {
    "duration": 13,
    "start_time": "2022-05-10T15:27:56.462Z"
   },
   {
    "duration": 24,
    "start_time": "2022-05-10T15:28:11.285Z"
   },
   {
    "duration": 23,
    "start_time": "2022-05-10T15:28:41.437Z"
   },
   {
    "duration": 32,
    "start_time": "2022-05-10T15:29:22.201Z"
   },
   {
    "duration": 19,
    "start_time": "2022-05-10T15:31:14.004Z"
   },
   {
    "duration": 17,
    "start_time": "2022-05-10T15:31:50.273Z"
   },
   {
    "duration": 17,
    "start_time": "2022-05-10T15:32:25.965Z"
   },
   {
    "duration": 25,
    "start_time": "2022-05-10T15:33:18.983Z"
   },
   {
    "duration": 16,
    "start_time": "2022-05-10T15:33:33.439Z"
   },
   {
    "duration": 18,
    "start_time": "2022-05-10T15:39:22.239Z"
   },
   {
    "duration": 25,
    "start_time": "2022-05-10T15:39:43.666Z"
   },
   {
    "duration": 4,
    "start_time": "2022-05-10T15:40:04.432Z"
   },
   {
    "duration": 26,
    "start_time": "2022-05-10T15:40:22.348Z"
   },
   {
    "duration": 23,
    "start_time": "2022-05-10T15:40:42.226Z"
   },
   {
    "duration": 11,
    "start_time": "2022-05-10T15:46:15.176Z"
   },
   {
    "duration": 125,
    "start_time": "2022-05-10T15:46:22.817Z"
   },
   {
    "duration": 1625,
    "start_time": "2022-05-10T15:46:22.944Z"
   },
   {
    "duration": 4011,
    "start_time": "2022-05-10T15:46:24.570Z"
   },
   {
    "duration": 24,
    "start_time": "2022-05-10T15:46:28.583Z"
   },
   {
    "duration": 47,
    "start_time": "2022-05-10T15:46:28.609Z"
   },
   {
    "duration": 120,
    "start_time": "2022-05-10T15:46:28.658Z"
   },
   {
    "duration": 677,
    "start_time": "2022-05-10T15:46:28.780Z"
   },
   {
    "duration": 10,
    "start_time": "2022-05-10T15:46:29.458Z"
   },
   {
    "duration": 32,
    "start_time": "2022-05-10T15:46:29.470Z"
   },
   {
    "duration": 59,
    "start_time": "2022-05-10T15:46:29.505Z"
   },
   {
    "duration": 14345,
    "start_time": "2022-05-10T15:46:29.566Z"
   },
   {
    "duration": 4,
    "start_time": "2022-05-10T15:46:43.913Z"
   },
   {
    "duration": 40,
    "start_time": "2022-05-10T15:46:43.918Z"
   },
   {
    "duration": 188,
    "start_time": "2022-05-10T15:46:43.959Z"
   },
   {
    "duration": 4,
    "start_time": "2022-05-10T15:46:44.148Z"
   },
   {
    "duration": 79,
    "start_time": "2022-05-10T15:46:44.154Z"
   },
   {
    "duration": 99,
    "start_time": "2022-05-10T15:46:44.324Z"
   },
   {
    "duration": 5,
    "start_time": "2022-05-10T15:46:44.425Z"
   },
   {
    "duration": 21,
    "start_time": "2022-05-10T15:46:44.432Z"
   },
   {
    "duration": 141,
    "start_time": "2022-05-10T15:46:44.455Z"
   },
   {
    "duration": 0,
    "start_time": "2022-05-10T15:46:44.598Z"
   },
   {
    "duration": 113,
    "start_time": "2022-05-10T15:47:08.720Z"
   },
   {
    "duration": 1714,
    "start_time": "2022-05-10T15:47:08.835Z"
   },
   {
    "duration": 404,
    "start_time": "2022-05-10T15:47:10.551Z"
   },
   {
    "duration": 27,
    "start_time": "2022-05-10T15:47:10.958Z"
   },
   {
    "duration": 73,
    "start_time": "2022-05-10T15:47:10.987Z"
   },
   {
    "duration": 130,
    "start_time": "2022-05-10T15:47:11.062Z"
   },
   {
    "duration": 745,
    "start_time": "2022-05-10T15:47:11.194Z"
   },
   {
    "duration": 11,
    "start_time": "2022-05-10T15:47:11.941Z"
   },
   {
    "duration": 11,
    "start_time": "2022-05-10T15:47:11.954Z"
   },
   {
    "duration": 74,
    "start_time": "2022-05-10T15:47:11.968Z"
   },
   {
    "duration": 17315,
    "start_time": "2022-05-10T15:47:12.044Z"
   },
   {
    "duration": 4,
    "start_time": "2022-05-10T15:47:29.362Z"
   },
   {
    "duration": 73,
    "start_time": "2022-05-10T15:47:29.369Z"
   },
   {
    "duration": 224,
    "start_time": "2022-05-10T15:47:29.444Z"
   },
   {
    "duration": 11,
    "start_time": "2022-05-10T15:47:29.670Z"
   },
   {
    "duration": 56,
    "start_time": "2022-05-10T15:47:29.683Z"
   },
   {
    "duration": 101,
    "start_time": "2022-05-10T15:47:29.742Z"
   },
   {
    "duration": 82,
    "start_time": "2022-05-10T15:47:29.846Z"
   },
   {
    "duration": 42,
    "start_time": "2022-05-10T15:47:29.931Z"
   },
   {
    "duration": 178,
    "start_time": "2022-05-10T15:47:29.976Z"
   },
   {
    "duration": 0,
    "start_time": "2022-05-10T15:47:30.156Z"
   },
   {
    "duration": 219,
    "start_time": "2022-05-10T16:01:47.353Z"
   },
   {
    "duration": 4,
    "start_time": "2022-05-10T16:01:54.522Z"
   },
   {
    "duration": 23,
    "start_time": "2022-05-10T16:01:56.614Z"
   },
   {
    "duration": 115,
    "start_time": "2022-05-10T16:04:11.146Z"
   },
   {
    "duration": 1849,
    "start_time": "2022-05-10T16:04:11.264Z"
   },
   {
    "duration": 4063,
    "start_time": "2022-05-10T16:04:13.115Z"
   },
   {
    "duration": 28,
    "start_time": "2022-05-10T16:04:17.180Z"
   },
   {
    "duration": 59,
    "start_time": "2022-05-10T16:04:17.210Z"
   },
   {
    "duration": 140,
    "start_time": "2022-05-10T16:04:17.271Z"
   },
   {
    "duration": 883,
    "start_time": "2022-05-10T16:04:17.422Z"
   },
   {
    "duration": 29,
    "start_time": "2022-05-10T16:04:18.307Z"
   },
   {
    "duration": 11,
    "start_time": "2022-05-10T16:04:18.338Z"
   },
   {
    "duration": 84,
    "start_time": "2022-05-10T16:04:18.355Z"
   },
   {
    "duration": 19354,
    "start_time": "2022-05-10T16:04:18.441Z"
   },
   {
    "duration": 4,
    "start_time": "2022-05-10T16:04:37.797Z"
   },
   {
    "duration": 44,
    "start_time": "2022-05-10T16:04:37.803Z"
   },
   {
    "duration": 181,
    "start_time": "2022-05-10T16:04:37.849Z"
   },
   {
    "duration": 4,
    "start_time": "2022-05-10T16:04:38.033Z"
   },
   {
    "duration": 189,
    "start_time": "2022-05-10T16:04:38.039Z"
   },
   {
    "duration": 94,
    "start_time": "2022-05-10T16:04:38.233Z"
   },
   {
    "duration": 5,
    "start_time": "2022-05-10T16:04:38.331Z"
   },
   {
    "duration": 23,
    "start_time": "2022-05-10T16:04:38.338Z"
   },
   {
    "duration": 3,
    "start_time": "2022-05-10T16:04:38.363Z"
   },
   {
    "duration": 8,
    "start_time": "2022-05-10T16:04:38.368Z"
   },
   {
    "duration": 172,
    "start_time": "2022-05-10T16:04:38.378Z"
   },
   {
    "duration": 0,
    "start_time": "2022-05-10T16:04:38.553Z"
   },
   {
    "duration": 19,
    "start_time": "2022-05-10T16:05:17.479Z"
   },
   {
    "duration": 4,
    "start_time": "2022-05-10T16:05:24.147Z"
   },
   {
    "duration": 21,
    "start_time": "2022-05-10T16:05:26.157Z"
   },
   {
    "duration": 107,
    "start_time": "2022-05-10T16:05:40.734Z"
   },
   {
    "duration": 1775,
    "start_time": "2022-05-10T16:05:40.843Z"
   },
   {
    "duration": 388,
    "start_time": "2022-05-10T16:05:42.620Z"
   },
   {
    "duration": 38,
    "start_time": "2022-05-10T16:05:43.010Z"
   },
   {
    "duration": 43,
    "start_time": "2022-05-10T16:05:43.049Z"
   },
   {
    "duration": 145,
    "start_time": "2022-05-10T16:05:43.094Z"
   },
   {
    "duration": 696,
    "start_time": "2022-05-10T16:05:43.241Z"
   },
   {
    "duration": 14,
    "start_time": "2022-05-10T16:05:43.939Z"
   },
   {
    "duration": 10,
    "start_time": "2022-05-10T16:05:43.955Z"
   },
   {
    "duration": 79,
    "start_time": "2022-05-10T16:05:43.968Z"
   },
   {
    "duration": 16596,
    "start_time": "2022-05-10T16:05:44.048Z"
   },
   {
    "duration": 4,
    "start_time": "2022-05-10T16:06:00.647Z"
   },
   {
    "duration": 54,
    "start_time": "2022-05-10T16:06:00.652Z"
   },
   {
    "duration": 163,
    "start_time": "2022-05-10T16:06:00.708Z"
   },
   {
    "duration": 5,
    "start_time": "2022-05-10T16:06:00.873Z"
   },
   {
    "duration": 151,
    "start_time": "2022-05-10T16:06:00.879Z"
   },
   {
    "duration": 97,
    "start_time": "2022-05-10T16:06:01.032Z"
   },
   {
    "duration": 90,
    "start_time": "2022-05-10T16:06:01.139Z"
   },
   {
    "duration": 30,
    "start_time": "2022-05-10T16:06:01.232Z"
   },
   {
    "duration": 18,
    "start_time": "2022-05-10T16:06:01.264Z"
   },
   {
    "duration": 50,
    "start_time": "2022-05-10T16:06:01.285Z"
   },
   {
    "duration": 168,
    "start_time": "2022-05-10T16:06:01.336Z"
   },
   {
    "duration": 0,
    "start_time": "2022-05-10T16:06:01.506Z"
   },
   {
    "duration": 115,
    "start_time": "2022-05-10T16:17:02.552Z"
   },
   {
    "duration": 1868,
    "start_time": "2022-05-10T16:17:02.669Z"
   },
   {
    "duration": 422,
    "start_time": "2022-05-10T16:17:04.539Z"
   },
   {
    "duration": 24,
    "start_time": "2022-05-10T16:17:04.963Z"
   },
   {
    "duration": 70,
    "start_time": "2022-05-10T16:17:04.989Z"
   },
   {
    "duration": 127,
    "start_time": "2022-05-10T16:17:05.062Z"
   },
   {
    "duration": 768,
    "start_time": "2022-05-10T16:17:05.191Z"
   },
   {
    "duration": 12,
    "start_time": "2022-05-10T16:17:05.961Z"
   },
   {
    "duration": 14,
    "start_time": "2022-05-10T16:17:05.976Z"
   },
   {
    "duration": 73,
    "start_time": "2022-05-10T16:17:05.993Z"
   },
   {
    "duration": 16107,
    "start_time": "2022-05-10T16:17:06.068Z"
   },
   {
    "duration": 6,
    "start_time": "2022-05-10T16:17:22.178Z"
   },
   {
    "duration": 39,
    "start_time": "2022-05-10T16:17:22.186Z"
   },
   {
    "duration": 179,
    "start_time": "2022-05-10T16:17:22.226Z"
   },
   {
    "duration": 16,
    "start_time": "2022-05-10T16:17:22.407Z"
   },
   {
    "duration": 135,
    "start_time": "2022-05-10T16:17:22.426Z"
   },
   {
    "duration": 29,
    "start_time": "2022-05-10T16:17:22.623Z"
   },
   {
    "duration": 76,
    "start_time": "2022-05-10T16:17:22.656Z"
   },
   {
    "duration": 146,
    "start_time": "2022-05-10T16:17:22.738Z"
   },
   {
    "duration": 0,
    "start_time": "2022-05-10T16:17:22.886Z"
   },
   {
    "duration": 0,
    "start_time": "2022-05-10T16:17:22.888Z"
   },
   {
    "duration": 0,
    "start_time": "2022-05-10T16:17:22.890Z"
   },
   {
    "duration": 0,
    "start_time": "2022-05-10T16:17:22.891Z"
   },
   {
    "duration": 20,
    "start_time": "2022-05-10T16:19:33.481Z"
   },
   {
    "duration": 18,
    "start_time": "2022-05-10T16:20:10.257Z"
   },
   {
    "duration": 32,
    "start_time": "2022-05-10T16:23:28.620Z"
   },
   {
    "duration": 26,
    "start_time": "2022-05-10T16:23:54.249Z"
   },
   {
    "duration": 21,
    "start_time": "2022-05-10T16:26:12.906Z"
   },
   {
    "duration": 137,
    "start_time": "2022-05-10T16:27:04.774Z"
   },
   {
    "duration": 1774,
    "start_time": "2022-05-10T16:27:04.913Z"
   },
   {
    "duration": 473,
    "start_time": "2022-05-10T16:27:06.689Z"
   },
   {
    "duration": 26,
    "start_time": "2022-05-10T16:27:07.166Z"
   },
   {
    "duration": 77,
    "start_time": "2022-05-10T16:27:07.194Z"
   },
   {
    "duration": 135,
    "start_time": "2022-05-10T16:27:07.272Z"
   },
   {
    "duration": 872,
    "start_time": "2022-05-10T16:27:07.409Z"
   },
   {
    "duration": 11,
    "start_time": "2022-05-10T16:27:08.283Z"
   },
   {
    "duration": 9,
    "start_time": "2022-05-10T16:27:08.296Z"
   },
   {
    "duration": 77,
    "start_time": "2022-05-10T16:27:08.308Z"
   },
   {
    "duration": 17304,
    "start_time": "2022-05-10T16:27:08.387Z"
   },
   {
    "duration": 5,
    "start_time": "2022-05-10T16:27:25.694Z"
   },
   {
    "duration": 61,
    "start_time": "2022-05-10T16:27:25.701Z"
   },
   {
    "duration": 194,
    "start_time": "2022-05-10T16:27:25.764Z"
   },
   {
    "duration": 3,
    "start_time": "2022-05-10T16:27:25.967Z"
   },
   {
    "duration": 67,
    "start_time": "2022-05-10T16:27:25.972Z"
   },
   {
    "duration": 82,
    "start_time": "2022-05-10T16:27:26.041Z"
   },
   {
    "duration": 5,
    "start_time": "2022-05-10T16:27:26.125Z"
   },
   {
    "duration": 104,
    "start_time": "2022-05-10T16:27:26.133Z"
   },
   {
    "duration": 6,
    "start_time": "2022-05-10T16:27:26.240Z"
   },
   {
    "duration": 10,
    "start_time": "2022-05-10T16:27:26.250Z"
   },
   {
    "duration": 157,
    "start_time": "2022-05-10T16:27:26.262Z"
   },
   {
    "duration": 0,
    "start_time": "2022-05-10T16:27:26.424Z"
   },
   {
    "duration": 123,
    "start_time": "2022-05-10T16:29:27.704Z"
   },
   {
    "duration": 1831,
    "start_time": "2022-05-10T16:29:27.830Z"
   },
   {
    "duration": 502,
    "start_time": "2022-05-10T16:29:29.664Z"
   },
   {
    "duration": 23,
    "start_time": "2022-05-10T16:29:30.169Z"
   },
   {
    "duration": 66,
    "start_time": "2022-05-10T16:29:30.194Z"
   },
   {
    "duration": 124,
    "start_time": "2022-05-10T16:29:30.266Z"
   },
   {
    "duration": 803,
    "start_time": "2022-05-10T16:29:30.392Z"
   },
   {
    "duration": 11,
    "start_time": "2022-05-10T16:29:31.197Z"
   },
   {
    "duration": 11,
    "start_time": "2022-05-10T16:29:31.229Z"
   },
   {
    "duration": 58,
    "start_time": "2022-05-10T16:29:31.243Z"
   },
   {
    "duration": 17377,
    "start_time": "2022-05-10T16:29:31.322Z"
   },
   {
    "duration": 4,
    "start_time": "2022-05-10T16:29:48.701Z"
   },
   {
    "duration": 46,
    "start_time": "2022-05-10T16:29:48.707Z"
   },
   {
    "duration": 172,
    "start_time": "2022-05-10T16:29:48.755Z"
   },
   {
    "duration": 3,
    "start_time": "2022-05-10T16:29:48.930Z"
   },
   {
    "duration": 186,
    "start_time": "2022-05-10T16:29:48.936Z"
   },
   {
    "duration": 30,
    "start_time": "2022-05-10T16:29:49.124Z"
   },
   {
    "duration": 70,
    "start_time": "2022-05-10T16:29:49.161Z"
   },
   {
    "duration": 45,
    "start_time": "2022-05-10T16:29:49.236Z"
   },
   {
    "duration": 2,
    "start_time": "2022-05-10T16:29:49.284Z"
   },
   {
    "duration": 11,
    "start_time": "2022-05-10T16:29:49.288Z"
   },
   {
    "duration": 172,
    "start_time": "2022-05-10T16:29:49.301Z"
   },
   {
    "duration": 0,
    "start_time": "2022-05-10T16:29:49.477Z"
   },
   {
    "duration": 7,
    "start_time": "2022-05-10T16:35:25.257Z"
   },
   {
    "duration": 35,
    "start_time": "2022-05-10T16:35:29.604Z"
   },
   {
    "duration": 121,
    "start_time": "2022-05-10T16:38:15.816Z"
   },
   {
    "duration": 1874,
    "start_time": "2022-05-10T16:38:15.940Z"
   },
   {
    "duration": 478,
    "start_time": "2022-05-10T16:38:17.815Z"
   },
   {
    "duration": 25,
    "start_time": "2022-05-10T16:38:18.296Z"
   },
   {
    "duration": 65,
    "start_time": "2022-05-10T16:38:18.322Z"
   },
   {
    "duration": 140,
    "start_time": "2022-05-10T16:38:18.389Z"
   },
   {
    "duration": 868,
    "start_time": "2022-05-10T16:38:18.531Z"
   },
   {
    "duration": 22,
    "start_time": "2022-05-10T16:38:19.401Z"
   },
   {
    "duration": 9,
    "start_time": "2022-05-10T16:38:19.441Z"
   },
   {
    "duration": 47,
    "start_time": "2022-05-10T16:38:19.454Z"
   },
   {
    "duration": 16864,
    "start_time": "2022-05-10T16:38:19.503Z"
   },
   {
    "duration": 4,
    "start_time": "2022-05-10T16:38:36.369Z"
   },
   {
    "duration": 56,
    "start_time": "2022-05-10T16:38:36.375Z"
   },
   {
    "duration": 203,
    "start_time": "2022-05-10T16:38:36.433Z"
   },
   {
    "duration": 5,
    "start_time": "2022-05-10T16:38:36.638Z"
   },
   {
    "duration": 102,
    "start_time": "2022-05-10T16:38:36.645Z"
   },
   {
    "duration": 96,
    "start_time": "2022-05-10T16:38:36.752Z"
   },
   {
    "duration": 18,
    "start_time": "2022-05-10T16:38:36.924Z"
   },
   {
    "duration": 4,
    "start_time": "2022-05-10T16:38:36.956Z"
   },
   {
    "duration": 158,
    "start_time": "2022-05-10T16:38:36.962Z"
   },
   {
    "duration": 0,
    "start_time": "2022-05-10T16:38:37.122Z"
   },
   {
    "duration": 0,
    "start_time": "2022-05-10T16:38:37.124Z"
   },
   {
    "duration": 0,
    "start_time": "2022-05-10T16:38:37.125Z"
   },
   {
    "duration": 4,
    "start_time": "2022-05-10T16:41:17.371Z"
   },
   {
    "duration": 119,
    "start_time": "2022-05-10T16:41:38.276Z"
   },
   {
    "duration": 1764,
    "start_time": "2022-05-10T16:41:38.396Z"
   },
   {
    "duration": 488,
    "start_time": "2022-05-10T16:41:40.163Z"
   },
   {
    "duration": 27,
    "start_time": "2022-05-10T16:41:40.653Z"
   },
   {
    "duration": 63,
    "start_time": "2022-05-10T16:41:40.681Z"
   },
   {
    "duration": 131,
    "start_time": "2022-05-10T16:41:40.746Z"
   },
   {
    "duration": 802,
    "start_time": "2022-05-10T16:41:40.879Z"
   },
   {
    "duration": 10,
    "start_time": "2022-05-10T16:41:41.684Z"
   },
   {
    "duration": 24,
    "start_time": "2022-05-10T16:41:41.696Z"
   },
   {
    "duration": 65,
    "start_time": "2022-05-10T16:41:41.723Z"
   },
   {
    "duration": 16418,
    "start_time": "2022-05-10T16:41:41.789Z"
   },
   {
    "duration": 4,
    "start_time": "2022-05-10T16:41:58.209Z"
   },
   {
    "duration": 49,
    "start_time": "2022-05-10T16:41:58.215Z"
   },
   {
    "duration": 189,
    "start_time": "2022-05-10T16:41:58.266Z"
   },
   {
    "duration": 6,
    "start_time": "2022-05-10T16:41:58.457Z"
   },
   {
    "duration": 85,
    "start_time": "2022-05-10T16:41:58.464Z"
   },
   {
    "duration": 88,
    "start_time": "2022-05-10T16:41:58.557Z"
   },
   {
    "duration": 78,
    "start_time": "2022-05-10T16:41:58.651Z"
   },
   {
    "duration": 6,
    "start_time": "2022-05-10T16:41:58.736Z"
   },
   {
    "duration": 13,
    "start_time": "2022-05-10T16:41:58.750Z"
   },
   {
    "duration": 4,
    "start_time": "2022-05-10T16:41:58.765Z"
   },
   {
    "duration": 8,
    "start_time": "2022-05-10T16:41:58.771Z"
   },
   {
    "duration": 134,
    "start_time": "2022-05-10T16:41:58.781Z"
   },
   {
    "duration": 0,
    "start_time": "2022-05-10T16:41:58.917Z"
   },
   {
    "duration": 118,
    "start_time": "2022-05-10T16:43:43.794Z"
   },
   {
    "duration": 1859,
    "start_time": "2022-05-10T16:43:43.914Z"
   },
   {
    "duration": 445,
    "start_time": "2022-05-10T16:43:45.775Z"
   },
   {
    "duration": 34,
    "start_time": "2022-05-10T16:43:46.222Z"
   },
   {
    "duration": 101,
    "start_time": "2022-05-10T16:43:46.258Z"
   },
   {
    "duration": 122,
    "start_time": "2022-05-10T16:43:46.367Z"
   },
   {
    "duration": 708,
    "start_time": "2022-05-10T16:43:46.491Z"
   },
   {
    "duration": 29,
    "start_time": "2022-05-10T16:43:47.201Z"
   },
   {
    "duration": 22,
    "start_time": "2022-05-10T16:43:47.234Z"
   },
   {
    "duration": 56,
    "start_time": "2022-05-10T16:43:47.259Z"
   },
   {
    "duration": 16666,
    "start_time": "2022-05-10T16:43:47.317Z"
   },
   {
    "duration": 5,
    "start_time": "2022-05-10T16:44:03.986Z"
   },
   {
    "duration": 65,
    "start_time": "2022-05-10T16:44:03.993Z"
   },
   {
    "duration": 202,
    "start_time": "2022-05-10T16:44:04.060Z"
   },
   {
    "duration": 4,
    "start_time": "2022-05-10T16:44:04.265Z"
   },
   {
    "duration": 82,
    "start_time": "2022-05-10T16:44:04.271Z"
   },
   {
    "duration": 25,
    "start_time": "2022-05-10T16:44:04.424Z"
   },
   {
    "duration": 71,
    "start_time": "2022-05-10T16:44:04.454Z"
   },
   {
    "duration": 6,
    "start_time": "2022-05-10T16:44:04.532Z"
   },
   {
    "duration": 10,
    "start_time": "2022-05-10T16:44:04.543Z"
   },
   {
    "duration": 5,
    "start_time": "2022-05-10T16:44:04.558Z"
   },
   {
    "duration": 5,
    "start_time": "2022-05-10T16:44:04.565Z"
   },
   {
    "duration": 171,
    "start_time": "2022-05-10T16:44:04.571Z"
   },
   {
    "duration": 0,
    "start_time": "2022-05-10T16:44:04.745Z"
   },
   {
    "duration": 18,
    "start_time": "2022-05-10T16:44:32.635Z"
   },
   {
    "duration": 9,
    "start_time": "2022-05-10T16:44:47.477Z"
   },
   {
    "duration": 5,
    "start_time": "2022-05-10T16:44:55.311Z"
   },
   {
    "duration": 23,
    "start_time": "2022-05-10T16:44:57.849Z"
   },
   {
    "duration": 436,
    "start_time": "2022-05-10T16:45:07.834Z"
   },
   {
    "duration": 2671,
    "start_time": "2022-05-10T16:45:08.272Z"
   },
   {
    "duration": 463,
    "start_time": "2022-05-10T16:45:10.945Z"
   },
   {
    "duration": 48,
    "start_time": "2022-05-10T16:45:11.410Z"
   },
   {
    "duration": 46,
    "start_time": "2022-05-10T16:45:11.462Z"
   },
   {
    "duration": 129,
    "start_time": "2022-05-10T16:45:11.526Z"
   },
   {
    "duration": 819,
    "start_time": "2022-05-10T16:45:11.660Z"
   },
   {
    "duration": 11,
    "start_time": "2022-05-10T16:45:12.481Z"
   },
   {
    "duration": 10,
    "start_time": "2022-05-10T16:45:12.494Z"
   },
   {
    "duration": 56,
    "start_time": "2022-05-10T16:45:12.525Z"
   },
   {
    "duration": 16696,
    "start_time": "2022-05-10T16:45:12.583Z"
   },
   {
    "duration": 4,
    "start_time": "2022-05-10T16:45:29.281Z"
   },
   {
    "duration": 50,
    "start_time": "2022-05-10T16:45:29.287Z"
   },
   {
    "duration": 170,
    "start_time": "2022-05-10T16:45:29.340Z"
   },
   {
    "duration": 18,
    "start_time": "2022-05-10T16:45:29.512Z"
   },
   {
    "duration": 103,
    "start_time": "2022-05-10T16:45:29.532Z"
   },
   {
    "duration": 93,
    "start_time": "2022-05-10T16:45:29.637Z"
   },
   {
    "duration": 9,
    "start_time": "2022-05-10T16:45:29.732Z"
   },
   {
    "duration": 5,
    "start_time": "2022-05-10T16:45:29.744Z"
   },
   {
    "duration": 79,
    "start_time": "2022-05-10T16:45:29.753Z"
   },
   {
    "duration": 4,
    "start_time": "2022-05-10T16:45:29.840Z"
   },
   {
    "duration": 9,
    "start_time": "2022-05-10T16:45:29.846Z"
   },
   {
    "duration": 148,
    "start_time": "2022-05-10T16:45:29.859Z"
   },
   {
    "duration": 0,
    "start_time": "2022-05-10T16:45:30.009Z"
   },
   {
    "duration": 26,
    "start_time": "2022-05-10T16:47:13.094Z"
   },
   {
    "duration": 112,
    "start_time": "2022-05-10T16:47:23.714Z"
   },
   {
    "duration": 1825,
    "start_time": "2022-05-10T16:47:23.829Z"
   },
   {
    "duration": 442,
    "start_time": "2022-05-10T16:47:25.658Z"
   },
   {
    "duration": 34,
    "start_time": "2022-05-10T16:47:26.103Z"
   },
   {
    "duration": 54,
    "start_time": "2022-05-10T16:47:26.140Z"
   },
   {
    "duration": 148,
    "start_time": "2022-05-10T16:47:26.196Z"
   },
   {
    "duration": 785,
    "start_time": "2022-05-10T16:47:26.347Z"
   },
   {
    "duration": 13,
    "start_time": "2022-05-10T16:47:27.134Z"
   },
   {
    "duration": 15,
    "start_time": "2022-05-10T16:47:27.149Z"
   },
   {
    "duration": 70,
    "start_time": "2022-05-10T16:47:27.168Z"
   },
   {
    "duration": 16075,
    "start_time": "2022-05-10T16:47:27.240Z"
   },
   {
    "duration": 5,
    "start_time": "2022-05-10T16:47:43.317Z"
   },
   {
    "duration": 59,
    "start_time": "2022-05-10T16:47:43.327Z"
   },
   {
    "duration": 193,
    "start_time": "2022-05-10T16:47:43.388Z"
   },
   {
    "duration": 4,
    "start_time": "2022-05-10T16:47:43.583Z"
   },
   {
    "duration": 56,
    "start_time": "2022-05-10T16:47:43.589Z"
   },
   {
    "duration": 29,
    "start_time": "2022-05-10T16:47:43.725Z"
   },
   {
    "duration": 68,
    "start_time": "2022-05-10T16:47:43.756Z"
   },
   {
    "duration": 10,
    "start_time": "2022-05-10T16:47:43.827Z"
   },
   {
    "duration": 4,
    "start_time": "2022-05-10T16:47:43.839Z"
   },
   {
    "duration": 163,
    "start_time": "2022-05-10T16:47:43.845Z"
   },
   {
    "duration": 0,
    "start_time": "2022-05-10T16:47:44.010Z"
   },
   {
    "duration": 0,
    "start_time": "2022-05-10T16:47:44.011Z"
   },
   {
    "duration": 0,
    "start_time": "2022-05-10T16:47:44.013Z"
   },
   {
    "duration": 17,
    "start_time": "2022-05-10T16:48:36.521Z"
   },
   {
    "duration": 4,
    "start_time": "2022-05-10T16:48:43.105Z"
   },
   {
    "duration": 21,
    "start_time": "2022-05-10T16:48:44.695Z"
   },
   {
    "duration": 18,
    "start_time": "2022-05-10T16:49:23.732Z"
   },
   {
    "duration": 31,
    "start_time": "2022-05-10T16:49:47.618Z"
   },
   {
    "duration": 12,
    "start_time": "2022-05-10T16:49:55.805Z"
   },
   {
    "duration": 11,
    "start_time": "2022-05-10T16:50:25.499Z"
   },
   {
    "duration": 5,
    "start_time": "2022-05-10T16:51:06.673Z"
   },
   {
    "duration": 22,
    "start_time": "2022-05-10T16:51:09.183Z"
   },
   {
    "duration": 10,
    "start_time": "2022-05-10T16:51:47.170Z"
   },
   {
    "duration": 4,
    "start_time": "2022-05-10T16:51:50.489Z"
   },
   {
    "duration": 26,
    "start_time": "2022-05-10T16:51:52.215Z"
   },
   {
    "duration": 121,
    "start_time": "2022-05-10T16:51:57.655Z"
   },
   {
    "duration": 1722,
    "start_time": "2022-05-10T16:51:57.779Z"
   },
   {
    "duration": 430,
    "start_time": "2022-05-10T16:51:59.503Z"
   },
   {
    "duration": 27,
    "start_time": "2022-05-10T16:51:59.936Z"
   },
   {
    "duration": 80,
    "start_time": "2022-05-10T16:51:59.965Z"
   },
   {
    "duration": 128,
    "start_time": "2022-05-10T16:52:00.047Z"
   },
   {
    "duration": 748,
    "start_time": "2022-05-10T16:52:00.177Z"
   },
   {
    "duration": 22,
    "start_time": "2022-05-10T16:52:00.926Z"
   },
   {
    "duration": 27,
    "start_time": "2022-05-10T16:52:00.951Z"
   },
   {
    "duration": 70,
    "start_time": "2022-05-10T16:52:00.980Z"
   },
   {
    "duration": 15659,
    "start_time": "2022-05-10T16:52:01.052Z"
   },
   {
    "duration": 5,
    "start_time": "2022-05-10T16:52:16.713Z"
   },
   {
    "duration": 51,
    "start_time": "2022-05-10T16:52:16.720Z"
   },
   {
    "duration": 195,
    "start_time": "2022-05-10T16:52:16.773Z"
   },
   {
    "duration": 3,
    "start_time": "2022-05-10T16:52:16.970Z"
   },
   {
    "duration": 70,
    "start_time": "2022-05-10T16:52:16.975Z"
   },
   {
    "duration": 93,
    "start_time": "2022-05-10T16:52:17.054Z"
   },
   {
    "duration": 74,
    "start_time": "2022-05-10T16:52:17.151Z"
   },
   {
    "duration": 6,
    "start_time": "2022-05-10T16:52:17.227Z"
   },
   {
    "duration": 3,
    "start_time": "2022-05-10T16:52:17.235Z"
   },
   {
    "duration": 20,
    "start_time": "2022-05-10T16:52:17.240Z"
   },
   {
    "duration": 5,
    "start_time": "2022-05-10T16:52:17.262Z"
   },
   {
    "duration": 161,
    "start_time": "2022-05-10T16:52:17.268Z"
   },
   {
    "duration": 0,
    "start_time": "2022-05-10T16:52:17.431Z"
   },
   {
    "duration": 300,
    "start_time": "2022-05-10T16:54:16.513Z"
   },
   {
    "duration": 25,
    "start_time": "2022-05-10T16:54:18.947Z"
   },
   {
    "duration": 12,
    "start_time": "2022-05-10T16:55:00.225Z"
   },
   {
    "duration": 16,
    "start_time": "2022-05-10T16:55:02.075Z"
   },
   {
    "duration": 155,
    "start_time": "2022-05-10T16:55:15.647Z"
   },
   {
    "duration": 2222,
    "start_time": "2022-05-10T16:55:15.805Z"
   },
   {
    "duration": 465,
    "start_time": "2022-05-10T16:55:18.034Z"
   },
   {
    "duration": 31,
    "start_time": "2022-05-10T16:55:18.500Z"
   },
   {
    "duration": 57,
    "start_time": "2022-05-10T16:55:18.533Z"
   },
   {
    "duration": 155,
    "start_time": "2022-05-10T16:55:18.592Z"
   },
   {
    "duration": 884,
    "start_time": "2022-05-10T16:55:18.749Z"
   },
   {
    "duration": 15,
    "start_time": "2022-05-10T16:55:19.636Z"
   },
   {
    "duration": 9,
    "start_time": "2022-05-10T16:55:19.657Z"
   },
   {
    "duration": 85,
    "start_time": "2022-05-10T16:55:19.668Z"
   },
   {
    "duration": 16544,
    "start_time": "2022-05-10T16:55:19.755Z"
   },
   {
    "duration": 5,
    "start_time": "2022-05-10T16:55:36.301Z"
   },
   {
    "duration": 56,
    "start_time": "2022-05-10T16:55:36.308Z"
   },
   {
    "duration": 198,
    "start_time": "2022-05-10T16:55:36.366Z"
   },
   {
    "duration": 4,
    "start_time": "2022-05-10T16:55:36.566Z"
   },
   {
    "duration": 174,
    "start_time": "2022-05-10T16:55:36.571Z"
   },
   {
    "duration": 99,
    "start_time": "2022-05-10T16:55:36.750Z"
   },
   {
    "duration": 73,
    "start_time": "2022-05-10T16:55:36.852Z"
   },
   {
    "duration": 6,
    "start_time": "2022-05-10T16:55:36.928Z"
   },
   {
    "duration": 2,
    "start_time": "2022-05-10T16:55:36.939Z"
   },
   {
    "duration": 21,
    "start_time": "2022-05-10T16:55:36.943Z"
   },
   {
    "duration": 4,
    "start_time": "2022-05-10T16:55:36.966Z"
   },
   {
    "duration": 131,
    "start_time": "2022-05-10T16:55:36.972Z"
   },
   {
    "duration": 0,
    "start_time": "2022-05-10T16:55:37.105Z"
   },
   {
    "duration": 5,
    "start_time": "2022-05-10T16:56:01.511Z"
   },
   {
    "duration": 16,
    "start_time": "2022-05-10T16:56:02.793Z"
   },
   {
    "duration": 6,
    "start_time": "2022-05-10T16:56:32.020Z"
   },
   {
    "duration": 22,
    "start_time": "2022-05-10T16:56:33.660Z"
   },
   {
    "duration": 4,
    "start_time": "2022-05-10T16:57:25.578Z"
   },
   {
    "duration": 5,
    "start_time": "2022-05-10T16:57:34.915Z"
   },
   {
    "duration": 20,
    "start_time": "2022-05-10T16:57:36.217Z"
   },
   {
    "duration": 5,
    "start_time": "2022-05-10T16:57:47.957Z"
   },
   {
    "duration": 2282,
    "start_time": "2022-05-10T16:57:50.529Z"
   },
   {
    "duration": 4,
    "start_time": "2022-05-10T16:58:30.364Z"
   },
   {
    "duration": 2356,
    "start_time": "2022-05-10T16:58:33.445Z"
   },
   {
    "duration": 123,
    "start_time": "2022-05-10T16:59:16.965Z"
   },
   {
    "duration": 1966,
    "start_time": "2022-05-10T16:59:17.090Z"
   },
   {
    "duration": 473,
    "start_time": "2022-05-10T16:59:19.059Z"
   },
   {
    "duration": 38,
    "start_time": "2022-05-10T16:59:19.550Z"
   },
   {
    "duration": 56,
    "start_time": "2022-05-10T16:59:19.590Z"
   },
   {
    "duration": 142,
    "start_time": "2022-05-10T16:59:19.649Z"
   },
   {
    "duration": 893,
    "start_time": "2022-05-10T16:59:19.793Z"
   },
   {
    "duration": 12,
    "start_time": "2022-05-10T16:59:20.687Z"
   },
   {
    "duration": 32,
    "start_time": "2022-05-10T16:59:20.701Z"
   },
   {
    "duration": 58,
    "start_time": "2022-05-10T16:59:20.736Z"
   },
   {
    "duration": 15812,
    "start_time": "2022-05-10T16:59:20.823Z"
   },
   {
    "duration": 12,
    "start_time": "2022-05-10T16:59:36.638Z"
   },
   {
    "duration": 35,
    "start_time": "2022-05-10T16:59:36.653Z"
   },
   {
    "duration": 200,
    "start_time": "2022-05-10T16:59:36.690Z"
   },
   {
    "duration": 3,
    "start_time": "2022-05-10T16:59:36.892Z"
   },
   {
    "duration": 230,
    "start_time": "2022-05-10T16:59:36.897Z"
   },
   {
    "duration": 95,
    "start_time": "2022-05-10T16:59:37.131Z"
   },
   {
    "duration": 6,
    "start_time": "2022-05-10T16:59:37.227Z"
   },
   {
    "duration": 7,
    "start_time": "2022-05-10T16:59:37.236Z"
   },
   {
    "duration": 11,
    "start_time": "2022-05-10T16:59:37.245Z"
   },
   {
    "duration": 11,
    "start_time": "2022-05-10T16:59:37.258Z"
   },
   {
    "duration": 5,
    "start_time": "2022-05-10T16:59:37.270Z"
   },
   {
    "duration": 2515,
    "start_time": "2022-05-10T16:59:37.276Z"
   },
   {
    "duration": 244,
    "start_time": "2022-05-10T16:59:39.793Z"
   },
   {
    "duration": 41,
    "start_time": "2022-05-10T17:00:04.450Z"
   },
   {
    "duration": 2284,
    "start_time": "2022-05-10T17:00:12.184Z"
   },
   {
    "duration": 111,
    "start_time": "2022-05-10T17:00:38.390Z"
   },
   {
    "duration": 1865,
    "start_time": "2022-05-10T17:00:38.503Z"
   },
   {
    "duration": 439,
    "start_time": "2022-05-10T17:00:40.370Z"
   },
   {
    "duration": 35,
    "start_time": "2022-05-10T17:00:40.811Z"
   },
   {
    "duration": 42,
    "start_time": "2022-05-10T17:00:40.847Z"
   },
   {
    "duration": 143,
    "start_time": "2022-05-10T17:00:40.891Z"
   },
   {
    "duration": 754,
    "start_time": "2022-05-10T17:00:41.036Z"
   },
   {
    "duration": 11,
    "start_time": "2022-05-10T17:00:41.792Z"
   },
   {
    "duration": 43,
    "start_time": "2022-05-10T17:00:41.805Z"
   },
   {
    "duration": 59,
    "start_time": "2022-05-10T17:00:41.852Z"
   },
   {
    "duration": 15394,
    "start_time": "2022-05-10T17:00:41.913Z"
   },
   {
    "duration": 5,
    "start_time": "2022-05-10T17:00:57.309Z"
   },
   {
    "duration": 66,
    "start_time": "2022-05-10T17:00:57.317Z"
   },
   {
    "duration": 220,
    "start_time": "2022-05-10T17:00:57.385Z"
   },
   {
    "duration": 20,
    "start_time": "2022-05-10T17:00:57.607Z"
   },
   {
    "duration": 116,
    "start_time": "2022-05-10T17:00:57.630Z"
   },
   {
    "duration": 84,
    "start_time": "2022-05-10T17:00:57.755Z"
   },
   {
    "duration": 8,
    "start_time": "2022-05-10T17:00:57.842Z"
   },
   {
    "duration": 102,
    "start_time": "2022-05-10T17:00:57.853Z"
   },
   {
    "duration": 21,
    "start_time": "2022-05-10T17:00:57.957Z"
   },
   {
    "duration": 30,
    "start_time": "2022-05-10T17:00:57.981Z"
   },
   {
    "duration": 13,
    "start_time": "2022-05-10T17:00:58.013Z"
   },
   {
    "duration": 1666,
    "start_time": "2022-05-10T17:00:58.029Z"
   },
   {
    "duration": 1339,
    "start_time": "2022-05-10T17:00:59.697Z"
   },
   {
    "duration": 5,
    "start_time": "2022-05-10T17:02:01.788Z"
   },
   {
    "duration": 1413,
    "start_time": "2022-05-10T17:02:02.766Z"
   },
   {
    "duration": 8,
    "start_time": "2022-05-10T17:04:20.211Z"
   },
   {
    "duration": 1446,
    "start_time": "2022-05-10T17:04:22.599Z"
   },
   {
    "duration": 109,
    "start_time": "2022-05-10T17:05:51.907Z"
   },
   {
    "duration": 1852,
    "start_time": "2022-05-10T17:05:52.018Z"
   },
   {
    "duration": 424,
    "start_time": "2022-05-10T17:05:53.872Z"
   },
   {
    "duration": 31,
    "start_time": "2022-05-10T17:05:54.298Z"
   },
   {
    "duration": 52,
    "start_time": "2022-05-10T17:05:54.331Z"
   },
   {
    "duration": 121,
    "start_time": "2022-05-10T17:05:54.385Z"
   },
   {
    "duration": 723,
    "start_time": "2022-05-10T17:05:54.507Z"
   },
   {
    "duration": 15,
    "start_time": "2022-05-10T17:05:55.232Z"
   },
   {
    "duration": 8,
    "start_time": "2022-05-10T17:05:55.250Z"
   },
   {
    "duration": 71,
    "start_time": "2022-05-10T17:05:55.260Z"
   },
   {
    "duration": 15262,
    "start_time": "2022-05-10T17:05:55.333Z"
   },
   {
    "duration": 4,
    "start_time": "2022-05-10T17:06:10.598Z"
   },
   {
    "duration": 56,
    "start_time": "2022-05-10T17:06:10.604Z"
   },
   {
    "duration": 217,
    "start_time": "2022-05-10T17:06:10.662Z"
   },
   {
    "duration": 3,
    "start_time": "2022-05-10T17:06:10.881Z"
   },
   {
    "duration": 52,
    "start_time": "2022-05-10T17:06:10.886Z"
   },
   {
    "duration": 184,
    "start_time": "2022-05-10T17:06:10.942Z"
   },
   {
    "duration": 7,
    "start_time": "2022-05-10T17:06:11.134Z"
   },
   {
    "duration": 27,
    "start_time": "2022-05-10T17:06:11.147Z"
   },
   {
    "duration": 19,
    "start_time": "2022-05-10T17:06:11.176Z"
   },
   {
    "duration": 43,
    "start_time": "2022-05-10T17:06:11.197Z"
   },
   {
    "duration": 8,
    "start_time": "2022-05-10T17:06:11.243Z"
   },
   {
    "duration": 1442,
    "start_time": "2022-05-10T17:06:11.253Z"
   },
   {
    "duration": 3,
    "start_time": "2022-05-10T17:06:12.697Z"
   },
   {
    "duration": 8,
    "start_time": "2022-05-10T17:06:42.178Z"
   },
   {
    "duration": 5,
    "start_time": "2022-05-10T17:06:46.477Z"
   },
   {
    "duration": 1547,
    "start_time": "2022-05-10T17:06:48.352Z"
   },
   {
    "duration": 60,
    "start_time": "2022-05-10T19:28:56.064Z"
   },
   {
    "duration": 1569,
    "start_time": "2022-05-10T19:28:56.126Z"
   },
   {
    "duration": 805,
    "start_time": "2022-05-10T19:28:57.697Z"
   },
   {
    "duration": 26,
    "start_time": "2022-05-10T19:28:58.505Z"
   },
   {
    "duration": 60,
    "start_time": "2022-05-10T19:28:58.533Z"
   },
   {
    "duration": 124,
    "start_time": "2022-05-10T19:28:58.594Z"
   },
   {
    "duration": 665,
    "start_time": "2022-05-10T19:28:58.719Z"
   },
   {
    "duration": 11,
    "start_time": "2022-05-10T19:28:59.386Z"
   },
   {
    "duration": 12,
    "start_time": "2022-05-10T19:28:59.399Z"
   },
   {
    "duration": 75,
    "start_time": "2022-05-10T19:28:59.414Z"
   },
   {
    "duration": 12727,
    "start_time": "2022-05-10T19:28:59.491Z"
   },
   {
    "duration": 4,
    "start_time": "2022-05-10T19:29:12.220Z"
   },
   {
    "duration": 42,
    "start_time": "2022-05-10T19:29:12.225Z"
   },
   {
    "duration": 175,
    "start_time": "2022-05-10T19:29:12.268Z"
   },
   {
    "duration": 4,
    "start_time": "2022-05-10T19:29:12.444Z"
   },
   {
    "duration": 134,
    "start_time": "2022-05-10T19:29:12.450Z"
   },
   {
    "duration": 99,
    "start_time": "2022-05-10T19:29:12.675Z"
   },
   {
    "duration": 6,
    "start_time": "2022-05-10T19:29:12.776Z"
   },
   {
    "duration": 11,
    "start_time": "2022-05-10T19:29:12.784Z"
   },
   {
    "duration": 12,
    "start_time": "2022-05-10T19:29:12.798Z"
   },
   {
    "duration": 13,
    "start_time": "2022-05-10T19:29:12.812Z"
   },
   {
    "duration": 11,
    "start_time": "2022-05-10T19:29:12.827Z"
   },
   {
    "duration": 1233,
    "start_time": "2022-05-10T19:29:12.840Z"
   },
   {
    "duration": 3,
    "start_time": "2022-05-10T19:29:14.075Z"
   },
   {
    "duration": 95,
    "start_time": "2022-05-10T19:30:17.086Z"
   },
   {
    "duration": 106,
    "start_time": "2022-05-10T19:30:58.077Z"
   },
   {
    "duration": 10,
    "start_time": "2022-05-10T19:35:20.242Z"
   },
   {
    "duration": 6,
    "start_time": "2022-05-10T19:35:26.782Z"
   },
   {
    "duration": 1359,
    "start_time": "2022-05-10T19:35:29.861Z"
   },
   {
    "duration": 61,
    "start_time": "2022-05-10T19:35:45.292Z"
   },
   {
    "duration": 1474,
    "start_time": "2022-05-10T19:35:45.355Z"
   },
   {
    "duration": 366,
    "start_time": "2022-05-10T19:35:46.830Z"
   },
   {
    "duration": 24,
    "start_time": "2022-05-10T19:35:47.198Z"
   },
   {
    "duration": 64,
    "start_time": "2022-05-10T19:35:47.224Z"
   },
   {
    "duration": 117,
    "start_time": "2022-05-10T19:35:47.291Z"
   },
   {
    "duration": 668,
    "start_time": "2022-05-10T19:35:47.410Z"
   },
   {
    "duration": 11,
    "start_time": "2022-05-10T19:35:48.079Z"
   },
   {
    "duration": 11,
    "start_time": "2022-05-10T19:35:48.091Z"
   },
   {
    "duration": 70,
    "start_time": "2022-05-10T19:35:48.104Z"
   },
   {
    "duration": 12414,
    "start_time": "2022-05-10T19:35:48.176Z"
   },
   {
    "duration": 5,
    "start_time": "2022-05-10T19:36:00.592Z"
   },
   {
    "duration": 53,
    "start_time": "2022-05-10T19:36:00.599Z"
   },
   {
    "duration": 198,
    "start_time": "2022-05-10T19:36:00.654Z"
   },
   {
    "duration": 3,
    "start_time": "2022-05-10T19:36:00.854Z"
   },
   {
    "duration": 125,
    "start_time": "2022-05-10T19:36:00.859Z"
   },
   {
    "duration": 109,
    "start_time": "2022-05-10T19:36:01.074Z"
   },
   {
    "duration": 7,
    "start_time": "2022-05-10T19:36:01.185Z"
   },
   {
    "duration": 9,
    "start_time": "2022-05-10T19:36:01.194Z"
   },
   {
    "duration": 14,
    "start_time": "2022-05-10T19:36:01.205Z"
   },
   {
    "duration": 16,
    "start_time": "2022-05-10T19:36:01.221Z"
   },
   {
    "duration": 11,
    "start_time": "2022-05-10T19:36:01.240Z"
   },
   {
    "duration": 1405,
    "start_time": "2022-05-10T19:36:01.253Z"
   },
   {
    "duration": 3,
    "start_time": "2022-05-10T19:36:02.660Z"
   },
   {
    "duration": 140,
    "start_time": "2022-05-10T19:41:16.046Z"
   },
   {
    "duration": 338,
    "start_time": "2022-05-10T19:42:05.641Z"
   },
   {
    "duration": 119,
    "start_time": "2022-05-10T19:42:11.155Z"
   },
   {
    "duration": 5,
    "start_time": "2022-05-10T19:44:37.720Z"
   },
   {
    "duration": 1349,
    "start_time": "2022-05-10T19:44:39.740Z"
   },
   {
    "duration": 21,
    "start_time": "2022-05-10T19:45:01.046Z"
   },
   {
    "duration": 5,
    "start_time": "2022-05-10T19:45:07.249Z"
   },
   {
    "duration": 1316,
    "start_time": "2022-05-10T19:45:12.932Z"
   },
   {
    "duration": 40,
    "start_time": "2022-05-10T19:45:40.585Z"
   },
   {
    "duration": 16,
    "start_time": "2022-05-10T19:45:49.182Z"
   },
   {
    "duration": 7,
    "start_time": "2022-05-10T19:49:06.101Z"
   },
   {
    "duration": 3786,
    "start_time": "2022-05-10T19:49:09.612Z"
   },
   {
    "duration": 63,
    "start_time": "2022-05-10T19:52:34.278Z"
   },
   {
    "duration": 1571,
    "start_time": "2022-05-10T19:52:34.343Z"
   },
   {
    "duration": 462,
    "start_time": "2022-05-10T19:52:35.917Z"
   },
   {
    "duration": 29,
    "start_time": "2022-05-10T19:52:36.382Z"
   },
   {
    "duration": 99,
    "start_time": "2022-05-10T19:52:36.413Z"
   },
   {
    "duration": 171,
    "start_time": "2022-05-10T19:52:36.515Z"
   },
   {
    "duration": 746,
    "start_time": "2022-05-10T19:52:36.688Z"
   },
   {
    "duration": 10,
    "start_time": "2022-05-10T19:52:37.436Z"
   },
   {
    "duration": 234,
    "start_time": "2022-05-10T19:52:37.448Z"
   },
   {
    "duration": 61,
    "start_time": "2022-05-10T19:52:37.684Z"
   },
   {
    "duration": 13363,
    "start_time": "2022-05-10T19:52:37.747Z"
   },
   {
    "duration": 6,
    "start_time": "2022-05-10T19:52:51.112Z"
   },
   {
    "duration": 57,
    "start_time": "2022-05-10T19:52:51.120Z"
   },
   {
    "duration": 203,
    "start_time": "2022-05-10T19:52:51.179Z"
   },
   {
    "duration": 3,
    "start_time": "2022-05-10T19:52:51.385Z"
   },
   {
    "duration": 87,
    "start_time": "2022-05-10T19:52:51.391Z"
   },
   {
    "duration": 99,
    "start_time": "2022-05-10T19:52:51.480Z"
   },
   {
    "duration": 93,
    "start_time": "2022-05-10T19:52:51.582Z"
   },
   {
    "duration": 6,
    "start_time": "2022-05-10T19:52:51.677Z"
   },
   {
    "duration": 8,
    "start_time": "2022-05-10T19:52:51.685Z"
   },
   {
    "duration": 15,
    "start_time": "2022-05-10T19:52:51.694Z"
   },
   {
    "duration": 9,
    "start_time": "2022-05-10T19:52:51.712Z"
   },
   {
    "duration": 3910,
    "start_time": "2022-05-10T19:52:51.723Z"
   },
   {
    "duration": 3,
    "start_time": "2022-05-10T19:52:55.634Z"
   },
   {
    "duration": 79,
    "start_time": "2022-05-10T19:56:12.026Z"
   },
   {
    "duration": 1418,
    "start_time": "2022-05-10T19:56:12.107Z"
   },
   {
    "duration": 350,
    "start_time": "2022-05-10T19:56:13.527Z"
   },
   {
    "duration": 24,
    "start_time": "2022-05-10T19:56:13.879Z"
   },
   {
    "duration": 77,
    "start_time": "2022-05-10T19:56:13.906Z"
   },
   {
    "duration": 147,
    "start_time": "2022-05-10T19:56:13.985Z"
   },
   {
    "duration": 692,
    "start_time": "2022-05-10T19:56:14.133Z"
   },
   {
    "duration": 11,
    "start_time": "2022-05-10T19:56:14.827Z"
   },
   {
    "duration": 10,
    "start_time": "2022-05-10T19:56:14.839Z"
   },
   {
    "duration": 58,
    "start_time": "2022-05-10T19:56:14.874Z"
   },
   {
    "duration": 12732,
    "start_time": "2022-05-10T19:56:14.934Z"
   },
   {
    "duration": 4,
    "start_time": "2022-05-10T19:56:27.668Z"
   },
   {
    "duration": 45,
    "start_time": "2022-05-10T19:56:27.674Z"
   },
   {
    "duration": 187,
    "start_time": "2022-05-10T19:56:27.720Z"
   },
   {
    "duration": 5,
    "start_time": "2022-05-10T19:56:27.909Z"
   },
   {
    "duration": 170,
    "start_time": "2022-05-10T19:56:27.917Z"
   },
   {
    "duration": 100,
    "start_time": "2022-05-10T19:56:28.091Z"
   },
   {
    "duration": 7,
    "start_time": "2022-05-10T19:56:28.275Z"
   },
   {
    "duration": 10,
    "start_time": "2022-05-10T19:56:28.284Z"
   },
   {
    "duration": 7,
    "start_time": "2022-05-10T19:56:28.296Z"
   },
   {
    "duration": 16,
    "start_time": "2022-05-10T19:56:28.304Z"
   },
   {
    "duration": 7,
    "start_time": "2022-05-10T19:56:28.322Z"
   },
   {
    "duration": 1382,
    "start_time": "2022-05-10T19:56:28.332Z"
   },
   {
    "duration": 3,
    "start_time": "2022-05-10T19:56:29.716Z"
   },
   {
    "duration": 7,
    "start_time": "2022-05-10T19:59:49.063Z"
   },
   {
    "duration": 1339,
    "start_time": "2022-05-10T19:59:50.341Z"
   },
   {
    "duration": 6,
    "start_time": "2022-05-10T20:01:33.820Z"
   },
   {
    "duration": 109,
    "start_time": "2022-05-10T20:01:36.514Z"
   },
   {
    "duration": 5,
    "start_time": "2022-05-10T20:01:44.941Z"
   },
   {
    "duration": 22,
    "start_time": "2022-05-10T20:01:47.093Z"
   },
   {
    "duration": 6,
    "start_time": "2022-05-10T20:02:27.395Z"
   },
   {
    "duration": 30,
    "start_time": "2022-05-10T20:02:30.801Z"
   },
   {
    "duration": 6,
    "start_time": "2022-05-10T20:03:00.635Z"
   },
   {
    "duration": 20,
    "start_time": "2022-05-10T20:03:06.382Z"
   },
   {
    "duration": 59,
    "start_time": "2022-05-10T20:04:08.215Z"
   },
   {
    "duration": 1456,
    "start_time": "2022-05-10T20:04:08.276Z"
   },
   {
    "duration": 349,
    "start_time": "2022-05-10T20:04:09.734Z"
   },
   {
    "duration": 25,
    "start_time": "2022-05-10T20:04:10.085Z"
   },
   {
    "duration": 63,
    "start_time": "2022-05-10T20:04:10.112Z"
   },
   {
    "duration": 125,
    "start_time": "2022-05-10T20:04:10.176Z"
   },
   {
    "duration": 641,
    "start_time": "2022-05-10T20:04:10.302Z"
   },
   {
    "duration": 11,
    "start_time": "2022-05-10T20:04:10.945Z"
   },
   {
    "duration": 8,
    "start_time": "2022-05-10T20:04:10.973Z"
   },
   {
    "duration": 50,
    "start_time": "2022-05-10T20:04:10.985Z"
   },
   {
    "duration": 12210,
    "start_time": "2022-05-10T20:04:11.036Z"
   },
   {
    "duration": 5,
    "start_time": "2022-05-10T20:04:23.248Z"
   },
   {
    "duration": 41,
    "start_time": "2022-05-10T20:04:23.254Z"
   },
   {
    "duration": 178,
    "start_time": "2022-05-10T20:04:23.297Z"
   },
   {
    "duration": 3,
    "start_time": "2022-05-10T20:04:23.477Z"
   },
   {
    "duration": 292,
    "start_time": "2022-05-10T20:04:23.482Z"
   },
   {
    "duration": 98,
    "start_time": "2022-05-10T20:04:23.777Z"
   },
   {
    "duration": 6,
    "start_time": "2022-05-10T20:04:23.877Z"
   },
   {
    "duration": 8,
    "start_time": "2022-05-10T20:04:23.884Z"
   },
   {
    "duration": 6,
    "start_time": "2022-05-10T20:04:23.894Z"
   },
   {
    "duration": 13,
    "start_time": "2022-05-10T20:04:23.902Z"
   },
   {
    "duration": 6,
    "start_time": "2022-05-10T20:04:23.917Z"
   },
   {
    "duration": 170,
    "start_time": "2022-05-10T20:04:23.925Z"
   },
   {
    "duration": 0,
    "start_time": "2022-05-10T20:04:24.097Z"
   },
   {
    "duration": 5,
    "start_time": "2022-05-10T20:08:08.173Z"
   },
   {
    "duration": 1339,
    "start_time": "2022-05-10T20:08:12.469Z"
   },
   {
    "duration": 14,
    "start_time": "2022-05-10T20:14:16.159Z"
   },
   {
    "duration": 21,
    "start_time": "2022-05-10T20:14:42.532Z"
   },
   {
    "duration": 14,
    "start_time": "2022-05-10T20:16:17.067Z"
   },
   {
    "duration": 122,
    "start_time": "2022-05-10T20:16:45.158Z"
   },
   {
    "duration": 257,
    "start_time": "2022-05-10T20:16:54.230Z"
   },
   {
    "duration": 21,
    "start_time": "2022-05-10T20:17:01.113Z"
   },
   {
    "duration": 21,
    "start_time": "2022-05-10T20:17:14.581Z"
   },
   {
    "duration": 20,
    "start_time": "2022-05-10T20:18:05.076Z"
   },
   {
    "duration": 8,
    "start_time": "2022-05-10T20:18:56.389Z"
   },
   {
    "duration": 18,
    "start_time": "2022-05-10T20:19:03.008Z"
   },
   {
    "duration": 26,
    "start_time": "2022-05-10T20:22:32.856Z"
   },
   {
    "duration": 17,
    "start_time": "2022-05-10T20:23:01.879Z"
   },
   {
    "duration": 21,
    "start_time": "2022-05-10T20:23:15.220Z"
   },
   {
    "duration": 7202,
    "start_time": "2022-05-10T20:36:34.331Z"
   },
   {
    "duration": 4023,
    "start_time": "2022-05-10T20:37:07.885Z"
   },
   {
    "duration": 68,
    "start_time": "2022-05-10T20:39:41.955Z"
   },
   {
    "duration": 1599,
    "start_time": "2022-05-10T20:39:42.026Z"
   },
   {
    "duration": 476,
    "start_time": "2022-05-10T20:39:43.628Z"
   },
   {
    "duration": 38,
    "start_time": "2022-05-10T20:39:44.109Z"
   },
   {
    "duration": 79,
    "start_time": "2022-05-10T20:39:44.150Z"
   },
   {
    "duration": 143,
    "start_time": "2022-05-10T20:39:44.231Z"
   },
   {
    "duration": 707,
    "start_time": "2022-05-10T20:39:44.376Z"
   },
   {
    "duration": 12,
    "start_time": "2022-05-10T20:39:45.086Z"
   },
   {
    "duration": 18,
    "start_time": "2022-05-10T20:39:45.101Z"
   },
   {
    "duration": 85,
    "start_time": "2022-05-10T20:39:45.123Z"
   },
   {
    "duration": 15172,
    "start_time": "2022-05-10T20:39:45.210Z"
   },
   {
    "duration": 5,
    "start_time": "2022-05-10T20:40:00.383Z"
   },
   {
    "duration": 61,
    "start_time": "2022-05-10T20:40:00.390Z"
   },
   {
    "duration": 178,
    "start_time": "2022-05-10T20:40:00.453Z"
   },
   {
    "duration": 3,
    "start_time": "2022-05-10T20:40:00.633Z"
   },
   {
    "duration": 342,
    "start_time": "2022-05-10T20:40:00.638Z"
   },
   {
    "duration": 98,
    "start_time": "2022-05-10T20:40:00.983Z"
   },
   {
    "duration": 9,
    "start_time": "2022-05-10T20:40:01.082Z"
   },
   {
    "duration": 29,
    "start_time": "2022-05-10T20:40:01.092Z"
   },
   {
    "duration": 12,
    "start_time": "2022-05-10T20:40:01.123Z"
   },
   {
    "duration": 19,
    "start_time": "2022-05-10T20:40:01.137Z"
   },
   {
    "duration": 2967,
    "start_time": "2022-05-10T20:40:01.158Z"
   },
   {
    "duration": 109,
    "start_time": "2022-05-10T20:40:04.127Z"
   },
   {
    "duration": 0,
    "start_time": "2022-05-10T20:40:04.237Z"
   },
   {
    "duration": 0,
    "start_time": "2022-05-10T20:40:04.239Z"
   },
   {
    "duration": 15,
    "start_time": "2022-05-10T20:40:20.503Z"
   },
   {
    "duration": 2979,
    "start_time": "2022-05-10T20:44:13.886Z"
   },
   {
    "duration": 17,
    "start_time": "2022-05-10T20:47:22.501Z"
   },
   {
    "duration": 4625,
    "start_time": "2022-05-10T20:47:27.831Z"
   },
   {
    "duration": 16,
    "start_time": "2022-05-10T20:49:51.843Z"
   },
   {
    "duration": 4118,
    "start_time": "2022-05-10T20:49:55.860Z"
   },
   {
    "duration": 20,
    "start_time": "2022-05-10T20:50:23.834Z"
   },
   {
    "duration": 5106,
    "start_time": "2022-05-10T20:50:27.626Z"
   },
   {
    "duration": 21,
    "start_time": "2022-05-10T20:52:21.536Z"
   },
   {
    "duration": 19,
    "start_time": "2022-05-10T20:52:58.489Z"
   },
   {
    "duration": 64,
    "start_time": "2022-05-10T20:53:14.022Z"
   },
   {
    "duration": 1449,
    "start_time": "2022-05-10T20:53:14.088Z"
   },
   {
    "duration": 354,
    "start_time": "2022-05-10T20:53:15.539Z"
   },
   {
    "duration": 25,
    "start_time": "2022-05-10T20:53:15.895Z"
   },
   {
    "duration": 60,
    "start_time": "2022-05-10T20:53:15.921Z"
   },
   {
    "duration": 116,
    "start_time": "2022-05-10T20:53:15.982Z"
   },
   {
    "duration": 604,
    "start_time": "2022-05-10T20:53:16.099Z"
   },
   {
    "duration": 12,
    "start_time": "2022-05-10T20:53:16.705Z"
   },
   {
    "duration": 10,
    "start_time": "2022-05-10T20:53:16.719Z"
   },
   {
    "duration": 71,
    "start_time": "2022-05-10T20:53:16.733Z"
   },
   {
    "duration": 12200,
    "start_time": "2022-05-10T20:53:16.806Z"
   },
   {
    "duration": 5,
    "start_time": "2022-05-10T20:53:29.007Z"
   },
   {
    "duration": 41,
    "start_time": "2022-05-10T20:53:29.013Z"
   },
   {
    "duration": 191,
    "start_time": "2022-05-10T20:53:29.056Z"
   },
   {
    "duration": 3,
    "start_time": "2022-05-10T20:53:29.249Z"
   },
   {
    "duration": 123,
    "start_time": "2022-05-10T20:53:29.254Z"
   },
   {
    "duration": 99,
    "start_time": "2022-05-10T20:53:29.380Z"
   },
   {
    "duration": 98,
    "start_time": "2022-05-10T20:53:29.482Z"
   },
   {
    "duration": 28,
    "start_time": "2022-05-10T20:53:29.582Z"
   },
   {
    "duration": 5225,
    "start_time": "2022-05-10T20:53:29.612Z"
   },
   {
    "duration": 111,
    "start_time": "2022-05-10T20:55:25.280Z"
   },
   {
    "duration": 20,
    "start_time": "2022-05-10T20:56:03.982Z"
   },
   {
    "duration": 5328,
    "start_time": "2022-05-10T20:56:14.649Z"
   },
   {
    "duration": 21,
    "start_time": "2022-05-10T20:56:32.028Z"
   },
   {
    "duration": 3923,
    "start_time": "2022-05-10T20:56:38.029Z"
   },
   {
    "duration": 66,
    "start_time": "2022-05-10T20:58:24.578Z"
   },
   {
    "duration": 1486,
    "start_time": "2022-05-10T20:58:24.646Z"
   },
   {
    "duration": 383,
    "start_time": "2022-05-10T20:58:26.134Z"
   },
   {
    "duration": 28,
    "start_time": "2022-05-10T20:58:26.520Z"
   },
   {
    "duration": 65,
    "start_time": "2022-05-10T20:58:26.550Z"
   },
   {
    "duration": 133,
    "start_time": "2022-05-10T20:58:26.617Z"
   },
   {
    "duration": 686,
    "start_time": "2022-05-10T20:58:26.751Z"
   },
   {
    "duration": 11,
    "start_time": "2022-05-10T20:58:27.439Z"
   },
   {
    "duration": 26,
    "start_time": "2022-05-10T20:58:27.452Z"
   },
   {
    "duration": 43,
    "start_time": "2022-05-10T20:58:27.480Z"
   },
   {
    "duration": 12581,
    "start_time": "2022-05-10T20:58:27.525Z"
   },
   {
    "duration": 6,
    "start_time": "2022-05-10T20:58:40.107Z"
   },
   {
    "duration": 49,
    "start_time": "2022-05-10T20:58:40.114Z"
   },
   {
    "duration": 184,
    "start_time": "2022-05-10T20:58:40.165Z"
   },
   {
    "duration": 4,
    "start_time": "2022-05-10T20:58:40.351Z"
   },
   {
    "duration": 122,
    "start_time": "2022-05-10T20:58:40.356Z"
   },
   {
    "duration": 194,
    "start_time": "2022-05-10T20:58:40.480Z"
   },
   {
    "duration": 5,
    "start_time": "2022-05-10T20:58:40.676Z"
   },
   {
    "duration": 30,
    "start_time": "2022-05-10T20:58:40.683Z"
   },
   {
    "duration": 4216,
    "start_time": "2022-05-10T20:58:40.715Z"
   },
   {
    "duration": 86,
    "start_time": "2022-05-10T21:03:59.959Z"
   },
   {
    "duration": 1509,
    "start_time": "2022-05-10T21:04:00.047Z"
   },
   {
    "duration": 376,
    "start_time": "2022-05-10T21:04:01.558Z"
   },
   {
    "duration": 23,
    "start_time": "2022-05-10T21:04:01.937Z"
   },
   {
    "duration": 43,
    "start_time": "2022-05-10T21:04:01.974Z"
   },
   {
    "duration": 131,
    "start_time": "2022-05-10T21:04:02.018Z"
   },
   {
    "duration": 702,
    "start_time": "2022-05-10T21:04:02.151Z"
   },
   {
    "duration": 29,
    "start_time": "2022-05-10T21:04:02.854Z"
   },
   {
    "duration": 13,
    "start_time": "2022-05-10T21:04:02.885Z"
   },
   {
    "duration": 75,
    "start_time": "2022-05-10T21:04:02.900Z"
   },
   {
    "duration": 12197,
    "start_time": "2022-05-10T21:04:02.977Z"
   },
   {
    "duration": 5,
    "start_time": "2022-05-10T21:04:15.176Z"
   },
   {
    "duration": 42,
    "start_time": "2022-05-10T21:04:15.182Z"
   },
   {
    "duration": 177,
    "start_time": "2022-05-10T21:04:15.226Z"
   },
   {
    "duration": 3,
    "start_time": "2022-05-10T21:04:15.405Z"
   },
   {
    "duration": 75,
    "start_time": "2022-05-10T21:04:15.410Z"
   },
   {
    "duration": 101,
    "start_time": "2022-05-10T21:04:15.575Z"
   },
   {
    "duration": 5,
    "start_time": "2022-05-10T21:04:15.679Z"
   },
   {
    "duration": 29,
    "start_time": "2022-05-10T21:04:15.686Z"
   },
   {
    "duration": 3866,
    "start_time": "2022-05-10T21:04:15.717Z"
   },
   {
    "duration": 89,
    "start_time": "2023-05-17T19:19:15.223Z"
   },
   {
    "duration": 2074,
    "start_time": "2023-05-17T19:19:15.314Z"
   },
   {
    "duration": 1729,
    "start_time": "2023-05-17T19:19:17.392Z"
   },
   {
    "duration": 36,
    "start_time": "2023-05-17T19:19:19.131Z"
   },
   {
    "duration": 58,
    "start_time": "2023-05-17T19:19:19.170Z"
   },
   {
    "duration": 137,
    "start_time": "2023-05-17T19:19:19.230Z"
   },
   {
    "duration": 934,
    "start_time": "2023-05-17T19:19:19.369Z"
   },
   {
    "duration": 23,
    "start_time": "2023-05-17T19:19:20.304Z"
   },
   {
    "duration": 41,
    "start_time": "2023-05-17T19:19:20.329Z"
   },
   {
    "duration": 78,
    "start_time": "2023-05-17T19:19:20.372Z"
   },
   {
    "duration": 20041,
    "start_time": "2023-05-17T19:19:20.452Z"
   },
   {
    "duration": 5,
    "start_time": "2023-05-17T19:19:40.496Z"
   },
   {
    "duration": 64,
    "start_time": "2023-05-17T19:19:40.503Z"
   },
   {
    "duration": 203,
    "start_time": "2023-05-17T19:19:40.569Z"
   },
   {
    "duration": 10,
    "start_time": "2023-05-17T19:19:40.774Z"
   },
   {
    "duration": 229,
    "start_time": "2023-05-17T19:19:40.785Z"
   },
   {
    "duration": 72,
    "start_time": "2023-05-17T19:19:41.024Z"
   },
   {
    "duration": 56,
    "start_time": "2023-05-17T19:19:41.112Z"
   },
   {
    "duration": 22,
    "start_time": "2023-05-17T19:19:41.170Z"
   },
   {
    "duration": 5177,
    "start_time": "2023-05-17T19:19:41.194Z"
   },
   {
    "duration": 108,
    "start_time": "2023-05-17T19:21:35.721Z"
   },
   {
    "duration": 2298,
    "start_time": "2023-05-17T19:21:35.831Z"
   },
   {
    "duration": 639,
    "start_time": "2023-05-17T19:21:38.131Z"
   },
   {
    "duration": 75,
    "start_time": "2023-05-17T19:21:38.773Z"
   },
   {
    "duration": 119,
    "start_time": "2023-05-17T19:21:38.861Z"
   },
   {
    "duration": 167,
    "start_time": "2023-05-17T19:21:38.985Z"
   },
   {
    "duration": 1218,
    "start_time": "2023-05-17T19:21:39.157Z"
   },
   {
    "duration": 15,
    "start_time": "2023-05-17T19:21:40.377Z"
   },
   {
    "duration": 33,
    "start_time": "2023-05-17T19:21:40.393Z"
   },
   {
    "duration": 156,
    "start_time": "2023-05-17T19:21:40.429Z"
   },
   {
    "duration": 23650,
    "start_time": "2023-05-17T19:21:40.587Z"
   },
   {
    "duration": 12,
    "start_time": "2023-05-17T19:22:04.240Z"
   },
   {
    "duration": 233,
    "start_time": "2023-05-17T19:22:04.255Z"
   },
   {
    "duration": 289,
    "start_time": "2023-05-17T19:22:04.491Z"
   },
   {
    "duration": 6,
    "start_time": "2023-05-17T19:22:04.784Z"
   },
   {
    "duration": 312,
    "start_time": "2023-05-17T19:22:04.792Z"
   },
   {
    "duration": 104,
    "start_time": "2023-05-17T19:22:05.118Z"
   },
   {
    "duration": 38,
    "start_time": "2023-05-17T19:22:05.263Z"
   },
   {
    "duration": 85,
    "start_time": "2023-05-17T19:22:05.309Z"
   },
   {
    "duration": 6190,
    "start_time": "2023-05-17T19:22:05.405Z"
   },
   {
    "duration": 52,
    "start_time": "2023-05-17T22:00:20.315Z"
   },
   {
    "duration": 1407,
    "start_time": "2023-05-17T22:00:20.369Z"
   },
   {
    "duration": 444,
    "start_time": "2023-05-17T22:00:21.778Z"
   },
   {
    "duration": 30,
    "start_time": "2023-05-17T22:00:22.224Z"
   },
   {
    "duration": 69,
    "start_time": "2023-05-17T22:00:22.257Z"
   },
   {
    "duration": 121,
    "start_time": "2023-05-17T22:00:22.328Z"
   },
   {
    "duration": 687,
    "start_time": "2023-05-17T22:00:22.450Z"
   },
   {
    "duration": 12,
    "start_time": "2023-05-17T22:00:23.139Z"
   },
   {
    "duration": 23,
    "start_time": "2023-05-17T22:00:23.152Z"
   },
   {
    "duration": 67,
    "start_time": "2023-05-17T22:00:23.177Z"
   },
   {
    "duration": 14607,
    "start_time": "2023-05-17T22:00:23.245Z"
   },
   {
    "duration": 5,
    "start_time": "2023-05-17T22:00:37.853Z"
   },
   {
    "duration": 171,
    "start_time": "2023-05-17T22:00:37.859Z"
   },
   {
    "duration": 26,
    "start_time": "2023-05-17T22:00:38.033Z"
   },
   {
    "duration": 3,
    "start_time": "2023-05-17T22:00:38.062Z"
   },
   {
    "duration": 249,
    "start_time": "2023-05-17T22:00:38.067Z"
   },
   {
    "duration": 184,
    "start_time": "2023-05-17T22:00:38.319Z"
   },
   {
    "duration": 10,
    "start_time": "2023-05-17T22:00:38.508Z"
   },
   {
    "duration": 27,
    "start_time": "2023-05-17T22:00:38.520Z"
   },
   {
    "duration": 4124,
    "start_time": "2023-05-17T22:00:38.548Z"
   }
  ],
  "kernelspec": {
   "display_name": "Python 3 (ipykernel)",
   "language": "python",
   "name": "python3"
  },
  "language_info": {
   "codemirror_mode": {
    "name": "ipython",
    "version": 3
   },
   "file_extension": ".py",
   "mimetype": "text/x-python",
   "name": "python",
   "nbconvert_exporter": "python",
   "pygments_lexer": "ipython3",
   "version": "3.9.5"
  },
  "toc": {
   "base_numbering": 1,
   "nav_menu": {},
   "number_sections": true,
   "sideBar": true,
   "skip_h1_title": true,
   "title_cell": "Table of Contents",
   "title_sidebar": "Contents",
   "toc_cell": false,
   "toc_position": {},
   "toc_section_display": true,
   "toc_window_display": false
  }
 },
 "nbformat": 4,
 "nbformat_minor": 5
}
