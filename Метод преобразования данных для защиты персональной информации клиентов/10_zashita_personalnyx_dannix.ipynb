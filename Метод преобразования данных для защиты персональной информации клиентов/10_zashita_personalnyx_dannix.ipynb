{
 "cells": [
  {
   "cell_type": "markdown",
   "metadata": {
    "toc": true
   },
   "source": [
    "<h1>Содержание<span class=\"tocSkip\"></span></h1>\n",
    "<div class=\"toc\"><ul class=\"toc-item\"><li><span><a href=\"#Загрузка-данных\" data-toc-modified-id=\"Загрузка-данных-1\"><span class=\"toc-item-num\">1&nbsp;&nbsp;</span>Загрузка данных</a></span></li><li><span><a href=\"#Умножение-матриц\" data-toc-modified-id=\"Умножение-матриц-2\"><span class=\"toc-item-num\">2&nbsp;&nbsp;</span>Умножение матриц</a></span></li><li><span><a href=\"#Алгоритм-преобразования\" data-toc-modified-id=\"Алгоритм-преобразования-3\"><span class=\"toc-item-num\">3&nbsp;&nbsp;</span>Алгоритм преобразования</a></span></li><li><span><a href=\"#Проверка-алгоритма\" data-toc-modified-id=\"Проверка-алгоритма-4\"><span class=\"toc-item-num\">4&nbsp;&nbsp;</span>Проверка алгоритма</a></span></li><li><span><a href=\"#Чек-лист-проверки\" data-toc-modified-id=\"Чек-лист-проверки-5\"><span class=\"toc-item-num\">5&nbsp;&nbsp;</span>Чек-лист проверки</a></span></li></ul></div>"
   ]
  },
  {
   "cell_type": "markdown",
   "metadata": {},
   "source": [
    "# Защита персональных данных клиентов"
   ]
  },
  {
   "cell_type": "markdown",
   "metadata": {},
   "source": [
    "Вам нужно защитить данные клиентов страховой компании «Хоть потоп». Разработайте такой метод преобразования данных, чтобы по ним было сложно восстановить персональную информацию. Обоснуйте корректность его работы.\n",
    "\n",
    "Нужно защитить данные, чтобы при преобразовании качество моделей машинного обучения не ухудшилось. Подбирать наилучшую модель не требуется."
   ]
  },
  {
   "cell_type": "markdown",
   "metadata": {},
   "source": [
    "## Загрузка данных"
   ]
  },
  {
   "cell_type": "code",
   "execution_count": 1,
   "metadata": {},
   "outputs": [
    {
     "name": "stdout",
     "output_type": "stream",
     "text": [
      "imported successful!\n"
     ]
    }
   ],
   "source": [
    "import os\n",
    "import pandas as pd\n",
    "import numpy as np\n",
    "import matplotlib.pyplot as plt\n",
    "import seaborn as sns\n",
    "\n",
    "\n",
    "from sklearn.linear_model import LinearRegression\n",
    "from sklearn.metrics import r2_score\n",
    "\n",
    "import warnings\n",
    "warnings.filterwarnings(\"ignore\")\n",
    "\n",
    "\n",
    "print ('imported successful!')"
   ]
  },
  {
   "cell_type": "code",
   "execution_count": 2,
   "metadata": {},
   "outputs": [],
   "source": [
    "def info(data, name):\n",
    "'''функция выводит общую инфо о датасете, количество дублей, пропусков\n",
    "data = имя файла\n",
    "name = название файла'''\n",
    "\n",
    "    start = \"\\033[1m\"\n",
    "    end = \"\\033[0;0m\"\n",
    "\n",
    "    print (start + 'Общая информация', name + end)\n",
    "    print(data.info())\n",
    "    print (start + 'Первые 5 строк', name + end)\n",
    "    display(data.head())\n",
    "    print (start + 'Описательные статистики', name + end)\n",
    "    display(data.describe())\n",
    "    print (start + 'Количество дубликатов', name + end)\n",
    "    print(data.duplicated().sum())\n",
    "    print (start + 'Количество пропусков', name + end)\n",
    "    print(data.isna().sum())"
   ]
  },
  {
   "cell_type": "code",
   "execution_count": 3,
   "metadata": {},
   "outputs": [],
   "source": [
    "def read(pth1, pth2, name):\n",
    "'''функция читает файлы csv из указанного места и вызывает в себе функцию info, которая описана в предыдущей ячейке\n",
    "pth1 = место файла 1\n",
    "pth2 = место файла 2'''\n",
    "\n",
    "    if os.path.exists(pth1):\n",
    "        data = pd.read_csv(pth1)\n",
    "        info(data, name)\n",
    "    elif os.path.exists(pth2):\n",
    "        data = pd.read_csv(pth2)\n",
    "        info(data, name)\n",
    "    else:\n",
    "        print('File Not Found')\n",
    "    return data"
   ]
  },
  {
   "cell_type": "code",
   "execution_count": 4,
   "metadata": {},
   "outputs": [],
   "source": [
    "pd.set_option('display.max_columns', None) #сброс ограничений на количество выводимых столбцов\n",
    "pd.set_option('display.max_rows', None) #сброс ограничений на количество выводимых рядов\n",
    "pd.options.display.float_format = '{:,.2f}'.format #ограничение на кол-во знаков после запятой у float - переменныхb"
   ]
  },
  {
   "cell_type": "code",
   "execution_count": 5,
   "metadata": {
    "scrolled": false
   },
   "outputs": [
    {
     "name": "stdout",
     "output_type": "stream",
     "text": [
      "\u001b[1mОбщая информация Датасет\u001b[0;0m\n",
      "<class 'pandas.core.frame.DataFrame'>\n",
      "RangeIndex: 5000 entries, 0 to 4999\n",
      "Data columns (total 5 columns):\n",
      " #   Column             Non-Null Count  Dtype  \n",
      "---  ------             --------------  -----  \n",
      " 0   Пол                5000 non-null   int64  \n",
      " 1   Возраст            5000 non-null   float64\n",
      " 2   Зарплата           5000 non-null   float64\n",
      " 3   Члены семьи        5000 non-null   int64  \n",
      " 4   Страховые выплаты  5000 non-null   int64  \n",
      "dtypes: float64(2), int64(3)\n",
      "memory usage: 195.4 KB\n",
      "None\n",
      "\u001b[1mПервые 5 строк Датасет\u001b[0;0m\n"
     ]
    },
    {
     "data": {
      "text/html": [
       "<div>\n",
       "<style scoped>\n",
       "    .dataframe tbody tr th:only-of-type {\n",
       "        vertical-align: middle;\n",
       "    }\n",
       "\n",
       "    .dataframe tbody tr th {\n",
       "        vertical-align: top;\n",
       "    }\n",
       "\n",
       "    .dataframe thead th {\n",
       "        text-align: right;\n",
       "    }\n",
       "</style>\n",
       "<table border=\"1\" class=\"dataframe\">\n",
       "  <thead>\n",
       "    <tr style=\"text-align: right;\">\n",
       "      <th></th>\n",
       "      <th>Пол</th>\n",
       "      <th>Возраст</th>\n",
       "      <th>Зарплата</th>\n",
       "      <th>Члены семьи</th>\n",
       "      <th>Страховые выплаты</th>\n",
       "    </tr>\n",
       "  </thead>\n",
       "  <tbody>\n",
       "    <tr>\n",
       "      <th>0</th>\n",
       "      <td>1</td>\n",
       "      <td>41.00</td>\n",
       "      <td>49,600.00</td>\n",
       "      <td>1</td>\n",
       "      <td>0</td>\n",
       "    </tr>\n",
       "    <tr>\n",
       "      <th>1</th>\n",
       "      <td>0</td>\n",
       "      <td>46.00</td>\n",
       "      <td>38,000.00</td>\n",
       "      <td>1</td>\n",
       "      <td>1</td>\n",
       "    </tr>\n",
       "    <tr>\n",
       "      <th>2</th>\n",
       "      <td>0</td>\n",
       "      <td>29.00</td>\n",
       "      <td>21,000.00</td>\n",
       "      <td>0</td>\n",
       "      <td>0</td>\n",
       "    </tr>\n",
       "    <tr>\n",
       "      <th>3</th>\n",
       "      <td>0</td>\n",
       "      <td>21.00</td>\n",
       "      <td>41,700.00</td>\n",
       "      <td>2</td>\n",
       "      <td>0</td>\n",
       "    </tr>\n",
       "    <tr>\n",
       "      <th>4</th>\n",
       "      <td>1</td>\n",
       "      <td>28.00</td>\n",
       "      <td>26,100.00</td>\n",
       "      <td>0</td>\n",
       "      <td>0</td>\n",
       "    </tr>\n",
       "  </tbody>\n",
       "</table>\n",
       "</div>"
      ],
      "text/plain": [
       "   Пол  Возраст  Зарплата  Члены семьи  Страховые выплаты\n",
       "0    1    41.00 49,600.00            1                  0\n",
       "1    0    46.00 38,000.00            1                  1\n",
       "2    0    29.00 21,000.00            0                  0\n",
       "3    0    21.00 41,700.00            2                  0\n",
       "4    1    28.00 26,100.00            0                  0"
      ]
     },
     "metadata": {},
     "output_type": "display_data"
    },
    {
     "name": "stdout",
     "output_type": "stream",
     "text": [
      "\u001b[1mОписательные статистики Датасет\u001b[0;0m\n"
     ]
    },
    {
     "data": {
      "text/html": [
       "<div>\n",
       "<style scoped>\n",
       "    .dataframe tbody tr th:only-of-type {\n",
       "        vertical-align: middle;\n",
       "    }\n",
       "\n",
       "    .dataframe tbody tr th {\n",
       "        vertical-align: top;\n",
       "    }\n",
       "\n",
       "    .dataframe thead th {\n",
       "        text-align: right;\n",
       "    }\n",
       "</style>\n",
       "<table border=\"1\" class=\"dataframe\">\n",
       "  <thead>\n",
       "    <tr style=\"text-align: right;\">\n",
       "      <th></th>\n",
       "      <th>Пол</th>\n",
       "      <th>Возраст</th>\n",
       "      <th>Зарплата</th>\n",
       "      <th>Члены семьи</th>\n",
       "      <th>Страховые выплаты</th>\n",
       "    </tr>\n",
       "  </thead>\n",
       "  <tbody>\n",
       "    <tr>\n",
       "      <th>count</th>\n",
       "      <td>5,000.00</td>\n",
       "      <td>5,000.00</td>\n",
       "      <td>5,000.00</td>\n",
       "      <td>5,000.00</td>\n",
       "      <td>5,000.00</td>\n",
       "    </tr>\n",
       "    <tr>\n",
       "      <th>mean</th>\n",
       "      <td>0.50</td>\n",
       "      <td>30.95</td>\n",
       "      <td>39,916.36</td>\n",
       "      <td>1.19</td>\n",
       "      <td>0.15</td>\n",
       "    </tr>\n",
       "    <tr>\n",
       "      <th>std</th>\n",
       "      <td>0.50</td>\n",
       "      <td>8.44</td>\n",
       "      <td>9,900.08</td>\n",
       "      <td>1.09</td>\n",
       "      <td>0.46</td>\n",
       "    </tr>\n",
       "    <tr>\n",
       "      <th>min</th>\n",
       "      <td>0.00</td>\n",
       "      <td>18.00</td>\n",
       "      <td>5,300.00</td>\n",
       "      <td>0.00</td>\n",
       "      <td>0.00</td>\n",
       "    </tr>\n",
       "    <tr>\n",
       "      <th>25%</th>\n",
       "      <td>0.00</td>\n",
       "      <td>24.00</td>\n",
       "      <td>33,300.00</td>\n",
       "      <td>0.00</td>\n",
       "      <td>0.00</td>\n",
       "    </tr>\n",
       "    <tr>\n",
       "      <th>50%</th>\n",
       "      <td>0.00</td>\n",
       "      <td>30.00</td>\n",
       "      <td>40,200.00</td>\n",
       "      <td>1.00</td>\n",
       "      <td>0.00</td>\n",
       "    </tr>\n",
       "    <tr>\n",
       "      <th>75%</th>\n",
       "      <td>1.00</td>\n",
       "      <td>37.00</td>\n",
       "      <td>46,600.00</td>\n",
       "      <td>2.00</td>\n",
       "      <td>0.00</td>\n",
       "    </tr>\n",
       "    <tr>\n",
       "      <th>max</th>\n",
       "      <td>1.00</td>\n",
       "      <td>65.00</td>\n",
       "      <td>79,000.00</td>\n",
       "      <td>6.00</td>\n",
       "      <td>5.00</td>\n",
       "    </tr>\n",
       "  </tbody>\n",
       "</table>\n",
       "</div>"
      ],
      "text/plain": [
       "           Пол  Возраст  Зарплата  Члены семьи  Страховые выплаты\n",
       "count 5,000.00 5,000.00  5,000.00     5,000.00           5,000.00\n",
       "mean      0.50    30.95 39,916.36         1.19               0.15\n",
       "std       0.50     8.44  9,900.08         1.09               0.46\n",
       "min       0.00    18.00  5,300.00         0.00               0.00\n",
       "25%       0.00    24.00 33,300.00         0.00               0.00\n",
       "50%       0.00    30.00 40,200.00         1.00               0.00\n",
       "75%       1.00    37.00 46,600.00         2.00               0.00\n",
       "max       1.00    65.00 79,000.00         6.00               5.00"
      ]
     },
     "metadata": {},
     "output_type": "display_data"
    },
    {
     "name": "stdout",
     "output_type": "stream",
     "text": [
      "\u001b[1mКоличество дубликатов Датасет\u001b[0;0m\n",
      "153\n",
      "\u001b[1mКоличество пропусков Датасет\u001b[0;0m\n",
      "Пол                  0\n",
      "Возраст              0\n",
      "Зарплата             0\n",
      "Члены семьи          0\n",
      "Страховые выплаты    0\n",
      "dtype: int64\n"
     ]
    }
   ],
   "source": [
    "data = read('/file.csv', '/', 'Датасет')"
   ]
  },
  {
   "cell_type": "markdown",
   "metadata": {},
   "source": [
    "В датасете имеем 5 признаков(столбцы) и 5000 наблюдений. Встречаются дубли в данных. Аномальные значения не обнаружены."
   ]
  },
  {
   "cell_type": "markdown",
   "metadata": {},
   "source": [
    "## Умножение матриц"
   ]
  },
  {
   "cell_type": "markdown",
   "metadata": {},
   "source": [
    "В этом задании вы можете записывать формулы в *Jupyter Notebook.*\n",
    "\n",
    "Чтобы записать формулу внутри текста, окружите её символами доллара \\\\$; если снаружи —  двойными символами \\\\$\\\\$. Эти формулы записываются на языке вёрстки *LaTeX.* \n",
    "\n",
    "Для примера мы записали формулы линейной регрессии. Можете их скопировать и отредактировать, чтобы решить задачу.\n",
    "\n",
    "Работать в *LaTeX* необязательно."
   ]
  },
  {
   "cell_type": "markdown",
   "metadata": {},
   "source": [
    "Обозначения:\n",
    "\n",
    "- $X$ — матрица признаков (нулевой столбец состоит из единиц)\n",
    "\n",
    "- $y$ — вектор целевого признака\n",
    "\n",
    "- $P$ — матрица, на которую умножаются признаки\n",
    "\n",
    "- $w$ — вектор весов линейной регрессии (нулевой элемент равен сдвигу)"
   ]
  },
  {
   "cell_type": "markdown",
   "metadata": {},
   "source": [
    "Предсказания:\n",
    "\n",
    "$$\n",
    "a = Xw\n",
    "$$\n",
    "\n",
    "Задача обучения:\n",
    "\n",
    "$$\n",
    "w = \\arg\\min_w MSE(Xw, y)\n",
    "$$\n",
    "\n",
    "Формула обучения:\n",
    "\n",
    "$$\n",
    "w = (X^T X)^{-1} X^T y\n",
    "$$"
   ]
  },
  {
   "cell_type": "markdown",
   "metadata": {},
   "source": [
    "**Ответ:** не изменится\n",
    "\n",
    "\n",
    "\n",
    "**Обоснование:** \n",
    "\n",
    "1. Для обоснования ответа получим предсказания для признаков после множения на обратимую матрицу. Умноженная матрица будет иметь вид X*P (XP). Тогда формула предсказаний (линейной регрессии) примет следующий вид:\n",
    "\n",
    "\n",
    "$$\n",
    "a =  XP *(((XP)^T * (XP))^{-1} * (XP)^T * y)\n",
    "$$\n",
    "\n",
    "2. Раскроем скобки и уберем их, где допустимо.\n",
    "\n",
    "$$\n",
    "a =  XP *(X^T P^T * XP)^{-1} * X^T P^T * y\n",
    "$$\n",
    "\n",
    "3. Можно использовать свойство матриц $(AB)C = A(BC)$. Оно позволяет группировать матрицы при умножении различным образом. Вынесем за скобки множитель $P$:\n",
    "\n",
    "$$\n",
    "a =  XP * P^{-1} (X^T P^T * X)^{-1} * X^T * P^T * y\n",
    "$$\n",
    "\n",
    "4. Вынесем за скобки множитель $P^T$:\n",
    "\n",
    "$$\n",
    "a =  XP * P^{-1} * (P^T)^{-1} (X^T* X)^{-1} * X^T * P^T * y\n",
    "$$\n",
    "\n",
    "5. Произведения $P*P^{-1}$ и  $P^T(P^T)^{-1}$ дают единичную матрицу, которую можно исключить из уравнения:\n",
    "\n",
    "$$\n",
    "a =  X * (X^T* X)^{-1} * X^T *  y\n",
    "$$\n",
    "\n",
    "6. И получается, что $(X^T* X)^{-1} * X^T *  y = w$, и наша формула предсказаний регрессии вернулась к исходному виду:\n",
    "\n",
    "$$\n",
    "a = Xw\n",
    "$$"
   ]
  },
  {
   "cell_type": "markdown",
   "metadata": {},
   "source": [
    "## Алгоритм преобразования"
   ]
  },
  {
   "cell_type": "markdown",
   "metadata": {},
   "source": [
    "**Алгоритм**\n",
    "\n",
    "В качестве алгоритма преобразования примем умножение обучающих признаков X (их размерность - 5000 на 4) на случайную обратимую матрицу P (размером 4х4). Создадим модель линейной регрессии до преобразования и посчитаем метрику R2. Далее умножим исходные признаки на обратимую матрицу и на основе полученных значений вновь посчитаем метрику R2. Метрики R2 по итогу должны быть равны."
   ]
  },
  {
   "cell_type": "markdown",
   "metadata": {},
   "source": [
    "**Обоснование**\n",
    "\n",
    "Как было доказано, умножение признаков на какую-либо обратимую матрицу не приводит к изменению предсказаний, поэтому результаты R2 должны оказаться равны."
   ]
  },
  {
   "cell_type": "markdown",
   "metadata": {},
   "source": [
    "## Проверка алгоритма"
   ]
  },
  {
   "cell_type": "code",
   "execution_count": 6,
   "metadata": {},
   "outputs": [
    {
     "name": "stdout",
     "output_type": "stream",
     "text": [
      "   Пол  Возраст  Зарплата  Члены семьи\n",
      "0    1    41.00 49,600.00            1\n",
      "1    0    46.00 38,000.00            1\n",
      "2    0    29.00 21,000.00            0\n",
      "3    0    21.00 41,700.00            2\n",
      "4    1    28.00 26,100.00            0\n"
     ]
    }
   ],
   "source": [
    "# создадим признаки для исходного состояния\n",
    "features = data.drop('Страховые выплаты', axis=1)\n",
    "target = data['Страховые выплаты'] #целевой признак\n",
    "print(features.head())"
   ]
  },
  {
   "cell_type": "code",
   "execution_count": 7,
   "metadata": {},
   "outputs": [
    {
     "name": "stdout",
     "output_type": "stream",
     "text": [
      "Метрика R2 для матрицы X равняется 0.4249455028666801\n"
     ]
    }
   ],
   "source": [
    "# обучим модель, предскажем значения target и измерим r2\n",
    "model = LinearRegression()\n",
    "model.fit(features, target)\n",
    "predictions = model.predict(features)\n",
    "r2 = r2_score(target, predictions)\n",
    "print(f'Метрика R2 для матрицы X равняется {r2}')"
   ]
  },
  {
   "cell_type": "markdown",
   "metadata": {},
   "source": [
    "Далее необходимо создать обратимую матрицу размером 4 на 4. Почему 4х4? Потому что при умножении важно, чтобы число столбцов было равно числу строк первой марицы - матрицы признаков. \n",
    "\n",
    "При этом важно не создать случайно необратимую матрицу. Для существования обратимой матрицы  необходимо, чтобы ее определитель не был равен нулю."
   ]
  },
  {
   "cell_type": "code",
   "execution_count": 8,
   "metadata": {},
   "outputs": [
    {
     "name": "stdout",
     "output_type": "stream",
     "text": [
      "[[-2.36873882  0.9579563  -1.02719207 -1.56317302]\n",
      " [ 1.36710555 -0.10264808  1.77441158 -0.30366769]\n",
      " [-0.29200443  0.07068886  1.73423282  0.63422684]\n",
      " [-0.62700962  1.02728952 -0.86374537  1.38463307]]\n",
      "-10.152677504730708\n"
     ]
    }
   ],
   "source": [
    "P = np.random.normal(size=(4, 4))\n",
    "det = np.linalg.det(P)\n",
    "if det ==0:\n",
    "    P = np.random.normal(size=(4, 4))\n",
    "print(P)\n",
    "print(det)"
   ]
  },
  {
   "cell_type": "code",
   "execution_count": 9,
   "metadata": {},
   "outputs": [
    {
     "data": {
      "text/html": [
       "<div>\n",
       "<style scoped>\n",
       "    .dataframe tbody tr th:only-of-type {\n",
       "        vertical-align: middle;\n",
       "    }\n",
       "\n",
       "    .dataframe tbody tr th {\n",
       "        vertical-align: top;\n",
       "    }\n",
       "\n",
       "    .dataframe thead th {\n",
       "        text-align: right;\n",
       "    }\n",
       "</style>\n",
       "<table border=\"1\" class=\"dataframe\">\n",
       "  <thead>\n",
       "    <tr style=\"text-align: right;\">\n",
       "      <th></th>\n",
       "      <th>0</th>\n",
       "      <th>1</th>\n",
       "      <th>2</th>\n",
       "      <th>3</th>\n",
       "    </tr>\n",
       "  </thead>\n",
       "  <tbody>\n",
       "    <tr>\n",
       "      <th>0</th>\n",
       "      <td>-14,430.36</td>\n",
       "      <td>3,503.94</td>\n",
       "      <td>86,088.81</td>\n",
       "      <td>31,445.02</td>\n",
       "    </tr>\n",
       "    <tr>\n",
       "      <th>1</th>\n",
       "      <td>-11,033.91</td>\n",
       "      <td>2,682.48</td>\n",
       "      <td>65,981.61</td>\n",
       "      <td>24,088.04</td>\n",
       "    </tr>\n",
       "    <tr>\n",
       "      <th>2</th>\n",
       "      <td>-6,092.45</td>\n",
       "      <td>1,481.49</td>\n",
       "      <td>36,470.35</td>\n",
       "      <td>13,309.96</td>\n",
       "    </tr>\n",
       "    <tr>\n",
       "      <th>3</th>\n",
       "      <td>-12,149.13</td>\n",
       "      <td>2,947.62</td>\n",
       "      <td>72,353.04</td>\n",
       "      <td>26,443.65</td>\n",
       "    </tr>\n",
       "    <tr>\n",
       "      <th>4</th>\n",
       "      <td>-7,585.41</td>\n",
       "      <td>1,843.06</td>\n",
       "      <td>45,312.13</td>\n",
       "      <td>16,543.25</td>\n",
       "    </tr>\n",
       "  </tbody>\n",
       "</table>\n",
       "</div>"
      ],
      "text/plain": [
       "           0        1         2         3\n",
       "0 -14,430.36 3,503.94 86,088.81 31,445.02\n",
       "1 -11,033.91 2,682.48 65,981.61 24,088.04\n",
       "2  -6,092.45 1,481.49 36,470.35 13,309.96\n",
       "3 -12,149.13 2,947.62 72,353.04 26,443.65\n",
       "4  -7,585.41 1,843.06 45,312.13 16,543.25"
      ]
     },
     "execution_count": 9,
     "metadata": {},
     "output_type": "execute_result"
    }
   ],
   "source": [
    "features_2 = features @ P\n",
    "features_2.head()"
   ]
  },
  {
   "cell_type": "markdown",
   "metadata": {},
   "source": [
    "Произведем моделирование на измененных признаках."
   ]
  },
  {
   "cell_type": "code",
   "execution_count": 10,
   "metadata": {},
   "outputs": [
    {
     "name": "stdout",
     "output_type": "stream",
     "text": [
      "Метрика R2 для матрицы XP равняется 0.4249455028666791\n"
     ]
    }
   ],
   "source": [
    "model_2 = LinearRegression()\n",
    "model_2.fit(features_2, target)\n",
    "predictions = model_2.predict(features_2)\n",
    "r2_2 = r2_score(target, predictions)\n",
    "print(f'Метрика R2 для матрицы XP равняется {r2_2}')"
   ]
  },
  {
   "cell_type": "markdown",
   "metadata": {},
   "source": [
    "Метрики R2 обеих моделей почти одинаковые, следовательно умножение исходных данных на случайную обратимую матрицу может быть применено для их шифрования."
   ]
  }
 ],
 "metadata": {
  "ExecuteTimeLog": [
   {
    "duration": 1307,
    "start_time": "2022-06-06T20:40:46.957Z"
   },
   {
    "duration": 5,
    "start_time": "2022-06-06T20:40:48.266Z"
   },
   {
    "duration": 6,
    "start_time": "2022-06-06T20:40:48.272Z"
   },
   {
    "duration": 23,
    "start_time": "2022-06-06T20:40:48.280Z"
   },
   {
    "duration": 5,
    "start_time": "2022-06-06T20:40:48.306Z"
   },
   {
    "duration": 0,
    "start_time": "2022-06-06T20:40:48.313Z"
   },
   {
    "duration": 222,
    "start_time": "2022-06-06T20:41:12.647Z"
   },
   {
    "duration": 5,
    "start_time": "2022-06-06T20:52:53.524Z"
   },
   {
    "duration": 4,
    "start_time": "2022-06-06T20:52:56.345Z"
   },
   {
    "duration": 3,
    "start_time": "2022-06-06T20:52:59.580Z"
   },
   {
    "duration": 5,
    "start_time": "2022-06-06T20:54:53.092Z"
   },
   {
    "duration": 3,
    "start_time": "2022-06-06T20:54:55.017Z"
   },
   {
    "duration": 3,
    "start_time": "2022-06-06T20:55:02.740Z"
   },
   {
    "duration": 70,
    "start_time": "2022-06-06T20:55:04.260Z"
   },
   {
    "duration": 4,
    "start_time": "2022-06-06T20:55:50.524Z"
   },
   {
    "duration": 3,
    "start_time": "2022-06-06T20:55:51.612Z"
   },
   {
    "duration": 3,
    "start_time": "2022-06-06T20:55:53.027Z"
   },
   {
    "duration": 76,
    "start_time": "2022-06-06T20:55:54.563Z"
   },
   {
    "duration": 5,
    "start_time": "2022-06-06T20:56:13.393Z"
   },
   {
    "duration": 4,
    "start_time": "2022-06-06T20:56:14.475Z"
   },
   {
    "duration": 3,
    "start_time": "2022-06-06T20:56:15.843Z"
   },
   {
    "duration": 59,
    "start_time": "2022-06-06T20:56:17.292Z"
   },
   {
    "duration": 5,
    "start_time": "2022-06-06T21:09:44.012Z"
   },
   {
    "duration": 5,
    "start_time": "2022-06-06T21:09:44.691Z"
   },
   {
    "duration": 3,
    "start_time": "2022-06-06T21:09:45.262Z"
   },
   {
    "duration": 61,
    "start_time": "2022-06-06T21:09:46.485Z"
   },
   {
    "duration": 1342,
    "start_time": "2022-06-09T14:52:56.281Z"
   },
   {
    "duration": 5,
    "start_time": "2022-06-09T14:52:57.625Z"
   },
   {
    "duration": 13,
    "start_time": "2022-06-09T14:52:57.632Z"
   },
   {
    "duration": 5,
    "start_time": "2022-06-09T14:52:57.647Z"
   },
   {
    "duration": 128,
    "start_time": "2022-06-09T14:52:57.658Z"
   },
   {
    "duration": 9,
    "start_time": "2022-06-09T14:52:57.787Z"
   },
   {
    "duration": 107,
    "start_time": "2022-06-09T14:52:57.797Z"
   },
   {
    "duration": 0,
    "start_time": "2022-06-09T14:52:57.906Z"
   },
   {
    "duration": 0,
    "start_time": "2022-06-09T14:52:57.907Z"
   },
   {
    "duration": 0,
    "start_time": "2022-06-09T14:52:57.908Z"
   },
   {
    "duration": 1272,
    "start_time": "2022-06-09T14:53:47.091Z"
   },
   {
    "duration": 4,
    "start_time": "2022-06-09T14:53:48.365Z"
   },
   {
    "duration": 7,
    "start_time": "2022-06-09T14:53:48.371Z"
   },
   {
    "duration": 7,
    "start_time": "2022-06-09T14:53:48.379Z"
   },
   {
    "duration": 71,
    "start_time": "2022-06-09T14:53:48.388Z"
   },
   {
    "duration": 9,
    "start_time": "2022-06-09T14:53:48.461Z"
   },
   {
    "duration": 90,
    "start_time": "2022-06-09T14:53:48.471Z"
   },
   {
    "duration": 101,
    "start_time": "2022-06-09T14:53:48.564Z"
   },
   {
    "duration": 12,
    "start_time": "2022-06-09T14:53:48.667Z"
   },
   {
    "duration": 78,
    "start_time": "2022-06-09T14:53:48.682Z"
   },
   {
    "duration": 1336,
    "start_time": "2022-06-09T14:57:44.342Z"
   },
   {
    "duration": 5,
    "start_time": "2022-06-09T14:57:45.680Z"
   },
   {
    "duration": 22,
    "start_time": "2022-06-09T14:57:45.686Z"
   },
   {
    "duration": 14,
    "start_time": "2022-06-09T14:57:45.711Z"
   },
   {
    "duration": 98,
    "start_time": "2022-06-09T14:57:45.726Z"
   },
   {
    "duration": 4,
    "start_time": "2022-06-09T14:57:45.825Z"
   },
   {
    "duration": 41,
    "start_time": "2022-06-09T14:57:45.830Z"
   },
   {
    "duration": 121,
    "start_time": "2022-06-09T14:57:45.874Z"
   },
   {
    "duration": 80,
    "start_time": "2022-06-09T14:57:45.996Z"
   },
   {
    "duration": 9,
    "start_time": "2022-06-09T14:57:46.078Z"
   },
   {
    "duration": 6,
    "start_time": "2022-06-09T15:10:30.429Z"
   },
   {
    "duration": 4,
    "start_time": "2022-06-09T15:21:05.892Z"
   },
   {
    "duration": 5,
    "start_time": "2022-06-09T15:21:29.387Z"
   },
   {
    "duration": 1218,
    "start_time": "2022-06-09T15:23:23.005Z"
   },
   {
    "duration": 4,
    "start_time": "2022-06-09T15:23:24.225Z"
   },
   {
    "duration": 11,
    "start_time": "2022-06-09T15:23:24.231Z"
   },
   {
    "duration": 20,
    "start_time": "2022-06-09T15:23:24.243Z"
   },
   {
    "duration": 80,
    "start_time": "2022-06-09T15:23:24.265Z"
   },
   {
    "duration": 4,
    "start_time": "2022-06-09T15:23:24.346Z"
   },
   {
    "duration": 13,
    "start_time": "2022-06-09T15:23:24.352Z"
   },
   {
    "duration": 10,
    "start_time": "2022-06-09T15:23:24.366Z"
   },
   {
    "duration": 14,
    "start_time": "2022-06-09T15:23:24.458Z"
   },
   {
    "duration": 16,
    "start_time": "2022-06-09T15:23:24.559Z"
   },
   {
    "duration": 6,
    "start_time": "2022-06-09T15:24:11.630Z"
   },
   {
    "duration": 1265,
    "start_time": "2022-06-09T15:30:24.988Z"
   },
   {
    "duration": 4,
    "start_time": "2022-06-09T15:30:26.256Z"
   },
   {
    "duration": 7,
    "start_time": "2022-06-09T15:30:26.262Z"
   },
   {
    "duration": 6,
    "start_time": "2022-06-09T15:30:26.271Z"
   },
   {
    "duration": 68,
    "start_time": "2022-06-09T15:30:26.279Z"
   },
   {
    "duration": 5,
    "start_time": "2022-06-09T15:30:26.349Z"
   },
   {
    "duration": 14,
    "start_time": "2022-06-09T15:30:26.359Z"
   },
   {
    "duration": 184,
    "start_time": "2022-06-09T15:30:26.375Z"
   },
   {
    "duration": 8,
    "start_time": "2022-06-09T15:30:26.561Z"
   },
   {
    "duration": 12,
    "start_time": "2022-06-09T15:30:26.570Z"
   },
   {
    "duration": 4,
    "start_time": "2022-06-09T15:31:27.979Z"
   },
   {
    "duration": 4,
    "start_time": "2022-06-09T15:31:31.943Z"
   },
   {
    "duration": 8,
    "start_time": "2022-06-09T15:31:33.667Z"
   },
   {
    "duration": 4,
    "start_time": "2022-06-09T15:31:35.384Z"
   },
   {
    "duration": 8,
    "start_time": "2022-06-09T15:31:36.358Z"
   },
   {
    "duration": 8,
    "start_time": "2022-06-09T15:31:39.120Z"
   },
   {
    "duration": 4,
    "start_time": "2022-06-09T15:32:54.895Z"
   },
   {
    "duration": 4,
    "start_time": "2022-06-09T15:33:03.413Z"
   },
   {
    "duration": 10,
    "start_time": "2022-06-09T15:33:07.489Z"
   },
   {
    "duration": 1347,
    "start_time": "2022-06-09T15:33:52.160Z"
   },
   {
    "duration": 4,
    "start_time": "2022-06-09T15:33:53.510Z"
   },
   {
    "duration": 17,
    "start_time": "2022-06-09T15:33:53.516Z"
   },
   {
    "duration": 6,
    "start_time": "2022-06-09T15:33:53.535Z"
   },
   {
    "duration": 79,
    "start_time": "2022-06-09T15:33:53.543Z"
   },
   {
    "duration": 5,
    "start_time": "2022-06-09T15:33:53.624Z"
   },
   {
    "duration": 35,
    "start_time": "2022-06-09T15:33:53.631Z"
   },
   {
    "duration": 91,
    "start_time": "2022-06-09T15:33:53.669Z"
   },
   {
    "duration": 25,
    "start_time": "2022-06-09T15:33:53.765Z"
   },
   {
    "duration": 72,
    "start_time": "2022-06-09T15:33:53.792Z"
   },
   {
    "duration": 1237,
    "start_time": "2022-06-09T15:35:23.064Z"
   },
   {
    "duration": 5,
    "start_time": "2022-06-09T15:35:24.302Z"
   },
   {
    "duration": 6,
    "start_time": "2022-06-09T15:35:24.311Z"
   },
   {
    "duration": 9,
    "start_time": "2022-06-09T15:35:24.319Z"
   },
   {
    "duration": 66,
    "start_time": "2022-06-09T15:35:24.329Z"
   },
   {
    "duration": 6,
    "start_time": "2022-06-09T15:35:24.396Z"
   },
   {
    "duration": 58,
    "start_time": "2022-06-09T15:35:24.403Z"
   },
   {
    "duration": 98,
    "start_time": "2022-06-09T15:35:24.463Z"
   },
   {
    "duration": 10,
    "start_time": "2022-06-09T15:35:24.564Z"
   },
   {
    "duration": 83,
    "start_time": "2022-06-09T15:35:24.576Z"
   }
  ],
  "kernelspec": {
   "display_name": "Python 3 (ipykernel)",
   "language": "python",
   "name": "python3"
  },
  "language_info": {
   "codemirror_mode": {
    "name": "ipython",
    "version": 3
   },
   "file_extension": ".py",
   "mimetype": "text/x-python",
   "name": "python",
   "nbconvert_exporter": "python",
   "pygments_lexer": "ipython3",
   "version": "3.9.5"
  },
  "toc": {
   "base_numbering": 1,
   "nav_menu": {},
   "number_sections": true,
   "sideBar": true,
   "skip_h1_title": true,
   "title_cell": "Содержание",
   "title_sidebar": "Contents",
   "toc_cell": true,
   "toc_position": {},
   "toc_section_display": true,
   "toc_window_display": true
  }
 },
 "nbformat": 4,
 "nbformat_minor": 2
}
