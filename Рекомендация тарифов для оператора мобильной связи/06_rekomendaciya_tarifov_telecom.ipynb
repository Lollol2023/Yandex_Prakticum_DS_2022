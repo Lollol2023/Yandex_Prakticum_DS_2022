{
 "cells": [
  {
   "cell_type": "markdown",
   "id": "f7be24c6",
   "metadata": {},
   "source": [
    "<h1 id=\"tocheading\">Оглавление</h1>\n",
    "<div id=\"toc\"></div>"
   ]
  },
  {
   "cell_type": "code",
   "execution_count": 1,
   "id": "32999bd7",
   "metadata": {},
   "outputs": [
    {
     "data": {
      "application/javascript": [
       "$.getScript('https://kmahelona.github.io/ipython_notebook_goodies/ipython_notebook_toc.js')\n"
      ],
      "text/plain": [
       "<IPython.core.display.Javascript object>"
      ]
     },
     "metadata": {},
     "output_type": "display_data"
    }
   ],
   "source": [
    "%%javascript\n",
    "$.getScript('https://kmahelona.github.io/ipython_notebook_goodies/ipython_notebook_toc.js')"
   ]
  },
  {
   "cell_type": "markdown",
   "id": "61d052e9",
   "metadata": {},
   "source": [
    "# Описание проекта"
   ]
  },
  {
   "cell_type": "markdown",
   "id": "ade7efe5",
   "metadata": {},
   "source": [
    "Оператор мобильной связи «Мегалайн» выяснил: многие клиенты пользуются архивными тарифами. \n",
    "\n",
    "Они хотят построить систему, способную проанализировать поведение клиентов и предложить пользователям новый тариф: «Смарт» или «Ультра».\n",
    "\n",
    "В вашем распоряжении данные о поведении клиентов, которые уже перешли на эти тарифы (из проекта курса «Статистический анализ данных»). Нужно построить модель для задачи классификации, которая выберет подходящий тариф. Предобработка данных не понадобится — вы её уже сделали.\n",
    "\n",
    "Постройте модель с максимально большим значением accuracy. Чтобы сдать проект успешно, нужно довести долю правильных ответов по крайней мере до 0.75. Проверьте accuracy на тестовой выборке самостоятельно.\n",
    "\n",
    "**Инструкция по выполнению проекта**\n",
    "\n",
    "1. Откройте файл с данными и изучите его. Путь к файлу: datasets/users_behavior.csv. \n",
    "\n",
    "2. Разделите исходные данные на обучающую, валидационную и тестовую выборки.\n",
    "\n",
    "3. Исследуйте качество разных моделей, меняя гиперпараметры. Кратко напишите выводы исследования.\n",
    "\n",
    "4. Проверьте качество модели на тестовой выборке.\n",
    "\n",
    "5. Дополнительное задание: проверьте модели на вменяемость. "
   ]
  },
  {
   "cell_type": "markdown",
   "id": "624fbc2b",
   "metadata": {},
   "source": [
    "# Изучение данных"
   ]
  },
  {
   "cell_type": "code",
   "execution_count": 2,
   "id": "9dec791d",
   "metadata": {},
   "outputs": [],
   "source": [
    "import pandas as pd\n",
    "import matplotlib.pyplot as plt\n",
    "from scipy import stats as st\n",
    "from sklearn.model_selection import train_test_split\n",
    "from sklearn.tree import DecisionTreeClassifier \n",
    "from sklearn.ensemble import RandomForestClassifier\n",
    "from sklearn.linear_model import LogisticRegression\n",
    "from sklearn.metrics import accuracy_score, precision_score, recall_score, f1_score"
   ]
  },
  {
   "cell_type": "code",
   "execution_count": 3,
   "id": "e45ec0b0",
   "metadata": {},
   "outputs": [],
   "source": [
    "df = pd.read_csv('/datasets/users_behavior.csv')"
   ]
  },
  {
   "cell_type": "code",
   "execution_count": 4,
   "id": "be78de67",
   "metadata": {},
   "outputs": [
    {
     "data": {
      "text/plain": [
       "(3214, 5)"
      ]
     },
     "metadata": {},
     "output_type": "display_data"
    },
    {
     "name": "stdout",
     "output_type": "stream",
     "text": [
      "<class 'pandas.core.frame.DataFrame'>\n",
      "RangeIndex: 3214 entries, 0 to 3213\n",
      "Data columns (total 5 columns):\n",
      " #   Column    Non-Null Count  Dtype  \n",
      "---  ------    --------------  -----  \n",
      " 0   calls     3214 non-null   float64\n",
      " 1   minutes   3214 non-null   float64\n",
      " 2   messages  3214 non-null   float64\n",
      " 3   mb_used   3214 non-null   float64\n",
      " 4   is_ultra  3214 non-null   int64  \n",
      "dtypes: float64(4), int64(1)\n",
      "memory usage: 125.7 KB\n"
     ]
    },
    {
     "data": {
      "text/plain": [
       "None"
      ]
     },
     "metadata": {},
     "output_type": "display_data"
    },
    {
     "data": {
      "text/html": [
       "<div>\n",
       "<style scoped>\n",
       "    .dataframe tbody tr th:only-of-type {\n",
       "        vertical-align: middle;\n",
       "    }\n",
       "\n",
       "    .dataframe tbody tr th {\n",
       "        vertical-align: top;\n",
       "    }\n",
       "\n",
       "    .dataframe thead th {\n",
       "        text-align: right;\n",
       "    }\n",
       "</style>\n",
       "<table border=\"1\" class=\"dataframe\">\n",
       "  <thead>\n",
       "    <tr style=\"text-align: right;\">\n",
       "      <th></th>\n",
       "      <th>calls</th>\n",
       "      <th>minutes</th>\n",
       "      <th>messages</th>\n",
       "      <th>mb_used</th>\n",
       "      <th>is_ultra</th>\n",
       "    </tr>\n",
       "  </thead>\n",
       "  <tbody>\n",
       "    <tr>\n",
       "      <th>0</th>\n",
       "      <td>40.0</td>\n",
       "      <td>311.90</td>\n",
       "      <td>83.0</td>\n",
       "      <td>19915.42</td>\n",
       "      <td>0</td>\n",
       "    </tr>\n",
       "    <tr>\n",
       "      <th>1</th>\n",
       "      <td>85.0</td>\n",
       "      <td>516.75</td>\n",
       "      <td>56.0</td>\n",
       "      <td>22696.96</td>\n",
       "      <td>0</td>\n",
       "    </tr>\n",
       "    <tr>\n",
       "      <th>2</th>\n",
       "      <td>77.0</td>\n",
       "      <td>467.66</td>\n",
       "      <td>86.0</td>\n",
       "      <td>21060.45</td>\n",
       "      <td>0</td>\n",
       "    </tr>\n",
       "    <tr>\n",
       "      <th>3</th>\n",
       "      <td>106.0</td>\n",
       "      <td>745.53</td>\n",
       "      <td>81.0</td>\n",
       "      <td>8437.39</td>\n",
       "      <td>1</td>\n",
       "    </tr>\n",
       "    <tr>\n",
       "      <th>4</th>\n",
       "      <td>66.0</td>\n",
       "      <td>418.74</td>\n",
       "      <td>1.0</td>\n",
       "      <td>14502.75</td>\n",
       "      <td>0</td>\n",
       "    </tr>\n",
       "    <tr>\n",
       "      <th>5</th>\n",
       "      <td>58.0</td>\n",
       "      <td>344.56</td>\n",
       "      <td>21.0</td>\n",
       "      <td>15823.37</td>\n",
       "      <td>0</td>\n",
       "    </tr>\n",
       "    <tr>\n",
       "      <th>6</th>\n",
       "      <td>57.0</td>\n",
       "      <td>431.64</td>\n",
       "      <td>20.0</td>\n",
       "      <td>3738.90</td>\n",
       "      <td>1</td>\n",
       "    </tr>\n",
       "    <tr>\n",
       "      <th>7</th>\n",
       "      <td>15.0</td>\n",
       "      <td>132.40</td>\n",
       "      <td>6.0</td>\n",
       "      <td>21911.60</td>\n",
       "      <td>0</td>\n",
       "    </tr>\n",
       "    <tr>\n",
       "      <th>8</th>\n",
       "      <td>7.0</td>\n",
       "      <td>43.39</td>\n",
       "      <td>3.0</td>\n",
       "      <td>2538.67</td>\n",
       "      <td>1</td>\n",
       "    </tr>\n",
       "    <tr>\n",
       "      <th>9</th>\n",
       "      <td>90.0</td>\n",
       "      <td>665.41</td>\n",
       "      <td>38.0</td>\n",
       "      <td>17358.61</td>\n",
       "      <td>0</td>\n",
       "    </tr>\n",
       "  </tbody>\n",
       "</table>\n",
       "</div>"
      ],
      "text/plain": [
       "   calls  minutes  messages   mb_used  is_ultra\n",
       "0   40.0   311.90      83.0  19915.42         0\n",
       "1   85.0   516.75      56.0  22696.96         0\n",
       "2   77.0   467.66      86.0  21060.45         0\n",
       "3  106.0   745.53      81.0   8437.39         1\n",
       "4   66.0   418.74       1.0  14502.75         0\n",
       "5   58.0   344.56      21.0  15823.37         0\n",
       "6   57.0   431.64      20.0   3738.90         1\n",
       "7   15.0   132.40       6.0  21911.60         0\n",
       "8    7.0    43.39       3.0   2538.67         1\n",
       "9   90.0   665.41      38.0  17358.61         0"
      ]
     },
     "metadata": {},
     "output_type": "display_data"
    }
   ],
   "source": [
    "display(df.shape)\n",
    "display(df.info())\n",
    "display(df.head(10))"
   ]
  },
  {
   "cell_type": "markdown",
   "id": "5e57e384",
   "metadata": {},
   "source": [
    "## Вывод"
   ]
  },
  {
   "cell_type": "markdown",
   "id": "d9116712",
   "metadata": {},
   "source": [
    "Целевым признаком будет столбец 'is_ultra'."
   ]
  },
  {
   "cell_type": "markdown",
   "id": "d79ec7f9",
   "metadata": {},
   "source": [
    "# Разделение на выборки"
   ]
  },
  {
   "cell_type": "markdown",
   "id": "7f2233f5",
   "metadata": {},
   "source": [
    "Присвоим значения переменным и разобьем выборку по принципу 60/20/20 на обучающую, валидационную и тестовую выборки."
   ]
  },
  {
   "cell_type": "code",
   "execution_count": 5,
   "id": "09835013",
   "metadata": {},
   "outputs": [],
   "source": [
    "features = df.drop(['is_ultra'], axis=1)\n",
    "target = df['is_ultra']\n",
    "\n",
    "random = 123456\n",
    "\n",
    "\n",
    "features, features_test, target, target_test = train_test_split(\n",
    "    features, target, test_size=0.2, random_state=random, stratify=target)\n",
    "features_train, features_valid, target_train, target_valid = train_test_split(\n",
    "    features, target, train_size=0.6, random_state=random, stratify=target)"
   ]
  },
  {
   "cell_type": "markdown",
   "id": "8cae5168",
   "metadata": {},
   "source": [
    "# Исследование и сравнение моделей"
   ]
  },
  {
   "cell_type": "markdown",
   "id": "c9eb75af",
   "metadata": {},
   "source": [
    "**Сперва рассмотрим модель Дерево решений**"
   ]
  },
  {
   "cell_type": "code",
   "execution_count": 6,
   "id": "25e6a53a",
   "metadata": {},
   "outputs": [
    {
     "data": {
      "text/plain": [
       "'Глубина дерева 1, Точность 0.7414965986394558'"
      ]
     },
     "metadata": {},
     "output_type": "display_data"
    },
    {
     "data": {
      "text/plain": [
       "'Глубина дерева 2, Точность 0.7696793002915452'"
      ]
     },
     "metadata": {},
     "output_type": "display_data"
    },
    {
     "data": {
      "text/plain": [
       "'Глубина дерева 3, Точность 0.7852283770651117'"
      ]
     },
     "metadata": {},
     "output_type": "display_data"
    },
    {
     "data": {
      "text/plain": [
       "'Глубина дерева 4, Точность 0.7871720116618076'"
      ]
     },
     "metadata": {},
     "output_type": "display_data"
    },
    {
     "data": {
      "text/plain": [
       "'Глубина дерева 5, Точность 0.793002915451895'"
      ]
     },
     "metadata": {},
     "output_type": "display_data"
    },
    {
     "data": {
      "text/plain": [
       "'Глубина дерева 6, Точность 0.7803692905733722'"
      ]
     },
     "metadata": {},
     "output_type": "display_data"
    },
    {
     "data": {
      "text/plain": [
       "'Глубина дерева 7, Точность 0.7774538386783285'"
      ]
     },
     "metadata": {},
     "output_type": "display_data"
    },
    {
     "data": {
      "text/plain": [
       "'Глубина дерева 8, Точность 0.782312925170068'"
      ]
     },
     "metadata": {},
     "output_type": "display_data"
    },
    {
     "data": {
      "text/plain": [
       "'Глубина дерева 9, Точность 0.783284742468416'"
      ]
     },
     "metadata": {},
     "output_type": "display_data"
    },
    {
     "data": {
      "text/plain": [
       "'Глубина дерева 10, Точность 0.7793974732750243'"
      ]
     },
     "metadata": {},
     "output_type": "display_data"
    },
    {
     "data": {
      "text/plain": [
       "'Глубина дерева 11, Точность 0.7755102040816326'"
      ]
     },
     "metadata": {},
     "output_type": "display_data"
    },
    {
     "data": {
      "text/plain": [
       "'Глубина дерева 12, Точность 0.771622934888241'"
      ]
     },
     "metadata": {},
     "output_type": "display_data"
    },
    {
     "data": {
      "text/plain": [
       "'Глубина дерева 13, Точность 0.7687074829931972'"
      ]
     },
     "metadata": {},
     "output_type": "display_data"
    },
    {
     "data": {
      "text/plain": [
       "'Глубина дерева 14, Точность 0.7657920310981535'"
      ]
     },
     "metadata": {},
     "output_type": "display_data"
    },
    {
     "data": {
      "text/plain": [
       "'Глубина дерева 15, Точность 0.7648202137998056'"
      ]
     },
     "metadata": {},
     "output_type": "display_data"
    },
    {
     "data": {
      "text/plain": [
       "'Глубина дерева 16, Точность 0.7560738581146744'"
      ]
     },
     "metadata": {},
     "output_type": "display_data"
    },
    {
     "data": {
      "text/plain": [
       "'Глубина дерева 17, Точность 0.7531584062196307'"
      ]
     },
     "metadata": {},
     "output_type": "display_data"
    },
    {
     "data": {
      "text/plain": [
       "'Глубина дерева 18, Точность 0.7521865889212828'"
      ]
     },
     "metadata": {},
     "output_type": "display_data"
    },
    {
     "data": {
      "text/plain": [
       "'Глубина дерева 19, Точность 0.7356656948493683'"
      ]
     },
     "metadata": {},
     "output_type": "display_data"
    },
    {
     "data": {
      "text/plain": [
       "'Глубина дерева 20, Точность 0.7376093294460642'"
      ]
     },
     "metadata": {},
     "output_type": "display_data"
    },
    {
     "data": {
      "text/plain": [
       "'Глубина дерева 21, Точность 0.738581146744412'"
      ]
     },
     "metadata": {},
     "output_type": "display_data"
    },
    {
     "data": {
      "text/plain": [
       "'Глубина дерева 22, Точность 0.738581146744412'"
      ]
     },
     "metadata": {},
     "output_type": "display_data"
    },
    {
     "data": {
      "text/plain": [
       "'Глубина дерева 23, Точность 0.7346938775510204'"
      ]
     },
     "metadata": {},
     "output_type": "display_data"
    },
    {
     "data": {
      "text/plain": [
       "'Глубина дерева 24, Точность 0.7317784256559767'"
      ]
     },
     "metadata": {},
     "output_type": "display_data"
    },
    {
     "data": {
      "text/plain": [
       "'Глубина дерева 25, Точность 0.7346938775510204'"
      ]
     },
     "metadata": {},
     "output_type": "display_data"
    },
    {
     "data": {
      "text/plain": [
       "'Глубина дерева 26, Точность 0.7240038872691934'"
      ]
     },
     "metadata": {},
     "output_type": "display_data"
    },
    {
     "data": {
      "text/plain": [
       "'Глубина дерева 27, Точность 0.7317784256559767'"
      ]
     },
     "metadata": {},
     "output_type": "display_data"
    },
    {
     "data": {
      "text/plain": [
       "'Глубина дерева 28, Точность 0.7327502429543246'"
      ]
     },
     "metadata": {},
     "output_type": "display_data"
    },
    {
     "data": {
      "text/plain": [
       "'Глубина дерева 29, Точность 0.7327502429543246'"
      ]
     },
     "metadata": {},
     "output_type": "display_data"
    },
    {
     "data": {
      "text/plain": [
       "'Глубина дерева 30, Точность 0.7327502429543246'"
      ]
     },
     "metadata": {},
     "output_type": "display_data"
    },
    {
     "data": {
      "text/plain": [
       "'Глубина дерева 31, Точность 0.7327502429543246'"
      ]
     },
     "metadata": {},
     "output_type": "display_data"
    },
    {
     "data": {
      "text/plain": [
       "'Глубина дерева 32, Точность 0.7327502429543246'"
      ]
     },
     "metadata": {},
     "output_type": "display_data"
    },
    {
     "data": {
      "text/plain": [
       "'Глубина дерева 33, Точность 0.7327502429543246'"
      ]
     },
     "metadata": {},
     "output_type": "display_data"
    },
    {
     "data": {
      "text/plain": [
       "'Глубина дерева 34, Точность 0.7327502429543246'"
      ]
     },
     "metadata": {},
     "output_type": "display_data"
    },
    {
     "data": {
      "text/plain": [
       "'Глубина дерева 35, Точность 0.7327502429543246'"
      ]
     },
     "metadata": {},
     "output_type": "display_data"
    },
    {
     "data": {
      "text/plain": [
       "'Глубина дерева 36, Точность 0.7327502429543246'"
      ]
     },
     "metadata": {},
     "output_type": "display_data"
    },
    {
     "data": {
      "text/plain": [
       "'Глубина дерева 37, Точность 0.7327502429543246'"
      ]
     },
     "metadata": {},
     "output_type": "display_data"
    },
    {
     "data": {
      "text/plain": [
       "'Глубина дерева 38, Точность 0.7327502429543246'"
      ]
     },
     "metadata": {},
     "output_type": "display_data"
    },
    {
     "data": {
      "text/plain": [
       "'Глубина дерева 39, Точность 0.7327502429543246'"
      ]
     },
     "metadata": {},
     "output_type": "display_data"
    },
    {
     "data": {
      "text/plain": [
       "'Глубина дерева 40, Точность 0.7327502429543246'"
      ]
     },
     "metadata": {},
     "output_type": "display_data"
    },
    {
     "data": {
      "text/plain": [
       "'Глубина дерева 41, Точность 0.7327502429543246'"
      ]
     },
     "metadata": {},
     "output_type": "display_data"
    },
    {
     "data": {
      "text/plain": [
       "'Глубина дерева 42, Точность 0.7327502429543246'"
      ]
     },
     "metadata": {},
     "output_type": "display_data"
    },
    {
     "data": {
      "text/plain": [
       "'Глубина дерева 43, Точность 0.7327502429543246'"
      ]
     },
     "metadata": {},
     "output_type": "display_data"
    },
    {
     "data": {
      "text/plain": [
       "'Глубина дерева 44, Точность 0.7327502429543246'"
      ]
     },
     "metadata": {},
     "output_type": "display_data"
    },
    {
     "data": {
      "text/plain": [
       "'Глубина дерева 45, Точность 0.7327502429543246'"
      ]
     },
     "metadata": {},
     "output_type": "display_data"
    },
    {
     "data": {
      "text/plain": [
       "'Глубина дерева 46, Точность 0.7327502429543246'"
      ]
     },
     "metadata": {},
     "output_type": "display_data"
    },
    {
     "data": {
      "text/plain": [
       "'Глубина дерева 47, Точность 0.7327502429543246'"
      ]
     },
     "metadata": {},
     "output_type": "display_data"
    },
    {
     "data": {
      "text/plain": [
       "'Глубина дерева 48, Точность 0.7327502429543246'"
      ]
     },
     "metadata": {},
     "output_type": "display_data"
    },
    {
     "data": {
      "text/plain": [
       "'Глубина дерева 49, Точность 0.7327502429543246'"
      ]
     },
     "metadata": {},
     "output_type": "display_data"
    },
    {
     "data": {
      "text/plain": [
       "'Глубина дерева 50, Точность 0.7327502429543246'"
      ]
     },
     "metadata": {},
     "output_type": "display_data"
    },
    {
     "data": {
      "text/plain": [
       "'Глубина дерева 51, Точность 0.7327502429543246'"
      ]
     },
     "metadata": {},
     "output_type": "display_data"
    },
    {
     "data": {
      "text/plain": [
       "'Глубина дерева 52, Точность 0.7327502429543246'"
      ]
     },
     "metadata": {},
     "output_type": "display_data"
    },
    {
     "data": {
      "text/plain": [
       "'Глубина дерева 53, Точность 0.7327502429543246'"
      ]
     },
     "metadata": {},
     "output_type": "display_data"
    },
    {
     "data": {
      "text/plain": [
       "'Глубина дерева 54, Точность 0.7327502429543246'"
      ]
     },
     "metadata": {},
     "output_type": "display_data"
    },
    {
     "data": {
      "text/plain": [
       "'Глубина дерева 55, Точность 0.7327502429543246'"
      ]
     },
     "metadata": {},
     "output_type": "display_data"
    },
    {
     "data": {
      "text/plain": [
       "'Глубина дерева 56, Точность 0.7327502429543246'"
      ]
     },
     "metadata": {},
     "output_type": "display_data"
    },
    {
     "data": {
      "text/plain": [
       "'Глубина дерева 57, Точность 0.7327502429543246'"
      ]
     },
     "metadata": {},
     "output_type": "display_data"
    },
    {
     "data": {
      "text/plain": [
       "'Глубина дерева 58, Точность 0.7327502429543246'"
      ]
     },
     "metadata": {},
     "output_type": "display_data"
    },
    {
     "data": {
      "text/plain": [
       "'Глубина дерева 59, Точность 0.7327502429543246'"
      ]
     },
     "metadata": {},
     "output_type": "display_data"
    },
    {
     "data": {
      "text/plain": [
       "'Глубина дерева 60, Точность 0.7327502429543246'"
      ]
     },
     "metadata": {},
     "output_type": "display_data"
    },
    {
     "data": {
      "text/plain": [
       "'Глубина дерева 61, Точность 0.7327502429543246'"
      ]
     },
     "metadata": {},
     "output_type": "display_data"
    },
    {
     "data": {
      "text/plain": [
       "'Глубина дерева 62, Точность 0.7327502429543246'"
      ]
     },
     "metadata": {},
     "output_type": "display_data"
    },
    {
     "data": {
      "text/plain": [
       "'Глубина дерева 63, Точность 0.7327502429543246'"
      ]
     },
     "metadata": {},
     "output_type": "display_data"
    },
    {
     "data": {
      "text/plain": [
       "'Глубина дерева 64, Точность 0.7327502429543246'"
      ]
     },
     "metadata": {},
     "output_type": "display_data"
    },
    {
     "data": {
      "text/plain": [
       "'Глубина дерева 65, Точность 0.7327502429543246'"
      ]
     },
     "metadata": {},
     "output_type": "display_data"
    },
    {
     "data": {
      "text/plain": [
       "'Глубина дерева 66, Точность 0.7327502429543246'"
      ]
     },
     "metadata": {},
     "output_type": "display_data"
    },
    {
     "data": {
      "text/plain": [
       "'Глубина дерева 67, Точность 0.7327502429543246'"
      ]
     },
     "metadata": {},
     "output_type": "display_data"
    },
    {
     "data": {
      "text/plain": [
       "'Глубина дерева 68, Точность 0.7327502429543246'"
      ]
     },
     "metadata": {},
     "output_type": "display_data"
    },
    {
     "data": {
      "text/plain": [
       "'Глубина дерева 69, Точность 0.7327502429543246'"
      ]
     },
     "metadata": {},
     "output_type": "display_data"
    },
    {
     "data": {
      "text/plain": [
       "'Глубина дерева 70, Точность 0.7327502429543246'"
      ]
     },
     "metadata": {},
     "output_type": "display_data"
    },
    {
     "data": {
      "text/plain": [
       "'Глубина дерева 71, Точность 0.7327502429543246'"
      ]
     },
     "metadata": {},
     "output_type": "display_data"
    },
    {
     "data": {
      "text/plain": [
       "'Глубина дерева 72, Точность 0.7327502429543246'"
      ]
     },
     "metadata": {},
     "output_type": "display_data"
    },
    {
     "data": {
      "text/plain": [
       "'Глубина дерева 73, Точность 0.7327502429543246'"
      ]
     },
     "metadata": {},
     "output_type": "display_data"
    },
    {
     "data": {
      "text/plain": [
       "'Глубина дерева 74, Точность 0.7327502429543246'"
      ]
     },
     "metadata": {},
     "output_type": "display_data"
    },
    {
     "data": {
      "text/plain": [
       "'Глубина дерева 75, Точность 0.7327502429543246'"
      ]
     },
     "metadata": {},
     "output_type": "display_data"
    },
    {
     "data": {
      "text/plain": [
       "'Глубина дерева 76, Точность 0.7327502429543246'"
      ]
     },
     "metadata": {},
     "output_type": "display_data"
    },
    {
     "data": {
      "text/plain": [
       "'Глубина дерева 77, Точность 0.7327502429543246'"
      ]
     },
     "metadata": {},
     "output_type": "display_data"
    },
    {
     "data": {
      "text/plain": [
       "'Глубина дерева 78, Точность 0.7327502429543246'"
      ]
     },
     "metadata": {},
     "output_type": "display_data"
    },
    {
     "data": {
      "text/plain": [
       "'Глубина дерева 79, Точность 0.7327502429543246'"
      ]
     },
     "metadata": {},
     "output_type": "display_data"
    },
    {
     "data": {
      "text/plain": [
       "'Глубина дерева 80, Точность 0.7327502429543246'"
      ]
     },
     "metadata": {},
     "output_type": "display_data"
    },
    {
     "data": {
      "text/plain": [
       "'Глубина дерева 81, Точность 0.7327502429543246'"
      ]
     },
     "metadata": {},
     "output_type": "display_data"
    },
    {
     "data": {
      "text/plain": [
       "'Глубина дерева 82, Точность 0.7327502429543246'"
      ]
     },
     "metadata": {},
     "output_type": "display_data"
    },
    {
     "data": {
      "text/plain": [
       "'Глубина дерева 83, Точность 0.7327502429543246'"
      ]
     },
     "metadata": {},
     "output_type": "display_data"
    },
    {
     "data": {
      "text/plain": [
       "'Глубина дерева 84, Точность 0.7327502429543246'"
      ]
     },
     "metadata": {},
     "output_type": "display_data"
    },
    {
     "data": {
      "text/plain": [
       "'Глубина дерева 85, Точность 0.7327502429543246'"
      ]
     },
     "metadata": {},
     "output_type": "display_data"
    },
    {
     "data": {
      "text/plain": [
       "'Глубина дерева 86, Точность 0.7327502429543246'"
      ]
     },
     "metadata": {},
     "output_type": "display_data"
    },
    {
     "data": {
      "text/plain": [
       "'Глубина дерева 87, Точность 0.7327502429543246'"
      ]
     },
     "metadata": {},
     "output_type": "display_data"
    },
    {
     "data": {
      "text/plain": [
       "'Глубина дерева 88, Точность 0.7327502429543246'"
      ]
     },
     "metadata": {},
     "output_type": "display_data"
    },
    {
     "data": {
      "text/plain": [
       "'Глубина дерева 89, Точность 0.7327502429543246'"
      ]
     },
     "metadata": {},
     "output_type": "display_data"
    },
    {
     "data": {
      "text/plain": [
       "'Глубина дерева 90, Точность 0.7327502429543246'"
      ]
     },
     "metadata": {},
     "output_type": "display_data"
    },
    {
     "data": {
      "text/plain": [
       "'Глубина дерева 91, Точность 0.7327502429543246'"
      ]
     },
     "metadata": {},
     "output_type": "display_data"
    },
    {
     "data": {
      "text/plain": [
       "'Глубина дерева 92, Точность 0.7327502429543246'"
      ]
     },
     "metadata": {},
     "output_type": "display_data"
    },
    {
     "data": {
      "text/plain": [
       "'Глубина дерева 93, Точность 0.7327502429543246'"
      ]
     },
     "metadata": {},
     "output_type": "display_data"
    },
    {
     "data": {
      "text/plain": [
       "'Глубина дерева 94, Точность 0.7327502429543246'"
      ]
     },
     "metadata": {},
     "output_type": "display_data"
    },
    {
     "data": {
      "text/plain": [
       "'Глубина дерева 95, Точность 0.7327502429543246'"
      ]
     },
     "metadata": {},
     "output_type": "display_data"
    },
    {
     "data": {
      "text/plain": [
       "'Глубина дерева 96, Точность 0.7327502429543246'"
      ]
     },
     "metadata": {},
     "output_type": "display_data"
    },
    {
     "data": {
      "text/plain": [
       "'Глубина дерева 97, Точность 0.7327502429543246'"
      ]
     },
     "metadata": {},
     "output_type": "display_data"
    },
    {
     "data": {
      "text/plain": [
       "'Глубина дерева 98, Точность 0.7327502429543246'"
      ]
     },
     "metadata": {},
     "output_type": "display_data"
    },
    {
     "data": {
      "text/plain": [
       "'Глубина дерева 99, Точность 0.7327502429543246'"
      ]
     },
     "metadata": {},
     "output_type": "display_data"
    },
    {
     "data": {
      "text/plain": [
       "'Лучшая глубина дерева - 5, Лучшая точность - 0.793002915451895'"
      ]
     },
     "metadata": {},
     "output_type": "display_data"
    },
    {
     "name": "stdout",
     "output_type": "stream",
     "text": [
      "CPU times: user 1.11 s, sys: 51.2 ms, total: 1.16 s\n",
      "Wall time: 1.28 s\n"
     ]
    }
   ],
   "source": [
    "%%time\n",
    "\n",
    "best_depth_tree = 0\n",
    "best_model_tree = None\n",
    "best_result_tree = 0\n",
    "for depth in range(1, 100):#взяла большой размах)\n",
    "    model_tree = DecisionTreeClassifier(random_state=random, max_depth= depth)\n",
    "    model_tree.fit(features_train, target_train) # обучаем\n",
    "    predicted_valid_tree = model_tree.predict(features_valid) # получаем предсказания\n",
    "    result_tree = accuracy_score(target_valid, predicted_valid_tree) # считаем качество модели\n",
    "    display(\"Глубина дерева {}, Точность {}\".format(depth,result_tree))\n",
    "    if result_tree > best_result_tree:\n",
    "        best_depth_tree = depth\n",
    "        best_result_tree = result_tree\n",
    "        best_model_tree = model_tree\n",
    "        \n",
    "display('Лучшая глубина дерева - {}, Лучшая точность - {}'.format(best_depth_tree, best_result_tree))\n",
    "\n"
   ]
  },
  {
   "cell_type": "markdown",
   "id": "f941b59a",
   "metadata": {},
   "source": [
    "**На очереди - модель Случайный лес**"
   ]
  },
  {
   "cell_type": "code",
   "execution_count": 7,
   "id": "a35b4e5b",
   "metadata": {},
   "outputs": [
    {
     "data": {
      "text/plain": [
       "'Количество деревьев 1, Точность 0.7152575315840622'"
      ]
     },
     "metadata": {},
     "output_type": "display_data"
    },
    {
     "data": {
      "text/plain": [
       "'Количество деревьев 2, Точность 0.7764820213799806'"
      ]
     },
     "metadata": {},
     "output_type": "display_data"
    },
    {
     "data": {
      "text/plain": [
       "'Количество деревьев 3, Точность 0.7648202137998056'"
      ]
     },
     "metadata": {},
     "output_type": "display_data"
    },
    {
     "data": {
      "text/plain": [
       "'Количество деревьев 4, Точность 0.7978620019436345'"
      ]
     },
     "metadata": {},
     "output_type": "display_data"
    },
    {
     "data": {
      "text/plain": [
       "'Количество деревьев 5, Точность 0.7793974732750243'"
      ]
     },
     "metadata": {},
     "output_type": "display_data"
    },
    {
     "data": {
      "text/plain": [
       "'Количество деревьев 6, Точность 0.793002915451895'"
      ]
     },
     "metadata": {},
     "output_type": "display_data"
    },
    {
     "data": {
      "text/plain": [
       "'Количество деревьев 7, Точность 0.7842565597667639'"
      ]
     },
     "metadata": {},
     "output_type": "display_data"
    },
    {
     "data": {
      "text/plain": [
       "'Количество деревьев 8, Точность 0.7891156462585034'"
      ]
     },
     "metadata": {},
     "output_type": "display_data"
    },
    {
     "data": {
      "text/plain": [
       "'Количество деревьев 9, Точность 0.7793974732750243'"
      ]
     },
     "metadata": {},
     "output_type": "display_data"
    },
    {
     "data": {
      "text/plain": [
       "'Количество деревьев 10, Точность 0.7842565597667639'"
      ]
     },
     "metadata": {},
     "output_type": "display_data"
    },
    {
     "data": {
      "text/plain": [
       "'Количество деревьев 11, Точность 0.7784256559766763'"
      ]
     },
     "metadata": {},
     "output_type": "display_data"
    },
    {
     "data": {
      "text/plain": [
       "'Количество деревьев 12, Точность 0.7881438289601554'"
      ]
     },
     "metadata": {},
     "output_type": "display_data"
    },
    {
     "data": {
      "text/plain": [
       "'Количество деревьев 13, Точность 0.7793974732750243'"
      ]
     },
     "metadata": {},
     "output_type": "display_data"
    },
    {
     "data": {
      "text/plain": [
       "'Количество деревьев 14, Точность 0.7959183673469388'"
      ]
     },
     "metadata": {},
     "output_type": "display_data"
    },
    {
     "data": {
      "text/plain": [
       "'Количество деревьев 15, Точность 0.7803692905733722'"
      ]
     },
     "metadata": {},
     "output_type": "display_data"
    },
    {
     "data": {
      "text/plain": [
       "'Количество деревьев 16, Точность 0.7920310981535471'"
      ]
     },
     "metadata": {},
     "output_type": "display_data"
    },
    {
     "data": {
      "text/plain": [
       "'Количество деревьев 17, Точность 0.7813411078717201'"
      ]
     },
     "metadata": {},
     "output_type": "display_data"
    },
    {
     "data": {
      "text/plain": [
       "'Количество деревьев 18, Точность 0.7949465500485908'"
      ]
     },
     "metadata": {},
     "output_type": "display_data"
    },
    {
     "data": {
      "text/plain": [
       "'Количество деревьев 19, Точность 0.7842565597667639'"
      ]
     },
     "metadata": {},
     "output_type": "display_data"
    },
    {
     "data": {
      "text/plain": [
       "'Accuracy наилучшей модели на валидационной выборке: 0.7978620019436345, число деревьев: 4'"
      ]
     },
     "metadata": {},
     "output_type": "display_data"
    },
    {
     "name": "stdout",
     "output_type": "stream",
     "text": [
      "CPU times: user 752 ms, sys: 11.8 ms, total: 764 ms\n",
      "Wall time: 805 ms\n"
     ]
    }
   ],
   "source": [
    "%%time\n",
    "\n",
    "best_model_forest = None\n",
    "best_result_forest = 0\n",
    "for est in range(1, 20):\n",
    "    model_forest = RandomForestClassifier(random_state=random, n_estimators= est) \n",
    "    model_forest.fit(features_train, target_train) # обучаем\n",
    "    predicted_valid = model_forest.predict(features_valid) #получаем предсказания\n",
    "    result_forest = accuracy_score(target_valid, predicted_valid) # считаем качество\n",
    "    display(\"Количество деревьев {}, Точность {}\".format(est,result_forest))\n",
    "    if result_forest > best_result_forest:\n",
    "        best_model_forest = model_forest\n",
    "        best_result_forest = result_forest\n",
    "        best_est = est\n",
    "\n",
    "display (\"Accuracy наилучшей модели на валидационной выборке: {}, число деревьев: {}\".format(best_result_forest, best_est))"
   ]
  },
  {
   "cell_type": "markdown",
   "id": "8d7563f4",
   "metadata": {},
   "source": [
    "**Протестируем модель логистической регрессии**"
   ]
  },
  {
   "cell_type": "code",
   "execution_count": 8,
   "id": "96951ca1",
   "metadata": {},
   "outputs": [
    {
     "data": {
      "text/plain": [
       "'Точность 0.749271137026239'"
      ]
     },
     "metadata": {},
     "output_type": "display_data"
    },
    {
     "name": "stdout",
     "output_type": "stream",
     "text": [
      "CPU times: user 26.7 ms, sys: 481 µs, total: 27.2 ms\n",
      "Wall time: 31.4 ms\n"
     ]
    }
   ],
   "source": [
    "%%time\n",
    "\n",
    "model_log_reg = LogisticRegression(random_state=random, solver='lbfgs', max_iter=1000) \n",
    "model_log_reg.fit(features_train, target_train) \n",
    "predicted_valid = model_log_reg.predict(features_valid) \n",
    "result_log_reg = accuracy_score(target_valid, predicted_valid) \n",
    "display(\"Точность {}\".format(result_log_reg))"
   ]
  },
  {
   "cell_type": "markdown",
   "id": "e51c6971",
   "metadata": {},
   "source": [
    "## Выводы"
   ]
  },
  {
   "cell_type": "markdown",
   "id": "4ad67ecc",
   "metadata": {},
   "source": [
    "Модель дерева решений выбрала лучшую глубину == 5, точность на валидационной выборке составила - 0.793002915451895'.\n",
    "\n",
    "Модель случайного леса показала точность на валидационной выборке: 0.7978620019436345, при числе деревьев == 4.\n",
    "\n",
    "Модель логистической регрессии показала точность на валидационной выборке - 0.749271137026239.\n",
    "\n"
   ]
  },
  {
   "cell_type": "markdown",
   "id": "1d49a5ac",
   "metadata": {},
   "source": [
    "# Проверка качества на тестовой выборке"
   ]
  },
  {
   "cell_type": "markdown",
   "id": "14700bab",
   "metadata": {},
   "source": [
    "Оценим точность каждой модели на тестовой выборке "
   ]
  },
  {
   "cell_type": "code",
   "execution_count": 9,
   "id": "f5accaf7",
   "metadata": {},
   "outputs": [
    {
     "name": "stdout",
     "output_type": "stream",
     "text": [
      "Точность модели дерева решений на тестовой выборке 0.7962674961119751\n",
      "Точность модели случайного леса на тестовой выборке 0.7698289269051322\n",
      "Точность модели логистической регресиии на тестовой выборке 0.7371695178849145\n"
     ]
    }
   ],
   "source": [
    "predicted_test = best_model_tree.predict(features_test)\n",
    "result_tree = accuracy_score(target_test, predicted_test)\n",
    "print('Точность модели дерева решений на тестовой выборке',result_tree)\n",
    "\n",
    "predicted_test = best_model_forest.predict(features_test)\n",
    "result_forest = accuracy_score(target_test, predicted_test)\n",
    "print('Точность модели случайного леса на тестовой выборке',result_forest)\n",
    "\n",
    "predicted_test = model_log_reg.predict(features_test)\n",
    "result_log_reg = accuracy_score(target_test, predicted_test)\n",
    "print('Точность модели логистической регресиии на тестовой выборке',result_log_reg)"
   ]
  },
  {
   "cell_type": "markdown",
   "id": "96c7cc43",
   "metadata": {},
   "source": [
    "## Выводы"
   ]
  },
  {
   "cell_type": "markdown",
   "id": "9b9c9bc1",
   "metadata": {},
   "source": [
    "Показатель accuracy (точность) для модели дерева решений (глубина == 5), на тестовой выборке оказался выше, чем на валидационной и составил 0,7963. \n",
    "\n",
    "Также высокий показатель (0.7698) точности у модели дерева решений (глубина 6).\n",
    "\n",
    "Логистическая регрессия покзала себя не очень удачно (точность == 0.7372).\n"
   ]
  },
  {
   "cell_type": "markdown",
   "id": "52734bf2",
   "metadata": {},
   "source": [
    "# Оценка адекватности модели"
   ]
  },
  {
   "cell_type": "markdown",
   "id": "6450c1db",
   "metadata": {},
   "source": [
    "Оценить адекватность модели можно используя несколько метрик:\n",
    "\n",
    "* accuracy - точность совпадения прогнозов с правильными ответами.\n",
    "* precision - отношение правильно предсказанных классов равных 1(TP) к сумме правильно предсказанных классов равных 1(TP) с неправльными предсказаниями, указанные как 1(FP).\n",
    "* recall - отношение правильно предсказанных классов равных 1(TP) к сумме правильно предсказанных классов равных 1(TP) с неправльными предсказаниями, указанные как 0(FN).\n",
    "\n",
    "Для оценки адеватности используется F1-мера - среднее гармоническое между precision и recall. Если хотя бы один из параметров близок к нулю, то и F1-мера стремится к 0. Если оба стремятся к 1, то F-мера тоже стремится к 1."
   ]
  },
  {
   "cell_type": "code",
   "execution_count": 10,
   "id": "bb1ed720",
   "metadata": {},
   "outputs": [
    {
     "data": {
      "text/plain": [
       "'Дерево решений: Accuracy = 0.80, Precision = 0.78, Recall = 0.46, F-мера = 0.58'"
      ]
     },
     "metadata": {},
     "output_type": "display_data"
    },
    {
     "data": {
      "text/plain": [
       "'Случайный лес: Accuracy = 0.77, Precision = 0.66, Recall = 0.51, F-мера = 0.57'"
      ]
     },
     "metadata": {},
     "output_type": "display_data"
    },
    {
     "data": {
      "text/plain": [
       "'Логистическая регрессия: Accuracy = 0.74, Precision = 0.75, Recall = 0.21, F-мера = 0.33'"
      ]
     },
     "metadata": {},
     "output_type": "display_data"
    }
   ],
   "source": [
    "predicted_test = best_model_tree.predict(features_test)\n",
    "accuracy = accuracy_score(target_test, predicted_test)\n",
    "precision = precision_score(target_test, predicted_test)\n",
    "recall = recall_score(target_test, predicted_test)\n",
    "f_score = f1_score(target_test, predicted_test)\n",
    "display('Дерево решений: Accuracy = {:.2f}, Precision = {:.2f}, Recall = {:.2f}, F-мера = {:.2f}'.format(accuracy, precision, recall, f_score))\n",
    "\n",
    "predicted_test = best_model_forest.predict(features_test)\n",
    "accuracy = accuracy_score(target_test, predicted_test)\n",
    "precision = precision_score(target_test, predicted_test)\n",
    "recall = recall_score(target_test, predicted_test)\n",
    "f_score = f1_score(target_test, predicted_test)\n",
    "display('Случайный лес: Accuracy = {:.2f}, Precision = {:.2f}, Recall = {:.2f}, F-мера = {:.2f}'.format(accuracy, precision, recall, f_score))\n",
    "\n",
    "predicted_test = model_log_reg.predict(features_test)\n",
    "accuracy = accuracy_score(target_test, predicted_test)\n",
    "precision = precision_score(target_test, predicted_test)\n",
    "recall = recall_score(target_test, predicted_test)\n",
    "f_score = f1_score(target_test, predicted_test)\n",
    "display('Логистическая регрессия: Accuracy = {:.2f}, Precision = {:.2f}, Recall = {:.2f}, F-мера = {:.2f}'.format(accuracy, precision, recall, f_score))\n"
   ]
  },
  {
   "cell_type": "markdown",
   "id": "e72247dc",
   "metadata": {},
   "source": [
    "## Вывод"
   ]
  },
  {
   "cell_type": "markdown",
   "id": "71f3eb88",
   "metadata": {},
   "source": [
    "Дерево решений показало наилучшее качество(accuracy) и адекватность (F1-мера)."
   ]
  },
  {
   "cell_type": "markdown",
   "id": "578a966f",
   "metadata": {},
   "source": [
    "# Общий вывод"
   ]
  },
  {
   "cell_type": "markdown",
   "id": "07637c69",
   "metadata": {},
   "source": [
    "Для решения задачи оператора мобильной связи «Мегалайн» мы выбрали модель с наиболее высокими показателями качества и адекватности. Ей оказалось дерево ршений (max-depth == 5). Это значит, что рекомендации по выбору тарифа будут более точными при использовании этой модели."
   ]
  }
 ],
 "metadata": {
  "ExecuteTimeLog": [
   {
    "duration": 126,
    "start_time": "2022-05-07T08:01:43.588Z"
   },
   {
    "duration": 64,
    "start_time": "2022-05-07T08:04:09.616Z"
   },
   {
    "duration": 3323,
    "start_time": "2022-05-07T08:04:09.682Z"
   },
   {
    "duration": 16,
    "start_time": "2022-05-07T08:04:13.007Z"
   },
   {
    "duration": 39,
    "start_time": "2022-05-07T08:04:13.025Z"
   },
   {
    "duration": 13,
    "start_time": "2022-05-07T08:04:13.067Z"
   },
   {
    "duration": 16,
    "start_time": "2022-05-07T08:04:13.082Z"
   },
   {
    "duration": 1462,
    "start_time": "2022-05-07T08:04:13.099Z"
   },
   {
    "duration": 736,
    "start_time": "2022-05-07T08:04:14.563Z"
   },
   {
    "duration": 28,
    "start_time": "2022-05-07T08:04:15.300Z"
   },
   {
    "duration": 11,
    "start_time": "2022-05-07T08:04:15.347Z"
   },
   {
    "duration": 22,
    "start_time": "2022-05-07T08:04:15.360Z"
   },
   {
    "duration": 11,
    "start_time": "2022-05-07T08:04:34.160Z"
   },
   {
    "duration": 51,
    "start_time": "2023-05-16T13:07:48.863Z"
   },
   {
    "duration": 1539,
    "start_time": "2023-05-16T13:07:48.916Z"
   },
   {
    "duration": 115,
    "start_time": "2023-05-16T13:07:50.457Z"
   },
   {
    "duration": 23,
    "start_time": "2023-05-16T13:07:50.574Z"
   },
   {
    "duration": 10,
    "start_time": "2023-05-16T13:07:50.598Z"
   },
   {
    "duration": 1286,
    "start_time": "2023-05-16T13:07:50.609Z"
   },
   {
    "duration": 809,
    "start_time": "2023-05-16T13:07:51.896Z"
   },
   {
    "duration": 35,
    "start_time": "2023-05-16T13:07:52.707Z"
   },
   {
    "duration": 12,
    "start_time": "2023-05-16T13:07:52.743Z"
   },
   {
    "duration": 22,
    "start_time": "2023-05-16T13:07:52.757Z"
   }
  ],
  "kernelspec": {
   "display_name": "Python 3 (ipykernel)",
   "language": "python",
   "name": "python3"
  },
  "language_info": {
   "codemirror_mode": {
    "name": "ipython",
    "version": 3
   },
   "file_extension": ".py",
   "mimetype": "text/x-python",
   "name": "python",
   "nbconvert_exporter": "python",
   "pygments_lexer": "ipython3",
   "version": "3.9.5"
  },
  "toc": {
   "base_numbering": 1,
   "nav_menu": {},
   "number_sections": true,
   "sideBar": true,
   "skip_h1_title": true,
   "title_cell": "Table of Contents",
   "title_sidebar": "Contents",
   "toc_cell": false,
   "toc_position": {},
   "toc_section_display": true,
   "toc_window_display": false
  }
 },
 "nbformat": 4,
 "nbformat_minor": 5
}
