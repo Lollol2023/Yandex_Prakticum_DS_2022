{
 "cells": [
  {
   "cell_type": "markdown",
   "id": "5aee9244",
   "metadata": {},
   "source": [
    "<h1 id=\"tocheading\">Оглавление</h1>\n",
    "<div id=\"toc\"></div>"
   ]
  },
  {
   "cell_type": "code",
   "execution_count": 1,
   "id": "de8da2bd",
   "metadata": {},
   "outputs": [
    {
     "data": {
      "application/javascript": [
       "$.getScript('https://kmahelona.github.io/ipython_notebook_goodies/ipython_notebook_toc.js')\n"
      ],
      "text/plain": [
       "<IPython.core.display.Javascript object>"
      ]
     },
     "metadata": {},
     "output_type": "display_data"
    }
   ],
   "source": [
    "%%javascript\n",
    "$.getScript('https://kmahelona.github.io/ipython_notebook_goodies/ipython_notebook_toc.js')"
   ]
  },
  {
   "cell_type": "markdown",
   "id": "7fc16542",
   "metadata": {},
   "source": [
    "# Описание проекта"
   ]
  },
  {
   "cell_type": "markdown",
   "id": "a1276f7d",
   "metadata": {},
   "source": [
    "Из «Бета-Банка» стали уходить клиенты. Каждый месяц. Немного, но заметно. Банковские маркетологи посчитали: сохранять текущих клиентов дешевле, чем привлекать новых.\n",
    "\n",
    "Нужно спрогнозировать, уйдёт клиент из банка в ближайшее время или нет. Вам предоставлены исторические данные о поведении клиентов и расторжении договоров с банком.\n",
    "\n",
    "Постройте модель с предельно большим значением F1-меры. Чтобы сдать проект успешно, нужно довести метрику до 0.59. Проверьте F1-меру на тестовой выборке самостоятельно.\n",
    "\n",
    "Дополнительно измеряйте AUC-ROC, сравнивайте её значение с F1-мерой.\n",
    "\n",
    "**Инструкция по выполнению проекта**\n",
    "\n",
    "* Загрузите и подготовьте данные. Поясните порядок действий.\n",
    "* Исследуйте баланс классов, обучите модель без учёта дисбаланса. Кратко опишите выводы.\n",
    "* Улучшите качество модели, учитывая дисбаланс классов. Обучите разные модели и найдите лучшую. Кратко опишите выводы.\n",
    "* Проведите финальное тестирование.\n",
    "\n",
    "\n",
    "**Описание данных**\n",
    "\n",
    "Данные находятся в файле /datasets/Churn.csv (англ. «отток клиентов»). \n",
    "\n",
    "Признаки:\n",
    "* RowNumber — индекс строки в данных\n",
    "* CustomerId — уникальный идентификатор клиента\n",
    "* Surname — фамилия\n",
    "* CreditScore — кредитный рейтинг\n",
    "* Geography — страна проживания\n",
    "* Gender — пол\n",
    "* Age — возраст\n",
    "* Tenure — сколько лет человек является клиентом банка\n",
    "* Balance — баланс на счёте\n",
    "* NumOfProducts — количество продуктов банка, используемых клиентом\n",
    "* HasCrCard — наличие кредитной карты\n",
    "* IsActiveMember — активность клиента\n",
    "* EstimatedSalary — предполагаемая зарплата\n",
    "* Целевой признак\n",
    "* Exited — факт ухода клиента"
   ]
  },
  {
   "cell_type": "markdown",
   "id": "825346f6",
   "metadata": {},
   "source": [
    "# Изучение и подготовка данных"
   ]
  },
  {
   "cell_type": "code",
   "execution_count": 2,
   "id": "7fd3030b",
   "metadata": {},
   "outputs": [],
   "source": [
    "import matplotlib.pyplot as plt\n",
    "import numpy as np\n",
    "import pandas as pd\n",
    "from sklearn.model_selection import train_test_split\n",
    "from sklearn.linear_model import LogisticRegression\n",
    "from sklearn.tree import DecisionTreeClassifier\n",
    "from sklearn.ensemble import RandomForestClassifier\n",
    "from sklearn.metrics import f1_score, precision_score, recall_score, accuracy_score, roc_auc_score, roc_curve\n",
    "from sklearn.utils import shuffle\n",
    "from sklearn.model_selection import GridSearchCV\n",
    "from tqdm import notebook as tqdm"
   ]
  },
  {
   "cell_type": "code",
   "execution_count": 3,
   "id": "172a492b",
   "metadata": {},
   "outputs": [],
   "source": [
    "df = pd.read_csv('/filename.csv')\n",
    "\n"
   ]
  },
  {
   "cell_type": "code",
   "execution_count": 4,
   "id": "b3465ed3",
   "metadata": {},
   "outputs": [],
   "source": [
    "#это служебная функция для запуска progress-bar - индикатора статуса процесса\n",
    "def improve_guess(rt, n):\n",
    "    return (rt + n/rt) / 2"
   ]
  },
  {
   "cell_type": "code",
   "execution_count": 5,
   "id": "8c5a4295",
   "metadata": {},
   "outputs": [
    {
     "data": {
      "text/plain": [
       "(10000, 14)"
      ]
     },
     "metadata": {},
     "output_type": "display_data"
    }
   ],
   "source": [
    "display(df.shape)"
   ]
  },
  {
   "cell_type": "code",
   "execution_count": 6,
   "id": "913e3e03",
   "metadata": {
    "scrolled": true
   },
   "outputs": [
    {
     "name": "stdout",
     "output_type": "stream",
     "text": [
      "<class 'pandas.core.frame.DataFrame'>\n",
      "RangeIndex: 10000 entries, 0 to 9999\n",
      "Data columns (total 14 columns):\n",
      " #   Column           Non-Null Count  Dtype  \n",
      "---  ------           --------------  -----  \n",
      " 0   RowNumber        10000 non-null  int64  \n",
      " 1   CustomerId       10000 non-null  int64  \n",
      " 2   Surname          10000 non-null  object \n",
      " 3   CreditScore      10000 non-null  int64  \n",
      " 4   Geography        10000 non-null  object \n",
      " 5   Gender           10000 non-null  object \n",
      " 6   Age              10000 non-null  int64  \n",
      " 7   Tenure           9091 non-null   float64\n",
      " 8   Balance          10000 non-null  float64\n",
      " 9   NumOfProducts    10000 non-null  int64  \n",
      " 10  HasCrCard        10000 non-null  int64  \n",
      " 11  IsActiveMember   10000 non-null  int64  \n",
      " 12  EstimatedSalary  10000 non-null  float64\n",
      " 13  Exited           10000 non-null  int64  \n",
      "dtypes: float64(3), int64(8), object(3)\n",
      "memory usage: 1.1+ MB\n"
     ]
    },
    {
     "data": {
      "text/plain": [
       "None"
      ]
     },
     "metadata": {},
     "output_type": "display_data"
    }
   ],
   "source": [
    "display(df.info())"
   ]
  },
  {
   "cell_type": "markdown",
   "id": "5d01224a",
   "metadata": {},
   "source": [
    "Пропуски есть только в одном столбце. С типами переменных на первый взгляд, все в порядке."
   ]
  },
  {
   "cell_type": "code",
   "execution_count": 7,
   "id": "2d274da5",
   "metadata": {},
   "outputs": [
    {
     "data": {
      "text/html": [
       "<div>\n",
       "<style scoped>\n",
       "    .dataframe tbody tr th:only-of-type {\n",
       "        vertical-align: middle;\n",
       "    }\n",
       "\n",
       "    .dataframe tbody tr th {\n",
       "        vertical-align: top;\n",
       "    }\n",
       "\n",
       "    .dataframe thead th {\n",
       "        text-align: right;\n",
       "    }\n",
       "</style>\n",
       "<table border=\"1\" class=\"dataframe\">\n",
       "  <thead>\n",
       "    <tr style=\"text-align: right;\">\n",
       "      <th></th>\n",
       "      <th>RowNumber</th>\n",
       "      <th>CustomerId</th>\n",
       "      <th>Surname</th>\n",
       "      <th>CreditScore</th>\n",
       "      <th>Geography</th>\n",
       "      <th>Gender</th>\n",
       "      <th>Age</th>\n",
       "      <th>Tenure</th>\n",
       "      <th>Balance</th>\n",
       "      <th>NumOfProducts</th>\n",
       "      <th>HasCrCard</th>\n",
       "      <th>IsActiveMember</th>\n",
       "      <th>EstimatedSalary</th>\n",
       "      <th>Exited</th>\n",
       "    </tr>\n",
       "  </thead>\n",
       "  <tbody>\n",
       "    <tr>\n",
       "      <th>0</th>\n",
       "      <td>1</td>\n",
       "      <td>15634602</td>\n",
       "      <td>Hargrave</td>\n",
       "      <td>619</td>\n",
       "      <td>France</td>\n",
       "      <td>Female</td>\n",
       "      <td>42</td>\n",
       "      <td>2.0</td>\n",
       "      <td>0.00</td>\n",
       "      <td>1</td>\n",
       "      <td>1</td>\n",
       "      <td>1</td>\n",
       "      <td>101348.88</td>\n",
       "      <td>1</td>\n",
       "    </tr>\n",
       "    <tr>\n",
       "      <th>1</th>\n",
       "      <td>2</td>\n",
       "      <td>15647311</td>\n",
       "      <td>Hill</td>\n",
       "      <td>608</td>\n",
       "      <td>Spain</td>\n",
       "      <td>Female</td>\n",
       "      <td>41</td>\n",
       "      <td>1.0</td>\n",
       "      <td>83807.86</td>\n",
       "      <td>1</td>\n",
       "      <td>0</td>\n",
       "      <td>1</td>\n",
       "      <td>112542.58</td>\n",
       "      <td>0</td>\n",
       "    </tr>\n",
       "    <tr>\n",
       "      <th>2</th>\n",
       "      <td>3</td>\n",
       "      <td>15619304</td>\n",
       "      <td>Onio</td>\n",
       "      <td>502</td>\n",
       "      <td>France</td>\n",
       "      <td>Female</td>\n",
       "      <td>42</td>\n",
       "      <td>8.0</td>\n",
       "      <td>159660.80</td>\n",
       "      <td>3</td>\n",
       "      <td>1</td>\n",
       "      <td>0</td>\n",
       "      <td>113931.57</td>\n",
       "      <td>1</td>\n",
       "    </tr>\n",
       "    <tr>\n",
       "      <th>3</th>\n",
       "      <td>4</td>\n",
       "      <td>15701354</td>\n",
       "      <td>Boni</td>\n",
       "      <td>699</td>\n",
       "      <td>France</td>\n",
       "      <td>Female</td>\n",
       "      <td>39</td>\n",
       "      <td>1.0</td>\n",
       "      <td>0.00</td>\n",
       "      <td>2</td>\n",
       "      <td>0</td>\n",
       "      <td>0</td>\n",
       "      <td>93826.63</td>\n",
       "      <td>0</td>\n",
       "    </tr>\n",
       "    <tr>\n",
       "      <th>4</th>\n",
       "      <td>5</td>\n",
       "      <td>15737888</td>\n",
       "      <td>Mitchell</td>\n",
       "      <td>850</td>\n",
       "      <td>Spain</td>\n",
       "      <td>Female</td>\n",
       "      <td>43</td>\n",
       "      <td>2.0</td>\n",
       "      <td>125510.82</td>\n",
       "      <td>1</td>\n",
       "      <td>1</td>\n",
       "      <td>1</td>\n",
       "      <td>79084.10</td>\n",
       "      <td>0</td>\n",
       "    </tr>\n",
       "    <tr>\n",
       "      <th>5</th>\n",
       "      <td>6</td>\n",
       "      <td>15574012</td>\n",
       "      <td>Chu</td>\n",
       "      <td>645</td>\n",
       "      <td>Spain</td>\n",
       "      <td>Male</td>\n",
       "      <td>44</td>\n",
       "      <td>8.0</td>\n",
       "      <td>113755.78</td>\n",
       "      <td>2</td>\n",
       "      <td>1</td>\n",
       "      <td>0</td>\n",
       "      <td>149756.71</td>\n",
       "      <td>1</td>\n",
       "    </tr>\n",
       "    <tr>\n",
       "      <th>6</th>\n",
       "      <td>7</td>\n",
       "      <td>15592531</td>\n",
       "      <td>Bartlett</td>\n",
       "      <td>822</td>\n",
       "      <td>France</td>\n",
       "      <td>Male</td>\n",
       "      <td>50</td>\n",
       "      <td>7.0</td>\n",
       "      <td>0.00</td>\n",
       "      <td>2</td>\n",
       "      <td>1</td>\n",
       "      <td>1</td>\n",
       "      <td>10062.80</td>\n",
       "      <td>0</td>\n",
       "    </tr>\n",
       "    <tr>\n",
       "      <th>7</th>\n",
       "      <td>8</td>\n",
       "      <td>15656148</td>\n",
       "      <td>Obinna</td>\n",
       "      <td>376</td>\n",
       "      <td>Germany</td>\n",
       "      <td>Female</td>\n",
       "      <td>29</td>\n",
       "      <td>4.0</td>\n",
       "      <td>115046.74</td>\n",
       "      <td>4</td>\n",
       "      <td>1</td>\n",
       "      <td>0</td>\n",
       "      <td>119346.88</td>\n",
       "      <td>1</td>\n",
       "    </tr>\n",
       "    <tr>\n",
       "      <th>8</th>\n",
       "      <td>9</td>\n",
       "      <td>15792365</td>\n",
       "      <td>He</td>\n",
       "      <td>501</td>\n",
       "      <td>France</td>\n",
       "      <td>Male</td>\n",
       "      <td>44</td>\n",
       "      <td>4.0</td>\n",
       "      <td>142051.07</td>\n",
       "      <td>2</td>\n",
       "      <td>0</td>\n",
       "      <td>1</td>\n",
       "      <td>74940.50</td>\n",
       "      <td>0</td>\n",
       "    </tr>\n",
       "    <tr>\n",
       "      <th>9</th>\n",
       "      <td>10</td>\n",
       "      <td>15592389</td>\n",
       "      <td>H?</td>\n",
       "      <td>684</td>\n",
       "      <td>France</td>\n",
       "      <td>Male</td>\n",
       "      <td>27</td>\n",
       "      <td>2.0</td>\n",
       "      <td>134603.88</td>\n",
       "      <td>1</td>\n",
       "      <td>1</td>\n",
       "      <td>1</td>\n",
       "      <td>71725.73</td>\n",
       "      <td>0</td>\n",
       "    </tr>\n",
       "  </tbody>\n",
       "</table>\n",
       "</div>"
      ],
      "text/plain": [
       "   RowNumber  CustomerId   Surname  CreditScore Geography  Gender  Age  \\\n",
       "0          1    15634602  Hargrave          619    France  Female   42   \n",
       "1          2    15647311      Hill          608     Spain  Female   41   \n",
       "2          3    15619304      Onio          502    France  Female   42   \n",
       "3          4    15701354      Boni          699    France  Female   39   \n",
       "4          5    15737888  Mitchell          850     Spain  Female   43   \n",
       "5          6    15574012       Chu          645     Spain    Male   44   \n",
       "6          7    15592531  Bartlett          822    France    Male   50   \n",
       "7          8    15656148    Obinna          376   Germany  Female   29   \n",
       "8          9    15792365        He          501    France    Male   44   \n",
       "9         10    15592389        H?          684    France    Male   27   \n",
       "\n",
       "   Tenure    Balance  NumOfProducts  HasCrCard  IsActiveMember  \\\n",
       "0     2.0       0.00              1          1               1   \n",
       "1     1.0   83807.86              1          0               1   \n",
       "2     8.0  159660.80              3          1               0   \n",
       "3     1.0       0.00              2          0               0   \n",
       "4     2.0  125510.82              1          1               1   \n",
       "5     8.0  113755.78              2          1               0   \n",
       "6     7.0       0.00              2          1               1   \n",
       "7     4.0  115046.74              4          1               0   \n",
       "8     4.0  142051.07              2          0               1   \n",
       "9     2.0  134603.88              1          1               1   \n",
       "\n",
       "   EstimatedSalary  Exited  \n",
       "0        101348.88       1  \n",
       "1        112542.58       0  \n",
       "2        113931.57       1  \n",
       "3         93826.63       0  \n",
       "4         79084.10       0  \n",
       "5        149756.71       1  \n",
       "6         10062.80       0  \n",
       "7        119346.88       1  \n",
       "8         74940.50       0  \n",
       "9         71725.73       0  "
      ]
     },
     "metadata": {},
     "output_type": "display_data"
    }
   ],
   "source": [
    "display(df.head(10))"
   ]
  },
  {
   "cell_type": "code",
   "execution_count": 8,
   "id": "517119c6",
   "metadata": {
    "scrolled": true
   },
   "outputs": [
    {
     "data": {
      "text/html": [
       "<div>\n",
       "<style scoped>\n",
       "    .dataframe tbody tr th:only-of-type {\n",
       "        vertical-align: middle;\n",
       "    }\n",
       "\n",
       "    .dataframe tbody tr th {\n",
       "        vertical-align: top;\n",
       "    }\n",
       "\n",
       "    .dataframe thead th {\n",
       "        text-align: right;\n",
       "    }\n",
       "</style>\n",
       "<table border=\"1\" class=\"dataframe\">\n",
       "  <thead>\n",
       "    <tr style=\"text-align: right;\">\n",
       "      <th></th>\n",
       "      <th>RowNumber</th>\n",
       "      <th>CustomerId</th>\n",
       "      <th>CreditScore</th>\n",
       "      <th>Age</th>\n",
       "      <th>Tenure</th>\n",
       "      <th>Balance</th>\n",
       "      <th>NumOfProducts</th>\n",
       "      <th>HasCrCard</th>\n",
       "      <th>IsActiveMember</th>\n",
       "      <th>EstimatedSalary</th>\n",
       "      <th>Exited</th>\n",
       "    </tr>\n",
       "  </thead>\n",
       "  <tbody>\n",
       "    <tr>\n",
       "      <th>count</th>\n",
       "      <td>10000.00000</td>\n",
       "      <td>1.000000e+04</td>\n",
       "      <td>10000.000000</td>\n",
       "      <td>10000.000000</td>\n",
       "      <td>9091.000000</td>\n",
       "      <td>10000.000000</td>\n",
       "      <td>10000.000000</td>\n",
       "      <td>10000.00000</td>\n",
       "      <td>10000.000000</td>\n",
       "      <td>10000.000000</td>\n",
       "      <td>10000.000000</td>\n",
       "    </tr>\n",
       "    <tr>\n",
       "      <th>mean</th>\n",
       "      <td>5000.50000</td>\n",
       "      <td>1.569094e+07</td>\n",
       "      <td>650.528800</td>\n",
       "      <td>38.921800</td>\n",
       "      <td>4.997690</td>\n",
       "      <td>76485.889288</td>\n",
       "      <td>1.530200</td>\n",
       "      <td>0.70550</td>\n",
       "      <td>0.515100</td>\n",
       "      <td>100090.239881</td>\n",
       "      <td>0.203700</td>\n",
       "    </tr>\n",
       "    <tr>\n",
       "      <th>std</th>\n",
       "      <td>2886.89568</td>\n",
       "      <td>7.193619e+04</td>\n",
       "      <td>96.653299</td>\n",
       "      <td>10.487806</td>\n",
       "      <td>2.894723</td>\n",
       "      <td>62397.405202</td>\n",
       "      <td>0.581654</td>\n",
       "      <td>0.45584</td>\n",
       "      <td>0.499797</td>\n",
       "      <td>57510.492818</td>\n",
       "      <td>0.402769</td>\n",
       "    </tr>\n",
       "    <tr>\n",
       "      <th>min</th>\n",
       "      <td>1.00000</td>\n",
       "      <td>1.556570e+07</td>\n",
       "      <td>350.000000</td>\n",
       "      <td>18.000000</td>\n",
       "      <td>0.000000</td>\n",
       "      <td>0.000000</td>\n",
       "      <td>1.000000</td>\n",
       "      <td>0.00000</td>\n",
       "      <td>0.000000</td>\n",
       "      <td>11.580000</td>\n",
       "      <td>0.000000</td>\n",
       "    </tr>\n",
       "    <tr>\n",
       "      <th>25%</th>\n",
       "      <td>2500.75000</td>\n",
       "      <td>1.562853e+07</td>\n",
       "      <td>584.000000</td>\n",
       "      <td>32.000000</td>\n",
       "      <td>2.000000</td>\n",
       "      <td>0.000000</td>\n",
       "      <td>1.000000</td>\n",
       "      <td>0.00000</td>\n",
       "      <td>0.000000</td>\n",
       "      <td>51002.110000</td>\n",
       "      <td>0.000000</td>\n",
       "    </tr>\n",
       "    <tr>\n",
       "      <th>50%</th>\n",
       "      <td>5000.50000</td>\n",
       "      <td>1.569074e+07</td>\n",
       "      <td>652.000000</td>\n",
       "      <td>37.000000</td>\n",
       "      <td>5.000000</td>\n",
       "      <td>97198.540000</td>\n",
       "      <td>1.000000</td>\n",
       "      <td>1.00000</td>\n",
       "      <td>1.000000</td>\n",
       "      <td>100193.915000</td>\n",
       "      <td>0.000000</td>\n",
       "    </tr>\n",
       "    <tr>\n",
       "      <th>75%</th>\n",
       "      <td>7500.25000</td>\n",
       "      <td>1.575323e+07</td>\n",
       "      <td>718.000000</td>\n",
       "      <td>44.000000</td>\n",
       "      <td>7.000000</td>\n",
       "      <td>127644.240000</td>\n",
       "      <td>2.000000</td>\n",
       "      <td>1.00000</td>\n",
       "      <td>1.000000</td>\n",
       "      <td>149388.247500</td>\n",
       "      <td>0.000000</td>\n",
       "    </tr>\n",
       "    <tr>\n",
       "      <th>max</th>\n",
       "      <td>10000.00000</td>\n",
       "      <td>1.581569e+07</td>\n",
       "      <td>850.000000</td>\n",
       "      <td>92.000000</td>\n",
       "      <td>10.000000</td>\n",
       "      <td>250898.090000</td>\n",
       "      <td>4.000000</td>\n",
       "      <td>1.00000</td>\n",
       "      <td>1.000000</td>\n",
       "      <td>199992.480000</td>\n",
       "      <td>1.000000</td>\n",
       "    </tr>\n",
       "  </tbody>\n",
       "</table>\n",
       "</div>"
      ],
      "text/plain": [
       "         RowNumber    CustomerId   CreditScore           Age       Tenure  \\\n",
       "count  10000.00000  1.000000e+04  10000.000000  10000.000000  9091.000000   \n",
       "mean    5000.50000  1.569094e+07    650.528800     38.921800     4.997690   \n",
       "std     2886.89568  7.193619e+04     96.653299     10.487806     2.894723   \n",
       "min        1.00000  1.556570e+07    350.000000     18.000000     0.000000   \n",
       "25%     2500.75000  1.562853e+07    584.000000     32.000000     2.000000   \n",
       "50%     5000.50000  1.569074e+07    652.000000     37.000000     5.000000   \n",
       "75%     7500.25000  1.575323e+07    718.000000     44.000000     7.000000   \n",
       "max    10000.00000  1.581569e+07    850.000000     92.000000    10.000000   \n",
       "\n",
       "             Balance  NumOfProducts    HasCrCard  IsActiveMember  \\\n",
       "count   10000.000000   10000.000000  10000.00000    10000.000000   \n",
       "mean    76485.889288       1.530200      0.70550        0.515100   \n",
       "std     62397.405202       0.581654      0.45584        0.499797   \n",
       "min         0.000000       1.000000      0.00000        0.000000   \n",
       "25%         0.000000       1.000000      0.00000        0.000000   \n",
       "50%     97198.540000       1.000000      1.00000        1.000000   \n",
       "75%    127644.240000       2.000000      1.00000        1.000000   \n",
       "max    250898.090000       4.000000      1.00000        1.000000   \n",
       "\n",
       "       EstimatedSalary        Exited  \n",
       "count     10000.000000  10000.000000  \n",
       "mean     100090.239881      0.203700  \n",
       "std       57510.492818      0.402769  \n",
       "min          11.580000      0.000000  \n",
       "25%       51002.110000      0.000000  \n",
       "50%      100193.915000      0.000000  \n",
       "75%      149388.247500      0.000000  \n",
       "max      199992.480000      1.000000  "
      ]
     },
     "metadata": {},
     "output_type": "display_data"
    }
   ],
   "source": [
    "display(df.describe())#посмотрим описательные статистики для оцнки возможных аномалий и выбросов"
   ]
  },
  {
   "cell_type": "markdown",
   "id": "ceb5b651",
   "metadata": {},
   "source": [
    "Можно отметить, что большое количество клиентов (25% от общего числа) имеют нулевой баланс, не имеют карты банка."
   ]
  },
  {
   "cell_type": "code",
   "execution_count": 9,
   "id": "dcb686e8",
   "metadata": {},
   "outputs": [
    {
     "data": {
      "text/plain": [
       "'Уникальные значения столбца RowNumber:'"
      ]
     },
     "metadata": {},
     "output_type": "display_data"
    },
    {
     "data": {
      "text/plain": [
       "array([    1,     2,     3, ...,  9998,  9999, 10000])"
      ]
     },
     "metadata": {},
     "output_type": "display_data"
    },
    {
     "data": {
      "text/plain": [
       "'Уникальные значения столбца CustomerId:'"
      ]
     },
     "metadata": {},
     "output_type": "display_data"
    },
    {
     "data": {
      "text/plain": [
       "array([15634602, 15647311, 15619304, ..., 15584532, 15682355, 15628319])"
      ]
     },
     "metadata": {},
     "output_type": "display_data"
    },
    {
     "data": {
      "text/plain": [
       "'Уникальные значения столбца Surname:'"
      ]
     },
     "metadata": {},
     "output_type": "display_data"
    },
    {
     "data": {
      "text/plain": [
       "array(['Hargrave', 'Hill', 'Onio', ..., 'Kashiwagi', 'Aldridge',\n",
       "       'Burbidge'], dtype=object)"
      ]
     },
     "metadata": {},
     "output_type": "display_data"
    },
    {
     "data": {
      "text/plain": [
       "'Уникальные значения столбца CreditScore:'"
      ]
     },
     "metadata": {},
     "output_type": "display_data"
    },
    {
     "data": {
      "text/plain": [
       "array([619, 608, 502, 699, 850, 645, 822, 376, 501, 684, 528, 497, 476,\n",
       "       549, 635, 616, 653, 587, 726, 732, 636, 510, 669, 846, 577, 756,\n",
       "       571, 574, 411, 591, 533, 553, 520, 722, 475, 490, 804, 582, 472,\n",
       "       465, 556, 834, 660, 776, 829, 637, 550, 698, 585, 788, 655, 601,\n",
       "       656, 725, 511, 614, 742, 687, 555, 603, 751, 581, 735, 661, 675,\n",
       "       738, 813, 657, 604, 519, 664, 678, 757, 416, 665, 777, 543, 506,\n",
       "       493, 652, 750, 729, 646, 647, 808, 524, 769, 730, 515, 773, 814,\n",
       "       710, 413, 623, 670, 622, 785, 605, 479, 685, 538, 562, 721, 628,\n",
       "       668, 828, 674, 625, 432, 770, 758, 795, 686, 789, 589, 461, 584,\n",
       "       579, 663, 682, 793, 691, 485, 650, 754, 535, 716, 539, 706, 586,\n",
       "       631, 717, 800, 683, 704, 615, 667, 484, 480, 578, 512, 606, 597,\n",
       "       778, 514, 525, 715, 580, 807, 521, 759, 516, 711, 618, 643, 671,\n",
       "       689, 620, 676, 572, 695, 592, 567, 694, 547, 594, 673, 610, 767,\n",
       "       763, 712, 703, 662, 659, 523, 772, 545, 634, 739, 771, 681, 544,\n",
       "       696, 766, 727, 693, 557, 531, 498, 651, 791, 733, 811, 707, 714,\n",
       "       782, 775, 799, 602, 744, 588, 747, 583, 627, 731, 629, 438, 642,\n",
       "       806, 474, 559, 429, 680, 749, 734, 644, 626, 649, 805, 718, 840,\n",
       "       630, 654, 762, 568, 613, 522, 737, 648, 443, 640, 540, 460, 593,\n",
       "       801, 611, 802, 745, 483, 690, 492, 709, 705, 560, 752, 701, 537,\n",
       "       487, 596, 702, 486, 724, 548, 464, 790, 534, 748, 494, 590, 468,\n",
       "       509, 818, 816, 536, 753, 774, 621, 569, 658, 798, 641, 542, 692,\n",
       "       639, 765, 570, 638, 599, 632, 779, 527, 564, 833, 504, 842, 508,\n",
       "       417, 598, 741, 607, 761, 848, 546, 439, 755, 760, 526, 713, 700,\n",
       "       666, 566, 495, 688, 612, 477, 427, 839, 819, 720, 459, 503, 624,\n",
       "       529, 563, 482, 796, 445, 746, 786, 554, 672, 787, 499, 844, 450,\n",
       "       815, 838, 803, 736, 633, 600, 679, 517, 792, 743, 488, 421, 841,\n",
       "       708, 507, 505, 456, 435, 561, 518, 565, 728, 784, 552, 609, 764,\n",
       "       697, 723, 551, 444, 719, 496, 541, 830, 812, 677, 420, 595, 617,\n",
       "       809, 500, 826, 434, 513, 478, 797, 363, 399, 463, 780, 452, 575,\n",
       "       837, 794, 824, 428, 823, 781, 849, 489, 431, 457, 768, 831, 359,\n",
       "       820, 573, 576, 558, 817, 449, 440, 415, 821, 530, 350, 446, 425,\n",
       "       740, 481, 783, 358, 845, 451, 458, 469, 423, 404, 836, 473, 835,\n",
       "       466, 491, 351, 827, 843, 365, 532, 414, 453, 471, 401, 810, 832,\n",
       "       470, 447, 422, 825, 430, 436, 426, 408, 847, 418, 437, 410, 454,\n",
       "       407, 455, 462, 386, 405, 383, 395, 467, 433, 442, 424, 448, 441,\n",
       "       367, 412, 382, 373, 419])"
      ]
     },
     "metadata": {},
     "output_type": "display_data"
    },
    {
     "data": {
      "text/plain": [
       "'Уникальные значения столбца Geography:'"
      ]
     },
     "metadata": {},
     "output_type": "display_data"
    },
    {
     "data": {
      "text/plain": [
       "array(['France', 'Spain', 'Germany'], dtype=object)"
      ]
     },
     "metadata": {},
     "output_type": "display_data"
    },
    {
     "data": {
      "text/plain": [
       "'Уникальные значения столбца Gender:'"
      ]
     },
     "metadata": {},
     "output_type": "display_data"
    },
    {
     "data": {
      "text/plain": [
       "array(['Female', 'Male'], dtype=object)"
      ]
     },
     "metadata": {},
     "output_type": "display_data"
    },
    {
     "data": {
      "text/plain": [
       "'Уникальные значения столбца Age:'"
      ]
     },
     "metadata": {},
     "output_type": "display_data"
    },
    {
     "data": {
      "text/plain": [
       "array([42, 41, 39, 43, 44, 50, 29, 27, 31, 24, 34, 25, 35, 45, 58, 32, 38,\n",
       "       46, 36, 33, 40, 51, 61, 49, 37, 19, 66, 56, 26, 21, 55, 75, 22, 30,\n",
       "       28, 65, 48, 52, 57, 73, 47, 54, 72, 20, 67, 79, 62, 53, 80, 59, 68,\n",
       "       23, 60, 70, 63, 64, 18, 82, 69, 74, 71, 76, 77, 88, 85, 84, 78, 81,\n",
       "       92, 83])"
      ]
     },
     "metadata": {},
     "output_type": "display_data"
    },
    {
     "data": {
      "text/plain": [
       "'Уникальные значения столбца Tenure:'"
      ]
     },
     "metadata": {},
     "output_type": "display_data"
    },
    {
     "data": {
      "text/plain": [
       "array([ 2.,  1.,  8.,  7.,  4.,  6.,  3., 10.,  5.,  9.,  0., nan])"
      ]
     },
     "metadata": {},
     "output_type": "display_data"
    },
    {
     "data": {
      "text/plain": [
       "'Уникальные значения столбца Balance:'"
      ]
     },
     "metadata": {},
     "output_type": "display_data"
    },
    {
     "data": {
      "text/plain": [
       "array([     0.  ,  83807.86, 159660.8 , ...,  57369.61,  75075.31,\n",
       "       130142.79])"
      ]
     },
     "metadata": {},
     "output_type": "display_data"
    },
    {
     "data": {
      "text/plain": [
       "'Уникальные значения столбца NumOfProducts:'"
      ]
     },
     "metadata": {},
     "output_type": "display_data"
    },
    {
     "data": {
      "text/plain": [
       "array([1, 3, 2, 4])"
      ]
     },
     "metadata": {},
     "output_type": "display_data"
    },
    {
     "data": {
      "text/plain": [
       "'Уникальные значения столбца HasCrCard:'"
      ]
     },
     "metadata": {},
     "output_type": "display_data"
    },
    {
     "data": {
      "text/plain": [
       "array([1, 0])"
      ]
     },
     "metadata": {},
     "output_type": "display_data"
    },
    {
     "data": {
      "text/plain": [
       "'Уникальные значения столбца IsActiveMember:'"
      ]
     },
     "metadata": {},
     "output_type": "display_data"
    },
    {
     "data": {
      "text/plain": [
       "array([1, 0])"
      ]
     },
     "metadata": {},
     "output_type": "display_data"
    },
    {
     "data": {
      "text/plain": [
       "'Уникальные значения столбца EstimatedSalary:'"
      ]
     },
     "metadata": {},
     "output_type": "display_data"
    },
    {
     "data": {
      "text/plain": [
       "array([101348.88, 112542.58, 113931.57, ...,  42085.58,  92888.52,\n",
       "        38190.78])"
      ]
     },
     "metadata": {},
     "output_type": "display_data"
    },
    {
     "data": {
      "text/plain": [
       "'Уникальные значения столбца Exited:'"
      ]
     },
     "metadata": {},
     "output_type": "display_data"
    },
    {
     "data": {
      "text/plain": [
       "array([1, 0])"
      ]
     },
     "metadata": {},
     "output_type": "display_data"
    }
   ],
   "source": [
    "#функция для вывода уникальных значений по каждому столбцу:\n",
    "def check_columns(df):\n",
    "    for column in df.columns:\n",
    "        display('Уникальные значения столбца {}:'.format(column))\n",
    "        display(df[column].unique())\n",
    "        \n",
    "check_columns(df)"
   ]
  },
  {
   "cell_type": "code",
   "execution_count": 10,
   "id": "57c279c8",
   "metadata": {},
   "outputs": [
    {
     "data": {
      "text/plain": [
       "0"
      ]
     },
     "metadata": {},
     "output_type": "display_data"
    }
   ],
   "source": [
    "display(df.duplicated().sum())#проверим, есть ли дубли"
   ]
  },
  {
   "cell_type": "code",
   "execution_count": 11,
   "id": "e4de5c46",
   "metadata": {},
   "outputs": [],
   "source": [
    "df.columns = df.columns.str.lower()#приведем названия признаков к нижнму регистру"
   ]
  },
  {
   "cell_type": "markdown",
   "id": "51a4d842",
   "metadata": {},
   "source": [
    "Посмотрим на столбец с нулевыми значениями."
   ]
  },
  {
   "cell_type": "code",
   "execution_count": 12,
   "id": "18eb592b",
   "metadata": {},
   "outputs": [
    {
     "data": {
      "text/plain": [
       "'Пропущенных значений в признаке tenure: 9.09%'"
      ]
     },
     "metadata": {},
     "output_type": "display_data"
    },
    {
     "data": {
      "text/html": [
       "<div>\n",
       "<style scoped>\n",
       "    .dataframe tbody tr th:only-of-type {\n",
       "        vertical-align: middle;\n",
       "    }\n",
       "\n",
       "    .dataframe tbody tr th {\n",
       "        vertical-align: top;\n",
       "    }\n",
       "\n",
       "    .dataframe thead th {\n",
       "        text-align: right;\n",
       "    }\n",
       "</style>\n",
       "<table border=\"1\" class=\"dataframe\">\n",
       "  <thead>\n",
       "    <tr style=\"text-align: right;\">\n",
       "      <th></th>\n",
       "      <th>rownumber</th>\n",
       "      <th>customerid</th>\n",
       "      <th>surname</th>\n",
       "      <th>creditscore</th>\n",
       "      <th>geography</th>\n",
       "      <th>gender</th>\n",
       "      <th>age</th>\n",
       "      <th>tenure</th>\n",
       "      <th>balance</th>\n",
       "      <th>numofproducts</th>\n",
       "      <th>hascrcard</th>\n",
       "      <th>isactivemember</th>\n",
       "      <th>estimatedsalary</th>\n",
       "      <th>exited</th>\n",
       "    </tr>\n",
       "  </thead>\n",
       "  <tbody>\n",
       "    <tr>\n",
       "      <th>30</th>\n",
       "      <td>31</td>\n",
       "      <td>15589475</td>\n",
       "      <td>Azikiwe</td>\n",
       "      <td>591</td>\n",
       "      <td>Spain</td>\n",
       "      <td>Female</td>\n",
       "      <td>39</td>\n",
       "      <td>NaN</td>\n",
       "      <td>0.00</td>\n",
       "      <td>3</td>\n",
       "      <td>1</td>\n",
       "      <td>0</td>\n",
       "      <td>140469.38</td>\n",
       "      <td>1</td>\n",
       "    </tr>\n",
       "    <tr>\n",
       "      <th>48</th>\n",
       "      <td>49</td>\n",
       "      <td>15766205</td>\n",
       "      <td>Yin</td>\n",
       "      <td>550</td>\n",
       "      <td>Germany</td>\n",
       "      <td>Male</td>\n",
       "      <td>38</td>\n",
       "      <td>NaN</td>\n",
       "      <td>103391.38</td>\n",
       "      <td>1</td>\n",
       "      <td>0</td>\n",
       "      <td>1</td>\n",
       "      <td>90878.13</td>\n",
       "      <td>0</td>\n",
       "    </tr>\n",
       "    <tr>\n",
       "      <th>51</th>\n",
       "      <td>52</td>\n",
       "      <td>15768193</td>\n",
       "      <td>Trevisani</td>\n",
       "      <td>585</td>\n",
       "      <td>Germany</td>\n",
       "      <td>Male</td>\n",
       "      <td>36</td>\n",
       "      <td>NaN</td>\n",
       "      <td>146050.97</td>\n",
       "      <td>2</td>\n",
       "      <td>0</td>\n",
       "      <td>0</td>\n",
       "      <td>86424.57</td>\n",
       "      <td>0</td>\n",
       "    </tr>\n",
       "    <tr>\n",
       "      <th>53</th>\n",
       "      <td>54</td>\n",
       "      <td>15702298</td>\n",
       "      <td>Parkhill</td>\n",
       "      <td>655</td>\n",
       "      <td>Germany</td>\n",
       "      <td>Male</td>\n",
       "      <td>41</td>\n",
       "      <td>NaN</td>\n",
       "      <td>125561.97</td>\n",
       "      <td>1</td>\n",
       "      <td>0</td>\n",
       "      <td>0</td>\n",
       "      <td>164040.94</td>\n",
       "      <td>1</td>\n",
       "    </tr>\n",
       "    <tr>\n",
       "      <th>60</th>\n",
       "      <td>61</td>\n",
       "      <td>15651280</td>\n",
       "      <td>Hunter</td>\n",
       "      <td>742</td>\n",
       "      <td>Germany</td>\n",
       "      <td>Male</td>\n",
       "      <td>35</td>\n",
       "      <td>NaN</td>\n",
       "      <td>136857.00</td>\n",
       "      <td>1</td>\n",
       "      <td>0</td>\n",
       "      <td>0</td>\n",
       "      <td>84509.57</td>\n",
       "      <td>0</td>\n",
       "    </tr>\n",
       "    <tr>\n",
       "      <th>...</th>\n",
       "      <td>...</td>\n",
       "      <td>...</td>\n",
       "      <td>...</td>\n",
       "      <td>...</td>\n",
       "      <td>...</td>\n",
       "      <td>...</td>\n",
       "      <td>...</td>\n",
       "      <td>...</td>\n",
       "      <td>...</td>\n",
       "      <td>...</td>\n",
       "      <td>...</td>\n",
       "      <td>...</td>\n",
       "      <td>...</td>\n",
       "      <td>...</td>\n",
       "    </tr>\n",
       "    <tr>\n",
       "      <th>9944</th>\n",
       "      <td>9945</td>\n",
       "      <td>15703923</td>\n",
       "      <td>Cameron</td>\n",
       "      <td>744</td>\n",
       "      <td>Germany</td>\n",
       "      <td>Male</td>\n",
       "      <td>41</td>\n",
       "      <td>NaN</td>\n",
       "      <td>190409.34</td>\n",
       "      <td>2</td>\n",
       "      <td>1</td>\n",
       "      <td>1</td>\n",
       "      <td>138361.48</td>\n",
       "      <td>0</td>\n",
       "    </tr>\n",
       "    <tr>\n",
       "      <th>9956</th>\n",
       "      <td>9957</td>\n",
       "      <td>15707861</td>\n",
       "      <td>Nucci</td>\n",
       "      <td>520</td>\n",
       "      <td>France</td>\n",
       "      <td>Female</td>\n",
       "      <td>46</td>\n",
       "      <td>NaN</td>\n",
       "      <td>85216.61</td>\n",
       "      <td>1</td>\n",
       "      <td>1</td>\n",
       "      <td>0</td>\n",
       "      <td>117369.52</td>\n",
       "      <td>1</td>\n",
       "    </tr>\n",
       "    <tr>\n",
       "      <th>9964</th>\n",
       "      <td>9965</td>\n",
       "      <td>15642785</td>\n",
       "      <td>Douglas</td>\n",
       "      <td>479</td>\n",
       "      <td>France</td>\n",
       "      <td>Male</td>\n",
       "      <td>34</td>\n",
       "      <td>NaN</td>\n",
       "      <td>117593.48</td>\n",
       "      <td>2</td>\n",
       "      <td>0</td>\n",
       "      <td>0</td>\n",
       "      <td>113308.29</td>\n",
       "      <td>0</td>\n",
       "    </tr>\n",
       "    <tr>\n",
       "      <th>9985</th>\n",
       "      <td>9986</td>\n",
       "      <td>15586914</td>\n",
       "      <td>Nepean</td>\n",
       "      <td>659</td>\n",
       "      <td>France</td>\n",
       "      <td>Male</td>\n",
       "      <td>36</td>\n",
       "      <td>NaN</td>\n",
       "      <td>123841.49</td>\n",
       "      <td>2</td>\n",
       "      <td>1</td>\n",
       "      <td>0</td>\n",
       "      <td>96833.00</td>\n",
       "      <td>0</td>\n",
       "    </tr>\n",
       "    <tr>\n",
       "      <th>9999</th>\n",
       "      <td>10000</td>\n",
       "      <td>15628319</td>\n",
       "      <td>Walker</td>\n",
       "      <td>792</td>\n",
       "      <td>France</td>\n",
       "      <td>Female</td>\n",
       "      <td>28</td>\n",
       "      <td>NaN</td>\n",
       "      <td>130142.79</td>\n",
       "      <td>1</td>\n",
       "      <td>1</td>\n",
       "      <td>0</td>\n",
       "      <td>38190.78</td>\n",
       "      <td>0</td>\n",
       "    </tr>\n",
       "  </tbody>\n",
       "</table>\n",
       "<p>909 rows × 14 columns</p>\n",
       "</div>"
      ],
      "text/plain": [
       "      rownumber  customerid    surname  creditscore geography  gender  age  \\\n",
       "30           31    15589475    Azikiwe          591     Spain  Female   39   \n",
       "48           49    15766205        Yin          550   Germany    Male   38   \n",
       "51           52    15768193  Trevisani          585   Germany    Male   36   \n",
       "53           54    15702298   Parkhill          655   Germany    Male   41   \n",
       "60           61    15651280     Hunter          742   Germany    Male   35   \n",
       "...         ...         ...        ...          ...       ...     ...  ...   \n",
       "9944       9945    15703923    Cameron          744   Germany    Male   41   \n",
       "9956       9957    15707861      Nucci          520    France  Female   46   \n",
       "9964       9965    15642785    Douglas          479    France    Male   34   \n",
       "9985       9986    15586914     Nepean          659    France    Male   36   \n",
       "9999      10000    15628319     Walker          792    France  Female   28   \n",
       "\n",
       "      tenure    balance  numofproducts  hascrcard  isactivemember  \\\n",
       "30       NaN       0.00              3          1               0   \n",
       "48       NaN  103391.38              1          0               1   \n",
       "51       NaN  146050.97              2          0               0   \n",
       "53       NaN  125561.97              1          0               0   \n",
       "60       NaN  136857.00              1          0               0   \n",
       "...      ...        ...            ...        ...             ...   \n",
       "9944     NaN  190409.34              2          1               1   \n",
       "9956     NaN   85216.61              1          1               0   \n",
       "9964     NaN  117593.48              2          0               0   \n",
       "9985     NaN  123841.49              2          1               0   \n",
       "9999     NaN  130142.79              1          1               0   \n",
       "\n",
       "      estimatedsalary  exited  \n",
       "30          140469.38       1  \n",
       "48           90878.13       0  \n",
       "51           86424.57       0  \n",
       "53          164040.94       1  \n",
       "60           84509.57       0  \n",
       "...               ...     ...  \n",
       "9944        138361.48       0  \n",
       "9956        117369.52       1  \n",
       "9964        113308.29       0  \n",
       "9985         96833.00       0  \n",
       "9999         38190.78       0  \n",
       "\n",
       "[909 rows x 14 columns]"
      ]
     },
     "metadata": {},
     "output_type": "display_data"
    }
   ],
   "source": [
    "display('Пропущенных значений в признаке tenure: {:.2%}'.format(df['tenure'].isnull()\n",
    "                                           .sum()/df['tenure'].shape[0]))\n",
    "\n",
    "display(df[df['tenure'].isnull()])"
   ]
  },
  {
   "cell_type": "markdown",
   "id": "a1b2e5c4",
   "metadata": {},
   "source": [
    "Количество объектов с пропусками в столбце 'tenure'  составляет около 9% от всей выборки. \n",
    "\n",
    "На первый взгляд, сложно определеить причину пропуска в данных и решить, что делать с пропусками. \n",
    "\n",
    "Возможно, пропуски связаны с тем, что пользователи стали клиентами менее года назад. \n",
    "\n",
    "Решено заменить пропуски на 0."
   ]
  },
  {
   "cell_type": "code",
   "execution_count": 13,
   "id": "349a6ad2",
   "metadata": {},
   "outputs": [
    {
     "name": "stdout",
     "output_type": "stream",
     "text": [
      "<class 'pandas.core.frame.DataFrame'>\n",
      "RangeIndex: 10000 entries, 0 to 9999\n",
      "Data columns (total 14 columns):\n",
      " #   Column           Non-Null Count  Dtype  \n",
      "---  ------           --------------  -----  \n",
      " 0   rownumber        10000 non-null  int64  \n",
      " 1   customerid       10000 non-null  int64  \n",
      " 2   surname          10000 non-null  object \n",
      " 3   creditscore      10000 non-null  int64  \n",
      " 4   geography        10000 non-null  object \n",
      " 5   gender           10000 non-null  object \n",
      " 6   age              10000 non-null  int64  \n",
      " 7   tenure           10000 non-null  float64\n",
      " 8   balance          10000 non-null  float64\n",
      " 9   numofproducts    10000 non-null  int64  \n",
      " 10  hascrcard        10000 non-null  int64  \n",
      " 11  isactivemember   10000 non-null  int64  \n",
      " 12  estimatedsalary  10000 non-null  float64\n",
      " 13  exited           10000 non-null  int64  \n",
      "dtypes: float64(3), int64(8), object(3)\n",
      "memory usage: 1.1+ MB\n"
     ]
    },
    {
     "data": {
      "text/plain": [
       "None"
      ]
     },
     "metadata": {},
     "output_type": "display_data"
    }
   ],
   "source": [
    "df['tenure'] = df['tenure'].fillna(0)\n",
    "display(df.info())#проверка"
   ]
  },
  {
   "cell_type": "markdown",
   "id": "77608d8f",
   "metadata": {},
   "source": [
    "Удалим столбецы RowNumber, CustomerId и Surname. Они не нужны при исследовании модели.\n",
    "\n",
    "RowNumber повторяет индекс датафрейма, CustomerId - случайный или последовательный номер, который никак не зависит от действий пользователя. Surname - признак, который отличается от человека к человеку и является именем в обществе. Это не гарант того, что клиент останется или уйдет."
   ]
  },
  {
   "cell_type": "code",
   "execution_count": 14,
   "id": "8bbcb2a2",
   "metadata": {},
   "outputs": [
    {
     "data": {
      "text/plain": [
       "(10000, 11)"
      ]
     },
     "execution_count": 14,
     "metadata": {},
     "output_type": "execute_result"
    }
   ],
   "source": [
    "df = df.drop(['rownumber','customerid','surname'], axis=1)\n",
    "df.shape"
   ]
  },
  {
   "cell_type": "markdown",
   "id": "46d4e7c7",
   "metadata": {},
   "source": [
    "## Вывод"
   ]
  },
  {
   "cell_type": "markdown",
   "id": "cb1e37d2",
   "metadata": {},
   "source": [
    "Мы провели изучение и предобработку данных: привели названия столбцов к нижнему регистру, заполнили пропуски в столбце 'tenure'. Других проблем с данными не обнаружено."
   ]
  },
  {
   "cell_type": "markdown",
   "id": "1cc88d79",
   "metadata": {},
   "source": [
    "# Изучение баланса классов, обучение модели без учёта дисбаланса"
   ]
  },
  {
   "cell_type": "markdown",
   "id": "cdf9ce83",
   "metadata": {},
   "source": [
    "Создадим датафрейм, созданный по методу прямого кодирования с защитой от дамми-ловушки."
   ]
  },
  {
   "cell_type": "code",
   "execution_count": 15,
   "id": "9fddb8f8",
   "metadata": {},
   "outputs": [
    {
     "data": {
      "text/plain": [
       "gender_Male          1\n",
       "age                  1\n",
       "geography_Spain      1\n",
       "estimatedsalary      1\n",
       "balance              1\n",
       "exited               1\n",
       "creditscore          1\n",
       "tenure               1\n",
       "geography_Germany    1\n",
       "numofproducts        1\n",
       "hascrcard            1\n",
       "isactivemember       1\n",
       "dtype: int64"
      ]
     },
     "metadata": {},
     "output_type": "display_data"
    }
   ],
   "source": [
    "ohe_df = pd.get_dummies(df, drop_first=True)\n",
    "display(ohe_df.columns.value_counts())"
   ]
  },
  {
   "cell_type": "markdown",
   "id": "4053d18d",
   "metadata": {},
   "source": [
    "Будем использовать следующие модели:\n",
    "\n",
    "Логистическая регрессия\n",
    "Случайный лес\n",
    "Решающее дерево\n",
    "\n",
    "Разобъем данные по принципу 60/20/20."
   ]
  },
  {
   "cell_type": "code",
   "execution_count": 16,
   "id": "236fb66d",
   "metadata": {},
   "outputs": [
    {
     "data": {
      "text/plain": [
       "(6000, 11)"
      ]
     },
     "metadata": {},
     "output_type": "display_data"
    },
    {
     "data": {
      "text/plain": [
       "(2000, 11)"
      ]
     },
     "metadata": {},
     "output_type": "display_data"
    },
    {
     "data": {
      "text/plain": [
       "(2000, 11)"
      ]
     },
     "metadata": {},
     "output_type": "display_data"
    },
    {
     "data": {
      "text/plain": [
       "(6000,)"
      ]
     },
     "metadata": {},
     "output_type": "display_data"
    },
    {
     "data": {
      "text/plain": [
       "(2000,)"
      ]
     },
     "metadata": {},
     "output_type": "display_data"
    },
    {
     "data": {
      "text/plain": [
       "(2000,)"
      ]
     },
     "metadata": {},
     "output_type": "display_data"
    }
   ],
   "source": [
    "target = ohe_df['exited']\n",
    "features = ohe_df.drop('exited', axis=1)\n",
    "\n",
    "features_train, features_valid, target_train, target_valid = train_test_split(features, target, test_size=0.4, \n",
    "                                                                              random_state=20052020)\n",
    "features_valid, features_test, target_valid, target_test = train_test_split(features_valid, target_valid, test_size=0.5, \n",
    "                                                                              random_state=20052020 )\n",
    "display(features_train.shape, features_valid.shape, features_test.shape)\n",
    "display(target_train.shape, target_valid.shape, target_test.shape)"
   ]
  },
  {
   "cell_type": "code",
   "execution_count": 17,
   "id": "a46070fe",
   "metadata": {
    "scrolled": false
   },
   "outputs": [
    {
     "data": {
      "text/plain": [
       "0    0.7963\n",
       "1    0.2037\n",
       "Name: exited, dtype: float64"
      ]
     },
     "execution_count": 17,
     "metadata": {},
     "output_type": "execute_result"
    }
   ],
   "source": [
    "target.value_counts(normalize=True)"
   ]
  },
  {
   "cell_type": "markdown",
   "id": "77c7593e",
   "metadata": {},
   "source": [
    "Имеется дисбаланс классов в целевом признаке! Метрика Accuracy становится нерелевантной.\n",
    "\n"
   ]
  },
  {
   "cell_type": "markdown",
   "id": "a3c37df1",
   "metadata": {},
   "source": [
    "**Сперва обучим и сравним качество моделей без работы с дисбалансом классов.**"
   ]
  },
  {
   "cell_type": "code",
   "execution_count": 18,
   "id": "946c4cd7",
   "metadata": {},
   "outputs": [],
   "source": [
    "random = 123 #вынесли random_state в отдельную переменную, чтобы не ошибиться и не указать разный"
   ]
  },
  {
   "cell_type": "markdown",
   "id": "381df89f",
   "metadata": {},
   "source": [
    "Первая модель - Дерево решений. Подбор оптимальных гиперпараметров доверим методу GridSearchCV."
   ]
  },
  {
   "cell_type": "code",
   "execution_count": 19,
   "id": "22f5f90a",
   "metadata": {},
   "outputs": [],
   "source": [
    "#создаем словарь гиперпараметров для работы метода GridSearchCV\n",
    "max_depth = range(1, 10)\n",
    "\n",
    "min_samples_split = range(2, 5, 1)\n",
    "\n",
    "max_features = ['sqrt']\n",
    "\n",
    "min_samples_leaf = range(1, 5)\n",
    "\n",
    "space = { 'max_features': max_features,\n",
    "          'max_depth': max_depth,\n",
    "          'min_samples_split': min_samples_split,\n",
    "          'min_samples_leaf': min_samples_leaf }"
   ]
  },
  {
   "cell_type": "code",
   "execution_count": 20,
   "id": "b3593848",
   "metadata": {},
   "outputs": [
    {
     "name": "stdout",
     "output_type": "stream",
     "text": [
      "{'max_depth': 7, 'max_features': 'sqrt', 'min_samples_leaf': 1, 'min_samples_split': 2}\n"
     ]
    }
   ],
   "source": [
    "model = DecisionTreeClassifier(random_state=random)\n",
    "search = GridSearchCV(model, space, scoring = 'f1')\n",
    "search.fit(features_train, target_train)\n",
    "print(search.best_params_)"
   ]
  },
  {
   "cell_type": "markdown",
   "id": "15c05937",
   "metadata": {},
   "source": [
    "Лучший результат был достигнут на глубине 7, min_samples_leaf == 1, min_samples_split == 2."
   ]
  },
  {
   "cell_type": "markdown",
   "id": "70c6360d",
   "metadata": {},
   "source": [
    "Рассмотрим, как себя ведет случайный лес. Подбор оптимальных гиперпараметров также доверим методу GridSearchCV."
   ]
  },
  {
   "cell_type": "code",
   "execution_count": 21,
   "id": "33caef98",
   "metadata": {},
   "outputs": [],
   "source": [
    "#добавим в словарь гиперпараметров n_estimators\n",
    "n_estimators = range(1,10)\n",
    "\n",
    "space = { 'n_estimators': n_estimators,\n",
    "          'max_features': max_features,\n",
    "          'max_depth': max_depth,\n",
    "          'min_samples_split': min_samples_split,\n",
    "          'min_samples_leaf': min_samples_leaf }"
   ]
  },
  {
   "cell_type": "code",
   "execution_count": 22,
   "id": "d069f75e",
   "metadata": {},
   "outputs": [
    {
     "name": "stdout",
     "output_type": "stream",
     "text": [
      "{'max_depth': 9, 'max_features': 'sqrt', 'min_samples_leaf': 4, 'min_samples_split': 2, 'n_estimators': 5}\n"
     ]
    }
   ],
   "source": [
    "model = RandomForestClassifier(random_state=random)\n",
    "search = GridSearchCV(model, space, scoring = 'f1')\n",
    "search.fit(features_train, target_train)\n",
    "print(search.best_params_)"
   ]
  },
  {
   "cell_type": "markdown",
   "id": "62c4cf4b",
   "metadata": {},
   "source": [
    "Подобрали оптимальные гиперпараметры для Случайного леса."
   ]
  },
  {
   "cell_type": "markdown",
   "id": "e59ddbd1",
   "metadata": {},
   "source": [
    "Третья модель для тестирования - Логистическая регрессия."
   ]
  },
  {
   "cell_type": "code",
   "execution_count": 23,
   "id": "48bdd6f0",
   "metadata": {},
   "outputs": [
    {
     "name": "stdout",
     "output_type": "stream",
     "text": [
      "F1 0.0922\n",
      "CPU times: user 65.1 ms, sys: 24 ms, total: 89.1 ms\n",
      "Wall time: 75.6 ms\n"
     ]
    }
   ],
   "source": [
    "%%time\n",
    "\n",
    "model =  LogisticRegression(random_state=random, solver='liblinear')\n",
    "model.fit(features_train, target_train)\n",
    "predicted_valid = model.predict(features_valid)\n",
    "print('F1', f1_score(target_valid, predicted_valid).round(4))"
   ]
  },
  {
   "cell_type": "markdown",
   "id": "e6365b12",
   "metadata": {},
   "source": [
    "Проведем сравнительную оценку accuracy, precision и recall, также покажем F1-меру."
   ]
  },
  {
   "cell_type": "code",
   "execution_count": 24,
   "id": "06770ceb",
   "metadata": {},
   "outputs": [
    {
     "name": "stdout",
     "output_type": "stream",
     "text": [
      "Дерево решений:\n",
      "Accuracy 0.861\n",
      "Precision 0.7703\n",
      "Recall 0.5058\n",
      "F1 0.6106\n",
      "\n",
      "Случайный лес:\n",
      "Accuracy 0.8595\n",
      "Precision 0.7907\n",
      "Recall 0.4733\n",
      "F1 0.5922\n",
      "\n",
      "Логистическая регрессия:\n",
      "Accuracy 0.7835\n",
      "Precision 0.4783\n",
      "Recall 0.051\n",
      "F1 0.0922\n",
      "\n"
     ]
    }
   ],
   "source": [
    "model = DecisionTreeClassifier(random_state=random, max_depth=7, min_samples_leaf=1, min_samples_split=2)\n",
    "model.fit(features_train, target_train)\n",
    "predicted_valid = model.predict(features_valid)\n",
    "print('Дерево решений:')\n",
    "print('Accuracy', accuracy_score(target_valid, predicted_valid).round(4))\n",
    "print('Precision', precision_score(target_valid, predicted_valid).round(4))\n",
    "print('Recall', recall_score(target_valid, predicted_valid).round(4))\n",
    "print('F1', f1_score(target_valid, predicted_valid).round(4))\n",
    "print()\n",
    "\n",
    "model = RandomForestClassifier(random_state=random, max_depth=9, min_samples_leaf=4, min_samples_split=2, n_estimators=5)\n",
    "model.fit(features_train, target_train)\n",
    "predicted_valid = model.predict(features_valid)\n",
    "print('Случайный лес:')\n",
    "print('Accuracy', accuracy_score(target_valid, predicted_valid).round(4))\n",
    "print('Precision', precision_score(target_valid, predicted_valid).round(4))\n",
    "print('Recall', recall_score(target_valid, predicted_valid).round(4))\n",
    "print('F1', f1_score(target_valid, predicted_valid).round(4))\n",
    "print()\n",
    "\n",
    "model = LogisticRegression(random_state=random, solver='liblinear')\n",
    "model.fit(features_train, target_train)\n",
    "predicted_valid = model.predict(features_valid)\n",
    "print('Логистическая регрессия:')\n",
    "print('Accuracy', accuracy_score(target_valid, predicted_valid).round(4))\n",
    "print('Precision', precision_score(target_valid, predicted_valid).round(4))\n",
    "print('Recall', recall_score(target_valid, predicted_valid).round(4))\n",
    "print('F1', f1_score(target_valid, predicted_valid).round(4))\n",
    "print()"
   ]
  },
  {
   "cell_type": "markdown",
   "id": "854ba88f",
   "metadata": {},
   "source": [
    "Пока у дерева решений метрики качества самые хорошие."
   ]
  },
  {
   "cell_type": "markdown",
   "id": "05acbb61",
   "metadata": {},
   "source": [
    "Построим ROC-кривую для каждой модели и выведем показатель AUC-ROC."
   ]
  },
  {
   "cell_type": "code",
   "execution_count": 25,
   "id": "599c66e1",
   "metadata": {},
   "outputs": [
    {
     "name": "stdout",
     "output_type": "stream",
     "text": [
      "AUC-ROC DecisionTreeClassifier 0.8372\n",
      "AUC-ROC RandomForestClassifier 0.8429\n",
      "AUC-ROC LogisticRegression 0.6829\n"
     ]
    },
    {
     "data": {
      "image/png": "[encoded data removed]",
      "text/plain": [
       "<Figure size 864x648 with 1 Axes>"
      ]
     },
     "metadata": {
      "needs_background": "light"
     },
     "output_type": "display_data"
    }
   ],
   "source": [
    "plt.figure(figsize=[12,9])\n",
    "\n",
    "plt.plot([0, 1], [0, 1], linestyle='--', label='RandomModel')\n",
    "\n",
    "\n",
    "model = DecisionTreeClassifier(random_state=random, max_depth=7, min_samples_leaf=1, min_samples_split=2)\n",
    "model.fit(features_train, target_train)\n",
    "probabilities_valid = model.predict_proba(features_valid)\n",
    "probabilities_one_valid = probabilities_valid[:, 1]\n",
    "fpr, tpr, thresholds = roc_curve(target_valid, probabilities_one_valid)\n",
    "auc_roc = roc_auc_score(target_valid, probabilities_one_valid)\n",
    "print('AUC-ROC DecisionTreeClassifier',auc_roc.round(4))\n",
    "plt.plot(fpr, tpr, label='DecisionTreeClassifier')\n",
    "\n",
    "model = RandomForestClassifier(random_state=random, max_depth=9, min_samples_leaf=4, min_samples_split=2, n_estimators=5)\n",
    "model.fit(features_train, target_train)\n",
    "probabilities_valid = model.predict_proba(features_valid)\n",
    "probabilities_one_valid = probabilities_valid[:, 1]\n",
    "fpr, tpr, thresholds = roc_curve(target_valid, probabilities_one_valid)\n",
    "auc_roc = roc_auc_score(target_valid, probabilities_one_valid)\n",
    "print('AUC-ROC RandomForestClassifier',auc_roc.round(4))\n",
    "plt.plot(fpr, tpr, label='RandomForestClassifier')\n",
    "\n",
    "model = LogisticRegression(random_state=random, solver='liblinear')\n",
    "model.fit(features_train, target_train)\n",
    "probabilities_valid = model.predict_proba(features_valid)\n",
    "probabilities_one_valid = probabilities_valid[:, 1]\n",
    "fpr, tpr, thresholds = roc_curve(target_valid, probabilities_one_valid)\n",
    "auc_roc = roc_auc_score(target_valid, probabilities_one_valid)\n",
    "print('AUC-ROC LogisticRegression',auc_roc.round(4))\n",
    "plt.plot(fpr, tpr, label='LogisticRegression')\n",
    "\n",
    "plt.xlim([0,1])\n",
    "plt.ylim([0,1])\n",
    "\n",
    "plt.xlabel(\"False Positive Rate\")\n",
    "plt.ylabel(\"True Positive Rate\")\n",
    "\n",
    "plt.legend(loc='lower right', fontsize='x-large')\n",
    "\n",
    "plt.title(\"ROC-кривая\")\n",
    "plt.show()"
   ]
  },
  {
   "cell_type": "markdown",
   "id": "11bcc198",
   "metadata": {},
   "source": [
    "По полученным результатам можно заметить, что метрика АUC-ROC лучшая у модели Случайного леса. "
   ]
  },
  {
   "cell_type": "markdown",
   "id": "2b9ea417",
   "metadata": {},
   "source": [
    "## Вывод"
   ]
  },
  {
   "cell_type": "markdown",
   "id": "71d03b2c",
   "metadata": {},
   "source": [
    "В данных сущестует дисбаланс классов в отношении 1:4.\n",
    "\n",
    "Возможно он влияет на качество изучаемых моделей.\n",
    "\n",
    "По полученным моделям можно заметить, что метрика АUC-ROC лучшая у модели Случайного леса, F1 - у дерева решений.\n"
   ]
  },
  {
   "cell_type": "markdown",
   "id": "c4f47aaf",
   "metadata": {},
   "source": [
    "# Улучшение качества модели. Обучение и выбор лучшей модели.\n"
   ]
  },
  {
   "cell_type": "markdown",
   "id": "c7988bb4",
   "metadata": {},
   "source": [
    "Для борьбы с дисбалансом используем следующие инструменты:\n",
    "\n",
    "* взвешивание\n",
    "* upsampling\n",
    "* downsampling\n",
    "\n",
    "Изучим возможности моделей по взвешиванию классов."
   ]
  },
  {
   "cell_type": "code",
   "execution_count": 26,
   "id": "c0c21ed1",
   "metadata": {},
   "outputs": [
    {
     "name": "stdout",
     "output_type": "stream",
     "text": [
      "Решающее дерево\n",
      "Accuracy 0.7535\n",
      "Precision 0.4565\n",
      "Recall 0.7541\n",
      "F1 0.5687\n",
      "\n",
      "Случайный лес\n",
      "Accuracy 0.812\n",
      "Precision 0.5512\n",
      "Recall 0.6868\n",
      "F1 0.6116\n",
      "\n",
      "Логистическая регрессия\n",
      "Accuracy 0.7015\n",
      "Precision 0.3955\n",
      "Recall 0.7285\n",
      "F1 0.5127\n",
      "\n"
     ]
    }
   ],
   "source": [
    "model = DecisionTreeClassifier(random_state=random, max_depth=7, min_samples_leaf=1, min_samples_split=2, class_weight='balanced')\n",
    "model.fit(features_train, target_train)\n",
    "predicted_valid = model.predict(features_valid)\n",
    "print('Решающее дерево')\n",
    "print('Accuracy', accuracy_score(target_valid, predicted_valid).round(4))\n",
    "print('Precision', precision_score(target_valid, predicted_valid).round(4))\n",
    "print('Recall', recall_score(target_valid, predicted_valid).round(4))\n",
    "print('F1', f1_score(target_valid, predicted_valid).round(4))\n",
    "print()\n",
    "\n",
    "model = RandomForestClassifier(random_state=random, max_depth=9, min_samples_leaf=4, min_samples_split=2, n_estimators=5, class_weight='balanced')\n",
    "model.fit(features_train, target_train)\n",
    "predicted_valid = model.predict(features_valid)\n",
    "print('Случайный лес')\n",
    "print('Accuracy', accuracy_score(target_valid, predicted_valid).round(4))\n",
    "print('Precision', precision_score(target_valid, predicted_valid).round(4))\n",
    "print('Recall', recall_score(target_valid, predicted_valid).round(4))\n",
    "print('F1', f1_score(target_valid, predicted_valid).round(4))\n",
    "print()\n",
    "\n",
    "model = LogisticRegression(random_state=random, solver='liblinear', class_weight='balanced')\n",
    "model.fit(features_train, target_train)\n",
    "predicted_valid = model.predict(features_valid)\n",
    "print('Логистическая регрессия')\n",
    "print('Accuracy', accuracy_score(target_valid, predicted_valid).round(4))\n",
    "print('Precision', precision_score(target_valid, predicted_valid).round(4))\n",
    "print('Recall', recall_score(target_valid, predicted_valid).round(4))\n",
    "print('F1', f1_score(target_valid, predicted_valid).round(4))\n",
    "print()"
   ]
  },
  {
   "cell_type": "markdown",
   "id": "d0784b00",
   "metadata": {},
   "source": [
    "После взвешивания классов мера F1 самая высокая  у случайного леса. "
   ]
  },
  {
   "cell_type": "markdown",
   "id": "d0119964",
   "metadata": {},
   "source": [
    "Используем метод upsampling для преодоления дисбаланса и протестируем модели еще раз."
   ]
  },
  {
   "cell_type": "code",
   "execution_count": 27,
   "id": "3bf9a372",
   "metadata": {},
   "outputs": [
    {
     "name": "stdout",
     "output_type": "stream",
     "text": [
      "1    4808\n",
      "0    4798\n",
      "Name: exited, dtype: int64\n"
     ]
    }
   ],
   "source": [
    "def upsample(features, target, repeat):\n",
    "    features_zeros = features[target == 0]\n",
    "    features_ones = features[target == 1]\n",
    "    target_zeros = target[target == 0]\n",
    "    target_ones = target[target == 1]\n",
    "\n",
    "    features_upsampled = pd.concat([features_zeros] + [features_ones] * repeat)\n",
    "    target_upsampled = pd.concat([target_zeros] + [target_ones] * repeat)\n",
    "    \n",
    "    features_upsampled, target_upsampled = shuffle(\n",
    "        features_upsampled, target_upsampled, random_state=random)\n",
    "    \n",
    "    return features_upsampled, target_upsampled\n",
    "\n",
    "features_upsampled, target_upsampled = upsample(features_train, target_train, 4)\n",
    "\n",
    "print(target_upsampled.value_counts())"
   ]
  },
  {
   "cell_type": "code",
   "execution_count": 28,
   "id": "9def581d",
   "metadata": {},
   "outputs": [
    {
     "name": "stdout",
     "output_type": "stream",
     "text": [
      "Решающее дерево\n",
      "Accuracy 0.757\n",
      "Precision 0.4611\n",
      "Recall 0.7564\n",
      "F1 0.5729\n",
      "\n",
      "Случайный лес\n",
      "Accuracy 0.807\n",
      "Precision 0.5385\n",
      "Recall 0.7309\n",
      "F1 0.6201\n",
      "\n",
      "Логистическая регрессия\n",
      "Accuracy 0.663\n",
      "Precision 0.3589\n",
      "Recall 0.7169\n",
      "F1 0.4783\n",
      "\n",
      "CPU times: user 221 ms, sys: 35.9 ms, total: 257 ms\n",
      "Wall time: 266 ms\n"
     ]
    }
   ],
   "source": [
    "%%time\n",
    "\n",
    "model = DecisionTreeClassifier(random_state=random, max_depth=7, min_samples_leaf=1, min_samples_split=2)\n",
    "model.fit(features_upsampled, target_upsampled)\n",
    "predicted_valid = model.predict(features_valid)\n",
    "print('Решающее дерево')\n",
    "print('Accuracy', accuracy_score(target_valid, predicted_valid).round(4))\n",
    "print('Precision', precision_score(target_valid, predicted_valid).round(4))\n",
    "print('Recall', recall_score(target_valid, predicted_valid).round(4))\n",
    "print('F1', f1_score(target_valid, predicted_valid).round(4))\n",
    "print()\n",
    "\n",
    "model = RandomForestClassifier(random_state=random, max_depth=9, min_samples_leaf=4, min_samples_split=2, n_estimators=5)\n",
    "model.fit(features_upsampled, target_upsampled)\n",
    "predicted_valid = model.predict(features_valid)\n",
    "print('Случайный лес')\n",
    "print('Accuracy', accuracy_score(target_valid, predicted_valid).round(4))\n",
    "print('Precision', precision_score(target_valid, predicted_valid).round(4))\n",
    "print('Recall', recall_score(target_valid, predicted_valid).round(4))\n",
    "print('F1', f1_score(target_valid, predicted_valid).round(4))\n",
    "print()\n",
    "\n",
    "model = LogisticRegression(random_state=random, solver='liblinear')\n",
    "model.fit(features_upsampled, target_upsampled)\n",
    "predicted_valid = model.predict(features_valid)\n",
    "print('Логистическая регрессия')\n",
    "print('Accuracy', accuracy_score(target_valid, predicted_valid).round(4))\n",
    "print('Precision', precision_score(target_valid, predicted_valid).round(4))\n",
    "print('Recall', recall_score(target_valid, predicted_valid).round(4))\n",
    "print('F1', f1_score(target_valid, predicted_valid).round(4))\n",
    "print()"
   ]
  },
  {
   "cell_type": "markdown",
   "id": "d583b24c",
   "metadata": {},
   "source": [
    "После применения метода upsampling (увеличение выборки) наилучшие метрики качества по-прежнему у модели случайного леса."
   ]
  },
  {
   "cell_type": "markdown",
   "id": "ceb0a3dc",
   "metadata": {},
   "source": [
    "Используем метод downsampling для преодоления дисбаланса и протестируем модели еще раз."
   ]
  },
  {
   "cell_type": "code",
   "execution_count": 29,
   "id": "354c8667",
   "metadata": {},
   "outputs": [
    {
     "name": "stdout",
     "output_type": "stream",
     "text": [
      "1    1202\n",
      "0    1200\n",
      "Name: exited, dtype: int64\n"
     ]
    }
   ],
   "source": [
    "def downsample(features, target, fraction):\n",
    "    features_zeros = features[target == 0]\n",
    "    features_ones = features[target == 1]\n",
    "    target_zeros = target[target == 0]\n",
    "    target_ones = target[target == 1]\n",
    "\n",
    "    features_downsampled = pd.concat(\n",
    "        [features_zeros.sample(frac=fraction, random_state=random)] + [features_ones])\n",
    "    target_downsampled = pd.concat(\n",
    "        [target_zeros.sample(frac=fraction, random_state=random)] + [target_ones])\n",
    "    \n",
    "    features_downsampled, target_downsampled = shuffle(\n",
    "        features_downsampled, target_downsampled, random_state=random)\n",
    "    \n",
    "    return features_downsampled, target_downsampled\n",
    "\n",
    "features_downsampled, target_downsampled = downsample(features_train, target_train, 0.25)\n",
    "\n",
    "print(target_downsampled.value_counts())"
   ]
  },
  {
   "cell_type": "code",
   "execution_count": 30,
   "id": "b7f52fd6",
   "metadata": {},
   "outputs": [
    {
     "name": "stdout",
     "output_type": "stream",
     "text": [
      "Решающее дерево\n",
      "Accuracy 0.7765\n",
      "Precision 0.4873\n",
      "Recall 0.7146\n",
      "F1 0.5795\n",
      "\n",
      "Случайный лес\n",
      "Accuracy 0.746\n",
      "Precision 0.4476\n",
      "Recall 0.7633\n",
      "F1 0.5643\n",
      "\n",
      "Логистическая регрессия\n",
      "Accuracy 0.667\n",
      "Precision 0.3589\n",
      "Recall 0.6937\n",
      "F1 0.4731\n",
      "\n",
      "CPU times: user 133 ms, sys: 52 ms, total: 185 ms\n",
      "Wall time: 158 ms\n"
     ]
    }
   ],
   "source": [
    "%%time\n",
    "\n",
    "model = DecisionTreeClassifier(random_state=random, max_depth=7, min_samples_leaf=1, min_samples_split=2)\n",
    "model.fit(features_downsampled, target_downsampled)\n",
    "predicted_valid = model.predict(features_valid)\n",
    "print('Решающее дерево')\n",
    "print('Accuracy', accuracy_score(target_valid, predicted_valid).round(4))\n",
    "print('Precision', precision_score(target_valid, predicted_valid).round(4))\n",
    "print('Recall', recall_score(target_valid, predicted_valid).round(4))\n",
    "print('F1', f1_score(target_valid, predicted_valid).round(4))\n",
    "print()\n",
    "\n",
    "model = RandomForestClassifier(random_state=random, max_depth=9, min_samples_leaf=4, min_samples_split=2, n_estimators=5)\n",
    "model.fit(features_downsampled, target_downsampled)\n",
    "predicted_valid = model.predict(features_valid)\n",
    "print('Случайный лес')\n",
    "print('Accuracy', accuracy_score(target_valid, predicted_valid).round(4))\n",
    "print('Precision', precision_score(target_valid, predicted_valid).round(4))\n",
    "print('Recall', recall_score(target_valid, predicted_valid).round(4))\n",
    "print('F1', f1_score(target_valid, predicted_valid).round(4))\n",
    "print()\n",
    "\n",
    "model = LogisticRegression(random_state=random, solver='liblinear')\n",
    "model.fit(features_downsampled, target_downsampled)\n",
    "predicted_valid = model.predict(features_valid)\n",
    "print('Логистическая регрессия')\n",
    "print('Accuracy', accuracy_score(target_valid, predicted_valid).round(4))\n",
    "print('Precision', precision_score(target_valid, predicted_valid).round(4))\n",
    "print('Recall', recall_score(target_valid, predicted_valid).round(4))\n",
    "print('F1', f1_score(target_valid, predicted_valid).round(4))\n",
    "print()\n",
    "\n",
    "    \n",
    "pivot_tab = pd.DataFrame()"
   ]
  },
  {
   "cell_type": "markdown",
   "id": "763e0180",
   "metadata": {},
   "source": [
    "Метрики качества самые хорошие на сей раз у дерева решений. \n",
    "\n",
    "По итогам сравнения 3 методов преодоления дисбаланса классов победил upsampling."
   ]
  },
  {
   "cell_type": "markdown",
   "id": "f34466ce",
   "metadata": {},
   "source": [
    " Теперь построим ROC-кривую и AUC-ROC для моделей с методом upsampling."
   ]
  },
  {
   "cell_type": "code",
   "execution_count": 31,
   "id": "dec40b47",
   "metadata": {},
   "outputs": [
    {
     "name": "stdout",
     "output_type": "stream",
     "text": [
      "AUC-ROC DecisionTreeClassifier 0.8274441432688738\n",
      "AUC-ROC RandomForestClassifier 0.8466304072968285\n",
      "AUC-ROC LogisticRegression 0.7291430988156554\n"
     ]
    },
    {
     "data": {
      "image/png": "[encoded data removed]",
      "text/plain": [
       "<Figure size 864x648 with 1 Axes>"
      ]
     },
     "metadata": {
      "needs_background": "light"
     },
     "output_type": "display_data"
    }
   ],
   "source": [
    "plt.figure(figsize=[12,9])\n",
    "\n",
    "plt.plot([0, 1], [0, 1], linestyle='--', label='RandomModel')\n",
    "\n",
    "\n",
    "model = DecisionTreeClassifier(random_state=random, max_depth=7, min_samples_leaf=1, min_samples_split=2)\n",
    "model.fit(features_upsampled, target_upsampled)\n",
    "probabilities_valid = model.predict_proba(features_valid)\n",
    "probabilities_one_valid = probabilities_valid[:, 1]\n",
    "fpr, tpr, thresholds = roc_curve(target_valid, probabilities_one_valid)\n",
    "auc_roc = roc_auc_score(target_valid, probabilities_one_valid)\n",
    "print('AUC-ROC DecisionTreeClassifier',auc_roc)\n",
    "plt.plot(fpr, tpr, label='DecisionTreeClassifier')\n",
    "\n",
    "model = RandomForestClassifier(random_state=random, max_depth=9, min_samples_leaf=4, min_samples_split=2, n_estimators=5)\n",
    "model.fit(features_upsampled, target_upsampled)\n",
    "probabilities_valid = model.predict_proba(features_valid)\n",
    "probabilities_one_valid = probabilities_valid[:, 1]\n",
    "fpr, tpr, thresholds = roc_curve(target_valid, probabilities_one_valid)\n",
    "auc_roc = roc_auc_score(target_valid, probabilities_one_valid)\n",
    "print('AUC-ROC RandomForestClassifier',auc_roc)\n",
    "plt.plot(fpr, tpr, label='RandomForestClassifier')\n",
    "\n",
    "model = LogisticRegression(random_state=random, solver='liblinear')\n",
    "model.fit(features_upsampled, target_upsampled)\n",
    "probabilities_valid = model.predict_proba(features_valid)\n",
    "probabilities_one_valid = probabilities_valid[:, 1]\n",
    "fpr, tpr, thresholds = roc_curve(target_valid, probabilities_one_valid)\n",
    "auc_roc = roc_auc_score(target_valid, probabilities_one_valid)\n",
    "print('AUC-ROC LogisticRegression',auc_roc)\n",
    "plt.plot(fpr, tpr, label='LogisticRegression')\n",
    "\n",
    "plt.xlim([0,1])\n",
    "plt.ylim([0,1])\n",
    "\n",
    "plt.xlabel(\"False Positive Rate\")\n",
    "plt.ylabel(\"True Positive Rate\")\n",
    "\n",
    "plt.legend(loc='lower right', fontsize='x-large')\n",
    "\n",
    "plt.title(\"ROC-кривая\")\n",
    "plt.show()"
   ]
  },
  {
   "cell_type": "markdown",
   "id": "7ea643a0",
   "metadata": {},
   "source": [
    "## Вывод"
   ]
  },
  {
   "cell_type": "markdown",
   "id": "ccd1468b",
   "metadata": {},
   "source": [
    "После преодоления дисбаланса классов мы получили улучшение метрик качества. Наиболее хорошие метрики (F1, AUC-ROC) - у модели случайного леса, при использовании метода upsampling"
   ]
  },
  {
   "cell_type": "markdown",
   "id": "c316b698",
   "metadata": {},
   "source": [
    "# Финальное тестирование"
   ]
  },
  {
   "cell_type": "markdown",
   "id": "cfc01eb7",
   "metadata": {},
   "source": [
    "Протестируем финальную модель на тестовой выборке. От дисбаланса классов избавляемся методом upsampled, как показавшим самые лучшие метрики на предыдущем этапе\n",
    "\n",
    "Гиперпараметры оставляем те, что получены на этапе валидационного тестирования."
   ]
  },
  {
   "cell_type": "code",
   "execution_count": 32,
   "id": "fd1ee527",
   "metadata": {},
   "outputs": [
    {
     "name": "stdout",
     "output_type": "stream",
     "text": [
      "Upsampled:\n",
      "Accuracy 0.8025\n",
      "Precision 0.5079\n",
      "Recall 0.7178\n",
      "F1 0.5949\n",
      "\n"
     ]
    }
   ],
   "source": [
    "model = RandomForestClassifier(random_state=random, max_depth=9, min_samples_leaf=4, min_samples_split=2, n_estimators=5)\n",
    "model.fit(features_upsampled, target_upsampled)\n",
    "predicted_test = model.predict(features_test)\n",
    "print('Upsampled:')\n",
    "print('Accuracy', accuracy_score(target_test, predicted_test).round(4))\n",
    "print('Precision', precision_score(target_test, predicted_test).round(4))\n",
    "print('Recall', recall_score(target_test, predicted_test).round(4))\n",
    "print('F1', f1_score(target_test, predicted_test).round(4))\n",
    "print()"
   ]
  },
  {
   "cell_type": "markdown",
   "id": "7e90a183",
   "metadata": {},
   "source": [
    "Мы видим, что метрики F1, accuracy после финального тестирования соответствуют минимально допустимому порогу.\n",
    "Проверим метрику AUC-ROC:"
   ]
  },
  {
   "cell_type": "code",
   "execution_count": 33,
   "id": "f7c2617f",
   "metadata": {
    "scrolled": true
   },
   "outputs": [
    {
     "name": "stdout",
     "output_type": "stream",
     "text": [
      "AUC-ROC RandomForestClassifier 0.8238317017792005\n"
     ]
    },
    {
     "data": {
      "image/png": "[encoded data removed]",
      "text/plain": [
       "<Figure size 864x648 with 1 Axes>"
      ]
     },
     "metadata": {
      "needs_background": "light"
     },
     "output_type": "display_data"
    }
   ],
   "source": [
    "plt.figure(figsize=[12,9])\n",
    "\n",
    "plt.plot([0, 1], [0, 1], linestyle='--', label='RandomModel')\n",
    "\n",
    "\n",
    "model = RandomForestClassifier(random_state=random, max_depth=8, min_samples_leaf=6, min_samples_split=2, n_estimators=2)\n",
    "model.fit(features_upsampled, target_upsampled)\n",
    "probabilities_test = model.predict_proba(features_test)\n",
    "probabilities_one_test = probabilities_test[:, 1]\n",
    "fpr, tpr, thresholds = roc_curve(target_test, probabilities_one_test)\n",
    "auc_roc = roc_auc_score(target_test, probabilities_one_test)\n",
    "print('AUC-ROC RandomForestClassifier',auc_roc)\n",
    "plt.plot(fpr, tpr, label='RandomForestClassifier')\n",
    "\n",
    "plt.xlim([0,1])\n",
    "plt.ylim([0,1])\n",
    "\n",
    "plt.xlabel(\"False Positive Rate\")\n",
    "plt.ylabel(\"True Positive Rate\")\n",
    "\n",
    "plt.legend(loc='lower right', fontsize='x-large')\n",
    "\n",
    "plt.title(\"ROC-кривая\")\n",
    "plt.show()"
   ]
  },
  {
   "cell_type": "markdown",
   "id": "bf4c715c",
   "metadata": {},
   "source": [
    "Значение метрики AUC-ROC составляет 0.82."
   ]
  },
  {
   "cell_type": "markdown",
   "id": "1eda65d7",
   "metadata": {},
   "source": [
    "## Вывод"
   ]
  },
  {
   "cell_type": "markdown",
   "id": "1e83beea",
   "metadata": {},
   "source": [
    "После проведения финального тестирования обученной модели с преодолением дисбаланса классов мы получили допустимые результаты, свидетельствующие о том, что модель пригодна к использованию для предсказания оттока клиентов."
   ]
  },
  {
   "cell_type": "markdown",
   "id": "b0bf5a94",
   "metadata": {},
   "source": [
    "# Общий вывод"
   ]
  },
  {
   "cell_type": "markdown",
   "id": "fc3de52a",
   "metadata": {},
   "source": [
    "Accuracy нашей модели 80%. Значение метрики AUC_ROC  - 0.82, F1-мера равна 0.59.\n",
    "\n",
    "Наша модель проходит тест на адекватность и умеет предсказывать уход клиента лучше, чем случайная модель.\n"
   ]
  }
 ],
 "metadata": {
  "ExecuteTimeLog": [
   {
    "duration": 191,
    "start_time": "2022-05-08T10:57:13.370Z"
   },
   {
    "duration": 9,
    "start_time": "2022-05-08T11:01:36.300Z"
   },
   {
    "duration": 67,
    "start_time": "2022-05-08T11:01:42.255Z"
   },
   {
    "duration": 2167,
    "start_time": "2022-05-08T11:01:42.325Z"
   },
   {
    "duration": 31,
    "start_time": "2022-05-08T11:01:44.495Z"
   },
   {
    "duration": 5,
    "start_time": "2022-05-08T11:01:44.529Z"
   },
   {
    "duration": 30,
    "start_time": "2022-05-08T11:01:44.537Z"
   },
   {
    "duration": 23,
    "start_time": "2022-05-08T11:01:44.569Z"
   },
   {
    "duration": 79,
    "start_time": "2022-05-08T11:01:44.594Z"
   },
   {
    "duration": 84,
    "start_time": "2022-05-08T11:01:44.676Z"
   },
   {
    "duration": 66,
    "start_time": "2022-05-08T11:01:44.762Z"
   },
   {
    "duration": 4,
    "start_time": "2022-05-08T11:01:44.832Z"
   },
   {
    "duration": 41,
    "start_time": "2022-05-08T11:01:44.838Z"
   },
   {
    "duration": 46,
    "start_time": "2022-05-08T11:01:44.881Z"
   },
   {
    "duration": 7,
    "start_time": "2022-05-08T11:01:44.929Z"
   },
   {
    "duration": 36,
    "start_time": "2022-05-08T11:01:44.938Z"
   },
   {
    "duration": 23,
    "start_time": "2022-05-08T11:01:44.976Z"
   },
   {
    "duration": 14,
    "start_time": "2022-05-08T11:01:45.025Z"
   },
   {
    "duration": 20,
    "start_time": "2022-05-08T11:01:45.041Z"
   },
   {
    "duration": 163,
    "start_time": "2022-05-08T11:01:45.063Z"
   },
   {
    "duration": 0,
    "start_time": "2022-05-08T11:01:45.228Z"
   },
   {
    "duration": 0,
    "start_time": "2022-05-08T11:01:45.231Z"
   },
   {
    "duration": 0,
    "start_time": "2022-05-08T11:01:45.232Z"
   },
   {
    "duration": 0,
    "start_time": "2022-05-08T11:01:45.234Z"
   },
   {
    "duration": 0,
    "start_time": "2022-05-08T11:01:45.235Z"
   },
   {
    "duration": 0,
    "start_time": "2022-05-08T11:01:45.236Z"
   },
   {
    "duration": 0,
    "start_time": "2022-05-08T11:01:45.238Z"
   },
   {
    "duration": 0,
    "start_time": "2022-05-08T11:01:45.239Z"
   },
   {
    "duration": 0,
    "start_time": "2022-05-08T11:01:45.240Z"
   },
   {
    "duration": 0,
    "start_time": "2022-05-08T11:01:45.241Z"
   },
   {
    "duration": 0,
    "start_time": "2022-05-08T11:01:45.243Z"
   },
   {
    "duration": 0,
    "start_time": "2022-05-08T11:01:45.244Z"
   },
   {
    "duration": 0,
    "start_time": "2022-05-08T11:01:45.246Z"
   },
   {
    "duration": 0,
    "start_time": "2022-05-08T11:01:45.248Z"
   },
   {
    "duration": 0,
    "start_time": "2022-05-08T11:01:45.249Z"
   },
   {
    "duration": 13,
    "start_time": "2022-05-08T11:03:45.914Z"
   },
   {
    "duration": 6,
    "start_time": "2022-05-08T11:03:48.251Z"
   },
   {
    "duration": 207,
    "start_time": "2022-05-08T11:03:50.315Z"
   },
   {
    "duration": 11,
    "start_time": "2022-05-08T11:05:17.686Z"
   },
   {
    "duration": 284,
    "start_time": "2022-05-08T11:05:23.202Z"
   },
   {
    "duration": 12,
    "start_time": "2022-05-08T11:05:56.716Z"
   },
   {
    "duration": 15,
    "start_time": "2022-05-08T11:06:03.101Z"
   },
   {
    "duration": 15,
    "start_time": "2022-05-08T11:06:19.441Z"
   },
   {
    "duration": 8,
    "start_time": "2022-05-08T11:09:08.283Z"
   },
   {
    "duration": 49384,
    "start_time": "2022-05-08T11:09:11.929Z"
   },
   {
    "duration": 6,
    "start_time": "2022-05-08T11:10:08.176Z"
   },
   {
    "duration": 48858,
    "start_time": "2022-05-08T11:10:10.567Z"
   },
   {
    "duration": 59900,
    "start_time": "2022-05-08T11:11:45.720Z"
   },
   {
    "duration": 87,
    "start_time": "2022-05-08T11:15:03.484Z"
   },
   {
    "duration": 2294,
    "start_time": "2022-05-08T11:15:03.574Z"
   },
   {
    "duration": 33,
    "start_time": "2022-05-08T11:15:05.870Z"
   },
   {
    "duration": 6,
    "start_time": "2022-05-08T11:15:05.906Z"
   },
   {
    "duration": 44,
    "start_time": "2022-05-08T11:15:05.926Z"
   },
   {
    "duration": 39,
    "start_time": "2022-05-08T11:15:05.973Z"
   },
   {
    "duration": 112,
    "start_time": "2022-05-08T11:15:06.014Z"
   },
   {
    "duration": 119,
    "start_time": "2022-05-08T11:15:06.129Z"
   },
   {
    "duration": 24,
    "start_time": "2022-05-08T11:15:06.250Z"
   },
   {
    "duration": 49,
    "start_time": "2022-05-08T11:15:06.278Z"
   },
   {
    "duration": 61,
    "start_time": "2022-05-08T11:15:06.330Z"
   },
   {
    "duration": 43,
    "start_time": "2022-05-08T11:15:06.394Z"
   },
   {
    "duration": 8,
    "start_time": "2022-05-08T11:15:06.439Z"
   },
   {
    "duration": 26,
    "start_time": "2022-05-08T11:15:06.450Z"
   },
   {
    "duration": 65,
    "start_time": "2022-05-08T11:15:06.479Z"
   },
   {
    "duration": 17,
    "start_time": "2022-05-08T11:15:06.546Z"
   },
   {
    "duration": 9,
    "start_time": "2022-05-08T11:15:06.566Z"
   },
   {
    "duration": 197,
    "start_time": "2022-05-08T11:15:06.578Z"
   },
   {
    "duration": 0,
    "start_time": "2022-05-08T11:15:06.778Z"
   },
   {
    "duration": 0,
    "start_time": "2022-05-08T11:15:06.780Z"
   },
   {
    "duration": 0,
    "start_time": "2022-05-08T11:15:06.781Z"
   },
   {
    "duration": 0,
    "start_time": "2022-05-08T11:15:06.783Z"
   },
   {
    "duration": 0,
    "start_time": "2022-05-08T11:15:06.785Z"
   },
   {
    "duration": 0,
    "start_time": "2022-05-08T11:15:06.786Z"
   },
   {
    "duration": 0,
    "start_time": "2022-05-08T11:15:06.787Z"
   },
   {
    "duration": 0,
    "start_time": "2022-05-08T11:15:06.788Z"
   },
   {
    "duration": 0,
    "start_time": "2022-05-08T11:15:06.789Z"
   },
   {
    "duration": 0,
    "start_time": "2022-05-08T11:15:06.790Z"
   },
   {
    "duration": 0,
    "start_time": "2022-05-08T11:15:06.791Z"
   },
   {
    "duration": 0,
    "start_time": "2022-05-08T11:15:06.792Z"
   },
   {
    "duration": 0,
    "start_time": "2022-05-08T11:15:06.793Z"
   },
   {
    "duration": 0,
    "start_time": "2022-05-08T11:15:06.823Z"
   },
   {
    "duration": 0,
    "start_time": "2022-05-08T11:15:06.825Z"
   },
   {
    "duration": 0,
    "start_time": "2022-05-08T11:15:06.827Z"
   },
   {
    "duration": 104,
    "start_time": "2022-05-08T11:16:03.959Z"
   },
   {
    "duration": 98,
    "start_time": "2022-05-08T11:16:12.654Z"
   },
   {
    "duration": 7,
    "start_time": "2022-05-08T11:17:33.984Z"
   },
   {
    "duration": 49356,
    "start_time": "2022-05-08T11:17:39.170Z"
   },
   {
    "duration": 161,
    "start_time": "2022-05-08T11:19:22.230Z"
   },
   {
    "duration": 4,
    "start_time": "2022-05-08T11:29:14.865Z"
   },
   {
    "duration": 15017,
    "start_time": "2022-05-08T11:29:18.586Z"
   },
   {
    "duration": 70,
    "start_time": "2022-05-08T11:29:39.499Z"
   },
   {
    "duration": 1889,
    "start_time": "2022-05-08T11:29:39.572Z"
   },
   {
    "duration": 38,
    "start_time": "2022-05-08T11:29:41.464Z"
   },
   {
    "duration": 7,
    "start_time": "2022-05-08T11:29:41.506Z"
   },
   {
    "duration": 22,
    "start_time": "2022-05-08T11:29:41.524Z"
   },
   {
    "duration": 23,
    "start_time": "2022-05-08T11:29:41.549Z"
   },
   {
    "duration": 117,
    "start_time": "2022-05-08T11:29:41.575Z"
   },
   {
    "duration": 142,
    "start_time": "2022-05-08T11:29:41.696Z"
   },
   {
    "duration": 18,
    "start_time": "2022-05-08T11:29:41.841Z"
   },
   {
    "duration": 5,
    "start_time": "2022-05-08T11:29:41.865Z"
   },
   {
    "duration": 91,
    "start_time": "2022-05-08T11:29:41.873Z"
   },
   {
    "duration": 29,
    "start_time": "2022-05-08T11:29:41.968Z"
   },
   {
    "duration": 31,
    "start_time": "2022-05-08T11:29:41.999Z"
   },
   {
    "duration": 26,
    "start_time": "2022-05-08T11:29:42.033Z"
   },
   {
    "duration": 65,
    "start_time": "2022-05-08T11:29:42.061Z"
   },
   {
    "duration": 12,
    "start_time": "2022-05-08T11:29:42.128Z"
   },
   {
    "duration": 4,
    "start_time": "2022-05-08T11:29:42.143Z"
   },
   {
    "duration": 7,
    "start_time": "2022-05-08T11:29:42.150Z"
   },
   {
    "duration": 29259,
    "start_time": "2022-05-08T11:29:42.159Z"
   },
   {
    "duration": 1108,
    "start_time": "2022-05-08T11:30:11.424Z"
   },
   {
    "duration": 6,
    "start_time": "2022-05-08T11:30:12.534Z"
   },
   {
    "duration": 9275,
    "start_time": "2022-05-08T11:30:12.543Z"
   },
   {
    "duration": 42932,
    "start_time": "2022-05-08T11:30:21.821Z"
   },
   {
    "duration": 185,
    "start_time": "2022-05-08T11:31:04.755Z"
   },
   {
    "duration": 1704,
    "start_time": "2022-05-08T11:31:05.024Z"
   },
   {
    "duration": 2182,
    "start_time": "2022-05-08T11:31:06.731Z"
   },
   {
    "duration": 1620,
    "start_time": "2022-05-08T11:31:08.916Z"
   },
   {
    "duration": 26,
    "start_time": "2022-05-08T11:31:10.628Z"
   },
   {
    "duration": 3176,
    "start_time": "2022-05-08T11:31:10.657Z"
   },
   {
    "duration": 110,
    "start_time": "2022-05-08T11:31:13.836Z"
   },
   {
    "duration": 1193,
    "start_time": "2022-05-08T11:31:13.949Z"
   },
   {
    "duration": 3873,
    "start_time": "2022-05-08T11:31:15.226Z"
   },
   {
    "duration": 70,
    "start_time": "2022-05-08T11:31:21.289Z"
   },
   {
    "duration": 1833,
    "start_time": "2022-05-08T11:31:21.362Z"
   },
   {
    "duration": 63,
    "start_time": "2022-05-08T11:31:23.197Z"
   },
   {
    "duration": 6,
    "start_time": "2022-05-08T11:31:23.264Z"
   },
   {
    "duration": 23,
    "start_time": "2022-05-08T11:31:23.273Z"
   },
   {
    "duration": 44,
    "start_time": "2022-05-08T11:31:23.299Z"
   },
   {
    "duration": 83,
    "start_time": "2022-05-08T11:31:23.345Z"
   },
   {
    "duration": 119,
    "start_time": "2022-05-08T11:31:23.431Z"
   },
   {
    "duration": 19,
    "start_time": "2022-05-08T11:31:23.552Z"
   },
   {
    "duration": 48,
    "start_time": "2022-05-08T11:31:23.577Z"
   },
   {
    "duration": 38,
    "start_time": "2022-05-08T11:31:23.628Z"
   },
   {
    "duration": 19,
    "start_time": "2022-05-08T11:31:23.669Z"
   },
   {
    "duration": 40,
    "start_time": "2022-05-08T11:31:23.691Z"
   },
   {
    "duration": 19,
    "start_time": "2022-05-08T11:31:23.734Z"
   },
   {
    "duration": 69,
    "start_time": "2022-05-08T11:31:23.756Z"
   },
   {
    "duration": 13,
    "start_time": "2022-05-08T11:31:23.828Z"
   },
   {
    "duration": 3,
    "start_time": "2022-05-08T11:31:23.843Z"
   },
   {
    "duration": 5,
    "start_time": "2022-05-08T11:31:23.849Z"
   },
   {
    "duration": 28707,
    "start_time": "2022-05-08T11:31:23.856Z"
   },
   {
    "duration": 3,
    "start_time": "2022-05-08T11:31:52.566Z"
   },
   {
    "duration": 15,
    "start_time": "2022-05-08T11:31:52.571Z"
   },
   {
    "duration": 46145,
    "start_time": "2022-05-08T11:31:52.588Z"
   },
   {
    "duration": 19486,
    "start_time": "2022-05-08T11:32:38.736Z"
   },
   {
    "duration": 109,
    "start_time": "2022-05-08T11:32:58.225Z"
   },
   {
    "duration": 1998,
    "start_time": "2022-05-08T11:32:58.338Z"
   },
   {
    "duration": 2085,
    "start_time": "2022-05-08T11:33:00.425Z"
   },
   {
    "duration": 1718,
    "start_time": "2022-05-08T11:33:02.513Z"
   },
   {
    "duration": 104,
    "start_time": "2022-05-08T11:33:04.238Z"
   },
   {
    "duration": 2489,
    "start_time": "2022-05-08T11:33:04.344Z"
   },
   {
    "duration": 105,
    "start_time": "2022-05-08T11:33:06.836Z"
   },
   {
    "duration": 888,
    "start_time": "2022-05-08T11:33:06.944Z"
   },
   {
    "duration": 3114,
    "start_time": "2022-05-08T11:33:07.835Z"
   },
   {
    "duration": 2153,
    "start_time": "2022-05-08T11:33:10.952Z"
   },
   {
    "duration": 2692,
    "start_time": "2022-05-08T11:33:13.108Z"
   },
   {
    "duration": 111,
    "start_time": "2022-05-08T11:33:19.815Z"
   },
   {
    "duration": 70,
    "start_time": "2022-05-08T11:45:23.718Z"
   },
   {
    "duration": 1894,
    "start_time": "2022-05-08T11:45:23.791Z"
   },
   {
    "duration": 43,
    "start_time": "2022-05-08T11:45:25.687Z"
   },
   {
    "duration": 6,
    "start_time": "2022-05-08T11:45:25.734Z"
   },
   {
    "duration": 33,
    "start_time": "2022-05-08T11:45:25.742Z"
   },
   {
    "duration": 60,
    "start_time": "2022-05-08T11:45:25.777Z"
   },
   {
    "duration": 60,
    "start_time": "2022-05-08T11:45:25.840Z"
   },
   {
    "duration": 136,
    "start_time": "2022-05-08T11:45:25.902Z"
   },
   {
    "duration": 16,
    "start_time": "2022-05-08T11:45:26.041Z"
   },
   {
    "duration": 5,
    "start_time": "2022-05-08T11:45:26.061Z"
   },
   {
    "duration": 98,
    "start_time": "2022-05-08T11:45:26.069Z"
   },
   {
    "duration": 25,
    "start_time": "2022-05-08T11:45:26.170Z"
   },
   {
    "duration": 9,
    "start_time": "2022-05-08T11:45:26.225Z"
   },
   {
    "duration": 27,
    "start_time": "2022-05-08T11:45:26.238Z"
   },
   {
    "duration": 62,
    "start_time": "2022-05-08T11:45:26.268Z"
   },
   {
    "duration": 12,
    "start_time": "2022-05-08T11:45:26.332Z"
   },
   {
    "duration": 4,
    "start_time": "2022-05-08T11:45:26.347Z"
   },
   {
    "duration": 7,
    "start_time": "2022-05-08T11:45:26.354Z"
   },
   {
    "duration": 40396,
    "start_time": "2022-05-08T11:45:26.363Z"
   },
   {
    "duration": 3,
    "start_time": "2022-05-08T11:46:06.762Z"
   },
   {
    "duration": 10,
    "start_time": "2022-05-08T11:46:06.767Z"
   },
   {
    "duration": 46643,
    "start_time": "2022-05-08T11:46:06.779Z"
   },
   {
    "duration": 4,
    "start_time": "2022-05-08T11:46:53.425Z"
   },
   {
    "duration": 191,
    "start_time": "2022-05-08T11:46:53.432Z"
   },
   {
    "duration": 301,
    "start_time": "2022-05-08T11:46:53.627Z"
   },
   {
    "duration": 702,
    "start_time": "2022-05-08T11:46:53.932Z"
   },
   {
    "duration": 196,
    "start_time": "2022-05-08T11:46:54.637Z"
   },
   {
    "duration": 24,
    "start_time": "2022-05-08T11:46:54.924Z"
   },
   {
    "duration": 380,
    "start_time": "2022-05-08T11:46:54.950Z"
   },
   {
    "duration": 19,
    "start_time": "2022-05-08T11:46:55.333Z"
   },
   {
    "duration": 186,
    "start_time": "2022-05-08T11:46:55.355Z"
   },
   {
    "duration": 829,
    "start_time": "2022-05-08T11:46:55.626Z"
   },
   {
    "duration": 75,
    "start_time": "2022-05-08T11:46:56.457Z"
   },
   {
    "duration": 459,
    "start_time": "2022-05-08T11:46:56.535Z"
   },
   {
    "duration": 126,
    "start_time": "2022-05-08T11:49:45.114Z"
   },
   {
    "duration": 3658,
    "start_time": "2022-05-08T11:49:45.244Z"
   },
   {
    "duration": 38,
    "start_time": "2022-05-08T11:49:48.905Z"
   },
   {
    "duration": 5,
    "start_time": "2022-05-08T11:49:48.947Z"
   },
   {
    "duration": 22,
    "start_time": "2022-05-08T11:49:48.955Z"
   },
   {
    "duration": 52,
    "start_time": "2022-05-08T11:49:48.979Z"
   },
   {
    "duration": 105,
    "start_time": "2022-05-08T11:49:49.034Z"
   },
   {
    "duration": 98,
    "start_time": "2022-05-08T11:49:49.142Z"
   },
   {
    "duration": 17,
    "start_time": "2022-05-08T11:49:49.243Z"
   },
   {
    "duration": 62,
    "start_time": "2022-05-08T11:49:49.264Z"
   },
   {
    "duration": 38,
    "start_time": "2022-05-08T11:49:49.330Z"
   },
   {
    "duration": 60,
    "start_time": "2022-05-08T11:49:49.371Z"
   },
   {
    "duration": 7,
    "start_time": "2022-05-08T11:49:49.434Z"
   },
   {
    "duration": 40,
    "start_time": "2022-05-08T11:49:49.445Z"
   },
   {
    "duration": 48,
    "start_time": "2022-05-08T11:49:49.487Z"
   },
   {
    "duration": 13,
    "start_time": "2022-05-08T11:49:49.538Z"
   },
   {
    "duration": 10,
    "start_time": "2022-05-08T11:49:49.553Z"
   },
   {
    "duration": 12,
    "start_time": "2022-05-08T11:49:49.565Z"
   },
   {
    "duration": 40671,
    "start_time": "2022-05-08T11:49:49.580Z"
   },
   {
    "duration": 4,
    "start_time": "2022-05-08T11:50:30.254Z"
   },
   {
    "duration": 15,
    "start_time": "2022-05-08T11:50:30.261Z"
   },
   {
    "duration": 63333,
    "start_time": "2022-05-08T11:50:30.278Z"
   },
   {
    "duration": 4,
    "start_time": "2022-05-08T11:51:33.613Z"
   },
   {
    "duration": 104,
    "start_time": "2022-05-08T11:51:33.625Z"
   },
   {
    "duration": 297,
    "start_time": "2022-05-08T11:51:33.732Z"
   },
   {
    "duration": 905,
    "start_time": "2022-05-08T11:51:34.036Z"
   },
   {
    "duration": 282,
    "start_time": "2022-05-08T11:51:34.944Z"
   },
   {
    "duration": 99,
    "start_time": "2022-05-08T11:51:35.231Z"
   },
   {
    "duration": 295,
    "start_time": "2022-05-08T11:51:35.332Z"
   },
   {
    "duration": 19,
    "start_time": "2022-05-08T11:51:35.631Z"
   },
   {
    "duration": 277,
    "start_time": "2022-05-08T11:51:35.654Z"
   },
   {
    "duration": 882,
    "start_time": "2022-05-08T11:51:35.934Z"
   },
   {
    "duration": 45,
    "start_time": "2022-05-08T11:51:36.818Z"
   },
   {
    "duration": 419,
    "start_time": "2022-05-08T11:51:36.865Z"
   },
   {
    "duration": 69,
    "start_time": "2022-05-08T11:55:31.422Z"
   },
   {
    "duration": 1989,
    "start_time": "2022-05-08T11:55:31.494Z"
   },
   {
    "duration": 33,
    "start_time": "2022-05-08T11:55:33.486Z"
   },
   {
    "duration": 5,
    "start_time": "2022-05-08T11:55:33.522Z"
   },
   {
    "duration": 24,
    "start_time": "2022-05-08T11:55:33.530Z"
   },
   {
    "duration": 24,
    "start_time": "2022-05-08T11:55:33.556Z"
   },
   {
    "duration": 97,
    "start_time": "2022-05-08T11:55:33.582Z"
   },
   {
    "duration": 89,
    "start_time": "2022-05-08T11:55:33.681Z"
   },
   {
    "duration": 18,
    "start_time": "2022-05-08T11:55:33.825Z"
   },
   {
    "duration": 5,
    "start_time": "2022-05-08T11:55:33.847Z"
   },
   {
    "duration": 74,
    "start_time": "2022-05-08T11:55:33.854Z"
   },
   {
    "duration": 22,
    "start_time": "2022-05-08T11:55:33.930Z"
   },
   {
    "duration": 14,
    "start_time": "2022-05-08T11:55:33.954Z"
   },
   {
    "duration": 20,
    "start_time": "2022-05-08T11:55:33.970Z"
   },
   {
    "duration": 56,
    "start_time": "2022-05-08T11:55:33.993Z"
   },
   {
    "duration": 13,
    "start_time": "2022-05-08T11:55:34.051Z"
   },
   {
    "duration": 4,
    "start_time": "2022-05-08T11:55:34.066Z"
   },
   {
    "duration": 15,
    "start_time": "2022-05-08T11:55:34.072Z"
   },
   {
    "duration": 67551,
    "start_time": "2022-05-08T11:55:34.090Z"
   },
   {
    "duration": 3,
    "start_time": "2022-05-08T11:56:41.644Z"
   },
   {
    "duration": 7,
    "start_time": "2022-05-08T11:56:41.650Z"
   },
   {
    "duration": 68,
    "start_time": "2022-05-08T11:57:19.271Z"
   },
   {
    "duration": 4522,
    "start_time": "2022-05-08T11:57:19.342Z"
   },
   {
    "duration": 48,
    "start_time": "2022-05-08T11:57:23.868Z"
   },
   {
    "duration": 6,
    "start_time": "2022-05-08T11:57:23.924Z"
   },
   {
    "duration": 25,
    "start_time": "2022-05-08T11:57:23.932Z"
   },
   {
    "duration": 36,
    "start_time": "2022-05-08T11:57:23.959Z"
   },
   {
    "duration": 62,
    "start_time": "2022-05-08T11:57:24.026Z"
   },
   {
    "duration": 151,
    "start_time": "2022-05-08T11:57:24.091Z"
   },
   {
    "duration": 22,
    "start_time": "2022-05-08T11:57:24.244Z"
   },
   {
    "duration": 6,
    "start_time": "2022-05-08T11:57:24.271Z"
   },
   {
    "duration": 95,
    "start_time": "2022-05-08T11:57:24.280Z"
   },
   {
    "duration": 46,
    "start_time": "2022-05-08T11:57:24.380Z"
   },
   {
    "duration": 28,
    "start_time": "2022-05-08T11:57:24.429Z"
   },
   {
    "duration": 45,
    "start_time": "2022-05-08T11:57:24.459Z"
   },
   {
    "duration": 30,
    "start_time": "2022-05-08T11:57:24.508Z"
   },
   {
    "duration": 17,
    "start_time": "2022-05-08T11:57:24.541Z"
   },
   {
    "duration": 5,
    "start_time": "2022-05-08T11:57:24.561Z"
   },
   {
    "duration": 8,
    "start_time": "2022-05-08T11:57:24.569Z"
   },
   {
    "duration": 74819,
    "start_time": "2022-05-08T11:57:24.580Z"
   },
   {
    "duration": 4,
    "start_time": "2022-05-08T11:58:39.402Z"
   },
   {
    "duration": 5,
    "start_time": "2022-05-08T11:58:39.424Z"
   },
   {
    "duration": 91891,
    "start_time": "2022-05-08T11:58:39.432Z"
   },
   {
    "duration": 4,
    "start_time": "2022-05-08T12:00:11.326Z"
   },
   {
    "duration": 102,
    "start_time": "2022-05-08T12:00:11.333Z"
   },
   {
    "duration": 397,
    "start_time": "2022-05-08T12:00:11.439Z"
   },
   {
    "duration": 834,
    "start_time": "2022-05-08T12:00:11.839Z"
   },
   {
    "duration": 255,
    "start_time": "2022-05-08T12:00:12.676Z"
   },
   {
    "duration": 108,
    "start_time": "2022-05-08T12:00:12.939Z"
   },
   {
    "duration": 290,
    "start_time": "2022-05-08T12:00:13.050Z"
   },
   {
    "duration": 93,
    "start_time": "2022-05-08T12:00:13.344Z"
   },
   {
    "duration": 186,
    "start_time": "2022-05-08T12:00:13.440Z"
   },
   {
    "duration": 686,
    "start_time": "2022-05-08T12:00:13.629Z"
   },
   {
    "duration": 65,
    "start_time": "2022-05-08T12:00:14.326Z"
   },
   {
    "duration": 511,
    "start_time": "2022-05-08T12:00:14.394Z"
   },
   {
    "duration": 206,
    "start_time": "2022-05-08T12:03:14.323Z"
   },
   {
    "duration": 607,
    "start_time": "2022-05-08T12:03:21.779Z"
   },
   {
    "duration": 168,
    "start_time": "2022-05-08T12:03:28.871Z"
   },
   {
    "duration": 244,
    "start_time": "2022-05-08T12:03:36.984Z"
   },
   {
    "duration": 165,
    "start_time": "2022-05-08T12:03:45.362Z"
   },
   {
    "duration": 688,
    "start_time": "2022-05-08T12:03:54.661Z"
   },
   {
    "duration": 34,
    "start_time": "2022-05-08T12:03:59.903Z"
   },
   {
    "duration": 64,
    "start_time": "2022-05-08T12:04:57.289Z"
   },
   {
    "duration": 1833,
    "start_time": "2022-05-08T12:04:57.356Z"
   },
   {
    "duration": 35,
    "start_time": "2022-05-08T12:04:59.192Z"
   },
   {
    "duration": 5,
    "start_time": "2022-05-08T12:04:59.230Z"
   },
   {
    "duration": 29,
    "start_time": "2022-05-08T12:04:59.238Z"
   },
   {
    "duration": 25,
    "start_time": "2022-05-08T12:04:59.271Z"
   },
   {
    "duration": 60,
    "start_time": "2022-05-08T12:04:59.326Z"
   },
   {
    "duration": 144,
    "start_time": "2022-05-08T12:04:59.389Z"
   },
   {
    "duration": 18,
    "start_time": "2022-05-08T12:04:59.536Z"
   },
   {
    "duration": 8,
    "start_time": "2022-05-08T12:04:59.560Z"
   },
   {
    "duration": 98,
    "start_time": "2022-05-08T12:04:59.571Z"
   },
   {
    "duration": 18,
    "start_time": "2022-05-08T12:04:59.672Z"
   },
   {
    "duration": 8,
    "start_time": "2022-05-08T12:04:59.692Z"
   },
   {
    "duration": 26,
    "start_time": "2022-05-08T12:04:59.726Z"
   },
   {
    "duration": 31,
    "start_time": "2022-05-08T12:04:59.755Z"
   },
   {
    "duration": 16,
    "start_time": "2022-05-08T12:04:59.825Z"
   },
   {
    "duration": 4,
    "start_time": "2022-05-08T12:04:59.843Z"
   },
   {
    "duration": 9,
    "start_time": "2022-05-08T12:04:59.849Z"
   },
   {
    "duration": 74612,
    "start_time": "2022-05-08T12:04:59.862Z"
   },
   {
    "duration": 3,
    "start_time": "2022-05-08T12:06:14.477Z"
   },
   {
    "duration": 15,
    "start_time": "2022-05-08T12:06:14.482Z"
   },
   {
    "duration": 66053,
    "start_time": "2022-05-08T12:06:14.500Z"
   },
   {
    "duration": 0,
    "start_time": "2022-05-08T12:07:20.556Z"
   },
   {
    "duration": 0,
    "start_time": "2022-05-08T12:07:20.558Z"
   },
   {
    "duration": 0,
    "start_time": "2022-05-08T12:07:20.559Z"
   },
   {
    "duration": 0,
    "start_time": "2022-05-08T12:07:20.560Z"
   },
   {
    "duration": 0,
    "start_time": "2022-05-08T12:07:20.562Z"
   },
   {
    "duration": 0,
    "start_time": "2022-05-08T12:07:20.563Z"
   },
   {
    "duration": 1,
    "start_time": "2022-05-08T12:07:20.564Z"
   },
   {
    "duration": 0,
    "start_time": "2022-05-08T12:07:20.566Z"
   },
   {
    "duration": 1,
    "start_time": "2022-05-08T12:07:20.567Z"
   },
   {
    "duration": 0,
    "start_time": "2022-05-08T12:07:20.569Z"
   },
   {
    "duration": 0,
    "start_time": "2022-05-08T12:07:20.570Z"
   },
   {
    "duration": 0,
    "start_time": "2022-05-08T12:07:20.572Z"
   },
   {
    "duration": 69,
    "start_time": "2022-05-08T12:07:27.454Z"
   },
   {
    "duration": 1891,
    "start_time": "2022-05-08T12:07:27.527Z"
   },
   {
    "duration": 32,
    "start_time": "2022-05-08T12:07:29.420Z"
   },
   {
    "duration": 6,
    "start_time": "2022-05-08T12:07:29.456Z"
   },
   {
    "duration": 23,
    "start_time": "2022-05-08T12:07:29.466Z"
   },
   {
    "duration": 52,
    "start_time": "2022-05-08T12:07:29.492Z"
   },
   {
    "duration": 88,
    "start_time": "2022-05-08T12:07:29.547Z"
   },
   {
    "duration": 122,
    "start_time": "2022-05-08T12:07:29.638Z"
   },
   {
    "duration": 63,
    "start_time": "2022-05-08T12:07:29.763Z"
   },
   {
    "duration": 5,
    "start_time": "2022-05-08T12:07:29.832Z"
   },
   {
    "duration": 45,
    "start_time": "2022-05-08T12:07:29.840Z"
   },
   {
    "duration": 50,
    "start_time": "2022-05-08T12:07:29.887Z"
   },
   {
    "duration": 8,
    "start_time": "2022-05-08T12:07:29.940Z"
   },
   {
    "duration": 24,
    "start_time": "2022-05-08T12:07:29.951Z"
   },
   {
    "duration": 56,
    "start_time": "2022-05-08T12:07:29.978Z"
   },
   {
    "duration": 10,
    "start_time": "2022-05-08T12:07:30.036Z"
   },
   {
    "duration": 13,
    "start_time": "2022-05-08T12:07:30.049Z"
   },
   {
    "duration": 9,
    "start_time": "2022-05-08T12:07:30.065Z"
   },
   {
    "duration": 133,
    "start_time": "2022-05-08T12:07:30.077Z"
   },
   {
    "duration": 0,
    "start_time": "2022-05-08T12:07:30.213Z"
   },
   {
    "duration": 0,
    "start_time": "2022-05-08T12:07:30.215Z"
   },
   {
    "duration": 0,
    "start_time": "2022-05-08T12:07:30.217Z"
   },
   {
    "duration": 0,
    "start_time": "2022-05-08T12:07:30.219Z"
   },
   {
    "duration": 0,
    "start_time": "2022-05-08T12:07:30.222Z"
   },
   {
    "duration": 0,
    "start_time": "2022-05-08T12:07:30.225Z"
   },
   {
    "duration": 0,
    "start_time": "2022-05-08T12:07:30.227Z"
   },
   {
    "duration": 0,
    "start_time": "2022-05-08T12:07:30.229Z"
   },
   {
    "duration": 0,
    "start_time": "2022-05-08T12:07:30.232Z"
   },
   {
    "duration": 0,
    "start_time": "2022-05-08T12:07:30.235Z"
   },
   {
    "duration": 0,
    "start_time": "2022-05-08T12:07:30.236Z"
   },
   {
    "duration": 0,
    "start_time": "2022-05-08T12:07:30.239Z"
   },
   {
    "duration": 0,
    "start_time": "2022-05-08T12:07:30.240Z"
   },
   {
    "duration": 0,
    "start_time": "2022-05-08T12:07:30.241Z"
   },
   {
    "duration": 0,
    "start_time": "2022-05-08T12:07:30.243Z"
   },
   {
    "duration": 21678,
    "start_time": "2022-05-08T12:08:06.308Z"
   },
   {
    "duration": 71,
    "start_time": "2022-05-08T12:10:15.508Z"
   },
   {
    "duration": 1936,
    "start_time": "2022-05-08T12:10:15.582Z"
   },
   {
    "duration": 33,
    "start_time": "2022-05-08T12:10:17.520Z"
   },
   {
    "duration": 6,
    "start_time": "2022-05-08T12:10:17.556Z"
   },
   {
    "duration": 30,
    "start_time": "2022-05-08T12:10:17.564Z"
   },
   {
    "duration": 34,
    "start_time": "2022-05-08T12:10:17.624Z"
   },
   {
    "duration": 97,
    "start_time": "2022-05-08T12:10:17.661Z"
   },
   {
    "duration": 108,
    "start_time": "2022-05-08T12:10:17.760Z"
   },
   {
    "duration": 72,
    "start_time": "2022-05-08T12:10:17.871Z"
   },
   {
    "duration": 5,
    "start_time": "2022-05-08T12:10:17.947Z"
   },
   {
    "duration": 39,
    "start_time": "2022-05-08T12:10:17.954Z"
   },
   {
    "duration": 21,
    "start_time": "2022-05-08T12:10:18.024Z"
   },
   {
    "duration": 11,
    "start_time": "2022-05-08T12:10:18.047Z"
   },
   {
    "duration": 27,
    "start_time": "2022-05-08T12:10:18.060Z"
   },
   {
    "duration": 61,
    "start_time": "2022-05-08T12:10:18.090Z"
   },
   {
    "duration": 10,
    "start_time": "2022-05-08T12:10:18.153Z"
   },
   {
    "duration": 11,
    "start_time": "2022-05-08T12:10:18.165Z"
   },
   {
    "duration": 47,
    "start_time": "2022-05-08T12:10:18.179Z"
   },
   {
    "duration": 73303,
    "start_time": "2022-05-08T12:10:18.229Z"
   },
   {
    "duration": 5,
    "start_time": "2022-05-08T12:11:31.534Z"
   },
   {
    "duration": 13,
    "start_time": "2022-05-08T12:11:31.542Z"
   },
   {
    "duration": 96,
    "start_time": "2022-05-08T12:49:12.925Z"
   },
   {
    "duration": 1960,
    "start_time": "2022-05-08T12:49:13.024Z"
   },
   {
    "duration": 32,
    "start_time": "2022-05-08T12:49:14.987Z"
   },
   {
    "duration": 6,
    "start_time": "2022-05-08T12:49:15.028Z"
   },
   {
    "duration": 30,
    "start_time": "2022-05-08T12:49:15.037Z"
   },
   {
    "duration": 25,
    "start_time": "2022-05-08T12:49:15.069Z"
   },
   {
    "duration": 92,
    "start_time": "2022-05-08T12:49:15.096Z"
   },
   {
    "duration": 154,
    "start_time": "2022-05-08T12:49:15.191Z"
   },
   {
    "duration": 23,
    "start_time": "2022-05-08T12:49:15.347Z"
   },
   {
    "duration": 4,
    "start_time": "2022-05-08T12:49:15.374Z"
   },
   {
    "duration": 75,
    "start_time": "2022-05-08T12:49:15.380Z"
   },
   {
    "duration": 21,
    "start_time": "2022-05-08T12:49:15.457Z"
   },
   {
    "duration": 7,
    "start_time": "2022-05-08T12:49:15.481Z"
   },
   {
    "duration": 53,
    "start_time": "2022-05-08T12:49:15.491Z"
   },
   {
    "duration": 23,
    "start_time": "2022-05-08T12:49:15.546Z"
   },
   {
    "duration": 10,
    "start_time": "2022-05-08T12:49:15.571Z"
   },
   {
    "duration": 4,
    "start_time": "2022-05-08T12:49:15.583Z"
   },
   {
    "duration": 7,
    "start_time": "2022-05-08T12:49:15.625Z"
   },
   {
    "duration": 70113,
    "start_time": "2022-05-08T12:49:15.635Z"
   },
   {
    "duration": 5,
    "start_time": "2022-05-08T12:50:25.751Z"
   },
   {
    "duration": 5,
    "start_time": "2022-05-08T12:50:25.759Z"
   },
   {
    "duration": 140519,
    "start_time": "2022-05-08T12:50:25.766Z"
   },
   {
    "duration": 0,
    "start_time": "2022-05-08T12:52:46.288Z"
   },
   {
    "duration": 0,
    "start_time": "2022-05-08T12:52:46.290Z"
   },
   {
    "duration": 0,
    "start_time": "2022-05-08T12:52:46.292Z"
   },
   {
    "duration": 0,
    "start_time": "2022-05-08T12:52:46.293Z"
   },
   {
    "duration": 0,
    "start_time": "2022-05-08T12:52:46.294Z"
   },
   {
    "duration": 0,
    "start_time": "2022-05-08T12:52:46.296Z"
   },
   {
    "duration": 0,
    "start_time": "2022-05-08T12:52:46.297Z"
   },
   {
    "duration": 0,
    "start_time": "2022-05-08T12:52:46.299Z"
   },
   {
    "duration": 0,
    "start_time": "2022-05-08T12:52:46.300Z"
   },
   {
    "duration": 0,
    "start_time": "2022-05-08T12:52:46.325Z"
   },
   {
    "duration": 0,
    "start_time": "2022-05-08T12:52:46.328Z"
   },
   {
    "duration": 0,
    "start_time": "2022-05-08T12:52:46.332Z"
   },
   {
    "duration": 5,
    "start_time": "2022-05-08T12:53:00.460Z"
   },
   {
    "duration": 114384,
    "start_time": "2022-05-08T12:53:02.500Z"
   },
   {
    "duration": 5,
    "start_time": "2022-05-08T12:54:59.849Z"
   },
   {
    "duration": 138697,
    "start_time": "2022-05-08T12:55:02.310Z"
   },
   {
    "duration": 82,
    "start_time": "2022-05-08T12:59:06.594Z"
   },
   {
    "duration": 2616,
    "start_time": "2022-05-08T12:59:06.679Z"
   },
   {
    "duration": 40,
    "start_time": "2022-05-08T12:59:09.298Z"
   },
   {
    "duration": 7,
    "start_time": "2022-05-08T12:59:09.342Z"
   },
   {
    "duration": 24,
    "start_time": "2022-05-08T12:59:09.352Z"
   },
   {
    "duration": 64,
    "start_time": "2022-05-08T12:59:09.378Z"
   },
   {
    "duration": 60,
    "start_time": "2022-05-08T12:59:09.444Z"
   },
   {
    "duration": 134,
    "start_time": "2022-05-08T12:59:09.507Z"
   },
   {
    "duration": 18,
    "start_time": "2022-05-08T12:59:09.645Z"
   },
   {
    "duration": 4,
    "start_time": "2022-05-08T12:59:09.665Z"
   },
   {
    "duration": 84,
    "start_time": "2022-05-08T12:59:09.672Z"
   },
   {
    "duration": 19,
    "start_time": "2022-05-08T12:59:09.758Z"
   },
   {
    "duration": 8,
    "start_time": "2022-05-08T12:59:09.779Z"
   },
   {
    "duration": 25,
    "start_time": "2022-05-08T12:59:09.824Z"
   },
   {
    "duration": 26,
    "start_time": "2022-05-08T12:59:09.852Z"
   },
   {
    "duration": 49,
    "start_time": "2022-05-08T12:59:09.881Z"
   },
   {
    "duration": 7,
    "start_time": "2022-05-08T12:59:09.933Z"
   },
   {
    "duration": 13,
    "start_time": "2022-05-08T12:59:09.943Z"
   },
   {
    "duration": 6,
    "start_time": "2022-05-08T12:59:09.959Z"
   },
   {
    "duration": 7,
    "start_time": "2022-05-08T12:59:09.967Z"
   },
   {
    "duration": 9,
    "start_time": "2022-05-08T12:59:09.976Z"
   },
   {
    "duration": 63,
    "start_time": "2022-05-08T13:03:42.239Z"
   },
   {
    "duration": 2011,
    "start_time": "2022-05-08T13:03:42.304Z"
   },
   {
    "duration": 42,
    "start_time": "2022-05-08T13:03:44.318Z"
   },
   {
    "duration": 5,
    "start_time": "2022-05-08T13:03:44.363Z"
   },
   {
    "duration": 26,
    "start_time": "2022-05-08T13:03:44.371Z"
   },
   {
    "duration": 51,
    "start_time": "2022-05-08T13:03:44.399Z"
   },
   {
    "duration": 58,
    "start_time": "2022-05-08T13:03:44.452Z"
   },
   {
    "duration": 126,
    "start_time": "2022-05-08T13:03:44.528Z"
   },
   {
    "duration": 17,
    "start_time": "2022-05-08T13:03:44.658Z"
   },
   {
    "duration": 5,
    "start_time": "2022-05-08T13:03:44.677Z"
   },
   {
    "duration": 77,
    "start_time": "2022-05-08T13:03:44.684Z"
   },
   {
    "duration": 20,
    "start_time": "2022-05-08T13:03:44.763Z"
   },
   {
    "duration": 43,
    "start_time": "2022-05-08T13:03:44.785Z"
   },
   {
    "duration": 21,
    "start_time": "2022-05-08T13:03:44.833Z"
   },
   {
    "duration": 27,
    "start_time": "2022-05-08T13:03:44.856Z"
   },
   {
    "duration": 50,
    "start_time": "2022-05-08T13:03:44.885Z"
   },
   {
    "duration": 4,
    "start_time": "2022-05-08T13:03:44.938Z"
   },
   {
    "duration": 10,
    "start_time": "2022-05-08T13:03:44.946Z"
   },
   {
    "duration": 8,
    "start_time": "2022-05-08T13:03:44.958Z"
   },
   {
    "duration": 6,
    "start_time": "2022-05-08T13:03:44.969Z"
   },
   {
    "duration": 13,
    "start_time": "2022-05-08T13:03:44.977Z"
   },
   {
    "duration": 338118,
    "start_time": "2022-05-08T13:03:44.992Z"
   },
   {
    "duration": 0,
    "start_time": "2022-05-08T13:09:23.114Z"
   },
   {
    "duration": 0,
    "start_time": "2022-05-08T13:09:23.116Z"
   },
   {
    "duration": 0,
    "start_time": "2022-05-08T13:09:23.125Z"
   },
   {
    "duration": 0,
    "start_time": "2022-05-08T13:09:23.127Z"
   },
   {
    "duration": 0,
    "start_time": "2022-05-08T13:09:23.130Z"
   },
   {
    "duration": 0,
    "start_time": "2022-05-08T13:09:23.132Z"
   },
   {
    "duration": 0,
    "start_time": "2022-05-08T13:09:23.133Z"
   },
   {
    "duration": 0,
    "start_time": "2022-05-08T13:09:23.135Z"
   },
   {
    "duration": 0,
    "start_time": "2022-05-08T13:09:23.141Z"
   },
   {
    "duration": 0,
    "start_time": "2022-05-08T13:09:23.142Z"
   },
   {
    "duration": 0,
    "start_time": "2022-05-08T13:09:23.148Z"
   },
   {
    "duration": 0,
    "start_time": "2022-05-08T13:09:23.150Z"
   },
   {
    "duration": 10,
    "start_time": "2022-05-08T13:09:27.132Z"
   },
   {
    "duration": 98,
    "start_time": "2022-05-08T13:10:51.345Z"
   },
   {
    "duration": 2488,
    "start_time": "2022-05-08T13:10:51.446Z"
   },
   {
    "duration": 34,
    "start_time": "2022-05-08T13:10:53.939Z"
   },
   {
    "duration": 5,
    "start_time": "2022-05-08T13:10:53.976Z"
   },
   {
    "duration": 42,
    "start_time": "2022-05-08T13:10:53.983Z"
   },
   {
    "duration": 28,
    "start_time": "2022-05-08T13:10:54.027Z"
   },
   {
    "duration": 92,
    "start_time": "2022-05-08T13:10:54.057Z"
   },
   {
    "duration": 109,
    "start_time": "2022-05-08T13:10:54.153Z"
   },
   {
    "duration": 63,
    "start_time": "2022-05-08T13:10:54.265Z"
   },
   {
    "duration": 5,
    "start_time": "2022-05-08T13:10:54.339Z"
   },
   {
    "duration": 41,
    "start_time": "2022-05-08T13:10:54.346Z"
   },
   {
    "duration": 49,
    "start_time": "2022-05-08T13:10:54.389Z"
   },
   {
    "duration": 11,
    "start_time": "2022-05-08T13:10:54.440Z"
   },
   {
    "duration": 21,
    "start_time": "2022-05-08T13:10:54.453Z"
   },
   {
    "duration": 54,
    "start_time": "2022-05-08T13:10:54.476Z"
   },
   {
    "duration": 14,
    "start_time": "2022-05-08T13:10:54.533Z"
   },
   {
    "duration": 4,
    "start_time": "2022-05-08T13:10:54.550Z"
   },
   {
    "duration": 16,
    "start_time": "2022-05-08T13:10:54.556Z"
   },
   {
    "duration": 10,
    "start_time": "2022-05-08T13:10:54.574Z"
   },
   {
    "duration": 17,
    "start_time": "2022-05-08T13:10:54.586Z"
   },
   {
    "duration": 8,
    "start_time": "2022-05-08T13:10:54.606Z"
   },
   {
    "duration": 81784,
    "start_time": "2022-05-08T13:10:54.624Z"
   },
   {
    "duration": 4,
    "start_time": "2022-05-08T13:12:16.410Z"
   },
   {
    "duration": 104,
    "start_time": "2022-05-08T13:12:16.426Z"
   },
   {
    "duration": 296,
    "start_time": "2022-05-08T13:12:16.533Z"
   },
   {
    "duration": 733,
    "start_time": "2022-05-08T13:12:16.832Z"
   },
   {
    "duration": 258,
    "start_time": "2022-05-08T13:12:17.568Z"
   },
   {
    "duration": 105,
    "start_time": "2022-05-08T13:12:17.838Z"
   },
   {
    "duration": 280,
    "start_time": "2022-05-08T13:12:17.948Z"
   },
   {
    "duration": 111,
    "start_time": "2022-05-08T13:12:18.231Z"
   },
   {
    "duration": 101,
    "start_time": "2022-05-08T13:12:18.348Z"
   },
   {
    "duration": 855,
    "start_time": "2022-05-08T13:12:18.452Z"
   },
   {
    "duration": 52,
    "start_time": "2022-05-08T13:12:19.310Z"
   },
   {
    "duration": 442,
    "start_time": "2022-05-08T13:12:19.365Z"
   },
   {
    "duration": 68,
    "start_time": "2022-05-08T13:12:55.877Z"
   },
   {
    "duration": 1946,
    "start_time": "2022-05-08T13:12:55.948Z"
   },
   {
    "duration": 42,
    "start_time": "2022-05-08T13:12:57.897Z"
   },
   {
    "duration": 6,
    "start_time": "2022-05-08T13:12:57.943Z"
   },
   {
    "duration": 31,
    "start_time": "2022-05-08T13:12:57.951Z"
   },
   {
    "duration": 55,
    "start_time": "2022-05-08T13:12:57.985Z"
   },
   {
    "duration": 59,
    "start_time": "2022-05-08T13:12:58.043Z"
   },
   {
    "duration": 140,
    "start_time": "2022-05-08T13:12:58.105Z"
   },
   {
    "duration": 18,
    "start_time": "2022-05-08T13:12:58.247Z"
   },
   {
    "duration": 5,
    "start_time": "2022-05-08T13:12:58.269Z"
   },
   {
    "duration": 77,
    "start_time": "2022-05-08T13:12:58.276Z"
   },
   {
    "duration": 20,
    "start_time": "2022-05-08T13:12:58.355Z"
   },
   {
    "duration": 9,
    "start_time": "2022-05-08T13:12:58.378Z"
   },
   {
    "duration": 54,
    "start_time": "2022-05-08T13:12:58.389Z"
   },
   {
    "duration": 25,
    "start_time": "2022-05-08T13:12:58.445Z"
   },
   {
    "duration": 12,
    "start_time": "2022-05-08T13:12:58.473Z"
   },
   {
    "duration": 45,
    "start_time": "2022-05-08T13:12:58.487Z"
   },
   {
    "duration": 13,
    "start_time": "2022-05-08T13:12:58.534Z"
   },
   {
    "duration": 70739,
    "start_time": "2022-05-08T13:12:58.549Z"
   },
   {
    "duration": 4,
    "start_time": "2022-05-08T13:14:09.290Z"
   },
   {
    "duration": 13,
    "start_time": "2022-05-08T13:14:09.296Z"
   },
   {
    "duration": 80073,
    "start_time": "2022-05-08T13:14:09.323Z"
   },
   {
    "duration": 3,
    "start_time": "2022-05-08T13:15:29.399Z"
   },
   {
    "duration": 131,
    "start_time": "2022-05-08T13:15:29.405Z"
   },
   {
    "duration": 295,
    "start_time": "2022-05-08T13:15:29.539Z"
   },
   {
    "duration": 772,
    "start_time": "2022-05-08T13:15:29.837Z"
   },
   {
    "duration": 317,
    "start_time": "2022-05-08T13:15:30.612Z"
   },
   {
    "duration": 28,
    "start_time": "2022-05-08T13:15:30.956Z"
   },
   {
    "duration": 338,
    "start_time": "2022-05-08T13:15:30.987Z"
   },
   {
    "duration": 105,
    "start_time": "2022-05-08T13:15:31.329Z"
   },
   {
    "duration": 291,
    "start_time": "2022-05-08T13:15:31.436Z"
   },
   {
    "duration": 681,
    "start_time": "2022-05-08T13:15:31.730Z"
   },
   {
    "duration": 44,
    "start_time": "2022-05-08T13:15:32.413Z"
   },
   {
    "duration": 367,
    "start_time": "2022-05-08T13:15:32.459Z"
   },
   {
    "duration": 149,
    "start_time": "2022-05-08T13:18:04.592Z"
   },
   {
    "duration": 211,
    "start_time": "2022-05-08T13:18:27.723Z"
   },
   {
    "duration": 161,
    "start_time": "2022-05-08T13:18:49.378Z"
   },
   {
    "duration": 178,
    "start_time": "2022-05-08T13:19:06.947Z"
   },
   {
    "duration": 37,
    "start_time": "2022-05-08T13:19:21.438Z"
   },
   {
    "duration": 69,
    "start_time": "2022-05-08T13:19:57.361Z"
   },
   {
    "duration": 2347,
    "start_time": "2022-05-08T13:19:57.434Z"
   },
   {
    "duration": 47,
    "start_time": "2022-05-08T13:19:59.784Z"
   },
   {
    "duration": 6,
    "start_time": "2022-05-08T13:19:59.835Z"
   },
   {
    "duration": 25,
    "start_time": "2022-05-08T13:19:59.849Z"
   },
   {
    "duration": 25,
    "start_time": "2022-05-08T13:19:59.876Z"
   },
   {
    "duration": 61,
    "start_time": "2022-05-08T13:19:59.928Z"
   },
   {
    "duration": 149,
    "start_time": "2022-05-08T13:19:59.991Z"
   },
   {
    "duration": 19,
    "start_time": "2022-05-08T13:20:00.143Z"
   },
   {
    "duration": 5,
    "start_time": "2022-05-08T13:20:00.168Z"
   },
   {
    "duration": 71,
    "start_time": "2022-05-08T13:20:00.176Z"
   },
   {
    "duration": 25,
    "start_time": "2022-05-08T13:20:00.250Z"
   },
   {
    "duration": 10,
    "start_time": "2022-05-08T13:20:00.278Z"
   },
   {
    "duration": 45,
    "start_time": "2022-05-08T13:20:00.291Z"
   },
   {
    "duration": 29,
    "start_time": "2022-05-08T13:20:00.339Z"
   },
   {
    "duration": 12,
    "start_time": "2022-05-08T13:20:00.370Z"
   },
   {
    "duration": 47,
    "start_time": "2022-05-08T13:20:00.385Z"
   },
   {
    "duration": 15,
    "start_time": "2022-05-08T13:20:00.435Z"
   },
   {
    "duration": 71422,
    "start_time": "2022-05-08T13:20:00.453Z"
   },
   {
    "duration": 4,
    "start_time": "2022-05-08T13:21:11.878Z"
   },
   {
    "duration": 22,
    "start_time": "2022-05-08T13:21:11.885Z"
   },
   {
    "duration": 16495,
    "start_time": "2022-05-08T13:21:11.909Z"
   },
   {
    "duration": 0,
    "start_time": "2022-05-08T13:21:28.408Z"
   },
   {
    "duration": 0,
    "start_time": "2022-05-08T13:21:28.410Z"
   },
   {
    "duration": 0,
    "start_time": "2022-05-08T13:21:28.412Z"
   },
   {
    "duration": 0,
    "start_time": "2022-05-08T13:21:28.427Z"
   },
   {
    "duration": 0,
    "start_time": "2022-05-08T13:21:28.429Z"
   },
   {
    "duration": 0,
    "start_time": "2022-05-08T13:21:28.430Z"
   },
   {
    "duration": 0,
    "start_time": "2022-05-08T13:21:28.433Z"
   },
   {
    "duration": 0,
    "start_time": "2022-05-08T13:21:28.434Z"
   },
   {
    "duration": 0,
    "start_time": "2022-05-08T13:21:28.436Z"
   },
   {
    "duration": 0,
    "start_time": "2022-05-08T13:21:28.438Z"
   },
   {
    "duration": 0,
    "start_time": "2022-05-08T13:21:28.440Z"
   },
   {
    "duration": 0,
    "start_time": "2022-05-08T13:21:28.449Z"
   },
   {
    "duration": 6,
    "start_time": "2022-05-08T13:21:44.182Z"
   },
   {
    "duration": 44554,
    "start_time": "2022-05-08T13:21:46.308Z"
   },
   {
    "duration": 5,
    "start_time": "2022-05-08T13:22:35.672Z"
   },
   {
    "duration": 46458,
    "start_time": "2022-05-08T13:22:38.973Z"
   },
   {
    "duration": 72,
    "start_time": "2022-05-08T13:24:17.965Z"
   },
   {
    "duration": 1955,
    "start_time": "2022-05-08T13:24:18.040Z"
   },
   {
    "duration": 46,
    "start_time": "2022-05-08T13:24:19.997Z"
   },
   {
    "duration": 6,
    "start_time": "2022-05-08T13:24:20.047Z"
   },
   {
    "duration": 29,
    "start_time": "2022-05-08T13:24:20.055Z"
   },
   {
    "duration": 42,
    "start_time": "2022-05-08T13:24:20.086Z"
   },
   {
    "duration": 60,
    "start_time": "2022-05-08T13:24:20.130Z"
   },
   {
    "duration": 148,
    "start_time": "2022-05-08T13:24:20.193Z"
   },
   {
    "duration": 20,
    "start_time": "2022-05-08T13:24:20.343Z"
   },
   {
    "duration": 5,
    "start_time": "2022-05-08T13:24:20.369Z"
   },
   {
    "duration": 71,
    "start_time": "2022-05-08T13:24:20.376Z"
   },
   {
    "duration": 20,
    "start_time": "2022-05-08T13:24:20.449Z"
   },
   {
    "duration": 7,
    "start_time": "2022-05-08T13:24:20.471Z"
   },
   {
    "duration": 60,
    "start_time": "2022-05-08T13:24:20.481Z"
   },
   {
    "duration": 25,
    "start_time": "2022-05-08T13:24:20.543Z"
   },
   {
    "duration": 17,
    "start_time": "2022-05-08T13:24:20.570Z"
   },
   {
    "duration": 4,
    "start_time": "2022-05-08T13:24:20.589Z"
   },
   {
    "duration": 6,
    "start_time": "2022-05-08T13:24:20.630Z"
   },
   {
    "duration": 38826,
    "start_time": "2022-05-08T13:24:20.641Z"
   },
   {
    "duration": 4,
    "start_time": "2022-05-08T13:24:59.470Z"
   },
   {
    "duration": 9,
    "start_time": "2022-05-08T13:24:59.476Z"
   },
   {
    "duration": 46980,
    "start_time": "2022-05-08T13:24:59.487Z"
   },
   {
    "duration": 3,
    "start_time": "2022-05-08T13:25:46.469Z"
   },
   {
    "duration": 86,
    "start_time": "2022-05-08T13:25:46.474Z"
   },
   {
    "duration": 372,
    "start_time": "2022-05-08T13:25:46.563Z"
   },
   {
    "duration": 765,
    "start_time": "2022-05-08T13:25:46.943Z"
   },
   {
    "duration": 326,
    "start_time": "2022-05-08T13:25:47.711Z"
   },
   {
    "duration": 83,
    "start_time": "2022-05-08T13:25:48.052Z"
   },
   {
    "duration": 205,
    "start_time": "2022-05-08T13:25:48.143Z"
   },
   {
    "duration": 101,
    "start_time": "2022-05-08T13:25:48.431Z"
   },
   {
    "duration": 107,
    "start_time": "2022-05-08T13:25:48.538Z"
   },
   {
    "duration": 787,
    "start_time": "2022-05-08T13:25:48.726Z"
   },
   {
    "duration": 39,
    "start_time": "2022-05-08T13:25:49.516Z"
   },
   {
    "duration": 348,
    "start_time": "2022-05-08T13:25:49.557Z"
   },
   {
    "duration": 185,
    "start_time": "2022-05-08T13:27:38.446Z"
   },
   {
    "duration": 605,
    "start_time": "2022-05-08T13:27:48.903Z"
   },
   {
    "duration": 36,
    "start_time": "2022-05-08T13:29:03.238Z"
   },
   {
    "duration": 5,
    "start_time": "2022-05-08T13:29:36.935Z"
   },
   {
    "duration": 5,
    "start_time": "2022-05-08T13:29:42.483Z"
   },
   {
    "duration": 133861,
    "start_time": "2022-05-08T13:29:43.796Z"
   },
   {
    "duration": 86,
    "start_time": "2022-05-08T13:32:55.210Z"
   },
   {
    "duration": 2010,
    "start_time": "2022-05-08T13:32:55.299Z"
   },
   {
    "duration": 42,
    "start_time": "2022-05-08T13:32:57.312Z"
   },
   {
    "duration": 6,
    "start_time": "2022-05-08T13:32:57.357Z"
   },
   {
    "duration": 25,
    "start_time": "2022-05-08T13:32:57.365Z"
   },
   {
    "duration": 50,
    "start_time": "2022-05-08T13:32:57.392Z"
   },
   {
    "duration": 82,
    "start_time": "2022-05-08T13:32:57.444Z"
   },
   {
    "duration": 120,
    "start_time": "2022-05-08T13:32:57.530Z"
   },
   {
    "duration": 17,
    "start_time": "2022-05-08T13:32:57.652Z"
   },
   {
    "duration": 5,
    "start_time": "2022-05-08T13:32:57.673Z"
   },
   {
    "duration": 86,
    "start_time": "2022-05-08T13:32:57.680Z"
   },
   {
    "duration": 26,
    "start_time": "2022-05-08T13:32:57.768Z"
   },
   {
    "duration": 27,
    "start_time": "2022-05-08T13:32:57.797Z"
   },
   {
    "duration": 23,
    "start_time": "2022-05-08T13:32:57.828Z"
   },
   {
    "duration": 24,
    "start_time": "2022-05-08T13:32:57.853Z"
   },
   {
    "duration": 59,
    "start_time": "2022-05-08T13:32:57.879Z"
   },
   {
    "duration": 5,
    "start_time": "2022-05-08T13:32:57.940Z"
   },
   {
    "duration": 10,
    "start_time": "2022-05-08T13:32:57.947Z"
   },
   {
    "duration": 3955,
    "start_time": "2022-05-08T13:32:57.959Z"
   },
   {
    "duration": 0,
    "start_time": "2022-05-08T13:33:01.917Z"
   },
   {
    "duration": 0,
    "start_time": "2022-05-08T13:33:01.918Z"
   },
   {
    "duration": 0,
    "start_time": "2022-05-08T13:33:01.925Z"
   },
   {
    "duration": 0,
    "start_time": "2022-05-08T13:33:01.928Z"
   },
   {
    "duration": 0,
    "start_time": "2022-05-08T13:33:01.929Z"
   },
   {
    "duration": 0,
    "start_time": "2022-05-08T13:33:01.931Z"
   },
   {
    "duration": 0,
    "start_time": "2022-05-08T13:33:01.934Z"
   },
   {
    "duration": 0,
    "start_time": "2022-05-08T13:33:01.935Z"
   },
   {
    "duration": 0,
    "start_time": "2022-05-08T13:33:01.938Z"
   },
   {
    "duration": 1,
    "start_time": "2022-05-08T13:33:01.939Z"
   },
   {
    "duration": 0,
    "start_time": "2022-05-08T13:33:01.941Z"
   },
   {
    "duration": 1,
    "start_time": "2022-05-08T13:33:01.943Z"
   },
   {
    "duration": 0,
    "start_time": "2022-05-08T13:33:01.945Z"
   },
   {
    "duration": 0,
    "start_time": "2022-05-08T13:33:01.947Z"
   },
   {
    "duration": 0,
    "start_time": "2022-05-08T13:33:01.949Z"
   },
   {
    "duration": 67,
    "start_time": "2022-05-08T13:33:31.449Z"
   },
   {
    "duration": 2009,
    "start_time": "2022-05-08T13:33:31.519Z"
   },
   {
    "duration": 37,
    "start_time": "2022-05-08T13:33:33.531Z"
   },
   {
    "duration": 6,
    "start_time": "2022-05-08T13:33:33.571Z"
   },
   {
    "duration": 31,
    "start_time": "2022-05-08T13:33:33.579Z"
   },
   {
    "duration": 38,
    "start_time": "2022-05-08T13:33:33.612Z"
   },
   {
    "duration": 84,
    "start_time": "2022-05-08T13:33:33.652Z"
   },
   {
    "duration": 112,
    "start_time": "2022-05-08T13:33:33.739Z"
   },
   {
    "duration": 16,
    "start_time": "2022-05-08T13:33:33.854Z"
   },
   {
    "duration": 63,
    "start_time": "2022-05-08T13:33:33.874Z"
   },
   {
    "duration": 48,
    "start_time": "2022-05-08T13:33:33.939Z"
   },
   {
    "duration": 20,
    "start_time": "2022-05-08T13:33:33.990Z"
   },
   {
    "duration": 20,
    "start_time": "2022-05-08T13:33:34.012Z"
   },
   {
    "duration": 45,
    "start_time": "2022-05-08T13:33:34.035Z"
   },
   {
    "duration": 29,
    "start_time": "2022-05-08T13:33:34.082Z"
   },
   {
    "duration": 16,
    "start_time": "2022-05-08T13:33:34.125Z"
   },
   {
    "duration": 10,
    "start_time": "2022-05-08T13:33:34.143Z"
   },
   {
    "duration": 32,
    "start_time": "2022-05-08T13:33:34.155Z"
   },
   {
    "duration": 44924,
    "start_time": "2022-05-08T13:33:34.189Z"
   },
   {
    "duration": 0,
    "start_time": "2022-05-08T13:34:19.116Z"
   },
   {
    "duration": 0,
    "start_time": "2022-05-08T13:34:19.127Z"
   },
   {
    "duration": 0,
    "start_time": "2022-05-08T13:34:19.130Z"
   },
   {
    "duration": 0,
    "start_time": "2022-05-08T13:34:19.132Z"
   },
   {
    "duration": 0,
    "start_time": "2022-05-08T13:34:19.134Z"
   },
   {
    "duration": 0,
    "start_time": "2022-05-08T13:34:19.136Z"
   },
   {
    "duration": 0,
    "start_time": "2022-05-08T13:34:19.138Z"
   },
   {
    "duration": 0,
    "start_time": "2022-05-08T13:34:19.141Z"
   },
   {
    "duration": 0,
    "start_time": "2022-05-08T13:34:19.143Z"
   },
   {
    "duration": 0,
    "start_time": "2022-05-08T13:34:19.145Z"
   },
   {
    "duration": 0,
    "start_time": "2022-05-08T13:34:19.146Z"
   },
   {
    "duration": 0,
    "start_time": "2022-05-08T13:34:19.147Z"
   },
   {
    "duration": 0,
    "start_time": "2022-05-08T13:34:19.149Z"
   },
   {
    "duration": 0,
    "start_time": "2022-05-08T13:34:19.151Z"
   },
   {
    "duration": 0,
    "start_time": "2022-05-08T13:34:19.152Z"
   },
   {
    "duration": 78,
    "start_time": "2022-05-08T13:34:51.849Z"
   },
   {
    "duration": 1937,
    "start_time": "2022-05-08T13:34:51.930Z"
   },
   {
    "duration": 37,
    "start_time": "2022-05-08T13:34:53.870Z"
   },
   {
    "duration": 5,
    "start_time": "2022-05-08T13:34:53.910Z"
   },
   {
    "duration": 28,
    "start_time": "2022-05-08T13:34:53.923Z"
   },
   {
    "duration": 32,
    "start_time": "2022-05-08T13:34:53.953Z"
   },
   {
    "duration": 95,
    "start_time": "2022-05-08T13:34:53.987Z"
   },
   {
    "duration": 159,
    "start_time": "2022-05-08T13:34:54.084Z"
   },
   {
    "duration": 19,
    "start_time": "2022-05-08T13:34:54.246Z"
   },
   {
    "duration": 4,
    "start_time": "2022-05-08T13:34:54.272Z"
   },
   {
    "duration": 73,
    "start_time": "2022-05-08T13:34:54.279Z"
   },
   {
    "duration": 21,
    "start_time": "2022-05-08T13:34:54.354Z"
   },
   {
    "duration": 8,
    "start_time": "2022-05-08T13:34:54.377Z"
   },
   {
    "duration": 55,
    "start_time": "2022-05-08T13:34:54.387Z"
   },
   {
    "duration": 29,
    "start_time": "2022-05-08T13:34:54.445Z"
   },
   {
    "duration": 13,
    "start_time": "2022-05-08T13:34:54.476Z"
   },
   {
    "duration": 12,
    "start_time": "2022-05-08T13:34:54.524Z"
   },
   {
    "duration": 17,
    "start_time": "2022-05-08T13:34:54.539Z"
   },
   {
    "duration": 110065,
    "start_time": "2022-05-08T13:34:54.559Z"
   },
   {
    "duration": 4,
    "start_time": "2022-05-08T13:36:44.627Z"
   },
   {
    "duration": 14,
    "start_time": "2022-05-08T13:36:44.633Z"
   },
   {
    "duration": 90,
    "start_time": "2022-05-08T15:06:56.521Z"
   },
   {
    "duration": 1999,
    "start_time": "2022-05-08T15:06:56.614Z"
   },
   {
    "duration": 37,
    "start_time": "2022-05-08T15:06:58.615Z"
   },
   {
    "duration": 5,
    "start_time": "2022-05-08T15:06:58.655Z"
   },
   {
    "duration": 23,
    "start_time": "2022-05-08T15:06:58.662Z"
   },
   {
    "duration": 62,
    "start_time": "2022-05-08T15:06:58.687Z"
   },
   {
    "duration": 58,
    "start_time": "2022-05-08T15:06:58.751Z"
   },
   {
    "duration": 120,
    "start_time": "2022-05-08T15:06:58.824Z"
   },
   {
    "duration": 17,
    "start_time": "2022-05-08T15:06:58.947Z"
   },
   {
    "duration": 4,
    "start_time": "2022-05-08T15:06:58.968Z"
   },
   {
    "duration": 86,
    "start_time": "2022-05-08T15:06:58.974Z"
   },
   {
    "duration": 23,
    "start_time": "2022-05-08T15:06:59.062Z"
   },
   {
    "duration": 37,
    "start_time": "2022-05-08T15:06:59.088Z"
   },
   {
    "duration": 20,
    "start_time": "2022-05-08T15:06:59.127Z"
   },
   {
    "duration": 26,
    "start_time": "2022-05-08T15:06:59.150Z"
   },
   {
    "duration": 51,
    "start_time": "2022-05-08T15:06:59.178Z"
   },
   {
    "duration": 8,
    "start_time": "2022-05-08T15:06:59.232Z"
   },
   {
    "duration": 14,
    "start_time": "2022-05-08T15:06:59.243Z"
   },
   {
    "duration": 110626,
    "start_time": "2022-05-08T15:06:59.259Z"
   },
   {
    "duration": 4,
    "start_time": "2022-05-08T15:08:49.887Z"
   },
   {
    "duration": 10,
    "start_time": "2022-05-08T15:08:49.893Z"
   },
   {
    "duration": 365,
    "start_time": "2022-05-08T15:08:49.905Z"
   },
   {
    "duration": 0,
    "start_time": "2022-05-08T15:08:50.274Z"
   },
   {
    "duration": 0,
    "start_time": "2022-05-08T15:08:50.276Z"
   },
   {
    "duration": 0,
    "start_time": "2022-05-08T15:08:50.278Z"
   },
   {
    "duration": 0,
    "start_time": "2022-05-08T15:08:50.280Z"
   },
   {
    "duration": 0,
    "start_time": "2022-05-08T15:08:50.282Z"
   },
   {
    "duration": 0,
    "start_time": "2022-05-08T15:08:50.283Z"
   },
   {
    "duration": 0,
    "start_time": "2022-05-08T15:08:50.284Z"
   },
   {
    "duration": 0,
    "start_time": "2022-05-08T15:08:50.285Z"
   },
   {
    "duration": 0,
    "start_time": "2022-05-08T15:08:50.288Z"
   },
   {
    "duration": 0,
    "start_time": "2022-05-08T15:08:50.289Z"
   },
   {
    "duration": 0,
    "start_time": "2022-05-08T15:08:50.291Z"
   },
   {
    "duration": 0,
    "start_time": "2022-05-08T15:08:50.294Z"
   },
   {
    "duration": 74,
    "start_time": "2022-05-08T15:10:17.281Z"
   },
   {
    "duration": 1940,
    "start_time": "2022-05-08T15:10:17.357Z"
   },
   {
    "duration": 33,
    "start_time": "2022-05-08T15:10:19.300Z"
   },
   {
    "duration": 5,
    "start_time": "2022-05-08T15:10:19.337Z"
   },
   {
    "duration": 8,
    "start_time": "2022-05-08T15:10:19.344Z"
   },
   {
    "duration": 23,
    "start_time": "2022-05-08T15:10:19.354Z"
   },
   {
    "duration": 66,
    "start_time": "2022-05-08T15:10:19.380Z"
   },
   {
    "duration": 79,
    "start_time": "2022-05-08T15:10:19.449Z"
   },
   {
    "duration": 109,
    "start_time": "2022-05-08T15:10:19.531Z"
   },
   {
    "duration": 18,
    "start_time": "2022-05-08T15:10:19.644Z"
   },
   {
    "duration": 4,
    "start_time": "2022-05-08T15:10:19.664Z"
   },
   {
    "duration": 82,
    "start_time": "2022-05-08T15:10:19.670Z"
   },
   {
    "duration": 20,
    "start_time": "2022-05-08T15:10:19.754Z"
   },
   {
    "duration": 7,
    "start_time": "2022-05-08T15:10:19.777Z"
   },
   {
    "duration": 48,
    "start_time": "2022-05-08T15:10:19.786Z"
   },
   {
    "duration": 23,
    "start_time": "2022-05-08T15:10:19.836Z"
   },
   {
    "duration": 9,
    "start_time": "2022-05-08T15:10:19.861Z"
   },
   {
    "duration": 4,
    "start_time": "2022-05-08T15:10:19.872Z"
   },
   {
    "duration": 5,
    "start_time": "2022-05-08T15:10:19.925Z"
   },
   {
    "duration": 105574,
    "start_time": "2022-05-08T15:10:19.932Z"
   },
   {
    "duration": 16,
    "start_time": "2022-05-08T15:12:05.509Z"
   },
   {
    "duration": 15,
    "start_time": "2022-05-08T15:12:05.527Z"
   },
   {
    "duration": 371852,
    "start_time": "2022-05-08T15:12:05.544Z"
   },
   {
    "duration": 0,
    "start_time": "2022-05-08T15:18:17.399Z"
   },
   {
    "duration": 0,
    "start_time": "2022-05-08T15:18:17.401Z"
   },
   {
    "duration": 0,
    "start_time": "2022-05-08T15:18:17.402Z"
   },
   {
    "duration": 0,
    "start_time": "2022-05-08T15:18:17.404Z"
   },
   {
    "duration": 0,
    "start_time": "2022-05-08T15:18:17.406Z"
   },
   {
    "duration": 0,
    "start_time": "2022-05-08T15:18:17.425Z"
   },
   {
    "duration": 0,
    "start_time": "2022-05-08T15:18:17.427Z"
   },
   {
    "duration": 0,
    "start_time": "2022-05-08T15:18:17.428Z"
   },
   {
    "duration": 0,
    "start_time": "2022-05-08T15:18:17.430Z"
   },
   {
    "duration": 0,
    "start_time": "2022-05-08T15:18:17.432Z"
   },
   {
    "duration": 0,
    "start_time": "2022-05-08T15:18:17.433Z"
   },
   {
    "duration": 0,
    "start_time": "2022-05-08T15:18:17.435Z"
   },
   {
    "duration": 0,
    "start_time": "2022-05-08T15:18:17.437Z"
   },
   {
    "duration": 5,
    "start_time": "2022-05-08T15:18:30.309Z"
   },
   {
    "duration": 0,
    "start_time": "2022-05-08T15:20:03.967Z"
   },
   {
    "duration": 5,
    "start_time": "2022-05-08T15:20:18.150Z"
   },
   {
    "duration": 96779,
    "start_time": "2022-05-08T15:20:19.696Z"
   },
   {
    "duration": 65,
    "start_time": "2022-05-08T15:22:01.747Z"
   },
   {
    "duration": 2536,
    "start_time": "2022-05-08T15:22:01.815Z"
   },
   {
    "duration": 33,
    "start_time": "2022-05-08T15:22:04.353Z"
   },
   {
    "duration": 4,
    "start_time": "2022-05-08T15:22:04.389Z"
   },
   {
    "duration": 8,
    "start_time": "2022-05-08T15:22:04.396Z"
   },
   {
    "duration": 25,
    "start_time": "2022-05-08T15:22:04.423Z"
   },
   {
    "duration": 25,
    "start_time": "2022-05-08T15:22:04.450Z"
   },
   {
    "duration": 94,
    "start_time": "2022-05-08T15:22:04.477Z"
   },
   {
    "duration": 98,
    "start_time": "2022-05-08T15:22:04.573Z"
   },
   {
    "duration": 19,
    "start_time": "2022-05-08T15:22:04.724Z"
   },
   {
    "duration": 5,
    "start_time": "2022-05-08T15:22:04.745Z"
   },
   {
    "duration": 75,
    "start_time": "2022-05-08T15:22:04.752Z"
   },
   {
    "duration": 21,
    "start_time": "2022-05-08T15:22:04.830Z"
   },
   {
    "duration": 9,
    "start_time": "2022-05-08T15:22:04.854Z"
   },
   {
    "duration": 60,
    "start_time": "2022-05-08T15:22:04.865Z"
   },
   {
    "duration": 27,
    "start_time": "2022-05-08T15:22:04.928Z"
   },
   {
    "duration": 10,
    "start_time": "2022-05-08T15:22:04.957Z"
   },
   {
    "duration": 56,
    "start_time": "2022-05-08T15:22:04.970Z"
   },
   {
    "duration": 20,
    "start_time": "2022-05-08T15:22:05.029Z"
   },
   {
    "duration": 111127,
    "start_time": "2022-05-08T15:22:05.051Z"
   },
   {
    "duration": 3,
    "start_time": "2022-05-08T15:23:56.181Z"
   },
   {
    "duration": 7,
    "start_time": "2022-05-08T15:23:56.188Z"
   },
   {
    "duration": 169813,
    "start_time": "2022-05-08T15:23:56.198Z"
   },
   {
    "duration": 0,
    "start_time": "2022-05-08T15:26:46.015Z"
   },
   {
    "duration": 0,
    "start_time": "2022-05-08T15:26:46.017Z"
   },
   {
    "duration": 0,
    "start_time": "2022-05-08T15:26:46.018Z"
   },
   {
    "duration": 0,
    "start_time": "2022-05-08T15:26:46.025Z"
   },
   {
    "duration": 0,
    "start_time": "2022-05-08T15:26:46.027Z"
   },
   {
    "duration": 0,
    "start_time": "2022-05-08T15:26:46.029Z"
   },
   {
    "duration": 0,
    "start_time": "2022-05-08T15:26:46.032Z"
   },
   {
    "duration": 0,
    "start_time": "2022-05-08T15:26:46.034Z"
   },
   {
    "duration": 0,
    "start_time": "2022-05-08T15:26:46.036Z"
   },
   {
    "duration": 0,
    "start_time": "2022-05-08T15:26:46.038Z"
   },
   {
    "duration": 0,
    "start_time": "2022-05-08T15:26:46.041Z"
   },
   {
    "duration": 0,
    "start_time": "2022-05-08T15:26:46.044Z"
   },
   {
    "duration": 67,
    "start_time": "2022-05-08T15:26:51.651Z"
   },
   {
    "duration": 2293,
    "start_time": "2022-05-08T15:26:51.721Z"
   },
   {
    "duration": 44,
    "start_time": "2022-05-08T15:26:54.016Z"
   },
   {
    "duration": 5,
    "start_time": "2022-05-08T15:26:54.064Z"
   },
   {
    "duration": 19,
    "start_time": "2022-05-08T15:26:54.071Z"
   },
   {
    "duration": 45,
    "start_time": "2022-05-08T15:26:54.092Z"
   },
   {
    "duration": 35,
    "start_time": "2022-05-08T15:26:54.140Z"
   },
   {
    "duration": 83,
    "start_time": "2022-05-08T15:26:54.178Z"
   },
   {
    "duration": 163,
    "start_time": "2022-05-08T15:26:54.263Z"
   },
   {
    "duration": 16,
    "start_time": "2022-05-08T15:26:54.432Z"
   },
   {
    "duration": 8,
    "start_time": "2022-05-08T15:26:54.450Z"
   },
   {
    "duration": 66,
    "start_time": "2022-05-08T15:26:54.460Z"
   },
   {
    "duration": 21,
    "start_time": "2022-05-08T15:26:54.528Z"
   },
   {
    "duration": 9,
    "start_time": "2022-05-08T15:26:54.552Z"
   },
   {
    "duration": 26,
    "start_time": "2022-05-08T15:26:54.564Z"
   },
   {
    "duration": 53,
    "start_time": "2022-05-08T15:26:54.593Z"
   },
   {
    "duration": 11,
    "start_time": "2022-05-08T15:26:54.648Z"
   },
   {
    "duration": 19,
    "start_time": "2022-05-08T15:26:54.661Z"
   },
   {
    "duration": 16,
    "start_time": "2022-05-08T15:26:54.683Z"
   },
   {
    "duration": 7427,
    "start_time": "2022-05-08T15:26:54.702Z"
   },
   {
    "duration": 4,
    "start_time": "2022-05-08T15:27:02.132Z"
   },
   {
    "duration": 10,
    "start_time": "2022-05-08T15:27:02.139Z"
   },
   {
    "duration": 301237,
    "start_time": "2022-05-08T15:27:02.152Z"
   },
   {
    "duration": 0,
    "start_time": "2022-05-08T15:32:03.392Z"
   },
   {
    "duration": 0,
    "start_time": "2022-05-08T15:32:03.394Z"
   },
   {
    "duration": 0,
    "start_time": "2022-05-08T15:32:03.396Z"
   },
   {
    "duration": 0,
    "start_time": "2022-05-08T15:32:03.398Z"
   },
   {
    "duration": 0,
    "start_time": "2022-05-08T15:32:03.400Z"
   },
   {
    "duration": 0,
    "start_time": "2022-05-08T15:32:03.402Z"
   },
   {
    "duration": 0,
    "start_time": "2022-05-08T15:32:03.403Z"
   },
   {
    "duration": 0,
    "start_time": "2022-05-08T15:32:03.425Z"
   },
   {
    "duration": 0,
    "start_time": "2022-05-08T15:32:03.427Z"
   },
   {
    "duration": 0,
    "start_time": "2022-05-08T15:32:03.429Z"
   },
   {
    "duration": 0,
    "start_time": "2022-05-08T15:32:03.430Z"
   },
   {
    "duration": 0,
    "start_time": "2022-05-08T15:32:03.432Z"
   },
   {
    "duration": 4,
    "start_time": "2022-05-08T15:32:06.237Z"
   },
   {
    "duration": 4422,
    "start_time": "2022-05-08T15:32:08.263Z"
   },
   {
    "duration": 69,
    "start_time": "2022-05-08T15:32:20.345Z"
   },
   {
    "duration": 2021,
    "start_time": "2022-05-08T15:32:20.417Z"
   },
   {
    "duration": 32,
    "start_time": "2022-05-08T15:32:22.440Z"
   },
   {
    "duration": 4,
    "start_time": "2022-05-08T15:32:22.475Z"
   },
   {
    "duration": 28,
    "start_time": "2022-05-08T15:32:22.481Z"
   },
   {
    "duration": 28,
    "start_time": "2022-05-08T15:32:22.511Z"
   },
   {
    "duration": 25,
    "start_time": "2022-05-08T15:32:22.541Z"
   },
   {
    "duration": 80,
    "start_time": "2022-05-08T15:32:22.568Z"
   },
   {
    "duration": 97,
    "start_time": "2022-05-08T15:32:22.651Z"
   },
   {
    "duration": 17,
    "start_time": "2022-05-08T15:32:22.751Z"
   },
   {
    "duration": 6,
    "start_time": "2022-05-08T15:32:22.770Z"
   },
   {
    "duration": 37,
    "start_time": "2022-05-08T15:32:22.825Z"
   },
   {
    "duration": 21,
    "start_time": "2022-05-08T15:32:22.864Z"
   },
   {
    "duration": 43,
    "start_time": "2022-05-08T15:32:22.888Z"
   },
   {
    "duration": 30,
    "start_time": "2022-05-08T15:32:22.933Z"
   },
   {
    "duration": 25,
    "start_time": "2022-05-08T15:32:22.965Z"
   },
   {
    "duration": 40,
    "start_time": "2022-05-08T15:32:22.992Z"
   },
   {
    "duration": 12,
    "start_time": "2022-05-08T15:32:23.035Z"
   },
   {
    "duration": 17,
    "start_time": "2022-05-08T15:32:23.050Z"
   },
   {
    "duration": 7185,
    "start_time": "2022-05-08T15:32:23.069Z"
   },
   {
    "duration": 5,
    "start_time": "2022-05-08T15:32:30.257Z"
   },
   {
    "duration": 8,
    "start_time": "2022-05-08T15:32:30.265Z"
   },
   {
    "duration": 365252,
    "start_time": "2022-05-08T15:32:30.275Z"
   },
   {
    "duration": 0,
    "start_time": "2022-05-08T15:38:35.530Z"
   },
   {
    "duration": 0,
    "start_time": "2022-05-08T15:38:35.532Z"
   },
   {
    "duration": 0,
    "start_time": "2022-05-08T15:38:35.534Z"
   },
   {
    "duration": 0,
    "start_time": "2022-05-08T15:38:35.536Z"
   },
   {
    "duration": 0,
    "start_time": "2022-05-08T15:38:35.537Z"
   },
   {
    "duration": 0,
    "start_time": "2022-05-08T15:38:35.539Z"
   },
   {
    "duration": 0,
    "start_time": "2022-05-08T15:38:35.541Z"
   },
   {
    "duration": 0,
    "start_time": "2022-05-08T15:38:35.542Z"
   },
   {
    "duration": 0,
    "start_time": "2022-05-08T15:38:35.544Z"
   },
   {
    "duration": 0,
    "start_time": "2022-05-08T15:38:35.546Z"
   },
   {
    "duration": 0,
    "start_time": "2022-05-08T15:38:35.547Z"
   },
   {
    "duration": 0,
    "start_time": "2022-05-08T15:38:35.549Z"
   },
   {
    "duration": 5,
    "start_time": "2022-05-08T15:38:49.545Z"
   },
   {
    "duration": 105279,
    "start_time": "2022-05-08T15:38:50.715Z"
   },
   {
    "duration": 6,
    "start_time": "2022-05-08T15:40:44.341Z"
   },
   {
    "duration": 19,
    "start_time": "2022-05-08T15:40:45.668Z"
   },
   {
    "duration": 17,
    "start_time": "2022-05-08T15:40:48.394Z"
   },
   {
    "duration": 72,
    "start_time": "2022-05-08T15:40:58.990Z"
   },
   {
    "duration": 1919,
    "start_time": "2022-05-08T15:40:59.065Z"
   },
   {
    "duration": 32,
    "start_time": "2022-05-08T15:41:00.987Z"
   },
   {
    "duration": 4,
    "start_time": "2022-05-08T15:41:01.022Z"
   },
   {
    "duration": 23,
    "start_time": "2022-05-08T15:41:01.029Z"
   },
   {
    "duration": 37,
    "start_time": "2022-05-08T15:41:01.054Z"
   },
   {
    "duration": 33,
    "start_time": "2022-05-08T15:41:01.094Z"
   },
   {
    "duration": 59,
    "start_time": "2022-05-08T15:41:01.129Z"
   },
   {
    "duration": 136,
    "start_time": "2022-05-08T15:41:01.190Z"
   },
   {
    "duration": 17,
    "start_time": "2022-05-08T15:41:01.330Z"
   },
   {
    "duration": 13,
    "start_time": "2022-05-08T15:41:01.349Z"
   },
   {
    "duration": 77,
    "start_time": "2022-05-08T15:41:01.364Z"
   },
   {
    "duration": 21,
    "start_time": "2022-05-08T15:41:01.444Z"
   },
   {
    "duration": 10,
    "start_time": "2022-05-08T15:41:01.468Z"
   },
   {
    "duration": 57,
    "start_time": "2022-05-08T15:41:01.480Z"
   },
   {
    "duration": 33,
    "start_time": "2022-05-08T15:41:01.540Z"
   },
   {
    "duration": 12,
    "start_time": "2022-05-08T15:41:01.575Z"
   },
   {
    "duration": 36,
    "start_time": "2022-05-08T15:41:01.590Z"
   },
   {
    "duration": 11,
    "start_time": "2022-05-08T15:41:01.629Z"
   },
   {
    "duration": 9895,
    "start_time": "2022-05-08T15:41:01.643Z"
   },
   {
    "duration": 3,
    "start_time": "2022-05-08T15:41:11.541Z"
   },
   {
    "duration": 9,
    "start_time": "2022-05-08T15:41:11.547Z"
   },
   {
    "duration": 187,
    "start_time": "2022-05-08T15:41:11.558Z"
   },
   {
    "duration": 0,
    "start_time": "2022-05-08T15:41:11.749Z"
   },
   {
    "duration": 0,
    "start_time": "2022-05-08T15:41:11.751Z"
   },
   {
    "duration": 0,
    "start_time": "2022-05-08T15:41:11.753Z"
   },
   {
    "duration": 0,
    "start_time": "2022-05-08T15:41:11.756Z"
   },
   {
    "duration": 0,
    "start_time": "2022-05-08T15:41:11.758Z"
   },
   {
    "duration": 0,
    "start_time": "2022-05-08T15:41:11.760Z"
   },
   {
    "duration": 0,
    "start_time": "2022-05-08T15:41:11.762Z"
   },
   {
    "duration": 0,
    "start_time": "2022-05-08T15:41:11.764Z"
   },
   {
    "duration": 0,
    "start_time": "2022-05-08T15:41:11.766Z"
   },
   {
    "duration": 0,
    "start_time": "2022-05-08T15:41:11.768Z"
   },
   {
    "duration": 0,
    "start_time": "2022-05-08T15:41:11.770Z"
   },
   {
    "duration": 0,
    "start_time": "2022-05-08T15:41:11.773Z"
   },
   {
    "duration": 4,
    "start_time": "2022-05-08T15:41:39.602Z"
   },
   {
    "duration": 58586,
    "start_time": "2022-05-08T15:41:41.112Z"
   },
   {
    "duration": 4,
    "start_time": "2022-05-08T15:42:46.037Z"
   },
   {
    "duration": 13202,
    "start_time": "2022-05-08T15:42:48.280Z"
   },
   {
    "duration": 4,
    "start_time": "2022-05-08T15:43:09.595Z"
   },
   {
    "duration": 36031,
    "start_time": "2022-05-08T15:43:11.468Z"
   },
   {
    "duration": 70,
    "start_time": "2022-05-08T15:43:53.368Z"
   },
   {
    "duration": 1921,
    "start_time": "2022-05-08T15:43:53.442Z"
   },
   {
    "duration": 32,
    "start_time": "2022-05-08T15:43:55.365Z"
   },
   {
    "duration": 4,
    "start_time": "2022-05-08T15:43:55.400Z"
   },
   {
    "duration": 20,
    "start_time": "2022-05-08T15:43:55.406Z"
   },
   {
    "duration": 21,
    "start_time": "2022-05-08T15:43:55.429Z"
   },
   {
    "duration": 25,
    "start_time": "2022-05-08T15:43:55.452Z"
   },
   {
    "duration": 92,
    "start_time": "2022-05-08T15:43:55.479Z"
   },
   {
    "duration": 86,
    "start_time": "2022-05-08T15:43:55.573Z"
   },
   {
    "duration": 65,
    "start_time": "2022-05-08T15:43:55.663Z"
   },
   {
    "duration": 5,
    "start_time": "2022-05-08T15:43:55.730Z"
   },
   {
    "duration": 38,
    "start_time": "2022-05-08T15:43:55.737Z"
   },
   {
    "duration": 56,
    "start_time": "2022-05-08T15:43:55.777Z"
   },
   {
    "duration": 8,
    "start_time": "2022-05-08T15:43:55.836Z"
   },
   {
    "duration": 23,
    "start_time": "2022-05-08T15:43:55.846Z"
   },
   {
    "duration": 57,
    "start_time": "2022-05-08T15:43:55.872Z"
   },
   {
    "duration": 10,
    "start_time": "2022-05-08T15:43:55.932Z"
   },
   {
    "duration": 5,
    "start_time": "2022-05-08T15:43:55.944Z"
   },
   {
    "duration": 9,
    "start_time": "2022-05-08T15:43:55.951Z"
   },
   {
    "duration": 7815,
    "start_time": "2022-05-08T15:43:55.962Z"
   },
   {
    "duration": 4,
    "start_time": "2022-05-08T15:44:03.779Z"
   },
   {
    "duration": 17,
    "start_time": "2022-05-08T15:44:03.785Z"
   },
   {
    "duration": 44314,
    "start_time": "2022-05-08T15:44:03.805Z"
   },
   {
    "duration": 3,
    "start_time": "2022-05-08T15:44:48.124Z"
   },
   {
    "duration": 197,
    "start_time": "2022-05-08T15:44:48.129Z"
   },
   {
    "duration": 197,
    "start_time": "2022-05-08T15:44:48.329Z"
   },
   {
    "duration": 707,
    "start_time": "2022-05-08T15:44:48.530Z"
   },
   {
    "duration": 289,
    "start_time": "2022-05-08T15:44:49.242Z"
   },
   {
    "duration": 20,
    "start_time": "2022-05-08T15:44:49.626Z"
   },
   {
    "duration": 192,
    "start_time": "2022-05-08T15:44:49.648Z"
   },
   {
    "duration": 109,
    "start_time": "2022-05-08T15:44:49.925Z"
   },
   {
    "duration": 291,
    "start_time": "2022-05-08T15:44:50.037Z"
   },
   {
    "duration": 671,
    "start_time": "2022-05-08T15:44:50.330Z"
   },
   {
    "duration": 43,
    "start_time": "2022-05-08T15:44:51.003Z"
   },
   {
    "duration": 451,
    "start_time": "2022-05-08T15:44:51.048Z"
   },
   {
    "duration": 68,
    "start_time": "2022-05-08T15:45:13.162Z"
   },
   {
    "duration": 1922,
    "start_time": "2022-05-08T15:45:13.233Z"
   },
   {
    "duration": 33,
    "start_time": "2022-05-08T15:45:15.158Z"
   },
   {
    "duration": 5,
    "start_time": "2022-05-08T15:45:15.195Z"
   },
   {
    "duration": 26,
    "start_time": "2022-05-08T15:45:15.203Z"
   },
   {
    "duration": 23,
    "start_time": "2022-05-08T15:45:15.232Z"
   },
   {
    "duration": 25,
    "start_time": "2022-05-08T15:45:15.258Z"
   },
   {
    "duration": 88,
    "start_time": "2022-05-08T15:45:15.285Z"
   },
   {
    "duration": 91,
    "start_time": "2022-05-08T15:45:15.375Z"
   },
   {
    "duration": 71,
    "start_time": "2022-05-08T15:45:15.469Z"
   },
   {
    "duration": 5,
    "start_time": "2022-05-08T15:45:15.542Z"
   },
   {
    "duration": 40,
    "start_time": "2022-05-08T15:45:15.549Z"
   },
   {
    "duration": 21,
    "start_time": "2022-05-08T15:45:15.624Z"
   },
   {
    "duration": 8,
    "start_time": "2022-05-08T15:45:15.647Z"
   },
   {
    "duration": 19,
    "start_time": "2022-05-08T15:45:15.658Z"
   },
   {
    "duration": 62,
    "start_time": "2022-05-08T15:45:15.679Z"
   },
   {
    "duration": 10,
    "start_time": "2022-05-08T15:45:15.743Z"
   },
   {
    "duration": 3,
    "start_time": "2022-05-08T15:45:15.755Z"
   },
   {
    "duration": 7,
    "start_time": "2022-05-08T15:45:15.760Z"
   },
   {
    "duration": 7358,
    "start_time": "2022-05-08T15:45:15.769Z"
   },
   {
    "duration": 5,
    "start_time": "2022-05-08T15:45:23.130Z"
   },
   {
    "duration": 23,
    "start_time": "2022-05-08T15:45:23.138Z"
   },
   {
    "duration": 172472,
    "start_time": "2022-05-08T15:45:23.164Z"
   },
   {
    "duration": 3,
    "start_time": "2022-05-08T15:48:15.638Z"
   },
   {
    "duration": 86,
    "start_time": "2022-05-08T15:48:15.644Z"
   },
   {
    "duration": 388,
    "start_time": "2022-05-08T15:48:15.735Z"
   },
   {
    "duration": 635,
    "start_time": "2022-05-08T15:48:16.126Z"
   },
   {
    "duration": 270,
    "start_time": "2022-05-08T15:48:16.766Z"
   },
   {
    "duration": 21,
    "start_time": "2022-05-08T15:48:17.124Z"
   },
   {
    "duration": 292,
    "start_time": "2022-05-08T15:48:17.147Z"
   },
   {
    "duration": 24,
    "start_time": "2022-05-08T15:48:17.526Z"
   },
   {
    "duration": 282,
    "start_time": "2022-05-08T15:48:17.552Z"
   },
   {
    "duration": 697,
    "start_time": "2022-05-08T15:48:17.837Z"
   },
   {
    "duration": 33,
    "start_time": "2022-05-08T15:48:18.536Z"
   },
   {
    "duration": 353,
    "start_time": "2022-05-08T15:48:18.571Z"
   },
   {
    "duration": 219,
    "start_time": "2022-05-08T15:50:40.418Z"
   },
   {
    "duration": 638,
    "start_time": "2022-05-08T15:50:48.223Z"
   },
   {
    "duration": 247,
    "start_time": "2022-05-08T15:50:54.597Z"
   },
   {
    "duration": 323,
    "start_time": "2022-05-08T15:51:02.207Z"
   },
   {
    "duration": 181,
    "start_time": "2022-05-08T15:51:07.252Z"
   },
   {
    "duration": 682,
    "start_time": "2022-05-08T15:51:13.705Z"
   },
   {
    "duration": 83,
    "start_time": "2022-05-08T15:51:19.618Z"
   },
   {
    "duration": 100,
    "start_time": "2022-05-08T15:54:23.644Z"
   },
   {
    "duration": 105,
    "start_time": "2022-05-08T16:06:21.691Z"
   },
   {
    "duration": 75,
    "start_time": "2022-05-08T16:06:56.609Z"
   },
   {
    "duration": 2646,
    "start_time": "2022-05-08T16:06:56.687Z"
   },
   {
    "duration": 49,
    "start_time": "2022-05-08T16:06:59.337Z"
   },
   {
    "duration": 4,
    "start_time": "2022-05-08T16:06:59.391Z"
   },
   {
    "duration": 9,
    "start_time": "2022-05-08T16:06:59.398Z"
   },
   {
    "duration": 27,
    "start_time": "2022-05-08T16:06:59.426Z"
   },
   {
    "duration": 34,
    "start_time": "2022-05-08T16:06:59.456Z"
   },
   {
    "duration": 95,
    "start_time": "2022-05-08T16:06:59.493Z"
   },
   {
    "duration": 143,
    "start_time": "2022-05-08T16:06:59.590Z"
   },
   {
    "duration": 19,
    "start_time": "2022-05-08T16:06:59.739Z"
   },
   {
    "duration": 4,
    "start_time": "2022-05-08T16:06:59.760Z"
   },
   {
    "duration": 89,
    "start_time": "2022-05-08T16:06:59.766Z"
   },
   {
    "duration": 19,
    "start_time": "2022-05-08T16:06:59.857Z"
   },
   {
    "duration": 7,
    "start_time": "2022-05-08T16:06:59.878Z"
   },
   {
    "duration": 59,
    "start_time": "2022-05-08T16:06:59.888Z"
   },
   {
    "duration": 22,
    "start_time": "2022-05-08T16:06:59.949Z"
   },
   {
    "duration": 9,
    "start_time": "2022-05-08T16:06:59.973Z"
   },
   {
    "duration": 43,
    "start_time": "2022-05-08T16:06:59.984Z"
   },
   {
    "duration": 17,
    "start_time": "2022-05-08T16:07:00.031Z"
   },
   {
    "duration": 7812,
    "start_time": "2022-05-08T16:07:00.050Z"
   },
   {
    "duration": 4,
    "start_time": "2022-05-08T16:07:07.865Z"
   },
   {
    "duration": 201017,
    "start_time": "2022-05-08T16:07:07.871Z"
   },
   {
    "duration": 133,
    "start_time": "2022-05-08T16:10:28.891Z"
   },
   {
    "duration": 311,
    "start_time": "2022-05-08T16:10:29.027Z"
   },
   {
    "duration": 872,
    "start_time": "2022-05-08T16:10:29.425Z"
   },
   {
    "duration": 325,
    "start_time": "2022-05-08T16:10:30.300Z"
   },
   {
    "duration": 103,
    "start_time": "2022-05-08T16:10:30.629Z"
   },
   {
    "duration": 293,
    "start_time": "2022-05-08T16:10:30.739Z"
   },
   {
    "duration": 111,
    "start_time": "2022-05-08T16:10:31.035Z"
   },
   {
    "duration": 195,
    "start_time": "2022-05-08T16:10:31.148Z"
   },
   {
    "duration": 882,
    "start_time": "2022-05-08T16:10:31.427Z"
   },
   {
    "duration": 102,
    "start_time": "2022-05-08T16:10:32.312Z"
   },
   {
    "duration": 385,
    "start_time": "2022-05-08T16:10:32.416Z"
   }
  ],
  "kernelspec": {
   "display_name": "Python 3 (ipykernel)",
   "language": "python",
   "name": "python3"
  },
  "language_info": {
   "codemirror_mode": {
    "name": "ipython",
    "version": 3
   },
   "file_extension": ".py",
   "mimetype": "text/x-python",
   "name": "python",
   "nbconvert_exporter": "python",
   "pygments_lexer": "ipython3",
   "version": "3.9.5"
  },
  "toc": {
   "base_numbering": 1,
   "nav_menu": {},
   "number_sections": true,
   "sideBar": true,
   "skip_h1_title": true,
   "title_cell": "Table of Contents",
   "title_sidebar": "Contents",
   "toc_cell": false,
   "toc_position": {},
   "toc_section_display": true,
   "toc_window_display": false
  }
 },
 "nbformat": 4,
 "nbformat_minor": 5
}
