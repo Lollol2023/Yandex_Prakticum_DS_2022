{
 "cells": [
  {
   "cell_type": "markdown",
   "metadata": {},
   "source": [
    "**Привет!**\n",
    "\n",
    "Меня зовут Артемьева Саша, я буду проверять твой проект. Приятно познакомиться, хоть и заочно:)\n",
    "    \n",
    "Предлагаю общаться на «ты» :) Но если это не удобно - дай знать, и мы перейдем на \"вы\". \n",
    "\n",
    "Моя основная цель — не указать на совершенные тобою ошибки, а поделиться своим опытом и помочь тебе стать аналитиком данных. Ты уже проделал большую работу над проектом, но давай сделаем его еще лучше. Ниже ты найдешь мои комментарии - пожалуйста, не перемещай, не изменяй и не удаляй их. Я буду использовать цветовую разметку:\n",
    "\n",
    "<div class=\"alert alert-danger\">\n",
    "<b>❌ Комментарий ревьюера:</b> Так выделены самые важные замечания. Без их отработки проект не будет принят. </div>\n",
    "\n",
    "<div class=\"alert alert-warning\">\n",
    "<b>⚠️ Комментарий ревьюера:</b> Так выделены небольшие замечания. Одно-два таких замечания в проекте допустимы, но если их будет больше - тебе будет необходимо внести исправления. Это как тестовое задание при приеме на работу: очень много мелких ошибок могут стать причиной отказа кандидату. \n",
    "\n",
    "</div>\n",
    "\n",
    "<div class=\"alert alert-success\">\n",
    "<b>✔️ Комментарий ревьюера:</b> Так я выделяю все остальные комментарии.</div>\n",
    "\n",
    "Давай работать над проектом в диалоге: если ты что-то меняешь в проекте или отвечаешь на мои комменатри — пиши об этом. Мне будет легче отследить изменения, если ты выделишь свои комментарии:\n",
    "<div class=\"alert alert-info\"> <b>Комментарий студента:</b> Например, вот так.</div>\n",
    "\n",
    "Всё это поможет выполнить повторную проверку твоего проекта оперативнее. "
   ]
  },
  {
   "cell_type": "markdown",
   "metadata": {},
   "source": [
    "# Исследование надёжности заёмщиков\n",
    "\n",
    "Заказчик — кредитный отдел банка. Нужно разобраться, влияет ли семейное положение и количество детей клиента на факт погашения кредита в срок. Входные данные от банка — статистика о платёжеспособности клиентов.\n",
    "\n",
    "Результаты исследования будут учтены при построении модели **кредитного скоринга** — специальной системы, которая оценивает способность потенциального заёмщика вернуть кредит банку.\n"
   ]
  },
  {
   "cell_type": "markdown",
   "metadata": {},
   "source": [
    "## Шаг 1. Откройте файл с данными и изучите общую информацию"
   ]
  },
  {
   "cell_type": "code",
   "execution_count": 1,
   "metadata": {},
   "outputs": [
    {
     "name": "stdout",
     "output_type": "stream",
     "text": [
      "<class 'pandas.core.frame.DataFrame'>\n",
      "RangeIndex: 21525 entries, 0 to 21524\n",
      "Data columns (total 12 columns):\n",
      "children            21525 non-null int64\n",
      "days_employed       19351 non-null float64\n",
      "dob_years           21525 non-null int64\n",
      "education           21525 non-null object\n",
      "education_id        21525 non-null int64\n",
      "family_status       21525 non-null object\n",
      "family_status_id    21525 non-null int64\n",
      "gender              21525 non-null object\n",
      "income_type         21525 non-null object\n",
      "debt                21525 non-null int64\n",
      "total_income        19351 non-null float64\n",
      "purpose             21525 non-null object\n",
      "dtypes: float64(2), int64(5), object(5)\n",
      "memory usage: 2.0+ MB\n"
     ]
    },
    {
     "data": {
      "text/plain": [
       "None"
      ]
     },
     "metadata": {},
     "output_type": "display_data"
    },
    {
     "data": {
      "text/html": [
       "<div>\n",
       "<style scoped>\n",
       "    .dataframe tbody tr th:only-of-type {\n",
       "        vertical-align: middle;\n",
       "    }\n",
       "\n",
       "    .dataframe tbody tr th {\n",
       "        vertical-align: top;\n",
       "    }\n",
       "\n",
       "    .dataframe thead th {\n",
       "        text-align: right;\n",
       "    }\n",
       "</style>\n",
       "<table border=\"1\" class=\"dataframe\">\n",
       "  <thead>\n",
       "    <tr style=\"text-align: right;\">\n",
       "      <th></th>\n",
       "      <th>children</th>\n",
       "      <th>days_employed</th>\n",
       "      <th>dob_years</th>\n",
       "      <th>education</th>\n",
       "      <th>education_id</th>\n",
       "      <th>family_status</th>\n",
       "      <th>family_status_id</th>\n",
       "      <th>gender</th>\n",
       "      <th>income_type</th>\n",
       "      <th>debt</th>\n",
       "      <th>total_income</th>\n",
       "      <th>purpose</th>\n",
       "    </tr>\n",
       "  </thead>\n",
       "  <tbody>\n",
       "    <tr>\n",
       "      <td>0</td>\n",
       "      <td>1</td>\n",
       "      <td>-8437.673028</td>\n",
       "      <td>42</td>\n",
       "      <td>высшее</td>\n",
       "      <td>0</td>\n",
       "      <td>женат / замужем</td>\n",
       "      <td>0</td>\n",
       "      <td>F</td>\n",
       "      <td>сотрудник</td>\n",
       "      <td>0</td>\n",
       "      <td>253875.639453</td>\n",
       "      <td>покупка жилья</td>\n",
       "    </tr>\n",
       "    <tr>\n",
       "      <td>1</td>\n",
       "      <td>1</td>\n",
       "      <td>-4024.803754</td>\n",
       "      <td>36</td>\n",
       "      <td>среднее</td>\n",
       "      <td>1</td>\n",
       "      <td>женат / замужем</td>\n",
       "      <td>0</td>\n",
       "      <td>F</td>\n",
       "      <td>сотрудник</td>\n",
       "      <td>0</td>\n",
       "      <td>112080.014102</td>\n",
       "      <td>приобретение автомобиля</td>\n",
       "    </tr>\n",
       "    <tr>\n",
       "      <td>2</td>\n",
       "      <td>0</td>\n",
       "      <td>-5623.422610</td>\n",
       "      <td>33</td>\n",
       "      <td>Среднее</td>\n",
       "      <td>1</td>\n",
       "      <td>женат / замужем</td>\n",
       "      <td>0</td>\n",
       "      <td>M</td>\n",
       "      <td>сотрудник</td>\n",
       "      <td>0</td>\n",
       "      <td>145885.952297</td>\n",
       "      <td>покупка жилья</td>\n",
       "    </tr>\n",
       "    <tr>\n",
       "      <td>3</td>\n",
       "      <td>3</td>\n",
       "      <td>-4124.747207</td>\n",
       "      <td>32</td>\n",
       "      <td>среднее</td>\n",
       "      <td>1</td>\n",
       "      <td>женат / замужем</td>\n",
       "      <td>0</td>\n",
       "      <td>M</td>\n",
       "      <td>сотрудник</td>\n",
       "      <td>0</td>\n",
       "      <td>267628.550329</td>\n",
       "      <td>дополнительное образование</td>\n",
       "    </tr>\n",
       "    <tr>\n",
       "      <td>4</td>\n",
       "      <td>0</td>\n",
       "      <td>340266.072047</td>\n",
       "      <td>53</td>\n",
       "      <td>среднее</td>\n",
       "      <td>1</td>\n",
       "      <td>гражданский брак</td>\n",
       "      <td>1</td>\n",
       "      <td>F</td>\n",
       "      <td>пенсионер</td>\n",
       "      <td>0</td>\n",
       "      <td>158616.077870</td>\n",
       "      <td>сыграть свадьбу</td>\n",
       "    </tr>\n",
       "    <tr>\n",
       "      <td>5</td>\n",
       "      <td>0</td>\n",
       "      <td>-926.185831</td>\n",
       "      <td>27</td>\n",
       "      <td>высшее</td>\n",
       "      <td>0</td>\n",
       "      <td>гражданский брак</td>\n",
       "      <td>1</td>\n",
       "      <td>M</td>\n",
       "      <td>компаньон</td>\n",
       "      <td>0</td>\n",
       "      <td>255763.565419</td>\n",
       "      <td>покупка жилья</td>\n",
       "    </tr>\n",
       "    <tr>\n",
       "      <td>6</td>\n",
       "      <td>0</td>\n",
       "      <td>-2879.202052</td>\n",
       "      <td>43</td>\n",
       "      <td>высшее</td>\n",
       "      <td>0</td>\n",
       "      <td>женат / замужем</td>\n",
       "      <td>0</td>\n",
       "      <td>F</td>\n",
       "      <td>компаньон</td>\n",
       "      <td>0</td>\n",
       "      <td>240525.971920</td>\n",
       "      <td>операции с жильем</td>\n",
       "    </tr>\n",
       "    <tr>\n",
       "      <td>7</td>\n",
       "      <td>0</td>\n",
       "      <td>-152.779569</td>\n",
       "      <td>50</td>\n",
       "      <td>СРЕДНЕЕ</td>\n",
       "      <td>1</td>\n",
       "      <td>женат / замужем</td>\n",
       "      <td>0</td>\n",
       "      <td>M</td>\n",
       "      <td>сотрудник</td>\n",
       "      <td>0</td>\n",
       "      <td>135823.934197</td>\n",
       "      <td>образование</td>\n",
       "    </tr>\n",
       "    <tr>\n",
       "      <td>8</td>\n",
       "      <td>2</td>\n",
       "      <td>-6929.865299</td>\n",
       "      <td>35</td>\n",
       "      <td>ВЫСШЕЕ</td>\n",
       "      <td>0</td>\n",
       "      <td>гражданский брак</td>\n",
       "      <td>1</td>\n",
       "      <td>F</td>\n",
       "      <td>сотрудник</td>\n",
       "      <td>0</td>\n",
       "      <td>95856.832424</td>\n",
       "      <td>на проведение свадьбы</td>\n",
       "    </tr>\n",
       "    <tr>\n",
       "      <td>9</td>\n",
       "      <td>0</td>\n",
       "      <td>-2188.756445</td>\n",
       "      <td>41</td>\n",
       "      <td>среднее</td>\n",
       "      <td>1</td>\n",
       "      <td>женат / замужем</td>\n",
       "      <td>0</td>\n",
       "      <td>M</td>\n",
       "      <td>сотрудник</td>\n",
       "      <td>0</td>\n",
       "      <td>144425.938277</td>\n",
       "      <td>покупка жилья для семьи</td>\n",
       "    </tr>\n",
       "  </tbody>\n",
       "</table>\n",
       "</div>"
      ],
      "text/plain": [
       "   children  days_employed  dob_years education  education_id  \\\n",
       "0         1   -8437.673028         42    высшее             0   \n",
       "1         1   -4024.803754         36   среднее             1   \n",
       "2         0   -5623.422610         33   Среднее             1   \n",
       "3         3   -4124.747207         32   среднее             1   \n",
       "4         0  340266.072047         53   среднее             1   \n",
       "5         0    -926.185831         27    высшее             0   \n",
       "6         0   -2879.202052         43    высшее             0   \n",
       "7         0    -152.779569         50   СРЕДНЕЕ             1   \n",
       "8         2   -6929.865299         35    ВЫСШЕЕ             0   \n",
       "9         0   -2188.756445         41   среднее             1   \n",
       "\n",
       "      family_status  family_status_id gender income_type  debt   total_income  \\\n",
       "0   женат / замужем                 0      F   сотрудник     0  253875.639453   \n",
       "1   женат / замужем                 0      F   сотрудник     0  112080.014102   \n",
       "2   женат / замужем                 0      M   сотрудник     0  145885.952297   \n",
       "3   женат / замужем                 0      M   сотрудник     0  267628.550329   \n",
       "4  гражданский брак                 1      F   пенсионер     0  158616.077870   \n",
       "5  гражданский брак                 1      M   компаньон     0  255763.565419   \n",
       "6   женат / замужем                 0      F   компаньон     0  240525.971920   \n",
       "7   женат / замужем                 0      M   сотрудник     0  135823.934197   \n",
       "8  гражданский брак                 1      F   сотрудник     0   95856.832424   \n",
       "9   женат / замужем                 0      M   сотрудник     0  144425.938277   \n",
       "\n",
       "                      purpose  \n",
       "0               покупка жилья  \n",
       "1     приобретение автомобиля  \n",
       "2               покупка жилья  \n",
       "3  дополнительное образование  \n",
       "4             сыграть свадьбу  \n",
       "5               покупка жилья  \n",
       "6           операции с жильем  \n",
       "7                 образование  \n",
       "8       на проведение свадьбы  \n",
       "9     покупка жилья для семьи  "
      ]
     },
     "metadata": {},
     "output_type": "display_data"
    },
    {
     "data": {
      "text/plain": [
       "array([-1,  0,  1,  2,  3,  4,  5, 20])"
      ]
     },
     "metadata": {},
     "output_type": "display_data"
    },
    {
     "data": {
      "text/plain": [
       "array([-18388.94990057, -17615.56326563, -16593.47281726, ...,\n",
       "       401715.81174889, 401755.40047533,             nan])"
      ]
     },
     "metadata": {},
     "output_type": "display_data"
    },
    {
     "data": {
      "text/plain": [
       "array([ 0, 19, 20, 21, 22, 23, 24, 25, 26, 27, 28, 29, 30, 31, 32, 33, 34,\n",
       "       35, 36, 37, 38, 39, 40, 41, 42, 43, 44, 45, 46, 47, 48, 49, 50, 51,\n",
       "       52, 53, 54, 55, 56, 57, 58, 59, 60, 61, 62, 63, 64, 65, 66, 67, 68,\n",
       "       69, 70, 71, 72, 73, 74, 75])"
      ]
     },
     "metadata": {},
     "output_type": "display_data"
    },
    {
     "data": {
      "text/plain": [
       "array(['ВЫСШЕЕ', 'Высшее', 'НАЧАЛЬНОЕ', 'НЕОКОНЧЕННОЕ ВЫСШЕЕ',\n",
       "       'Начальное', 'Неоконченное высшее', 'СРЕДНЕЕ', 'Среднее',\n",
       "       'УЧЕНАЯ СТЕПЕНЬ', 'Ученая степень', 'высшее', 'начальное',\n",
       "       'неоконченное высшее', 'среднее', 'ученая степень'], dtype=object)"
      ]
     },
     "metadata": {},
     "output_type": "display_data"
    },
    {
     "data": {
      "text/plain": [
       "array([0, 1, 2, 3, 4])"
      ]
     },
     "metadata": {},
     "output_type": "display_data"
    },
    {
     "data": {
      "text/plain": [
       "array(['Не женат / не замужем', 'в разводе', 'вдовец / вдова',\n",
       "       'гражданский брак', 'женат / замужем'], dtype=object)"
      ]
     },
     "metadata": {},
     "output_type": "display_data"
    },
    {
     "data": {
      "text/plain": [
       "array([0, 1, 2, 3, 4])"
      ]
     },
     "metadata": {},
     "output_type": "display_data"
    },
    {
     "data": {
      "text/plain": [
       "array(['F', 'M', 'XNA'], dtype=object)"
      ]
     },
     "metadata": {},
     "output_type": "display_data"
    },
    {
     "data": {
      "text/plain": [
       "array(['безработный', 'в декрете', 'госслужащий', 'компаньон',\n",
       "       'пенсионер', 'предприниматель', 'сотрудник', 'студент'],\n",
       "      dtype=object)"
      ]
     },
     "metadata": {},
     "output_type": "display_data"
    },
    {
     "data": {
      "text/plain": [
       "array([0, 1])"
      ]
     },
     "metadata": {},
     "output_type": "display_data"
    },
    {
     "data": {
      "text/plain": [
       "array([  20667.26379327,   21205.28056622,   21367.64835649, ...,\n",
       "       2200852.2102589 , 2265604.02872274,              nan])"
      ]
     },
     "metadata": {},
     "output_type": "display_data"
    },
    {
     "data": {
      "text/plain": [
       "array(['автомобили', 'автомобиль', 'высшее образование',\n",
       "       'дополнительное образование', 'жилье',\n",
       "       'заняться высшим образованием', 'заняться образованием',\n",
       "       'на покупку автомобиля', 'на покупку подержанного автомобиля',\n",
       "       'на покупку своего автомобиля', 'на проведение свадьбы',\n",
       "       'недвижимость', 'образование', 'операции с жильем',\n",
       "       'операции с коммерческой недвижимостью',\n",
       "       'операции с недвижимостью', 'операции со своей недвижимостью',\n",
       "       'покупка жилой недвижимости', 'покупка жилья',\n",
       "       'покупка жилья для сдачи', 'покупка жилья для семьи',\n",
       "       'покупка коммерческой недвижимости', 'покупка недвижимости',\n",
       "       'покупка своего жилья', 'получение высшего образования',\n",
       "       'получение дополнительного образования', 'получение образования',\n",
       "       'приобретение автомобиля', 'профильное образование',\n",
       "       'ремонт жилью', 'свадьба', 'свой автомобиль',\n",
       "       'сделка с автомобилем', 'сделка с подержанным автомобилем',\n",
       "       'строительство жилой недвижимости', 'строительство недвижимости',\n",
       "       'строительство собственной недвижимости', 'сыграть свадьбу'],\n",
       "      dtype=object)"
      ]
     },
     "metadata": {},
     "output_type": "display_data"
    }
   ],
   "source": [
    "import pandas as pd\n",
    "data = pd.read_csv('/datasets/data.csv')\n",
    "\n",
    "#запросим общую информацию о датасете и посмотрим как представлены данные\n",
    "display(data.info()) \n",
    "display(data.head(10))\n",
    "\n",
    "#посмотрим, какие уникальные значения встречаются в каждом столбце\n",
    "display(data['children'].sort_values().unique())\n",
    "display(data['days_employed'].sort_values().unique())\n",
    "display(data['dob_years'].sort_values().unique())\n",
    "display(data['education'].sort_values().unique())\n",
    "display(data['education_id'].sort_values().unique())\n",
    "display(data['family_status'].sort_values().unique())\n",
    "display(data['family_status_id'].sort_values().unique())\n",
    "display(data['gender'].sort_values().unique())\n",
    "display(data['income_type'].sort_values().unique())\n",
    "display(data['debt'].sort_values().unique())\n",
    "display(data['total_income'].sort_values().unique())\n",
    "display(data['purpose'].sort_values().unique())"
   ]
  },
  {
   "cell_type": "markdown",
   "metadata": {},
   "source": [
    "**Вывод**"
   ]
  },
  {
   "cell_type": "markdown",
   "metadata": {},
   "source": [
    "Данные в датасете содержат 12 столбцов и 21525 строк. 7 столбцов содержат количественные переменные, 5 столбцов - категориаальные переменные. В столбцах 'total_income', 'days_employed', 'gender' встречаются пропуски в данных.\n",
    "\n",
    "В столбце 'gender' встречается значение 'XNA', которое, вероятно, связано с тем, что заемщик при заполнении анкеты не указал свой пол.\n",
    "\n",
    "Также в столбце 'days_employed' встречаются отрицательные значения. И сами значения, если это действительно, дни - нереальны (стаж более чем в 100 лет и т.д.). Ошибка в форматировании данных? Стаж в днях указан в Unix time?\n",
    "\n",
    "В столбце 'children' встречаются отрицательные значения (количество детей =-1).\n",
    "В столбце 'dob_years' встречаются нули (возраст равен 0). Возможно, потому, что заемщик не указал возраст при заполнении анкеты.\n",
    "\n",
    "Значения в столбцах 'purpose', 'education' дублируются (текстовые переменные)."
   ]
  },
  {
   "cell_type": "markdown",
   "metadata": {},
   "source": [
    "<div class=\"alert alert-success\">\n",
    "<b>✔️ Комментарий ревьюера:</b> Увидели, с чем предстоит иметь дело"
   ]
  },
  {
   "cell_type": "markdown",
   "metadata": {},
   "source": [
    "## Шаг 2. Предобработка данных"
   ]
  },
  {
   "cell_type": "markdown",
   "metadata": {},
   "source": [
    "### Обработка пропусков"
   ]
  },
  {
   "cell_type": "code",
   "execution_count": 2,
   "metadata": {},
   "outputs": [
    {
     "data": {
      "text/html": [
       "<div>\n",
       "<style scoped>\n",
       "    .dataframe tbody tr th:only-of-type {\n",
       "        vertical-align: middle;\n",
       "    }\n",
       "\n",
       "    .dataframe tbody tr th {\n",
       "        vertical-align: top;\n",
       "    }\n",
       "\n",
       "    .dataframe thead th {\n",
       "        text-align: right;\n",
       "    }\n",
       "</style>\n",
       "<table border=\"1\" class=\"dataframe\">\n",
       "  <thead>\n",
       "    <tr style=\"text-align: right;\">\n",
       "      <th></th>\n",
       "      <th>children</th>\n",
       "      <th>days_employed</th>\n",
       "      <th>dob_years</th>\n",
       "      <th>education</th>\n",
       "      <th>education_id</th>\n",
       "      <th>family_status</th>\n",
       "      <th>family_status_id</th>\n",
       "      <th>gender</th>\n",
       "      <th>income_type</th>\n",
       "      <th>debt</th>\n",
       "      <th>total_income</th>\n",
       "      <th>purpose</th>\n",
       "    </tr>\n",
       "  </thead>\n",
       "  <tbody>\n",
       "    <tr>\n",
       "      <td>12</td>\n",
       "      <td>0</td>\n",
       "      <td>NaN</td>\n",
       "      <td>65</td>\n",
       "      <td>среднее</td>\n",
       "      <td>1</td>\n",
       "      <td>гражданский брак</td>\n",
       "      <td>1</td>\n",
       "      <td>M</td>\n",
       "      <td>пенсионер</td>\n",
       "      <td>0</td>\n",
       "      <td>NaN</td>\n",
       "      <td>сыграть свадьбу</td>\n",
       "    </tr>\n",
       "    <tr>\n",
       "      <td>26</td>\n",
       "      <td>0</td>\n",
       "      <td>NaN</td>\n",
       "      <td>41</td>\n",
       "      <td>среднее</td>\n",
       "      <td>1</td>\n",
       "      <td>женат / замужем</td>\n",
       "      <td>0</td>\n",
       "      <td>M</td>\n",
       "      <td>госслужащий</td>\n",
       "      <td>0</td>\n",
       "      <td>NaN</td>\n",
       "      <td>образование</td>\n",
       "    </tr>\n",
       "    <tr>\n",
       "      <td>29</td>\n",
       "      <td>0</td>\n",
       "      <td>NaN</td>\n",
       "      <td>63</td>\n",
       "      <td>среднее</td>\n",
       "      <td>1</td>\n",
       "      <td>Не женат / не замужем</td>\n",
       "      <td>4</td>\n",
       "      <td>F</td>\n",
       "      <td>пенсионер</td>\n",
       "      <td>0</td>\n",
       "      <td>NaN</td>\n",
       "      <td>строительство жилой недвижимости</td>\n",
       "    </tr>\n",
       "    <tr>\n",
       "      <td>41</td>\n",
       "      <td>0</td>\n",
       "      <td>NaN</td>\n",
       "      <td>50</td>\n",
       "      <td>среднее</td>\n",
       "      <td>1</td>\n",
       "      <td>женат / замужем</td>\n",
       "      <td>0</td>\n",
       "      <td>F</td>\n",
       "      <td>госслужащий</td>\n",
       "      <td>0</td>\n",
       "      <td>NaN</td>\n",
       "      <td>сделка с подержанным автомобилем</td>\n",
       "    </tr>\n",
       "    <tr>\n",
       "      <td>55</td>\n",
       "      <td>0</td>\n",
       "      <td>NaN</td>\n",
       "      <td>54</td>\n",
       "      <td>среднее</td>\n",
       "      <td>1</td>\n",
       "      <td>гражданский брак</td>\n",
       "      <td>1</td>\n",
       "      <td>F</td>\n",
       "      <td>пенсионер</td>\n",
       "      <td>1</td>\n",
       "      <td>NaN</td>\n",
       "      <td>сыграть свадьбу</td>\n",
       "    </tr>\n",
       "    <tr>\n",
       "      <td>...</td>\n",
       "      <td>...</td>\n",
       "      <td>...</td>\n",
       "      <td>...</td>\n",
       "      <td>...</td>\n",
       "      <td>...</td>\n",
       "      <td>...</td>\n",
       "      <td>...</td>\n",
       "      <td>...</td>\n",
       "      <td>...</td>\n",
       "      <td>...</td>\n",
       "      <td>...</td>\n",
       "      <td>...</td>\n",
       "    </tr>\n",
       "    <tr>\n",
       "      <td>21489</td>\n",
       "      <td>2</td>\n",
       "      <td>NaN</td>\n",
       "      <td>47</td>\n",
       "      <td>Среднее</td>\n",
       "      <td>1</td>\n",
       "      <td>женат / замужем</td>\n",
       "      <td>0</td>\n",
       "      <td>M</td>\n",
       "      <td>компаньон</td>\n",
       "      <td>0</td>\n",
       "      <td>NaN</td>\n",
       "      <td>сделка с автомобилем</td>\n",
       "    </tr>\n",
       "    <tr>\n",
       "      <td>21495</td>\n",
       "      <td>1</td>\n",
       "      <td>NaN</td>\n",
       "      <td>50</td>\n",
       "      <td>среднее</td>\n",
       "      <td>1</td>\n",
       "      <td>гражданский брак</td>\n",
       "      <td>1</td>\n",
       "      <td>F</td>\n",
       "      <td>сотрудник</td>\n",
       "      <td>0</td>\n",
       "      <td>NaN</td>\n",
       "      <td>свадьба</td>\n",
       "    </tr>\n",
       "    <tr>\n",
       "      <td>21497</td>\n",
       "      <td>0</td>\n",
       "      <td>NaN</td>\n",
       "      <td>48</td>\n",
       "      <td>ВЫСШЕЕ</td>\n",
       "      <td>0</td>\n",
       "      <td>женат / замужем</td>\n",
       "      <td>0</td>\n",
       "      <td>F</td>\n",
       "      <td>компаньон</td>\n",
       "      <td>0</td>\n",
       "      <td>NaN</td>\n",
       "      <td>строительство недвижимости</td>\n",
       "    </tr>\n",
       "    <tr>\n",
       "      <td>21502</td>\n",
       "      <td>1</td>\n",
       "      <td>NaN</td>\n",
       "      <td>42</td>\n",
       "      <td>среднее</td>\n",
       "      <td>1</td>\n",
       "      <td>женат / замужем</td>\n",
       "      <td>0</td>\n",
       "      <td>F</td>\n",
       "      <td>сотрудник</td>\n",
       "      <td>0</td>\n",
       "      <td>NaN</td>\n",
       "      <td>строительство жилой недвижимости</td>\n",
       "    </tr>\n",
       "    <tr>\n",
       "      <td>21510</td>\n",
       "      <td>2</td>\n",
       "      <td>NaN</td>\n",
       "      <td>28</td>\n",
       "      <td>среднее</td>\n",
       "      <td>1</td>\n",
       "      <td>женат / замужем</td>\n",
       "      <td>0</td>\n",
       "      <td>F</td>\n",
       "      <td>сотрудник</td>\n",
       "      <td>0</td>\n",
       "      <td>NaN</td>\n",
       "      <td>приобретение автомобиля</td>\n",
       "    </tr>\n",
       "  </tbody>\n",
       "</table>\n",
       "<p>2174 rows × 12 columns</p>\n",
       "</div>"
      ],
      "text/plain": [
       "       children  days_employed  dob_years education  education_id  \\\n",
       "12            0            NaN         65   среднее             1   \n",
       "26            0            NaN         41   среднее             1   \n",
       "29            0            NaN         63   среднее             1   \n",
       "41            0            NaN         50   среднее             1   \n",
       "55            0            NaN         54   среднее             1   \n",
       "...         ...            ...        ...       ...           ...   \n",
       "21489         2            NaN         47   Среднее             1   \n",
       "21495         1            NaN         50   среднее             1   \n",
       "21497         0            NaN         48    ВЫСШЕЕ             0   \n",
       "21502         1            NaN         42   среднее             1   \n",
       "21510         2            NaN         28   среднее             1   \n",
       "\n",
       "               family_status  family_status_id gender  income_type  debt  \\\n",
       "12          гражданский брак                 1      M    пенсионер     0   \n",
       "26           женат / замужем                 0      M  госслужащий     0   \n",
       "29     Не женат / не замужем                 4      F    пенсионер     0   \n",
       "41           женат / замужем                 0      F  госслужащий     0   \n",
       "55          гражданский брак                 1      F    пенсионер     1   \n",
       "...                      ...               ...    ...          ...   ...   \n",
       "21489        женат / замужем                 0      M    компаньон     0   \n",
       "21495       гражданский брак                 1      F    сотрудник     0   \n",
       "21497        женат / замужем                 0      F    компаньон     0   \n",
       "21502        женат / замужем                 0      F    сотрудник     0   \n",
       "21510        женат / замужем                 0      F    сотрудник     0   \n",
       "\n",
       "       total_income                           purpose  \n",
       "12              NaN                   сыграть свадьбу  \n",
       "26              NaN                       образование  \n",
       "29              NaN  строительство жилой недвижимости  \n",
       "41              NaN  сделка с подержанным автомобилем  \n",
       "55              NaN                   сыграть свадьбу  \n",
       "...             ...                               ...  \n",
       "21489           NaN              сделка с автомобилем  \n",
       "21495           NaN                           свадьба  \n",
       "21497           NaN        строительство недвижимости  \n",
       "21502           NaN  строительство жилой недвижимости  \n",
       "21510           NaN           приобретение автомобиля  \n",
       "\n",
       "[2174 rows x 12 columns]"
      ]
     },
     "metadata": {},
     "output_type": "display_data"
    },
    {
     "data": {
      "text/plain": [
       "167422.30220817294"
      ]
     },
     "metadata": {},
     "output_type": "display_data"
    },
    {
     "data": {
      "text/plain": [
       "145017.93753253992"
      ]
     },
     "metadata": {},
     "output_type": "display_data"
    },
    {
     "name": "stdout",
     "output_type": "stream",
     "text": [
      "<class 'pandas.core.frame.DataFrame'>\n",
      "RangeIndex: 21525 entries, 0 to 21524\n",
      "Data columns (total 12 columns):\n",
      "children            21525 non-null int64\n",
      "days_employed       21525 non-null float64\n",
      "dob_years           21525 non-null int64\n",
      "education           21525 non-null object\n",
      "education_id        21525 non-null int64\n",
      "family_status       21525 non-null object\n",
      "family_status_id    21525 non-null int64\n",
      "gender              21525 non-null object\n",
      "income_type         21525 non-null object\n",
      "debt                21525 non-null int64\n",
      "total_income        21525 non-null float64\n",
      "purpose             21525 non-null object\n",
      "dtypes: float64(2), int64(5), object(5)\n",
      "memory usage: 2.0+ MB\n"
     ]
    },
    {
     "data": {
      "text/plain": [
       "None"
      ]
     },
     "metadata": {},
     "output_type": "display_data"
    }
   ],
   "source": [
    "#проверим, как выглядят строки с пропусками в данных:\n",
    "isna = pd.isna(data['total_income'])\n",
    "display(data[isna])\n",
    "\n",
    "#сравним среднее и медианное значения в столбце с уровнем дохода ('total_income')\n",
    "display(data['total_income'].mean())\n",
    "display(data['total_income'].median())\n",
    "\n",
    "#среднее и медианное значение отличааются не столь существенно\n",
    "#можно использовать среднее значение при заполнении пропусков в данных\n",
    "\n",
    "#заполним пропуски в столбце 'total_income'\n",
    "data['total_income'].fillna(value = data['total_income'].mean(), inplace = True)\n",
    "\n",
    "#заменим пропуски в столбце о трудовом стаже на ноль (так как в столбце встречаются отрицатльные значения \n",
    "#и мы также не можем достоверно утверждать, по какому критерию нам надо изменить данные, чтобы получить верные значения)\n",
    "data['days_employed'].fillna(value = 0, inplace = True)\n",
    "\n",
    "#проверим, избавились ли мы от пропусков в данных\n",
    "display(data.info())\n"
   ]
  },
  {
   "cell_type": "markdown",
   "metadata": {},
   "source": [
    "**Вывод**\n",
    "Отмечено, что строки с пропусками в столбце 'total_income', как правило, также содержат пропуски в столбце 'days_employed'. Возможно, это связано с тем, что самим заемщиком при заполнении заявки не предоставлены сведения о трудовом стаже и доходе.\n",
    "\n",
    "\n",
    "\n",
    "\n"
   ]
  },
  {
   "cell_type": "markdown",
   "metadata": {},
   "source": [
    "<div class=\"alert alert-success\">\n",
    "<b>✔️ Комментарий ревьюера:</b> Можем сообщить о проблеме заказчику и по возможности запросить метаданные для дальнейшего анализа"
   ]
  },
  {
   "cell_type": "markdown",
   "metadata": {},
   "source": [
    "### Замена типа данных"
   ]
  },
  {
   "cell_type": "code",
   "execution_count": 3,
   "metadata": {},
   "outputs": [],
   "source": [
    "#заменим формат данных в столбцах 'days_employed' и 'total_income': \n",
    "#вместо вещественных переменных будем использовать целочисленные.\n",
    "#Метод .astype используем, т.к. при использовании .to_numeric получаем как раз вещественную переменную\n",
    "data['days_employed'] = data['days_employed'].astype('int')\n",
    "#заменим отрицательные значения в столбце на их абсолютные значения методом .abs()\n",
    "data['days_employed'] = data['days_employed'].abs() \n",
    "data['total_income'] = data['total_income'].astype('int')\n",
    "data['children'] = data['children'].abs()#заменим отрицательные значения в столбце на их абсолютные значения\n",
    "\n",
    "\n"
   ]
  },
  {
   "cell_type": "markdown",
   "metadata": {},
   "source": [
    "**Вывод**"
   ]
  },
  {
   "cell_type": "markdown",
   "metadata": {},
   "source": [
    "Мы заменили формат значений на целочисленный в 2 столбцах: с трудовым стажем и с уровнем дохода, применив метод .astype\n",
    "Чтобы обработать отрицательные значения из столбца, которые, вероятно, являются ошибочными, применили метод .abs(), заменяющий целочисленную переменную на ее модуль (абсолютное значение)."
   ]
  },
  {
   "cell_type": "markdown",
   "metadata": {},
   "source": [
    "<div class=\"alert alert-warning\">\n",
    "<b>⚠️ Комментарий ревьюера:</b> Можно было бы также обработать странное значение пола и кол-во детей в 20 человек. Это явные аномалии. В целом, я бы советовала сразу высчитывать долю аномальных значений и если она не превышает 5%, не тратить время на их обработку, а смело от них избавляться"
   ]
  },
  {
   "cell_type": "markdown",
   "metadata": {},
   "source": [
    "### Обработка дубликатов"
   ]
  },
  {
   "cell_type": "code",
   "execution_count": 4,
   "metadata": {},
   "outputs": [
    {
     "data": {
      "text/plain": [
       "array(['высшее', 'начальное', 'неоконченное высшее', 'среднее',\n",
       "       'ученая степень'], dtype=object)"
      ]
     },
     "metadata": {},
     "output_type": "display_data"
    },
    {
     "data": {
      "text/plain": [
       "71"
      ]
     },
     "metadata": {},
     "output_type": "display_data"
    },
    {
     "name": "stdout",
     "output_type": "stream",
     "text": [
      "<class 'pandas.core.frame.DataFrame'>\n",
      "Int64Index: 21454 entries, 0 to 21524\n",
      "Data columns (total 12 columns):\n",
      "children            21454 non-null int64\n",
      "days_employed       21454 non-null int64\n",
      "dob_years           21454 non-null int64\n",
      "education           21454 non-null object\n",
      "education_id        21454 non-null int64\n",
      "family_status       21454 non-null object\n",
      "family_status_id    21454 non-null int64\n",
      "gender              21454 non-null object\n",
      "income_type         21454 non-null object\n",
      "debt                21454 non-null int64\n",
      "total_income        21454 non-null int64\n",
      "purpose             21454 non-null object\n",
      "dtypes: int64(7), object(5)\n",
      "memory usage: 2.1+ MB\n"
     ]
    },
    {
     "data": {
      "text/plain": [
       "None"
      ]
     },
     "metadata": {},
     "output_type": "display_data"
    }
   ],
   "source": [
    "#приведем значения в датафрейме к нижнему регистру  и проверим результат\n",
    "data['education'] = data['education'].str.lower()\n",
    "display(data['education'].sort_values().unique()) \n",
    "\n",
    "#подсчитаем число дублей в датафрейме\n",
    "display(data.duplicated().sum())\n",
    "\n",
    "#удаляем дубликаты\n",
    "data = data.drop_duplicates()\n",
    "display(data.info())"
   ]
  },
  {
   "cell_type": "markdown",
   "metadata": {},
   "source": [
    "**Вывод**"
   ]
  },
  {
   "cell_type": "markdown",
   "metadata": {},
   "source": [
    "После сведения текстовых значений в столбце с образованием, мы обнаружили 71 дубль в данных (с помощью метода duplicated().sum()) и отметили, что все дубликаты ранее содержали пропуски в столбцах с трудовым стажем и уровнем дохода. При работе с пропусками мы заменили их на среднее значение (доход) и на 0 (стаж). Возможно, заполнение пропусков и привело к появлению дубликатов.\n"
   ]
  },
  {
   "cell_type": "markdown",
   "metadata": {},
   "source": [
    "<div class=\"alert alert-success\">\n",
    "<b>✔️ Комментарий ревьюера:</b> Удалять дубли можно только после полной обработки данных. Верно! </div>"
   ]
  },
  {
   "cell_type": "markdown",
   "metadata": {},
   "source": [
    "### Лемматизация"
   ]
  },
  {
   "cell_type": "code",
   "execution_count": 5,
   "metadata": {},
   "outputs": [
    {
     "data": {
      "text/html": [
       "<div>\n",
       "<style scoped>\n",
       "    .dataframe tbody tr th:only-of-type {\n",
       "        vertical-align: middle;\n",
       "    }\n",
       "\n",
       "    .dataframe tbody tr th {\n",
       "        vertical-align: top;\n",
       "    }\n",
       "\n",
       "    .dataframe thead th {\n",
       "        text-align: right;\n",
       "    }\n",
       "</style>\n",
       "<table border=\"1\" class=\"dataframe\">\n",
       "  <thead>\n",
       "    <tr style=\"text-align: right;\">\n",
       "      <th></th>\n",
       "      <th>children</th>\n",
       "      <th>days_employed</th>\n",
       "      <th>dob_years</th>\n",
       "      <th>education</th>\n",
       "      <th>education_id</th>\n",
       "      <th>family_status</th>\n",
       "      <th>family_status_id</th>\n",
       "      <th>gender</th>\n",
       "      <th>income_type</th>\n",
       "      <th>debt</th>\n",
       "      <th>total_income</th>\n",
       "      <th>purpose</th>\n",
       "      <th>lemmas</th>\n",
       "    </tr>\n",
       "  </thead>\n",
       "  <tbody>\n",
       "    <tr>\n",
       "      <td>0</td>\n",
       "      <td>1</td>\n",
       "      <td>8437</td>\n",
       "      <td>42</td>\n",
       "      <td>высшее</td>\n",
       "      <td>0</td>\n",
       "      <td>женат / замужем</td>\n",
       "      <td>0</td>\n",
       "      <td>F</td>\n",
       "      <td>сотрудник</td>\n",
       "      <td>0</td>\n",
       "      <td>253875</td>\n",
       "      <td>покупка жилья</td>\n",
       "      <td>[покупка,  , жилье, \\n]</td>\n",
       "    </tr>\n",
       "    <tr>\n",
       "      <td>1</td>\n",
       "      <td>1</td>\n",
       "      <td>4024</td>\n",
       "      <td>36</td>\n",
       "      <td>среднее</td>\n",
       "      <td>1</td>\n",
       "      <td>женат / замужем</td>\n",
       "      <td>0</td>\n",
       "      <td>F</td>\n",
       "      <td>сотрудник</td>\n",
       "      <td>0</td>\n",
       "      <td>112080</td>\n",
       "      <td>приобретение автомобиля</td>\n",
       "      <td>[приобретение,  , автомобиль, \\n]</td>\n",
       "    </tr>\n",
       "    <tr>\n",
       "      <td>2</td>\n",
       "      <td>0</td>\n",
       "      <td>5623</td>\n",
       "      <td>33</td>\n",
       "      <td>среднее</td>\n",
       "      <td>1</td>\n",
       "      <td>женат / замужем</td>\n",
       "      <td>0</td>\n",
       "      <td>M</td>\n",
       "      <td>сотрудник</td>\n",
       "      <td>0</td>\n",
       "      <td>145885</td>\n",
       "      <td>покупка жилья</td>\n",
       "      <td>[покупка,  , жилье, \\n]</td>\n",
       "    </tr>\n",
       "    <tr>\n",
       "      <td>3</td>\n",
       "      <td>3</td>\n",
       "      <td>4124</td>\n",
       "      <td>32</td>\n",
       "      <td>среднее</td>\n",
       "      <td>1</td>\n",
       "      <td>женат / замужем</td>\n",
       "      <td>0</td>\n",
       "      <td>M</td>\n",
       "      <td>сотрудник</td>\n",
       "      <td>0</td>\n",
       "      <td>267628</td>\n",
       "      <td>дополнительное образование</td>\n",
       "      <td>[дополнительный,  , образование, \\n]</td>\n",
       "    </tr>\n",
       "    <tr>\n",
       "      <td>4</td>\n",
       "      <td>0</td>\n",
       "      <td>340266</td>\n",
       "      <td>53</td>\n",
       "      <td>среднее</td>\n",
       "      <td>1</td>\n",
       "      <td>гражданский брак</td>\n",
       "      <td>1</td>\n",
       "      <td>F</td>\n",
       "      <td>пенсионер</td>\n",
       "      <td>0</td>\n",
       "      <td>158616</td>\n",
       "      <td>сыграть свадьбу</td>\n",
       "      <td>[сыграть,  , свадьба, \\n]</td>\n",
       "    </tr>\n",
       "  </tbody>\n",
       "</table>\n",
       "</div>"
      ],
      "text/plain": [
       "   children  days_employed  dob_years education  education_id  \\\n",
       "0         1           8437         42    высшее             0   \n",
       "1         1           4024         36   среднее             1   \n",
       "2         0           5623         33   среднее             1   \n",
       "3         3           4124         32   среднее             1   \n",
       "4         0         340266         53   среднее             1   \n",
       "\n",
       "      family_status  family_status_id gender income_type  debt  total_income  \\\n",
       "0   женат / замужем                 0      F   сотрудник     0        253875   \n",
       "1   женат / замужем                 0      F   сотрудник     0        112080   \n",
       "2   женат / замужем                 0      M   сотрудник     0        145885   \n",
       "3   женат / замужем                 0      M   сотрудник     0        267628   \n",
       "4  гражданский брак                 1      F   пенсионер     0        158616   \n",
       "\n",
       "                      purpose                                lemmas  \n",
       "0               покупка жилья               [покупка,  , жилье, \\n]  \n",
       "1     приобретение автомобиля     [приобретение,  , автомобиль, \\n]  \n",
       "2               покупка жилья               [покупка,  , жилье, \\n]  \n",
       "3  дополнительное образование  [дополнительный,  , образование, \\n]  \n",
       "4             сыграть свадьбу             [сыграть,  , свадьба, \\n]  "
      ]
     },
     "metadata": {},
     "output_type": "display_data"
    },
    {
     "data": {
      "text/plain": [
       "Counter({'покупка': 5897,\n",
       "         ' ': 33570,\n",
       "         'жилье': 4460,\n",
       "         '\\n': 21454,\n",
       "         'приобретение': 461,\n",
       "         'автомобиль': 4306,\n",
       "         'дополнительный': 906,\n",
       "         'образование': 4013,\n",
       "         'сыграть': 765,\n",
       "         'свадьба': 2324,\n",
       "         'операция': 2604,\n",
       "         'с': 2918,\n",
       "         'на': 2222,\n",
       "         'проведение': 768,\n",
       "         'для': 1289,\n",
       "         'семья': 638,\n",
       "         'недвижимость': 6351,\n",
       "         'коммерческий': 1311,\n",
       "         'жилой': 1230,\n",
       "         'строительство': 1878,\n",
       "         'собственный': 635,\n",
       "         'подержать': 478,\n",
       "         'свой': 2230,\n",
       "         'со': 627,\n",
       "         'заниматься': 904,\n",
       "         'сделка': 941,\n",
       "         'подержанный': 486,\n",
       "         'получение': 1314,\n",
       "         'высокий': 1374,\n",
       "         'профильный': 436,\n",
       "         'сдача': 651,\n",
       "         'ремонт': 607})"
      ]
     },
     "metadata": {},
     "output_type": "display_data"
    }
   ],
   "source": [
    "#Импортируем библиотеку для лемматизации\n",
    "from pymystem3 import Mystem\n",
    "m = Mystem() \n",
    "\n",
    "\n",
    "#применим лемматизацию, чтобы упорядочить значения в столбце с целью получения кредита ('purpose')\n",
    "#пишем функцию, которая будет брать исходные данные из столбца purpose и лемматизировать их.\n",
    "def lemmas(purpose):\n",
    "    purpose = m.lemmatize(purpose)\n",
    "    return purpose\n",
    "\n",
    "\n",
    "#определяем столбец, куда будут сводиться результаты лемматизации, полученные в ходе выполнения функции, \n",
    "#а также обозначим, из какого столбца берутся данные для выполнения функции.\n",
    "data['lemmas'] = data['purpose'].apply(lemmas)\n",
    "    \n",
    "#проверим результат:\n",
    "display(data.head())\n",
    "\n",
    "#Посчитаем частоту упоминаний отдельных лемм для выделения категорий в следующем задании:\n",
    "from collections import Counter\n",
    "#объединяем списки, полученные в ходе лемматизации в один список, чтобы использовать Counter\n",
    "total_lemmas_counter = sum(data['lemmas'], [])\n",
    "display(Counter(total_lemmas_counter))\n",
    "\n",
    "\n",
    "\n"
   ]
  },
  {
   "cell_type": "markdown",
   "metadata": {},
   "source": [
    "**Вывод**"
   ]
  },
  {
   "cell_type": "markdown",
   "metadata": {},
   "source": [
    "Мы выполнили лемматизацию с целью получения списка словоформ в столбце с заявленными целями кредита. В дальнейшем эти леммы можно использовать для кластеризации заявителей по требуемым целям.\n",
    "Лемматизация проведена с помощью библиотеки pymystem3\n",
    "Мы использовали функцию, которая принимает на вход значения каждой ячейки из столбца purpose, лемматизирует их и на выход отдает леммы в виде значений в новом столбце нашего датафрейма.\n",
    "Такой способ позволяет  сэкономить ресурсы, в отличие от циклов.\n",
    "\n",
    "Далее мы посчитали частоту упоминания отдельных лемм, чтобы понять, какие категории (по целям кредитования) лучше отобрать в следующем задании. Мы использовали метод Counter, предварительно объединив списки с леммами из столбца 'lemmas' в один большой список.\n",
    "\n",
    "Мы видим, что наиболее часто упоминаются следубщие леммы: 'недвижимость', 'жилье', 'автомобиль', 'образование', 'свадьба'.\n",
    "Их мы и выделим в качестве словаря в следующем задании."
   ]
  },
  {
   "cell_type": "markdown",
   "metadata": {},
   "source": [
    "<div class=\"alert alert-success\">\n",
    "<b>✔️ Комментарий ревьюера:</b> Нужные категории найдены </div>"
   ]
  },
  {
   "cell_type": "markdown",
   "metadata": {},
   "source": [
    "### Категоризация данных"
   ]
  },
  {
   "cell_type": "code",
   "execution_count": 6,
   "metadata": {},
   "outputs": [
    {
     "data": {
      "text/plain": [
       "средний          10327\n",
       "выше среднего     7509\n",
       "высокий           2812\n",
       "ниже среднего      806\n",
       "Name: income_group, dtype: int64"
      ]
     },
     "metadata": {},
     "output_type": "display_data"
    },
    {
     "data": {
      "text/plain": [
       "недвижимость    10811\n",
       "автомобиль       4306\n",
       "образование      4013\n",
       "свадьба          2324\n",
       "Name: purpose_group, dtype: int64"
      ]
     },
     "metadata": {},
     "output_type": "display_data"
    }
   ],
   "source": [
    "#Напишем функцию, которая будет категоризировать заявителей по уровню дохода:\n",
    "def income_group(total_income):\n",
    "    if total_income <= 60000:\n",
    "        return 'ниже среднего'\n",
    "    if total_income <= 160000:\n",
    "        return 'средний'\n",
    "    if total_income <= 250000:\n",
    "        return 'выше среднего'\n",
    "    return 'высокий'\n",
    "\n",
    "#Cоздадим новый столбец, куда написанная функция будет отдавать результат категоризации. \n",
    "#Дадим ссылку на столбец, откуда функция будет брать данные на вход\n",
    "data['income_group'] = data['total_income'].apply(income_group)\n",
    "\n",
    "#Посмотрим, сколько респондентов в каждой категории по уровню дохода:\n",
    "display(data['income_group'].value_counts())\n",
    "\n",
    "#Разделим респондентов на категории, в соответствии с целями получения кредита. Напишем функцию с условиями категоризации:\n",
    "def purpose_group(lemma):\n",
    "    if 'автомобиль' in lemma:\n",
    "        return 'автомобиль'\n",
    "    if 'образование' in lemma:\n",
    "        return 'образование'\n",
    "    if 'свадьба' in lemma:\n",
    "        return 'свадьба'\n",
    "    if 'недвижимость' in lemma:\n",
    "        return 'недвижимость'\n",
    "    if 'жилье' in lemma:\n",
    "        return 'недвижимость'\n",
    "    else:\n",
    "        return 'другое'\n",
    "\n",
    "#Создадим новый столбец для результатов категоризации и укажем, откуда брать данные для функции:\n",
    "data['purpose_group'] = data['lemmas'].apply(purpose_group)\n",
    "\n",
    "#Посмотрим, сколько респондентов/строк в каждой категории по целям получения кредита:\n",
    "display(data['purpose_group'].value_counts())"
   ]
  },
  {
   "cell_type": "markdown",
   "metadata": {},
   "source": [
    "**Вывод**"
   ]
  },
  {
   "cell_type": "markdown",
   "metadata": {},
   "source": [
    "Мы провели категоризацию/кластеризацию заявителей по двум параметрам: по уровню дохода и по цели получения кредита. Это позволит нам сформулировать более точные ответы на вопросы ниже.\n",
    "\n",
    "Для определения границ каждого сегмента по уровню дохода мы использовали условные значения: ниже 60 тыс.руб., от 60 до 160 тыс.р., от 160 до 250 тыс.р. и выше 250 тыс.р. В качестве значений можно было также использовать квартильные границы, тогда в каждой категории было бы одинаковое количество респондентов. На наш взгляд, целесообразно использовать именно условные границы, т.к. границы квартилей могут изменяться при дополнени/изменении всего массива данных.\n",
    "\n",
    "Для категоризации по целям получения кредита мы использовали наиболее часто упоминаемы леммы, список которых мы получили в предыдущем задании.\n",
    "\n",
    "После категоризации мы проверили, сколько респондентов  содержит та или иная категория."
   ]
  },
  {
   "cell_type": "markdown",
   "metadata": {},
   "source": [
    "<div class=\"alert alert-success\">\n",
    "<b>✔️ Комментарий ревьюера:</b> Категоризация поможет нам ответить на вопросы ниже </div>"
   ]
  },
  {
   "cell_type": "markdown",
   "metadata": {},
   "source": [
    "## Шаг 3. Ответьте на вопросы"
   ]
  },
  {
   "cell_type": "markdown",
   "metadata": {},
   "source": [
    "- Есть ли зависимость между наличием детей и возвратом кредита в срок?"
   ]
  },
  {
   "cell_type": "code",
   "execution_count": 7,
   "metadata": {},
   "outputs": [
    {
     "data": {
      "text/plain": [
       "'Распределение частоты значений в столбце:'"
      ]
     },
     "metadata": {},
     "output_type": "display_data"
    },
    {
     "data": {
      "text/plain": [
       "нет просрочки нет детей     13028\n",
       "нет просрочек есть дети      6685\n",
       "есть просрочка нет детей     1063\n",
       "есть просрочка есть дети      678\n",
       "Name: children_debt, dtype: int64"
      ]
     },
     "metadata": {},
     "output_type": "display_data"
    },
    {
     "data": {
      "text/plain": [
       "'Доля просрочек у респондентов с детьми - 9%'"
      ]
     },
     "metadata": {},
     "output_type": "display_data"
    },
    {
     "data": {
      "text/plain": [
       "'Доля просрочек у респондентов без детей - 8%'"
      ]
     },
     "metadata": {},
     "output_type": "display_data"
    }
   ],
   "source": [
    "#напишем функцию для строки, анализирующую одновременно значения в столбце 'children' и в столбце'debt':\n",
    "def children_debt(row):\n",
    "    children = row['children']\n",
    "    debt = row['debt']\n",
    "    if children > 0:\n",
    "        if debt == 1:\n",
    "            return 'есть просрочка есть дети'\n",
    "        return 'нет просрочек есть дети'\n",
    "    if children ==0:\n",
    "        if debt ==1:\n",
    "            return 'есть просрочка нет детей'\n",
    "        return 'нет просрочки нет детей'\n",
    "\n",
    "#создаем новый столбец для выведения результатов функции:\n",
    "data['children_debt'] = data.apply(children_debt, axis = 1)\n",
    "\n",
    "#посмотрим, как распределились значения в новом столбце:\n",
    "display('Распределение частоты значений в столбце:', data['children_debt'].value_counts())\n",
    "\n",
    "#Нам необходимо выяснить соотношение числа респондентов с просрочкой по кредитам, к числу респондентов без просрочки, \n",
    "#по каждой категории (с детьми/без детей)\n",
    "#посчитаем долю просрочек от общего числа значений в категориях \"с детьми\" и \"без детей\"\n",
    "display('Доля просрочек у респондентов с детьми - {:.0%}'\\\n",
    "        .format(len(data[data['children_debt'] == 'есть просрочка есть дети'])/len(data[data['children'] != 0])))\n",
    "display('Доля просрочек у респондентов без детей - {:.0%}'\\\n",
    "        .format(len(data[data['children_debt'] == 'есть просрочка нет детей'])/len(data[data['children'] == 0])))"
   ]
  },
  {
   "cell_type": "markdown",
   "metadata": {},
   "source": [
    "**Вывод**"
   ]
  },
  {
   "cell_type": "markdown",
   "metadata": {},
   "source": [
    "Мы написали функцию для строки, чтобы посмотреть на взаимосвязь между наличием детей и возвратом кредита в срок. \n",
    "По каждой категории заемщиков мы выяснили количество значений, а потом посчитали соотношение просроченных кредитов с общим числом кредитов в категориях \"с детьми\" и \"без детей\".\n",
    "Мы видим, что у респондентов без детей доля просрочек по кредитам немного ниже: 8% от общего числа против 9% от общго числа респондентов с детьми. Однако эта разница не очень существенна. Таким образом, делаем вывод, что наличие детей не оказывает существенное влияние на вовзрат кредита в срок."
   ]
  },
  {
   "cell_type": "markdown",
   "metadata": {},
   "source": [
    "<div class=\"alert alert-success\">\n",
    "<b>✔️ Комментарий ревьюера:</b> Верно"
   ]
  },
  {
   "cell_type": "markdown",
   "metadata": {},
   "source": [
    "- Есть ли зависимость между семейным положением и возвратом кредита в срок?"
   ]
  },
  {
   "cell_type": "code",
   "execution_count": 8,
   "metadata": {},
   "outputs": [
    {
     "data": {
      "text/plain": [
       "нет просрочки женаты               11408\n",
       "нет просрочки гражданский брак      3763\n",
       "нет просрочки не женаты             2536\n",
       "нет просрочки в разводе             1110\n",
       "есть просрочка женаты                931\n",
       "нет просрочки вдовцы                 896\n",
       "есть просрочка гражданский брак      388\n",
       "есть просрочка не женаты             274\n",
       "есть просрочка в разводе              85\n",
       "есть просрочка вдовцы                 63\n",
       "Name: family_status_debt, dtype: int64"
      ]
     },
     "metadata": {},
     "output_type": "display_data"
    },
    {
     "data": {
      "text/plain": [
       "'Есть просрочка и женаты: 8% от общего числа женатых'"
      ]
     },
     "metadata": {},
     "output_type": "display_data"
    },
    {
     "data": {
      "text/plain": [
       "'Есть просрочка и в гражданском браке: 9% от общего числа в гражданском браке'"
      ]
     },
     "metadata": {},
     "output_type": "display_data"
    },
    {
     "data": {
      "text/plain": [
       "'Есть просрочка и не женаты: 10% от общего числа неженатых'"
      ]
     },
     "metadata": {},
     "output_type": "display_data"
    },
    {
     "data": {
      "text/plain": [
       "'Есть просрочка вдовцы: 7% от общего числа вдовцов'"
      ]
     },
     "metadata": {},
     "output_type": "display_data"
    },
    {
     "data": {
      "text/plain": [
       "'Есть просрочка в разводе: 7% от общего числа в разводе'"
      ]
     },
     "metadata": {},
     "output_type": "display_data"
    }
   ],
   "source": [
    "#напишем функцию для строки, анализирующую одновременно значения в столбце 'family_status_id' и в столбце'debt':\n",
    "def family_status_debt(row):\n",
    "    status = row['family_status_id']\n",
    "    debt = row['debt']\n",
    "    if debt == 1:\n",
    "        if status == 0:\n",
    "            return 'есть просрочка женаты'\n",
    "        if status == 1:\n",
    "            return 'есть просрочка гражданский брак'\n",
    "        if status == 2:\n",
    "            return 'есть просрочка вдовцы'\n",
    "        if status == 3:\n",
    "            return 'есть просрочка в разводе'\n",
    "        return 'есть просрочка не женаты'\n",
    "    if debt == 0:\n",
    "        if status == 0:\n",
    "            return 'нет просрочки женаты'\n",
    "        if status == 1:\n",
    "            return 'нет просрочки гражданский брак'\n",
    "        if status == 2:\n",
    "            return 'нет просрочки вдовцы'\n",
    "        if status == 3:\n",
    "            return 'нет просрочки в разводе'\n",
    "        return 'нет просрочки не женаты'\n",
    "\n",
    "#создаем новый столбец для выведения результатов функции:\n",
    "data['family_status_debt'] = data.apply(family_status_debt, axis = 1)\n",
    "\n",
    "#посмотрим, как распределились значения в новом столбце:\n",
    "display(data['family_status_debt'].value_counts())\n",
    "#Посчитаем, сколько есть просрочек в % от общего числа респондентов в каждой категории по семейному статусу:\n",
    "display('Есть просрочка и женаты: {:.0%} от общего числа женатых'\\\n",
    "        .format(len(data[data['family_status_debt'] == 'есть просрочка женаты']) \\\n",
    "                /len(data[data['family_status_id'] == 0])))\n",
    "display('Есть просрочка и в гражданском браке: {:.0%} от общего числа в гражданском браке'\\\n",
    "        .format(len(data[data['family_status_debt'] == 'есть просрочка гражданский брак']) \\\n",
    "                /len(data[data['family_status_id'] == 1])))\n",
    "display('Есть просрочка и не женаты: {:.0%} от общего числа неженатых'\\\n",
    "        .format(len(data[data['family_status_debt'] == 'есть просрочка не женаты']) \\\n",
    "                /len(data[data['family_status_id'] == 4])))\n",
    "display('Есть просрочка вдовцы: {:.0%} от общего числа вдовцов'\\\n",
    "        .format(len(data[data['family_status_debt'] == 'есть просрочка вдовцы']) \\\n",
    "                /len(data[data['family_status_id'] == 2])))\n",
    "display('Есть просрочка в разводе: {:.0%} от общего числа в разводе'\\\n",
    "        .format(len(data[data['family_status_debt'] == 'есть просрочка в разводе']) \\\n",
    "                /len(data[data['family_status_id'] == 3])))"
   ]
  },
  {
   "cell_type": "markdown",
   "metadata": {},
   "source": [
    "**Вывод**\n"
   ]
  },
  {
   "cell_type": "markdown",
   "metadata": {},
   "source": [
    "Мы написали функцию для строки, чтобы посмотреть на взаимосвязь между семейным положением и возвратом кредита в срок. \n",
    "По каждой категории заемщиков мы выяснили количество значений, а потом посчитали соотношение просроченных кредитов с общим числом кредитов в каждой категории по семейному статусу.\n",
    "Мы видим, что у респондентов, которые не женаты, доля просрочек по кредитам немного выше: 10% от общего числа.\n",
    "При этом вдовцы и разведенные, в среднем, более дисциплинированы: только 7% от общего количества респондентов в этих категориях имеют просрочку по кредиту.\n",
    "Таким образом, делаем вывод, что семейный статус оказывает определенное влияние на возврат кредита в срок. Но возможно, это влияние напрямую связано не со статусом, а с другим фактором, например, с возрастом. Вдовцы и разведенные, как правило, имеют бОльший жизненный опыт, чем неженатые."
   ]
  },
  {
   "cell_type": "markdown",
   "metadata": {},
   "source": [
    "- Есть ли зависимость между уровнем дохода и возвратом кредита в срок?"
   ]
  },
  {
   "cell_type": "code",
   "execution_count": 9,
   "metadata": {},
   "outputs": [
    {
     "data": {
      "text/plain": [
       "нет просрочки, средний уровень дохода     9443\n",
       "нет просрочки, доход выше среднего        6895\n",
       "нет просрочки, высокий уровень дохода     2618\n",
       "есть просрочка, средний уровень дохода     884\n",
       "нет просрочки, доход ниже среднего         757\n",
       "есть просрочка, доход выше среднего        614\n",
       "есть просрочка, высокий уровень дохода     194\n",
       "есть просрочка, доход ниже среднего         49\n",
       "Name: income_group_debt, dtype: int64"
      ]
     },
     "metadata": {},
     "output_type": "display_data"
    },
    {
     "data": {
      "text/plain": [
       "'Есть просрочка и доход ниже среднего: 6% от общего числа в категории'"
      ]
     },
     "metadata": {},
     "output_type": "display_data"
    },
    {
     "data": {
      "text/plain": [
       "'Есть просрочка и средний уровень дохода: 9% от общего числа в категории'"
      ]
     },
     "metadata": {},
     "output_type": "display_data"
    },
    {
     "data": {
      "text/plain": [
       "'Есть просрочка и доход выше среднего: 8% от общего числа в категории'"
      ]
     },
     "metadata": {},
     "output_type": "display_data"
    },
    {
     "data": {
      "text/plain": [
       "'Есть просрочка и высокий уровень дохода: 7% от общего числа в категории'"
      ]
     },
     "metadata": {},
     "output_type": "display_data"
    }
   ],
   "source": [
    "#напишем функцию для строки, анализирующую одновременно значения в столбце 'income_group' и в столбце'debt':\n",
    "def income_group_debt(row):\n",
    "    income_group = row['income_group']\n",
    "    debt = row['debt']\n",
    "    if debt == 1:\n",
    "        if income_group == 'ниже среднего':\n",
    "            return 'есть просрочка, доход ниже среднего'\n",
    "        if income_group == 'средний':\n",
    "            return 'есть просрочка, средний уровень дохода'\n",
    "        if income_group == 'выше среднего':\n",
    "            return 'есть просрочка, доход выше среднего'\n",
    "        return 'есть просрочка, высокий уровень дохода'\n",
    "    if debt == 0:\n",
    "        if income_group == 'ниже среднего':\n",
    "            return 'нет просрочки, доход ниже среднего'\n",
    "        if income_group == 'средний':\n",
    "            return 'нет просрочки, средний уровень дохода'\n",
    "        if income_group == 'выше среднего':\n",
    "            return 'нет просрочки, доход выше среднего'\n",
    "        return 'нет просрочки, высокий уровень дохода'\n",
    "\n",
    "#создаем новый столбец для выведения результатов функции:\n",
    "data['income_group_debt'] = data.apply(income_group_debt, axis = 1)\n",
    "\n",
    "#посмотрим, как распределились значения в новом столбце:\n",
    "display(data['income_group_debt'].value_counts())\n",
    "\n",
    "#Посчитаем, сколько есть просрочек в % от общего числа респондентов в каждой категории по уровню дохода:\n",
    "display('Есть просрочка и доход ниже среднего: {:.0%} от общего числа в категории' \\\n",
    "        .format(len(data[data['income_group_debt'] == 'есть просрочка, доход ниже среднего']) \\\n",
    "                /len(data[data['income_group'] == 'ниже среднего'])))\n",
    "display('Есть просрочка и средний уровень дохода: {:.0%} от общего числа в категории' \\\n",
    "        .format(len(data[data['income_group_debt'] == 'есть просрочка, средний уровень дохода']) \\\n",
    "                /len(data[data['income_group'] == 'средний'])))\n",
    "display('Есть просрочка и доход выше среднего: {:.0%} от общего числа в категории' \\\n",
    "        .format(len(data[data['income_group_debt'] == 'есть просрочка, доход выше среднего']) \\\n",
    "                /len(data[data['income_group'] == 'выше среднего'])))\n",
    "display('Есть просрочка и высокий уровень дохода: {:.0%} от общего числа в категории'\\\n",
    "        .format(len(data[data['income_group_debt'] == 'есть просрочка, высокий уровень дохода']) \\\n",
    "                /len(data[data['income_group'] == 'высокий'])))\n"
   ]
  },
  {
   "cell_type": "markdown",
   "metadata": {},
   "source": [
    "**Вывод**"
   ]
  },
  {
   "cell_type": "markdown",
   "metadata": {},
   "source": [
    "Мы написали функцию для строки, чтобы посмотреть на взаимосвязь между уровнем дохода и возвратом кредита в срок. \n",
    "По каждой категории заемщиков мы выяснили количество значений, а потом посчитали соотношение просроченных кредитов с общим числом кредитов в каждой категории по уровню дохода.\n",
    "Мы видим, что у респондентов со средним уровнем дохода доля просрочек по кредитам немного выше: 9% от общего числа.\n",
    "При этом в группе с доходом ниже среднего только 6% от общего количества респондентов имеют просрочку по кредиту.\n",
    "Таким образом, делаем вывод, что уровень дохода оказывает определенное влияние на возврат кредита в срок. Но возможно, этот факт связан с определением границ категорий с уровнем дохода: если их сдвинуть, доли просрочек в каждой категории тоже могут измениться.\n"
   ]
  },
  {
   "cell_type": "markdown",
   "metadata": {},
   "source": [
    "- Как разные цели кредита влияют на его возврат в срок?"
   ]
  },
  {
   "cell_type": "code",
   "execution_count": 10,
   "metadata": {},
   "outputs": [
    {
     "data": {
      "text/plain": [
       "нет просрочки, на недвижимость     10029\n",
       "нет просрочки, на автомобиль        3903\n",
       "нет просрочки, на образование       3643\n",
       "нет просрочки, на свадьбу           2138\n",
       "есть просрочка, на недвижимость      782\n",
       "есть просрочка, на автомобиль        403\n",
       "есть просрочка, на образование       370\n",
       "есть просрочка, на свадьбу           186\n",
       "Name: purpose_group_debt, dtype: int64"
      ]
     },
     "metadata": {},
     "output_type": "display_data"
    },
    {
     "data": {
      "text/plain": [
       "'Есть просрочка, на недвижимость: 7% от общего числа в категории'"
      ]
     },
     "metadata": {},
     "output_type": "display_data"
    },
    {
     "data": {
      "text/plain": [
       "'Есть просрочка, на автомобиль: 9% от общего числа в категории'"
      ]
     },
     "metadata": {},
     "output_type": "display_data"
    },
    {
     "data": {
      "text/plain": [
       "'Есть просрочка, на образование: 9% от общего числа в категории'"
      ]
     },
     "metadata": {},
     "output_type": "display_data"
    },
    {
     "data": {
      "text/plain": [
       "'Есть просрочка, на свадьбу: 8% от общего числа в категории'"
      ]
     },
     "metadata": {},
     "output_type": "display_data"
    }
   ],
   "source": [
    "#напишем функцию для строки, анализирующую одновременно значения в столбце 'purpose_group' и в столбце'debt':\n",
    "def purpose_group_debt(row):\n",
    "    purpose_group = row['purpose_group']\n",
    "    debt = row['debt']\n",
    "    if debt == 1:\n",
    "        if purpose_group == 'недвижимость':\n",
    "            return 'есть просрочка, на недвижимость'\n",
    "        if purpose_group == 'автомобиль':\n",
    "            return 'есть просрочка, на автомобиль'\n",
    "        if purpose_group == 'образование':\n",
    "            return 'есть просрочка, на образование'\n",
    "        return 'есть просрочка, на свадьбу'\n",
    "    if debt == 0:\n",
    "        if purpose_group == 'недвижимость':\n",
    "            return 'нет просрочки, на недвижимость'\n",
    "        if purpose_group == 'автомобиль':\n",
    "            return 'нет просрочки, на автомобиль'\n",
    "        if purpose_group == 'образование':\n",
    "            return 'нет просрочки, на образование'\n",
    "        return 'нет просрочки, на свадьбу'\n",
    "\n",
    "#создаем новый столбец для выведения результатов функции:\n",
    "data['purpose_group_debt'] = data.apply(purpose_group_debt, axis = 1)\n",
    "\n",
    "#посмотрим, как распределились значения в новом столбце:\n",
    "display(data['purpose_group_debt'].value_counts())\n",
    "\n",
    "#Посчитаем, сколько есть просрочек в % от общего числа респондентов в каждой категории по цели кредитования:\n",
    "display('Есть просрочка, на недвижимость: {:.0%} от общего числа в категории' \\\n",
    "        .format(len(data[data['purpose_group_debt'] == 'есть просрочка, на недвижимость']) \\\n",
    "                /len(data[data['purpose_group'] == 'недвижимость'])))\n",
    "display('Есть просрочка, на автомобиль: {:.0%} от общего числа в категории' \\\n",
    "        .format(len(data[data['purpose_group_debt'] == 'есть просрочка, на автомобиль']) \\\n",
    "                /len(data[data['purpose_group'] == 'автомобиль'])))\n",
    "display('Есть просрочка, на образование: {:.0%} от общего числа в категории' \\\n",
    "        .format(len(data[data['purpose_group_debt'] == 'есть просрочка, на образование']) \\\n",
    "                /len(data[data['purpose_group'] == 'образование'])))\n",
    "display('Есть просрочка, на свадьбу: {:.0%} от общего числа в категории'\\\n",
    "        .format(len(data[data['purpose_group_debt'] == 'есть просрочка, на свадьбу']) \\\n",
    "                /len(data[data['purpose_group'] == 'свадьба'])))\n"
   ]
  },
  {
   "cell_type": "markdown",
   "metadata": {},
   "source": [
    "**Вывод**"
   ]
  },
  {
   "cell_type": "markdown",
   "metadata": {},
   "source": [
    "Мы написали функцию для строки, чтобы посмотреть на взаимосвязь между целями кредита и возвратом кредита в срок. \n",
    "По каждой категории заемщиков мы выяснили количество значений, а потом посчитали соотношение просроченных кредитов с общим числом кредитов в каждой категории по цели кредитования.\n",
    "Мы видим, что в среднем, просрочки по кредитам на авто и на образование случаются чаще, чем по кредитам на недвижимость и свадьбу: 9% от общего числа респондентов в категориях 'недвижимость' и 'автомобиль' против 7% и 8% соответственно.\n",
    "Таким образом, делаем вывод, что цели кредитования оказывают определенное влияние на возврат кредита в срок. "
   ]
  },
  {
   "cell_type": "markdown",
   "metadata": {},
   "source": [
    "<div class=\"alert alert-success\">\n",
    "<b>✔️ Комментарий ревьюера:</b> Все так"
   ]
  },
  {
   "cell_type": "markdown",
   "metadata": {},
   "source": [
    "## Шаг 4. Общий вывод"
   ]
  },
  {
   "cell_type": "markdown",
   "metadata": {},
   "source": [
    "Мы провели предобработку данных, заменив пропуски, отрицательные значения, удалив дубликаты.\n",
    "Также выделили укрупненные категории по уровню дохода и целям кредитования, проведя лемматизацию.\n",
    "Проведя анализ, мы можем заключить, что на возврат кредита в срок с большей вероятностью влияют такие параметры, как:\n",
    "- семейное положение\n",
    "- уровень дохода\n",
    "- цели кредитования\n",
    "\n",
    "Наличие детей на возврат кредита в срок не оказывает значимого влияния."
   ]
  },
  {
   "cell_type": "markdown",
   "metadata": {},
   "source": [
    "<div class=\"alert alert-success\">\n",
    "<b>✔️ Комментарий ревьюера:</b> Заказчик будет доволен:)"
   ]
  },
  {
   "cell_type": "markdown",
   "metadata": {},
   "source": [
    "## Чек-лист готовности проекта\n",
    "\n",
    "Поставьте 'x' в выполненных пунктах. Далее нажмите Shift+Enter."
   ]
  },
  {
   "cell_type": "markdown",
   "metadata": {},
   "source": [
    "- [x]  открыт файл;\n",
    "- [x]  файл изучен;\n",
    "- [x]  определены пропущенные значения;\n",
    "- [x]  заполнены пропущенные значения;\n",
    "- [x]  есть пояснение, какие пропущенные значения обнаружены;\n",
    "- [x]  описаны возможные причины появления пропусков в данных;\n",
    "- [x]  объяснено, по какому принципу заполнены пропуски;\n",
    "- [x]  заменен вещественный тип данных на целочисленный;\n",
    "- [x]  есть пояснение, какой метод используется для изменения типа данных и почему;\n",
    "- [x]  удалены дубликаты;\n",
    "- [x]  есть пояснение, какой метод используется для поиска и удаления дубликатов;\n",
    "- [x]  описаны возможные причины появления дубликатов в данных;\n",
    "- [x]  выделены леммы в значениях столбца с целями получения кредита;\n",
    "- [x]  описан процесс лемматизации;\n",
    "- [x]  данные категоризированы;\n",
    "- [x]  есть объяснение принципа категоризации данных;\n",
    "- [x]  есть ответ на вопрос: \"Есть ли зависимость между наличием детей и возвратом кредита в срок?\";\n",
    "- [x]  есть ответ на вопрос: \"Есть ли зависимость между семейным положением и возвратом кредита в срок?\";\n",
    "- [x]  есть ответ на вопрос: \"Есть ли зависимость между уровнем дохода и возвратом кредита в срок?\";\n",
    "- [x]  есть ответ на вопрос: \"Как разные цели кредита влияют на его возврат в срок?\";\n",
    "- [x]  в каждом этапе есть выводы;\n",
    "- [x]  есть общий вывод."
   ]
  },
  {
   "cell_type": "markdown",
   "metadata": {},
   "source": [
    "<div class=\"alert alert-success\">\n",
    "<b>✔️ Комментарий ревьюера:</b> Спасибо за работу! Проект получился очень сильным. Критичных замечаний нет. Оставила несколько направляющих комментариев. Если у тебя будут вопросы, смело задавай их через куратора. Удачи на следующих этапах!</div>"
   ]
  },
  {
   "cell_type": "code",
   "execution_count": null,
   "metadata": {},
   "outputs": [],
   "source": []
  }
 ],
 "metadata": {
  "ExecuteTimeLog": [
   {
    "duration": 620,
    "start_time": "2022-01-03T21:15:41.394Z"
   },
   {
    "duration": 65,
    "start_time": "2022-01-03T21:15:54.629Z"
   },
   {
    "duration": 77,
    "start_time": "2022-01-03T21:16:52.198Z"
   },
   {
    "duration": 60,
    "start_time": "2022-01-03T21:16:59.342Z"
   },
   {
    "duration": 13,
    "start_time": "2022-01-03T21:25:42.161Z"
   },
   {
    "duration": 6,
    "start_time": "2022-01-03T21:26:48.594Z"
   },
   {
    "duration": 330,
    "start_time": "2022-01-03T21:27:01.818Z"
   },
   {
    "duration": 5,
    "start_time": "2022-01-03T21:27:17.047Z"
   },
   {
    "duration": 5,
    "start_time": "2022-01-03T21:27:41.839Z"
   },
   {
    "duration": 6,
    "start_time": "2022-01-03T21:29:55.027Z"
   },
   {
    "duration": 5,
    "start_time": "2022-01-03T21:30:30.779Z"
   },
   {
    "duration": 6,
    "start_time": "2022-01-03T21:33:53.550Z"
   },
   {
    "duration": 7,
    "start_time": "2022-01-03T21:34:04.693Z"
   },
   {
    "duration": 10,
    "start_time": "2022-01-03T21:35:39.361Z"
   },
   {
    "duration": 10,
    "start_time": "2022-01-03T21:36:14.498Z"
   },
   {
    "duration": 10,
    "start_time": "2022-01-03T21:36:44.623Z"
   },
   {
    "duration": 10,
    "start_time": "2022-01-03T21:37:10.073Z"
   },
   {
    "duration": 10,
    "start_time": "2022-01-03T21:37:21.417Z"
   },
   {
    "duration": 18,
    "start_time": "2022-01-03T21:38:46.033Z"
   },
   {
    "duration": 17,
    "start_time": "2022-01-03T21:40:22.257Z"
   },
   {
    "duration": 10,
    "start_time": "2022-01-03T21:49:00.937Z"
   },
   {
    "duration": 10,
    "start_time": "2022-01-03T21:49:40.328Z"
   },
   {
    "duration": 10,
    "start_time": "2022-01-03T21:50:30.034Z"
   },
   {
    "duration": 10,
    "start_time": "2022-01-03T21:51:10.446Z"
   },
   {
    "duration": 8,
    "start_time": "2022-01-03T21:52:40.711Z"
   },
   {
    "duration": 8,
    "start_time": "2022-01-03T21:52:52.845Z"
   },
   {
    "duration": 13,
    "start_time": "2022-01-03T21:53:21.834Z"
   },
   {
    "duration": 11,
    "start_time": "2022-01-03T21:54:52.535Z"
   },
   {
    "duration": 318,
    "start_time": "2022-01-04T19:45:37.034Z"
   },
   {
    "duration": 277,
    "start_time": "2022-01-04T19:45:56.053Z"
   },
   {
    "duration": 778,
    "start_time": "2022-01-04T19:46:23.720Z"
   },
   {
    "duration": 391,
    "start_time": "2022-01-04T19:46:24.501Z"
   },
   {
    "duration": 9,
    "start_time": "2022-01-04T19:47:27.530Z"
   },
   {
    "duration": 505,
    "start_time": "2022-01-04T19:47:46.420Z"
   },
   {
    "duration": 308,
    "start_time": "2022-01-04T19:48:07.177Z"
   },
   {
    "duration": 9,
    "start_time": "2022-01-04T19:49:28.164Z"
   },
   {
    "duration": 300,
    "start_time": "2022-01-04T19:49:38.903Z"
   },
   {
    "duration": 8,
    "start_time": "2022-01-04T19:49:50.091Z"
   },
   {
    "duration": 310,
    "start_time": "2022-01-04T19:55:44.201Z"
   },
   {
    "duration": 9,
    "start_time": "2022-01-04T19:56:36.866Z"
   },
   {
    "duration": 81,
    "start_time": "2022-01-04T19:57:15.009Z"
   },
   {
    "duration": 18,
    "start_time": "2022-01-04T19:59:09.367Z"
   },
   {
    "duration": 10,
    "start_time": "2022-01-04T19:59:18.110Z"
   },
   {
    "duration": 10,
    "start_time": "2022-01-04T19:59:21.135Z"
   },
   {
    "duration": 10,
    "start_time": "2022-01-04T19:59:45.615Z"
   },
   {
    "duration": 882,
    "start_time": "2022-01-04T19:59:52.852Z"
   },
   {
    "duration": 32,
    "start_time": "2022-01-04T19:59:53.737Z"
   },
   {
    "duration": 35,
    "start_time": "2022-01-04T20:00:22.302Z"
   },
   {
    "duration": 16,
    "start_time": "2022-01-04T20:03:15.743Z"
   },
   {
    "duration": 39,
    "start_time": "2022-01-04T20:03:31.566Z"
   },
   {
    "duration": 93,
    "start_time": "2022-01-04T20:04:32.733Z"
   },
   {
    "duration": 11,
    "start_time": "2022-01-04T20:04:44.669Z"
   },
   {
    "duration": 36,
    "start_time": "2022-01-04T20:04:57.840Z"
   },
   {
    "duration": 33,
    "start_time": "2022-01-04T20:06:53.749Z"
   },
   {
    "duration": 87,
    "start_time": "2022-01-04T20:20:05.055Z"
   },
   {
    "duration": 10,
    "start_time": "2022-01-04T20:33:39.664Z"
   },
   {
    "duration": 369,
    "start_time": "2022-01-04T20:34:04.840Z"
   },
   {
    "duration": 70,
    "start_time": "2022-01-04T20:35:16.020Z"
   },
   {
    "duration": 69,
    "start_time": "2022-01-04T20:36:01.222Z"
   },
   {
    "duration": 68,
    "start_time": "2022-01-04T20:40:51.130Z"
   },
   {
    "duration": 31,
    "start_time": "2022-01-04T20:41:40.779Z"
   },
   {
    "duration": 859,
    "start_time": "2022-01-04T20:41:59.588Z"
   },
   {
    "duration": 87,
    "start_time": "2022-01-04T20:42:00.449Z"
   },
   {
    "duration": 26,
    "start_time": "2022-01-04T20:42:49.682Z"
   },
   {
    "duration": 876,
    "start_time": "2022-01-04T20:43:02.250Z"
   },
   {
    "duration": 89,
    "start_time": "2022-01-04T20:43:03.129Z"
   },
   {
    "duration": 841,
    "start_time": "2022-01-04T20:43:54.089Z"
   },
   {
    "duration": 86,
    "start_time": "2022-01-04T20:43:54.933Z"
   },
   {
    "duration": 18,
    "start_time": "2022-01-04T20:46:36.463Z"
   },
   {
    "duration": 362,
    "start_time": "2022-01-05T19:39:33.333Z"
   },
   {
    "duration": 868,
    "start_time": "2022-01-05T19:39:40.313Z"
   },
   {
    "duration": 360,
    "start_time": "2022-01-05T19:39:41.183Z"
   },
   {
    "duration": 99,
    "start_time": "2022-01-05T19:40:07.919Z"
   },
   {
    "duration": 32,
    "start_time": "2022-01-05T19:52:04.825Z"
   },
   {
    "duration": 905,
    "start_time": "2022-01-05T19:52:15.093Z"
   },
   {
    "duration": 82,
    "start_time": "2022-01-05T19:52:16.001Z"
   },
   {
    "duration": 864,
    "start_time": "2022-01-05T19:52:57.864Z"
   },
   {
    "duration": 125,
    "start_time": "2022-01-05T19:52:58.732Z"
   },
   {
    "duration": 953,
    "start_time": "2022-01-05T19:59:09.209Z"
   },
   {
    "duration": 73,
    "start_time": "2022-01-05T19:59:10.166Z"
   },
   {
    "duration": 93,
    "start_time": "2022-01-05T20:01:12.184Z"
   },
   {
    "duration": 457,
    "start_time": "2022-01-05T20:01:27.173Z"
   },
   {
    "duration": 123,
    "start_time": "2022-01-05T20:03:58.828Z"
   },
   {
    "duration": 125,
    "start_time": "2022-01-05T20:05:09.153Z"
   },
   {
    "duration": 136,
    "start_time": "2022-01-05T20:06:25.314Z"
   },
   {
    "duration": 238,
    "start_time": "2022-01-05T20:07:08.509Z"
   },
   {
    "duration": 331,
    "start_time": "2022-01-05T20:29:42.993Z"
   },
   {
    "duration": 350,
    "start_time": "2022-01-05T20:30:45.361Z"
   },
   {
    "duration": 2241,
    "start_time": "2022-01-05T20:35:32.545Z"
   },
   {
    "duration": 336,
    "start_time": "2022-01-05T20:47:47.904Z"
   },
   {
    "duration": 984,
    "start_time": "2022-01-05T20:48:12.062Z"
   },
   {
    "duration": 80,
    "start_time": "2022-01-05T20:48:13.048Z"
   },
   {
    "duration": 19,
    "start_time": "2022-01-05T20:48:13.131Z"
   },
   {
    "duration": 19,
    "start_time": "2022-01-05T20:48:33.822Z"
   },
   {
    "duration": 1992,
    "start_time": "2022-01-05T20:51:45.926Z"
   },
   {
    "duration": 11,
    "start_time": "2022-01-05T20:52:17.272Z"
   },
   {
    "duration": 28,
    "start_time": "2022-01-05T20:52:38.050Z"
   },
   {
    "duration": 2288,
    "start_time": "2022-01-05T20:52:53.898Z"
   },
   {
    "duration": 28,
    "start_time": "2022-01-05T20:53:10.343Z"
   },
   {
    "duration": 32,
    "start_time": "2022-01-05T20:54:14.372Z"
   },
   {
    "duration": 27,
    "start_time": "2022-01-05T20:55:00.621Z"
   },
   {
    "duration": 1834,
    "start_time": "2022-01-05T20:55:28.975Z"
   },
   {
    "duration": 391,
    "start_time": "2022-01-06T19:43:06.431Z"
   },
   {
    "duration": 1167,
    "start_time": "2022-01-06T19:43:16.396Z"
   },
   {
    "duration": 56,
    "start_time": "2022-01-06T19:43:17.565Z"
   },
   {
    "duration": 428,
    "start_time": "2022-01-06T19:43:17.624Z"
   },
   {
    "duration": 437,
    "start_time": "2022-01-06T19:43:51.108Z"
   },
   {
    "duration": 288,
    "start_time": "2022-01-06T19:44:23.575Z"
   },
   {
    "duration": 293,
    "start_time": "2022-01-06T19:46:54.080Z"
   },
   {
    "duration": 7,
    "start_time": "2022-01-06T19:47:06.056Z"
   },
   {
    "duration": 24,
    "start_time": "2022-01-06T20:50:26.567Z"
   },
   {
    "duration": 21,
    "start_time": "2022-01-06T20:52:10.589Z"
   },
   {
    "duration": 6,
    "start_time": "2022-01-06T20:52:50.778Z"
   },
   {
    "duration": 980,
    "start_time": "2022-01-06T20:53:04.009Z"
   },
   {
    "duration": 88,
    "start_time": "2022-01-06T20:53:04.992Z"
   },
   {
    "duration": 7,
    "start_time": "2022-01-06T20:53:05.083Z"
   },
   {
    "duration": 23,
    "start_time": "2022-01-06T21:18:22.692Z"
   },
   {
    "duration": 388,
    "start_time": "2022-01-06T21:21:34.469Z"
   },
   {
    "duration": 316,
    "start_time": "2022-01-06T21:22:02.733Z"
   },
   {
    "duration": 284,
    "start_time": "2022-01-06T21:23:37.244Z"
   },
   {
    "duration": 284,
    "start_time": "2022-01-06T21:24:48.797Z"
   },
   {
    "duration": 23,
    "start_time": "2022-01-06T21:24:57.451Z"
   },
   {
    "duration": 27,
    "start_time": "2022-01-06T21:25:29.231Z"
   },
   {
    "duration": 28,
    "start_time": "2022-01-06T21:26:03.033Z"
   },
   {
    "duration": 27,
    "start_time": "2022-01-06T21:26:15.466Z"
   },
   {
    "duration": 294,
    "start_time": "2022-01-06T21:26:34.128Z"
   },
   {
    "duration": 32,
    "start_time": "2022-01-06T21:27:48.127Z"
   },
   {
    "duration": 44,
    "start_time": "2022-01-06T21:30:25.276Z"
   },
   {
    "duration": 52,
    "start_time": "2022-01-06T21:35:23.674Z"
   },
   {
    "duration": 912,
    "start_time": "2022-01-06T21:45:41.113Z"
   },
   {
    "duration": 66,
    "start_time": "2022-01-06T21:45:52.711Z"
   },
   {
    "duration": 106,
    "start_time": "2022-01-06T21:50:28.063Z"
   },
   {
    "duration": 112,
    "start_time": "2022-01-06T21:51:23.051Z"
   },
   {
    "duration": 118,
    "start_time": "2022-01-06T21:53:41.952Z"
   },
   {
    "duration": 106,
    "start_time": "2022-01-06T21:54:02.107Z"
   },
   {
    "duration": 73,
    "start_time": "2022-01-06T21:57:08.871Z"
   },
   {
    "duration": 110,
    "start_time": "2022-01-06T21:58:51.196Z"
   },
   {
    "duration": 99,
    "start_time": "2022-01-06T21:59:04.587Z"
   },
   {
    "duration": 720,
    "start_time": "2022-01-06T22:00:02.372Z"
   },
   {
    "duration": 119,
    "start_time": "2022-01-06T22:00:12.667Z"
   },
   {
    "duration": 336,
    "start_time": "2022-01-06T22:07:19.345Z"
   },
   {
    "duration": 4256,
    "start_time": "2022-01-06T22:10:25.446Z"
   },
   {
    "duration": 5013,
    "start_time": "2022-01-06T22:13:57.616Z"
   },
   {
    "duration": 4678,
    "start_time": "2022-01-06T22:14:11.450Z"
   },
   {
    "duration": 2663,
    "start_time": "2022-01-06T22:16:00.531Z"
   },
   {
    "duration": 191,
    "start_time": "2022-01-06T22:16:03.198Z"
   },
   {
    "duration": 9,
    "start_time": "2022-01-06T22:16:03.393Z"
   },
   {
    "duration": 870,
    "start_time": "2022-01-06T22:16:03.405Z"
   },
   {
    "duration": -15693,
    "start_time": "2022-01-06T22:16:19.971Z"
   },
   {
    "duration": 1275,
    "start_time": "2022-01-07T19:08:10.042Z"
   },
   {
    "duration": 81,
    "start_time": "2022-01-07T19:08:11.320Z"
   },
   {
    "duration": 5,
    "start_time": "2022-01-07T19:08:11.404Z"
   },
   {
    "duration": 578,
    "start_time": "2022-01-07T19:08:11.412Z"
   },
   {
    "duration": 55061,
    "start_time": "2022-01-07T19:07:16.932Z"
   },
   {
    "duration": 6138,
    "start_time": "2022-01-07T19:09:25.332Z"
   },
   {
    "duration": 124,
    "start_time": "2022-01-07T19:10:15.939Z"
   },
   {
    "duration": 4559,
    "start_time": "2022-01-07T19:11:52.358Z"
   },
   {
    "duration": 125,
    "start_time": "2022-01-07T19:24:59.286Z"
   },
   {
    "duration": 210,
    "start_time": "2022-01-07T19:34:20.839Z"
   },
   {
    "duration": 96,
    "start_time": "2022-01-07T19:34:56.502Z"
   },
   {
    "duration": 329,
    "start_time": "2022-01-07T19:35:54.479Z"
   },
   {
    "duration": 95,
    "start_time": "2022-01-07T19:36:14.735Z"
   },
   {
    "duration": 108,
    "start_time": "2022-01-07T19:36:26.667Z"
   },
   {
    "duration": 161,
    "start_time": "2022-01-07T19:36:34.394Z"
   },
   {
    "duration": 93,
    "start_time": "2022-01-07T19:36:47.153Z"
   },
   {
    "duration": 92,
    "start_time": "2022-01-07T19:36:57.764Z"
   },
   {
    "duration": 283,
    "start_time": "2022-01-07T20:12:57.060Z"
   },
   {
    "duration": 1198,
    "start_time": "2022-01-07T20:13:37.137Z"
   },
   {
    "duration": 1587,
    "start_time": "2022-01-07T20:13:52.748Z"
   },
   {
    "duration": 1644,
    "start_time": "2022-01-07T20:18:44.623Z"
   },
   {
    "duration": 1011,
    "start_time": "2022-01-07T20:18:58.185Z"
   },
   {
    "duration": 1016,
    "start_time": "2022-01-07T20:19:08.897Z"
   },
   {
    "duration": 1569,
    "start_time": "2022-01-07T20:29:02.694Z"
   },
   {
    "duration": 994,
    "start_time": "2022-01-07T20:31:27.141Z"
   },
   {
    "duration": 993,
    "start_time": "2022-01-07T20:32:41.438Z"
   },
   {
    "duration": 972,
    "start_time": "2022-01-07T20:33:07.156Z"
   },
   {
    "duration": 1289,
    "start_time": "2022-01-20T21:11:48.942Z"
   },
   {
    "duration": 1085,
    "start_time": "2022-01-20T21:12:02.552Z"
   },
   {
    "duration": 53,
    "start_time": "2022-01-20T21:12:03.660Z"
   },
   {
    "duration": 5,
    "start_time": "2022-01-20T21:12:03.716Z"
   },
   {
    "duration": 137,
    "start_time": "2022-01-20T21:12:03.724Z"
   },
   {
    "duration": 1463,
    "start_time": "2022-01-20T21:12:03.864Z"
   },
   {
    "duration": 1059,
    "start_time": "2022-01-20T21:14:35.641Z"
   },
   {
    "duration": 80,
    "start_time": "2022-01-20T21:14:36.703Z"
   },
   {
    "duration": 6,
    "start_time": "2022-01-20T21:14:36.786Z"
   },
   {
    "duration": 126,
    "start_time": "2022-01-20T21:14:36.795Z"
   },
   {
    "duration": 1051,
    "start_time": "2022-01-20T21:14:36.923Z"
   },
   {
    "duration": 1049,
    "start_time": "2022-01-20T21:15:03.858Z"
   },
   {
    "duration": 82,
    "start_time": "2022-01-20T21:15:04.910Z"
   },
   {
    "duration": 7,
    "start_time": "2022-01-20T21:15:05.000Z"
   },
   {
    "duration": 131,
    "start_time": "2022-01-20T21:15:05.010Z"
   },
   {
    "duration": 1018,
    "start_time": "2022-01-20T21:15:05.143Z"
   },
   {
    "duration": 372,
    "start_time": "2022-01-21T21:03:17.147Z"
   },
   {
    "duration": 959,
    "start_time": "2022-01-21T21:03:33.940Z"
   },
   {
    "duration": 77,
    "start_time": "2022-01-21T21:03:34.901Z"
   },
   {
    "duration": 6,
    "start_time": "2022-01-21T21:03:34.981Z"
   },
   {
    "duration": 126,
    "start_time": "2022-01-21T21:03:34.990Z"
   },
   {
    "duration": 383,
    "start_time": "2022-01-21T21:03:35.118Z"
   },
   {
    "duration": 253,
    "start_time": "2022-01-21T21:04:34.580Z"
   },
   {
    "duration": 1026,
    "start_time": "2022-01-21T21:05:13.848Z"
   },
   {
    "duration": 74,
    "start_time": "2022-01-21T21:05:14.877Z"
   },
   {
    "duration": 5,
    "start_time": "2022-01-21T21:05:14.954Z"
   },
   {
    "duration": 129,
    "start_time": "2022-01-21T21:05:14.961Z"
   },
   {
    "duration": 4896,
    "start_time": "2022-01-21T21:05:15.093Z"
   },
   {
    "duration": 5211,
    "start_time": "2022-01-21T21:08:29.786Z"
   },
   {
    "duration": 358,
    "start_time": "2022-01-21T21:10:50.838Z"
   },
   {
    "duration": 5152,
    "start_time": "2022-01-21T21:11:28.258Z"
   },
   {
    "duration": 5223,
    "start_time": "2022-01-21T21:13:32.999Z"
   },
   {
    "duration": 994,
    "start_time": "2022-01-21T21:13:54.906Z"
   },
   {
    "duration": 74,
    "start_time": "2022-01-21T21:13:55.903Z"
   },
   {
    "duration": 6,
    "start_time": "2022-01-21T21:13:55.980Z"
   },
   {
    "duration": 121,
    "start_time": "2022-01-21T21:13:55.989Z"
   },
   {
    "duration": 5442,
    "start_time": "2022-01-21T21:13:56.112Z"
   },
   {
    "duration": 5362,
    "start_time": "2022-01-21T21:16:25.329Z"
   },
   {
    "duration": 5332,
    "start_time": "2022-01-21T21:17:01.612Z"
   },
   {
    "duration": 4681,
    "start_time": "2022-01-21T21:27:23.320Z"
   },
   {
    "duration": 5070,
    "start_time": "2022-01-21T21:29:29.690Z"
   },
   {
    "duration": 5037,
    "start_time": "2022-01-21T21:29:57.867Z"
   },
   {
    "duration": 2495,
    "start_time": "2022-01-21T21:48:32.418Z"
   },
   {
    "duration": 5040,
    "start_time": "2022-01-21T21:48:43.081Z"
   },
   {
    "duration": 5113,
    "start_time": "2022-01-21T21:49:07.747Z"
   },
   {
    "duration": 5098,
    "start_time": "2022-01-21T21:49:24.305Z"
   },
   {
    "duration": 4978,
    "start_time": "2022-01-21T21:49:39.960Z"
   },
   {
    "duration": 981,
    "start_time": "2022-01-22T12:22:04.104Z"
   },
   {
    "duration": 73,
    "start_time": "2022-01-22T12:22:05.087Z"
   },
   {
    "duration": 6,
    "start_time": "2022-01-22T12:22:05.164Z"
   },
   {
    "duration": 139,
    "start_time": "2022-01-22T12:22:05.173Z"
   },
   {
    "duration": 5044,
    "start_time": "2022-01-22T12:22:05.314Z"
   },
   {
    "duration": 14,
    "start_time": "2022-01-22T12:22:10.360Z"
   },
   {
    "duration": 1046,
    "start_time": "2022-01-22T12:37:24.228Z"
   },
   {
    "duration": 53,
    "start_time": "2022-01-22T12:37:25.276Z"
   },
   {
    "duration": 30,
    "start_time": "2022-01-22T12:37:25.332Z"
   },
   {
    "duration": 122,
    "start_time": "2022-01-22T12:37:25.365Z"
   },
   {
    "duration": 4946,
    "start_time": "2022-01-22T12:37:25.489Z"
   },
   {
    "duration": 48,
    "start_time": "2022-01-22T12:37:30.439Z"
   },
   {
    "duration": 479,
    "start_time": "2022-01-22T12:38:20.183Z"
   },
   {
    "duration": 43,
    "start_time": "2022-01-22T12:39:07.975Z"
   },
   {
    "duration": 79,
    "start_time": "2022-01-22T12:41:32.835Z"
   },
   {
    "duration": 355,
    "start_time": "2022-01-22T12:45:31.897Z"
   },
   {
    "duration": 355,
    "start_time": "2022-01-22T12:45:47.029Z"
   },
   {
    "duration": 369,
    "start_time": "2022-01-22T12:46:09.434Z"
   },
   {
    "duration": 356,
    "start_time": "2022-01-22T12:46:57.022Z"
   },
   {
    "duration": 356,
    "start_time": "2022-01-22T12:47:22.357Z"
   },
   {
    "duration": 449,
    "start_time": "2022-01-22T12:47:50.065Z"
   },
   {
    "duration": 3679,
    "start_time": "2022-01-22T12:48:13.232Z"
   },
   {
    "duration": 109,
    "start_time": "2022-01-22T12:48:49.490Z"
   },
   {
    "duration": 75,
    "start_time": "2022-01-22T12:49:01.335Z"
   },
   {
    "duration": 126,
    "start_time": "2022-01-22T12:49:16.751Z"
   },
   {
    "duration": 39,
    "start_time": "2022-01-22T12:55:03.557Z"
   },
   {
    "duration": 127,
    "start_time": "2022-01-22T12:55:29.023Z"
   },
   {
    "duration": 42,
    "start_time": "2022-01-22T12:55:39.617Z"
   },
   {
    "duration": 40,
    "start_time": "2022-01-22T12:55:56.561Z"
   },
   {
    "duration": 8,
    "start_time": "2022-01-22T13:50:58.339Z"
   },
   {
    "duration": 14,
    "start_time": "2022-01-22T13:51:55.581Z"
   },
   {
    "duration": 1043,
    "start_time": "2022-01-22T13:55:11.934Z"
   },
   {
    "duration": 83,
    "start_time": "2022-01-22T13:55:12.979Z"
   },
   {
    "duration": 8,
    "start_time": "2022-01-22T13:55:13.065Z"
   },
   {
    "duration": 116,
    "start_time": "2022-01-22T13:55:13.075Z"
   },
   {
    "duration": 5151,
    "start_time": "2022-01-22T13:55:13.193Z"
   },
   {
    "duration": 48,
    "start_time": "2022-01-22T13:55:18.347Z"
   },
   {
    "duration": 5113,
    "start_time": "2022-01-22T13:57:54.574Z"
   },
   {
    "duration": 5673,
    "start_time": "2022-01-22T13:58:54.463Z"
   },
   {
    "duration": 5895,
    "start_time": "2022-01-22T14:03:17.141Z"
   },
   {
    "duration": 5500,
    "start_time": "2022-01-22T14:03:50.183Z"
   },
   {
    "duration": 5755,
    "start_time": "2022-01-22T14:04:29.252Z"
   },
   {
    "duration": 5287,
    "start_time": "2022-01-22T14:12:36.038Z"
   },
   {
    "duration": 5772,
    "start_time": "2022-01-22T14:16:14.347Z"
   },
   {
    "duration": 5187,
    "start_time": "2022-01-22T14:16:56.113Z"
   },
   {
    "duration": 4861,
    "start_time": "2022-01-22T14:17:22.528Z"
   },
   {
    "duration": 36,
    "start_time": "2022-01-22T14:17:45.273Z"
   },
   {
    "duration": 982,
    "start_time": "2022-01-22T14:17:55.701Z"
   },
   {
    "duration": 84,
    "start_time": "2022-01-22T14:17:56.686Z"
   },
   {
    "duration": 6,
    "start_time": "2022-01-22T14:17:56.773Z"
   },
   {
    "duration": 117,
    "start_time": "2022-01-22T14:17:56.782Z"
   },
   {
    "duration": 4836,
    "start_time": "2022-01-22T14:17:56.902Z"
   },
   {
    "duration": 47,
    "start_time": "2022-01-22T14:18:01.740Z"
   },
   {
    "duration": 410,
    "start_time": "2022-01-22T19:31:08.511Z"
   },
   {
    "duration": 322,
    "start_time": "2022-01-22T19:33:13.621Z"
   },
   {
    "duration": 1247,
    "start_time": "2022-01-22T19:33:26.798Z"
   },
   {
    "duration": 61,
    "start_time": "2022-01-22T19:33:28.068Z"
   },
   {
    "duration": 7,
    "start_time": "2022-01-22T19:33:28.132Z"
   },
   {
    "duration": 144,
    "start_time": "2022-01-22T19:33:28.142Z"
   },
   {
    "duration": 457,
    "start_time": "2022-01-22T19:33:28.289Z"
   },
   {
    "duration": -30,
    "start_time": "2022-01-22T19:33:28.779Z"
   },
   {
    "duration": 5878,
    "start_time": "2022-01-22T19:33:46.411Z"
   },
   {
    "duration": 40,
    "start_time": "2022-01-22T19:34:02.778Z"
   },
   {
    "duration": 39,
    "start_time": "2022-01-22T19:34:55.695Z"
   },
   {
    "duration": 6232,
    "start_time": "2022-01-22T19:35:39.743Z"
   },
   {
    "duration": 5770,
    "start_time": "2022-01-22T19:35:46.253Z"
   },
   {
    "duration": 7439,
    "start_time": "2022-01-22T19:39:41.955Z"
   },
   {
    "duration": 6986,
    "start_time": "2022-01-22T19:40:08.383Z"
   },
   {
    "duration": 7115,
    "start_time": "2022-01-22T19:41:29.858Z"
   },
   {
    "duration": 9672,
    "start_time": "2022-01-22T19:42:35.709Z"
   },
   {
    "duration": 10335,
    "start_time": "2022-01-22T19:43:07.567Z"
   },
   {
    "duration": 9734,
    "start_time": "2022-01-22T19:44:03.495Z"
   },
   {
    "duration": 376,
    "start_time": "2022-01-22T19:47:44.292Z"
   },
   {
    "duration": 328,
    "start_time": "2022-01-22T19:49:34.483Z"
   },
   {
    "duration": 324,
    "start_time": "2022-01-22T19:50:18.784Z"
   },
   {
    "duration": 969,
    "start_time": "2022-01-22T19:54:07.747Z"
   },
   {
    "duration": 5308,
    "start_time": "2022-01-22T19:58:37.461Z"
   },
   {
    "duration": 5113,
    "start_time": "2022-01-22T19:59:10.501Z"
   },
   {
    "duration": 5300,
    "start_time": "2022-01-22T20:02:44.189Z"
   },
   {
    "duration": 3774,
    "start_time": "2022-01-22T20:04:22.819Z"
   },
   {
    "duration": 4928,
    "start_time": "2022-01-22T20:04:46.407Z"
   },
   {
    "duration": 6733,
    "start_time": "2022-01-22T20:07:40.642Z"
   },
   {
    "duration": 5046,
    "start_time": "2022-01-22T20:08:22.882Z"
   },
   {
    "duration": 5318,
    "start_time": "2022-01-22T20:09:42.420Z"
   },
   {
    "duration": 15437,
    "start_time": "2022-01-22T20:15:14.355Z"
   },
   {
    "duration": 13858,
    "start_time": "2022-01-22T20:17:17.561Z"
   },
   {
    "duration": 14722,
    "start_time": "2022-01-22T20:17:56.770Z"
   },
   {
    "duration": 13640,
    "start_time": "2022-01-22T20:19:14.845Z"
   },
   {
    "duration": 43,
    "start_time": "2022-01-22T20:27:07.669Z"
   },
   {
    "duration": 29,
    "start_time": "2022-01-22T20:28:01.289Z"
   },
   {
    "duration": 27,
    "start_time": "2022-01-22T20:28:12.618Z"
   },
   {
    "duration": 28,
    "start_time": "2022-01-22T20:28:38.007Z"
   },
   {
    "duration": 32,
    "start_time": "2022-01-22T20:29:11.029Z"
   },
   {
    "duration": 1086,
    "start_time": "2022-01-22T20:35:30.503Z"
   },
   {
    "duration": 84,
    "start_time": "2022-01-22T20:35:31.592Z"
   },
   {
    "duration": 7,
    "start_time": "2022-01-22T20:35:31.679Z"
   },
   {
    "duration": 117,
    "start_time": "2022-01-22T20:35:31.689Z"
   },
   {
    "duration": 14628,
    "start_time": "2022-01-22T20:35:31.808Z"
   },
   {
    "duration": 46,
    "start_time": "2022-01-22T20:35:46.440Z"
   },
   {
    "duration": 35,
    "start_time": "2022-01-22T20:36:23.304Z"
   },
   {
    "duration": 36,
    "start_time": "2022-01-22T20:39:44.308Z"
   },
   {
    "duration": 35,
    "start_time": "2022-01-22T20:40:07.746Z"
   },
   {
    "duration": 28,
    "start_time": "2022-01-22T20:46:11.009Z"
   },
   {
    "duration": 44,
    "start_time": "2022-01-22T20:46:21.232Z"
   },
   {
    "duration": 42,
    "start_time": "2022-01-22T20:46:56.172Z"
   },
   {
    "duration": 36,
    "start_time": "2022-01-22T20:47:39.000Z"
   },
   {
    "duration": 619,
    "start_time": "2022-01-22T20:56:56.675Z"
   },
   {
    "duration": 448,
    "start_time": "2022-01-22T20:58:28.158Z"
   },
   {
    "duration": 332,
    "start_time": "2022-01-22T20:59:08.117Z"
   },
   {
    "duration": 1344,
    "start_time": "2022-01-22T21:01:55.862Z"
   },
   {
    "duration": 438,
    "start_time": "2022-01-22T21:02:31.532Z"
   },
   {
    "duration": 312,
    "start_time": "2022-01-22T21:03:53.032Z"
   },
   {
    "duration": 293,
    "start_time": "2022-01-22T21:04:36.066Z"
   },
   {
    "duration": 232,
    "start_time": "2022-01-22T21:21:29.401Z"
   },
   {
    "duration": 269,
    "start_time": "2022-01-22T21:26:34.150Z"
   },
   {
    "duration": 67,
    "start_time": "2022-01-22T21:27:44.727Z"
   },
   {
    "duration": 45,
    "start_time": "2022-01-22T21:28:11.520Z"
   },
   {
    "duration": 1151,
    "start_time": "2022-01-22T21:28:57.055Z"
   },
   {
    "duration": 84,
    "start_time": "2022-01-22T21:28:58.209Z"
   },
   {
    "duration": 7,
    "start_time": "2022-01-22T21:28:58.297Z"
   },
   {
    "duration": 116,
    "start_time": "2022-01-22T21:28:58.307Z"
   },
   {
    "duration": 14413,
    "start_time": "2022-01-22T21:28:58.426Z"
   },
   {
    "duration": 60,
    "start_time": "2022-01-22T21:29:12.842Z"
   },
   {
    "duration": 50,
    "start_time": "2022-01-22T21:33:00.978Z"
   },
   {
    "duration": 50,
    "start_time": "2022-01-22T21:38:00.713Z"
   },
   {
    "duration": 42,
    "start_time": "2022-01-22T21:41:15.267Z"
   },
   {
    "duration": 41,
    "start_time": "2022-01-22T21:42:15.501Z"
   },
   {
    "duration": 43,
    "start_time": "2022-01-22T21:46:04.489Z"
   },
   {
    "duration": 948,
    "start_time": "2022-01-22T21:53:42.893Z"
   },
   {
    "duration": 54,
    "start_time": "2022-01-22T21:53:43.866Z"
   },
   {
    "duration": 41,
    "start_time": "2022-01-22T21:53:43.923Z"
   },
   {
    "duration": 105,
    "start_time": "2022-01-22T21:53:43.967Z"
   },
   {
    "duration": 13972,
    "start_time": "2022-01-22T21:53:44.074Z"
   },
   {
    "duration": 63,
    "start_time": "2022-01-22T21:53:58.049Z"
   },
   {
    "duration": 92,
    "start_time": "2022-01-22T22:08:53.059Z"
   },
   {
    "duration": 611,
    "start_time": "2022-01-22T22:10:23.115Z"
   },
   {
    "duration": 610,
    "start_time": "2022-01-22T22:11:14.378Z"
   },
   {
    "duration": 603,
    "start_time": "2022-01-22T22:11:38.828Z"
   },
   {
    "duration": 601,
    "start_time": "2022-01-22T22:16:07.281Z"
   },
   {
    "duration": 595,
    "start_time": "2022-01-22T22:22:32.302Z"
   },
   {
    "duration": 6,
    "start_time": "2022-01-22T22:33:43.073Z"
   },
   {
    "duration": 6,
    "start_time": "2022-01-22T22:35:24.091Z"
   },
   {
    "duration": 8,
    "start_time": "2022-01-22T22:35:43.406Z"
   },
   {
    "duration": 42,
    "start_time": "2022-01-22T22:36:50.242Z"
   },
   {
    "duration": 42,
    "start_time": "2022-01-22T22:37:30.634Z"
   },
   {
    "duration": 40,
    "start_time": "2022-01-22T22:38:00.973Z"
   },
   {
    "duration": 5,
    "start_time": "2022-01-22T22:39:28.195Z"
   },
   {
    "duration": 596,
    "start_time": "2022-01-22T22:40:17.550Z"
   },
   {
    "duration": 996,
    "start_time": "2022-01-22T22:43:47.956Z"
   },
   {
    "duration": 612,
    "start_time": "2022-01-22T22:44:15.308Z"
   },
   {
    "duration": 588,
    "start_time": "2022-01-22T22:45:11.809Z"
   },
   {
    "duration": 602,
    "start_time": "2022-01-22T22:45:59.611Z"
   },
   {
    "duration": 466,
    "start_time": "2022-01-23T12:13:48.924Z"
   },
   {
    "duration": 920,
    "start_time": "2022-01-23T12:13:57.017Z"
   },
   {
    "duration": 50,
    "start_time": "2022-01-23T12:13:57.939Z"
   },
   {
    "duration": 36,
    "start_time": "2022-01-23T12:13:57.991Z"
   },
   {
    "duration": 97,
    "start_time": "2022-01-23T12:13:58.030Z"
   },
   {
    "duration": 12812,
    "start_time": "2022-01-23T12:13:58.129Z"
   },
   {
    "duration": 40,
    "start_time": "2022-01-23T12:14:10.944Z"
   },
   {
    "duration": 593,
    "start_time": "2022-01-23T12:14:10.987Z"
   },
   {
    "duration": 560,
    "start_time": "2022-01-23T12:14:11.584Z"
   },
   {
    "duration": 586,
    "start_time": "2022-01-23T12:15:43.186Z"
   },
   {
    "duration": 601,
    "start_time": "2022-01-23T12:15:58.222Z"
   },
   {
    "duration": 186,
    "start_time": "2022-01-23T12:16:24.042Z"
   },
   {
    "duration": 133,
    "start_time": "2022-01-23T12:16:37.063Z"
   },
   {
    "duration": 971,
    "start_time": "2022-01-23T12:17:02.868Z"
   },
   {
    "duration": 1039,
    "start_time": "2022-01-23T12:17:28.512Z"
   },
   {
    "duration": 1638,
    "start_time": "2022-01-23T12:29:40.243Z"
   },
   {
    "duration": 891,
    "start_time": "2022-01-23T12:29:59.143Z"
   },
   {
    "duration": 1645,
    "start_time": "2022-01-23T12:30:51.097Z"
   },
   {
    "duration": 1509,
    "start_time": "2022-01-23T12:43:06.217Z"
   },
   {
    "duration": 838,
    "start_time": "2022-01-23T12:44:13.777Z"
   },
   {
    "duration": 872,
    "start_time": "2022-01-23T12:45:13.724Z"
   },
   {
    "duration": 146,
    "start_time": "2022-01-23T12:48:04.794Z"
   },
   {
    "duration": 844,
    "start_time": "2022-01-23T12:48:15.481Z"
   },
   {
    "duration": 958,
    "start_time": "2022-01-23T12:49:27.783Z"
   },
   {
    "duration": 1301,
    "start_time": "2022-01-23T12:49:45.353Z"
   },
   {
    "duration": 1145,
    "start_time": "2022-01-23T12:50:14.589Z"
   },
   {
    "duration": 1559,
    "start_time": "2022-01-23T12:50:25.379Z"
   },
   {
    "duration": 875,
    "start_time": "2022-01-23T12:54:25.745Z"
   },
   {
    "duration": 895,
    "start_time": "2022-01-23T12:54:59.096Z"
   },
   {
    "duration": 624,
    "start_time": "2022-01-23T12:57:39.913Z"
   },
   {
    "duration": 840,
    "start_time": "2022-01-23T12:58:26.499Z"
   },
   {
    "duration": 718,
    "start_time": "2022-01-23T13:00:07.180Z"
   },
   {
    "duration": 1574,
    "start_time": "2022-01-23T13:01:03.450Z"
   },
   {
    "duration": 646,
    "start_time": "2022-01-23T13:01:49.004Z"
   },
   {
    "duration": 601,
    "start_time": "2022-01-23T13:02:53.337Z"
   },
   {
    "duration": 569,
    "start_time": "2022-01-23T13:04:04.700Z"
   },
   {
    "duration": 862,
    "start_time": "2022-01-23T13:04:17.049Z"
   },
   {
    "duration": 777,
    "start_time": "2022-01-23T20:08:45.696Z"
   },
   {
    "duration": 37,
    "start_time": "2022-01-23T20:08:46.475Z"
   },
   {
    "duration": 5,
    "start_time": "2022-01-23T20:08:46.514Z"
   },
   {
    "duration": 93,
    "start_time": "2022-01-23T20:08:46.521Z"
   },
   {
    "duration": 8991,
    "start_time": "2022-01-23T20:08:46.616Z"
   },
   {
    "duration": 28,
    "start_time": "2022-01-23T20:08:55.609Z"
   },
   {
    "duration": 106,
    "start_time": "2022-01-23T20:08:55.638Z"
   },
   {
    "duration": -28217,
    "start_time": "2022-01-23T20:09:23.963Z"
   },
   {
    "duration": 378,
    "start_time": "2022-01-23T20:09:29.885Z"
   },
   {
    "duration": 347,
    "start_time": "2022-01-23T20:10:45.101Z"
   },
   {
    "duration": 109,
    "start_time": "2022-01-23T20:11:33.620Z"
   },
   {
    "duration": 101,
    "start_time": "2022-01-23T20:13:57.771Z"
   },
   {
    "duration": 758,
    "start_time": "2022-01-23T20:14:29.442Z"
   },
   {
    "duration": 659,
    "start_time": "2022-01-23T20:15:15.849Z"
   },
   {
    "duration": 101,
    "start_time": "2022-01-23T20:17:07.649Z"
   },
   {
    "duration": 337,
    "start_time": "2022-01-23T20:19:03.362Z"
   },
   {
    "duration": 380,
    "start_time": "2022-01-23T20:20:00.948Z"
   },
   {
    "duration": 666,
    "start_time": "2022-01-23T20:21:03.310Z"
   },
   {
    "duration": 671,
    "start_time": "2022-01-23T20:22:14.157Z"
   },
   {
    "duration": 896,
    "start_time": "2022-01-23T20:26:27.942Z"
   },
   {
    "duration": 631,
    "start_time": "2022-01-23T20:28:26.148Z"
   },
   {
    "duration": 660,
    "start_time": "2022-01-23T20:30:30.623Z"
   },
   {
    "duration": 355,
    "start_time": "2022-01-23T20:32:24.917Z"
   },
   {
    "duration": 349,
    "start_time": "2022-01-23T20:32:59.558Z"
   },
   {
    "duration": 860,
    "start_time": "2022-01-23T20:33:32.239Z"
   },
   {
    "duration": 36,
    "start_time": "2022-01-23T20:33:33.102Z"
   },
   {
    "duration": 5,
    "start_time": "2022-01-23T20:33:33.140Z"
   },
   {
    "duration": 91,
    "start_time": "2022-01-23T20:33:33.147Z"
   },
   {
    "duration": 9166,
    "start_time": "2022-01-23T20:33:33.239Z"
   },
   {
    "duration": 29,
    "start_time": "2022-01-23T20:33:42.406Z"
   },
   {
    "duration": 377,
    "start_time": "2022-01-23T20:33:42.437Z"
   },
   {
    "duration": 369,
    "start_time": "2022-01-23T20:33:42.816Z"
   },
   {
    "duration": 374,
    "start_time": "2022-01-23T20:34:32.577Z"
   },
   {
    "duration": 208,
    "start_time": "2022-01-23T20:36:03.560Z"
   },
   {
    "duration": 108,
    "start_time": "2022-01-23T20:36:22.789Z"
   },
   {
    "duration": 341,
    "start_time": "2022-01-23T20:36:43.087Z"
   },
   {
    "duration": 93,
    "start_time": "2022-01-23T20:36:55.961Z"
   },
   {
    "duration": 361,
    "start_time": "2022-01-23T20:37:10.065Z"
   },
   {
    "duration": 570,
    "start_time": "2022-01-23T20:37:34.521Z"
   },
   {
    "duration": 588,
    "start_time": "2022-01-23T20:43:04.663Z"
   },
   {
    "duration": 563,
    "start_time": "2022-01-23T20:44:46.994Z"
   },
   {
    "duration": 347,
    "start_time": "2022-01-23T20:45:05.733Z"
   },
   {
    "duration": 368,
    "start_time": "2022-01-23T20:46:02.546Z"
   },
   {
    "duration": 363,
    "start_time": "2022-01-23T20:49:42.448Z"
   },
   {
    "duration": 105,
    "start_time": "2022-01-23T20:50:43.279Z"
   },
   {
    "duration": 356,
    "start_time": "2022-01-23T20:51:12.227Z"
   },
   {
    "duration": 350,
    "start_time": "2022-01-23T20:51:57.956Z"
   },
   {
    "duration": 106,
    "start_time": "2022-01-23T20:53:05.771Z"
   },
   {
    "duration": 358,
    "start_time": "2022-01-23T20:53:33.655Z"
   },
   {
    "duration": 99,
    "start_time": "2022-01-23T21:00:09.516Z"
   },
   {
    "duration": 357,
    "start_time": "2022-01-23T21:00:55.816Z"
   },
   {
    "duration": 449,
    "start_time": "2022-01-23T21:01:41.298Z"
   },
   {
    "duration": 378,
    "start_time": "2022-01-23T21:03:56.077Z"
   },
   {
    "duration": 708,
    "start_time": "2022-01-23T21:05:08.322Z"
   },
   {
    "duration": 650,
    "start_time": "2022-01-23T21:05:59.596Z"
   },
   {
    "duration": 680,
    "start_time": "2022-01-23T21:06:12.586Z"
   },
   {
    "duration": 650,
    "start_time": "2022-01-23T21:07:09.935Z"
   },
   {
    "duration": 106,
    "start_time": "2022-01-23T21:08:06.585Z"
   },
   {
    "duration": 372,
    "start_time": "2022-01-23T21:08:13.435Z"
   },
   {
    "duration": 386,
    "start_time": "2022-01-23T21:08:30.365Z"
   },
   {
    "duration": 367,
    "start_time": "2022-01-23T21:08:39.607Z"
   },
   {
    "duration": 391,
    "start_time": "2022-01-23T21:11:10.911Z"
   },
   {
    "duration": 371,
    "start_time": "2022-01-23T21:14:12.220Z"
   },
   {
    "duration": 373,
    "start_time": "2022-01-23T21:15:50.848Z"
   },
   {
    "duration": 1570,
    "start_time": "2022-01-23T21:27:05.468Z"
   },
   {
    "duration": 368,
    "start_time": "2022-01-23T21:27:27.949Z"
   },
   {
    "duration": 372,
    "start_time": "2022-01-23T21:33:34.851Z"
   },
   {
    "duration": 377,
    "start_time": "2022-01-23T21:35:54.201Z"
   },
   {
    "duration": 374,
    "start_time": "2022-01-23T21:36:09.721Z"
   },
   {
    "duration": 374,
    "start_time": "2022-01-23T21:50:24.156Z"
   },
   {
    "duration": 765,
    "start_time": "2022-01-23T21:59:01.054Z"
   },
   {
    "duration": 30,
    "start_time": "2022-01-23T21:59:01.821Z"
   },
   {
    "duration": 6,
    "start_time": "2022-01-23T21:59:01.872Z"
   },
   {
    "duration": 66,
    "start_time": "2022-01-23T21:59:01.879Z"
   },
   {
    "duration": 8711,
    "start_time": "2022-01-23T21:59:01.947Z"
   },
   {
    "duration": 39,
    "start_time": "2022-01-23T21:59:10.660Z"
   },
   {
    "duration": 392,
    "start_time": "2022-01-23T21:59:10.700Z"
   },
   {
    "duration": 395,
    "start_time": "2022-01-23T21:59:11.093Z"
   },
   {
    "duration": 382,
    "start_time": "2022-01-23T21:59:11.490Z"
   },
   {
    "duration": 371,
    "start_time": "2022-01-23T21:59:11.874Z"
   },
   {
    "duration": 788,
    "start_time": "2022-01-23T22:01:00.227Z"
   },
   {
    "duration": 62,
    "start_time": "2022-01-23T22:01:01.017Z"
   },
   {
    "duration": 5,
    "start_time": "2022-01-23T22:01:01.081Z"
   },
   {
    "duration": 84,
    "start_time": "2022-01-23T22:01:01.088Z"
   },
   {
    "duration": 8800,
    "start_time": "2022-01-23T22:01:01.173Z"
   },
   {
    "duration": 26,
    "start_time": "2022-01-23T22:01:09.974Z"
   },
   {
    "duration": 374,
    "start_time": "2022-01-23T22:01:10.002Z"
   },
   {
    "duration": 410,
    "start_time": "2022-01-23T22:01:10.377Z"
   },
   {
    "duration": 387,
    "start_time": "2022-01-23T22:01:10.789Z"
   },
   {
    "duration": 364,
    "start_time": "2022-01-23T22:01:11.177Z"
   }
  ],
  "kernelspec": {
   "display_name": "Python 3 (ipykernel)",
   "language": "python",
   "name": "python3"
  },
  "language_info": {
   "codemirror_mode": {
    "name": "ipython",
    "version": 3
   },
   "file_extension": ".py",
   "mimetype": "text/x-python",
   "name": "python",
   "nbconvert_exporter": "python",
   "pygments_lexer": "ipython3",
   "version": "3.9.5"
  },
  "toc": {
   "base_numbering": 1,
   "nav_menu": {},
   "number_sections": true,
   "sideBar": true,
   "skip_h1_title": true,
   "title_cell": "Table of Contents",
   "title_sidebar": "Contents",
   "toc_cell": false,
   "toc_position": {},
   "toc_section_display": true,
   "toc_window_display": false
  }
 },
 "nbformat": 4,
 "nbformat_minor": 2
}
