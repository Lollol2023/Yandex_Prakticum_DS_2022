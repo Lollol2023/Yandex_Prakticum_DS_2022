{
 "cells": [
  
  {
   "cell_type": "markdown",
   "metadata": {
    "id": "E0vqbgi9ay0H"
   },
   "source": [
    "# Яндекс.Музыка"
   ]
  },
  {
   "cell_type": "markdown",
   "metadata": {
    "id": "VUC88oWjTJw2"
   },
   "source": [
    "На данных Яндекс.Музыки вы сравните поведение пользователей двух столиц.\n",
    "\n",
    "**Цель исследования** — проверьте три гипотезы:\n",
    "1. Активность пользователей зависит от дня недели. Причём в Москве и Петербурге это проявляется по-разному.\n",
    "2. В понедельник утром в Москве преобладают одни жанры, а в Петербурге — другие. Так же и вечером пятницы преобладают разные жанры — в зависимости от города. \n",
    "3. Москва и Петербург предпочитают разные жанры музыки. В Москве чаще слушают поп-музыку, в Петербурге — русский рэп.\n",
    "\n",
    "**Ход исследования**\n",
    "\n",
    "Данные о поведении пользователей вы получите из файла `yandex_music_project.csv`. О качестве данных ничего не известно. Поэтому перед проверкой гипотез понадобится обзор данных. \n",
    "\n",
    "Вы проверите данные на ошибки и оцените их влияние на исследование. Затем, на этапе предобработки вы поищете возможность исправить самые критичные ошибки данных.\n",
    " \n",
    "Таким образом, исследование пройдёт в три этапа:\n",
    " 1. Обзор данных.\n",
    " 2. Предобработка данных.\n",
    " 3. Проверка гипотез.\n",
    "\n"
   ]
  },
  
  {
   "cell_type": "markdown",
   "metadata": {
    "id": "Ml1hmfXC_Zcs"
   },
   "source": [
    "## Обзор данных\n",
    "\n",
    "Составьте первое представление о данных Яндекс.Музыки.\n",
    "\n",
    "\n"
   ]
  },
  {
   "cell_type": "markdown",
   "metadata": {
    "id": "57eAOGIz_Zcs"
   },
   "source": [
    "Основной инструмент аналитика — `pandas`. Импортируйте эту библиотеку."
   ]
  },
  {
   "cell_type": "code",
   "execution_count": 1,
   "metadata": {
    "id": "AXN7PHPN_Zcs"
   },
   "outputs": [],
   "source": [
    "import pandas as pd"
   ]
  },
  {
   "cell_type": "markdown",
   "metadata": {
    "id": "SG23P8tt_Zcs"
   },
   "source": [
    "Прочитайте файл `yandex_music_project.csv` из папки `/datasets` и сохраните его в переменной `df`:"
   ]
  },
  {
   "cell_type": "code",
   "execution_count": 2,
   "metadata": {
    "id": "fFVu7vqh_Zct"
   },
   "outputs": [],
   "source": [
    "df = pd.read_csv('/datasets/yandex_music_project.csv')# чтение файла с данными и сохранение в df"
   ]
  },
  {
   "cell_type": "markdown",
   "metadata": {
    "id": "rDoOMd3uTqnZ"
   },
   "source": [
    "Выведите на экран первые десять строк таблицы:"
   ]
  },
  {
   "cell_type": "code",
   "execution_count": 3,
   "metadata": {
    "id": "oWTVX3gW_Zct"
   },
   "outputs": [
    {
     "data": {
      "text/html": [
       "<div>\n",
       "<style scoped>\n",
       "    .dataframe tbody tr th:only-of-type {\n",
       "        vertical-align: middle;\n",
       "    }\n",
       "\n",
       "    .dataframe tbody tr th {\n",
       "        vertical-align: top;\n",
       "    }\n",
       "\n",
       "    .dataframe thead th {\n",
       "        text-align: right;\n",
       "    }\n",
       "</style>\n",
       "<table border=\"1\" class=\"dataframe\">\n",
       "  <thead>\n",
       "    <tr style=\"text-align: right;\">\n",
       "      <th></th>\n",
       "      <th>userID</th>\n",
       "      <th>Track</th>\n",
       "      <th>artist</th>\n",
       "      <th>genre</th>\n",
       "      <th>City</th>\n",
       "      <th>time</th>\n",
       "      <th>Day</th>\n",
       "    </tr>\n",
       "  </thead>\n",
       "  <tbody>\n",
       "    <tr>\n",
       "      <td>0</td>\n",
       "      <td>FFB692EC</td>\n",
       "      <td>Kamigata To Boots</td>\n",
       "      <td>The Mass Missile</td>\n",
       "      <td>rock</td>\n",
       "      <td>Saint-Petersburg</td>\n",
       "      <td>20:28:33</td>\n",
       "      <td>Wednesday</td>\n",
       "    </tr>\n",
       "    <tr>\n",
       "      <td>1</td>\n",
       "      <td>55204538</td>\n",
       "      <td>Delayed Because of Accident</td>\n",
       "      <td>Andreas Rönnberg</td>\n",
       "      <td>rock</td>\n",
       "      <td>Moscow</td>\n",
       "      <td>14:07:09</td>\n",
       "      <td>Friday</td>\n",
       "    </tr>\n",
       "    <tr>\n",
       "      <td>2</td>\n",
       "      <td>20EC38</td>\n",
       "      <td>Funiculì funiculà</td>\n",
       "      <td>Mario Lanza</td>\n",
       "      <td>pop</td>\n",
       "      <td>Saint-Petersburg</td>\n",
       "      <td>20:58:07</td>\n",
       "      <td>Wednesday</td>\n",
       "    </tr>\n",
       "    <tr>\n",
       "      <td>3</td>\n",
       "      <td>A3DD03C9</td>\n",
       "      <td>Dragons in the Sunset</td>\n",
       "      <td>Fire + Ice</td>\n",
       "      <td>folk</td>\n",
       "      <td>Saint-Petersburg</td>\n",
       "      <td>08:37:09</td>\n",
       "      <td>Monday</td>\n",
       "    </tr>\n",
       "    <tr>\n",
       "      <td>4</td>\n",
       "      <td>E2DC1FAE</td>\n",
       "      <td>Soul People</td>\n",
       "      <td>Space Echo</td>\n",
       "      <td>dance</td>\n",
       "      <td>Moscow</td>\n",
       "      <td>08:34:34</td>\n",
       "      <td>Monday</td>\n",
       "    </tr>\n",
       "    <tr>\n",
       "      <td>5</td>\n",
       "      <td>842029A1</td>\n",
       "      <td>Преданная</td>\n",
       "      <td>IMPERVTOR</td>\n",
       "      <td>rusrap</td>\n",
       "      <td>Saint-Petersburg</td>\n",
       "      <td>13:09:41</td>\n",
       "      <td>Friday</td>\n",
       "    </tr>\n",
       "    <tr>\n",
       "      <td>6</td>\n",
       "      <td>4CB90AA5</td>\n",
       "      <td>True</td>\n",
       "      <td>Roman Messer</td>\n",
       "      <td>dance</td>\n",
       "      <td>Moscow</td>\n",
       "      <td>13:00:07</td>\n",
       "      <td>Wednesday</td>\n",
       "    </tr>\n",
       "    <tr>\n",
       "      <td>7</td>\n",
       "      <td>F03E1C1F</td>\n",
       "      <td>Feeling This Way</td>\n",
       "      <td>Polina Griffith</td>\n",
       "      <td>dance</td>\n",
       "      <td>Moscow</td>\n",
       "      <td>20:47:49</td>\n",
       "      <td>Wednesday</td>\n",
       "    </tr>\n",
       "    <tr>\n",
       "      <td>8</td>\n",
       "      <td>8FA1D3BE</td>\n",
       "      <td>И вновь продолжается бой</td>\n",
       "      <td>NaN</td>\n",
       "      <td>ruspop</td>\n",
       "      <td>Moscow</td>\n",
       "      <td>09:17:40</td>\n",
       "      <td>Friday</td>\n",
       "    </tr>\n",
       "    <tr>\n",
       "      <td>9</td>\n",
       "      <td>E772D5C0</td>\n",
       "      <td>Pessimist</td>\n",
       "      <td>NaN</td>\n",
       "      <td>dance</td>\n",
       "      <td>Saint-Petersburg</td>\n",
       "      <td>21:20:49</td>\n",
       "      <td>Wednesday</td>\n",
       "    </tr>\n",
       "  </tbody>\n",
       "</table>\n",
       "</div>"
      ],
      "text/plain": [
       "     userID                        Track            artist   genre  \\\n",
       "0  FFB692EC            Kamigata To Boots  The Mass Missile    rock   \n",
       "1  55204538  Delayed Because of Accident  Andreas Rönnberg    rock   \n",
       "2    20EC38            Funiculì funiculà       Mario Lanza     pop   \n",
       "3  A3DD03C9        Dragons in the Sunset        Fire + Ice    folk   \n",
       "4  E2DC1FAE                  Soul People        Space Echo   dance   \n",
       "5  842029A1                    Преданная         IMPERVTOR  rusrap   \n",
       "6  4CB90AA5                         True      Roman Messer   dance   \n",
       "7  F03E1C1F             Feeling This Way   Polina Griffith   dance   \n",
       "8  8FA1D3BE     И вновь продолжается бой               NaN  ruspop   \n",
       "9  E772D5C0                    Pessimist               NaN   dance   \n",
       "\n",
       "             City        time        Day  \n",
       "0  Saint-Petersburg  20:28:33  Wednesday  \n",
       "1            Moscow  14:07:09     Friday  \n",
       "2  Saint-Petersburg  20:58:07  Wednesday  \n",
       "3  Saint-Petersburg  08:37:09     Monday  \n",
       "4            Moscow  08:34:34     Monday  \n",
       "5  Saint-Petersburg  13:09:41     Friday  \n",
       "6            Moscow  13:00:07  Wednesday  \n",
       "7            Moscow  20:47:49  Wednesday  \n",
       "8            Moscow  09:17:40     Friday  \n",
       "9  Saint-Petersburg  21:20:49  Wednesday  "
      ]
     },
     "metadata": {},
     "output_type": "display_data"
    }
   ],
   "source": [
    "display(df.head(10))"
   ]
  },
  
  {
   "cell_type": "markdown",
   "metadata": {
    "id": "EO73Kwic_Zct"
   },
   "source": [
    "Одной командой получить общую информацию о таблице:"
   ]
  },
  {
   "cell_type": "code",
   "execution_count": 4,
   "metadata": {
    "id": "DSf2kIb-_Zct",
    "scrolled": true
   },
   "outputs": [
    {
     "name": "stdout",
     "output_type": "stream",
     "text": [
      "<class 'pandas.core.frame.DataFrame'>\n",
      "RangeIndex: 65079 entries, 0 to 65078\n",
      "Data columns (total 7 columns):\n",
      "  userID    65079 non-null object\n",
      "Track       63848 non-null object\n",
      "artist      57876 non-null object\n",
      "genre       63881 non-null object\n",
      "  City      65079 non-null object\n",
      "time        65079 non-null object\n",
      "Day         65079 non-null object\n",
      "dtypes: object(7)\n",
      "memory usage: 3.5+ MB\n"
     ]
    }
   ],
   "source": [
    "df.info()# получение общей информации о данных в таблице df"
   ]
  },
  
  {
   "cell_type": "markdown",
   "metadata": {
    "id": "TaQ2Iwbr_Zct"
   },
   "source": [
    "Итак, в таблице семь столбцов. Тип данных во всех столбцах — `object`.\n",
    "\n",
    "Согласно документации к данным:\n",
    "* `userID` — идентификатор пользователя;\n",
    "* `Track` — название трека;  \n",
    "* `artist` — имя исполнителя;\n",
    "* `genre` — название жанра;\n",
    "* `City` — город пользователя;\n",
    "* `time` — время начала прослушивания;\n",
    "* `Day` — день недели.\n",
    "\n",
    "В названиях колонок видны три нарушения стиля:\n",
    "1. Строчные буквы сочетаются с прописными.\n",
    "2. Встречаются пробелы.\n",
    "3. **Верблюжий регистр - в пременной userID нет разделителя \"_\"**\n",
    "\n",
    "\n",
    "\n",
    "Количество значений в столбцах различается. Значит, в данных есть пропущенные значения.\n"
   ]
  },
  
  {
   "cell_type": "markdown",
   "metadata": {
    "id": "MCB6-dXG_Zct"
   },
   "source": [
    "**Выводы**\n",
    "\n",
    "В каждой строке таблицы — данные о прослушанном треке. Часть колонок описывает саму композицию: название, исполнителя и жанр. Остальные данные рассказывают о пользователе: из какого он города, когда он слушал музыку. \n",
    "\n",
    "Предварительно можно утверждать, что, данных достаточно для проверки гипотез. Но встречаются пропуски в данных, а в названиях колонок — расхождения с хорошим стилем.\n",
    "\n",
    "Чтобы двигаться дальше, нужно устранить проблемы в данных."
   ]
  },
  {
   "cell_type": "markdown",
   "metadata": {
    "id": "SjYF6Ub9_Zct"
   },
   "source": [
    "## Предобработка данных\n",
    "Исправьте стиль в заголовках столбцов, исключите пропуски. Затем проверьте данные на дубликаты."
   ]
  },
  {
   "cell_type": "markdown",
   "metadata": {
    "id": "dIaKXr29_Zct"
   },
   "source": [
    "### Стиль заголовков\n",
    "Выведите на экран названия столбцов:"
   ]
  },
  {
   "cell_type": "code",
   "execution_count": 5,
   "metadata": {
    "id": "oKOTdF_Q_Zct"
   },
   "outputs": [
    {
     "data": {
      "text/plain": [
       "Index(['  userID', 'Track', 'artist', 'genre', '  City  ', 'time', 'Day'], dtype='object')"
      ]
     },
     "metadata": {},
     "output_type": "display_data"
    }
   ],
   "source": [
    "display(df.columns)# перечень названий столбцов таблицы df"
   ]
  },
  {
   "cell_type": "markdown",
   "metadata": {},
   "source": [
    "<div class=\"alert alert-success\">\n",
    "<h2> Комментарий ревьюера ✔️ <a class=\"tocSkip\"> </h2>\n",
    "\n",
    "`display()` в данном случае можно не использовать, так как df.columns последней строкой (даже единственной) в блоке и она все равно выведется на экран.\n"
   ]
  },
  {
   "cell_type": "markdown",
   "metadata": {
    "id": "zj5534cv_Zct"
   },
   "source": [
    "Приведите названия в соответствие с хорошим стилем:\n",
    "* несколько слов в названии запишите в «змеином_регистре»,\n",
    "* все символы сделайте строчными,\n",
    "* устраните пробелы.\n",
    "\n",
    "Для этого переименуйте колонки так:\n",
    "* `'  userID'` → `'user_id'`;\n",
    "* `'Track'` → `'track'`;\n",
    "* `'  City  '` → `'city'`;\n",
    "* `'Day'` → `'day'`."
   ]
  },
  {
   "cell_type": "code",
   "execution_count": 39,
   "metadata": {
    "id": "ISlFqs5y_Zct"
   },
   "outputs": [],
   "source": [
    "df = df.rename(columns = {'  userID':'user_id','Track':'track','  City  ':'city','Day':'day'})# переименование столбцов"
   ]
  },
  
  {
   "cell_type": "markdown",
   "metadata": {
    "id": "1dqbh00J_Zct"
   },
   "source": [
    "Проверьте результат. Для этого ещё раз выведите на экран названия столбцов:"
   ]
  },
  {
   "cell_type": "code",
   "execution_count": 7,
   "metadata": {
    "id": "d4NOAmTW_Zct",
    "scrolled": true
   },
   "outputs": [
    {
     "data": {
      "text/plain": [
       "Index(['user_id', 'track', 'artist', 'genre', 'city', 'time', 'day'], dtype='object')"
      ]
     },
     "metadata": {},
     "output_type": "display_data"
    }
   ],
   "source": [
    "display(df.columns)# проверка результатов - перечень названий столбцов"
   ]
  },
  {
   "cell_type": "markdown",
   "metadata": {
    "id": "5ISfbcfY_Zct"
   },
   "source": [
    "### Пропуски значений\n",
    "Сначала посчитайте, сколько в таблице пропущенных значений. Для этого достаточно двух методов `pandas`:"
   ]
  },
  {
   "cell_type": "code",
   "execution_count": 8,
   "metadata": {
    "id": "RskX29qr_Zct",
    "scrolled": true
   },
   "outputs": [
    {
     "data": {
      "text/plain": [
       "user_id       0\n",
       "track      1231\n",
       "artist     7203\n",
       "genre      1198\n",
       "city          0\n",
       "time          0\n",
       "day           0\n",
       "dtype: int64"
      ]
     },
     "execution_count": 8,
     "metadata": {},
     "output_type": "execute_result"
    }
   ],
   "source": [
    "df.isna().sum()# подсчёт пропусков"
   ]
  },
  
  {
   "cell_type": "markdown",
   "metadata": {
    "id": "qubhgnlO_Zct"
   },
   "source": [
    "Не все пропущенные значения влияют на исследование. Так в `track` и `artist` пропуски не важны для вашей работы. Достаточно заменить их явными обозначениями.\n",
    "\n",
    "Но пропуски в `genre` могут помешать сравнению музыкальных вкусов в Москве и Санкт-Петербурге. На практике было бы правильно установить причину пропусков и восстановить данные. Такой возможности нет в учебном проекте. Придётся:\n",
    "* заполнить и эти пропуски явными обозначениями,\n",
    "* оценить, насколько они повредят расчётам. "
   ]
  },
  {
   "cell_type": "markdown",
   "metadata": {
    "id": "fSv2laPA_Zct"
   },
   "source": [
    "Замените пропущенные значения в столбцах `track`, `artist` и `genre` на строку `'unknown'`. Для этого создайте список `columns_to_replace`, переберите его элементы циклом `for` и для каждого столбца выполните замену пропущенных значений:"
   ]
  },
  {
   "cell_type": "code",
   "execution_count": 9,
   "metadata": {
    "id": "KplB5qWs_Zct",
    "scrolled": true
   },
   "outputs": [],
   "source": [
    "# перебор названий столбцов в цикле и замена пропущенных значений на 'unknown'\n",
    "columns_to_replace = ['track', 'artist', 'genre']\n",
    "for i in columns_to_replace:\n",
    "    df[i] = df[i].fillna('unknown')"
   ]
  },
  
  {
   "cell_type": "markdown",
   "metadata": {
    "id": "Ilsm-MZo_Zct"
   },
   "source": [
    "Убедитесь, что в таблице не осталось пропусков. Для этого ещё раз посчитайте пропущенные значения."
   ]
  },
  {
   "cell_type": "code",
   "execution_count": 10,
   "metadata": {
    "id": "Tq4nYRX4_Zct"
   },
   "outputs": [
    {
     "data": {
      "text/plain": [
       "user_id    0\n",
       "track      0\n",
       "artist     0\n",
       "genre      0\n",
       "city       0\n",
       "time       0\n",
       "day        0\n",
       "dtype: int64"
      ]
     },
     "execution_count": 10,
     "metadata": {},
     "output_type": "execute_result"
    }
   ],
   "source": [
    "# подсчёт пропусков\n",
    "df.isna().sum()"
   ]
  },
  {
   "cell_type": "markdown",
   "metadata": {
    "id": "BWKRtBJ3_Zct"
   },
   "source": [
    "### Дубликаты\n",
    "Посчитайте явные дубликаты в таблице одной командой:"
   ]
  },
  {
   "cell_type": "code",
   "execution_count": 11,
   "metadata": {
    "id": "36eES_S0_Zct"
   },
   "outputs": [
    {
     "data": {
      "text/plain": [
       "3826"
      ]
     },
     "execution_count": 11,
     "metadata": {},
     "output_type": "execute_result"
    }
   ],
   "source": [
    "df.duplicated().sum()"
   ]
  },
  
  {
   "cell_type": "markdown",
   "metadata": {
    "id": "Ot25h6XR_Zct"
   },
   "source": [
    "Вызовите специальный метод `pandas`, чтобы удалить явные дубликаты:"
   ]
  },
  {
   "cell_type": "code",
   "execution_count": 12,
   "metadata": {
    "id": "exFHq6tt_Zct"
   },
   "outputs": [],
   "source": [
    "df = df.drop_duplicates().reset_index()# удаление явных дубликатов (с удалением старых индексов и формированием новых)"
   ]
  },
  
  {
   "cell_type": "markdown",
   "metadata": {
    "id": "Im2YwBEG_Zct"
   },
   "source": [
    "Ещё раз посчитайте явные дубликаты в таблице — убедитесь, что полностью от них избавились:"
   ]
  },
  {
   "cell_type": "code",
   "execution_count": 13,
   "metadata": {
    "id": "-8PuNWQ0_Zct"
   },
   "outputs": [
    {
     "data": {
      "text/plain": [
       "0"
      ]
     },
     "execution_count": 13,
     "metadata": {},
     "output_type": "execute_result"
    }
   ],
   "source": [
    "df.duplicated().sum()# проверка на отсутствие дубликатов"
   ]
  },
  {
   "cell_type": "markdown",
   "metadata": {
    "id": "QlFBsxAr_Zct"
   },
   "source": [
    "Теперь избавьтесь от неявных дубликатов в колонке `genre`. Например, название одного и того же жанра может быть записано немного по-разному. Такие ошибки тоже повлияют на результат исследования."
   ]
  },
  {
   "cell_type": "markdown",
   "metadata": {
    "id": "eSjWwsOh_Zct"
   },
   "source": [
    "Выведите на экран список уникальных названий жанров, отсортированный в алфавитном порядке. Для этого:\n",
    "* извлеките нужный столбец датафрейма, \n",
    "* примените к нему метод сортировки,\n",
    "* для отсортированного столбца вызовите метод, который вернёт уникальные значения из столбца."
   ]
  },
  {
   "cell_type": "code",
   "execution_count": 40,
   "metadata": {
    "id": "JIUcqzZN_Zct",
    "scrolled": true
   },
   "outputs": [
    {
     "data": {
      "text/plain": [
       "array(['acid', 'acoustic', 'action', 'adult', 'africa', 'afrikaans',\n",
       "       'alternative', 'alternativepunk', 'ambient', 'americana',\n",
       "       'animated', 'anime', 'arabesk', 'arabic', 'arena',\n",
       "       'argentinetango', 'art', 'audiobook', 'author', 'avantgarde',\n",
       "       'axé', 'baile', 'balkan', 'beats', 'bigroom', 'black', 'bluegrass',\n",
       "       'blues', 'bollywood', 'bossa', 'brazilian', 'breakbeat', 'breaks',\n",
       "       'broadway', 'cantautori', 'cantopop', 'canzone', 'caribbean',\n",
       "       'caucasian', 'celtic', 'chamber', 'chanson', 'children', 'chill',\n",
       "       'chinese', 'choral', 'christian', 'christmas', 'classical',\n",
       "       'classicmetal', 'club', 'colombian', 'comedy', 'conjazz',\n",
       "       'contemporary', 'country', 'cuban', 'dance', 'dancehall',\n",
       "       'dancepop', 'dark', 'death', 'deep', 'deutschrock', 'deutschspr',\n",
       "       'dirty', 'disco', 'dnb', 'documentary', 'downbeat', 'downtempo',\n",
       "       'drum', 'dub', 'dubstep', 'eastern', 'easy', 'electronic',\n",
       "       'electropop', 'emo', 'entehno', 'epicmetal', 'estrada', 'ethnic',\n",
       "       'eurofolk', 'european', 'experimental', 'extrememetal', 'fado',\n",
       "       'fairytail', 'film', 'fitness', 'flamenco', 'folk', 'folklore',\n",
       "       'folkmetal', 'folkrock', 'folktronica', 'forró', 'frankreich',\n",
       "       'französisch', 'french', 'funk', 'future', 'gangsta', 'garage',\n",
       "       'german', 'ghazal', 'gitarre', 'glitch', 'gospel', 'gothic',\n",
       "       'grime', 'grunge', 'gypsy', 'handsup', \"hard'n'heavy\", 'hardcore',\n",
       "       'hardstyle', 'hardtechno', 'hiphop', 'historisch', 'holiday',\n",
       "       'horror', 'house', 'hymn', 'idm', 'independent', 'indian', 'indie',\n",
       "       'indipop', 'industrial', 'inspirational', 'instrumental',\n",
       "       'international', 'irish', 'jam', 'japanese', 'jazz', 'jewish',\n",
       "       'jpop', 'jungle', 'k-pop', 'karadeniz', 'karaoke', 'kayokyoku',\n",
       "       'korean', 'laiko', 'latin', 'latino', 'leftfield', 'local',\n",
       "       'lounge', 'loungeelectronic', 'lovers', 'malaysian', 'mandopop',\n",
       "       'marschmusik', 'meditative', 'mediterranean', 'melodic', 'metal',\n",
       "       'metalcore', 'mexican', 'middle', 'minimal', 'miscellaneous',\n",
       "       'modern', 'mood', 'mpb', 'muslim', 'native', 'neoklassik', 'neue',\n",
       "       'new', 'newage', 'newwave', 'nu', 'nujazz', 'numetal', 'oceania',\n",
       "       'old', 'opera', 'orchestral', 'other', 'piano', 'podcasts', 'pop',\n",
       "       'popdance', 'popelectronic', 'popeurodance', 'poprussian', 'post',\n",
       "       'posthardcore', 'postrock', 'power', 'progmetal', 'progressive',\n",
       "       'psychedelic', 'punjabi', 'punk', 'quebecois', 'ragga', 'ram',\n",
       "       'rancheras', 'rap', 'rave', 'reggae', 'reggaeton', 'regional',\n",
       "       'relax', 'religious', 'retro', 'rhythm', 'rnb', 'rnr', 'rock',\n",
       "       'rockabilly', 'rockalternative', 'rockindie', 'rockother',\n",
       "       'romance', 'roots', 'ruspop', 'rusrap', 'rusrock', 'russian',\n",
       "       'salsa', 'samba', 'scenic', 'schlager', 'self', 'sertanejo',\n",
       "       'shanson', 'shoegazing', 'showtunes', 'singer', 'ska', 'skarock',\n",
       "       'slow', 'smooth', 'soft', 'soul', 'soulful', 'sound', 'soundtrack',\n",
       "       'southern', 'specialty', 'speech', 'spiritual', 'sport',\n",
       "       'stonerrock', 'surf', 'swing', 'synthpop', 'synthrock',\n",
       "       'sängerportrait', 'tango', 'tanzorchester', 'taraftar', 'tatar',\n",
       "       'tech', 'techno', 'teen', 'thrash', 'top', 'traditional',\n",
       "       'tradjazz', 'trance', 'tribal', 'trip', 'triphop', 'tropical',\n",
       "       'türk', 'türkçe', 'ukrrock', 'unknown', 'urban', 'uzbek',\n",
       "       'variété', 'vi', 'videogame', 'vocal', 'western', 'world',\n",
       "       'worldbeat', 'ïîï', 'электроника'], dtype=object)"
      ]
     },
     "metadata": {},
     "output_type": "display_data"
    }
   ],
   "source": [
    "display(df['genre'].sort_values().unique())\n",
    "# Просмотр уникальных названий жанров"
   ]
  },
  {
   "cell_type": "markdown",
   "metadata": {
    "id": "qej-Qmuo_Zct"
   },
   "source": [
    "Просмотрите список и найдите неявные дубликаты названия `hiphop`. Это могут быть названия с ошибками или альтернативные названия того же жанра.\n",
    "\n",
    "Вы увидите следующие неявные дубликаты:\n",
    "* *hip*,\n",
    "* *hop*,\n",
    "* *hip-hop*.\n",
    "\n",
    "Чтобы очистить от них таблицу, напишите функцию `replace_wrong_genres()` с двумя параметрами: \n",
    "* `wrong_genres` — список дубликатов,\n",
    "* `correct_genre` — строка с правильным значением.\n",
    "\n",
    "Функция должна исправить колонку `genre` в таблице `df`: заменить каждое значение из списка `wrong_genres` на значение из `correct_genre`."
   ]
  },
  {
   "cell_type": "code",
   "execution_count": 15,
   "metadata": {
    "id": "ErNDkmns_Zct"
   },
   "outputs": [],
   "source": [
    "# Функция для замены неявных дубликатов\n",
    "def replace_wrong_genres(wrong_genres,correct_genre):\n",
    "    for wrong_genre in wrong_genres:\n",
    "        df['genre'] = df['genre'].replace(wrong_genre,correct_genre)\n",
    "\n",
    "wrong_genres = ['hip','hop','hip-hop']\n",
    "correct_genre = 'hiphop'\n"
   ]
  },
  {
   "cell_type": "markdown",
   "metadata": {
    "id": "aDoBJxbA_Zct"
   },
   "source": [
    "Вызовите `replace_wrong_genres()` и передайте ей такие аргументы, чтобы она устранила неявные дубликаты: вместо `hip`, `hop` и `hip-hop` в таблице должно быть значение `hiphop`:"
   ]
  },
  {
   "cell_type": "code",
   "execution_count": 16,
   "metadata": {
    "id": "YN5i2hpmSo09"
   },
   "outputs": [],
   "source": [
    "# Устранение неявных дубликатов\n",
    "replace_wrong_genres(wrong_genres,correct_genre)"
   ]
  },
  
  {
   "cell_type": "markdown",
   "metadata": {
    "id": "zQKF16_RG15m"
   },
   "source": [
    "Проверьте, что заменили неправильные названия:\n",
    "\n",
    "*   hip\n",
    "*   hop\n",
    "*   hip-hop\n",
    "\n",
    "Выведите отсортированный список уникальных значений столбца `genre`:"
   ]
  },
  {
   "cell_type": "code",
   "execution_count": 41,
   "metadata": {
    "id": "wvixALnFG15m"
   },
   "outputs": [
    {
     "data": {
      "text/plain": [
       "array(['acid', 'acoustic', 'action', 'adult', 'africa', 'afrikaans',\n",
       "       'alternative', 'alternativepunk', 'ambient', 'americana',\n",
       "       'animated', 'anime', 'arabesk', 'arabic', 'arena',\n",
       "       'argentinetango', 'art', 'audiobook', 'author', 'avantgarde',\n",
       "       'axé', 'baile', 'balkan', 'beats', 'bigroom', 'black', 'bluegrass',\n",
       "       'blues', 'bollywood', 'bossa', 'brazilian', 'breakbeat', 'breaks',\n",
       "       'broadway', 'cantautori', 'cantopop', 'canzone', 'caribbean',\n",
       "       'caucasian', 'celtic', 'chamber', 'chanson', 'children', 'chill',\n",
       "       'chinese', 'choral', 'christian', 'christmas', 'classical',\n",
       "       'classicmetal', 'club', 'colombian', 'comedy', 'conjazz',\n",
       "       'contemporary', 'country', 'cuban', 'dance', 'dancehall',\n",
       "       'dancepop', 'dark', 'death', 'deep', 'deutschrock', 'deutschspr',\n",
       "       'dirty', 'disco', 'dnb', 'documentary', 'downbeat', 'downtempo',\n",
       "       'drum', 'dub', 'dubstep', 'eastern', 'easy', 'electronic',\n",
       "       'electropop', 'emo', 'entehno', 'epicmetal', 'estrada', 'ethnic',\n",
       "       'eurofolk', 'european', 'experimental', 'extrememetal', 'fado',\n",
       "       'fairytail', 'film', 'fitness', 'flamenco', 'folk', 'folklore',\n",
       "       'folkmetal', 'folkrock', 'folktronica', 'forró', 'frankreich',\n",
       "       'französisch', 'french', 'funk', 'future', 'gangsta', 'garage',\n",
       "       'german', 'ghazal', 'gitarre', 'glitch', 'gospel', 'gothic',\n",
       "       'grime', 'grunge', 'gypsy', 'handsup', \"hard'n'heavy\", 'hardcore',\n",
       "       'hardstyle', 'hardtechno', 'hiphop', 'historisch', 'holiday',\n",
       "       'horror', 'house', 'hymn', 'idm', 'independent', 'indian', 'indie',\n",
       "       'indipop', 'industrial', 'inspirational', 'instrumental',\n",
       "       'international', 'irish', 'jam', 'japanese', 'jazz', 'jewish',\n",
       "       'jpop', 'jungle', 'k-pop', 'karadeniz', 'karaoke', 'kayokyoku',\n",
       "       'korean', 'laiko', 'latin', 'latino', 'leftfield', 'local',\n",
       "       'lounge', 'loungeelectronic', 'lovers', 'malaysian', 'mandopop',\n",
       "       'marschmusik', 'meditative', 'mediterranean', 'melodic', 'metal',\n",
       "       'metalcore', 'mexican', 'middle', 'minimal', 'miscellaneous',\n",
       "       'modern', 'mood', 'mpb', 'muslim', 'native', 'neoklassik', 'neue',\n",
       "       'new', 'newage', 'newwave', 'nu', 'nujazz', 'numetal', 'oceania',\n",
       "       'old', 'opera', 'orchestral', 'other', 'piano', 'podcasts', 'pop',\n",
       "       'popdance', 'popelectronic', 'popeurodance', 'poprussian', 'post',\n",
       "       'posthardcore', 'postrock', 'power', 'progmetal', 'progressive',\n",
       "       'psychedelic', 'punjabi', 'punk', 'quebecois', 'ragga', 'ram',\n",
       "       'rancheras', 'rap', 'rave', 'reggae', 'reggaeton', 'regional',\n",
       "       'relax', 'religious', 'retro', 'rhythm', 'rnb', 'rnr', 'rock',\n",
       "       'rockabilly', 'rockalternative', 'rockindie', 'rockother',\n",
       "       'romance', 'roots', 'ruspop', 'rusrap', 'rusrock', 'russian',\n",
       "       'salsa', 'samba', 'scenic', 'schlager', 'self', 'sertanejo',\n",
       "       'shanson', 'shoegazing', 'showtunes', 'singer', 'ska', 'skarock',\n",
       "       'slow', 'smooth', 'soft', 'soul', 'soulful', 'sound', 'soundtrack',\n",
       "       'southern', 'specialty', 'speech', 'spiritual', 'sport',\n",
       "       'stonerrock', 'surf', 'swing', 'synthpop', 'synthrock',\n",
       "       'sängerportrait', 'tango', 'tanzorchester', 'taraftar', 'tatar',\n",
       "       'tech', 'techno', 'teen', 'thrash', 'top', 'traditional',\n",
       "       'tradjazz', 'trance', 'tribal', 'trip', 'triphop', 'tropical',\n",
       "       'türk', 'türkçe', 'ukrrock', 'unknown', 'urban', 'uzbek',\n",
       "       'variété', 'vi', 'videogame', 'vocal', 'western', 'world',\n",
       "       'worldbeat', 'ïîï', 'электроника'], dtype=object)"
      ]
     },
     "metadata": {},
     "output_type": "display_data"
    }
   ],
   "source": [
    "# Проверка на неявные дубликаты\n",
    "display(df['genre'].sort_values().unique())"
   ]
  },
  {
   "cell_type": "markdown",
   "metadata": {
    "id": "jz6a9-7HQUDd"
   },
   "source": [
    "**Выводы**\n",
    "\n",
    "Предобработка обнаружила три проблемы в данных:\n",
    "\n",
    "- нарушения в стиле заголовков,\n",
    "- пропущенные значения,\n",
    "- дубликаты — явные и неявные.\n",
    "\n",
    "Вы исправили заголовки, чтобы упростить работу с таблицей. Без дубликатов исследование станет более точным.\n",
    "\n",
    "Пропущенные значения вы заменили на `'unknown'`. Ещё предстоит увидеть, не повредят ли исследованию пропуски в колонке `genre`.\n",
    "\n",
    "Теперь можно перейти к проверке гипотез. "
   ]
  },
  
  {
   "cell_type": "markdown",
   "metadata": {
    "id": "WttZHXH0SqKk"
   },
   "source": [
    "## Проверка гипотез"
   ]
  },
  {
   "cell_type": "markdown",
   "metadata": {
    "id": "Im936VVi_Zcu"
   },
   "source": [
    "### Сравнение поведения пользователей двух столиц"
   ]
  },
  {
   "cell_type": "markdown",
   "metadata": {
    "id": "nwt_MuaL_Zcu"
   },
   "source": [
    "Первая гипотеза утверждает, что пользователи по-разному слушают музыку в Москве и Санкт-Петербурге. Проверьте это предположение по данным о трёх днях недели — понедельнике, среде и пятнице. Для этого:\n",
    "\n",
    "* Разделите пользователей Москвы и Санкт-Петербурга\n",
    "* Сравните, сколько треков послушала каждая группа пользователей в понедельник, среду и пятницу.\n"
   ]
  },
  {
   "cell_type": "markdown",
   "metadata": {
    "id": "8Dw_YMmT_Zcu"
   },
   "source": [
    "Для тренировки сначала выполните каждый из расчётов по отдельности. \n",
    "\n",
    "Оцените активность пользователей в каждом городе. Сгруппируйте данные по городу и посчитайте прослушивания в каждой группе.\n",
    "\n"
   ]
  },
  {
   "cell_type": "code",
   "execution_count": 42,
   "metadata": {
    "id": "0_Qs96oh_Zcu",
    "scrolled": true
   },
   "outputs": [
    {
     "data": {
      "text/plain": [
       "city\n",
       "Moscow              42741\n",
       "Saint-Petersburg    18512\n",
       "Name: genre, dtype: int64"
      ]
     },
     "execution_count": 42,
     "metadata": {},
     "output_type": "execute_result"
    }
   ],
   "source": [
    "# Подсчёт прослушиваний в каждом городе\n",
    "df.groupby('city')['genre'].count()"
   ]
  },
  {
   "cell_type": "markdown",
   "metadata": {
    "id": "dzli3w8o_Zcu"
   },
   "source": [
    "В Москве прослушиваний больше, чем в Петербурге. Из этого не следует, что московские пользователи чаще слушают музыку. Просто самих пользователей в Москве больше.\n",
    "\n",
    "Теперь сгруппируйте данные по дню недели и подсчитайте прослушивания в понедельник, среду и пятницу. Учтите, что в данных есть информация только о прослушиваниях только за эти дни.\n"
   ]
  },
  {
   "cell_type": "code",
   "execution_count": 43,
   "metadata": {
    "id": "uZMKjiJz_Zcu"
   },
   "outputs": [
    {
     "data": {
      "text/plain": [
       "day\n",
       "Friday       21840\n",
       "Monday       21354\n",
       "Wednesday    18059\n",
       "Name: genre, dtype: int64"
      ]
     },
     "execution_count": 43,
     "metadata": {},
     "output_type": "execute_result"
    }
   ],
   "source": [
    "# Подсчёт прослушиваний в каждый из трёх дней\n",
    "df.groupby('day')['genre'].count()"
   ]
  },
  {
   "cell_type": "markdown",
   "metadata": {
    "id": "cC2tNrlL_Zcu"
   },
   "source": [
    "В среднем пользователи из двух городов менее активны по средам. Но картина может измениться, если рассмотреть каждый город в отдельности."
   ]
  },
  {
   "cell_type": "markdown",
   "metadata": {
    "id": "POzs8bGa_Zcu"
   },
   "source": [
    "Вы видели, как работает группировка по городу и по дням недели. Теперь напишите функцию, которая объединит два эти расчёта.\n",
    "\n",
    "Создайте функцию `number_tracks()`, которая посчитает прослушивания для заданного дня и города. Ей понадобятся два параметра:\n",
    "* день недели,\n",
    "* название города.\n",
    "\n",
    "В функции сохраните в переменную строки исходной таблицы, у которых значение:\n",
    "  * в колонке `day` равно параметру `day`,\n",
    "  * в колонке `city` равно параметру `city`.\n",
    "\n",
    "Для этого примените последовательную фильтрацию с логической индексацией.\n",
    "\n",
    "Затем посчитайте значения в столбце `user_id` получившейся таблицы. Результат сохраните в новую переменную. Верните эту переменную из функции."
   ]
  },
  {
   "cell_type": "code",
   "execution_count": 20,
   "metadata": {
    "id": "Nz3GdQB1_Zcu"
   },
   "outputs": [],
   "source": [
    "# <создание функции number_tracks()>\n",
    "def number_tracks(day, city): # Объявляется функция с двумя параметрами: day, city.\n",
    "    track_list = df[df['day'] == day]# В переменной track_list сохраняются те строки таблицы df, для которых\n",
    "    # значение в столбце 'day' равно параметру day и одновременно значение\n",
    "    track_list = track_list[track_list['city'] == city] # в столбце 'city' равно параметру city (используйте последовательную фильтрацию\n",
    "    # с помощью логической индексации).\n",
    "    track_list_count = track_list['user_id'].count() # В переменной track_list_count сохраняется число значений столбца 'user_id',\n",
    "    # рассчитанное методом count() для таблицы track_list.\n",
    "    return track_list_count # Функция возвращает число - значение track_list_count.\n",
    "\n",
    "# Функция для подсчёта прослушиваний для конкретного города и дня.\n",
    "# С помощью последовательной фильтрации с логической индексацией она \n",
    "# сначала получит из исходной таблицы строки с нужным днём,\n",
    "# затем из результата отфильтрует строки с нужным городом,\n",
    "# методом count() посчитает количество значений в колонке user_id. \n",
    "# Это количество функция вернёт в качестве результата"
   ]
  },
  
  {
   "cell_type": "markdown",
   "metadata": {
    "id": "ytf7xFrFJQ2r"
   },
   "source": [
    "Вызовите `number_tracks()` шесть раз, меняя значение параметров — так, чтобы получить данные для каждого города в каждый из трёх дней."
   ]
  },
  {
   "cell_type": "code",
   "execution_count": 44,
   "metadata": {
    "id": "rJcRATNQ_Zcu"
   },
   "outputs": [
    {
     "data": {
      "text/plain": [
       "15740"
      ]
     },
     "execution_count": 44,
     "metadata": {},
     "output_type": "execute_result"
    }
   ],
   "source": [
    "# количество прослушиваний в Москве по понедельникам\n",
    "number_tracks('Monday', 'Moscow')\n"
   ]
  },
  {
   "cell_type": "code",
   "execution_count": 22,
   "metadata": {
    "id": "hq_ncZ5T_Zcu"
   },
   "outputs": [
    {
     "data": {
      "text/plain": [
       "5614"
      ]
     },
     "execution_count": 22,
     "metadata": {},
     "output_type": "execute_result"
    }
   ],
   "source": [
    "# количество прослушиваний в Санкт-Петербурге по понедельникам\n",
    "number_tracks('Monday', 'Saint-Petersburg')"
   ]
  },
  {
   "cell_type": "code",
   "execution_count": 45,
   "metadata": {
    "id": "_NTy2VPU_Zcu"
   },
   "outputs": [
    {
     "data": {
      "text/plain": [
       "11056"
      ]
     },
     "execution_count": 45,
     "metadata": {},
     "output_type": "execute_result"
    }
   ],
   "source": [
    "# количество прослушиваний в Москве по средам\n",
    "number_tracks('Wednesday', 'Moscow')"
   ]
  },
  {
   "cell_type": "code",
   "execution_count": 24,
   "metadata": {
    "id": "j2y3TAwo_Zcu"
   },
   "outputs": [
    {
     "data": {
      "text/plain": [
       "7003"
      ]
     },
     "execution_count": 24,
     "metadata": {},
     "output_type": "execute_result"
    }
   ],
   "source": [
    "# количество прослушиваний в Санкт-Петербурге по средам\n",
    "number_tracks('Wednesday', 'Saint-Petersburg')"
   ]
  },
  {
   "cell_type": "code",
   "execution_count": 46,
   "metadata": {
    "id": "vYDw5u_K_Zcu"
   },
   "outputs": [
    {
     "data": {
      "text/plain": [
       "15945"
      ]
     },
     "execution_count": 46,
     "metadata": {},
     "output_type": "execute_result"
    }
   ],
   "source": [
    "# количество прослушиваний в Москве по пятницам\n",
    "number_tracks('Friday', 'Moscow')"
   ]
  },
  {
   "cell_type": "code",
   "execution_count": 26,
   "metadata": {
    "id": "8_yzFtW3_Zcu"
   },
   "outputs": [
    {
     "data": {
      "text/plain": [
       "5895"
      ]
     },
     "execution_count": 26,
     "metadata": {},
     "output_type": "execute_result"
    }
   ],
   "source": [
    "# количество прослушиваний в Санкт-Петербурге по пятницам\n",
    "number_tracks('Friday', 'Saint-Petersburg')"
   ]
  },
  
  {
   "cell_type": "markdown",
   "metadata": {
    "id": "7QXffbO-_Zcu"
   },
   "source": [
    "Создайте c помощью конструктора `pd.DataFrame` таблицу, где\n",
    "* названия колонок — `['city', 'monday', 'wednesday', 'friday']`;\n",
    "* данные — результаты, которые вы получили с помощью `number_tracks`."
   ]
  },
  {
   "cell_type": "code",
   "execution_count": 27,
   "metadata": {
    "id": "APAcLpOr_Zcu"
   },
   "outputs": [
    {
     "data": {
      "text/html": [
       "<div>\n",
       "<style scoped>\n",
       "    .dataframe tbody tr th:only-of-type {\n",
       "        vertical-align: middle;\n",
       "    }\n",
       "\n",
       "    .dataframe tbody tr th {\n",
       "        vertical-align: top;\n",
       "    }\n",
       "\n",
       "    .dataframe thead th {\n",
       "        text-align: right;\n",
       "    }\n",
       "</style>\n",
       "<table border=\"1\" class=\"dataframe\">\n",
       "  <thead>\n",
       "    <tr style=\"text-align: right;\">\n",
       "      <th></th>\n",
       "      <th>city</th>\n",
       "      <th>monday</th>\n",
       "      <th>wednesday</th>\n",
       "      <th>friday</th>\n",
       "    </tr>\n",
       "  </thead>\n",
       "  <tbody>\n",
       "    <tr>\n",
       "      <td>0</td>\n",
       "      <td>Moscow</td>\n",
       "      <td>15740</td>\n",
       "      <td>11056</td>\n",
       "      <td>15945</td>\n",
       "    </tr>\n",
       "    <tr>\n",
       "      <td>1</td>\n",
       "      <td>Saint-Petersburg</td>\n",
       "      <td>5614</td>\n",
       "      <td>7003</td>\n",
       "      <td>5895</td>\n",
       "    </tr>\n",
       "  </tbody>\n",
       "</table>\n",
       "</div>"
      ],
      "text/plain": [
       "               city  monday  wednesday  friday\n",
       "0            Moscow   15740      11056   15945\n",
       "1  Saint-Petersburg    5614       7003    5895"
      ]
     },
     "metadata": {},
     "output_type": "display_data"
    }
   ],
   "source": [
    "# Таблица с результатами\n",
    "\n",
    "\n",
    "data = [ \n",
    "    ['Moscow', 15740, 11056, 15945],\n",
    "    ['Saint-Petersburg', 5614, 7003, 5895],\n",
    "    \n",
    "]    \n",
    "\n",
    "columns = ['city', 'monday', 'wednesday', 'friday']\n",
    "\n",
    "table = pd.DataFrame(data = data, columns = columns)\n",
    "display(table)"
   ]
  },
 
  {
   "cell_type": "markdown",
   "metadata": {
    "id": "-EgPIHYu_Zcu"
   },
   "source": [
    "**Выводы**\n",
    "\n",
    "Данные показывают разницу поведения пользователей:\n",
    "\n",
    "- В Москве пик прослушиваний приходится на понедельник и пятницу, а в среду заметен спад.\n",
    "- В Петербурге, наоборот, больше слушают музыку по средам. Активность в понедельник и пятницу здесь почти в равной мере уступает среде.\n",
    "\n",
    "Значит, данные говорят в пользу первой гипотезы."
   ]
  },
  {
   "cell_type": "markdown",
   "metadata": {
    "id": "atZAxtq4_Zcu"
   },
   "source": [
    "### Музыка в начале и в конце недели"
   ]
  },
  {
   "cell_type": "markdown",
   "metadata": {
    "id": "eXrQqXFH_Zcu"
   },
   "source": [
    "Согласно второй гипотезе, утром в понедельник в Москве преобладают одни жанры, а в Петербурге — другие. Так же и вечером пятницы преобладают разные жанры — в зависимости от города."
   ]
  },
  {
   "cell_type": "markdown",
   "metadata": {
    "id": "S8UcW6Hw_Zcu"
   },
   "source": [
    "Сохраните таблицы с данными в две переменные:\n",
    "* по Москве — в `moscow_general`;\n",
    "* по Санкт-Петербургу — в `spb_general`."
   ]
  },
  {
   "cell_type": "code",
   "execution_count": 47,
   "metadata": {
    "id": "qeaFfM_P_Zcu"
   },
   "outputs": [],
   "source": [
    "# получение таблицы moscow_general из тех строк таблицы df, \n",
    "# для которых значение в столбце 'city' равно 'Moscow'\n",
    "moscow_general = df[df['city'] == 'Moscow']"
   ]
  },
  {
   "cell_type": "code",
   "execution_count": 48,
   "metadata": {
    "id": "ORaVRKto_Zcu"
   },
   "outputs": [],
   "source": [
    "# получение таблицы spb_general из тех строк таблицы df,\n",
    "# для которых значение в столбце 'city' равно 'Saint-Petersburg'\n",
    "spb_general = df[df['city'] == 'Saint-Petersburg']"
   ]
  },
  {
   "cell_type": "markdown",
   "metadata": {
    "id": "MEJV-CX2_Zcu"
   },
   "source": [
    "Создайте функцию `genre_weekday()` с четырьмя параметрами:\n",
    "* таблица (датафрейм) с данными,\n",
    "* день недели,\n",
    "* начальная временная метка в формате 'hh:mm', \n",
    "* последняя временная метка в формате 'hh:mm'.\n",
    "\n",
    "Функция должна вернуть информацию о топ-10 жанров тех треков, которые прослушивали в указанный день, в промежутке между двумя отметками времени."
   ]
  },
  {
   "cell_type": "code",
   "execution_count": 30,
   "metadata": {
    "id": "laJT9BYl_Zcu"
   },
   "outputs": [],
   "source": [
    "# Объявление функции genre_weekday() с параметрами table, day, time1, time2,\n",
    "# которая возвращает информацию о самых популярных жанрах в указанный день в\n",
    "# заданное время:\n",
    "# 1) в переменную genre_df сохраняются те строки переданного датафрейма table, для\n",
    "#    которых одновременно:\n",
    "#    - значение в столбце day равно значению аргумента day\n",
    "#    - значение в столбце time больше значения аргумента time1\n",
    "#    - значение в столбце time меньше значения аргумента time2\n",
    "#    Используйте последовательную фильтрацию с помощью логической индексации.\n",
    "# 2) сгруппировать датафрейм genre_df по столбцу genre, взять один из его\n",
    "#    столбцов и посчитать методом count() количество записей для каждого из\n",
    "#    присутствующих жанров, получившийся Series записать в переменную\n",
    "#    genre_df_count\n",
    "# 3) отсортировать genre_df_count по убыванию встречаемости и сохранить\n",
    "#    в переменную genre_df_sorted\n",
    "# 4) вернуть Series из 10 первых значений genre_df_sorted, это будут топ-10\n",
    "#    популярных жанров (в указанный день, в заданное время)\n",
    "\n",
    "def genre_weekday(table, day, time1, time2):\n",
    "    genre_df = table[table['day'] == day]\n",
    "    genre_df = table[table['time'] > time1]\n",
    "    genre_df = table[table['time'] < time2]\n",
    "    genre_df_count = genre_df.groupby('genre')['genre'].count()\n",
    "    genre_df_sorted = genre_df_count.sort_values(ascending = False)\n",
    "    return genre_df_sorted.head(10)"
   ]
  },
  
  {
   "cell_type": "markdown",
   "metadata": {
    "id": "la2s2_PF_Zcu"
   },
   "source": [
    "Cравните результаты функции `genre_weekday()` для Москвы и Санкт-Петербурга в понедельник утром (с 7:00 до 11:00) и в пятницу вечером (с 17:00 до 23:00):"
   ]
  },
  {
   "cell_type": "code",
   "execution_count": 49,
   "metadata": {
    "id": "yz7itPUQ_Zcu"
   },
   "outputs": [
    {
     "data": {
      "text/plain": [
       "genre\n",
       "pop            2015\n",
       "dance          1444\n",
       "rock           1259\n",
       "electronic     1249\n",
       "hiphop          709\n",
       "ruspop          510\n",
       "classical       473\n",
       "world           439\n",
       "alternative     436\n",
       "rusrap          406\n",
       "Name: genre, dtype: int64"
      ]
     },
     "execution_count": 49,
     "metadata": {},
     "output_type": "execute_result"
    }
   ],
   "source": [
    "# вызов функции для утра понедельника в Москве (вместо df — таблица moscow_general)\n",
    "# объекты, хранящие время, являются строками и сравниваются как строки\n",
    "# пример вызова: genre_weekday(moscow_general, 'Monday', '07:00', '11:00')\n",
    "genre_weekday(moscow_general, 'Monday', '07:00', '11:00')"
   ]
  },
  {
   "cell_type": "code",
   "execution_count": 50,
   "metadata": {
    "id": "kwUcHPdy_Zcu"
   },
   "outputs": [
    {
     "data": {
      "text/plain": [
       "genre\n",
       "pop            701\n",
       "dance          606\n",
       "rock           520\n",
       "electronic     519\n",
       "hiphop         288\n",
       "rusrap         195\n",
       "alternative    184\n",
       "ruspop         174\n",
       "classical      155\n",
       "world          130\n",
       "Name: genre, dtype: int64"
      ]
     },
     "execution_count": 50,
     "metadata": {},
     "output_type": "execute_result"
    }
   ],
   "source": [
    "# вызов функции для утра понедельника в Петербурге (вместо df — таблица spb_general)\n",
    "genre_weekday(spb_general, 'Monday', '07:00', '11:00')"
   ]
  },
  {
   "cell_type": "code",
   "execution_count": 51,
   "metadata": {
    "id": "EzXVRE1o_Zcu"
   },
   "outputs": [
    {
     "data": {
      "text/plain": [
       "genre\n",
       "pop            5892\n",
       "dance          4435\n",
       "rock           3965\n",
       "electronic     3786\n",
       "hiphop         2096\n",
       "classical      1616\n",
       "world          1432\n",
       "alternative    1379\n",
       "ruspop         1372\n",
       "rusrap         1161\n",
       "Name: genre, dtype: int64"
      ]
     },
     "execution_count": 51,
     "metadata": {},
     "output_type": "execute_result"
    }
   ],
   "source": [
    "# вызов функции для вечера пятницы в Москве\n",
    "genre_weekday(moscow_general, 'Friday', '17:00', '23:00')"
   ]
  },
  {
   "cell_type": "code",
   "execution_count": 34,
   "metadata": {
    "id": "JZaEKu5v_Zcu"
   },
   "outputs": [
    {
     "data": {
      "text/plain": [
       "genre\n",
       "pop            2431\n",
       "dance          1932\n",
       "rock           1879\n",
       "electronic     1736\n",
       "hiphop          960\n",
       "alternative     649\n",
       "classical       646\n",
       "rusrap          564\n",
       "ruspop          538\n",
       "world           515\n",
       "Name: genre, dtype: int64"
      ]
     },
     "execution_count": 34,
     "metadata": {},
     "output_type": "execute_result"
    }
   ],
   "source": [
    "# вызов функции для вечера пятницы в Петербурге\n",
    "genre_weekday(spb_general, 'Friday', '17:00', '23:00')"
   ]
  },
  
  {
   "cell_type": "markdown",
   "metadata": {
    "id": "wrCe4MNX_Zcu"
   },
   "source": [
    "**Выводы**\n",
    "\n",
    "Если сравнить топ-10 жанров в понедельник утром, можно сделать такие выводы:\n",
    "\n",
    "1. В Москве и Петербурге слушают похожую музыку. Единственное отличие — в московский рейтинг вошёл жанр “world”, а в петербургский — джаз и классика.\n",
    "\n",
    "2. В Москве пропущенных значений оказалось так много, что значение `'unknown'` заняло десятое место среди самых популярных жанров. Значит, пропущенные значения занимают существенную долю в данных и угрожают достоверности исследования.\n",
    "\n",
    "Вечер пятницы не меняет эту картину. Некоторые жанры поднимаются немного выше, другие спускаются, но в целом топ-10 остаётся тем же самым.\n",
    "\n",
    "Таким образом, вторая гипотеза подтвердилась лишь частично:\n",
    "* Пользователи слушают похожую музыку в начале недели и в конце.\n",
    "* Разница между Москвой и Петербургом не слишком выражена. В Москве чаще слушают русскую популярную музыку, в Петербурге — джаз.\n",
    "\n",
    "Однако пропуски в данных ставят под сомнение этот результат. В Москве их так много, что рейтинг топ-10 мог бы выглядеть иначе, если бы не утерянные  данные о жанрах."
   ]
  },
  {
   "cell_type": "markdown",
   "metadata": {
    "id": "JolODAqr_Zcu"
   },
   "source": [
    "### Жанровые предпочтения в Москве и Петербурге\n",
    "\n",
    "Гипотеза: Петербург — столица рэпа, музыку этого жанра там слушают чаще, чем в Москве.  А Москва — город контрастов, в котором, тем не менее, преобладает поп-музыка."
   ]
  },
  {
   "cell_type": "markdown",
   "metadata": {
    "id": "DlegSvaT_Zcu"
   },
   "source": [
    "Сгруппируйте таблицу `moscow_general` по жанру и посчитайте прослушивания треков каждого жанра методом `count()`. Затем отсортируйте результат в порядке убывания и сохраните его в таблице `moscow_genres`."
   ]
  },
  {
   "cell_type": "code",
   "execution_count": 52,
   "metadata": {
    "id": "r19lIPke_Zcu"
   },
   "outputs": [],
   "source": [
    "# одной строкой: группировка таблицы moscow_general по столбцу 'genre', \n",
    "# подсчёт числа значений 'genre' в этой группировке методом count(), \n",
    "# сортировка получившегося Series в порядке убывания и сохранение в moscow_genres\n",
    "moscow_genres = moscow_general.groupby('genre')['genre'].count().sort_values(ascending = False)"
   ]
  },
  {
   "cell_type": "markdown",
   "metadata": {
    "id": "6kMuomxTiIr8"
   },
   "source": [
    "Выведите на экран первые десять строк `moscow_genres`:"
   ]
  },
  {
   "cell_type": "code",
   "execution_count": 36,
   "metadata": {
    "id": "WhCSooF8_Zcv"
   },
   "outputs": [
    {
     "data": {
      "text/plain": [
       "genre\n",
       "pop            5892\n",
       "dance          4435\n",
       "rock           3965\n",
       "electronic     3786\n",
       "hiphop         2096\n",
       "classical      1616\n",
       "world          1432\n",
       "alternative    1379\n",
       "ruspop         1372\n",
       "rusrap         1161\n",
       "Name: genre, dtype: int64"
      ]
     },
     "metadata": {},
     "output_type": "display_data"
    }
   ],
   "source": [
    "# просмотр первых 10 строк moscow_genres\n",
    "display(moscow_genres.head(10))"
   ]
  },
  
  {
   "cell_type": "markdown",
   "metadata": {
    "id": "cnPG2vnN_Zcv"
   },
   "source": [
    "Теперь повторите то же и для Петербурга.\n",
    "\n",
    "Сгруппируйте таблицу `spb_general` по жанру. Посчитайте прослушивания треков каждого жанра. Результат отсортируйте в порядке убывания и сохраните в таблице `spb_genres`:\n"
   ]
  },
  {
   "cell_type": "code",
   "execution_count": 53,
   "metadata": {
    "id": "gluLIpE7_Zcv"
   },
   "outputs": [],
   "source": [
    "# одной строкой: группировка таблицы spb_general по столбцу 'genre', \n",
    "# подсчёт числа значений 'genre' в этой группировке методом count(), \n",
    "# сортировка получившегося Series в порядке убывания и сохранение в spb_genres\n",
    "spb_genres = spb_general.groupby('genre')['genre'].count().sort_values(ascending = False)"
   ]
  },
  {
   "cell_type": "markdown",
   "metadata": {
    "id": "5Doha_ODgyQ8"
   },
   "source": [
    "Выведите на экран первые десять строк `spb_genres`:"
   ]
  },
  {
   "cell_type": "code",
   "execution_count": 54,
   "metadata": {
    "id": "uaGJHjVU_Zcv"
   },
   "outputs": [
    {
     "data": {
      "text/plain": [
       "genre\n",
       "pop            2431\n",
       "dance          1932\n",
       "rock           1879\n",
       "electronic     1736\n",
       "hiphop          960\n",
       "alternative     649\n",
       "classical       646\n",
       "rusrap          564\n",
       "ruspop          538\n",
       "world           515\n",
       "Name: genre, dtype: int64"
      ]
     },
     "metadata": {},
     "output_type": "display_data"
    }
   ],
   "source": [
    "# просмотр первых 10 строк spb_genres\n",
    "display(spb_genres.head(10))"
   ]
  },
  {
   "cell_type": "markdown",
   "metadata": {
    "id": "RY51YJYu_Zcv"
   },
   "source": [
    "**Выводы**"
   ]
  },
  {
   "cell_type": "markdown",
   "metadata": {
    "id": "nVhnJEm__Zcv"
   },
   "source": [
    "Гипотеза частично подтвердилась:\n",
    "* Поп-музыка — самый популярный жанр в Москве, как и предполагала гипотеза. Более того, в топ-10 жанров встречается близкий жанр — русская популярная музыка.\n",
    "* Вопреки ожиданиям, рэп одинаково популярен в Москве и Петербурге. \n"
   ]
  },
  {
   "cell_type": "markdown",
   "metadata": {
    "id": "ykKQ0N65_Zcv"
   },
   "source": [
    "## Итоги исследования"
   ]
  },
  {
   "cell_type": "markdown",
   "metadata": {
    "id": "tjUwbHb3_Zcv"
   },
   "source": [
    "Вы проверили три гипотезы и установили:\n",
    "\n",
    "1. День недели по-разному влияет на активность пользователей в Москве и Петербурге. \n",
    "\n",
    "Первая гипотеза полностью подтвердилась.\n",
    "\n",
    "2. Музыкальные предпочтения не сильно меняются в течение недели — будь то Москва или Петербург. Небольшие различия заметны в начале недели, по понедельникам:\n",
    "* в Москве слушают музыку жанра “world”,\n",
    "* в Петербурге — джаз и классику.\n",
    "\n",
    "Таким образом, вторая гипотеза подтвердилась лишь отчасти. Этот результат мог оказаться иным, если бы не пропуски в данных.\n",
    "\n",
    "3. Во вкусах пользователей Москвы и Петербурга больше общего чем различий. Вопреки ожиданиям, предпочтения жанров в Петербурге напоминают московские.\n",
    "\n",
    "Третья гипотеза не подтвердилась. Если различия в предпочтениях и существуют, на основной массе пользователей они незаметны.\n",
    "\n",
    "**На практике исследования содержат проверки статистических гипотез.**\n",
    "Из данных одного сервиса не всегда можно сделать вывод о всех жителях города.\n",
    "Проверки статистических гипотез покажут, насколько они достоверны, исходя из имеющихся данных. \n",
    "С методами проверок гипотез вы ещё познакомитесь в следующих темах."
   ]
  },
 
  {
   "cell_type": "code",
   "execution_count": null,
   "metadata": {},
   "outputs": [],
   "source": []
  }
 ],
 "metadata": {
  "ExecuteTimeLog": [
   {
    "duration": 3,
    "start_time": "2021-12-01T20:37:08.851Z"
   },
   {
    "duration": 2,
    "start_time": "2021-12-01T20:37:12.286Z"
   },
   {
    "duration": 2,
    "start_time": "2021-12-01T20:37:13.708Z"
   },
   {
    "duration": 2,
    "start_time": "2021-12-01T20:37:14.622Z"
   },
   {
    "duration": 502,
    "start_time": "2021-12-01T20:46:53.649Z"
   },
   {
    "duration": 228,
    "start_time": "2021-12-01T20:48:05.598Z"
   },
   {
    "duration": 2,
    "start_time": "2021-12-01T20:48:19.130Z"
   },
   {
    "duration": 3,
    "start_time": "2021-12-01T20:48:23.467Z"
   },
   {
    "duration": 3,
    "start_time": "2021-12-01T20:48:27.119Z"
   },
   {
    "duration": 2,
    "start_time": "2021-12-01T20:48:30.458Z"
   },
   {
    "duration": 129,
    "start_time": "2021-12-01T20:49:04.857Z"
   },
   {
    "duration": 141,
    "start_time": "2021-12-01T20:49:07.403Z"
   },
   {
    "duration": 144,
    "start_time": "2021-12-01T20:49:09.239Z"
   },
   {
    "duration": 138,
    "start_time": "2021-12-01T20:49:14.008Z"
   },
   {
    "duration": 142,
    "start_time": "2021-12-01T20:49:16.267Z"
   },
   {
    "duration": 140,
    "start_time": "2021-12-01T20:49:23.802Z"
   },
   {
    "duration": 18,
    "start_time": "2021-12-01T20:50:02.856Z"
   },
   {
    "duration": 25,
    "start_time": "2021-12-01T20:50:25.724Z"
   },
   {
    "duration": 143,
    "start_time": "2021-12-01T20:50:32.611Z"
   },
   {
    "duration": 121,
    "start_time": "2021-12-01T20:50:33.389Z"
   },
   {
    "duration": 147,
    "start_time": "2021-12-01T20:50:34.654Z"
   },
   {
    "duration": 3,
    "start_time": "2021-12-01T20:50:35.592Z"
   },
   {
    "duration": 6,
    "start_time": "2021-12-01T21:11:44.633Z"
   },
   {
    "duration": 4,
    "start_time": "2021-12-01T21:17:11.506Z"
   },
   {
    "duration": 89,
    "start_time": "2021-12-01T21:17:19.190Z"
   },
   {
    "duration": 15,
    "start_time": "2021-12-01T21:17:30.156Z"
   },
   {
    "duration": 13,
    "start_time": "2021-12-01T21:17:31.389Z"
   },
   {
    "duration": 4,
    "start_time": "2021-12-01T21:17:35.344Z"
   },
   {
    "duration": 31,
    "start_time": "2021-12-01T21:18:11.488Z"
   },
   {
    "duration": 25,
    "start_time": "2021-12-01T21:18:36.401Z"
   },
   {
    "duration": 25,
    "start_time": "2021-12-01T21:19:06.500Z"
   },
   {
    "duration": 24,
    "start_time": "2021-12-01T21:22:55.519Z"
   },
   {
    "duration": 177,
    "start_time": "2021-12-01T21:27:56.050Z"
   },
   {
    "duration": 177,
    "start_time": "2021-12-01T21:32:43.931Z"
   },
   {
    "duration": 167,
    "start_time": "2021-12-01T21:33:11.120Z"
   },
   {
    "duration": 169,
    "start_time": "2021-12-01T21:33:40.255Z"
   },
   {
    "duration": 173,
    "start_time": "2021-12-01T21:34:15.523Z"
   },
   {
    "duration": 179,
    "start_time": "2021-12-01T21:34:30.049Z"
   },
   {
    "duration": 171,
    "start_time": "2021-12-01T21:34:56.218Z"
   },
   {
    "duration": 24,
    "start_time": "2021-12-01T21:35:22.340Z"
   },
   {
    "duration": 446,
    "start_time": "2021-12-02T19:19:41.292Z"
   },
   {
    "duration": 747,
    "start_time": "2021-12-02T19:20:34.118Z"
   },
   {
    "duration": 441,
    "start_time": "2021-12-02T19:20:49.950Z"
   },
   {
    "duration": 381,
    "start_time": "2021-12-02T19:21:10.116Z"
   },
   {
    "duration": 777,
    "start_time": "2021-12-02T19:21:15.389Z"
   },
   {
    "duration": 4,
    "start_time": "2021-12-02T19:21:21.908Z"
   },
   {
    "duration": 5,
    "start_time": "2021-12-02T19:22:02.101Z"
   },
   {
    "duration": 179,
    "start_time": "2021-12-02T19:22:04.635Z"
   },
   {
    "duration": 25,
    "start_time": "2021-12-02T19:22:09.070Z"
   },
   {
    "duration": 31,
    "start_time": "2021-12-02T19:22:12.557Z"
   },
   {
    "duration": 6,
    "start_time": "2021-12-02T19:22:16.566Z"
   },
   {
    "duration": 27,
    "start_time": "2021-12-02T19:22:20.296Z"
   },
   {
    "duration": 5,
    "start_time": "2021-12-02T19:22:23.257Z"
   },
   {
    "duration": 30,
    "start_time": "2021-12-02T19:22:25.734Z"
   },
   {
    "duration": 22,
    "start_time": "2021-12-02T19:22:28.963Z"
   },
   {
    "duration": 32,
    "start_time": "2021-12-02T19:22:31.761Z"
   },
   {
    "duration": 777,
    "start_time": "2021-12-02T19:23:06.748Z"
   },
   {
    "duration": 732,
    "start_time": "2021-12-02T19:23:32.115Z"
   },
   {
    "duration": 178,
    "start_time": "2021-12-02T19:23:32.850Z"
   },
   {
    "duration": 30,
    "start_time": "2021-12-02T19:23:33.031Z"
   },
   {
    "duration": 37,
    "start_time": "2021-12-02T19:23:33.064Z"
   },
   {
    "duration": 5,
    "start_time": "2021-12-02T19:23:33.103Z"
   },
   {
    "duration": 58,
    "start_time": "2021-12-02T19:23:33.110Z"
   },
   {
    "duration": 5,
    "start_time": "2021-12-02T19:23:33.170Z"
   },
   {
    "duration": 29,
    "start_time": "2021-12-02T19:23:33.179Z"
   },
   {
    "duration": 51,
    "start_time": "2021-12-02T19:23:33.211Z"
   },
   {
    "duration": 30,
    "start_time": "2021-12-02T19:23:33.264Z"
   },
   {
    "duration": 3,
    "start_time": "2021-12-02T19:23:33.296Z"
   },
   {
    "duration": 6,
    "start_time": "2021-12-02T19:23:33.301Z"
   },
   {
    "duration": 6,
    "start_time": "2021-12-02T19:23:33.310Z"
   },
   {
    "duration": 12,
    "start_time": "2021-12-02T19:23:33.318Z"
   },
   {
    "duration": 29,
    "start_time": "2021-12-02T19:23:33.332Z"
   },
   {
    "duration": 9,
    "start_time": "2021-12-02T19:23:33.363Z"
   },
   {
    "duration": 12,
    "start_time": "2021-12-02T19:23:33.374Z"
   },
   {
    "duration": 5,
    "start_time": "2021-12-02T19:23:33.388Z"
   },
   {
    "duration": 5,
    "start_time": "2021-12-02T19:23:33.396Z"
   },
   {
    "duration": 5,
    "start_time": "2021-12-02T19:23:33.404Z"
   },
   {
    "duration": 8,
    "start_time": "2021-12-02T19:23:33.412Z"
   },
   {
    "duration": 5,
    "start_time": "2021-12-02T19:23:33.422Z"
   },
   {
    "duration": 28,
    "start_time": "2021-12-02T19:23:33.432Z"
   },
   {
    "duration": 5,
    "start_time": "2021-12-02T19:23:33.463Z"
   },
   {
    "duration": 6,
    "start_time": "2021-12-02T19:23:33.471Z"
   },
   {
    "duration": 12,
    "start_time": "2021-12-02T19:23:33.480Z"
   },
   {
    "duration": 7,
    "start_time": "2021-12-02T19:23:33.494Z"
   },
   {
    "duration": 8,
    "start_time": "2021-12-02T19:23:33.503Z"
   },
   {
    "duration": 12,
    "start_time": "2021-12-02T19:23:33.514Z"
   },
   {
    "duration": 6,
    "start_time": "2021-12-02T19:23:33.529Z"
   },
   {
    "duration": 3,
    "start_time": "2021-12-02T19:23:33.559Z"
   },
   {
    "duration": 7,
    "start_time": "2021-12-02T19:23:33.564Z"
   },
   {
    "duration": 10,
    "start_time": "2021-12-02T19:23:33.573Z"
   },
   {
    "duration": 6,
    "start_time": "2021-12-02T19:23:33.585Z"
   },
   {
    "duration": 6,
    "start_time": "2021-12-02T19:23:33.593Z"
   },
   {
    "duration": 5,
    "start_time": "2021-12-02T19:23:33.601Z"
   },
   {
    "duration": 8,
    "start_time": "2021-12-02T19:23:33.608Z"
   },
   {
    "duration": 5,
    "start_time": "2021-12-02T19:23:33.618Z"
   },
   {
    "duration": 775,
    "start_time": "2021-12-02T19:28:37.277Z"
   },
   {
    "duration": 176,
    "start_time": "2021-12-02T19:28:38.054Z"
   },
   {
    "duration": 28,
    "start_time": "2021-12-02T19:28:38.233Z"
   },
   {
    "duration": 34,
    "start_time": "2021-12-02T19:28:38.263Z"
   },
   {
    "duration": 5,
    "start_time": "2021-12-02T19:28:38.299Z"
   },
   {
    "duration": 54,
    "start_time": "2021-12-02T19:28:38.306Z"
   },
   {
    "duration": 6,
    "start_time": "2021-12-02T19:28:38.362Z"
   },
   {
    "duration": 31,
    "start_time": "2021-12-02T19:28:38.371Z"
   },
   {
    "duration": 54,
    "start_time": "2021-12-02T19:28:38.406Z"
   },
   {
    "duration": 34,
    "start_time": "2021-12-02T19:28:38.463Z"
   },
   {
    "duration": 105,
    "start_time": "2021-12-02T19:28:38.500Z"
   },
   {
    "duration": 3,
    "start_time": "2021-12-02T19:28:38.608Z"
   },
   {
    "duration": 6,
    "start_time": "2021-12-02T19:28:38.613Z"
   },
   {
    "duration": 5,
    "start_time": "2021-12-02T19:28:38.622Z"
   },
   {
    "duration": 4,
    "start_time": "2021-12-02T19:28:38.630Z"
   },
   {
    "duration": 2,
    "start_time": "2021-12-02T19:28:38.660Z"
   },
   {
    "duration": 6,
    "start_time": "2021-12-02T19:28:38.664Z"
   },
   {
    "duration": 6,
    "start_time": "2021-12-02T19:28:38.672Z"
   },
   {
    "duration": 6,
    "start_time": "2021-12-02T19:28:38.681Z"
   },
   {
    "duration": 5,
    "start_time": "2021-12-02T19:28:38.689Z"
   },
   {
    "duration": 8,
    "start_time": "2021-12-02T19:28:38.697Z"
   },
   {
    "duration": 6,
    "start_time": "2021-12-02T19:28:38.707Z"
   },
   {
    "duration": 5,
    "start_time": "2021-12-02T19:28:38.717Z"
   },
   {
    "duration": 6,
    "start_time": "2021-12-02T19:28:38.758Z"
   },
   {
    "duration": 6,
    "start_time": "2021-12-02T19:28:38.767Z"
   },
   {
    "duration": 7,
    "start_time": "2021-12-02T19:28:38.775Z"
   },
   {
    "duration": 7,
    "start_time": "2021-12-02T19:28:38.784Z"
   },
   {
    "duration": 5,
    "start_time": "2021-12-02T19:28:38.793Z"
   },
   {
    "duration": 4,
    "start_time": "2021-12-02T19:28:38.801Z"
   },
   {
    "duration": 8,
    "start_time": "2021-12-02T19:28:38.807Z"
   },
   {
    "duration": 10,
    "start_time": "2021-12-02T19:28:38.817Z"
   },
   {
    "duration": 4,
    "start_time": "2021-12-02T19:28:38.859Z"
   },
   {
    "duration": 7,
    "start_time": "2021-12-02T19:28:38.865Z"
   },
   {
    "duration": 5,
    "start_time": "2021-12-02T19:28:38.875Z"
   },
   {
    "duration": 7,
    "start_time": "2021-12-02T19:28:38.882Z"
   },
   {
    "duration": 6,
    "start_time": "2021-12-02T19:28:38.891Z"
   },
   {
    "duration": 7,
    "start_time": "2021-12-02T19:28:38.900Z"
   },
   {
    "duration": 8,
    "start_time": "2021-12-02T19:28:38.909Z"
   },
   {
    "duration": 811,
    "start_time": "2021-12-02T19:30:19.133Z"
   },
   {
    "duration": 186,
    "start_time": "2021-12-02T19:30:19.947Z"
   },
   {
    "duration": 30,
    "start_time": "2021-12-02T19:30:20.135Z"
   },
   {
    "duration": 34,
    "start_time": "2021-12-02T19:30:20.168Z"
   },
   {
    "duration": 5,
    "start_time": "2021-12-02T19:30:20.204Z"
   },
   {
    "duration": 58,
    "start_time": "2021-12-02T19:30:20.212Z"
   },
   {
    "duration": 5,
    "start_time": "2021-12-02T19:30:20.273Z"
   },
   {
    "duration": 28,
    "start_time": "2021-12-02T19:30:20.282Z"
   },
   {
    "duration": 56,
    "start_time": "2021-12-02T19:30:20.314Z"
   },
   {
    "duration": 30,
    "start_time": "2021-12-02T19:30:20.372Z"
   },
   {
    "duration": 99,
    "start_time": "2021-12-02T19:30:20.405Z"
   },
   {
    "duration": 109,
    "start_time": "2021-12-02T19:30:20.507Z"
   },
   {
    "duration": 89,
    "start_time": "2021-12-02T19:30:20.619Z"
   },
   {
    "duration": 3,
    "start_time": "2021-12-02T19:30:20.711Z"
   },
   {
    "duration": 5,
    "start_time": "2021-12-02T19:30:20.717Z"
   },
   {
    "duration": 5,
    "start_time": "2021-12-02T19:30:20.725Z"
   },
   {
    "duration": 26,
    "start_time": "2021-12-02T19:30:20.733Z"
   },
   {
    "duration": 6,
    "start_time": "2021-12-02T19:30:20.762Z"
   },
   {
    "duration": 6,
    "start_time": "2021-12-02T19:30:20.770Z"
   },
   {
    "duration": 9,
    "start_time": "2021-12-02T19:30:20.778Z"
   },
   {
    "duration": 8,
    "start_time": "2021-12-02T19:30:20.789Z"
   },
   {
    "duration": 6,
    "start_time": "2021-12-02T19:30:20.799Z"
   },
   {
    "duration": 3,
    "start_time": "2021-12-02T19:30:20.812Z"
   },
   {
    "duration": 45,
    "start_time": "2021-12-02T19:30:20.818Z"
   },
   {
    "duration": 6,
    "start_time": "2021-12-02T19:30:20.866Z"
   },
   {
    "duration": 14,
    "start_time": "2021-12-02T19:30:20.875Z"
   },
   {
    "duration": 6,
    "start_time": "2021-12-02T19:30:20.891Z"
   },
   {
    "duration": 9,
    "start_time": "2021-12-02T19:30:20.899Z"
   },
   {
    "duration": 9,
    "start_time": "2021-12-02T19:30:20.910Z"
   },
   {
    "duration": 6,
    "start_time": "2021-12-02T19:30:20.921Z"
   },
   {
    "duration": 14,
    "start_time": "2021-12-02T19:30:20.929Z"
   },
   {
    "duration": 14,
    "start_time": "2021-12-02T19:30:20.945Z"
   },
   {
    "duration": 5,
    "start_time": "2021-12-02T19:30:20.962Z"
   },
   {
    "duration": 8,
    "start_time": "2021-12-02T19:30:20.970Z"
   },
   {
    "duration": 15,
    "start_time": "2021-12-02T19:30:20.981Z"
   },
   {
    "duration": 8,
    "start_time": "2021-12-02T19:30:20.998Z"
   },
   {
    "duration": 5,
    "start_time": "2021-12-02T19:30:21.009Z"
   },
   {
    "duration": 6,
    "start_time": "2021-12-02T19:30:21.017Z"
   },
   {
    "duration": 8,
    "start_time": "2021-12-02T19:33:58.219Z"
   },
   {
    "duration": 9,
    "start_time": "2021-12-02T19:34:11.606Z"
   },
   {
    "duration": 57,
    "start_time": "2021-12-02T19:35:28.691Z"
   },
   {
    "duration": 819,
    "start_time": "2021-12-02T19:44:55.199Z"
   },
   {
    "duration": 204,
    "start_time": "2021-12-02T19:44:56.021Z"
   },
   {
    "duration": 37,
    "start_time": "2021-12-02T19:44:56.228Z"
   },
   {
    "duration": 36,
    "start_time": "2021-12-02T19:44:56.269Z"
   },
   {
    "duration": 7,
    "start_time": "2021-12-02T19:44:56.309Z"
   },
   {
    "duration": 67,
    "start_time": "2021-12-02T19:44:56.319Z"
   },
   {
    "duration": 5,
    "start_time": "2021-12-02T19:44:56.389Z"
   },
   {
    "duration": 33,
    "start_time": "2021-12-02T19:44:56.398Z"
   },
   {
    "duration": 22,
    "start_time": "2021-12-02T19:44:56.460Z"
   },
   {
    "duration": 30,
    "start_time": "2021-12-02T19:44:56.485Z"
   },
   {
    "duration": 112,
    "start_time": "2021-12-02T19:44:56.518Z"
   },
   {
    "duration": 111,
    "start_time": "2021-12-02T19:44:56.632Z"
   },
   {
    "duration": 89,
    "start_time": "2021-12-02T19:44:56.746Z"
   },
   {
    "duration": 69,
    "start_time": "2021-12-02T19:44:56.838Z"
   },
   {
    "duration": 145,
    "start_time": "2021-12-02T19:44:56.910Z"
   },
   {
    "duration": 1873,
    "start_time": "2021-12-02T19:44:55.186Z"
   },
   {
    "duration": 1869,
    "start_time": "2021-12-02T19:44:55.192Z"
   },
   {
    "duration": 1864,
    "start_time": "2021-12-02T19:44:55.199Z"
   },
   {
    "duration": 1861,
    "start_time": "2021-12-02T19:44:55.204Z"
   },
   {
    "duration": 1858,
    "start_time": "2021-12-02T19:44:55.209Z"
   },
   {
    "duration": 1854,
    "start_time": "2021-12-02T19:44:55.215Z"
   },
   {
    "duration": 1851,
    "start_time": "2021-12-02T19:44:55.220Z"
   },
   {
    "duration": 1847,
    "start_time": "2021-12-02T19:44:55.226Z"
   },
   {
    "duration": 1846,
    "start_time": "2021-12-02T19:44:55.229Z"
   },
   {
    "duration": 1845,
    "start_time": "2021-12-02T19:44:55.232Z"
   },
   {
    "duration": 1844,
    "start_time": "2021-12-02T19:44:55.235Z"
   },
   {
    "duration": 1844,
    "start_time": "2021-12-02T19:44:55.238Z"
   },
   {
    "duration": 1836,
    "start_time": "2021-12-02T19:44:55.248Z"
   },
   {
    "duration": 1834,
    "start_time": "2021-12-02T19:44:55.252Z"
   },
   {
    "duration": 1833,
    "start_time": "2021-12-02T19:44:55.255Z"
   },
   {
    "duration": 1832,
    "start_time": "2021-12-02T19:44:55.258Z"
   },
   {
    "duration": 1832,
    "start_time": "2021-12-02T19:44:55.260Z"
   },
   {
    "duration": 1825,
    "start_time": "2021-12-02T19:44:55.269Z"
   },
   {
    "duration": 1824,
    "start_time": "2021-12-02T19:44:55.272Z"
   },
   {
    "duration": 1823,
    "start_time": "2021-12-02T19:44:55.275Z"
   },
   {
    "duration": 1823,
    "start_time": "2021-12-02T19:44:55.277Z"
   },
   {
    "duration": 1821,
    "start_time": "2021-12-02T19:44:55.281Z"
   },
   {
    "duration": 1876,
    "start_time": "2021-12-02T19:44:55.284Z"
   },
   {
    "duration": 881,
    "start_time": "2021-12-02T19:45:41.048Z"
   },
   {
    "duration": 186,
    "start_time": "2021-12-02T19:45:41.932Z"
   },
   {
    "duration": 40,
    "start_time": "2021-12-02T19:45:42.121Z"
   },
   {
    "duration": 33,
    "start_time": "2021-12-02T19:45:42.164Z"
   },
   {
    "duration": 6,
    "start_time": "2021-12-02T19:45:42.199Z"
   },
   {
    "duration": 57,
    "start_time": "2021-12-02T19:45:42.207Z"
   },
   {
    "duration": 5,
    "start_time": "2021-12-02T19:45:42.266Z"
   },
   {
    "duration": 30,
    "start_time": "2021-12-02T19:45:42.275Z"
   },
   {
    "duration": 50,
    "start_time": "2021-12-02T19:45:42.309Z"
   },
   {
    "duration": 31,
    "start_time": "2021-12-02T19:45:42.362Z"
   },
   {
    "duration": 106,
    "start_time": "2021-12-02T19:45:42.396Z"
   },
   {
    "duration": 111,
    "start_time": "2021-12-02T19:45:42.504Z"
   },
   {
    "duration": 89,
    "start_time": "2021-12-02T19:45:42.618Z"
   },
   {
    "duration": 65,
    "start_time": "2021-12-02T19:45:42.710Z"
   },
   {
    "duration": 5,
    "start_time": "2021-12-02T19:45:42.777Z"
   },
   {
    "duration": 9,
    "start_time": "2021-12-02T19:45:42.784Z"
   },
   {
    "duration": 83,
    "start_time": "2021-12-02T19:45:42.795Z"
   },
   {
    "duration": 3,
    "start_time": "2021-12-02T19:45:42.880Z"
   },
   {
    "duration": 6,
    "start_time": "2021-12-02T19:45:42.886Z"
   },
   {
    "duration": 4,
    "start_time": "2021-12-02T19:45:42.895Z"
   },
   {
    "duration": 7,
    "start_time": "2021-12-02T19:45:42.902Z"
   },
   {
    "duration": 5,
    "start_time": "2021-12-02T19:45:42.911Z"
   },
   {
    "duration": 3,
    "start_time": "2021-12-02T19:45:42.960Z"
   },
   {
    "duration": 8,
    "start_time": "2021-12-02T19:45:42.966Z"
   },
   {
    "duration": 6,
    "start_time": "2021-12-02T19:45:42.976Z"
   },
   {
    "duration": 9,
    "start_time": "2021-12-02T19:45:42.984Z"
   },
   {
    "duration": 5,
    "start_time": "2021-12-02T19:45:42.995Z"
   },
   {
    "duration": 7,
    "start_time": "2021-12-02T19:45:43.003Z"
   },
   {
    "duration": 7,
    "start_time": "2021-12-02T19:45:43.013Z"
   },
   {
    "duration": 36,
    "start_time": "2021-12-02T19:45:43.023Z"
   },
   {
    "duration": 10,
    "start_time": "2021-12-02T19:45:43.062Z"
   },
   {
    "duration": 6,
    "start_time": "2021-12-02T19:45:43.075Z"
   },
   {
    "duration": 22,
    "start_time": "2021-12-02T19:45:43.083Z"
   },
   {
    "duration": 11,
    "start_time": "2021-12-02T19:45:43.108Z"
   },
   {
    "duration": 13,
    "start_time": "2021-12-02T19:45:43.123Z"
   },
   {
    "duration": 5,
    "start_time": "2021-12-02T19:45:43.139Z"
   },
   {
    "duration": 13,
    "start_time": "2021-12-02T19:45:43.147Z"
   },
   {
    "duration": 5,
    "start_time": "2021-12-02T19:45:43.163Z"
   },
   {
    "duration": 981,
    "start_time": "2021-12-02T19:46:33.784Z"
   },
   {
    "duration": 207,
    "start_time": "2021-12-02T19:46:34.768Z"
   },
   {
    "duration": 35,
    "start_time": "2021-12-02T19:46:34.979Z"
   },
   {
    "duration": 55,
    "start_time": "2021-12-02T19:46:35.017Z"
   },
   {
    "duration": 6,
    "start_time": "2021-12-02T19:46:35.074Z"
   },
   {
    "duration": 41,
    "start_time": "2021-12-02T19:46:35.083Z"
   },
   {
    "duration": 7,
    "start_time": "2021-12-02T19:46:35.126Z"
   },
   {
    "duration": 33,
    "start_time": "2021-12-02T19:46:35.175Z"
   },
   {
    "duration": 31,
    "start_time": "2021-12-02T19:46:35.212Z"
   },
   {
    "duration": 36,
    "start_time": "2021-12-02T19:46:35.259Z"
   },
   {
    "duration": 124,
    "start_time": "2021-12-02T19:46:35.297Z"
   },
   {
    "duration": 122,
    "start_time": "2021-12-02T19:46:35.423Z"
   },
   {
    "duration": 107,
    "start_time": "2021-12-02T19:46:35.548Z"
   },
   {
    "duration": 58,
    "start_time": "2021-12-02T19:46:35.658Z"
   },
   {
    "duration": 4,
    "start_time": "2021-12-02T19:46:35.718Z"
   },
   {
    "duration": 35,
    "start_time": "2021-12-02T19:46:35.724Z"
   },
   {
    "duration": 57,
    "start_time": "2021-12-02T19:46:35.762Z"
   },
   {
    "duration": 3,
    "start_time": "2021-12-02T19:46:35.821Z"
   },
   {
    "duration": 6,
    "start_time": "2021-12-02T19:46:35.826Z"
   },
   {
    "duration": 30,
    "start_time": "2021-12-02T19:46:35.834Z"
   },
   {
    "duration": 8,
    "start_time": "2021-12-02T19:46:35.866Z"
   },
   {
    "duration": 6,
    "start_time": "2021-12-02T19:46:35.877Z"
   },
   {
    "duration": 4,
    "start_time": "2021-12-02T19:46:35.887Z"
   },
   {
    "duration": 5,
    "start_time": "2021-12-02T19:46:35.893Z"
   },
   {
    "duration": 5,
    "start_time": "2021-12-02T19:46:35.901Z"
   },
   {
    "duration": 8,
    "start_time": "2021-12-02T19:46:35.908Z"
   },
   {
    "duration": 6,
    "start_time": "2021-12-02T19:46:35.918Z"
   },
   {
    "duration": 3,
    "start_time": "2021-12-02T19:46:35.959Z"
   },
   {
    "duration": 6,
    "start_time": "2021-12-02T19:46:35.964Z"
   },
   {
    "duration": 6,
    "start_time": "2021-12-02T19:46:35.972Z"
   },
   {
    "duration": 12,
    "start_time": "2021-12-02T19:46:35.980Z"
   },
   {
    "duration": 6,
    "start_time": "2021-12-02T19:46:35.994Z"
   },
   {
    "duration": 12,
    "start_time": "2021-12-02T19:46:36.002Z"
   },
   {
    "duration": 8,
    "start_time": "2021-12-02T19:46:36.017Z"
   },
   {
    "duration": 31,
    "start_time": "2021-12-02T19:46:36.028Z"
   },
   {
    "duration": 4,
    "start_time": "2021-12-02T19:46:36.062Z"
   },
   {
    "duration": 7,
    "start_time": "2021-12-02T19:46:36.069Z"
   },
   {
    "duration": 5,
    "start_time": "2021-12-02T19:46:36.079Z"
   },
   {
    "duration": 6,
    "start_time": "2021-12-02T19:50:53.596Z"
   },
   {
    "duration": 6,
    "start_time": "2021-12-02T19:51:04.353Z"
   },
   {
    "duration": 44,
    "start_time": "2021-12-02T19:51:54.059Z"
   },
   {
    "duration": 15,
    "start_time": "2021-12-02T19:53:13.926Z"
   },
   {
    "duration": 37,
    "start_time": "2021-12-02T19:54:30.104Z"
   },
   {
    "duration": 14,
    "start_time": "2021-12-02T20:02:13.114Z"
   },
   {
    "duration": 131,
    "start_time": "2021-12-02T20:03:16.733Z"
   },
   {
    "duration": 5,
    "start_time": "2021-12-02T20:08:47.195Z"
   },
   {
    "duration": 4,
    "start_time": "2021-12-02T20:08:54.532Z"
   },
   {
    "duration": 505,
    "start_time": "2021-12-02T20:09:32.893Z"
   },
   {
    "duration": 389,
    "start_time": "2021-12-02T20:11:52.950Z"
   },
   {
    "duration": 392,
    "start_time": "2021-12-02T20:12:47.603Z"
   },
   {
    "duration": 431,
    "start_time": "2021-12-02T20:27:04.851Z"
   },
   {
    "duration": 5,
    "start_time": "2021-12-02T20:27:10.590Z"
   },
   {
    "duration": 4,
    "start_time": "2021-12-02T20:27:13.404Z"
   },
   {
    "duration": 733,
    "start_time": "2021-12-02T20:27:23.505Z"
   },
   {
    "duration": 184,
    "start_time": "2021-12-02T20:27:24.241Z"
   },
   {
    "duration": 36,
    "start_time": "2021-12-02T20:27:24.429Z"
   },
   {
    "duration": 36,
    "start_time": "2021-12-02T20:27:24.468Z"
   },
   {
    "duration": 6,
    "start_time": "2021-12-02T20:27:24.507Z"
   },
   {
    "duration": 63,
    "start_time": "2021-12-02T20:27:24.516Z"
   },
   {
    "duration": 7,
    "start_time": "2021-12-02T20:27:24.582Z"
   },
   {
    "duration": 30,
    "start_time": "2021-12-02T20:27:24.593Z"
   },
   {
    "duration": 47,
    "start_time": "2021-12-02T20:27:24.626Z"
   },
   {
    "duration": 29,
    "start_time": "2021-12-02T20:27:24.675Z"
   },
   {
    "duration": 108,
    "start_time": "2021-12-02T20:27:24.706Z"
   },
   {
    "duration": 104,
    "start_time": "2021-12-02T20:27:24.816Z"
   },
   {
    "duration": 93,
    "start_time": "2021-12-02T20:27:24.923Z"
   },
   {
    "duration": 67,
    "start_time": "2021-12-02T20:27:25.019Z"
   },
   {
    "duration": 5,
    "start_time": "2021-12-02T20:27:25.089Z"
   },
   {
    "duration": 29,
    "start_time": "2021-12-02T20:27:25.097Z"
   },
   {
    "duration": 108,
    "start_time": "2021-12-02T20:27:25.129Z"
   },
   {
    "duration": 28,
    "start_time": "2021-12-02T20:27:25.240Z"
   },
   {
    "duration": 19,
    "start_time": "2021-12-02T20:27:25.271Z"
   },
   {
    "duration": 12,
    "start_time": "2021-12-02T20:27:25.293Z"
   },
   {
    "duration": 501,
    "start_time": "2021-12-02T20:27:25.308Z"
   },
   {
    "duration": 1924,
    "start_time": "2021-12-02T20:27:23.888Z"
   },
   {
    "duration": 1914,
    "start_time": "2021-12-02T20:27:23.900Z"
   },
   {
    "duration": 1907,
    "start_time": "2021-12-02T20:27:23.909Z"
   },
   {
    "duration": 1901,
    "start_time": "2021-12-02T20:27:23.916Z"
   },
   {
    "duration": 1896,
    "start_time": "2021-12-02T20:27:23.923Z"
   },
   {
    "duration": 1890,
    "start_time": "2021-12-02T20:27:23.930Z"
   },
   {
    "duration": 1885,
    "start_time": "2021-12-02T20:27:23.936Z"
   },
   {
    "duration": 1882,
    "start_time": "2021-12-02T20:27:23.941Z"
   },
   {
    "duration": 1881,
    "start_time": "2021-12-02T20:27:23.943Z"
   },
   {
    "duration": 1879,
    "start_time": "2021-12-02T20:27:23.946Z"
   },
   {
    "duration": 1873,
    "start_time": "2021-12-02T20:27:23.954Z"
   },
   {
    "duration": 1871,
    "start_time": "2021-12-02T20:27:23.957Z"
   },
   {
    "duration": 1869,
    "start_time": "2021-12-02T20:27:23.960Z"
   },
   {
    "duration": 1869,
    "start_time": "2021-12-02T20:27:23.962Z"
   },
   {
    "duration": 1867,
    "start_time": "2021-12-02T20:27:23.965Z"
   },
   {
    "duration": 1865,
    "start_time": "2021-12-02T20:27:23.968Z"
   },
   {
    "duration": 1865,
    "start_time": "2021-12-02T20:27:23.970Z"
   },
   {
    "duration": 840,
    "start_time": "2021-12-02T20:28:29.944Z"
   },
   {
    "duration": 4,
    "start_time": "2021-12-02T20:28:34.021Z"
   },
   {
    "duration": 5,
    "start_time": "2021-12-02T20:34:19.417Z"
   },
   {
    "duration": 397,
    "start_time": "2021-12-02T20:34:28.528Z"
   },
   {
    "duration": 395,
    "start_time": "2021-12-02T20:34:45.617Z"
   },
   {
    "duration": 549,
    "start_time": "2021-12-02T20:36:33.896Z"
   },
   {
    "duration": 530,
    "start_time": "2021-12-02T20:37:41.121Z"
   },
   {
    "duration": 17,
    "start_time": "2021-12-02T20:41:46.257Z"
   },
   {
    "duration": 15,
    "start_time": "2021-12-02T20:42:28.524Z"
   },
   {
    "duration": 15,
    "start_time": "2021-12-02T20:42:39.636Z"
   },
   {
    "duration": 16,
    "start_time": "2021-12-02T20:42:42.373Z"
   },
   {
    "duration": 18,
    "start_time": "2021-12-02T20:42:45.153Z"
   },
   {
    "duration": 6,
    "start_time": "2021-12-02T20:43:09.285Z"
   },
   {
    "duration": 46,
    "start_time": "2021-12-02T20:43:11.495Z"
   },
   {
    "duration": 25,
    "start_time": "2021-12-02T20:43:15.823Z"
   },
   {
    "duration": 30,
    "start_time": "2021-12-02T20:43:17.488Z"
   },
   {
    "duration": 25,
    "start_time": "2021-12-02T20:43:19.482Z"
   },
   {
    "duration": 32,
    "start_time": "2021-12-02T20:43:21.643Z"
   },
   {
    "duration": 26,
    "start_time": "2021-12-02T20:43:23.697Z"
   },
   {
    "duration": 990,
    "start_time": "2021-12-02T20:43:33.001Z"
   },
   {
    "duration": 248,
    "start_time": "2021-12-02T20:43:33.995Z"
   },
   {
    "duration": 36,
    "start_time": "2021-12-02T20:43:34.259Z"
   },
   {
    "duration": 63,
    "start_time": "2021-12-02T20:43:34.298Z"
   },
   {
    "duration": 7,
    "start_time": "2021-12-02T20:43:34.364Z"
   },
   {
    "duration": 34,
    "start_time": "2021-12-02T20:43:34.374Z"
   },
   {
    "duration": 7,
    "start_time": "2021-12-02T20:43:34.413Z"
   },
   {
    "duration": 31,
    "start_time": "2021-12-02T20:43:34.460Z"
   },
   {
    "duration": 24,
    "start_time": "2021-12-02T20:43:34.494Z"
   },
   {
    "duration": 51,
    "start_time": "2021-12-02T20:43:34.520Z"
   },
   {
    "duration": 96,
    "start_time": "2021-12-02T20:43:34.574Z"
   },
   {
    "duration": 125,
    "start_time": "2021-12-02T20:43:34.673Z"
   },
   {
    "duration": 90,
    "start_time": "2021-12-02T20:43:34.800Z"
   },
   {
    "duration": 68,
    "start_time": "2021-12-02T20:43:34.893Z"
   },
   {
    "duration": 4,
    "start_time": "2021-12-02T20:43:34.964Z"
   },
   {
    "duration": 18,
    "start_time": "2021-12-02T20:43:34.970Z"
   },
   {
    "duration": 80,
    "start_time": "2021-12-02T20:43:34.991Z"
   },
   {
    "duration": 14,
    "start_time": "2021-12-02T20:43:35.074Z"
   },
   {
    "duration": 13,
    "start_time": "2021-12-02T20:43:35.091Z"
   },
   {
    "duration": 4,
    "start_time": "2021-12-02T20:43:35.106Z"
   },
   {
    "duration": 67,
    "start_time": "2021-12-02T20:43:35.113Z"
   },
   {
    "duration": 27,
    "start_time": "2021-12-02T20:43:35.185Z"
   },
   {
    "duration": 54,
    "start_time": "2021-12-02T20:43:35.215Z"
   },
   {
    "duration": 23,
    "start_time": "2021-12-02T20:43:35.272Z"
   },
   {
    "duration": 29,
    "start_time": "2021-12-02T20:43:35.298Z"
   },
   {
    "duration": 50,
    "start_time": "2021-12-02T20:43:35.329Z"
   },
   {
    "duration": 3,
    "start_time": "2021-12-02T20:43:35.382Z"
   },
   {
    "duration": 6,
    "start_time": "2021-12-02T20:43:35.387Z"
   },
   {
    "duration": 6,
    "start_time": "2021-12-02T20:43:35.395Z"
   },
   {
    "duration": 9,
    "start_time": "2021-12-02T20:43:35.404Z"
   },
   {
    "duration": 13,
    "start_time": "2021-12-02T20:43:35.415Z"
   },
   {
    "duration": 30,
    "start_time": "2021-12-02T20:43:35.430Z"
   },
   {
    "duration": 14,
    "start_time": "2021-12-02T20:43:35.462Z"
   },
   {
    "duration": 15,
    "start_time": "2021-12-02T20:43:35.478Z"
   },
   {
    "duration": 12,
    "start_time": "2021-12-02T20:43:35.495Z"
   },
   {
    "duration": 27,
    "start_time": "2021-12-02T20:43:35.509Z"
   },
   {
    "duration": 37,
    "start_time": "2021-12-02T20:43:35.538Z"
   },
   {
    "duration": 7,
    "start_time": "2021-12-02T20:43:35.577Z"
   },
   {
    "duration": 25,
    "start_time": "2021-12-02T20:44:26.685Z"
   },
   {
    "duration": 25,
    "start_time": "2021-12-02T20:44:28.597Z"
   },
   {
    "duration": 5,
    "start_time": "2021-12-02T20:45:42.131Z"
   },
   {
    "duration": 13,
    "start_time": "2021-12-02T20:45:44.652Z"
   },
   {
    "duration": 21,
    "start_time": "2021-12-02T20:46:04.481Z"
   },
   {
    "duration": 14,
    "start_time": "2021-12-02T20:46:06.846Z"
   },
   {
    "duration": 21,
    "start_time": "2021-12-02T20:46:09.306Z"
   },
   {
    "duration": 18,
    "start_time": "2021-12-02T20:46:11.508Z"
   },
   {
    "duration": 21,
    "start_time": "2021-12-02T20:46:13.290Z"
   },
   {
    "duration": 20,
    "start_time": "2021-12-02T20:46:15.353Z"
   },
   {
    "duration": 25,
    "start_time": "2021-12-02T20:46:23.077Z"
   },
   {
    "duration": 757,
    "start_time": "2021-12-02T20:47:36.808Z"
   },
   {
    "duration": 178,
    "start_time": "2021-12-02T20:47:37.568Z"
   },
   {
    "duration": 36,
    "start_time": "2021-12-02T20:47:37.749Z"
   },
   {
    "duration": 32,
    "start_time": "2021-12-02T20:47:37.788Z"
   },
   {
    "duration": 5,
    "start_time": "2021-12-02T20:47:37.823Z"
   },
   {
    "duration": 54,
    "start_time": "2021-12-02T20:47:37.830Z"
   },
   {
    "duration": 7,
    "start_time": "2021-12-02T20:47:37.886Z"
   },
   {
    "duration": 33,
    "start_time": "2021-12-02T20:47:37.896Z"
   },
   {
    "duration": 46,
    "start_time": "2021-12-02T20:47:37.932Z"
   },
   {
    "duration": 31,
    "start_time": "2021-12-02T20:47:37.980Z"
   },
   {
    "duration": 102,
    "start_time": "2021-12-02T20:47:38.014Z"
   },
   {
    "duration": 104,
    "start_time": "2021-12-02T20:47:38.119Z"
   },
   {
    "duration": 87,
    "start_time": "2021-12-02T20:47:38.225Z"
   },
   {
    "duration": 63,
    "start_time": "2021-12-02T20:47:38.315Z"
   },
   {
    "duration": 14,
    "start_time": "2021-12-02T20:47:38.380Z"
   },
   {
    "duration": 22,
    "start_time": "2021-12-02T20:47:38.397Z"
   },
   {
    "duration": 69,
    "start_time": "2021-12-02T20:47:38.421Z"
   },
   {
    "duration": 13,
    "start_time": "2021-12-02T20:47:38.492Z"
   },
   {
    "duration": 28,
    "start_time": "2021-12-02T20:47:38.507Z"
   },
   {
    "duration": 21,
    "start_time": "2021-12-02T20:47:38.537Z"
   },
   {
    "duration": 54,
    "start_time": "2021-12-02T20:47:38.560Z"
   },
   {
    "duration": 21,
    "start_time": "2021-12-02T20:47:38.617Z"
   },
   {
    "duration": 19,
    "start_time": "2021-12-02T20:47:38.643Z"
   },
   {
    "duration": 17,
    "start_time": "2021-12-02T20:47:38.665Z"
   },
   {
    "duration": 20,
    "start_time": "2021-12-02T20:47:38.684Z"
   },
   {
    "duration": 19,
    "start_time": "2021-12-02T20:47:38.706Z"
   },
   {
    "duration": 33,
    "start_time": "2021-12-02T20:47:38.727Z"
   },
   {
    "duration": 6,
    "start_time": "2021-12-02T20:47:38.762Z"
   },
   {
    "duration": 6,
    "start_time": "2021-12-02T20:47:38.770Z"
   },
   {
    "duration": 5,
    "start_time": "2021-12-02T20:47:38.779Z"
   },
   {
    "duration": 10,
    "start_time": "2021-12-02T20:47:38.786Z"
   },
   {
    "duration": 6,
    "start_time": "2021-12-02T20:47:38.798Z"
   },
   {
    "duration": 8,
    "start_time": "2021-12-02T20:47:38.806Z"
   },
   {
    "duration": 12,
    "start_time": "2021-12-02T20:47:38.816Z"
   },
   {
    "duration": 29,
    "start_time": "2021-12-02T20:47:38.830Z"
   },
   {
    "duration": 6,
    "start_time": "2021-12-02T20:47:38.862Z"
   },
   {
    "duration": 9,
    "start_time": "2021-12-02T20:47:38.871Z"
   },
   {
    "duration": 7,
    "start_time": "2021-12-02T20:47:38.882Z"
   },
   {
    "duration": 490,
    "start_time": "2021-12-02T20:54:03.121Z"
   },
   {
    "duration": 396,
    "start_time": "2021-12-02T20:55:58.691Z"
   },
   {
    "duration": 134,
    "start_time": "2021-12-02T20:58:46.347Z"
   },
   {
    "duration": 154,
    "start_time": "2021-12-02T20:59:12.899Z"
   },
   {
    "duration": 146,
    "start_time": "2021-12-02T20:59:32.151Z"
   },
   {
    "duration": 819,
    "start_time": "2021-12-02T20:59:40.127Z"
   },
   {
    "duration": 191,
    "start_time": "2021-12-02T20:59:40.948Z"
   },
   {
    "duration": 30,
    "start_time": "2021-12-02T20:59:41.142Z"
   },
   {
    "duration": 34,
    "start_time": "2021-12-02T20:59:41.174Z"
   },
   {
    "duration": 6,
    "start_time": "2021-12-02T20:59:41.211Z"
   },
   {
    "duration": 60,
    "start_time": "2021-12-02T20:59:41.219Z"
   },
   {
    "duration": 8,
    "start_time": "2021-12-02T20:59:41.281Z"
   },
   {
    "duration": 29,
    "start_time": "2021-12-02T20:59:41.293Z"
   },
   {
    "duration": 48,
    "start_time": "2021-12-02T20:59:41.326Z"
   },
   {
    "duration": 30,
    "start_time": "2021-12-02T20:59:41.376Z"
   },
   {
    "duration": 109,
    "start_time": "2021-12-02T20:59:41.409Z"
   },
   {
    "duration": 114,
    "start_time": "2021-12-02T20:59:41.521Z"
   },
   {
    "duration": 94,
    "start_time": "2021-12-02T20:59:41.637Z"
   },
   {
    "duration": 71,
    "start_time": "2021-12-02T20:59:41.734Z"
   },
   {
    "duration": 5,
    "start_time": "2021-12-02T20:59:41.808Z"
   },
   {
    "duration": 16,
    "start_time": "2021-12-02T20:59:41.815Z"
   },
   {
    "duration": 79,
    "start_time": "2021-12-02T20:59:41.833Z"
   },
   {
    "duration": 19,
    "start_time": "2021-12-02T20:59:41.915Z"
   },
   {
    "duration": 16,
    "start_time": "2021-12-02T20:59:41.960Z"
   },
   {
    "duration": 5,
    "start_time": "2021-12-02T20:59:41.978Z"
   },
   {
    "duration": 27,
    "start_time": "2021-12-02T20:59:41.985Z"
   },
   {
    "duration": 47,
    "start_time": "2021-12-02T20:59:42.014Z"
   },
   {
    "duration": 19,
    "start_time": "2021-12-02T20:59:42.066Z"
   },
   {
    "duration": 19,
    "start_time": "2021-12-02T20:59:42.088Z"
   },
   {
    "duration": 53,
    "start_time": "2021-12-02T20:59:42.110Z"
   },
   {
    "duration": 20,
    "start_time": "2021-12-02T20:59:42.165Z"
   },
   {
    "duration": 148,
    "start_time": "2021-12-02T20:59:42.187Z"
   },
   {
    "duration": 1949,
    "start_time": "2021-12-02T20:59:40.389Z"
   },
   {
    "duration": 1940,
    "start_time": "2021-12-02T20:59:40.399Z"
   },
   {
    "duration": 1935,
    "start_time": "2021-12-02T20:59:40.406Z"
   },
   {
    "duration": 1929,
    "start_time": "2021-12-02T20:59:40.413Z"
   },
   {
    "duration": 1924,
    "start_time": "2021-12-02T20:59:40.420Z"
   },
   {
    "duration": 1918,
    "start_time": "2021-12-02T20:59:40.427Z"
   },
   {
    "duration": 1913,
    "start_time": "2021-12-02T20:59:40.434Z"
   },
   {
    "duration": 1908,
    "start_time": "2021-12-02T20:59:40.441Z"
   },
   {
    "duration": 1904,
    "start_time": "2021-12-02T20:59:40.446Z"
   },
   {
    "duration": 1901,
    "start_time": "2021-12-02T20:59:40.451Z"
   },
   {
    "duration": 1897,
    "start_time": "2021-12-02T20:59:40.456Z"
   },
   {
    "duration": 610,
    "start_time": "2021-12-02T21:00:09.066Z"
   },
   {
    "duration": 531,
    "start_time": "2021-12-02T21:00:37.911Z"
   },
   {
    "duration": 477,
    "start_time": "2021-12-02T21:01:34.040Z"
   },
   {
    "duration": 516,
    "start_time": "2021-12-02T21:01:56.084Z"
   },
   {
    "duration": 600,
    "start_time": "2021-12-02T21:02:01.406Z"
   },
   {
    "duration": 492,
    "start_time": "2021-12-02T21:02:53.559Z"
   },
   {
    "duration": 411,
    "start_time": "2021-12-02T21:04:56.156Z"
   },
   {
    "duration": 12,
    "start_time": "2021-12-02T21:08:20.825Z"
   },
   {
    "duration": 868,
    "start_time": "2021-12-02T21:08:43.532Z"
   },
   {
    "duration": 181,
    "start_time": "2021-12-02T21:08:44.403Z"
   },
   {
    "duration": 27,
    "start_time": "2021-12-02T21:08:44.587Z"
   },
   {
    "duration": 56,
    "start_time": "2021-12-02T21:08:44.617Z"
   },
   {
    "duration": 5,
    "start_time": "2021-12-02T21:08:44.676Z"
   },
   {
    "duration": 33,
    "start_time": "2021-12-02T21:08:44.684Z"
   },
   {
    "duration": 14,
    "start_time": "2021-12-02T21:08:44.720Z"
   },
   {
    "duration": 48,
    "start_time": "2021-12-02T21:08:44.738Z"
   },
   {
    "duration": 24,
    "start_time": "2021-12-02T21:08:44.790Z"
   },
   {
    "duration": 52,
    "start_time": "2021-12-02T21:08:44.816Z"
   },
   {
    "duration": 97,
    "start_time": "2021-12-02T21:08:44.871Z"
   },
   {
    "duration": 118,
    "start_time": "2021-12-02T21:08:44.970Z"
   },
   {
    "duration": 93,
    "start_time": "2021-12-02T21:08:45.091Z"
   },
   {
    "duration": 56,
    "start_time": "2021-12-02T21:08:45.186Z"
   },
   {
    "duration": 17,
    "start_time": "2021-12-02T21:08:45.245Z"
   },
   {
    "duration": 16,
    "start_time": "2021-12-02T21:08:45.265Z"
   },
   {
    "duration": 91,
    "start_time": "2021-12-02T21:08:45.284Z"
   },
   {
    "duration": 13,
    "start_time": "2021-12-02T21:08:45.378Z"
   },
   {
    "duration": 14,
    "start_time": "2021-12-02T21:08:45.393Z"
   },
   {
    "duration": 4,
    "start_time": "2021-12-02T21:08:45.410Z"
   },
   {
    "duration": 61,
    "start_time": "2021-12-02T21:08:45.416Z"
   },
   {
    "duration": 20,
    "start_time": "2021-12-02T21:08:45.480Z"
   },
   {
    "duration": 23,
    "start_time": "2021-12-02T21:08:45.505Z"
   },
   {
    "duration": 44,
    "start_time": "2021-12-02T21:08:45.531Z"
   },
   {
    "duration": 22,
    "start_time": "2021-12-02T21:08:45.578Z"
   },
   {
    "duration": 20,
    "start_time": "2021-12-02T21:08:45.603Z"
   },
   {
    "duration": 41,
    "start_time": "2021-12-02T21:08:45.626Z"
   },
   {
    "duration": 8,
    "start_time": "2021-12-02T21:08:45.669Z"
   },
   {
    "duration": 13,
    "start_time": "2021-12-02T21:08:45.679Z"
   },
   {
    "duration": 10,
    "start_time": "2021-12-02T21:08:45.694Z"
   },
   {
    "duration": 18,
    "start_time": "2021-12-02T21:08:45.706Z"
   },
   {
    "duration": 8,
    "start_time": "2021-12-02T21:08:45.727Z"
   },
   {
    "duration": 14,
    "start_time": "2021-12-02T21:08:45.738Z"
   },
   {
    "duration": 12,
    "start_time": "2021-12-02T21:08:45.754Z"
   },
   {
    "duration": 11,
    "start_time": "2021-12-02T21:08:45.769Z"
   },
   {
    "duration": 13,
    "start_time": "2021-12-02T21:08:45.782Z"
   },
   {
    "duration": 9,
    "start_time": "2021-12-02T21:08:45.798Z"
   },
   {
    "duration": 5,
    "start_time": "2021-12-02T21:08:45.810Z"
   },
   {
    "duration": 5,
    "start_time": "2021-12-02T21:12:04.568Z"
   },
   {
    "duration": 33,
    "start_time": "2021-12-02T21:12:08.518Z"
   },
   {
    "duration": 62,
    "start_time": "2021-12-02T21:12:39.663Z"
   },
   {
    "duration": 30,
    "start_time": "2021-12-02T21:12:41.244Z"
   },
   {
    "duration": 4,
    "start_time": "2021-12-02T21:12:42.209Z"
   },
   {
    "duration": 22,
    "start_time": "2021-12-02T21:12:43.683Z"
   },
   {
    "duration": 19,
    "start_time": "2021-12-02T21:12:45.933Z"
   },
   {
    "duration": 20,
    "start_time": "2021-12-02T21:12:47.340Z"
   },
   {
    "duration": 749,
    "start_time": "2021-12-02T21:12:53.489Z"
   },
   {
    "duration": 189,
    "start_time": "2021-12-02T21:12:54.241Z"
   },
   {
    "duration": 37,
    "start_time": "2021-12-02T21:12:54.434Z"
   },
   {
    "duration": 35,
    "start_time": "2021-12-02T21:12:54.474Z"
   },
   {
    "duration": 7,
    "start_time": "2021-12-02T21:12:54.512Z"
   },
   {
    "duration": 60,
    "start_time": "2021-12-02T21:12:54.521Z"
   },
   {
    "duration": 9,
    "start_time": "2021-12-02T21:12:54.583Z"
   },
   {
    "duration": 31,
    "start_time": "2021-12-02T21:12:54.595Z"
   },
   {
    "duration": 45,
    "start_time": "2021-12-02T21:12:54.629Z"
   },
   {
    "duration": 30,
    "start_time": "2021-12-02T21:12:54.676Z"
   },
   {
    "duration": 100,
    "start_time": "2021-12-02T21:12:54.708Z"
   },
   {
    "duration": 115,
    "start_time": "2021-12-02T21:12:54.811Z"
   },
   {
    "duration": 86,
    "start_time": "2021-12-02T21:12:54.929Z"
   },
   {
    "duration": 71,
    "start_time": "2021-12-02T21:12:55.018Z"
   },
   {
    "duration": 4,
    "start_time": "2021-12-02T21:12:55.092Z"
   },
   {
    "duration": 17,
    "start_time": "2021-12-02T21:12:55.099Z"
   },
   {
    "duration": 80,
    "start_time": "2021-12-02T21:12:55.118Z"
   },
   {
    "duration": 13,
    "start_time": "2021-12-02T21:12:55.200Z"
   },
   {
    "duration": 13,
    "start_time": "2021-12-02T21:12:55.216Z"
   },
   {
    "duration": 29,
    "start_time": "2021-12-02T21:12:55.231Z"
   },
   {
    "duration": 27,
    "start_time": "2021-12-02T21:12:55.262Z"
   },
   {
    "duration": 18,
    "start_time": "2021-12-02T21:12:55.291Z"
   },
   {
    "duration": 46,
    "start_time": "2021-12-02T21:12:55.314Z"
   },
   {
    "duration": 20,
    "start_time": "2021-12-02T21:12:55.364Z"
   },
   {
    "duration": 22,
    "start_time": "2021-12-02T21:12:55.387Z"
   },
   {
    "duration": 58,
    "start_time": "2021-12-02T21:12:55.413Z"
   },
   {
    "duration": 13,
    "start_time": "2021-12-02T21:12:55.473Z"
   },
   {
    "duration": 22,
    "start_time": "2021-12-02T21:12:55.488Z"
   },
   {
    "duration": 3,
    "start_time": "2021-12-02T21:12:55.513Z"
   },
   {
    "duration": 10,
    "start_time": "2021-12-02T21:12:55.519Z"
   },
   {
    "duration": 27,
    "start_time": "2021-12-02T21:12:55.532Z"
   },
   {
    "duration": 4,
    "start_time": "2021-12-02T21:12:55.562Z"
   },
   {
    "duration": 8,
    "start_time": "2021-12-02T21:12:55.569Z"
   },
   {
    "duration": 5,
    "start_time": "2021-12-02T21:12:55.580Z"
   },
   {
    "duration": 5,
    "start_time": "2021-12-02T21:12:55.588Z"
   },
   {
    "duration": 475,
    "start_time": "2021-12-02T21:12:55.595Z"
   },
   {
    "duration": 1966,
    "start_time": "2021-12-02T21:12:54.106Z"
   },
   {
    "duration": 1960,
    "start_time": "2021-12-02T21:12:54.114Z"
   },
   {
    "duration": 18,
    "start_time": "2021-12-02T21:13:47.051Z"
   },
   {
    "duration": 14,
    "start_time": "2021-12-02T21:13:48.212Z"
   },
   {
    "duration": 6,
    "start_time": "2021-12-02T21:24:17.073Z"
   },
   {
    "duration": 46,
    "start_time": "2021-12-02T21:24:18.888Z"
   },
   {
    "duration": 25,
    "start_time": "2021-12-02T21:25:38.387Z"
   },
   {
    "duration": 40,
    "start_time": "2021-12-02T21:26:24.384Z"
   },
   {
    "duration": 24,
    "start_time": "2021-12-02T21:26:26.820Z"
   },
   {
    "duration": 724,
    "start_time": "2021-12-02T21:26:57.010Z"
   },
   {
    "duration": 183,
    "start_time": "2021-12-02T21:26:57.737Z"
   },
   {
    "duration": 38,
    "start_time": "2021-12-02T21:26:57.923Z"
   },
   {
    "duration": 32,
    "start_time": "2021-12-02T21:26:57.964Z"
   },
   {
    "duration": 5,
    "start_time": "2021-12-02T21:26:57.998Z"
   },
   {
    "duration": 53,
    "start_time": "2021-12-02T21:26:58.006Z"
   },
   {
    "duration": 9,
    "start_time": "2021-12-02T21:26:58.062Z"
   },
   {
    "duration": 33,
    "start_time": "2021-12-02T21:26:58.074Z"
   },
   {
    "duration": 55,
    "start_time": "2021-12-02T21:26:58.112Z"
   },
   {
    "duration": 31,
    "start_time": "2021-12-02T21:26:58.171Z"
   },
   {
    "duration": 107,
    "start_time": "2021-12-02T21:26:58.205Z"
   },
   {
    "duration": 110,
    "start_time": "2021-12-02T21:26:58.315Z"
   },
   {
    "duration": 88,
    "start_time": "2021-12-02T21:26:58.428Z"
   },
   {
    "duration": 66,
    "start_time": "2021-12-02T21:26:58.519Z"
   },
   {
    "duration": 4,
    "start_time": "2021-12-02T21:26:58.587Z"
   },
   {
    "duration": 15,
    "start_time": "2021-12-02T21:26:58.594Z"
   },
   {
    "duration": 85,
    "start_time": "2021-12-02T21:26:58.612Z"
   },
   {
    "duration": 19,
    "start_time": "2021-12-02T21:26:58.699Z"
   },
   {
    "duration": 40,
    "start_time": "2021-12-02T21:26:58.721Z"
   },
   {
    "duration": 6,
    "start_time": "2021-12-02T21:26:58.764Z"
   },
   {
    "duration": 29,
    "start_time": "2021-12-02T21:26:58.773Z"
   },
   {
    "duration": 55,
    "start_time": "2021-12-02T21:26:58.806Z"
   },
   {
    "duration": 31,
    "start_time": "2021-12-02T21:26:58.864Z"
   },
   {
    "duration": 31,
    "start_time": "2021-12-02T21:26:58.899Z"
   },
   {
    "duration": 49,
    "start_time": "2021-12-02T21:26:58.934Z"
   },
   {
    "duration": 21,
    "start_time": "2021-12-02T21:26:58.986Z"
   },
   {
    "duration": 46,
    "start_time": "2021-12-02T21:26:59.014Z"
   },
   {
    "duration": 18,
    "start_time": "2021-12-02T21:26:59.063Z"
   },
   {
    "duration": 14,
    "start_time": "2021-12-02T21:26:59.084Z"
   },
   {
    "duration": 7,
    "start_time": "2021-12-02T21:26:59.101Z"
   },
   {
    "duration": 78,
    "start_time": "2021-12-02T21:26:59.111Z"
   },
   {
    "duration": 22,
    "start_time": "2021-12-02T21:26:59.191Z"
   },
   {
    "duration": 76,
    "start_time": "2021-12-02T21:26:59.215Z"
   },
   {
    "duration": 28,
    "start_time": "2021-12-02T21:26:59.293Z"
   },
   {
    "duration": 2,
    "start_time": "2021-12-02T21:26:59.324Z"
   },
   {
    "duration": 5,
    "start_time": "2021-12-02T21:26:59.329Z"
   },
   {
    "duration": 3,
    "start_time": "2021-12-02T21:26:59.360Z"
   },
   {
    "duration": 7,
    "start_time": "2021-12-02T21:26:59.365Z"
   },
   {
    "duration": 5,
    "start_time": "2021-12-02T21:31:56.820Z"
   },
   {
    "duration": 22,
    "start_time": "2021-12-02T21:31:59.747Z"
   },
   {
    "duration": 19,
    "start_time": "2021-12-02T21:32:02.228Z"
   },
   {
    "duration": 20,
    "start_time": "2021-12-02T21:32:03.969Z"
   },
   {
    "duration": 739,
    "start_time": "2021-12-02T21:32:12.094Z"
   },
   {
    "duration": 174,
    "start_time": "2021-12-02T21:32:12.839Z"
   },
   {
    "duration": 27,
    "start_time": "2021-12-02T21:32:13.016Z"
   },
   {
    "duration": 46,
    "start_time": "2021-12-02T21:32:13.046Z"
   },
   {
    "duration": 5,
    "start_time": "2021-12-02T21:32:13.095Z"
   },
   {
    "duration": 58,
    "start_time": "2021-12-02T21:32:13.102Z"
   },
   {
    "duration": 6,
    "start_time": "2021-12-02T21:32:13.163Z"
   },
   {
    "duration": 30,
    "start_time": "2021-12-02T21:32:13.171Z"
   },
   {
    "duration": 21,
    "start_time": "2021-12-02T21:32:13.204Z"
   },
   {
    "duration": 58,
    "start_time": "2021-12-02T21:32:13.227Z"
   },
   {
    "duration": 94,
    "start_time": "2021-12-02T21:32:13.288Z"
   },
   {
    "duration": 111,
    "start_time": "2021-12-02T21:32:13.384Z"
   },
   {
    "duration": 88,
    "start_time": "2021-12-02T21:32:13.497Z"
   },
   {
    "duration": 59,
    "start_time": "2021-12-02T21:32:13.587Z"
   },
   {
    "duration": 4,
    "start_time": "2021-12-02T21:32:13.659Z"
   },
   {
    "duration": 18,
    "start_time": "2021-12-02T21:32:13.665Z"
   },
   {
    "duration": 76,
    "start_time": "2021-12-02T21:32:13.685Z"
   },
   {
    "duration": 13,
    "start_time": "2021-12-02T21:32:13.763Z"
   },
   {
    "duration": 12,
    "start_time": "2021-12-02T21:32:13.778Z"
   },
   {
    "duration": 10,
    "start_time": "2021-12-02T21:32:13.792Z"
   },
   {
    "duration": 27,
    "start_time": "2021-12-02T21:32:13.804Z"
   },
   {
    "duration": 20,
    "start_time": "2021-12-02T21:32:13.862Z"
   },
   {
    "duration": 19,
    "start_time": "2021-12-02T21:32:13.885Z"
   },
   {
    "duration": 19,
    "start_time": "2021-12-02T21:32:13.907Z"
   },
   {
    "duration": 31,
    "start_time": "2021-12-02T21:32:13.959Z"
   },
   {
    "duration": 20,
    "start_time": "2021-12-02T21:32:13.992Z"
   },
   {
    "duration": 12,
    "start_time": "2021-12-02T21:32:14.014Z"
   },
   {
    "duration": 19,
    "start_time": "2021-12-02T21:32:14.060Z"
   },
   {
    "duration": 21,
    "start_time": "2021-12-02T21:32:14.081Z"
   },
   {
    "duration": 8,
    "start_time": "2021-12-02T21:32:14.104Z"
   },
   {
    "duration": 75,
    "start_time": "2021-12-02T21:32:14.115Z"
   },
   {
    "duration": 24,
    "start_time": "2021-12-02T21:32:14.193Z"
   },
   {
    "duration": 60,
    "start_time": "2021-12-02T21:32:14.219Z"
   },
   {
    "duration": 25,
    "start_time": "2021-12-02T21:32:14.282Z"
   },
   {
    "duration": 3,
    "start_time": "2021-12-02T21:32:14.309Z"
   },
   {
    "duration": 10,
    "start_time": "2021-12-02T21:32:14.314Z"
   },
   {
    "duration": 9,
    "start_time": "2021-12-02T21:32:14.326Z"
   },
   {
    "duration": 3,
    "start_time": "2021-12-02T21:32:14.360Z"
   },
   {
    "duration": 1617,
    "start_time": "2021-12-02T21:35:04.663Z"
   },
   {
    "duration": 1904,
    "start_time": "2021-12-02T21:35:06.566Z"
   },
   {
    "duration": 436,
    "start_time": "2021-12-02T21:35:52.656Z"
   },
   {
    "duration": 16,
    "start_time": "2021-12-02T21:36:35.735Z"
   },
   {
    "duration": 6,
    "start_time": "2021-12-02T21:36:41.846Z"
   },
   {
    "duration": 10,
    "start_time": "2021-12-02T21:37:32.767Z"
   },
   {
    "duration": 11,
    "start_time": "2021-12-02T21:37:35.673Z"
   },
   {
    "duration": 7,
    "start_time": "2021-12-02T21:37:38.149Z"
   },
   {
    "duration": 9,
    "start_time": "2021-12-02T21:38:17.807Z"
   },
   {
    "duration": 6,
    "start_time": "2021-12-02T21:38:19.464Z"
   },
   {
    "duration": 824,
    "start_time": "2021-12-02T21:38:35.356Z"
   },
   {
    "duration": 188,
    "start_time": "2021-12-02T21:38:36.182Z"
   },
   {
    "duration": 27,
    "start_time": "2021-12-02T21:38:36.373Z"
   },
   {
    "duration": 56,
    "start_time": "2021-12-02T21:38:36.403Z"
   },
   {
    "duration": 6,
    "start_time": "2021-12-02T21:38:36.463Z"
   },
   {
    "duration": 31,
    "start_time": "2021-12-02T21:38:36.472Z"
   },
   {
    "duration": 10,
    "start_time": "2021-12-02T21:38:36.506Z"
   },
   {
    "duration": 66,
    "start_time": "2021-12-02T21:38:36.520Z"
   },
   {
    "duration": 23,
    "start_time": "2021-12-02T21:38:36.590Z"
   },
   {
    "duration": 49,
    "start_time": "2021-12-02T21:38:36.616Z"
   },
   {
    "duration": 98,
    "start_time": "2021-12-02T21:38:36.668Z"
   },
   {
    "duration": 117,
    "start_time": "2021-12-02T21:38:36.769Z"
   },
   {
    "duration": 92,
    "start_time": "2021-12-02T21:38:36.888Z"
   },
   {
    "duration": 57,
    "start_time": "2021-12-02T21:38:36.983Z"
   },
   {
    "duration": 5,
    "start_time": "2021-12-02T21:38:37.059Z"
   },
   {
    "duration": 17,
    "start_time": "2021-12-02T21:38:37.066Z"
   },
   {
    "duration": 74,
    "start_time": "2021-12-02T21:38:37.085Z"
   },
   {
    "duration": 14,
    "start_time": "2021-12-02T21:38:37.161Z"
   },
   {
    "duration": 14,
    "start_time": "2021-12-02T21:38:37.177Z"
   },
   {
    "duration": 5,
    "start_time": "2021-12-02T21:38:37.193Z"
   },
   {
    "duration": 28,
    "start_time": "2021-12-02T21:38:37.201Z"
   },
   {
    "duration": 22,
    "start_time": "2021-12-02T21:38:37.260Z"
   },
   {
    "duration": 20,
    "start_time": "2021-12-02T21:38:37.287Z"
   },
   {
    "duration": 52,
    "start_time": "2021-12-02T21:38:37.310Z"
   },
   {
    "duration": 22,
    "start_time": "2021-12-02T21:38:37.364Z"
   },
   {
    "duration": 19,
    "start_time": "2021-12-02T21:38:37.389Z"
   },
   {
    "duration": 11,
    "start_time": "2021-12-02T21:38:37.411Z"
   },
   {
    "duration": 17,
    "start_time": "2021-12-02T21:38:37.460Z"
   },
   {
    "duration": 14,
    "start_time": "2021-12-02T21:38:37.480Z"
   },
   {
    "duration": 6,
    "start_time": "2021-12-02T21:38:37.496Z"
   },
   {
    "duration": 76,
    "start_time": "2021-12-02T21:38:37.504Z"
   },
   {
    "duration": 24,
    "start_time": "2021-12-02T21:38:37.582Z"
   },
   {
    "duration": 62,
    "start_time": "2021-12-02T21:38:37.609Z"
   },
   {
    "duration": 27,
    "start_time": "2021-12-02T21:38:37.674Z"
   },
   {
    "duration": 13,
    "start_time": "2021-12-02T21:38:37.704Z"
   },
   {
    "duration": 40,
    "start_time": "2021-12-02T21:38:37.720Z"
   },
   {
    "duration": 12,
    "start_time": "2021-12-02T21:38:37.763Z"
   },
   {
    "duration": 7,
    "start_time": "2021-12-02T21:38:37.777Z"
   },
   {
    "duration": 31,
    "start_time": "2021-12-02T21:39:48.612Z"
   },
   {
    "duration": 791,
    "start_time": "2021-12-02T21:40:07.142Z"
   },
   {
    "duration": 183,
    "start_time": "2021-12-02T21:40:07.936Z"
   },
   {
    "duration": 27,
    "start_time": "2021-12-02T21:40:08.121Z"
   },
   {
    "duration": 35,
    "start_time": "2021-12-02T21:40:08.160Z"
   },
   {
    "duration": 12,
    "start_time": "2021-12-02T21:40:08.198Z"
   },
   {
    "duration": 58,
    "start_time": "2021-12-02T21:40:08.213Z"
   },
   {
    "duration": 6,
    "start_time": "2021-12-02T21:40:08.273Z"
   },
   {
    "duration": 32,
    "start_time": "2021-12-02T21:40:08.283Z"
   },
   {
    "duration": 51,
    "start_time": "2021-12-02T21:40:08.319Z"
   },
   {
    "duration": 31,
    "start_time": "2021-12-02T21:40:08.373Z"
   },
   {
    "duration": 103,
    "start_time": "2021-12-02T21:40:08.407Z"
   },
   {
    "duration": 117,
    "start_time": "2021-12-02T21:40:08.512Z"
   },
   {
    "duration": 97,
    "start_time": "2021-12-02T21:40:08.632Z"
   },
   {
    "duration": 61,
    "start_time": "2021-12-02T21:40:08.732Z"
   },
   {
    "duration": 5,
    "start_time": "2021-12-02T21:40:08.795Z"
   },
   {
    "duration": 15,
    "start_time": "2021-12-02T21:40:08.802Z"
   },
   {
    "duration": 83,
    "start_time": "2021-12-02T21:40:08.820Z"
   },
   {
    "duration": 16,
    "start_time": "2021-12-02T21:40:08.906Z"
   },
   {
    "duration": 36,
    "start_time": "2021-12-02T21:40:08.924Z"
   },
   {
    "duration": 4,
    "start_time": "2021-12-02T21:40:08.963Z"
   },
   {
    "duration": 27,
    "start_time": "2021-12-02T21:40:08.970Z"
   },
   {
    "duration": 22,
    "start_time": "2021-12-02T21:40:08.999Z"
   },
   {
    "duration": 23,
    "start_time": "2021-12-02T21:40:09.060Z"
   },
   {
    "duration": 24,
    "start_time": "2021-12-02T21:40:09.087Z"
   },
   {
    "duration": 58,
    "start_time": "2021-12-02T21:40:09.114Z"
   },
   {
    "duration": 23,
    "start_time": "2021-12-02T21:40:09.175Z"
   },
   {
    "duration": 13,
    "start_time": "2021-12-02T21:40:09.201Z"
   },
   {
    "duration": 52,
    "start_time": "2021-12-02T21:40:09.217Z"
   },
   {
    "duration": 15,
    "start_time": "2021-12-02T21:40:09.271Z"
   },
   {
    "duration": 6,
    "start_time": "2021-12-02T21:40:09.289Z"
   },
   {
    "duration": 68,
    "start_time": "2021-12-02T21:40:09.298Z"
   },
   {
    "duration": 26,
    "start_time": "2021-12-02T21:40:09.369Z"
   },
   {
    "duration": 84,
    "start_time": "2021-12-02T21:40:09.398Z"
   },
   {
    "duration": 34,
    "start_time": "2021-12-02T21:40:09.484Z"
   },
   {
    "duration": 12,
    "start_time": "2021-12-02T21:40:09.521Z"
   },
   {
    "duration": 25,
    "start_time": "2021-12-02T21:40:09.536Z"
   },
   {
    "duration": 12,
    "start_time": "2021-12-02T21:40:09.564Z"
   },
   {
    "duration": 7,
    "start_time": "2021-12-02T21:40:09.579Z"
   },
   {
    "duration": 597,
    "start_time": "2021-12-03T13:07:55.263Z"
   },
   {
    "duration": 127,
    "start_time": "2021-12-03T13:07:55.862Z"
   },
   {
    "duration": 15,
    "start_time": "2021-12-03T13:07:55.992Z"
   },
   {
    "duration": 25,
    "start_time": "2021-12-03T13:07:56.009Z"
   },
   {
    "duration": 6,
    "start_time": "2021-12-03T13:07:56.036Z"
   },
   {
    "duration": 28,
    "start_time": "2021-12-03T13:07:56.044Z"
   },
   {
    "duration": 19,
    "start_time": "2021-12-03T13:07:56.073Z"
   },
   {
    "duration": 23,
    "start_time": "2021-12-03T13:07:56.095Z"
   },
   {
    "duration": 15,
    "start_time": "2021-12-03T13:07:56.120Z"
   },
   {
    "duration": 22,
    "start_time": "2021-12-03T13:07:56.137Z"
   },
   {
    "duration": 69,
    "start_time": "2021-12-03T13:07:56.160Z"
   },
   {
    "duration": 68,
    "start_time": "2021-12-03T13:07:56.230Z"
   },
   {
    "duration": 47,
    "start_time": "2021-12-03T13:07:56.300Z"
   },
   {
    "duration": 46,
    "start_time": "2021-12-03T13:07:56.349Z"
   },
   {
    "duration": 3,
    "start_time": "2021-12-03T13:07:56.396Z"
   },
   {
    "duration": 12,
    "start_time": "2021-12-03T13:07:56.400Z"
   },
   {
    "duration": 37,
    "start_time": "2021-12-03T13:07:56.413Z"
   },
   {
    "duration": 9,
    "start_time": "2021-12-03T13:07:56.451Z"
   },
   {
    "duration": 32,
    "start_time": "2021-12-03T13:07:56.462Z"
   },
   {
    "duration": 3,
    "start_time": "2021-12-03T13:07:56.495Z"
   },
   {
    "duration": 17,
    "start_time": "2021-12-03T13:07:56.500Z"
   },
   {
    "duration": 11,
    "start_time": "2021-12-03T13:07:56.518Z"
   },
   {
    "duration": 12,
    "start_time": "2021-12-03T13:07:56.532Z"
   },
   {
    "duration": 11,
    "start_time": "2021-12-03T13:07:56.546Z"
   },
   {
    "duration": 43,
    "start_time": "2021-12-03T13:07:56.558Z"
   },
   {
    "duration": 12,
    "start_time": "2021-12-03T13:07:56.602Z"
   },
   {
    "duration": 7,
    "start_time": "2021-12-03T13:07:56.615Z"
   },
   {
    "duration": 11,
    "start_time": "2021-12-03T13:07:56.623Z"
   },
   {
    "duration": 8,
    "start_time": "2021-12-03T13:07:56.636Z"
   },
   {
    "duration": 3,
    "start_time": "2021-12-03T13:07:56.645Z"
   },
   {
    "duration": 56,
    "start_time": "2021-12-03T13:07:56.649Z"
   },
   {
    "duration": 15,
    "start_time": "2021-12-03T13:07:56.707Z"
   },
   {
    "duration": 30,
    "start_time": "2021-12-03T13:07:56.724Z"
   },
   {
    "duration": 42,
    "start_time": "2021-12-03T13:07:56.756Z"
   },
   {
    "duration": 9,
    "start_time": "2021-12-03T13:07:56.800Z"
   },
   {
    "duration": 5,
    "start_time": "2021-12-03T13:07:56.810Z"
   },
   {
    "duration": 7,
    "start_time": "2021-12-03T13:07:56.817Z"
   },
   {
    "duration": 5,
    "start_time": "2021-12-03T13:07:56.825Z"
   },
   {
    "duration": 14,
    "start_time": "2021-12-03T13:08:41.771Z"
   },
   {
    "duration": 37,
    "start_time": "2021-12-03T13:08:55.561Z"
   },
   {
    "duration": 36,
    "start_time": "2021-12-03T13:09:01.590Z"
   },
   {
    "duration": 10,
    "start_time": "2021-12-03T13:09:05.009Z"
   },
   {
    "duration": 10,
    "start_time": "2021-12-03T13:09:05.866Z"
   },
   {
    "duration": 15,
    "start_time": "2021-12-03T13:09:08.886Z"
   },
   {
    "duration": 13,
    "start_time": "2021-12-03T13:09:10.621Z"
   },
   {
    "duration": 15,
    "start_time": "2021-12-03T13:09:12.328Z"
   },
   {
    "duration": 11,
    "start_time": "2021-12-03T13:09:17.482Z"
   },
   {
    "duration": 9,
    "start_time": "2021-12-03T13:09:17.972Z"
   },
   {
    "duration": 25,
    "start_time": "2021-12-03T13:09:20.686Z"
   },
   {
    "duration": 15,
    "start_time": "2021-12-03T13:09:21.049Z"
   },
   {
    "duration": 25,
    "start_time": "2021-12-03T13:09:21.429Z"
   },
   {
    "duration": 7,
    "start_time": "2021-12-03T13:09:24.429Z"
   },
   {
    "duration": 6,
    "start_time": "2021-12-03T13:09:26.997Z"
   },
   {
    "duration": 5,
    "start_time": "2021-12-03T13:09:27.858Z"
   }
  ],
  "colab": {
   "collapsed_sections": [
    "E0vqbgi9ay0H",
    "VUC88oWjTJw2"
   ],
   "name": "yandex_music_project_2021.2.ipynb",
   "provenance": []
  },
  "kernelspec": {
   "display_name": "Python 3 (ipykernel)",
   "language": "python",
   "name": "python3"
  },
  "language_info": {
   "codemirror_mode": {
    "name": "ipython",
    "version": 3
   },
   "file_extension": ".py",
   "mimetype": "text/x-python",
   "name": "python",
   "nbconvert_exporter": "python",
   "pygments_lexer": "ipython3",
   "version": "3.9.5"
  },
  "toc": {
   "base_numbering": 1,
   "nav_menu": {},
   "number_sections": true,
   "sideBar": true,
   "skip_h1_title": true,
   "title_cell": "Table of Contents",
   "title_sidebar": "Contents",
   "toc_cell": false,
   "toc_position": {
    "height": "calc(100% - 180px)",
    "left": "10px",
    "top": "150px",
    "width": "280px"
   },
   "toc_section_display": true,
   "toc_window_display": false
  }
 },
 "nbformat": 4,
 "nbformat_minor": 1
}
